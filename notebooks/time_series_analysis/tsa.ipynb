{
 "cells": [
  {
   "cell_type": "code",
   "execution_count": null,
   "metadata": {},
   "outputs": [],
   "source": [
    "# Directories\n",
    "import os\n",
    "\n",
    "new_directory = r'c://Users//Fer//TESIS_ARCHIVOS//TESIS_AIRE//MP_Forecasting//mp_forecasting//notebooks'\n",
    "os.chdir(new_directory)\n",
    "\n",
    "# Data Manipulation\n",
    "import pandas as pd # for data manipulation\n",
    "import numpy as np # for data manipulation\n",
    "\n",
    "# Guardar resultados\n",
    "\n",
    "import pickle\n",
    "\n",
    "# Tiempo\n",
    "import datetime as dt\n",
    "from dateutil.relativedelta import relativedelta, MO\n",
    "\n",
    "\n",
    "# Visualizations\n",
    "import plotly.graph_objects as go # for data visualization\n",
    "import plotly.express as px # for data visualization\n",
    "import matplotlib.pyplot as plt\n",
    "\n",
    "# Advertencias\n",
    "import warnings\n",
    "warnings.filterwarnings(\"ignore\")"
   ]
  },
  {
   "cell_type": "code",
   "execution_count": null,
   "metadata": {},
   "outputs": [],
   "source": [
    "datos = pd.read_csv('datos/230209_ESTACIONES.csv', parse_dates=['FECHAHORA'], index_col=[0])\n",
    "datos.head()"
   ]
  },
  {
   "cell_type": "code",
   "execution_count": null,
   "metadata": {},
   "outputs": [],
   "source": [
    "for i in range(1,11):\n",
    "    \n",
    "    data = datos[datos['ESTACION'] == i]\n",
    "\n",
    "    df = data[['FECHAHORA','AQI_MP2_5']]\n",
    "\n",
    "    df.index = df['FECHAHORA']\n",
    "\n",
    "    del df['FECHAHORA']\n",
    "\n",
    "    aqi = df.rolling(1).mean()\n",
    "    rolling_mean = df.rolling(288*30).mean()\n",
    "    rolling_std = df.rolling(288*30).std()\n",
    "\n",
    "    fig = go.Figure()\n",
    "\n",
    "    fig.add_trace(\n",
    "        go.Scatter( x = aqi.index, y = aqi.AQI_MP2_5,  name = 'AQI'))\n",
    "\n",
    "    fig.add_trace(\n",
    "        go.Scatter( x = aqi.index, y = rolling_mean.AQI_MP2_5,  name = 'Media'))\n",
    "\n",
    "    fig.add_trace(\n",
    "        go.Scatter( x = aqi.index, y = rolling_std.AQI_MP2_5, name = 'Desviacion estandar'))\n",
    "\n",
    "    fig.update_layout( title_text = \"Estacion\" + str(i) + \"AQI, media y desviacion estandar (mensual)\")\n",
    "\n",
    "    fig.write_html('graphs/TSA/30dias_mean_std_estacion'+str(i)+'.html')\n"
   ]
  },
  {
   "cell_type": "code",
   "execution_count": null,
   "metadata": {},
   "outputs": [],
   "source": [
    "from statsmodels.tsa.stattools import adfuller\n"
   ]
  },
  {
   "cell_type": "code",
   "execution_count": null,
   "metadata": {},
   "outputs": [],
   "source": [
    "adfuller_dfs = []\n",
    "for i in range(1,11):\n",
    "    data = datos[datos['ESTACION'] == i]\n",
    "\n",
    "    df = data[['FECHAHORA','AQI_MP2_5']]\n",
    "\n",
    "    df.index = df['FECHAHORA']\n",
    "\n",
    "    del df['FECHAHORA']\n",
    "\n",
    "    adft = adfuller(df,autolag=\"AIC\")\n",
    "\n",
    "    output_df = pd.DataFrame({\"Valores\":[i, adft[0],adft[1],adft[2],adft[3], adft[4]['1%'], adft[4]['5%'], adft[4]['10%']]  , \"Metricas\":[\"Estación\",\"ADF\",\"valor-p\",\"No. de lags utilizado\",\"Numero de observaciones\", \"valor critico (1%)\", \"valor crítico (5%)\", \"valor crítico (10%)\"]})\n",
    "    \n",
    "    adfuller_dfs.append(output_df)"
   ]
  },
  {
   "cell_type": "code",
   "execution_count": null,
   "metadata": {},
   "outputs": [],
   "source": [
    "adfuller_dfs[2]"
   ]
  },
  {
   "cell_type": "code",
   "execution_count": null,
   "metadata": {},
   "outputs": [],
   "source": [
    "df_arreglada = []\n",
    "for i in range(0,10):\n",
    "    \n",
    "    dfarr = adfuller_dfs[i].T\n",
    "    dfarr.columns = dfarr.iloc[1]\n",
    "    dfarr.drop('Metricas', axis = 0, inplace = True)\n",
    "    df_arreglada.append(dfarr)\n",
    "\n",
    "df_completo = pd.concat(df_arreglada)\n",
    "\n",
    "df_completo.reset_index(drop = True)\n",
    "\n",
    "df_completo"
   ]
  },
  {
   "cell_type": "code",
   "execution_count": null,
   "metadata": {},
   "outputs": [],
   "source": [
    "df_completo.to_csv('metrics/TSA/ADF_test.csv')"
   ]
  },
  {
   "cell_type": "code",
   "execution_count": null,
   "metadata": {},
   "outputs": [],
   "source": [
    "autocorrelaciones = {}\n",
    "\n",
    "for i in range(1,11):\n",
    "\n",
    "    data = datos[datos['ESTACION'] == i]\n",
    "\n",
    "    df = data[['FECHAHORA','AQI_MP2_5']]\n",
    "\n",
    "    df.index = df['FECHAHORA']\n",
    "\n",
    "    del df['FECHAHORA']\n",
    "\n",
    "    print('Estacion '+ str(i))\n",
    "    print('\\n')\n",
    "\n",
    "    autocorrelation_lag_1h = df['AQI_MP2_5'].autocorr(lag=12)\n",
    "    print(\"Hourly Lag: \", autocorrelation_lag_1h)\n",
    "\n",
    "    autocorrelation_lag_6h = df['AQI_MP2_5'].autocorr(lag=72)\n",
    "    print(\"6 hour Lag: \", autocorrelation_lag_6h)\n",
    "\n",
    "    autocorrelation_lag_12h = df['AQI_MP2_5'].autocorr(lag=144)\n",
    "    print(\"12 hour Lag: \", autocorrelation_lag_6h)\n",
    "\n",
    "    autocorrelation_lag_d = df['AQI_MP2_5'].autocorr(lag=288)\n",
    "    print(\"Daily Lag: \", autocorrelation_lag_d)\n",
    "\n",
    "    autocorrelation_lag_w = df['AQI_MP2_5'].autocorr(lag=288*7)\n",
    "    print(\"Weekly Lag: \", autocorrelation_lag_w)\n",
    "\n",
    "    autocorrelation_lag1 = df['AQI_MP2_5'].autocorr(lag=288*30)\n",
    "    print(\"One Month Lag: \", autocorrelation_lag1)\n",
    "\n",
    "    autocorrelation_lag3 = df['AQI_MP2_5'].autocorr(lag=288*30*3)\n",
    "    print(\"Three Month Lag: \", autocorrelation_lag3)\n",
    "\n",
    "    autocorrelation_lag6 = df['AQI_MP2_5'].autocorr(lag=288*30*6)\n",
    "    print(\"Six Month Lag: \", autocorrelation_lag6)\n",
    "\n",
    "    autocorrelation_lag9 = df['AQI_MP2_5'].autocorr(lag=288*30*9)\n",
    "    print(\"Nine Month Lag: \", autocorrelation_lag9)\n",
    "\n",
    "    print('\\n')\n",
    "\n",
    "    autocorrelaciones[i] = {'ESTACION' : i, '1 hora' : autocorrelation_lag_1h, '6 horas' : autocorrelation_lag_6h, '12 horas' : autocorrelation_lag_12h, \n",
    "                            '1 dia' : autocorrelation_lag_d, '1 semana' : autocorrelation_lag_w, '1 mes' : autocorrelation_lag1, '3 meses' : autocorrelation_lag3,\n",
    "                            '6 meses' : autocorrelation_lag6, '9 meses' : autocorrelation_lag9}"
   ]
  },
  {
   "cell_type": "code",
   "execution_count": null,
   "metadata": {},
   "outputs": [],
   "source": [
    "df_prueba = pd.DataFrame.from_dict(autocorrelaciones, orient='index')\n",
    "df_prueba.to_csv('metrics/TSA/autocorrelaciones.csv')\n"
   ]
  },
  {
   "cell_type": "code",
   "execution_count": null,
   "metadata": {},
   "outputs": [],
   "source": [
    "from statsmodels.tsa.seasonal import seasonal_decompose\n",
    "from statsmodels.tsa.seasonal import DecomposeResult, seasonal_decompose\n",
    "from plotly.subplots import make_subplots\n",
    "\n",
    "def plot_seasonal_decompose(result: DecomposeResult, title=\"Seasonal Decomposition\"):\n",
    "    return (\n",
    "        make_subplots(\n",
    "            rows=4,\n",
    "            cols=1,\n",
    "            subplot_titles=[\"Observed\", \"Trend\", \"Seasonal\", \"Residuals\"],\n",
    "        )\n",
    "        .add_trace(\n",
    "            go.Scatter(x=result.seasonal.index, y=result.observed, mode=\"lines\"),\n",
    "            row=1,\n",
    "            col=1,\n",
    "        )\n",
    "        .add_trace(\n",
    "            go.Scatter(x=result.trend.index, y=result.trend, mode=\"lines\"),\n",
    "            row=2,\n",
    "            col=1,\n",
    "        )\n",
    "        .add_trace(\n",
    "            go.Scatter(x=result.seasonal.index, y=result.seasonal, mode=\"lines\"),\n",
    "            row=3,\n",
    "            col=1,\n",
    "        )\n",
    "        .add_trace(\n",
    "            go.Scatter(x=result.resid.index, y=result.resid, mode=\"lines\"),\n",
    "            row=4,\n",
    "            col=1,\n",
    "        )\n",
    "        .update_layout(\n",
    "            height=900, title=title, margin=dict(t=100), title_x=0.5, showlegend=False\n",
    "        )\n",
    "    )\n",
    "\n",
    "\n",
    "for i in range(1,11):\n",
    "    data = datos[datos['ESTACION'] == i]\n",
    "\n",
    "    df = data[['FECHAHORA','AQI_MP2_5']]\n",
    "\n",
    "    df.index = df['FECHAHORA']\n",
    "\n",
    "    del df['FECHAHORA']\n",
    "\n",
    "    for j in [1, 7, 15, 30, 30*3, 30*6, 30*9]:\n",
    "\n",
    "        decompose = seasonal_decompose(df['AQI_MP2_5'],model='additive', period=288*j)\n",
    "\n",
    "        print(decompose.resid.shape)\n",
    "\n",
    "\n",
    "        fig = plot_seasonal_decompose(decompose)\n",
    "\n",
    "        fig.write_html('graphs/TSA/seasonal_decompose/'+str(j)+'dias_seasonal_decompose_estacion_'+str(i)+'.html')"
   ]
  },
  {
   "cell_type": "code",
   "execution_count": null,
   "metadata": {},
   "outputs": [],
   "source": []
  }
 ],
 "metadata": {
  "kernelspec": {
   "display_name": "base",
   "language": "python",
   "name": "python3"
  },
  "language_info": {
   "codemirror_mode": {
    "name": "ipython",
    "version": 3
   },
   "file_extension": ".py",
   "mimetype": "text/x-python",
   "name": "python",
   "nbconvert_exporter": "python",
   "pygments_lexer": "ipython3",
   "version": "3.8.5"
  },
  "orig_nbformat": 4,
  "vscode": {
   "interpreter": {
    "hash": "4e1faa792bacbae67199267b84e0032a5847eec8c781d8c9e3816631a80410b3"
   }
  }
 },
 "nbformat": 4,
 "nbformat_minor": 2
}
