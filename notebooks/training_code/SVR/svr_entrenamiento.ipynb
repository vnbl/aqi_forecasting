{
 "cells": [
  {
   "cell_type": "code",
   "execution_count": 1,
   "metadata": {},
   "outputs": [
    {
     "name": "stderr",
     "output_type": "stream",
     "text": [
      "c:\\Users\\Fer\\anaconda3\\lib\\site-packages\\xgboost\\compat.py:36: FutureWarning: pandas.Int64Index is deprecated and will be removed from pandas in a future version. Use pandas.Index with the appropriate dtype instead.\n",
      "  from pandas import MultiIndex, Int64Index\n"
     ]
    }
   ],
   "source": [
    "# Directories\n",
    "import os\n",
    "\n",
    "new_directory = r'c://Users//Fer//TESIS_ARCHIVOS//TESIS_AIRE//MP_Forecasting//mp_forecasting//notebooks'\n",
    "os.chdir(new_directory)\n",
    "\n",
    "# Data Manipulation\n",
    "import pandas as pd # for data manipulation\n",
    "import numpy as np # for data manipulation\n",
    "\n",
    "# Training utils for SVR\n",
    "from training_code.utils import utils_svr\n",
    "\n",
    "# Optuna\n",
    "import optuna\n",
    "import joblib\n",
    "import pickle\n",
    "\n",
    "# Tiempo\n",
    "import datetime as dt\n",
    "from dateutil.relativedelta import relativedelta, MO\n",
    "\n",
    "# Modelos\n",
    "from sklearn.linear_model import LinearRegression # for building a linear regression model\n",
    "from sklearn.svm import SVR # for building SVR model\n",
    "from sklearn.preprocessing import MinMaxScaler\n",
    "from sklearn.multioutput import MultiOutputRegressor\n",
    "import xgboost as xgb\n",
    "from sklearn.model_selection import train_test_split\n",
    "\n",
    "# Metricas\n",
    "from sklearn.metrics import mean_absolute_error #MAE\n",
    "from sklearn.metrics import mean_absolute_percentage_error #MAPE\n",
    "from sklearn.metrics import mean_squared_error #MSE, para RMSE: squared = False\n",
    "\n",
    "# Visualizations\n",
    "import plotly.graph_objects as go # for data visualization\n",
    "import plotly.express as px # for data visualization\n",
    "import matplotlib.pyplot as plt\n",
    "\n",
    "# Advertencias\n",
    "import warnings\n",
    "warnings.filterwarnings(\"ignore\")"
   ]
  },
  {
   "cell_type": "code",
   "execution_count": 2,
   "metadata": {},
   "outputs": [],
   "source": [
    "datos = pd.read_csv('datos/230127_train_ESTACIONES.csv', parse_dates=['FECHAHORA'])\n",
    "validacion = pd.read_csv('datos/230127_test_ESTACIONES.csv', parse_dates=['FECHAHORA'])"
   ]
  },
  {
   "cell_type": "code",
   "execution_count": 3,
   "metadata": {},
   "outputs": [],
   "source": [
    "study = joblib.load(\"optuna_studies/SVR/study_SVR_e4_MP2.5_correcto_7_days.pkl\")\n",
    "\n",
    "params = study.best_params\n",
    "\n",
    "variables = [\"ANHO\", 'DIA', 'MES', 'HORA', 'MINUTO', 'MP1', 'MP2_5', 'MP10', \n",
    "                'TEMPERATURA', 'HUMEDAD', 'PRESION', 'TEMPERATURA_PRONOSTICO', \n",
    "                'HUMEDAD_PRONOSTICO', 'PRESION_PRONOSTICO', 'DIA_SEM', 'TRAFICO' , 'AQI_MP10', 'AQI_MP2_5']\n",
    "\n",
    "dependent = ['AQI_MP2_5']\n",
    "\n",
    "number_of_features = len(variables)\n",
    "\n",
    "training_days = 2 \n",
    "forecast_days = 1 \n",
    "samples_per_day = 288\n",
    "step = 288/4\n",
    "\n",
    "# Creamos una variable que nos diga con cuantos meses de entrenamiento queremos contar para el X_train\n",
    "train_months = relativedelta(months = 12)\n",
    "#test_months = relativedelta(months = 2, days = 20)\n",
    "\n",
    "input_samples = int(samples_per_day * training_days) # cantidad de muestras en 7 dias\n",
    "output_samples = int(samples_per_day * forecast_days) # cantidad de muestras en 1 dia\n",
    "train_test_samples = int(input_samples + output_samples) # cantidad de datos para el train_test"
   ]
  },
  {
   "cell_type": "code",
   "execution_count": 5,
   "metadata": {},
   "outputs": [
    {
     "name": "stdout",
     "output_type": "stream",
     "text": [
      "ESTACION 1:\n",
      "prediction shape:  (357, 288)\n",
      "test shape:  (357, 288)\n",
      "MAE : 9.597507139838092\n",
      "MAPE:  0.292406952995658\n",
      "RMSE:  13.373270009588396\n",
      "\n",
      "\n",
      "media real:  36.88206115779645\n",
      "media predecida:  38.25415719307774\n",
      "\n",
      "\n"
     ]
    },
    {
     "ename": "OSError",
     "evalue": "[Errno 28] No space left on device",
     "output_type": "error",
     "traceback": [
      "\u001b[1;31m---------------------------------------------------------------------------\u001b[0m",
      "\u001b[1;31mOSError\u001b[0m                                   Traceback (most recent call last)",
      "File \u001b[1;32m<timed exec>:49\u001b[0m\n",
      "\u001b[1;31mOSError\u001b[0m: [Errno 28] No space left on device"
     ]
    }
   ],
   "source": [
    "%%time\n",
    "\n",
    "predicciones = {}\n",
    "metricas = {}\n",
    "\n",
    "for i in range(1, 11):\n",
    "\n",
    "    \n",
    "    estacion = i\n",
    "\n",
    "\n",
    "\n",
    "    X_train, y_train, X_test, y_test = utils_svr.get_everything(datos, \n",
    "                                                                    estacion,\n",
    "                                                                    train_months, \n",
    "                                                                    variables, \n",
    "                                                                    dependent, \n",
    "                                                                    train_test_samples, \n",
    "                                                                    input_samples, \n",
    "                                                                    output_samples, \n",
    "                                                                    number_of_features,\n",
    "                                                                    step)\n",
    "\n",
    "    X_train_val, y_train_val = utils_svr.get_validation(validacion, \n",
    "                                                                    estacion, \n",
    "                                                                    variables, \n",
    "                                                                    dependent, \n",
    "                                                                    train_test_samples, \n",
    "                                                                    input_samples, \n",
    "                                                                    output_samples, \n",
    "                                                                    number_of_features,\n",
    "                                                                    step)\n",
    "\n",
    "\n",
    "    svr_model = SVR(** params)\n",
    "\n",
    "    trained_svr_model = MultiOutputRegressor(svr_model).fit(X_train , y_train)\n",
    "\n",
    "    prediction = trained_svr_model.predict(X_train_val)\n",
    "    \n",
    "    # guardamos los valores predecidos vs reales en un diccionario\n",
    "    \n",
    "    predicciones[i] = {'real' : y_train_val, 'prediccion': prediction}\n",
    "\n",
    "    df_predicciones = pd.DataFrame.from_dict(predicciones)\n",
    "\n",
    "    df_predicciones.to_csv('predicciones_10estaciones_'+str(training_days)+'dias.csv')\n",
    "\n",
    "    # guardamos los modelos\n",
    "\n",
    "    pickle.dump(trained_svr_model, open('models/models_svr/'+str(training_days)+'_dias/svr_'+str(training_days)+'dias_estacion_'+str(i) + '.pkl', 'wb'))\n",
    "\n",
    "    mean_real = y_train_val.mean()\n",
    "    mean_prediction = prediction.mean()\n",
    "\n",
    "    MAPE = mean_absolute_percentage_error(prediction, y_train_val)\n",
    "    MAE = mean_absolute_error(prediction, y_train_val)\n",
    "    RMSE = mean_squared_error(prediction, y_train_val, squared = False)\n",
    "    \n",
    "    # guardamos las metricas en un diccionario\n",
    "    \n",
    "    metricas[i] = {'MAE': MAE, \"MAPE\": MAPE, 'RMSE': RMSE, 'Media real' : mean_real, 'Media predecida': mean_prediction}\n",
    "\n",
    "    df_metricas = pd.DataFrame.from_dict(metricas)\n",
    "\n",
    "    # guardamos las metricas en un csv\n",
    "    df_metricas.to_csv('metrics/SVR/metricas_10estaciones_'+str(training_days)+'dias.csv')\n",
    "    \n",
    "    print('ESTACION '+ str(i) + ':')\n",
    "    print('prediction shape: ', prediction.shape)\n",
    "    print('test shape: ', y_train_val.shape)\n",
    "    print('MAE :', MAE)\n",
    "    print('MAPE: ', MAPE)\n",
    "    print('RMSE: ', RMSE)\n",
    "    print('\\n')\n",
    "    print('media real: ', mean_real)\n",
    "    print('media predecida: ', mean_prediction)\n",
    "    print('\\n')"
   ]
  }
 ],
 "metadata": {
  "kernelspec": {
   "display_name": "base",
   "language": "python",
   "name": "python3"
  },
  "language_info": {
   "codemirror_mode": {
    "name": "ipython",
    "version": 3
   },
   "file_extension": ".py",
   "mimetype": "text/x-python",
   "name": "python",
   "nbconvert_exporter": "python",
   "pygments_lexer": "ipython3",
   "version": "3.8.5"
  },
  "orig_nbformat": 4,
  "vscode": {
   "interpreter": {
    "hash": "4e1faa792bacbae67199267b84e0032a5847eec8c781d8c9e3816631a80410b3"
   }
  }
 },
 "nbformat": 4,
 "nbformat_minor": 2
}
