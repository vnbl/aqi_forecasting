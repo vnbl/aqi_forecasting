{
 "cells": [
  {
   "cell_type": "code",
   "execution_count": 2,
   "metadata": {},
   "outputs": [],
   "source": [
    "# Directories\n",
    "import os\n",
    "\n",
    "new_directory = r'c://Users//Fer//TESIS_ARCHIVOS//TESIS_AIRE//MP_Forecasting//aqi_forecasting//notebooks'\n",
    "os.chdir(new_directory)\n",
    "\n",
    "# Data Manipulation\n",
    "import pandas as pd # for data manipulation\n",
    "import numpy as np # for data manipulation\n",
    "\n",
    "# Training utils for SVR\n",
    "from training_code.utils import utils_svr\n",
    "\n",
    "# savings\n",
    "import joblib\n",
    "import pickle\n",
    "\n",
    "# Tiempo\n",
    "import datetime as dt\n",
    "from dateutil.relativedelta import relativedelta, MO\n",
    "\n",
    "\n",
    "# Visualizations\n",
    "import plotly.graph_objects as go # for data visualization\n",
    "import plotly.express as px # for data visualization\n",
    "import matplotlib.pyplot as plt\n",
    "\n",
    "# Advertencias\n",
    "import warnings\n",
    "warnings.filterwarnings(\"ignore\")"
   ]
  },
  {
   "cell_type": "code",
   "execution_count": 5,
   "metadata": {},
   "outputs": [
    {
     "data": {
      "text/html": [
       "<div>\n",
       "<style scoped>\n",
       "    .dataframe tbody tr th:only-of-type {\n",
       "        vertical-align: middle;\n",
       "    }\n",
       "\n",
       "    .dataframe tbody tr th {\n",
       "        vertical-align: top;\n",
       "    }\n",
       "\n",
       "    .dataframe thead th {\n",
       "        text-align: right;\n",
       "    }\n",
       "</style>\n",
       "<table border=\"1\" class=\"dataframe\">\n",
       "  <thead>\n",
       "    <tr style=\"text-align: right;\">\n",
       "      <th></th>\n",
       "      <th>tipo</th>\n",
       "      <th>1</th>\n",
       "      <th>2</th>\n",
       "      <th>3</th>\n",
       "      <th>4</th>\n",
       "      <th>5</th>\n",
       "      <th>6</th>\n",
       "      <th>7</th>\n",
       "      <th>8</th>\n",
       "      <th>9</th>\n",
       "      <th>10</th>\n",
       "    </tr>\n",
       "  </thead>\n",
       "  <tbody>\n",
       "    <tr>\n",
       "      <th>0</th>\n",
       "      <td>real</td>\n",
       "      <td>[[25. 25. 25. ... 17. 17. 17.]\\n [21. 21. 21. ...</td>\n",
       "      <td>[[12. 12. 12. ... 17. 17. 17.]\\n [ 8.  8.  8. ...</td>\n",
       "      <td>[[33. 33. 33. ... 42. 42. 42.]\\n [33. 33. 33. ...</td>\n",
       "      <td>[[46. 46. 46. ...  4.  4.  4.]\\n [42. 42. 42. ...</td>\n",
       "      <td>[[12. 12. 12. ... 25. 25. 25.]\\n [12. 12. 12. ...</td>\n",
       "      <td>[[29. 29. 29. ... 55. 55. 55.]\\n [29. 29. 33. ...</td>\n",
       "      <td>[[12. 12. 12. ... 25. 25. 25.]\\n [12. 12. 12. ...</td>\n",
       "      <td>[[21. 21. 21. ... 38. 38. 38.]\\n [25. 25. 25. ...</td>\n",
       "      <td>[[68. 68. 68. ...  4.  4.  4.]\\n [68. 68. 68. ...</td>\n",
       "      <td>[[82. 82. 82. ...  8.  8.  8.]\\n [80. 80. 80. ...</td>\n",
       "    </tr>\n",
       "    <tr>\n",
       "      <th>1</th>\n",
       "      <td>prediccion</td>\n",
       "      <td>[[24.87777888 25.11117161 25.18384215 ... 23.3...</td>\n",
       "      <td>[[12.2374328  12.32866844 12.29998728 ... 18.9...</td>\n",
       "      <td>[[28.9583254  28.91713407 28.83223248 ... 38.2...</td>\n",
       "      <td>[[47.52784683 47.60563201 47.63159699 ... 28.7...</td>\n",
       "      <td>[[12.43851874 12.44866565 12.43565824 ... 17.3...</td>\n",
       "      <td>[[29.23240325 29.12047838 29.17697168 ... 34.9...</td>\n",
       "      <td>[[12.00140221 11.9921574  12.01634306 ... 14.1...</td>\n",
       "      <td>[[20.98227061 20.98773274 21.01636963 ... 23.1...</td>\n",
       "      <td>[[66.46244446 66.4559265  66.44560868 ... 24.0...</td>\n",
       "      <td>[[80.31288252 80.27807862 80.26354931 ... 34.2...</td>\n",
       "    </tr>\n",
       "  </tbody>\n",
       "</table>\n",
       "</div>"
      ],
      "text/plain": [
       "         tipo                                                  1  \\\n",
       "0        real  [[25. 25. 25. ... 17. 17. 17.]\\n [21. 21. 21. ...   \n",
       "1  prediccion  [[24.87777888 25.11117161 25.18384215 ... 23.3...   \n",
       "\n",
       "                                                   2  \\\n",
       "0  [[12. 12. 12. ... 17. 17. 17.]\\n [ 8.  8.  8. ...   \n",
       "1  [[12.2374328  12.32866844 12.29998728 ... 18.9...   \n",
       "\n",
       "                                                   3  \\\n",
       "0  [[33. 33. 33. ... 42. 42. 42.]\\n [33. 33. 33. ...   \n",
       "1  [[28.9583254  28.91713407 28.83223248 ... 38.2...   \n",
       "\n",
       "                                                   4  \\\n",
       "0  [[46. 46. 46. ...  4.  4.  4.]\\n [42. 42. 42. ...   \n",
       "1  [[47.52784683 47.60563201 47.63159699 ... 28.7...   \n",
       "\n",
       "                                                   5  \\\n",
       "0  [[12. 12. 12. ... 25. 25. 25.]\\n [12. 12. 12. ...   \n",
       "1  [[12.43851874 12.44866565 12.43565824 ... 17.3...   \n",
       "\n",
       "                                                   6  \\\n",
       "0  [[29. 29. 29. ... 55. 55. 55.]\\n [29. 29. 33. ...   \n",
       "1  [[29.23240325 29.12047838 29.17697168 ... 34.9...   \n",
       "\n",
       "                                                   7  \\\n",
       "0  [[12. 12. 12. ... 25. 25. 25.]\\n [12. 12. 12. ...   \n",
       "1  [[12.00140221 11.9921574  12.01634306 ... 14.1...   \n",
       "\n",
       "                                                   8  \\\n",
       "0  [[21. 21. 21. ... 38. 38. 38.]\\n [25. 25. 25. ...   \n",
       "1  [[20.98227061 20.98773274 21.01636963 ... 23.1...   \n",
       "\n",
       "                                                   9  \\\n",
       "0  [[68. 68. 68. ...  4.  4.  4.]\\n [68. 68. 68. ...   \n",
       "1  [[66.46244446 66.4559265  66.44560868 ... 24.0...   \n",
       "\n",
       "                                                  10  \n",
       "0  [[82. 82. 82. ...  8.  8.  8.]\\n [80. 80. 80. ...  \n",
       "1  [[80.31288252 80.27807862 80.26354931 ... 34.2...  "
      ]
     },
     "execution_count": 5,
     "metadata": {},
     "output_type": "execute_result"
    }
   ],
   "source": [
    "[1,2,4,5,6,6,4,3]\n",
    "[8,3,5,3,2,1,4,1]"
   ]
  },
  {
   "cell_type": "code",
   "execution_count": 6,
   "metadata": {},
   "outputs": [
    {
     "data": {
      "text/plain": [
       "'[[25. 25. 25. ... 17. 17. 17.]\\n [21. 21. 21. ... 21. 21. 21.]\\n [17. 17. 17. ... 29. 29. 29.]\\n ...\\n [12. 12. 12. ... 46. 46. 50.]\\n [21. 21. 21. ... 63. 63. 63.]\\n [21. 21. 21. ... 66. 66. 66.]]'"
      ]
     },
     "execution_count": 6,
     "metadata": {},
     "output_type": "execute_result"
    }
   ],
   "source": [
    "df = datos['1']\n",
    "\n",
    "real = df.iloc[0]\n",
    "\n",
    "real"
   ]
  }
 ],
 "metadata": {
  "kernelspec": {
   "display_name": "base",
   "language": "python",
   "name": "python3"
  },
  "language_info": {
   "codemirror_mode": {
    "name": "ipython",
    "version": 3
   },
   "file_extension": ".py",
   "mimetype": "text/x-python",
   "name": "python",
   "nbconvert_exporter": "python",
   "pygments_lexer": "ipython3",
   "version": "3.8.5"
  },
  "orig_nbformat": 4,
  "vscode": {
   "interpreter": {
    "hash": "4e1faa792bacbae67199267b84e0032a5847eec8c781d8c9e3816631a80410b3"
   }
  }
 },
 "nbformat": 4,
 "nbformat_minor": 2
}
