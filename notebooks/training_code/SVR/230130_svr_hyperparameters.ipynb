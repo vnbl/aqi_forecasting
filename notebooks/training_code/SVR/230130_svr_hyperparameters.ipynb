{
 "cells": [
  {
   "cell_type": "code",
   "execution_count": 1,
   "metadata": {},
   "outputs": [
    {
     "name": "stderr",
     "output_type": "stream",
     "text": [
      "c:\\Users\\Fer\\anaconda3\\lib\\site-packages\\xgboost\\compat.py:36: FutureWarning: pandas.Int64Index is deprecated and will be removed from pandas in a future version. Use pandas.Index with the appropriate dtype instead.\n",
      "  from pandas import MultiIndex, Int64Index\n"
     ]
    }
   ],
   "source": [
    "# Data Manipulation\n",
    "import pandas as pd # for data manipulation\n",
    "import numpy as np # for data manipulation\n",
    "\n",
    "# Training utils\n",
    "import utils_svr\n",
    "\n",
    "# optuna\n",
    "import optuna\n",
    "\n",
    "# Tiempo\n",
    "import datetime as dt\n",
    "from dateutil.relativedelta import relativedelta, MO\n",
    "\n",
    "# Modelos\n",
    "from sklearn.linear_model import LinearRegression # for building a linear regression model\n",
    "from sklearn.svm import SVR # for building SVR model\n",
    "from sklearn.preprocessing import MinMaxScaler\n",
    "from sklearn.multioutput import MultiOutputRegressor\n",
    "import xgboost as xgb\n",
    "from sklearn.model_selection import train_test_split\n",
    "\n",
    "# Metricas\n",
    "from sklearn.metrics import mean_absolute_error #MAE\n",
    "from sklearn.metrics import mean_absolute_percentage_error #MAPE\n",
    "from sklearn.metrics import mean_squared_error #MSE, para RMSE: squared = False\n",
    "\n",
    "# Visualizations\n",
    "import plotly.graph_objects as go # for data visualization\n",
    "import plotly.express as px # for data visualization\n",
    "import matplotlib.pyplot as plt\n",
    "\n",
    "# Advertencias\n",
    "import warnings\n",
    "warnings.filterwarnings(\"ignore\")"
   ]
  },
  {
   "cell_type": "code",
   "execution_count": 2,
   "metadata": {},
   "outputs": [],
   "source": [
    "datos = pd.read_csv('datos/230127_train_ESTACIONES.csv', parse_dates = ['FECHAHORA'])"
   ]
  },
  {
   "cell_type": "code",
   "execution_count": 3,
   "metadata": {},
   "outputs": [],
   "source": [
    "estacion = 4\n",
    "\n",
    "variables = [\"ANHO\", 'DIA', 'MES', 'HORA', 'MINUTO', 'MP1', 'MP2_5', 'MP10', \n",
    "             'TEMPERATURA', 'HUMEDAD', 'PRESION', 'TEMPERATURA_PRONOSTICO', \n",
    "             'HUMEDAD_PRONOSTICO', 'PRESION_PRONOSTICO', 'DIA_SEM', 'TRAFICO' , 'AQI_MP10', 'AQI_MP2_5']\n",
    "\n",
    "dependent = ['AQI_MP2_5']\n",
    "\n",
    "number_of_features = len(variables)\n",
    "\n",
    "training_days = 7 \n",
    "forecast_days = 1 \n",
    "samples_per_day = 288\n",
    "step = 288/4\n",
    "\n",
    "# Creamos una variable que nos diga con cuantos meses de entrenamiento queremos contar para el X_train\n",
    "train_months = relativedelta(months = 12)\n",
    "\n",
    "input_samples = int(samples_per_day * training_days) # cantidad de muestras en 7 dias\n",
    "output_samples = int(samples_per_day * forecast_days) # cantidad de muestras en 1 dia\n",
    "train_test_samples = int(input_samples + output_samples) # cantidad de datos para el train_test"
   ]
  },
  {
   "cell_type": "code",
   "execution_count": 4,
   "metadata": {},
   "outputs": [
    {
     "name": "stdout",
     "output_type": "stream",
     "text": [
      "<class 'pandas.core.series.Series'>\n",
      "RangeIndex: 1315882 entries, 0 to 1315881\n",
      "Series name: AQI_MP2_5\n",
      "Non-Null Count    Dtype  \n",
      "--------------    -----  \n",
      "1315882 non-null  float64\n",
      "dtypes: float64(1)\n",
      "memory usage: 10.0 MB\n"
     ]
    }
   ],
   "source": [
    "datos['AQI_MP2_5'].info()"
   ]
  },
  {
   "cell_type": "code",
   "execution_count": 5,
   "metadata": {},
   "outputs": [
    {
     "name": "stdout",
     "output_type": "stream",
     "text": [
      "CPU times: total: 15.7 s\n",
      "Wall time: 15.8 s\n"
     ]
    }
   ],
   "source": [
    "%%time\n",
    "\n",
    "X_train, y_train, X_test, y_test = utils_svr.get_everything(datos, \n",
    "                                                                estacion,\n",
    "                                                                train_months, \n",
    "                                                                variables, \n",
    "                                                                dependent, \n",
    "                                                                train_test_samples, \n",
    "                                                                input_samples, \n",
    "                                                                output_samples, \n",
    "                                                                number_of_features,\n",
    "                                                                step)"
   ]
  },
  {
   "cell_type": "code",
   "execution_count": 6,
   "metadata": {},
   "outputs": [],
   "source": [
    "params = {\n",
    "    'kernel'    : 'rbf',\n",
    "    'gamma'     : 'auto',\n",
    "    'C'         : 0.1,\n",
    "    'epsilon'   : 1,\n",
    "    'cache_size': 4000\n",
    "    }   \n",
    "\n",
    "optuna_svr_model = SVR(** params)\n",
    "\n",
    "trained_svr = MultiOutputRegressor(optuna_svr_model).fit(X_train, y_train)\n",
    "\n"
   ]
  },
  {
   "cell_type": "code",
   "execution_count": 7,
   "metadata": {},
   "outputs": [
    {
     "name": "stdout",
     "output_type": "stream",
     "text": [
      "MAPE\n",
      "0.7045955073827199\n",
      "MAE\n",
      "11.454504941648004\n",
      "RMSE\n",
      "15.156805696288947\n"
     ]
    }
   ],
   "source": [
    "y_pred = trained_svr.predict(X_test)\n",
    "\n",
    "mape = mean_absolute_percentage_error(y_test, y_pred)\n",
    "\n",
    "print('MAPE')\n",
    "print(mape)\n",
    "print('MAE')\n",
    "print(mean_absolute_error(y_pred, y_test))\n",
    "print('RMSE')\n",
    "print(mean_squared_error(y_pred, y_test, squared= False))"
   ]
  },
  {
   "cell_type": "code",
   "execution_count": 8,
   "metadata": {},
   "outputs": [
    {
     "name": "stderr",
     "output_type": "stream",
     "text": [
      "\u001b[32m[I 2023-02-05 15:13:01,371]\u001b[0m A new study created in memory with name: no-name-722c8244-db08-45e0-992b-5c70354369f6\u001b[0m\n"
     ]
    },
    {
     "name": "stdout",
     "output_type": "stream",
     "text": [
      "MAPE\n",
      "0.6800266775492424\n",
      "MAE\n",
      "11.158592580039867\n",
      "RMSE\n",
      "14.888419810842898\n"
     ]
    },
    {
     "name": "stderr",
     "output_type": "stream",
     "text": [
      "\u001b[32m[I 2023-02-05 15:24:49,980]\u001b[0m Trial 0 finished with value: 0.6800266775492424 and parameters: {'gamma': 3.0876887454597824e-06, 'C': 0.02966993854745562}. Best is trial 0 with value: 0.6800266775492424.\u001b[0m\n"
     ]
    },
    {
     "name": "stdout",
     "output_type": "stream",
     "text": [
      "MAPE\n",
      "0.4721396841880735\n",
      "MAE\n",
      "8.655067712709338\n",
      "RMSE\n",
      "12.443032773539796\n"
     ]
    },
    {
     "name": "stderr",
     "output_type": "stream",
     "text": [
      "\u001b[32m[I 2023-02-05 15:37:19,753]\u001b[0m Trial 1 finished with value: 0.4721396841880735 and parameters: {'gamma': 3.345841696928003e-07, 'C': 1.2548791130945498}. Best is trial 1 with value: 0.4721396841880735.\u001b[0m\n"
     ]
    },
    {
     "name": "stdout",
     "output_type": "stream",
     "text": [
      "MAPE\n",
      "0.9363316316175658\n",
      "MAE\n",
      "13.884133362640133\n",
      "RMSE\n",
      "16.715447080030483\n"
     ]
    },
    {
     "name": "stderr",
     "output_type": "stream",
     "text": [
      "\u001b[32m[I 2023-02-05 16:44:51,023]\u001b[0m Trial 2 finished with value: 0.9363316316175658 and parameters: {'gamma': 0.0003295617516395543, 'C': 50.341064615502816}. Best is trial 1 with value: 0.4721396841880735.\u001b[0m\n"
     ]
    },
    {
     "name": "stdout",
     "output_type": "stream",
     "text": [
      "MAPE\n",
      "0.7017817641509634\n",
      "MAE\n",
      "11.419007028258632\n",
      "RMSE\n",
      "15.11871942369433\n"
     ]
    },
    {
     "name": "stderr",
     "output_type": "stream",
     "text": [
      "\u001b[32m[I 2023-02-05 16:57:49,276]\u001b[0m Trial 3 finished with value: 0.7017817641509634 and parameters: {'gamma': 2.7543786511225395e-08, 'C': 0.03420507498961019}. Best is trial 1 with value: 0.4721396841880735.\u001b[0m\n"
     ]
    },
    {
     "name": "stdout",
     "output_type": "stream",
     "text": [
      "MAPE\n",
      "0.7022594760055733\n",
      "MAE\n",
      "11.433129352826795\n",
      "RMSE\n",
      "15.148801432073899\n"
     ]
    },
    {
     "name": "stderr",
     "output_type": "stream",
     "text": [
      "\u001b[32m[I 2023-02-05 17:13:57,948]\u001b[0m Trial 4 finished with value: 0.7022594760055733 and parameters: {'gamma': 0.38416707524472693, 'C': 0.02075402232587441}. Best is trial 1 with value: 0.4721396841880735.\u001b[0m\n"
     ]
    },
    {
     "name": "stdout",
     "output_type": "stream",
     "text": [
      "MAPE\n",
      "0.6952098653874214\n",
      "MAE\n",
      "11.334705610515465\n",
      "RMSE\n",
      "15.032551094965735\n"
     ]
    },
    {
     "name": "stderr",
     "output_type": "stream",
     "text": [
      "\u001b[32m[I 2023-02-05 17:26:37,353]\u001b[0m Trial 5 finished with value: 0.6952098653874214 and parameters: {'gamma': 1.1451615221489398e-07, 'C': 0.032488764782667226}. Best is trial 1 with value: 0.4721396841880735.\u001b[0m\n"
     ]
    },
    {
     "name": "stdout",
     "output_type": "stream",
     "text": [
      "MAPE\n",
      "0.7025516261462995\n",
      "MAE\n",
      "11.435802644282482\n",
      "RMSE\n",
      "15.149791321180443\n"
     ]
    },
    {
     "name": "stderr",
     "output_type": "stream",
     "text": [
      "\u001b[32m[I 2023-02-05 17:42:49,707]\u001b[0m Trial 6 finished with value: 0.7025516261462995 and parameters: {'gamma': 0.03422883633680851, 'C': 0.030665593490975914}. Best is trial 1 with value: 0.4721396841880735.\u001b[0m\n"
     ]
    },
    {
     "name": "stdout",
     "output_type": "stream",
     "text": [
      "MAPE\n",
      "0.7142587679593124\n",
      "MAE\n",
      "11.501145809005282\n",
      "RMSE\n",
      "15.107894757197926\n"
     ]
    },
    {
     "name": "stderr",
     "output_type": "stream",
     "text": [
      "\u001b[32m[I 2023-02-05 17:55:17,150]\u001b[0m Trial 7 finished with value: 0.7142587679593124 and parameters: {'gamma': 9.205635116898263e-06, 'C': 0.039446843313150716}. Best is trial 1 with value: 0.4721396841880735.\u001b[0m\n"
     ]
    },
    {
     "name": "stdout",
     "output_type": "stream",
     "text": [
      "MAPE\n",
      "0.7016543207722342\n",
      "MAE\n",
      "11.427591898980616\n",
      "RMSE\n",
      "15.146760829345165\n"
     ]
    },
    {
     "name": "stderr",
     "output_type": "stream",
     "text": [
      "\u001b[32m[I 2023-02-05 18:07:25,971]\u001b[0m Trial 8 finished with value: 0.7016543207722342 and parameters: {'gamma': 0.00015157150793211705, 'C': 0.0002708626324730408}. Best is trial 1 with value: 0.4721396841880735.\u001b[0m\n"
     ]
    },
    {
     "name": "stdout",
     "output_type": "stream",
     "text": [
      "MAPE\n",
      "0.7016499595106881\n",
      "MAE\n",
      "11.427552040347924\n",
      "RMSE\n",
      "15.146746492138776\n"
     ]
    },
    {
     "name": "stderr",
     "output_type": "stream",
     "text": [
      "\u001b[32m[I 2023-02-05 18:20:06,840]\u001b[0m Trial 9 finished with value: 0.7016499595106881 and parameters: {'gamma': 0.2660574056391291, 'C': 0.00010669861752768448}. Best is trial 1 with value: 0.4721396841880735.\u001b[0m\n"
     ]
    },
    {
     "name": "stdout",
     "output_type": "stream",
     "text": [
      "MAPE\n",
      "0.3989573553152085\n",
      "MAE\n",
      "7.387503712631195\n",
      "RMSE\n",
      "10.667212065656859\n"
     ]
    },
    {
     "name": "stderr",
     "output_type": "stream",
     "text": [
      "\u001b[32m[I 2023-02-05 19:16:04,159]\u001b[0m Trial 10 finished with value: 0.3989573553152085 and parameters: {'gamma': 7.500986230137021e-07, 'C': 21.928029685823795}. Best is trial 10 with value: 0.3989573553152085.\u001b[0m\n"
     ]
    },
    {
     "name": "stdout",
     "output_type": "stream",
     "text": [
      "MAPE\n",
      "0.39367620141229687\n",
      "MAE\n",
      "7.290620331781917\n",
      "RMSE\n",
      "10.5017848731427\n"
     ]
    },
    {
     "name": "stderr",
     "output_type": "stream",
     "text": [
      "\u001b[32m[I 2023-02-05 20:39:51,942]\u001b[0m Trial 11 finished with value: 0.39367620141229687 and parameters: {'gamma': 6.339821168872186e-07, 'C': 50.02887579362023}. Best is trial 11 with value: 0.39367620141229687.\u001b[0m\n"
     ]
    },
    {
     "name": "stdout",
     "output_type": "stream",
     "text": [
      "MAPE\n",
      "0.5176452302181668\n",
      "MAE\n",
      "9.276402276389534\n",
      "RMSE\n",
      "13.325637843087936\n"
     ]
    },
    {
     "name": "stderr",
     "output_type": "stream",
     "text": [
      "\u001b[32m[I 2023-02-05 23:19:17,264]\u001b[0m Trial 12 finished with value: 0.5176452302181668 and parameters: {'gamma': 2.105563406665748e-06, 'C': 88.94565893688917}. Best is trial 11 with value: 0.39367620141229687.\u001b[0m\n"
     ]
    },
    {
     "name": "stdout",
     "output_type": "stream",
     "text": [
      "MAPE\n",
      "0.7369081435091661\n",
      "MAE\n",
      "11.75019520780382\n",
      "RMSE\n",
      "15.288296708025282\n"
     ]
    },
    {
     "name": "stderr",
     "output_type": "stream",
     "text": [
      "\u001b[32m[I 2023-02-05 23:55:28,354]\u001b[0m Trial 13 finished with value: 0.7369081435091661 and parameters: {'gamma': 0.001800668091567147, 'C': 5.4323057936766785}. Best is trial 11 with value: 0.39367620141229687.\u001b[0m\n"
     ]
    },
    {
     "name": "stdout",
     "output_type": "stream",
     "text": [
      "MAPE\n",
      "0.5737011635134421\n",
      "MAE\n",
      "10.075251429894799\n",
      "RMSE\n",
      "14.134810104949018\n"
     ]
    },
    {
     "name": "stderr",
     "output_type": "stream",
     "text": [
      "\u001b[32m[I 2023-02-06 00:07:40,621]\u001b[0m Trial 14 finished with value: 0.5737011635134421 and parameters: {'gamma': 1.5577418032354837e-08, 'C': 2.3864166693370668}. Best is trial 11 with value: 0.39367620141229687.\u001b[0m\n"
     ]
    },
    {
     "name": "stdout",
     "output_type": "stream",
     "text": [
      "MAPE\n",
      "0.7020001915345174\n",
      "MAE\n",
      "11.42268045174488\n",
      "RMSE\n",
      "14.845935189439311\n"
     ]
    },
    {
     "name": "stderr",
     "output_type": "stream",
     "text": [
      "\u001b[32m[I 2023-02-06 00:49:48,955]\u001b[0m Trial 15 finished with value: 0.7020001915345174 and parameters: {'gamma': 1.7481800822455516e-05, 'C': 10.449473259678584}. Best is trial 11 with value: 0.39367620141229687.\u001b[0m\n"
     ]
    },
    {
     "name": "stdout",
     "output_type": "stream",
     "text": [
      "MAPE\n",
      "0.5184802069359506\n",
      "MAE\n",
      "9.354535854372394\n",
      "RMSE\n",
      "13.332337829067457\n"
     ]
    },
    {
     "name": "stderr",
     "output_type": "stream",
     "text": [
      "\u001b[32m[I 2023-02-06 01:01:43,380]\u001b[0m Trial 16 finished with value: 0.5184802069359506 and parameters: {'gamma': 5.774975153883573e-07, 'C': 0.41314246459121473}. Best is trial 11 with value: 0.39367620141229687.\u001b[0m\n"
     ]
    },
    {
     "name": "stdout",
     "output_type": "stream",
     "text": [
      "MAPE\n",
      "0.8187723885002116\n",
      "MAE\n",
      "12.75972911543499\n",
      "RMSE\n",
      "15.88082636488462\n"
     ]
    },
    {
     "name": "stderr",
     "output_type": "stream",
     "text": [
      "\u001b[32m[I 2023-02-06 01:48:48,060]\u001b[0m Trial 17 finished with value: 0.8187723885002116 and parameters: {'gamma': 2.784711287563172e-05, 'C': 18.672736329258072}. Best is trial 11 with value: 0.39367620141229687.\u001b[0m\n"
     ]
    },
    {
     "name": "stdout",
     "output_type": "stream",
     "text": [
      "MAPE\n",
      "0.7017128832005919\n",
      "MAE\n",
      "11.426046815823948\n",
      "RMSE\n",
      "15.140653928284982\n"
     ]
    },
    {
     "name": "stderr",
     "output_type": "stream",
     "text": [
      "\u001b[32m[I 2023-02-06 02:01:09,458]\u001b[0m Trial 18 finished with value: 0.7017128832005919 and parameters: {'gamma': 9.763601479801188e-08, 'C': 0.002286312484305708}. Best is trial 11 with value: 0.39367620141229687.\u001b[0m\n"
     ]
    },
    {
     "name": "stdout",
     "output_type": "stream",
     "text": [
      "MAPE\n",
      "0.7124555574253573\n",
      "MAE\n",
      "11.526427604449623\n",
      "RMSE\n",
      "15.18523224697726\n"
     ]
    },
    {
     "name": "stderr",
     "output_type": "stream",
     "text": [
      "\u001b[32m[I 2023-02-06 02:20:01,554]\u001b[0m Trial 19 finished with value: 0.7124555574253573 and parameters: {'gamma': 0.004113679008244478, 'C': 0.36666926421366997}. Best is trial 11 with value: 0.39367620141229687.\u001b[0m\n"
     ]
    },
    {
     "name": "stdout",
     "output_type": "stream",
     "text": [
      "MAPE\n",
      "0.514503824904063\n",
      "MAE\n",
      "9.244157201888328\n",
      "RMSE\n",
      "13.102544951082765\n"
     ]
    },
    {
     "name": "stderr",
     "output_type": "stream",
     "text": [
      "\u001b[32m[I 2023-02-06 02:31:59,600]\u001b[0m Trial 20 finished with value: 0.514503824904063 and parameters: {'gamma': 1.3077904433031761e-06, 'C': 0.5921694843753711}. Best is trial 11 with value: 0.39367620141229687.\u001b[0m\n"
     ]
    },
    {
     "name": "stdout",
     "output_type": "stream",
     "text": [
      "MAPE\n",
      "0.45210251279881575\n",
      "MAE\n",
      "8.367554935019703\n",
      "RMSE\n",
      "11.99245511432489\n"
     ]
    },
    {
     "name": "stderr",
     "output_type": "stream",
     "text": [
      "\u001b[32m[I 2023-02-06 02:44:57,500]\u001b[0m Trial 21 finished with value: 0.45210251279881575 and parameters: {'gamma': 7.146399397447548e-07, 'C': 1.8045842555589255}. Best is trial 11 with value: 0.39367620141229687.\u001b[0m\n"
     ]
    },
    {
     "name": "stdout",
     "output_type": "stream",
     "text": [
      "MAPE\n",
      "0.37773577154871507\n",
      "MAE\n",
      "7.158344092650577\n",
      "RMSE\n",
      "10.409729181222614\n"
     ]
    },
    {
     "name": "stderr",
     "output_type": "stream",
     "text": [
      "\u001b[32m[I 2023-02-06 03:10:23,381]\u001b[0m Trial 22 finished with value: 0.37773577154871507 and parameters: {'gamma': 1.6819976058393788e-07, 'C': 23.657017475552806}. Best is trial 22 with value: 0.37773577154871507.\u001b[0m\n"
     ]
    },
    {
     "name": "stdout",
     "output_type": "stream",
     "text": [
      "MAPE\n",
      "0.38864831978151937\n",
      "MAE\n",
      "7.289168852998484\n",
      "RMSE\n",
      "10.653979343196506\n"
     ]
    },
    {
     "name": "stderr",
     "output_type": "stream",
     "text": [
      "\u001b[32m[I 2023-02-06 03:30:08,825]\u001b[0m Trial 23 finished with value: 0.38864831978151937 and parameters: {'gamma': 9.333411532177208e-08, 'C': 23.476814021068023}. Best is trial 22 with value: 0.37773577154871507.\u001b[0m\n"
     ]
    },
    {
     "name": "stdout",
     "output_type": "stream",
     "text": [
      "MAPE\n",
      "0.37306769273602924\n",
      "MAE\n",
      "7.048744177840799\n",
      "RMSE\n",
      "10.321432643746364\n"
     ]
    },
    {
     "name": "stderr",
     "output_type": "stream",
     "text": [
      "\u001b[32m[I 2023-02-06 03:56:30,875]\u001b[0m Trial 24 finished with value: 0.37306769273602924 and parameters: {'gamma': 8.770724678350123e-08, 'C': 40.8966184876212}. Best is trial 24 with value: 0.37306769273602924.\u001b[0m\n"
     ]
    },
    {
     "name": "stdout",
     "output_type": "stream",
     "text": [
      "MAPE\n",
      "0.526884920744612\n",
      "MAE\n",
      "9.445948475363716\n",
      "RMSE\n",
      "13.487293661525472\n"
     ]
    },
    {
     "name": "stderr",
     "output_type": "stream",
     "text": [
      "\u001b[32m[I 2023-02-06 04:08:25,902]\u001b[0m Trial 25 finished with value: 0.526884920744612 and parameters: {'gamma': 1.0521649131470732e-08, 'C': 7.952556315763799}. Best is trial 24 with value: 0.37306769273602924.\u001b[0m\n"
     ]
    },
    {
     "name": "stdout",
     "output_type": "stream",
     "text": [
      "MAPE\n",
      "0.45292895454739424\n",
      "MAE\n",
      "8.292276186506987\n",
      "RMSE\n",
      "12.008145305231599\n"
     ]
    },
    {
     "name": "stderr",
     "output_type": "stream",
     "text": [
      "\u001b[32m[I 2023-02-06 04:21:00,556]\u001b[0m Trial 26 finished with value: 0.45292895454739424 and parameters: {'gamma': 8.959041547040204e-08, 'C': 4.6822663998941785}. Best is trial 24 with value: 0.37306769273602924.\u001b[0m\n"
     ]
    },
    {
     "name": "stdout",
     "output_type": "stream",
     "text": [
      "MAPE\n",
      "0.6502905914145706\n",
      "MAE\n",
      "10.881634161088956\n",
      "RMSE\n",
      "14.752502046347335\n"
     ]
    },
    {
     "name": "stderr",
     "output_type": "stream",
     "text": [
      "\u001b[32m[I 2023-02-06 04:32:57,336]\u001b[0m Trial 27 finished with value: 0.6502905914145706 and parameters: {'gamma': 5.6119239910923975e-08, 'C': 0.18553015579049437}. Best is trial 24 with value: 0.37306769273602924.\u001b[0m\n"
     ]
    },
    {
     "name": "stdout",
     "output_type": "stream",
     "text": [
      "MAPE\n",
      "0.3588288525566349\n",
      "MAE\n",
      "6.845006700409575\n",
      "RMSE\n",
      "9.881475249689663\n"
     ]
    },
    {
     "name": "stderr",
     "output_type": "stream",
     "text": [
      "\u001b[32m[I 2023-02-06 05:39:56,140]\u001b[0m Trial 28 finished with value: 0.3588288525566349 and parameters: {'gamma': 1.7498972177030344e-07, 'C': 88.76229687780621}. Best is trial 28 with value: 0.3588288525566349.\u001b[0m\n"
     ]
    },
    {
     "name": "stdout",
     "output_type": "stream",
     "text": [
      "MAPE\n",
      "0.5460966812892696\n",
      "MAE\n",
      "9.578190298455317\n",
      "RMSE\n",
      "13.460289956188525\n"
     ]
    },
    {
     "name": "stderr",
     "output_type": "stream",
     "text": [
      "\u001b[32m[I 2023-02-06 07:36:34,765]\u001b[0m Trial 29 finished with value: 0.5460966812892696 and parameters: {'gamma': 3.949427233085567e-06, 'C': 59.681821819798884}. Best is trial 28 with value: 0.3588288525566349.\u001b[0m\n"
     ]
    },
    {
     "name": "stdout",
     "output_type": "stream",
     "text": [
      "    gamma: 1.7498972177030344e-07\n",
      "    C: 88.76229687780621\n"
     ]
    }
   ],
   "source": [
    "def objective(trial):\n",
    "    \n",
    "    params = {\n",
    "    'kernel'    : 'rbf',\n",
    "    'gamma'     : trial.suggest_loguniform('gamma', 1e-8, 1.0),\n",
    "    'C'         : trial.suggest_loguniform('C', 1e-5, 100.0),\n",
    "    'epsilon'   : 1,\n",
    "    'cache_size': 4000\n",
    "    }   \n",
    "\n",
    "    optuna_svr_model = SVR(** params)\n",
    "\n",
    "    trained_svr = MultiOutputRegressor(optuna_svr_model).fit(X_train, y_train)\n",
    "\n",
    "    y_pred = trained_svr.predict(X_test)\n",
    "\n",
    "    mape = mean_absolute_percentage_error(y_test, y_pred)\n",
    "    \n",
    "    print('MAPE')\n",
    "    print(mape)\n",
    "    print('MAE')\n",
    "    print(mean_absolute_error(y_pred, y_test))\n",
    "    print('RMSE')\n",
    "    print(mean_squared_error(y_pred, y_test, squared= False))\n",
    "    \n",
    "    \n",
    "    return mape\n",
    "\n",
    "study = optuna.create_study(direction='minimize')\n",
    "\n",
    "study.optimize(objective, n_trials = 30)\n",
    "\n",
    "trial = study.best_trial\n",
    "\n",
    "import joblib\n",
    "\n",
    "joblib.dump(study, \"study_SVR_e4_MP2.5_correcto_7_days.pkl\")\n",
    "\n",
    "for key, value in trial.params.items():\n",
    "    print('    {}: {}'.format(key, value))"
   ]
  }
 ],
 "metadata": {
  "kernelspec": {
   "display_name": "base",
   "language": "python",
   "name": "python3"
  },
  "language_info": {
   "codemirror_mode": {
    "name": "ipython",
    "version": 3
   },
   "file_extension": ".py",
   "mimetype": "text/x-python",
   "name": "python",
   "nbconvert_exporter": "python",
   "pygments_lexer": "ipython3",
   "version": "3.8.5"
  },
  "orig_nbformat": 4,
  "vscode": {
   "interpreter": {
    "hash": "4e1faa792bacbae67199267b84e0032a5847eec8c781d8c9e3816631a80410b3"
   }
  }
 },
 "nbformat": 4,
 "nbformat_minor": 2
}
