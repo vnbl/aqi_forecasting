{
 "cells": [
  {
   "cell_type": "code",
   "execution_count": 1,
   "metadata": {},
   "outputs": [
    {
     "name": "stderr",
     "output_type": "stream",
     "text": [
      "c:\\Users\\Fer\\anaconda3\\lib\\site-packages\\xgboost\\compat.py:36: FutureWarning: pandas.Int64Index is deprecated and will be removed from pandas in a future version. Use pandas.Index with the appropriate dtype instead.\n",
      "  from pandas import MultiIndex, Int64Index\n"
     ]
    }
   ],
   "source": [
    "# Directories\n",
    "import os\n",
    "\n",
    "new_directory = r'c://Users//Fer//TESIS_ARCHIVOS//TESIS_AIRE//MP_Forecasting//aqi_forecasting//notebooks'\n",
    "os.chdir(new_directory)\n",
    "\n",
    "# Data Manipulation\n",
    "import pandas as pd # for data manipulation\n",
    "import numpy as np # for data manipulation\n",
    "\n",
    "\n",
    "# Training utils\n",
    "from training_code.utils import utils_svr\n",
    "\n",
    "# Optuna\n",
    "import optuna\n",
    "import joblib\n",
    "import pickle\n",
    "\n",
    "# Tiempo\n",
    "import datetime as dt\n",
    "from dateutil.relativedelta import relativedelta, MO\n",
    "\n",
    "# Modelos\n",
    "from sklearn.linear_model import LinearRegression # for building a linear regression model\n",
    "from sklearn.svm import SVR # for building SVR model\n",
    "from sklearn.preprocessing import MinMaxScaler\n",
    "from sklearn.multioutput import MultiOutputRegressor\n",
    "import xgboost as xgb\n",
    "from sklearn.model_selection import train_test_split\n",
    "\n",
    "# Metricas\n",
    "from sklearn.metrics import mean_absolute_error #MAE\n",
    "from sklearn.metrics import mean_absolute_percentage_error #MAPE\n",
    "from sklearn.metrics import mean_squared_error #MSE, para RMSE: squared = False\n",
    "\n",
    "# Visualizations\n",
    "import plotly.graph_objects as go # for data visualization\n",
    "import plotly.express as px # for data visualization\n",
    "import matplotlib.pyplot as plt\n",
    "\n",
    "# Advertencias\n",
    "import warnings\n",
    "warnings.filterwarnings(\"ignore\")"
   ]
  },
  {
   "cell_type": "code",
   "execution_count": 2,
   "metadata": {},
   "outputs": [],
   "source": [
    "datos = pd.read_csv('datos/230127_train_ESTACIONES.csv', parse_dates=['FECHAHORA'])"
   ]
  },
  {
   "attachments": {},
   "cell_type": "markdown",
   "metadata": {},
   "source": [
    "# VENTANAS DE TIEMPO"
   ]
  },
  {
   "cell_type": "code",
   "execution_count": null,
   "metadata": {},
   "outputs": [],
   "source": [
    "horizon = [0.25, 0.5, 1]\n",
    "resample = [5, 30, 60]\n",
    "previous = [2, 7, 15]\n",
    "\n",
    "# Start resampling\n",
    "\n",
    "for resample_item in resample:\n",
    "\n",
    "    df_train = datos.copy()\n",
    "\n",
    "    df_train.drop(['ANHO', 'DIA', 'MES', 'HORA', 'MINUTO', 'DIA_TRAF_COD', 'TRAFICO_COD', 'TIPO_COD',\n",
    "                'MEDICION_DIA', 'MP1_ANTERIOR', 'MP2_5_ANTERIOR', 'MP10_ANTERIOR',\n",
    "                'TEMPERATURA_PRONOSTICO', 'HUMEDAD_PRONOSTICO', 'PRESION_PRONOSTICO'], axis = 1, inplace = True)\n",
    "\n",
    "    df_train = df_train.set_index('FECHAHORA', drop = True)\n",
    "\n",
    "    lista_resample = []\n",
    "\n",
    "    if resample_item != 5: \n",
    "\n",
    "        r_i = str(resample_item) + 'T'\n",
    "\n",
    "        for station in range(1,11):\n",
    "            df_aux = df_train[df_train['ESTACION'] == station]\n",
    "\n",
    "            df_aux = df_aux.resample(r_i).mean()\n",
    "            lista_resample.append(df_aux)\n",
    "\n",
    "        df_train = pd.concat(lista_resample)\n",
    "\n",
    "    df_train['ANHO'] = df_train.index.year\n",
    "    df_train['MES'] = df_train.index.month\n",
    "    df_train['HORA'] = df_train.index.hour\n",
    "    df_train['MINUTO'] = df_train.index.minute\n",
    "    df_train['DIA'] = df_train.index.day\n",
    "    df_train['FECHAHORA'] = df_train.index\n",
    "    df_train.reset_index(inplace = True, drop = True)\n",
    "\n",
    "    df_train.to_csv('datos/experimento_full/train_resample_'+str(resample_item)+'_minutes.csv')\n",
    "\n",
    "    # OPTUNA\n",
    "\n",
    "    for previous_item in previous:\n",
    "        for horizon_item in horizon:\n",
    "            \n",
    "            estacion = 4\n",
    "\n",
    "            variables = [\"ANHO\", 'DIA', 'MES', 'HORA', 'MINUTO', 'MP1', 'MP2_5', 'MP10', 'AQI_MP10', 'AQI_MP2_5', 'TIPO', 'TRAFICO', 'HUMEDAD', \n",
    "                        'PRESION', 'TEMPERATURA','DIA_SEM']\n",
    "\n",
    "            dependent = ['AQI_MP2_5']\n",
    "\n",
    "            number_of_features = len(variables)\n",
    "\n",
    "            training_days = previous_item\n",
    "            forecast_days = horizon_item\n",
    "\n",
    "            if resample_item == 5:\n",
    "                samples_per_day = 288\n",
    "            elif resample_item == 30:\n",
    "                samples_per_day = 48\n",
    "            elif resample_item == 60:\n",
    "                samples_per_day = 24\n",
    "\n",
    "            step = forecast_days*samples_per_day\n",
    "\n",
    "            train_months = relativedelta(months = 12)\n",
    "\n",
    "            input_samples = int(samples_per_day * training_days) # cantidad de muestras en 7 dias\n",
    "            output_samples = int(samples_per_day * forecast_days) # cantidad de muestras en 1 dia\n",
    "            train_test_samples = int(input_samples + output_samples) # cantidad de datos para el train_test\n",
    "\n",
    "            X_train, y_train, X_test, y_test = utils_svr.get_everything(df_train, \n",
    "                                                                estacion,\n",
    "                                                                train_months, \n",
    "                                                                variables, \n",
    "                                                                dependent, \n",
    "                                                                train_test_samples, \n",
    "                                                                input_samples, \n",
    "                                                                output_samples, \n",
    "                                                                number_of_features,\n",
    "                                                                step)\n",
    "            \n",
    "            def objective(trial):\n",
    "    \n",
    "                params = {\n",
    "                    'max_depth': trial.suggest_int('max_depth', 1, 9),\n",
    "                    'learning_rate': trial.suggest_loguniform('learning_rate', 0.01, 1.0),\n",
    "                    'n_estimators': trial.suggest_int('n_estimators', 10, 300),\n",
    "                    'min_child_weight': trial.suggest_int('min_child_weight', 1, 10),\n",
    "                    'gamma': trial.suggest_loguniform('gamma', 1e-5, 1.0),\n",
    "                    'subsample': trial.suggest_loguniform('subsample', 0.01, 1.0),\n",
    "                    'colsample_bytree': trial.suggest_loguniform('colsample_bytree', 0.01, 1.0),\n",
    "                }\n",
    "                \n",
    "                optuna_xgb_model = xgb.XGBRegressor(** params)\n",
    "                \n",
    "                trained_xgb_model = MultiOutputRegressor(optuna_xgb_model).fit(X_train , y_train)\n",
    "\n",
    "                prediction = trained_xgb_model.predict(X_test)\n",
    "\n",
    "                MAPE = mean_absolute_percentage_error(prediction, y_test)\n",
    "                print('MAPE: ', MAPE)\n",
    "                MAE = np.mean(np.abs(prediction - y_test))\n",
    "                print('MAE: ', MAE)\n",
    "\n",
    "                MSE = mean_squared_error(prediction, y_test)\n",
    "                \n",
    "                return MSE\n",
    "\n",
    "            study = optuna.create_study(direction='minimize')\n",
    "\n",
    "            study.optimize(objective, n_trials = 100 )\n",
    "\n",
    "            trial = study.best_trial\n",
    "\n",
    "            joblib.dump(study, \"optuna_studies/XGBOOST/experimento_full/study_XGBOOST_mejoresparam20_resample_\"+str(resample_item)+\"_horizon_\"+str(horizon_item)+\"_previous_\"+str(previous_item)+\".pkl\")\n",
    "\n",
    "\n",
    "            # TESTEO\n",
    "\n",
    "            # trained_svr_model = joblib.load('models/models_xgboost/experimento_full/xgboost_estacion_4_resample_'+str(resample_item)+'_horizon_'+str(horizon_item)+'_previous_'+str(previous_item)+'.pkl')\n",
    "\n",
    "            prediction = trained_xgb_model.predict(X_test)\n",
    "            \n",
    "            predicciones = {}\n",
    "            metricas = {}\n",
    "            # guardamos los valores predecidos vs reales en un diccionario\n",
    "            \n",
    "            predicciones[4] = {'real' : y_test, 'prediccion': prediction}\n",
    "\n",
    "\n",
    "            mean_real = y_test.mean()\n",
    "            mean_prediction = prediction.mean()\n",
    "\n",
    "            MAPE = mean_absolute_percentage_error(prediction, y_test) * 100\n",
    "            MAE = mean_absolute_error(prediction, y_test)\n",
    "            RMSE = mean_squared_error(prediction, y_test, squared = False)\n",
    "            \n",
    "            # guardamos las metricas en un diccionario\n",
    "            \n",
    "            metricas[4] = {'MAE': MAE, \"MAPE\": MAPE, 'RMSE': RMSE, 'Media real' : mean_real, 'Media predecida': mean_prediction}\n",
    "\n",
    "            df_metricas = pd.DataFrame.from_dict(metricas)\n",
    "\n",
    "            df_metricas.to_csv('metrics/SVR/experimento_full/testing_svr_experimento_full_resample_'+str(resample_item)+'_horizon_'+str(horizon_item)+'_previous_'+str(previous_item)+'.csv')\n",
    "\n",
    "            list_dfs = []\n",
    "\n",
    "\n",
    "            d = {'TARGET': predicciones[4]['real'].flatten(), 'FORECAST': predicciones[4]['prediccion'].flatten()}\n",
    "            df_predicciones = pd.DataFrame(data = d)\n",
    "            df_predicciones['ESTACION'] = 4\n",
    "\n",
    "            df_predicciones.to_csv('datos/experimento_full/predicciones_SVR_estacion4_resample_'+str(resample_item)+'_horizon_'+str(horizon_item)+'_previous_'+str(previous_item)+'.csv')\n",
    "\n",
    "            print('testing_'+ str(resample_item)+'_'+str(horizon_item)+'_'+ str(previous_item)+' done!')"
   ]
  },
  {
   "attachments": {},
   "cell_type": "markdown",
   "metadata": {},
   "source": [
    "# MEJORES PARAMETROS / 10% DE CORRELACION"
   ]
  },
  {
   "cell_type": "code",
   "execution_count": 9,
   "metadata": {},
   "outputs": [
    {
     "name": "stdout",
     "output_type": "stream",
     "text": [
      "testing_5_0.25_2 done!\n",
      "testing_5_0.5_2 done!\n",
      "testing_5_1_2 done!\n",
      "testing_5_0.25_7 done!\n",
      "testing_5_0.5_7 done!\n",
      "testing_5_1_7 done!\n",
      "testing_5_0.25_15 done!\n",
      "testing_5_0.5_15 done!\n",
      "testing_5_1_15 done!\n",
      "testing_30_0.25_2 done!\n",
      "testing_30_0.5_2 done!\n",
      "testing_30_1_2 done!\n",
      "testing_30_0.25_7 done!\n",
      "testing_30_0.5_7 done!\n",
      "testing_30_1_7 done!\n",
      "testing_30_0.25_15 done!\n",
      "testing_30_0.5_15 done!\n",
      "testing_30_1_15 done!\n",
      "testing_60_0.25_2 done!\n",
      "testing_60_0.5_2 done!\n",
      "testing_60_1_2 done!\n",
      "testing_60_0.25_7 done!\n",
      "testing_60_0.5_7 done!\n",
      "testing_60_1_7 done!\n",
      "testing_60_0.25_15 done!\n",
      "testing_60_0.5_15 done!\n",
      "testing_60_1_15 done!\n"
     ]
    }
   ],
   "source": [
    "horizon = [0.25, 0.5, 1]\n",
    "resample = [5, 30, 60]\n",
    "previous = [2, 7, 15]\n",
    "\n",
    "# Start resampling\n",
    "\n",
    "for resample_item in resample:\n",
    "\n",
    "    df_train = datos.copy()\n",
    "\n",
    "    df_train.drop(['ANHO', 'DIA', 'MES', 'HORA', 'MINUTO', 'DIA_TRAF_COD', 'TRAFICO_COD', 'TIPO_COD',\n",
    "                'MEDICION_DIA', 'MP1_ANTERIOR', 'MP2_5_ANTERIOR', 'MP10_ANTERIOR',\n",
    "                'TEMPERATURA_PRONOSTICO', 'HUMEDAD_PRONOSTICO', 'PRESION_PRONOSTICO'], axis = 1, inplace = True)\n",
    "\n",
    "    df_train = df_train.set_index('FECHAHORA', drop = True)\n",
    "\n",
    "    lista_resample = []\n",
    "\n",
    "    if resample_item != 5: \n",
    "\n",
    "        r_i = str(resample_item) + 'T'\n",
    "\n",
    "        for station in range(1,11):\n",
    "            df_aux = df_train[df_train['ESTACION'] == station]\n",
    "\n",
    "            df_aux = df_aux.resample(r_i).mean()\n",
    "            lista_resample.append(df_aux)\n",
    "\n",
    "        df_train = pd.concat(lista_resample)\n",
    "\n",
    "    df_train['ANHO'] = df_train.index.year\n",
    "    df_train['MES'] = df_train.index.month\n",
    "    df_train['HORA'] = df_train.index.hour\n",
    "    df_train['MINUTO'] = df_train.index.minute\n",
    "    df_train['DIA'] = df_train.index.day\n",
    "    df_train['FECHAHORA'] = df_train.index\n",
    "    df_train.reset_index(inplace = True, drop = True)\n",
    "\n",
    "    df_train.to_csv('datos/experimento_full/train_resample_'+str(resample_item)+'_minutes.csv')\n",
    "\n",
    "    # OPTUNA\n",
    "\n",
    "    for previous_item in previous:\n",
    "        for horizon_item in horizon:\n",
    "            \n",
    "            estacion = 4\n",
    "\n",
    "            variables = ['MES', 'MP1', 'MP2_5', 'MP10', 'AQI_MP10', 'AQI_MP2_5', 'HUMEDAD', \n",
    "                        'PRESION', 'TEMPERATURA','DIA_SEM']\n",
    "\n",
    "            dependent = ['AQI_MP2_5']\n",
    "\n",
    "            number_of_features = len(variables)\n",
    "\n",
    "            training_days = previous_item\n",
    "            forecast_days = horizon_item\n",
    "\n",
    "            if resample_item == 5:\n",
    "                samples_per_day = 288\n",
    "            elif resample_item == 30:\n",
    "                samples_per_day = 48\n",
    "            elif resample_item == 60:\n",
    "                samples_per_day = 24\n",
    "\n",
    "            step = forecast_days*samples_per_day\n",
    "\n",
    "            train_months = relativedelta(months = 12)\n",
    "\n",
    "            input_samples = int(samples_per_day * training_days) # cantidad de muestras en 7 dias\n",
    "            output_samples = int(samples_per_day * forecast_days) # cantidad de muestras en 1 dia\n",
    "            train_test_samples = int(input_samples + output_samples) # cantidad de datos para el train_test\n",
    "\n",
    "            X_train, y_train, X_test, y_test = utils_xgboost.get_everything(df_train, \n",
    "                                                                estacion,\n",
    "                                                                train_months, \n",
    "                                                                variables, \n",
    "                                                                dependent, \n",
    "                                                                train_test_samples, \n",
    "                                                                input_samples, \n",
    "                                                                output_samples, \n",
    "                                                                number_of_features,\n",
    "                                                                step)\n",
    "            \n",
    "            def objective(trial):\n",
    "    \n",
    "                params = {\n",
    "                    'max_depth': trial.suggest_int('max_depth', 1, 9),\n",
    "                    'learning_rate': trial.suggest_loguniform('learning_rate', 0.01, 1.0),\n",
    "                    'n_estimators': trial.suggest_int('n_estimators', 10, 300),\n",
    "                    'min_child_weight': trial.suggest_int('min_child_weight', 1, 10),\n",
    "                    'gamma': trial.suggest_loguniform('gamma', 1e-5, 1.0),\n",
    "                    'subsample': trial.suggest_loguniform('subsample', 0.01, 1.0),\n",
    "                    'colsample_bytree': trial.suggest_loguniform('colsample_bytree', 0.01, 1.0),\n",
    "                }\n",
    "                \n",
    "                optuna_xgb_model = xgb.XGBRegressor(** params)\n",
    "                \n",
    "                trained_xgb_model = MultiOutputRegressor(optuna_xgb_model).fit(X_train , y_train)\n",
    "\n",
    "                prediction = trained_xgb_model.predict(X_test)\n",
    "\n",
    "                MAPE = mean_absolute_percentage_error(prediction, y_test)\n",
    "                print('MAPE: ', MAPE)\n",
    "                MAE = np.mean(np.abs(prediction - y_test))\n",
    "                print('MAE: ', MAE)\n",
    "\n",
    "                MSE = mean_squared_error(prediction, y_test)\n",
    "                \n",
    "                return MSE\n",
    "\n",
    "            study = optuna.create_study(direction='minimize')\n",
    "\n",
    "            study.optimize(objective, n_trials = 100 )\n",
    "\n",
    "            trial = study.best_trial\n",
    "\n",
    "            joblib.dump(study, \"optuna_studies/XGBOOST/experimento_full/study_XGBOOST_mejoresparam20_resample_\"+str(resample_item)+\"_horizon_\"+str(horizon_item)+\"_previous_\"+str(previous_item)+\".pkl\")\n",
    "\n",
    "\n",
    "            # TESTEO\n",
    "\n",
    "            # trained_xgb_model = joblib.load('models/models_xgboost/experimento_full/xgboost_mejoresparam_estacion_4_resample_'+str(resample_item)+'_horizon_'+str(horizon_item)+'_previous_'+str(previous_item)+'.pkl')\n",
    "\n",
    "            prediction = trained_xgb_model.predict(X_test)\n",
    "            \n",
    "            predicciones = {}\n",
    "            metricas = {}\n",
    "            # guardamos los valores predecidos vs reales en un diccionario\n",
    "            \n",
    "            predicciones[4] = {'real' : y_test, 'prediccion': prediction}\n",
    "\n",
    "\n",
    "            mean_real = y_test.mean()\n",
    "            mean_prediction = prediction.mean()\n",
    "\n",
    "            MAPE = mean_absolute_percentage_error(prediction, y_test)\n",
    "            MAE = mean_absolute_error(prediction, y_test)\n",
    "            RMSE = mean_squared_error(prediction, y_test, squared = False)\n",
    "            \n",
    "            # guardamos las metricas en un diccionario\n",
    "            \n",
    "            metricas[4] = {'MAE': MAE, \"MAPE\": MAPE, 'RMSE': RMSE, 'Media real' : mean_real, 'Media predecida': mean_prediction}\n",
    "\n",
    "            df_metricas = pd.DataFrame.from_dict(metricas)\n",
    "\n",
    "            df_metricas.to_csv('metrics/XGBOOST/experimento_full/testing_xgboost_MEJORESPARAM10_experimento_full_resample_'+str(resample_item)+'_horizon_'+str(horizon_item)+'_previous_'+str(previous_item)+'.csv')\n",
    "\n",
    "            list_dfs = []\n",
    "\n",
    "\n",
    "            d = {'TARGET': predicciones[4]['real'].flatten(), 'FORECAST': predicciones[4]['prediccion'].flatten()}\n",
    "            df_predicciones = pd.DataFrame(data = d)\n",
    "            df_predicciones['ESTACION'] = 4\n",
    "\n",
    "            df_predicciones.to_csv('datos/experimento_full/predicciones_estacion4_MEJORESPARAM10_resample_'+str(resample_item)+'_horizon_'+str(horizon_item)+'_previous_'+str(previous_item)+'.csv')\n",
    "\n",
    "            print('testing_'+ str(resample_item)+'_'+str(horizon_item)+'_'+ str(previous_item)+' done!')"
   ]
  },
  {
   "cell_type": "code",
   "execution_count": 10,
   "metadata": {},
   "outputs": [
    {
     "name": "stderr",
     "output_type": "stream",
     "text": [
      "\u001b[32m[I 2023-04-01 22:51:43,172]\u001b[0m A new study created in memory with name: no-name-d472b728-c125-4ecd-a9c5-29bf2e284faa\u001b[0m\n",
      "\u001b[32m[I 2023-04-01 22:51:45,672]\u001b[0m Trial 0 finished with value: 583.4935874639252 and parameters: {'max_depth': 6, 'learning_rate': 0.010851570643846148, 'n_estimators': 13, 'min_child_weight': 5, 'gamma': 6.143671539913322e-05, 'subsample': 0.29175197066166747, 'colsample_bytree': 0.05630155669347187}. Best is trial 0 with value: 583.4935874639252.\u001b[0m\n"
     ]
    },
    {
     "name": "stdout",
     "output_type": "stream",
     "text": [
      "MAPE:  4.30898375748038\n",
      "MAE:  19.355581740342945\n"
     ]
    },
    {
     "name": "stderr",
     "output_type": "stream",
     "text": [
      "\u001b[32m[I 2023-04-01 22:52:19,569]\u001b[0m Trial 1 finished with value: 40.31941897286895 and parameters: {'max_depth': 6, 'learning_rate': 0.21465542840581747, 'n_estimators': 263, 'min_child_weight': 4, 'gamma': 0.4457250238703376, 'subsample': 0.09998602917857305, 'colsample_bytree': 0.13619803396426947}. Best is trial 1 with value: 40.31941897286895.\u001b[0m\n"
     ]
    },
    {
     "name": "stdout",
     "output_type": "stream",
     "text": [
      "MAPE:  0.4909685655320788\n",
      "MAE:  4.890513367217035\n"
     ]
    },
    {
     "name": "stderr",
     "output_type": "stream",
     "text": [
      "\u001b[32m[I 2023-04-01 22:52:39,207]\u001b[0m Trial 2 finished with value: 187.90247521413292 and parameters: {'max_depth': 4, 'learning_rate': 0.7266687095715746, 'n_estimators': 224, 'min_child_weight': 7, 'gamma': 0.5583398742182447, 'subsample': 0.025856506232352902, 'colsample_bytree': 0.018413428072755353}. Best is trial 1 with value: 40.31941897286895.\u001b[0m\n"
     ]
    },
    {
     "name": "stdout",
     "output_type": "stream",
     "text": [
      "MAPE:  4.095976102288379\n",
      "MAE:  10.841538705165258\n"
     ]
    },
    {
     "name": "stderr",
     "output_type": "stream",
     "text": [
      "\u001b[32m[I 2023-04-01 22:53:01,352]\u001b[0m Trial 3 finished with value: 53.195027093128324 and parameters: {'max_depth': 7, 'learning_rate': 0.27446541917790473, 'n_estimators': 208, 'min_child_weight': 5, 'gamma': 0.45671195824494565, 'subsample': 0.03632805344719937, 'colsample_bytree': 0.08918042828315269}. Best is trial 1 with value: 40.31941897286895.\u001b[0m\n"
     ]
    },
    {
     "name": "stdout",
     "output_type": "stream",
     "text": [
      "MAPE:  0.987126361481775\n",
      "MAE:  5.559549340410867\n"
     ]
    },
    {
     "name": "stderr",
     "output_type": "stream",
     "text": [
      "\u001b[32m[I 2023-04-01 22:53:26,211]\u001b[0m Trial 4 finished with value: 72.11187621396994 and parameters: {'max_depth': 6, 'learning_rate': 0.04473750588586478, 'n_estimators': 191, 'min_child_weight': 2, 'gamma': 5.190883738649972e-05, 'subsample': 0.22134570371691337, 'colsample_bytree': 0.04727741001264661}. Best is trial 1 with value: 40.31941897286895.\u001b[0m\n"
     ]
    },
    {
     "name": "stdout",
     "output_type": "stream",
     "text": [
      "MAPE:  0.2604895373563484\n",
      "MAE:  6.536299909582447\n"
     ]
    },
    {
     "name": "stderr",
     "output_type": "stream",
     "text": [
      "\u001b[32m[I 2023-04-01 22:53:37,102]\u001b[0m Trial 5 finished with value: 210.880913910494 and parameters: {'max_depth': 6, 'learning_rate': 0.010524707834729691, 'n_estimators': 82, 'min_child_weight': 9, 'gamma': 0.002636890488664282, 'subsample': 0.2319974953495118, 'colsample_bytree': 0.07664577200461097}. Best is trial 1 with value: 40.31941897286895.\u001b[0m\n"
     ]
    },
    {
     "name": "stdout",
     "output_type": "stream",
     "text": [
      "MAPE:  0.5390859354173302\n",
      "MAE:  9.716788479116525\n"
     ]
    },
    {
     "name": "stderr",
     "output_type": "stream",
     "text": [
      "\u001b[32m[I 2023-04-01 22:54:33,222]\u001b[0m Trial 6 finished with value: 17.361423074301406 and parameters: {'max_depth': 5, 'learning_rate': 0.08657390848725834, 'n_estimators': 275, 'min_child_weight': 3, 'gamma': 1.746463723447547e-05, 'subsample': 0.2185100398568546, 'colsample_bytree': 0.6577561287783256}. Best is trial 6 with value: 17.361423074301406.\u001b[0m\n"
     ]
    },
    {
     "name": "stdout",
     "output_type": "stream",
     "text": [
      "MAPE:  0.14292293524030494\n",
      "MAE:  2.8245799503150804\n"
     ]
    },
    {
     "name": "stderr",
     "output_type": "stream",
     "text": [
      "\u001b[32m[I 2023-04-01 22:55:13,796]\u001b[0m Trial 7 finished with value: 17.958217298151762 and parameters: {'max_depth': 2, 'learning_rate': 0.1621771581250159, 'n_estimators': 282, 'min_child_weight': 9, 'gamma': 0.23113118887843953, 'subsample': 0.7787024878228971, 'colsample_bytree': 0.6125595636021325}. Best is trial 6 with value: 17.361423074301406.\u001b[0m\n"
     ]
    },
    {
     "name": "stdout",
     "output_type": "stream",
     "text": [
      "MAPE:  0.13712918080058437\n",
      "MAE:  2.8300640727585176\n"
     ]
    },
    {
     "name": "stderr",
     "output_type": "stream",
     "text": [
      "\u001b[32m[I 2023-04-01 22:55:45,127]\u001b[0m Trial 8 finished with value: 32.34972650432467 and parameters: {'max_depth': 2, 'learning_rate': 0.10777651424757212, 'n_estimators': 297, 'min_child_weight': 10, 'gamma': 2.6525674493209414e-05, 'subsample': 0.03396933193207622, 'colsample_bytree': 0.46089885531162283}. Best is trial 6 with value: 17.361423074301406.\u001b[0m\n"
     ]
    },
    {
     "name": "stdout",
     "output_type": "stream",
     "text": [
      "MAPE:  0.18518529960659644\n",
      "MAE:  3.9138558703787467\n"
     ]
    },
    {
     "name": "stderr",
     "output_type": "stream",
     "text": [
      "\u001b[32m[I 2023-04-01 22:55:49,541]\u001b[0m Trial 9 finished with value: 151.14955362983014 and parameters: {'max_depth': 5, 'learning_rate': 0.04306640658032796, 'n_estimators': 25, 'min_child_weight': 10, 'gamma': 0.00010862212170405588, 'subsample': 0.024059979268135863, 'colsample_bytree': 0.5447854138919082}. Best is trial 6 with value: 17.361423074301406.\u001b[0m\n"
     ]
    },
    {
     "name": "stdout",
     "output_type": "stream",
     "text": [
      "MAPE:  0.49323830533641705\n",
      "MAE:  8.757215992602218\n"
     ]
    },
    {
     "name": "stderr",
     "output_type": "stream",
     "text": [
      "\u001b[32m[I 2023-04-01 22:56:28,894]\u001b[0m Trial 10 finished with value: 30.695220408001003 and parameters: {'max_depth': 9, 'learning_rate': 0.04044424341598821, 'n_estimators': 130, 'min_child_weight': 1, 'gamma': 0.0008731771290501658, 'subsample': 0.8373170407391102, 'colsample_bytree': 0.20936556275138943}. Best is trial 6 with value: 17.361423074301406.\u001b[0m\n"
     ]
    },
    {
     "name": "stdout",
     "output_type": "stream",
     "text": [
      "MAPE:  0.18598263114469463\n",
      "MAE:  4.151084769493929\n"
     ]
    },
    {
     "name": "stderr",
     "output_type": "stream",
     "text": [
      "\u001b[32m[I 2023-04-01 22:57:06,606]\u001b[0m Trial 11 finished with value: 15.069434093748363 and parameters: {'max_depth': 1, 'learning_rate': 0.1329976943790187, 'n_estimators': 296, 'min_child_weight': 7, 'gamma': 0.03275274600509864, 'subsample': 0.9802873644396695, 'colsample_bytree': 0.877156525340754}. Best is trial 11 with value: 15.069434093748363.\u001b[0m\n"
     ]
    },
    {
     "name": "stdout",
     "output_type": "stream",
     "text": [
      "MAPE:  0.11771863348727216\n",
      "MAE:  2.532450380061896\n"
     ]
    },
    {
     "name": "stderr",
     "output_type": "stream",
     "text": [
      "\u001b[32m[I 2023-04-01 22:57:33,374]\u001b[0m Trial 12 finished with value: 25.024967873487086 and parameters: {'max_depth': 1, 'learning_rate': 0.50846794181883, 'n_estimators': 246, 'min_child_weight': 3, 'gamma': 0.020127323520978027, 'subsample': 0.09599999777208963, 'colsample_bytree': 0.9556321203708805}. Best is trial 11 with value: 15.069434093748363.\u001b[0m\n"
     ]
    },
    {
     "name": "stdout",
     "output_type": "stream",
     "text": [
      "MAPE:  0.22278057974018287\n",
      "MAE:  3.5266028195913166\n"
     ]
    },
    {
     "name": "stderr",
     "output_type": "stream",
     "text": [
      "\u001b[32m[I 2023-04-01 22:57:57,972]\u001b[0m Trial 13 finished with value: 20.80942112048192 and parameters: {'max_depth': 3, 'learning_rate': 0.09273496490929677, 'n_estimators': 159, 'min_child_weight': 7, 'gamma': 0.02437440160350712, 'subsample': 0.4604718944427172, 'colsample_bytree': 0.30177233174503937}. Best is trial 11 with value: 15.069434093748363.\u001b[0m\n"
     ]
    },
    {
     "name": "stdout",
     "output_type": "stream",
     "text": [
      "MAPE:  0.1703479110444065\n",
      "MAE:  3.3506082750103445\n"
     ]
    },
    {
     "name": "stderr",
     "output_type": "stream",
     "text": [
      "\u001b[32m[I 2023-04-01 22:59:04,952]\u001b[0m Trial 14 finished with value: 18.210800036199768 and parameters: {'max_depth': 9, 'learning_rate': 0.07769528784712364, 'n_estimators': 299, 'min_child_weight': 7, 'gamma': 0.04732017293442847, 'subsample': 0.06391292231545147, 'colsample_bytree': 0.7679627014963727}. Best is trial 11 with value: 15.069434093748363.\u001b[0m\n"
     ]
    },
    {
     "name": "stdout",
     "output_type": "stream",
     "text": [
      "MAPE:  0.13906063053938927\n",
      "MAE:  2.809584061193109\n"
     ]
    },
    {
     "name": "stderr",
     "output_type": "stream",
     "text": [
      "\u001b[32m[I 2023-04-01 22:59:35,583]\u001b[0m Trial 15 finished with value: 44.028457278831375 and parameters: {'max_depth': 1, 'learning_rate': 0.022992117907573772, 'n_estimators': 251, 'min_child_weight': 3, 'gamma': 0.0012234849444031377, 'subsample': 0.42861084799011134, 'colsample_bytree': 0.29965033817877834}. Best is trial 11 with value: 15.069434093748363.\u001b[0m\n"
     ]
    },
    {
     "name": "stdout",
     "output_type": "stream",
     "text": [
      "MAPE:  0.23332912749700643\n",
      "MAE:  5.308334888181139\n"
     ]
    },
    {
     "name": "stderr",
     "output_type": "stream",
     "text": [
      "\u001b[32m[I 2023-04-01 22:59:56,522]\u001b[0m Trial 16 finished with value: 49.95772215328941 and parameters: {'max_depth': 4, 'learning_rate': 0.3483815688095231, 'n_estimators': 172, 'min_child_weight': 6, 'gamma': 0.0002742150126486681, 'subsample': 0.9629814904865992, 'colsample_bytree': 0.016621139770439608}. Best is trial 11 with value: 15.069434093748363.\u001b[0m\n"
     ]
    },
    {
     "name": "stdout",
     "output_type": "stream",
     "text": [
      "MAPE:  0.2508949700666458\n",
      "MAE:  5.29111480668243\n"
     ]
    },
    {
     "name": "stderr",
     "output_type": "stream",
     "text": [
      "\u001b[32m[I 2023-04-01 23:00:25,791]\u001b[0m Trial 17 finished with value: 29.816216928734534 and parameters: {'max_depth': 8, 'learning_rate': 0.13810803361773014, 'n_estimators': 120, 'min_child_weight': 1, 'gamma': 0.007896990972572944, 'subsample': 0.15848936464837599, 'colsample_bytree': 0.18395730107357516}. Best is trial 11 with value: 15.069434093748363.\u001b[0m\n"
     ]
    },
    {
     "name": "stdout",
     "output_type": "stream",
     "text": [
      "MAPE:  0.22956493344707996\n",
      "MAE:  4.1590352202306375\n"
     ]
    },
    {
     "name": "stderr",
     "output_type": "stream",
     "text": [
      "\u001b[32m[I 2023-04-01 23:00:57,518]\u001b[0m Trial 18 finished with value: 29.304010395382605 and parameters: {'max_depth': 3, 'learning_rate': 0.06550407653409566, 'n_estimators': 229, 'min_child_weight': 4, 'gamma': 0.08685908429649374, 'subsample': 0.013952119661965807, 'colsample_bytree': 0.37075071903965345}. Best is trial 11 with value: 15.069434093748363.\u001b[0m\n"
     ]
    },
    {
     "name": "stdout",
     "output_type": "stream",
     "text": [
      "MAPE:  0.19298440474102108\n",
      "MAE:  3.9006391001142067\n"
     ]
    },
    {
     "name": "stderr",
     "output_type": "stream",
     "text": [
      "\u001b[32m[I 2023-04-01 23:02:17,490]\u001b[0m Trial 19 finished with value: 51.675079244397025 and parameters: {'max_depth': 4, 'learning_rate': 0.9999406532620383, 'n_estimators': 267, 'min_child_weight': 8, 'gamma': 1.0220595070932319e-05, 'subsample': 0.5131898622134209, 'colsample_bytree': 0.9725472126019816}. Best is trial 11 with value: 15.069434093748363.\u001b[0m\n"
     ]
    },
    {
     "name": "stdout",
     "output_type": "stream",
     "text": [
      "MAPE:  0.8121667063009775\n",
      "MAE:  4.982492390713688\n"
     ]
    },
    {
     "name": "stderr",
     "output_type": "stream",
     "text": [
      "\u001b[32m[I 2023-04-01 23:02:25,823]\u001b[0m Trial 20 finished with value: 109.0433657547973 and parameters: {'max_depth': 2, 'learning_rate': 0.1759819104814396, 'n_estimators': 66, 'min_child_weight': 6, 'gamma': 0.005693133968139691, 'subsample': 0.14105679532416865, 'colsample_bytree': 0.030565808869494674}. Best is trial 11 with value: 15.069434093748363.\u001b[0m\n"
     ]
    },
    {
     "name": "stdout",
     "output_type": "stream",
     "text": [
      "MAPE:  0.31634767038783984\n",
      "MAE:  8.32374496774727\n"
     ]
    },
    {
     "name": "stderr",
     "output_type": "stream",
     "text": [
      "\u001b[32m[I 2023-04-01 23:03:12,399]\u001b[0m Trial 21 finished with value: 17.732059219123876 and parameters: {'max_depth': 2, 'learning_rate': 0.1516759917512547, 'n_estimators': 280, 'min_child_weight': 8, 'gamma': 0.15116329370272164, 'subsample': 0.7042673395648773, 'colsample_bytree': 0.5933093788944483}. Best is trial 11 with value: 15.069434093748363.\u001b[0m\n"
     ]
    },
    {
     "name": "stdout",
     "output_type": "stream",
     "text": [
      "MAPE:  0.1373862972813116\n",
      "MAE:  2.8365105018484758\n"
     ]
    },
    {
     "name": "stderr",
     "output_type": "stream",
     "text": [
      "\u001b[32m[I 2023-04-01 23:03:47,921]\u001b[0m Trial 22 finished with value: 20.027239853288087 and parameters: {'max_depth': 1, 'learning_rate': 0.33853840083054576, 'n_estimators': 277, 'min_child_weight': 8, 'gamma': 0.11846673341183156, 'subsample': 0.5842346553282795, 'colsample_bytree': 0.5706955178503296}. Best is trial 11 with value: 15.069434093748363.\u001b[0m\n"
     ]
    },
    {
     "name": "stdout",
     "output_type": "stream",
     "text": [
      "MAPE:  0.15919074845211198\n",
      "MAE:  3.1159680164820247\n"
     ]
    },
    {
     "name": "stderr",
     "output_type": "stream",
     "text": [
      "\u001b[32m[I 2023-04-01 23:04:22,898]\u001b[0m Trial 23 finished with value: 20.732599398811875 and parameters: {'max_depth': 3, 'learning_rate': 0.12186106516447033, 'n_estimators': 235, 'min_child_weight': 9, 'gamma': 0.01356624227109286, 'subsample': 0.3372593934230386, 'colsample_bytree': 0.2488169784249406}. Best is trial 11 with value: 15.069434093748363.\u001b[0m\n"
     ]
    },
    {
     "name": "stdout",
     "output_type": "stream",
     "text": [
      "MAPE:  0.1742390853672534\n",
      "MAE:  3.3508180623197377\n"
     ]
    },
    {
     "name": "stderr",
     "output_type": "stream",
     "text": [
      "\u001b[32m[I 2023-04-01 23:05:06,847]\u001b[0m Trial 24 finished with value: 19.289602527265558 and parameters: {'max_depth': 2, 'learning_rate': 0.02546880636687448, 'n_estimators': 300, 'min_child_weight': 8, 'gamma': 0.04972968403105299, 'subsample': 0.6781131196286093, 'colsample_bytree': 0.39387589510597865}. Best is trial 11 with value: 15.069434093748363.\u001b[0m\n"
     ]
    },
    {
     "name": "stdout",
     "output_type": "stream",
     "text": [
      "MAPE:  0.15523131159924242\n",
      "MAE:  3.1942935507284123\n"
     ]
    },
    {
     "name": "stderr",
     "output_type": "stream",
     "text": [
      "\u001b[32m[I 2023-04-01 23:05:25,498]\u001b[0m Trial 25 finished with value: 202.77241629201296 and parameters: {'max_depth': 1, 'learning_rate': 0.061405413115838484, 'n_estimators': 196, 'min_child_weight': 6, 'gamma': 0.9304658321479191, 'subsample': 0.9708054891446263, 'colsample_bytree': 0.010207872742287367}. Best is trial 11 with value: 15.069434093748363.\u001b[0m\n"
     ]
    },
    {
     "name": "stdout",
     "output_type": "stream",
     "text": [
      "MAPE:  0.38772005782979657\n",
      "MAE:  11.663805296953846\n"
     ]
    },
    {
     "name": "stderr",
     "output_type": "stream",
     "text": [
      "\u001b[32m[I 2023-04-01 23:06:08,840]\u001b[0m Trial 26 finished with value: 25.611478829006952 and parameters: {'max_depth': 5, 'learning_rate': 0.23454468151884242, 'n_estimators': 263, 'min_child_weight': 7, 'gamma': 0.13730632197417075, 'subsample': 0.3633514823545962, 'colsample_bytree': 0.14186702012750432}. Best is trial 11 with value: 15.069434093748363.\u001b[0m\n"
     ]
    },
    {
     "name": "stdout",
     "output_type": "stream",
     "text": [
      "MAPE:  0.21671754832494533\n",
      "MAE:  3.750550859518228\n"
     ]
    },
    {
     "name": "stderr",
     "output_type": "stream",
     "text": [
      "\u001b[32m[I 2023-04-01 23:06:45,166]\u001b[0m Trial 27 finished with value: 32.0031377910818 and parameters: {'max_depth': 3, 'learning_rate': 0.47701778456309113, 'n_estimators': 209, 'min_child_weight': 4, 'gamma': 0.0004420070705114106, 'subsample': 0.18885216483575712, 'colsample_bytree': 0.6929061259667448}. Best is trial 11 with value: 15.069434093748363.\u001b[0m\n"
     ]
    },
    {
     "name": "stdout",
     "output_type": "stream",
     "text": [
      "MAPE:  0.25933868604548543\n",
      "MAE:  3.6934233174738376\n"
     ]
    },
    {
     "name": "stderr",
     "output_type": "stream",
     "text": [
      "\u001b[32m[I 2023-04-01 23:07:37,345]\u001b[0m Trial 28 finished with value: 15.39056796987223 and parameters: {'max_depth': 2, 'learning_rate': 0.10198907065760347, 'n_estimators': 271, 'min_child_weight': 2, 'gamma': 0.0024124803215794252, 'subsample': 0.5976926271374333, 'colsample_bytree': 0.9931923344861576}. Best is trial 11 with value: 15.069434093748363.\u001b[0m\n"
     ]
    },
    {
     "name": "stdout",
     "output_type": "stream",
     "text": [
      "MAPE:  0.11427968530968455\n",
      "MAE:  2.450858131571953\n"
     ]
    },
    {
     "name": "stderr",
     "output_type": "stream",
     "text": [
      "\u001b[32m[I 2023-04-01 23:09:17,246]\u001b[0m Trial 29 finished with value: 15.256676077204041 and parameters: {'max_depth': 7, 'learning_rate': 0.018716434956862742, 'n_estimators': 247, 'min_child_weight': 2, 'gamma': 0.00022223624835853033, 'subsample': 0.33972794935430356, 'colsample_bytree': 0.9593219103248718}. Best is trial 11 with value: 15.069434093748363.\u001b[0m\n"
     ]
    },
    {
     "name": "stdout",
     "output_type": "stream",
     "text": [
      "MAPE:  0.12402343845695202\n",
      "MAE:  2.5480722879314244\n"
     ]
    },
    {
     "name": "stderr",
     "output_type": "stream",
     "text": [
      "\u001b[32m[I 2023-04-01 23:10:55,559]\u001b[0m Trial 30 finished with value: 15.782161417463207 and parameters: {'max_depth': 7, 'learning_rate': 0.016141715361860307, 'n_estimators': 252, 'min_child_weight': 2, 'gamma': 0.002195168674251557, 'subsample': 0.3191952800652948, 'colsample_bytree': 0.9562742021077659}. Best is trial 11 with value: 15.069434093748363.\u001b[0m\n"
     ]
    },
    {
     "name": "stdout",
     "output_type": "stream",
     "text": [
      "MAPE:  0.12782980876165198\n",
      "MAE:  2.619178721855642\n"
     ]
    },
    {
     "name": "stderr",
     "output_type": "stream",
     "text": [
      "\u001b[32m[I 2023-04-01 23:12:28,633]\u001b[0m Trial 31 finished with value: 16.25430111746136 and parameters: {'max_depth': 7, 'learning_rate': 0.01567858707538413, 'n_estimators': 239, 'min_child_weight': 2, 'gamma': 0.0021374771079642058, 'subsample': 0.29493185240285275, 'colsample_bytree': 0.9864128399767167}. Best is trial 11 with value: 15.069434093748363.\u001b[0m\n"
     ]
    },
    {
     "name": "stdout",
     "output_type": "stream",
     "text": [
      "MAPE:  0.13158449818484963\n",
      "MAE:  2.6726968069462\n"
     ]
    },
    {
     "name": "stderr",
     "output_type": "stream",
     "text": [
      "\u001b[32m[I 2023-04-01 23:14:16,701]\u001b[0m Trial 32 finished with value: 16.72285181375115 and parameters: {'max_depth': 7, 'learning_rate': 0.015180928561225649, 'n_estimators': 255, 'min_child_weight': 2, 'gamma': 0.00022976672184682654, 'subsample': 0.556689948544323, 'colsample_bytree': 0.7965190584733761}. Best is trial 11 with value: 15.069434093748363.\u001b[0m\n"
     ]
    },
    {
     "name": "stdout",
     "output_type": "stream",
     "text": [
      "MAPE:  0.13412434596967548\n",
      "MAE:  2.741119667255179\n"
     ]
    },
    {
     "name": "stderr",
     "output_type": "stream",
     "text": [
      "\u001b[32m[I 2023-04-01 23:15:36,347]\u001b[0m Trial 33 finished with value: 17.930147973902947 and parameters: {'max_depth': 8, 'learning_rate': 0.025809460759056123, 'n_estimators': 217, 'min_child_weight': 1, 'gamma': 0.004940867783573423, 'subsample': 0.39403979671647515, 'colsample_bytree': 0.4428233437010375}. Best is trial 11 with value: 15.069434093748363.\u001b[0m\n"
     ]
    },
    {
     "name": "stdout",
     "output_type": "stream",
     "text": [
      "MAPE:  0.1459054057342724\n",
      "MAE:  3.0120402063881415\n"
     ]
    },
    {
     "name": "stderr",
     "output_type": "stream",
     "text": [
      "\u001b[32m[I 2023-04-01 23:17:13,665]\u001b[0m Trial 34 finished with value: 16.04901583150181 and parameters: {'max_depth': 8, 'learning_rate': 0.016953255844467354, 'n_estimators': 254, 'min_child_weight': 2, 'gamma': 0.0008116066217666277, 'subsample': 0.28045894735554194, 'colsample_bytree': 0.8210201155147041}. Best is trial 11 with value: 15.069434093748363.\u001b[0m\n"
     ]
    },
    {
     "name": "stdout",
     "output_type": "stream",
     "text": [
      "MAPE:  0.13120530305620276\n",
      "MAE:  2.675099987550621\n"
     ]
    },
    {
     "name": "stderr",
     "output_type": "stream",
     "text": [
      "\u001b[32m[I 2023-04-01 23:17:58,142]\u001b[0m Trial 35 finished with value: 17.788790770356854 and parameters: {'max_depth': 7, 'learning_rate': 0.053352932527689946, 'n_estimators': 185, 'min_child_weight': 5, 'gamma': 0.00010079435615118339, 'subsample': 0.12888460522052075, 'colsample_bytree': 0.49796962717401877}. Best is trial 11 with value: 15.069434093748363.\u001b[0m\n"
     ]
    },
    {
     "name": "stdout",
     "output_type": "stream",
     "text": [
      "MAPE:  0.15303166563380033\n",
      "MAE:  3.012078120541781\n"
     ]
    },
    {
     "name": "stderr",
     "output_type": "stream",
     "text": [
      "\u001b[32m[I 2023-04-01 23:18:39,946]\u001b[0m Trial 36 finished with value: 19.63408763036368 and parameters: {'max_depth': 6, 'learning_rate': 0.03345584191544158, 'n_estimators': 223, 'min_child_weight': 3, 'gamma': 0.0016220652464385807, 'subsample': 0.07385162501104967, 'colsample_bytree': 0.344092271830668}. Best is trial 11 with value: 15.069434093748363.\u001b[0m\n"
     ]
    },
    {
     "name": "stdout",
     "output_type": "stream",
     "text": [
      "MAPE:  0.15453951565884438\n",
      "MAE:  3.226781558157055\n",
      "MAPE:  0.253955586929822\n",
      "MAE:  6.215858559669478\n"
     ]
    },
    {
     "name": "stderr",
     "output_type": "stream",
     "text": [
      "\u001b[32m[I 2023-04-01 23:19:30,286]\u001b[0m Trial 37 finished with value: 68.74122019005823 and parameters: {'max_depth': 6, 'learning_rate': 0.010368289926047592, 'n_estimators': 285, 'min_child_weight': 5, 'gamma': 0.0038543199334539198, 'subsample': 0.5893695028341848, 'colsample_bytree': 0.12296388315182598}. Best is trial 11 with value: 15.069434093748363.\u001b[0m\n",
      "\u001b[32m[I 2023-04-01 23:20:14,431]\u001b[0m Trial 38 finished with value: 58.68939390331689 and parameters: {'max_depth': 8, 'learning_rate': 0.020821961105121294, 'n_estimators': 265, 'min_child_weight': 4, 'gamma': 0.010337268184123711, 'subsample': 0.3002209154768959, 'colsample_bytree': 0.06979143072064539}. Best is trial 11 with value: 15.069434093748363.\u001b[0m\n"
     ]
    },
    {
     "name": "stdout",
     "output_type": "stream",
     "text": [
      "MAPE:  0.24013788121284\n",
      "MAE:  5.889442776435621\n"
     ]
    },
    {
     "name": "stderr",
     "output_type": "stream",
     "text": [
      "\u001b[32m[I 2023-04-01 23:21:16,062]\u001b[0m Trial 39 finished with value: 15.199958927706884 and parameters: {'max_depth': 5, 'learning_rate': 0.034576346792764355, 'n_estimators': 241, 'min_child_weight': 1, 'gamma': 0.0004897712193053015, 'subsample': 0.2391381504481666, 'colsample_bytree': 0.7409318481173035}. Best is trial 11 with value: 15.069434093748363.\u001b[0m\n"
     ]
    },
    {
     "name": "stdout",
     "output_type": "stream",
     "text": [
      "MAPE:  0.12787611680993627\n",
      "MAE:  2.6059247287136786\n"
     ]
    },
    {
     "name": "stderr",
     "output_type": "stream",
     "text": [
      "\u001b[32m[I 2023-04-01 23:22:07,318]\u001b[0m Trial 40 finished with value: 15.9436225192085 and parameters: {'max_depth': 5, 'learning_rate': 0.032820362678595845, 'n_estimators': 208, 'min_child_weight': 1, 'gamma': 0.0004721220575808289, 'subsample': 0.23212068808071115, 'colsample_bytree': 0.6732798996572079}. Best is trial 11 with value: 15.069434093748363.\u001b[0m\n"
     ]
    },
    {
     "name": "stdout",
     "output_type": "stream",
     "text": [
      "MAPE:  0.1339696531211962\n",
      "MAE:  2.7246592694081917\n"
     ]
    },
    {
     "name": "stderr",
     "output_type": "stream",
     "text": [
      "\u001b[32m[I 2023-04-01 23:23:51,818]\u001b[0m Trial 41 finished with value: 15.869301157779976 and parameters: {'max_depth': 7, 'learning_rate': 0.015800747356241047, 'n_estimators': 287, 'min_child_weight': 2, 'gamma': 0.00014393085958408304, 'subsample': 0.43281334294361046, 'colsample_bytree': 0.8145577657314487}. Best is trial 11 with value: 15.069434093748363.\u001b[0m\n"
     ]
    },
    {
     "name": "stdout",
     "output_type": "stream",
     "text": [
      "MAPE:  0.12894451445669017\n",
      "MAE:  2.645006978184394\n",
      "MAPE:  0.1539920508246432\n",
      "MAE:  3.0758507285783354\n"
     ]
    },
    {
     "name": "stderr",
     "output_type": "stream",
     "text": [
      "\u001b[32m[I 2023-04-01 23:25:03,093]\u001b[0m Trial 42 finished with value: 19.652104922484412 and parameters: {'max_depth': 6, 'learning_rate': 0.01197912291550993, 'n_estimators': 241, 'min_child_weight': 2, 'gamma': 0.0006910953754877817, 'subsample': 0.2487197681441472, 'colsample_bytree': 0.9580144945086302}. Best is trial 11 with value: 15.069434093748363.\u001b[0m\n",
      "\u001b[32m[I 2023-04-01 23:25:47,988]\u001b[0m Trial 43 finished with value: 17.196142626635943 and parameters: {'max_depth': 4, 'learning_rate': 0.03098806332522644, 'n_estimators': 271, 'min_child_weight': 1, 'gamma': 4.4610065724448075e-05, 'subsample': 0.17320017344000763, 'colsample_bytree': 0.49405075900636064}. Best is trial 11 with value: 15.069434093748363.\u001b[0m\n"
     ]
    },
    {
     "name": "stdout",
     "output_type": "stream",
     "text": [
      "MAPE:  0.14337154456269136\n",
      "MAE:  2.943813185752852\n"
     ]
    },
    {
     "name": "stderr",
     "output_type": "stream",
     "text": [
      "\u001b[32m[I 2023-04-01 23:26:18,556]\u001b[0m Trial 44 finished with value: 38.909401137643464 and parameters: {'max_depth': 1, 'learning_rate': 0.013215866430036572, 'n_estimators': 258, 'min_child_weight': 3, 'gamma': 0.003271545475169673, 'subsample': 0.7481654427702282, 'colsample_bytree': 0.6620716608882067}. Best is trial 11 with value: 15.069434093748363.\u001b[0m\n"
     ]
    },
    {
     "name": "stdout",
     "output_type": "stream",
     "text": [
      "MAPE:  0.20879469115155233\n",
      "MAE:  4.70337857378556\n"
     ]
    },
    {
     "name": "stderr",
     "output_type": "stream",
     "text": [
      "\u001b[32m[I 2023-04-01 23:27:33,516]\u001b[0m Trial 45 finished with value: 15.165166797274487 and parameters: {'max_depth': 5, 'learning_rate': 0.019125151875780337, 'n_estimators': 289, 'min_child_weight': 1, 'gamma': 0.001327202147006337, 'subsample': 0.34442676251771764, 'colsample_bytree': 0.7865876588849687}. Best is trial 11 with value: 15.069434093748363.\u001b[0m\n"
     ]
    },
    {
     "name": "stdout",
     "output_type": "stream",
     "text": [
      "MAPE:  0.12346257586974319\n",
      "MAE:  2.5715818637691337\n"
     ]
    },
    {
     "name": "stderr",
     "output_type": "stream",
     "text": [
      "\u001b[32m[I 2023-04-01 23:28:46,124]\u001b[0m Trial 46 finished with value: 18.256448374590455 and parameters: {'max_depth': 5, 'learning_rate': 0.09884410563787525, 'n_estimators': 289, 'min_child_weight': 1, 'gamma': 0.0002626986556249626, 'subsample': 0.4829174692803769, 'colsample_bytree': 0.5516275410462779}. Best is trial 11 with value: 15.069434093748363.\u001b[0m\n"
     ]
    },
    {
     "name": "stdout",
     "output_type": "stream",
     "text": [
      "MAPE:  0.15385743525203707\n",
      "MAE:  2.961158560735456\n"
     ]
    },
    {
     "name": "stderr",
     "output_type": "stream",
     "text": [
      "\u001b[32m[I 2023-04-01 23:29:40,166]\u001b[0m Trial 47 finished with value: 20.14610751966713 and parameters: {'max_depth': 4, 'learning_rate': 0.19851514637479203, 'n_estimators': 274, 'min_child_weight': 1, 'gamma': 0.00047175645947511967, 'subsample': 0.6441243957150627, 'colsample_bytree': 0.4303761370850057}. Best is trial 11 with value: 15.069434093748363.\u001b[0m\n"
     ]
    },
    {
     "name": "stdout",
     "output_type": "stream",
     "text": [
      "MAPE:  0.16805444778219128\n",
      "MAE:  3.1342062066110334\n"
     ]
    },
    {
     "name": "stderr",
     "output_type": "stream",
     "text": [
      "\u001b[32m[I 2023-04-01 23:29:58,153]\u001b[0m Trial 48 finished with value: 14.81371890568757 and parameters: {'max_depth': 2, 'learning_rate': 0.07321551348120191, 'n_estimators': 136, 'min_child_weight': 3, 'gamma': 0.0012249091363297172, 'subsample': 0.11315699306091274, 'colsample_bytree': 0.775274332517602}. Best is trial 48 with value: 14.81371890568757.\u001b[0m\n"
     ]
    },
    {
     "name": "stdout",
     "output_type": "stream",
     "text": [
      "MAPE:  0.12406612617937347\n",
      "MAE:  2.589630315794183\n"
     ]
    },
    {
     "name": "stderr",
     "output_type": "stream",
     "text": [
      "\u001b[32m[I 2023-04-01 23:30:12,897]\u001b[0m Trial 49 finished with value: 103.35778337652205 and parameters: {'max_depth': 5, 'learning_rate': 0.04973803244831439, 'n_estimators': 125, 'min_child_weight': 3, 'gamma': 0.0010263663588664013, 'subsample': 0.10945656241500482, 'colsample_bytree': 0.047680461556713793}. Best is trial 48 with value: 14.81371890568757.\u001b[0m\n"
     ]
    },
    {
     "name": "stdout",
     "output_type": "stream",
     "text": [
      "MAPE:  0.3006441433679848\n",
      "MAE:  7.949177032329616\n"
     ]
    },
    {
     "name": "stderr",
     "output_type": "stream",
     "text": [
      "\u001b[32m[I 2023-04-01 23:30:29,941]\u001b[0m Trial 50 finished with value: 29.55417683827647 and parameters: {'max_depth': 3, 'learning_rate': 0.04165348503298044, 'n_estimators': 146, 'min_child_weight': 1, 'gamma': 8.170749083824735e-05, 'subsample': 0.04533995157851796, 'colsample_bytree': 0.26730076252735097}. Best is trial 48 with value: 14.81371890568757.\u001b[0m\n"
     ]
    },
    {
     "name": "stdout",
     "output_type": "stream",
     "text": [
      "MAPE:  0.18279279002581503\n",
      "MAE:  3.992047125592214\n"
     ]
    },
    {
     "name": "stderr",
     "output_type": "stream",
     "text": [
      "\u001b[32m[I 2023-04-01 23:30:45,913]\u001b[0m Trial 51 finished with value: 16.157416058020363 and parameters: {'max_depth': 1, 'learning_rate': 0.07781591649088336, 'n_estimators': 145, 'min_child_weight': 2, 'gamma': 0.0016465428182001508, 'subsample': 0.2052072003730232, 'colsample_bytree': 0.733126413667268}. Best is trial 48 with value: 14.81371890568757.\u001b[0m\n"
     ]
    },
    {
     "name": "stdout",
     "output_type": "stream",
     "text": [
      "MAPE:  0.13086975934658732\n",
      "MAE:  2.782232274239727\n"
     ]
    },
    {
     "name": "stderr",
     "output_type": "stream",
     "text": [
      "\u001b[32m[I 2023-04-01 23:31:04,194]\u001b[0m Trial 52 finished with value: 33.26318491826289 and parameters: {'max_depth': 2, 'learning_rate': 0.02054264501685979, 'n_estimators': 104, 'min_child_weight': 3, 'gamma': 0.0002099130666238469, 'subsample': 0.9056321914028238, 'colsample_bytree': 0.809509844817797}. Best is trial 48 with value: 14.81371890568757.\u001b[0m\n"
     ]
    },
    {
     "name": "stdout",
     "output_type": "stream",
     "text": [
      "MAPE:  0.19239036263683074\n",
      "MAE:  4.132299107781956\n"
     ]
    },
    {
     "name": "stderr",
     "output_type": "stream",
     "text": [
      "\u001b[32m[I 2023-04-01 23:31:16,640]\u001b[0m Trial 53 finished with value: 18.158672659615704 and parameters: {'max_depth': 2, 'learning_rate': 0.11244648025765598, 'n_estimators': 94, 'min_child_weight': 1, 'gamma': 0.0003913304228729265, 'subsample': 0.07130017075666757, 'colsample_bytree': 0.6388190871474568}. Best is trial 48 with value: 14.81371890568757.\u001b[0m\n"
     ]
    },
    {
     "name": "stdout",
     "output_type": "stream",
     "text": [
      "MAPE:  0.14108903166884224\n",
      "MAE:  2.993633277704951\n"
     ]
    },
    {
     "name": "stderr",
     "output_type": "stream",
     "text": [
      "\u001b[32m[I 2023-04-01 23:31:31,109]\u001b[0m Trial 54 finished with value: 26.20777384460193 and parameters: {'max_depth': 9, 'learning_rate': 0.06800175834546006, 'n_estimators': 55, 'min_child_weight': 2, 'gamma': 0.0006487357036088378, 'subsample': 0.09834918439115599, 'colsample_bytree': 0.5340186240798144}. Best is trial 48 with value: 14.81371890568757.\u001b[0m\n"
     ]
    },
    {
     "name": "stdout",
     "output_type": "stream",
     "text": [
      "MAPE:  0.18719586726962667\n",
      "MAE:  3.716888212141919\n"
     ]
    },
    {
     "name": "stderr",
     "output_type": "stream",
     "text": [
      "\u001b[32m[I 2023-04-01 23:32:18,306]\u001b[0m Trial 55 finished with value: 15.142854534848437 and parameters: {'max_depth': 2, 'learning_rate': 0.12620078450728092, 'n_estimators': 288, 'min_child_weight': 4, 'gamma': 0.0012710225280429923, 'subsample': 0.7790236134395315, 'colsample_bytree': 0.8329652846182868}. Best is trial 48 with value: 14.81371890568757.\u001b[0m\n"
     ]
    },
    {
     "name": "stdout",
     "output_type": "stream",
     "text": [
      "MAPE:  0.11649497971621765\n",
      "MAE:  2.478464639495672\n"
     ]
    },
    {
     "name": "stderr",
     "output_type": "stream",
     "text": [
      "\u001b[32m[I 2023-04-01 23:32:49,091]\u001b[0m Trial 56 finished with value: 21.98063161428955 and parameters: {'max_depth': 6, 'learning_rate': 0.1298971181394605, 'n_estimators': 167, 'min_child_weight': 4, 'gamma': 0.001379043313966036, 'subsample': 0.1469312876356626, 'colsample_bytree': 0.35945467851311713}. Best is trial 48 with value: 14.81371890568757.\u001b[0m\n"
     ]
    },
    {
     "name": "stdout",
     "output_type": "stream",
     "text": [
      "MAPE:  0.19697387209216521\n",
      "MAE:  3.451875417008438\n"
     ]
    },
    {
     "name": "stderr",
     "output_type": "stream",
     "text": [
      "\u001b[32m[I 2023-04-01 23:33:49,779]\u001b[0m Trial 57 finished with value: 14.935356160193315 and parameters: {'max_depth': 3, 'learning_rate': 0.037104994312153416, 'n_estimators': 292, 'min_child_weight': 3, 'gamma': 0.3381915966176995, 'subsample': 0.7876426162660182, 'colsample_bytree': 0.8121443399114132}. Best is trial 48 with value: 14.81371890568757.\u001b[0m\n"
     ]
    },
    {
     "name": "stdout",
     "output_type": "stream",
     "text": [
      "MAPE:  0.11732401330398745\n",
      "MAE:  2.5040210186877054\n"
     ]
    },
    {
     "name": "stderr",
     "output_type": "stream",
     "text": [
      "\u001b[32m[I 2023-04-01 23:34:49,114]\u001b[0m Trial 58 finished with value: 14.94558204184747 and parameters: {'max_depth': 3, 'learning_rate': 0.07987525567761151, 'n_estimators': 292, 'min_child_weight': 5, 'gamma': 0.2610399722688457, 'subsample': 0.8281182894523632, 'colsample_bytree': 0.7741218716177363}. Best is trial 48 with value: 14.81371890568757.\u001b[0m\n"
     ]
    },
    {
     "name": "stdout",
     "output_type": "stream",
     "text": [
      "MAPE:  0.11827016440018293\n",
      "MAE:  2.4991987935649917\n"
     ]
    },
    {
     "name": "stderr",
     "output_type": "stream",
     "text": [
      "\u001b[32m[I 2023-04-01 23:35:18,177]\u001b[0m Trial 59 finished with value: 53.82335985141589 and parameters: {'max_depth': 3, 'learning_rate': 0.08528823279820577, 'n_estimators': 293, 'min_child_weight': 5, 'gamma': 0.3187555054619009, 'subsample': 0.8105418821152567, 'colsample_bytree': 0.027265836554641792}. Best is trial 48 with value: 14.81371890568757.\u001b[0m\n"
     ]
    },
    {
     "name": "stdout",
     "output_type": "stream",
     "text": [
      "MAPE:  0.23468801571827314\n",
      "MAE:  5.555429283896933\n"
     ]
    },
    {
     "name": "stderr",
     "output_type": "stream",
     "text": [
      "\u001b[32m[I 2023-04-01 23:35:50,456]\u001b[0m Trial 60 finished with value: 21.111729816500585 and parameters: {'max_depth': 2, 'learning_rate': 0.056064261523603956, 'n_estimators': 297, 'min_child_weight': 5, 'gamma': 0.6012335012310123, 'subsample': 0.9801470721143506, 'colsample_bytree': 0.200260399694175}. Best is trial 48 with value: 14.81371890568757.\u001b[0m\n"
     ]
    },
    {
     "name": "stdout",
     "output_type": "stream",
     "text": [
      "MAPE:  0.1619829991935406\n",
      "MAE:  3.33174268190706\n"
     ]
    },
    {
     "name": "stderr",
     "output_type": "stream",
     "text": [
      "\u001b[32m[I 2023-04-01 23:36:47,599]\u001b[0m Trial 61 finished with value: 14.933402686142806 and parameters: {'max_depth': 3, 'learning_rate': 0.03710389401791585, 'n_estimators': 282, 'min_child_weight': 4, 'gamma': 0.338856939523133, 'subsample': 0.7850841101588031, 'colsample_bytree': 0.7769127976498967}. Best is trial 48 with value: 14.81371890568757.\u001b[0m\n"
     ]
    },
    {
     "name": "stdout",
     "output_type": "stream",
     "text": [
      "MAPE:  0.11695750967732652\n",
      "MAE:  2.5009988247604107\n"
     ]
    },
    {
     "name": "stderr",
     "output_type": "stream",
     "text": [
      "\u001b[32m[I 2023-04-01 23:37:38,138]\u001b[0m Trial 62 finished with value: 17.054239514342964 and parameters: {'max_depth': 3, 'learning_rate': 0.1789076209484867, 'n_estimators': 280, 'min_child_weight': 4, 'gamma': 0.24994653557443697, 'subsample': 0.7994328253311557, 'colsample_bytree': 0.5821410184897017}. Best is trial 48 with value: 14.81371890568757.\u001b[0m\n"
     ]
    },
    {
     "name": "stdout",
     "output_type": "stream",
     "text": [
      "MAPE:  0.14494201572251086\n",
      "MAE:  2.852582913529263\n"
     ]
    },
    {
     "name": "stderr",
     "output_type": "stream",
     "text": [
      "\u001b[32m[I 2023-04-01 23:38:50,435]\u001b[0m Trial 63 finished with value: 15.884388486932274 and parameters: {'max_depth': 4, 'learning_rate': 0.15169671796466438, 'n_estimators': 290, 'min_child_weight': 6, 'gamma': 0.46858762390214026, 'subsample': 0.7139497757731887, 'colsample_bytree': 0.8337927590081157}. Best is trial 48 with value: 14.81371890568757.\u001b[0m\n"
     ]
    },
    {
     "name": "stdout",
     "output_type": "stream",
     "text": [
      "MAPE:  0.13101147118596057\n",
      "MAE:  2.6252101945705926\n"
     ]
    },
    {
     "name": "stderr",
     "output_type": "stream",
     "text": [
      "\u001b[32m[I 2023-04-01 23:39:21,612]\u001b[0m Trial 64 finished with value: 16.380995465470484 and parameters: {'max_depth': 1, 'learning_rate': 0.047663898812437565, 'n_estimators': 281, 'min_child_weight': 4, 'gamma': 0.0889742683688689, 'subsample': 0.49297561863412176, 'colsample_bytree': 0.628309283039387}. Best is trial 48 with value: 14.81371890568757.\u001b[0m\n"
     ]
    },
    {
     "name": "stdout",
     "output_type": "stream",
     "text": [
      "MAPE:  0.12896409623473604\n",
      "MAE:  2.7557889582140467\n"
     ]
    },
    {
     "name": "stderr",
     "output_type": "stream",
     "text": [
      "\u001b[32m[I 2023-04-01 23:40:10,493]\u001b[0m Trial 65 finished with value: 18.63981318675799 and parameters: {'max_depth': 3, 'learning_rate': 0.06594997727730903, 'n_estimators': 299, 'min_child_weight': 5, 'gamma': 0.038001893451032505, 'subsample': 0.8969354128444069, 'colsample_bytree': 0.4573321106968645}. Best is trial 48 with value: 14.81371890568757.\u001b[0m\n"
     ]
    },
    {
     "name": "stdout",
     "output_type": "stream",
     "text": [
      "MAPE:  0.1509843864509389\n",
      "MAE:  3.046744316165218\n"
     ]
    },
    {
     "name": "stderr",
     "output_type": "stream",
     "text": [
      "\u001b[32m[I 2023-04-01 23:40:14,795]\u001b[0m Trial 66 finished with value: 16.04997299117643 and parameters: {'max_depth': 2, 'learning_rate': 0.27021989324305185, 'n_estimators': 15, 'min_child_weight': 4, 'gamma': 0.1845064806826463, 'subsample': 0.6607009697557119, 'colsample_bytree': 0.8381693341073061}. Best is trial 48 with value: 14.81371890568757.\u001b[0m\n"
     ]
    },
    {
     "name": "stdout",
     "output_type": "stream",
     "text": [
      "MAPE:  0.12005547399548158\n",
      "MAE:  2.585663832751999\n"
     ]
    },
    {
     "name": "stderr",
     "output_type": "stream",
     "text": [
      "\u001b[32m[I 2023-04-01 23:40:30,797]\u001b[0m Trial 67 finished with value: 29.898767368629983 and parameters: {'max_depth': 3, 'learning_rate': 0.07689748665033755, 'n_estimators': 114, 'min_child_weight': 7, 'gamma': 0.2812757109123471, 'subsample': 0.02337441134211402, 'colsample_bytree': 0.7440904994622054}. Best is trial 48 with value: 14.81371890568757.\u001b[0m\n"
     ]
    },
    {
     "name": "stdout",
     "output_type": "stream",
     "text": [
      "MAPE:  0.16917403786107946\n",
      "MAE:  3.5867684045980934\n"
     ]
    },
    {
     "name": "stderr",
     "output_type": "stream",
     "text": [
      "\u001b[32m[I 2023-04-01 23:40:49,272]\u001b[0m Trial 68 finished with value: 21.903045300627447 and parameters: {'max_depth': 2, 'learning_rate': 0.11115525648881262, 'n_estimators': 138, 'min_child_weight': 3, 'gamma': 0.9874272910353511, 'subsample': 0.5461626597268157, 'colsample_bytree': 0.39623116188679836}. Best is trial 48 with value: 14.81371890568757.\u001b[0m\n"
     ]
    },
    {
     "name": "stdout",
     "output_type": "stream",
     "text": [
      "MAPE:  0.1687811113927166\n",
      "MAE:  3.421353411380569\n"
     ]
    },
    {
     "name": "stderr",
     "output_type": "stream",
     "text": [
      "\u001b[32m[I 2023-04-01 23:41:32,931]\u001b[0m Trial 69 finished with value: 20.89824897482616 and parameters: {'max_depth': 4, 'learning_rate': 0.02737717318769683, 'n_estimators': 263, 'min_child_weight': 6, 'gamma': 0.7174086298733691, 'subsample': 0.8054085608842899, 'colsample_bytree': 0.31193592313511803}. Best is trial 48 with value: 14.81371890568757.\u001b[0m\n"
     ]
    },
    {
     "name": "stdout",
     "output_type": "stream",
     "text": [
      "MAPE:  0.1577898258444464\n",
      "MAE:  3.3122291955794587\n"
     ]
    },
    {
     "name": "stderr",
     "output_type": "stream",
     "text": [
      "\u001b[32m[I 2023-04-01 23:42:02,164]\u001b[0m Trial 70 finished with value: 17.834831751409702 and parameters: {'max_depth': 1, 'learning_rate': 0.13596557742436918, 'n_estimators': 276, 'min_child_weight': 4, 'gamma': 0.07685869090184855, 'subsample': 0.38850085353860436, 'colsample_bytree': 0.579083687989139}. Best is trial 48 with value: 14.81371890568757.\u001b[0m\n"
     ]
    },
    {
     "name": "stdout",
     "output_type": "stream",
     "text": [
      "MAPE:  0.13469546141940514\n",
      "MAE:  2.8957195719529625\n"
     ]
    },
    {
     "name": "stderr",
     "output_type": "stream",
     "text": [
      "\u001b[32m[I 2023-04-01 23:43:09,300]\u001b[0m Trial 71 finished with value: 15.23289498209577 and parameters: {'max_depth': 4, 'learning_rate': 0.03868458090543357, 'n_estimators': 289, 'min_child_weight': 5, 'gamma': 0.3624081649800948, 'subsample': 0.6635468158571128, 'colsample_bytree': 0.7200436841716391}. Best is trial 48 with value: 14.81371890568757.\u001b[0m\n"
     ]
    },
    {
     "name": "stdout",
     "output_type": "stream",
     "text": [
      "MAPE:  0.12213080219702382\n",
      "MAE:  2.5617230070031685\n"
     ]
    },
    {
     "name": "stderr",
     "output_type": "stream",
     "text": [
      "\u001b[32m[I 2023-04-01 23:43:50,552]\u001b[0m Trial 72 finished with value: 25.483900003032193 and parameters: {'max_depth': 3, 'learning_rate': 0.03655378635452611, 'n_estimators': 299, 'min_child_weight': 3, 'gamma': 0.019661069848842454, 'subsample': 0.010216380055363045, 'colsample_bytree': 0.8915352084089104}. Best is trial 48 with value: 14.81371890568757.\u001b[0m\n"
     ]
    },
    {
     "name": "stdout",
     "output_type": "stream",
     "text": [
      "MAPE:  0.17029337999737043\n",
      "MAE:  3.5476856847083225\n"
     ]
    },
    {
     "name": "stderr",
     "output_type": "stream",
     "text": [
      "\u001b[32m[I 2023-04-01 23:44:33,372]\u001b[0m Trial 73 finished with value: 15.341978087328263 and parameters: {'max_depth': 2, 'learning_rate': 0.030041549956764585, 'n_estimators': 268, 'min_child_weight': 4, 'gamma': 0.005563882085192125, 'subsample': 0.9814038000671815, 'colsample_bytree': 0.7117020385923033}. Best is trial 48 with value: 14.81371890568757.\u001b[0m\n"
     ]
    },
    {
     "name": "stdout",
     "output_type": "stream",
     "text": [
      "MAPE:  0.12121403409177425\n",
      "MAE:  2.606341945023721\n"
     ]
    },
    {
     "name": "stderr",
     "output_type": "stream",
     "text": [
      "\u001b[32m[I 2023-04-01 23:45:19,499]\u001b[0m Trial 74 finished with value: 18.657027247312644 and parameters: {'max_depth': 5, 'learning_rate': 0.05822366044696914, 'n_estimators': 283, 'min_child_weight': 3, 'gamma': 0.20999771897236852, 'subsample': 0.05435894349931022, 'colsample_bytree': 0.5331960831689259}. Best is trial 48 with value: 14.81371890568757.\u001b[0m\n"
     ]
    },
    {
     "name": "stdout",
     "output_type": "stream",
     "text": [
      "MAPE:  0.1585809487729636\n",
      "MAE:  3.1271537028894887\n"
     ]
    },
    {
     "name": "stderr",
     "output_type": "stream",
     "text": [
      "\u001b[32m[I 2023-04-01 23:45:59,259]\u001b[0m Trial 75 finished with value: 16.32046051168541 and parameters: {'max_depth': 3, 'learning_rate': 0.0843656658244019, 'n_estimators': 258, 'min_child_weight': 5, 'gamma': 0.11378384008316632, 'subsample': 0.26539067953784146, 'colsample_bytree': 0.6325357165330552}. Best is trial 48 with value: 14.81371890568757.\u001b[0m\n"
     ]
    },
    {
     "name": "stdout",
     "output_type": "stream",
     "text": [
      "MAPE:  0.13851717551522327\n",
      "MAE:  2.7734982689258905\n"
     ]
    },
    {
     "name": "stderr",
     "output_type": "stream",
     "text": [
      "\u001b[32m[I 2023-04-01 23:46:31,964]\u001b[0m Trial 76 finished with value: 17.073788870867546 and parameters: {'max_depth': 1, 'learning_rate': 0.023785163565606206, 'n_estimators': 277, 'min_child_weight': 9, 'gamma': 0.4064980346359242, 'subsample': 0.4535759259965046, 'colsample_bytree': 0.8741136944475939}. Best is trial 48 with value: 14.81371890568757.\u001b[0m\n"
     ]
    },
    {
     "name": "stdout",
     "output_type": "stream",
     "text": [
      "MAPE:  0.13598720166235792\n",
      "MAE:  2.844911021090923\n"
     ]
    },
    {
     "name": "stderr",
     "output_type": "stream",
     "text": [
      "\u001b[32m[I 2023-04-01 23:47:07,040]\u001b[0m Trial 77 finished with value: 17.696422231194788 and parameters: {'max_depth': 4, 'learning_rate': 0.04560136619381836, 'n_estimators': 233, 'min_child_weight': 4, 'gamma': 0.001180370594995633, 'subsample': 0.11772065810315503, 'colsample_bytree': 0.4836148618801924}. Best is trial 48 with value: 14.81371890568757.\u001b[0m\n"
     ]
    },
    {
     "name": "stdout",
     "output_type": "stream",
     "text": [
      "MAPE:  0.14966932946457756\n",
      "MAE:  2.994026595901014\n"
     ]
    },
    {
     "name": "stderr",
     "output_type": "stream",
     "text": [
      "\u001b[32m[I 2023-04-01 23:47:47,299]\u001b[0m Trial 78 finished with value: 15.528676178186466 and parameters: {'max_depth': 2, 'learning_rate': 0.09228366163617126, 'n_estimators': 247, 'min_child_weight': 7, 'gamma': 0.009016451655786541, 'subsample': 0.8580856863608322, 'colsample_bytree': 0.767050685713168}. Best is trial 48 with value: 14.81371890568757.\u001b[0m\n"
     ]
    },
    {
     "name": "stdout",
     "output_type": "stream",
     "text": [
      "MAPE:  0.11655649359777771\n",
      "MAE:  2.5189266229204175\n"
     ]
    },
    {
     "name": "stderr",
     "output_type": "stream",
     "text": [
      "\u001b[32m[I 2023-04-01 23:48:18,539]\u001b[0m Trial 79 finished with value: 15.184912969049428 and parameters: {'max_depth': 1, 'learning_rate': 0.07199491257121181, 'n_estimators': 290, 'min_child_weight': 3, 'gamma': 0.032679445846546015, 'subsample': 0.08231318792547869, 'colsample_bytree': 0.8931447425588716}. Best is trial 48 with value: 14.81371890568757.\u001b[0m\n"
     ]
    },
    {
     "name": "stdout",
     "output_type": "stream",
     "text": [
      "MAPE:  0.12757693538390638\n",
      "MAE:  2.660814524496837\n"
     ]
    },
    {
     "name": "stderr",
     "output_type": "stream",
     "text": [
      "\u001b[32m[I 2023-04-01 23:48:49,788]\u001b[0m Trial 80 finished with value: 14.6558005132001 and parameters: {'max_depth': 1, 'learning_rate': 0.07461735146220382, 'n_estimators': 290, 'min_child_weight': 3, 'gamma': 0.03098183792200609, 'subsample': 0.08272055326867303, 'colsample_bytree': 0.986260980778168}. Best is trial 80 with value: 14.6558005132001.\u001b[0m\n"
     ]
    },
    {
     "name": "stdout",
     "output_type": "stream",
     "text": [
      "MAPE:  0.12236353710623978\n",
      "MAE:  2.5520052899805346\n"
     ]
    },
    {
     "name": "stderr",
     "output_type": "stream",
     "text": [
      "\u001b[32m[I 2023-04-01 23:49:19,992]\u001b[0m Trial 81 finished with value: 17.229848108177276 and parameters: {'max_depth': 1, 'learning_rate': 0.07072597010117071, 'n_estimators': 292, 'min_child_weight': 3, 'gamma': 0.021486742410393445, 'subsample': 0.03692015224977213, 'colsample_bytree': 0.8846728027073261}. Best is trial 80 with value: 14.6558005132001.\u001b[0m\n"
     ]
    },
    {
     "name": "stdout",
     "output_type": "stream",
     "text": [
      "MAPE:  0.13948385051485052\n",
      "MAE:  2.9209498948930355\n"
     ]
    },
    {
     "name": "stderr",
     "output_type": "stream",
     "text": [
      "\u001b[32m[I 2023-04-01 23:49:50,743]\u001b[0m Trial 82 finished with value: 14.905672761840764 and parameters: {'max_depth': 1, 'learning_rate': 0.10156128194556638, 'n_estimators': 287, 'min_child_weight': 3, 'gamma': 0.042184953160578, 'subsample': 0.08550058912260834, 'colsample_bytree': 0.9944660576481296}. Best is trial 80 with value: 14.6558005132001.\u001b[0m\n"
     ]
    },
    {
     "name": "stdout",
     "output_type": "stream",
     "text": [
      "MAPE:  0.123924776842275\n",
      "MAE:  2.5591727062111045\n"
     ]
    },
    {
     "name": "stderr",
     "output_type": "stream",
     "text": [
      "\u001b[32m[I 2023-04-01 23:50:19,743]\u001b[0m Trial 83 finished with value: 15.448370642419897 and parameters: {'max_depth': 1, 'learning_rate': 0.16531576822577568, 'n_estimators': 273, 'min_child_weight': 4, 'gamma': 0.057750291407360876, 'subsample': 0.08707659378628152, 'colsample_bytree': 0.9726937520754285}. Best is trial 80 with value: 14.6558005132001.\u001b[0m\n"
     ]
    },
    {
     "name": "stdout",
     "output_type": "stream",
     "text": [
      "MAPE:  0.12978059429598868\n",
      "MAE:  2.635127449061689\n"
     ]
    },
    {
     "name": "stderr",
     "output_type": "stream",
     "text": [
      "\u001b[32m[I 2023-04-01 23:50:49,603]\u001b[0m Trial 84 finished with value: 16.758667101225754 and parameters: {'max_depth': 1, 'learning_rate': 0.11941781443879017, 'n_estimators': 300, 'min_child_weight': 3, 'gamma': 0.1619030759835191, 'subsample': 0.05653605308621715, 'colsample_bytree': 0.700269919300682}. Best is trial 80 with value: 14.6558005132001.\u001b[0m\n"
     ]
    },
    {
     "name": "stdout",
     "output_type": "stream",
     "text": [
      "MAPE:  0.1418595407238404\n",
      "MAE:  2.9016589233454098\n"
     ]
    },
    {
     "name": "stderr",
     "output_type": "stream",
     "text": [
      "\u001b[32m[I 2023-04-01 23:51:37,811]\u001b[0m Trial 85 finished with value: 15.509871564483072 and parameters: {'max_depth': 2, 'learning_rate': 0.09270001315863918, 'n_estimators': 283, 'min_child_weight': 4, 'gamma': 0.016490362939371426, 'subsample': 0.5828339813073476, 'colsample_bytree': 0.9891455676936397}. Best is trial 80 with value: 14.6558005132001.\u001b[0m\n"
     ]
    },
    {
     "name": "stdout",
     "output_type": "stream",
     "text": [
      "MAPE:  0.11320249822328093\n",
      "MAE:  2.4487164105368913\n"
     ]
    },
    {
     "name": "stderr",
     "output_type": "stream",
     "text": [
      "\u001b[32m[I 2023-04-01 23:52:03,805]\u001b[0m Trial 86 finished with value: 17.188885926109226 and parameters: {'max_depth': 1, 'learning_rate': 0.10133130661662705, 'n_estimators': 263, 'min_child_weight': 3, 'gamma': 0.0019946948443342375, 'subsample': 0.06459189004312788, 'colsample_bytree': 0.6116916520078717}. Best is trial 80 with value: 14.6558005132001.\u001b[0m\n"
     ]
    },
    {
     "name": "stdout",
     "output_type": "stream",
     "text": [
      "MAPE:  0.1386138703417522\n",
      "MAE:  2.923024281022254\n"
     ]
    },
    {
     "name": "stderr",
     "output_type": "stream",
     "text": [
      "\u001b[32m[I 2023-04-01 23:52:39,288]\u001b[0m Trial 87 finished with value: 16.935126998072025 and parameters: {'max_depth': 2, 'learning_rate': 0.14371364857805505, 'n_estimators': 285, 'min_child_weight': 6, 'gamma': 0.003941038185940887, 'subsample': 0.08918260950410645, 'colsample_bytree': 0.7919786101574068}. Best is trial 80 with value: 14.6558005132001.\u001b[0m\n"
     ]
    },
    {
     "name": "stdout",
     "output_type": "stream",
     "text": [
      "MAPE:  0.13201493873596779\n",
      "MAE:  2.723745052473673\n"
     ]
    },
    {
     "name": "stderr",
     "output_type": "stream",
     "text": [
      "\u001b[32m[I 2023-04-01 23:53:23,877]\u001b[0m Trial 88 finished with value: 14.891129408263014 and parameters: {'max_depth': 2, 'learning_rate': 0.05293299234667292, 'n_estimators': 268, 'min_child_weight': 5, 'gamma': 0.011617017771725916, 'subsample': 0.7379622142742288, 'colsample_bytree': 0.877402091657809}. Best is trial 80 with value: 14.6558005132001.\u001b[0m\n"
     ]
    },
    {
     "name": "stdout",
     "output_type": "stream",
     "text": [
      "MAPE:  0.11560566622510754\n",
      "MAE:  2.4938263423582736\n"
     ]
    },
    {
     "name": "stderr",
     "output_type": "stream",
     "text": [
      "\u001b[32m[I 2023-04-01 23:53:51,708]\u001b[0m Trial 89 finished with value: 23.42814502733525 and parameters: {'max_depth': 2, 'learning_rate': 0.05991292126365545, 'n_estimators': 269, 'min_child_weight': 5, 'gamma': 0.02827173355802744, 'subsample': 0.7349793624030307, 'colsample_bytree': 0.15115082396498392}. Best is trial 80 with value: 14.6558005132001.\u001b[0m\n"
     ]
    },
    {
     "name": "stdout",
     "output_type": "stream",
     "text": [
      "MAPE:  0.17667414675214255\n",
      "MAE:  3.609115832437588\n"
     ]
    },
    {
     "name": "stderr",
     "output_type": "stream",
     "text": [
      "\u001b[32m[I 2023-04-01 23:54:07,518]\u001b[0m Trial 90 finished with value: 47.636171588320835 and parameters: {'max_depth': 2, 'learning_rate': 0.04929146075462218, 'n_estimators': 157, 'min_child_weight': 5, 'gamma': 0.061865635917340484, 'subsample': 0.5297932678632943, 'colsample_bytree': 0.08890382619296293}. Best is trial 80 with value: 14.6558005132001.\u001b[0m\n"
     ]
    },
    {
     "name": "stdout",
     "output_type": "stream",
     "text": [
      "MAPE:  0.23206891252799527\n",
      "MAE:  5.379618226254031\n"
     ]
    },
    {
     "name": "stderr",
     "output_type": "stream",
     "text": [
      "\u001b[32m[I 2023-04-01 23:55:00,878]\u001b[0m Trial 91 finished with value: 15.999652588632593 and parameters: {'max_depth': 3, 'learning_rate': 0.07958658038553912, 'n_estimators': 292, 'min_child_weight': 4, 'gamma': 0.037848306000525564, 'subsample': 0.6191707198803515, 'colsample_bytree': 0.6630342360657663}. Best is trial 80 with value: 14.6558005132001.\u001b[0m\n"
     ]
    },
    {
     "name": "stdout",
     "output_type": "stream",
     "text": [
      "MAPE:  0.13032151896728658\n",
      "MAE:  2.673456046632613\n"
     ]
    },
    {
     "name": "stderr",
     "output_type": "stream",
     "text": [
      "\u001b[32m[I 2023-04-01 23:55:36,863]\u001b[0m Trial 92 finished with value: 14.63569521386073 and parameters: {'max_depth': 1, 'learning_rate': 0.05378711569213805, 'n_estimators': 275, 'min_child_weight': 5, 'gamma': 0.010540134440211414, 'subsample': 0.8502430774648793, 'colsample_bytree': 0.9055416683144051}. Best is trial 92 with value: 14.63569521386073.\u001b[0m\n"
     ]
    },
    {
     "name": "stdout",
     "output_type": "stream",
     "text": [
      "MAPE:  0.11105876491794654\n",
      "MAE:  2.4161517197608053\n"
     ]
    },
    {
     "name": "stderr",
     "output_type": "stream",
     "text": [
      "\u001b[32m[I 2023-04-01 23:56:12,800]\u001b[0m Trial 93 finished with value: 14.867730157200615 and parameters: {'max_depth': 1, 'learning_rate': 0.0521070377092823, 'n_estimators': 275, 'min_child_weight': 5, 'gamma': 0.015463406825231556, 'subsample': 0.7571770035399171, 'colsample_bytree': 0.8824396204054374}. Best is trial 92 with value: 14.63569521386073.\u001b[0m\n"
     ]
    },
    {
     "name": "stdout",
     "output_type": "stream",
     "text": [
      "MAPE:  0.11319566232619138\n",
      "MAE:  2.4639972362216196\n"
     ]
    },
    {
     "name": "stderr",
     "output_type": "stream",
     "text": [
      "\u001b[32m[I 2023-04-01 23:56:49,170]\u001b[0m Trial 94 finished with value: 14.664346302041132 and parameters: {'max_depth': 1, 'learning_rate': 0.052919336225541146, 'n_estimators': 259, 'min_child_weight': 6, 'gamma': 0.01238058593023761, 'subsample': 0.909390322121597, 'colsample_bytree': 0.9939941961302419}. Best is trial 92 with value: 14.63569521386073.\u001b[0m\n"
     ]
    },
    {
     "name": "stdout",
     "output_type": "stream",
     "text": [
      "MAPE:  0.11128106698649604\n",
      "MAE:  2.4082912411843047\n"
     ]
    },
    {
     "name": "stderr",
     "output_type": "stream",
     "text": [
      "\u001b[32m[I 2023-04-01 23:57:23,038]\u001b[0m Trial 95 finished with value: 15.081398339344211 and parameters: {'max_depth': 1, 'learning_rate': 0.042543943203274724, 'n_estimators': 259, 'min_child_weight': 6, 'gamma': 0.013243892740711116, 'subsample': 0.890186310409233, 'colsample_bytree': 0.906548872881318}. Best is trial 92 with value: 14.63569521386073.\u001b[0m\n"
     ]
    },
    {
     "name": "stdout",
     "output_type": "stream",
     "text": [
      "MAPE:  0.11438867649641332\n",
      "MAE:  2.4730572514282483\n"
     ]
    },
    {
     "name": "stderr",
     "output_type": "stream",
     "text": [
      "\u001b[32m[I 2023-04-01 23:57:50,816]\u001b[0m Trial 96 finished with value: 28.619192770480726 and parameters: {'max_depth': 1, 'learning_rate': 0.05159943624437622, 'n_estimators': 276, 'min_child_weight': 6, 'gamma': 0.007325184441826082, 'subsample': 0.019056586398242117, 'colsample_bytree': 0.6940850656564902}. Best is trial 92 with value: 14.63569521386073.\u001b[0m\n"
     ]
    },
    {
     "name": "stdout",
     "output_type": "stream",
     "text": [
      "MAPE:  0.17089716491658624\n",
      "MAE:  3.67063880264387\n"
     ]
    },
    {
     "name": "stderr",
     "output_type": "stream",
     "text": [
      "\u001b[32m[I 2023-04-01 23:58:24,444]\u001b[0m Trial 97 finished with value: 14.525374205685454 and parameters: {'max_depth': 1, 'learning_rate': 0.0633782412100398, 'n_estimators': 251, 'min_child_weight': 5, 'gamma': 0.01359732423471244, 'subsample': 0.7017516540970504, 'colsample_bytree': 0.9914357381380676}. Best is trial 97 with value: 14.525374205685454.\u001b[0m\n"
     ]
    },
    {
     "name": "stdout",
     "output_type": "stream",
     "text": [
      "MAPE:  0.11169388060700003\n",
      "MAE:  2.4030808409241105\n"
     ]
    },
    {
     "name": "stderr",
     "output_type": "stream",
     "text": [
      "\u001b[32m[I 2023-04-01 23:58:56,828]\u001b[0m Trial 98 finished with value: 14.525088273878787 and parameters: {'max_depth': 1, 'learning_rate': 0.0637207770486797, 'n_estimators': 248, 'min_child_weight': 5, 'gamma': 0.012883989505955781, 'subsample': 0.7167654870556511, 'colsample_bytree': 0.9809632893100033}. Best is trial 98 with value: 14.525088273878787.\u001b[0m\n"
     ]
    },
    {
     "name": "stdout",
     "output_type": "stream",
     "text": [
      "MAPE:  0.11129713603755167\n",
      "MAE:  2.3964532972795984\n"
     ]
    },
    {
     "name": "stderr",
     "output_type": "stream",
     "text": [
      "\u001b[32m[I 2023-04-01 23:59:29,403]\u001b[0m Trial 99 finished with value: 14.627758640351768 and parameters: {'max_depth': 1, 'learning_rate': 0.056246722985055383, 'n_estimators': 250, 'min_child_weight': 5, 'gamma': 0.011960460502850238, 'subsample': 0.6820011800857807, 'colsample_bytree': 0.9830337340351777}. Best is trial 98 with value: 14.525088273878787.\u001b[0m\n"
     ]
    },
    {
     "name": "stdout",
     "output_type": "stream",
     "text": [
      "MAPE:  0.11209084218239689\n",
      "MAE:  2.4156269825688015\n"
     ]
    },
    {
     "name": "stderr",
     "output_type": "stream",
     "text": [
      "\u001b[32m[I 2023-04-02 00:00:05,378]\u001b[0m A new study created in memory with name: no-name-9451fd87-740e-4511-802c-ab9e38f1cd85\u001b[0m\n",
      "\u001b[32m[I 2023-04-02 00:00:13,277]\u001b[0m Trial 0 finished with value: 198.20701466681192 and parameters: {'max_depth': 6, 'learning_rate': 0.11268487608746272, 'n_estimators': 52, 'min_child_weight': 1, 'gamma': 0.046198671212799094, 'subsample': 0.011186676356425847, 'colsample_bytree': 0.025192513507261472}. Best is trial 0 with value: 198.20701466681192.\u001b[0m\n"
     ]
    },
    {
     "name": "stdout",
     "output_type": "stream",
     "text": [
      "MAPE:  0.37401277836369357\n",
      "MAE:  10.51006876510776\n"
     ]
    },
    {
     "name": "stderr",
     "output_type": "stream",
     "text": [
      "\u001b[32m[I 2023-04-02 00:00:50,849]\u001b[0m Trial 1 finished with value: 64.4137245712734 and parameters: {'max_depth': 3, 'learning_rate': 0.23750689127487742, 'n_estimators': 229, 'min_child_weight': 7, 'gamma': 0.00041930079571117366, 'subsample': 0.04292672162321413, 'colsample_bytree': 0.504028079703777}. Best is trial 1 with value: 64.4137245712734.\u001b[0m\n"
     ]
    },
    {
     "name": "stdout",
     "output_type": "stream",
     "text": [
      "MAPE:  0.4112607670465429\n",
      "MAE:  5.689725512863089\n"
     ]
    },
    {
     "name": "stderr",
     "output_type": "stream",
     "text": [
      "\u001b[32m[I 2023-04-02 00:00:56,090]\u001b[0m Trial 2 finished with value: 233.02065544868532 and parameters: {'max_depth': 2, 'learning_rate': 0.06721776373970693, 'n_estimators': 31, 'min_child_weight': 6, 'gamma': 6.7776305064068e-05, 'subsample': 0.1518326138013343, 'colsample_bytree': 0.013352340172392766}. Best is trial 1 with value: 64.4137245712734.\u001b[0m\n"
     ]
    },
    {
     "name": "stdout",
     "output_type": "stream",
     "text": [
      "MAPE:  0.42337379055451624\n",
      "MAE:  11.952078159679932\n"
     ]
    },
    {
     "name": "stderr",
     "output_type": "stream",
     "text": [
      "\u001b[32m[I 2023-04-02 00:01:43,429]\u001b[0m Trial 3 finished with value: 36.356991516336166 and parameters: {'max_depth': 3, 'learning_rate': 0.01683321877234821, 'n_estimators': 235, 'min_child_weight': 2, 'gamma': 0.02964969066923868, 'subsample': 0.09610139874083715, 'colsample_bytree': 0.7619228460195366}. Best is trial 3 with value: 36.356991516336166.\u001b[0m\n"
     ]
    },
    {
     "name": "stdout",
     "output_type": "stream",
     "text": [
      "MAPE:  0.19501459962305454\n",
      "MAE:  4.1505881116147645\n"
     ]
    },
    {
     "name": "stderr",
     "output_type": "stream",
     "text": [
      "\u001b[32m[I 2023-04-02 00:02:18,314]\u001b[0m Trial 4 finished with value: 57.313762708950094 and parameters: {'max_depth': 6, 'learning_rate': 0.25660083547930407, 'n_estimators': 233, 'min_child_weight': 10, 'gamma': 0.004344893786364301, 'subsample': 0.11380273689829343, 'colsample_bytree': 0.10957428265933462}. Best is trial 3 with value: 36.356991516336166.\u001b[0m\n"
     ]
    },
    {
     "name": "stdout",
     "output_type": "stream",
     "text": [
      "MAPE:  0.9368442541750895\n",
      "MAE:  5.307715705842403\n"
     ]
    },
    {
     "name": "stderr",
     "output_type": "stream",
     "text": [
      "\u001b[32m[I 2023-04-02 00:02:27,616]\u001b[0m Trial 5 finished with value: 193.784738759862 and parameters: {'max_depth': 8, 'learning_rate': 0.08570609149958591, 'n_estimators': 65, 'min_child_weight': 4, 'gamma': 0.0024938647051938193, 'subsample': 0.016023859471074015, 'colsample_bytree': 0.029535467251600014}. Best is trial 3 with value: 36.356991516336166.\u001b[0m\n"
     ]
    },
    {
     "name": "stdout",
     "output_type": "stream",
     "text": [
      "MAPE:  0.3774712549047228\n",
      "MAE:  11.229771683650666\n"
     ]
    },
    {
     "name": "stderr",
     "output_type": "stream",
     "text": [
      "\u001b[32m[I 2023-04-02 00:04:10,234]\u001b[0m Trial 6 finished with value: 45.15461355082361 and parameters: {'max_depth': 6, 'learning_rate': 0.4907283269786904, 'n_estimators': 299, 'min_child_weight': 3, 'gamma': 0.0044364202961475535, 'subsample': 0.9544862602426952, 'colsample_bytree': 0.4330643273491314}. Best is trial 3 with value: 36.356991516336166.\u001b[0m\n"
     ]
    },
    {
     "name": "stdout",
     "output_type": "stream",
     "text": [
      "MAPE:  0.29801214776177953\n",
      "MAE:  4.567633084446475\n"
     ]
    },
    {
     "name": "stderr",
     "output_type": "stream",
     "text": [
      "\u001b[32m[I 2023-04-02 00:05:05,581]\u001b[0m Trial 7 finished with value: 42.27328889862048 and parameters: {'max_depth': 5, 'learning_rate': 0.028701436423492144, 'n_estimators': 289, 'min_child_weight': 1, 'gamma': 1.9292190185789407e-05, 'subsample': 0.44918514983345587, 'colsample_bytree': 0.10651585449855115}. Best is trial 3 with value: 36.356991516336166.\u001b[0m\n"
     ]
    },
    {
     "name": "stdout",
     "output_type": "stream",
     "text": [
      "MAPE:  0.209167158537073\n",
      "MAE:  4.767830872654766\n"
     ]
    },
    {
     "name": "stderr",
     "output_type": "stream",
     "text": [
      "\u001b[32m[I 2023-04-02 00:05:38,725]\u001b[0m Trial 8 finished with value: 100.85218156340775 and parameters: {'max_depth': 9, 'learning_rate': 0.06231299010792867, 'n_estimators': 251, 'min_child_weight': 5, 'gamma': 0.00877324861002466, 'subsample': 0.057813828685093854, 'colsample_bytree': 0.01999083054783852}. Best is trial 3 with value: 36.356991516336166.\u001b[0m\n"
     ]
    },
    {
     "name": "stdout",
     "output_type": "stream",
     "text": [
      "MAPE:  0.2974656253446205\n",
      "MAE:  7.748240938049726\n"
     ]
    },
    {
     "name": "stderr",
     "output_type": "stream",
     "text": [
      "\u001b[32m[I 2023-04-02 00:05:56,868]\u001b[0m Trial 9 finished with value: 91.02549194138662 and parameters: {'max_depth': 2, 'learning_rate': 0.04241462890502662, 'n_estimators': 139, 'min_child_weight': 6, 'gamma': 6.498805243509051e-05, 'subsample': 0.2624581452118405, 'colsample_bytree': 0.0605013521262884}. Best is trial 3 with value: 36.356991516336166.\u001b[0m\n"
     ]
    },
    {
     "name": "stdout",
     "output_type": "stream",
     "text": [
      "MAPE:  0.29035962355741307\n",
      "MAE:  7.472746250781227\n"
     ]
    },
    {
     "name": "stderr",
     "output_type": "stream",
     "text": [
      "\u001b[32m[I 2023-04-02 00:06:33,804]\u001b[0m Trial 10 finished with value: 46.96311714478939 and parameters: {'max_depth': 4, 'learning_rate': 0.0214436086510987, 'n_estimators': 173, 'min_child_weight': 3, 'gamma': 0.30042859100779157, 'subsample': 0.0327642366884305, 'colsample_bytree': 0.8811484218117739}. Best is trial 3 with value: 36.356991516336166.\u001b[0m\n"
     ]
    },
    {
     "name": "stdout",
     "output_type": "stream",
     "text": [
      "MAPE:  0.21479595631644888\n",
      "MAE:  4.6675920166847265\n"
     ]
    },
    {
     "name": "stderr",
     "output_type": "stream",
     "text": [
      "\u001b[32m[I 2023-04-02 00:07:26,734]\u001b[0m Trial 11 finished with value: 55.160479798228636 and parameters: {'max_depth': 4, 'learning_rate': 0.011807049383310076, 'n_estimators': 298, 'min_child_weight': 1, 'gamma': 0.810230036478197, 'subsample': 0.3950399385264541, 'colsample_bytree': 0.1641482879885587}. Best is trial 3 with value: 36.356991516336166.\u001b[0m\n"
     ]
    },
    {
     "name": "stdout",
     "output_type": "stream",
     "text": [
      "MAPE:  0.23404026339731698\n",
      "MAE:  5.457240560118774\n"
     ]
    },
    {
     "name": "stderr",
     "output_type": "stream",
     "text": [
      "\u001b[32m[I 2023-04-02 00:07:50,236]\u001b[0m Trial 12 finished with value: 69.06632372455016 and parameters: {'max_depth': 1, 'learning_rate': 0.022019594827238136, 'n_estimators': 183, 'min_child_weight': 1, 'gamma': 1.0212411094263141e-05, 'subsample': 0.4802350475027072, 'colsample_bytree': 0.2715763611390378}. Best is trial 3 with value: 36.356991516336166.\u001b[0m\n"
     ]
    },
    {
     "name": "stdout",
     "output_type": "stream",
     "text": [
      "MAPE:  0.2731421810122608\n",
      "MAE:  6.542638796917657\n"
     ]
    },
    {
     "name": "stderr",
     "output_type": "stream",
     "text": [
      "\u001b[32m[I 2023-04-02 00:08:29,186]\u001b[0m Trial 13 finished with value: 142.57879874996615 and parameters: {'max_depth': 5, 'learning_rate': 0.010834298945973538, 'n_estimators': 261, 'min_child_weight': 3, 'gamma': 0.05892522035369073, 'subsample': 0.18956910442945776, 'colsample_bytree': 0.04938540809610495}. Best is trial 3 with value: 36.356991516336166.\u001b[0m\n"
     ]
    },
    {
     "name": "stdout",
     "output_type": "stream",
     "text": [
      "MAPE:  0.34378896683162136\n",
      "MAE:  9.223144713784574\n"
     ]
    },
    {
     "name": "stderr",
     "output_type": "stream",
     "text": [
      "\u001b[32m[I 2023-04-02 00:09:44,141]\u001b[0m Trial 14 finished with value: 33.55589136058748 and parameters: {'max_depth': 4, 'learning_rate': 0.027109558522448788, 'n_estimators': 203, 'min_child_weight': 2, 'gamma': 0.000867866848455155, 'subsample': 0.9804093010970213, 'colsample_bytree': 0.9262620494267237}. Best is trial 14 with value: 33.55589136058748.\u001b[0m\n"
     ]
    },
    {
     "name": "stdout",
     "output_type": "stream",
     "text": [
      "MAPE:  0.17510170243601844\n",
      "MAE:  3.751040189360709\n"
     ]
    },
    {
     "name": "stderr",
     "output_type": "stream",
     "text": [
      "\u001b[32m[I 2023-04-02 00:10:10,327]\u001b[0m Trial 15 finished with value: 66.41906509230704 and parameters: {'max_depth': 3, 'learning_rate': 0.016250517864408804, 'n_estimators': 123, 'min_child_weight': 3, 'gamma': 0.0007168011108835702, 'subsample': 0.07085630624097919, 'colsample_bytree': 0.850239946632437}. Best is trial 14 with value: 33.55589136058748.\u001b[0m\n"
     ]
    },
    {
     "name": "stdout",
     "output_type": "stream",
     "text": [
      "MAPE:  0.2850706500987246\n",
      "MAE:  5.626166809996714\n"
     ]
    },
    {
     "name": "stderr",
     "output_type": "stream",
     "text": [
      "\u001b[32m[I 2023-04-02 00:10:36,220]\u001b[0m Trial 16 finished with value: 41.538896749177546 and parameters: {'max_depth': 1, 'learning_rate': 0.03833872828310662, 'n_estimators': 195, 'min_child_weight': 8, 'gamma': 0.03074229091049335, 'subsample': 0.867122991983343, 'colsample_bytree': 0.3884771000787029}. Best is trial 14 with value: 33.55589136058748.\u001b[0m\n"
     ]
    },
    {
     "name": "stdout",
     "output_type": "stream",
     "text": [
      "MAPE:  0.21419538512053288\n",
      "MAE:  4.714016914776946\n"
     ]
    },
    {
     "name": "stderr",
     "output_type": "stream",
     "text": [
      "\u001b[32m[I 2023-04-02 00:10:58,830]\u001b[0m Trial 17 finished with value: 51.72856433456252 and parameters: {'max_depth': 3, 'learning_rate': 0.1410553679241392, 'n_estimators': 102, 'min_child_weight': 2, 'gamma': 0.0005468261276375347, 'subsample': 0.02760186898847219, 'colsample_bytree': 0.9876786197358763}. Best is trial 14 with value: 33.55589136058748.\u001b[0m\n"
     ]
    },
    {
     "name": "stdout",
     "output_type": "stream",
     "text": [
      "MAPE:  0.26135880877119455\n",
      "MAE:  4.99390631667007\n"
     ]
    },
    {
     "name": "stderr",
     "output_type": "stream",
     "text": [
      "\u001b[32m[I 2023-04-02 00:11:34,289]\u001b[0m Trial 18 finished with value: 39.245835700835684 and parameters: {'max_depth': 4, 'learning_rate': 0.03857311137525711, 'n_estimators': 214, 'min_child_weight': 4, 'gamma': 0.14927718666598128, 'subsample': 0.09033391332088571, 'colsample_bytree': 0.21976938294980328}. Best is trial 14 with value: 33.55589136058748.\u001b[0m\n"
     ]
    },
    {
     "name": "stdout",
     "output_type": "stream",
     "text": [
      "MAPE:  0.20081717045512962\n",
      "MAE:  4.3854751509896825\n"
     ]
    },
    {
     "name": "stderr",
     "output_type": "stream",
     "text": [
      "\u001b[32m[I 2023-04-02 00:12:26,939]\u001b[0m Trial 19 finished with value: 50.87313797749769 and parameters: {'max_depth': 7, 'learning_rate': 0.015164685617879165, 'n_estimators': 154, 'min_child_weight': 2, 'gamma': 0.01271631218692342, 'subsample': 0.3038842925591507, 'colsample_bytree': 0.5824960584004638}. Best is trial 14 with value: 33.55589136058748.\u001b[0m\n"
     ]
    },
    {
     "name": "stdout",
     "output_type": "stream",
     "text": [
      "MAPE:  0.2533743590107777\n",
      "MAE:  4.9681926477751635\n"
     ]
    },
    {
     "name": "stderr",
     "output_type": "stream",
     "text": [
      "\u001b[32m[I 2023-04-02 00:12:56,533]\u001b[0m Trial 20 finished with value: 38.40776800898962 and parameters: {'max_depth': 2, 'learning_rate': 0.028727463135868166, 'n_estimators': 206, 'min_child_weight': 5, 'gamma': 0.0012840590795288721, 'subsample': 0.15708286768202048, 'colsample_bytree': 0.2907703262429245}. Best is trial 14 with value: 33.55589136058748.\u001b[0m\n"
     ]
    },
    {
     "name": "stdout",
     "output_type": "stream",
     "text": [
      "MAPE:  0.20499153454681684\n",
      "MAE:  4.453285095620244\n"
     ]
    },
    {
     "name": "stderr",
     "output_type": "stream",
     "text": [
      "\u001b[32m[I 2023-04-02 00:13:26,664]\u001b[0m Trial 21 finished with value: 39.24650930125272 and parameters: {'max_depth': 2, 'learning_rate': 0.023947036617848538, 'n_estimators': 207, 'min_child_weight': 5, 'gamma': 0.0014185225561107267, 'subsample': 0.17243715734048967, 'colsample_bytree': 0.3001283082347057}. Best is trial 14 with value: 33.55589136058748.\u001b[0m\n"
     ]
    },
    {
     "name": "stdout",
     "output_type": "stream",
     "text": [
      "MAPE:  0.20760478935125895\n",
      "MAE:  4.539737698365092\n"
     ]
    },
    {
     "name": "stderr",
     "output_type": "stream",
     "text": [
      "\u001b[32m[I 2023-04-02 00:14:24,795]\u001b[0m Trial 22 finished with value: 34.240074238084375 and parameters: {'max_depth': 3, 'learning_rate': 0.05207801492939185, 'n_estimators': 264, 'min_child_weight': 8, 'gamma': 0.00016294486832030053, 'subsample': 0.6228666616060856, 'colsample_bytree': 0.6094851177688971}. Best is trial 14 with value: 33.55589136058748.\u001b[0m\n"
     ]
    },
    {
     "name": "stdout",
     "output_type": "stream",
     "text": [
      "MAPE:  0.1866967313391468\n",
      "MAE:  3.9106835943929266\n"
     ]
    },
    {
     "name": "stderr",
     "output_type": "stream",
     "text": [
      "\u001b[32m[I 2023-04-02 00:15:35,039]\u001b[0m Trial 23 finished with value: 79.12612292282867 and parameters: {'max_depth': 4, 'learning_rate': 0.9928307501848799, 'n_estimators': 262, 'min_child_weight': 9, 'gamma': 0.00013769007913726544, 'subsample': 0.6625652855438974, 'colsample_bytree': 0.6113042815758056}. Best is trial 14 with value: 33.55589136058748.\u001b[0m\n"
     ]
    },
    {
     "name": "stdout",
     "output_type": "stream",
     "text": [
      "MAPE:  1.08924725553883\n",
      "MAE:  6.24630288430446\n"
     ]
    },
    {
     "name": "stderr",
     "output_type": "stream",
     "text": [
      "\u001b[32m[I 2023-04-02 00:16:30,188]\u001b[0m Trial 24 finished with value: 33.856918325154794 and parameters: {'max_depth': 3, 'learning_rate': 0.04921133301295693, 'n_estimators': 235, 'min_child_weight': 8, 'gamma': 0.00026137915543104234, 'subsample': 0.5981464561514326, 'colsample_bytree': 0.7253366023201762}. Best is trial 14 with value: 33.55589136058748.\u001b[0m\n"
     ]
    },
    {
     "name": "stdout",
     "output_type": "stream",
     "text": [
      "MAPE:  0.18238971792794786\n",
      "MAE:  3.8530871675962515\n"
     ]
    },
    {
     "name": "stderr",
     "output_type": "stream",
     "text": [
      "\u001b[32m[I 2023-04-02 00:17:24,527]\u001b[0m Trial 25 finished with value: 37.34333157555598 and parameters: {'max_depth': 5, 'learning_rate': 0.05429180588219188, 'n_estimators': 270, 'min_child_weight': 8, 'gamma': 0.00020172322739060868, 'subsample': 0.6468011200564883, 'colsample_bytree': 0.1682770597062252}. Best is trial 14 with value: 33.55589136058748.\u001b[0m\n"
     ]
    },
    {
     "name": "stdout",
     "output_type": "stream",
     "text": [
      "MAPE:  0.20349983395504315\n",
      "MAE:  4.28049716961741\n"
     ]
    },
    {
     "name": "stderr",
     "output_type": "stream",
     "text": [
      "\u001b[32m[I 2023-04-02 00:18:01,226]\u001b[0m Trial 26 finished with value: 34.471495056652856 and parameters: {'max_depth': 3, 'learning_rate': 0.15775702805643263, 'n_estimators': 165, 'min_child_weight': 10, 'gamma': 0.00023641273822328038, 'subsample': 0.6580503982378181, 'colsample_bytree': 0.6073663664399592}. Best is trial 14 with value: 33.55589136058748.\u001b[0m\n"
     ]
    },
    {
     "name": "stdout",
     "output_type": "stream",
     "text": [
      "MAPE:  0.19106761062059333\n",
      "MAE:  3.838248879349931\n"
     ]
    },
    {
     "name": "stderr",
     "output_type": "stream",
     "text": [
      "\u001b[32m[I 2023-04-02 00:19:05,850]\u001b[0m Trial 27 finished with value: 36.515243503316235 and parameters: {'max_depth': 5, 'learning_rate': 0.07551900710850923, 'n_estimators': 277, 'min_child_weight': 8, 'gamma': 4.665991216698888e-05, 'subsample': 0.3054570234358237, 'colsample_bytree': 0.4275571463489268}. Best is trial 14 with value: 33.55589136058748.\u001b[0m\n"
     ]
    },
    {
     "name": "stdout",
     "output_type": "stream",
     "text": [
      "MAPE:  0.20610793838113875\n",
      "MAE:  4.123803178562356\n"
     ]
    },
    {
     "name": "stderr",
     "output_type": "stream",
     "text": [
      "\u001b[32m[I 2023-04-02 00:20:22,671]\u001b[0m Trial 28 finished with value: 34.89215988953959 and parameters: {'max_depth': 4, 'learning_rate': 0.046763463888574185, 'n_estimators': 247, 'min_child_weight': 7, 'gamma': 3.233958681491617e-05, 'subsample': 0.9189464722591764, 'colsample_bytree': 0.7626182551374191}. Best is trial 14 with value: 33.55589136058748.\u001b[0m\n"
     ]
    },
    {
     "name": "stdout",
     "output_type": "stream",
     "text": [
      "MAPE:  0.18435169469853735\n",
      "MAE:  3.8388105705287425\n"
     ]
    },
    {
     "name": "stderr",
     "output_type": "stream",
     "text": [
      "\u001b[32m[I 2023-04-02 00:20:47,520]\u001b[0m Trial 29 finished with value: 35.46906453588452 and parameters: {'max_depth': 1, 'learning_rate': 0.11289601723126742, 'n_estimators': 188, 'min_child_weight': 9, 'gamma': 0.0001228787740500544, 'subsample': 0.5068830984986705, 'colsample_bytree': 0.35878991943730043}. Best is trial 14 with value: 33.55589136058748.\u001b[0m\n"
     ]
    },
    {
     "name": "stdout",
     "output_type": "stream",
     "text": [
      "MAPE:  0.19899138255467322\n",
      "MAE:  4.148150799723898\n"
     ]
    },
    {
     "name": "stderr",
     "output_type": "stream",
     "text": [
      "\u001b[32m[I 2023-04-02 00:21:33,396]\u001b[0m Trial 30 finished with value: 40.50870759427903 and parameters: {'max_depth': 7, 'learning_rate': 0.11041506335675255, 'n_estimators': 220, 'min_child_weight': 7, 'gamma': 0.0003086733539080879, 'subsample': 0.24235807887628952, 'colsample_bytree': 0.16734432310375788}. Best is trial 14 with value: 33.55589136058748.\u001b[0m\n"
     ]
    },
    {
     "name": "stdout",
     "output_type": "stream",
     "text": [
      "MAPE:  0.21416067170489042\n",
      "MAE:  4.465188242629933\n"
     ]
    },
    {
     "name": "stderr",
     "output_type": "stream",
     "text": [
      "\u001b[32m[I 2023-04-02 00:22:07,921]\u001b[0m Trial 31 finished with value: 35.77974164574576 and parameters: {'max_depth': 3, 'learning_rate': 0.17336910902196712, 'n_estimators': 152, 'min_child_weight': 10, 'gamma': 0.0011332410684495883, 'subsample': 0.6411647890345159, 'colsample_bytree': 0.62049196645937}. Best is trial 14 with value: 33.55589136058748.\u001b[0m\n"
     ]
    },
    {
     "name": "stdout",
     "output_type": "stream",
     "text": [
      "MAPE:  0.19480835110925773\n",
      "MAE:  3.886176479964072\n"
     ]
    },
    {
     "name": "stderr",
     "output_type": "stream",
     "text": [
      "\u001b[32m[I 2023-04-02 00:22:45,607]\u001b[0m Trial 32 finished with value: 36.41458498875866 and parameters: {'max_depth': 3, 'learning_rate': 0.2779474481410499, 'n_estimators': 172, 'min_child_weight': 9, 'gamma': 0.000300028135999171, 'subsample': 0.7024849645990585, 'colsample_bytree': 0.5237282994529222}. Best is trial 14 with value: 33.55589136058748.\u001b[0m\n"
     ]
    },
    {
     "name": "stdout",
     "output_type": "stream",
     "text": [
      "MAPE:  0.20373994743211107\n",
      "MAE:  3.9397520100449057\n"
     ]
    },
    {
     "name": "stderr",
     "output_type": "stream",
     "text": [
      "\u001b[32m[I 2023-04-02 00:23:03,518]\u001b[0m Trial 33 finished with value: 35.57605645420296 and parameters: {'max_depth': 2, 'learning_rate': 0.17140148133154365, 'n_estimators': 92, 'min_child_weight': 10, 'gamma': 0.00014352910448089132, 'subsample': 0.378163039495321, 'colsample_bytree': 0.6598150731936336}. Best is trial 14 with value: 33.55589136058748.\u001b[0m\n"
     ]
    },
    {
     "name": "stdout",
     "output_type": "stream",
     "text": [
      "MAPE:  0.1919220420939114\n",
      "MAE:  3.97213545875082\n"
     ]
    },
    {
     "name": "stderr",
     "output_type": "stream",
     "text": [
      "\u001b[32m[I 2023-04-02 00:23:52,174]\u001b[0m Trial 34 finished with value: 34.833857034960864 and parameters: {'max_depth': 3, 'learning_rate': 0.03161679139406785, 'n_estimators': 238, 'min_child_weight': 9, 'gamma': 0.00043515500515919024, 'subsample': 0.584681866155598, 'colsample_bytree': 0.4816780076688832}. Best is trial 14 with value: 33.55589136058748.\u001b[0m\n"
     ]
    },
    {
     "name": "stdout",
     "output_type": "stream",
     "text": [
      "MAPE:  0.19021205591620494\n",
      "MAE:  4.038071270460047\n"
     ]
    },
    {
     "name": "stderr",
     "output_type": "stream",
     "text": [
      "\u001b[32m[I 2023-04-02 00:25:12,526]\u001b[0m Trial 35 finished with value: 35.452174329802084 and parameters: {'max_depth': 4, 'learning_rate': 0.08713917457958709, 'n_estimators': 227, 'min_child_weight': 8, 'gamma': 8.536163404205207e-05, 'subsample': 0.9198498757153611, 'colsample_bytree': 0.9988508372925403}. Best is trial 14 with value: 33.55589136058748.\u001b[0m\n"
     ]
    },
    {
     "name": "stdout",
     "output_type": "stream",
     "text": [
      "MAPE:  0.1886342725316817\n",
      "MAE:  3.811238774050785\n"
     ]
    },
    {
     "name": "stderr",
     "output_type": "stream",
     "text": [
      "\u001b[32m[I 2023-04-02 00:25:49,539]\u001b[0m Trial 36 finished with value: 50.562067945996404 and parameters: {'max_depth': 3, 'learning_rate': 0.43613843407618297, 'n_estimators': 168, 'min_child_weight': 7, 'gamma': 0.0021497647715136253, 'subsample': 0.3556863799863235, 'colsample_bytree': 0.723110304553231}. Best is trial 14 with value: 33.55589136058748.\u001b[0m\n"
     ]
    },
    {
     "name": "stdout",
     "output_type": "stream",
     "text": [
      "MAPE:  0.33832736893077825\n",
      "MAE:  4.830570799653208\n"
     ]
    },
    {
     "name": "stderr",
     "output_type": "stream",
     "text": [
      "\u001b[32m[I 2023-04-02 00:26:10,686]\u001b[0m Trial 37 finished with value: 38.614639461195175 and parameters: {'max_depth': 2, 'learning_rate': 0.0597599274598221, 'n_estimators': 130, 'min_child_weight': 10, 'gamma': 0.0006602818880385127, 'subsample': 0.2208244245194033, 'colsample_bytree': 0.35265149810031915}. Best is trial 14 with value: 33.55589136058748.\u001b[0m\n"
     ]
    },
    {
     "name": "stdout",
     "output_type": "stream",
     "text": [
      "MAPE:  0.20106770282196176\n",
      "MAE:  4.353256634521425\n"
     ]
    },
    {
     "name": "stderr",
     "output_type": "stream",
     "text": [
      "\u001b[32m[I 2023-04-02 00:26:59,850]\u001b[0m Trial 38 finished with value: 38.80850678645202 and parameters: {'max_depth': 6, 'learning_rate': 0.1485287971864122, 'n_estimators': 200, 'min_child_weight': 6, 'gamma': 2.785098813073107e-05, 'subsample': 0.7414877621108883, 'colsample_bytree': 0.21705043512549527}. Best is trial 14 with value: 33.55589136058748.\u001b[0m\n"
     ]
    },
    {
     "name": "stdout",
     "output_type": "stream",
     "text": [
      "MAPE:  0.21098852083579814\n",
      "MAE:  4.298653414958946\n"
     ]
    },
    {
     "name": "stderr",
     "output_type": "stream",
     "text": [
      "\u001b[32m[I 2023-04-02 00:27:07,012]\u001b[0m Trial 39 finished with value: 39.189235059693175 and parameters: {'max_depth': 4, 'learning_rate': 0.310677061544079, 'n_estimators': 36, 'min_child_weight': 6, 'gamma': 0.00024788942253844184, 'subsample': 0.46981893856759666, 'colsample_bytree': 0.06839253017626744}. Best is trial 14 with value: 33.55589136058748.\u001b[0m\n"
     ]
    },
    {
     "name": "stdout",
     "output_type": "stream",
     "text": [
      "MAPE:  0.21472158815648001\n",
      "MAE:  4.510020211962204\n"
     ]
    },
    {
     "name": "stderr",
     "output_type": "stream",
     "text": [
      "\u001b[32m[I 2023-04-02 00:27:52,326]\u001b[0m Trial 40 finished with value: 35.29863142473955 and parameters: {'max_depth': 2, 'learning_rate': 0.07419467500575053, 'n_estimators': 247, 'min_child_weight': 9, 'gamma': 0.005737370404037198, 'subsample': 0.9922782895144582, 'colsample_bytree': 0.5181346518758033}. Best is trial 14 with value: 33.55589136058748.\u001b[0m\n"
     ]
    },
    {
     "name": "stdout",
     "output_type": "stream",
     "text": [
      "MAPE:  0.18791284441317657\n",
      "MAE:  3.9690108981992718\n"
     ]
    },
    {
     "name": "stderr",
     "output_type": "stream",
     "text": [
      "\u001b[32m[I 2023-04-02 00:28:39,695]\u001b[0m Trial 41 finished with value: 35.36990795526959 and parameters: {'max_depth': 3, 'learning_rate': 0.030654761623726313, 'n_estimators': 235, 'min_child_weight': 9, 'gamma': 0.00048038247606030897, 'subsample': 0.5805814268165447, 'colsample_bytree': 0.439548055785839}. Best is trial 14 with value: 33.55589136058748.\u001b[0m\n"
     ]
    },
    {
     "name": "stdout",
     "output_type": "stream",
     "text": [
      "MAPE:  0.19517669010282918\n",
      "MAE:  4.130557558825996\n"
     ]
    },
    {
     "name": "stderr",
     "output_type": "stream",
     "text": [
      "\u001b[32m[I 2023-04-02 00:29:45,091]\u001b[0m Trial 42 finished with value: 33.90081996315885 and parameters: {'max_depth': 3, 'learning_rate': 0.03449239234014487, 'n_estimators': 280, 'min_child_weight': 10, 'gamma': 0.0008538328307430517, 'subsample': 0.5429762390094335, 'colsample_bytree': 0.7572960438932315}. Best is trial 14 with value: 33.55589136058748.\u001b[0m\n"
     ]
    },
    {
     "name": "stdout",
     "output_type": "stream",
     "text": [
      "MAPE:  0.18360323235431691\n",
      "MAE:  3.890414281749398\n"
     ]
    },
    {
     "name": "stderr",
     "output_type": "stream",
     "text": [
      "\u001b[32m[I 2023-04-02 00:30:20,835]\u001b[0m Trial 43 finished with value: 254.63812211599512 and parameters: {'max_depth': 3, 'learning_rate': 0.049877669325220995, 'n_estimators': 282, 'min_child_weight': 10, 'gamma': 0.0009423502856537731, 'subsample': 0.010257976426364928, 'colsample_bytree': 0.7170733681887042}. Best is trial 14 with value: 33.55589136058748.\u001b[0m\n"
     ]
    },
    {
     "name": "stdout",
     "output_type": "stream",
     "text": [
      "MAPE:  0.43056903276529773\n",
      "MAE:  12.901909583367956\n"
     ]
    },
    {
     "name": "stderr",
     "output_type": "stream",
     "text": [
      "\u001b[32m[I 2023-04-02 00:31:41,995]\u001b[0m Trial 44 finished with value: 34.207103759750936 and parameters: {'max_depth': 4, 'learning_rate': 0.033507727164271923, 'n_estimators': 260, 'min_child_weight': 10, 'gamma': 0.002452690328058335, 'subsample': 0.8271316819854825, 'colsample_bytree': 0.8272522135686537}. Best is trial 14 with value: 33.55589136058748.\u001b[0m\n"
     ]
    },
    {
     "name": "stdout",
     "output_type": "stream",
     "text": [
      "MAPE:  0.18296688651167398\n",
      "MAE:  3.8725396949849027\n"
     ]
    },
    {
     "name": "stderr",
     "output_type": "stream",
     "text": [
      "\u001b[32m[I 2023-04-02 00:33:13,426]\u001b[0m Trial 45 finished with value: 34.39677534317528 and parameters: {'max_depth': 4, 'learning_rate': 0.019462652887029096, 'n_estimators': 261, 'min_child_weight': 8, 'gamma': 0.002633036809392863, 'subsample': 0.8290908002756532, 'colsample_bytree': 0.9972280330359253}. Best is trial 14 with value: 33.55589136058748.\u001b[0m\n"
     ]
    },
    {
     "name": "stdout",
     "output_type": "stream",
     "text": [
      "MAPE:  0.17481295214002707\n",
      "MAE:  3.785093175338002\n"
     ]
    },
    {
     "name": "stderr",
     "output_type": "stream",
     "text": [
      "\u001b[32m[I 2023-04-02 00:33:56,670]\u001b[0m Trial 46 finished with value: 133.09965369783828 and parameters: {'max_depth': 5, 'learning_rate': 0.03560247365411377, 'n_estimators': 293, 'min_child_weight': 10, 'gamma': 0.010893764306243357, 'subsample': 0.5108300336377151, 'colsample_bytree': 0.014787312294573902}. Best is trial 14 with value: 33.55589136058748.\u001b[0m\n"
     ]
    },
    {
     "name": "stdout",
     "output_type": "stream",
     "text": [
      "MAPE:  0.33420718392533705\n",
      "MAE:  9.256800921222244\n"
     ]
    },
    {
     "name": "stderr",
     "output_type": "stream",
     "text": [
      "\u001b[32m[I 2023-04-02 00:35:13,956]\u001b[0m Trial 47 finished with value: 32.87046718260325 and parameters: {'max_depth': 4, 'learning_rate': 0.024612734704934264, 'n_estimators': 275, 'min_child_weight': 7, 'gamma': 0.0018449685570506836, 'subsample': 0.41725847117676873, 'colsample_bytree': 0.8548087661169259}. Best is trial 47 with value: 32.87046718260325.\u001b[0m\n"
     ]
    },
    {
     "name": "stdout",
     "output_type": "stream",
     "text": [
      "MAPE:  0.18084156615318103\n",
      "MAE:  3.8197157187631516\n"
     ]
    },
    {
     "name": "stderr",
     "output_type": "stream",
     "text": [
      "\u001b[32m[I 2023-04-02 00:36:55,739]\u001b[0m Trial 48 finished with value: 33.621424974928836 and parameters: {'max_depth': 6, 'learning_rate': 0.02489349447102614, 'n_estimators': 282, 'min_child_weight': 4, 'gamma': 0.004284226688163107, 'subsample': 0.4159185247325299, 'colsample_bytree': 0.833988254369655}. Best is trial 47 with value: 32.87046718260325.\u001b[0m\n"
     ]
    },
    {
     "name": "stdout",
     "output_type": "stream",
     "text": [
      "MAPE:  0.188511988380074\n",
      "MAE:  3.889774353744534\n"
     ]
    },
    {
     "name": "stderr",
     "output_type": "stream",
     "text": [
      "\u001b[32m[I 2023-04-02 00:38:30,653]\u001b[0m Trial 49 finished with value: 35.637575888835556 and parameters: {'max_depth': 6, 'learning_rate': 0.012922616876818937, 'n_estimators': 282, 'min_child_weight': 4, 'gamma': 0.005192067927432359, 'subsample': 0.3128697317680295, 'colsample_bytree': 0.8185232655572714}. Best is trial 47 with value: 32.87046718260325.\u001b[0m\n"
     ]
    },
    {
     "name": "stdout",
     "output_type": "stream",
     "text": [
      "MAPE:  0.19785657178417712\n",
      "MAE:  4.072685025604477\n"
     ]
    },
    {
     "name": "stderr",
     "output_type": "stream",
     "text": [
      "\u001b[32m[I 2023-04-02 00:39:08,149]\u001b[0m Trial 50 finished with value: 119.84157455253883 and parameters: {'max_depth': 5, 'learning_rate': 0.024978717630932994, 'n_estimators': 275, 'min_child_weight': 6, 'gamma': 0.015038058648996077, 'subsample': 0.12881837453561432, 'colsample_bytree': 0.0277093442005626}. Best is trial 47 with value: 32.87046718260325.\u001b[0m\n"
     ]
    },
    {
     "name": "stdout",
     "output_type": "stream",
     "text": [
      "MAPE:  0.3195655724203718\n",
      "MAE:  8.682746006903725\n"
     ]
    },
    {
     "name": "stderr",
     "output_type": "stream",
     "text": [
      "\u001b[32m[I 2023-04-02 00:40:17,326]\u001b[0m Trial 51 finished with value: 34.222056046135776 and parameters: {'max_depth': 4, 'learning_rate': 0.018130436774057204, 'n_estimators': 251, 'min_child_weight': 7, 'gamma': 0.0018827860859396315, 'subsample': 0.41486101692806254, 'colsample_bytree': 0.8211016598557243}. Best is trial 47 with value: 32.87046718260325.\u001b[0m\n"
     ]
    },
    {
     "name": "stdout",
     "output_type": "stream",
     "text": [
      "MAPE:  0.18454117740559597\n",
      "MAE:  3.9389214165945923\n"
     ]
    },
    {
     "name": "stderr",
     "output_type": "stream",
     "text": [
      "\u001b[32m[I 2023-04-02 00:42:34,306]\u001b[0m Trial 52 finished with value: 35.268056890692684 and parameters: {'max_depth': 7, 'learning_rate': 0.01403001646710413, 'n_estimators': 300, 'min_child_weight': 2, 'gamma': 0.0040266202302101615, 'subsample': 0.524102185519186, 'colsample_bytree': 0.8538885673569953}. Best is trial 47 with value: 32.87046718260325.\u001b[0m\n"
     ]
    },
    {
     "name": "stdout",
     "output_type": "stream",
     "text": [
      "MAPE:  0.19721721137108797\n",
      "MAE:  3.9826644187823366\n"
     ]
    },
    {
     "name": "stderr",
     "output_type": "stream",
     "text": [
      "\u001b[32m[I 2023-04-02 00:44:12,364]\u001b[0m Trial 53 finished with value: 35.057122637832876 and parameters: {'max_depth': 6, 'learning_rate': 0.026974506855795197, 'n_estimators': 287, 'min_child_weight': 4, 'gamma': 0.003006609933398035, 'subsample': 0.7856660001845782, 'colsample_bytree': 0.5120928797290997}. Best is trial 47 with value: 32.87046718260325.\u001b[0m\n"
     ]
    },
    {
     "name": "stdout",
     "output_type": "stream",
     "text": [
      "MAPE:  0.1895775330153043\n",
      "MAE:  3.9606914707783902\n"
     ]
    },
    {
     "name": "stderr",
     "output_type": "stream",
     "text": [
      "\u001b[32m[I 2023-04-02 00:45:17,930]\u001b[0m Trial 54 finished with value: 33.18292881259622 and parameters: {'max_depth': 5, 'learning_rate': 0.034053954972468506, 'n_estimators': 223, 'min_child_weight': 5, 'gamma': 0.020296435034092578, 'subsample': 0.40501088694786097, 'colsample_bytree': 0.7144766339131782}. Best is trial 47 with value: 32.87046718260325.\u001b[0m\n"
     ]
    },
    {
     "name": "stdout",
     "output_type": "stream",
     "text": [
      "MAPE:  0.18886204172169904\n",
      "MAE:  3.902123351966248\n"
     ]
    },
    {
     "name": "stderr",
     "output_type": "stream",
     "text": [
      "\u001b[32m[I 2023-04-02 00:46:15,987]\u001b[0m Trial 55 finished with value: 34.324055295001244 and parameters: {'max_depth': 5, 'learning_rate': 0.022095278196204115, 'n_estimators': 220, 'min_child_weight': 3, 'gamma': 0.020479369569810866, 'subsample': 0.20303370264877038, 'colsample_bytree': 0.6863060913912244}. Best is trial 47 with value: 32.87046718260325.\u001b[0m\n"
     ]
    },
    {
     "name": "stdout",
     "output_type": "stream",
     "text": [
      "MAPE:  0.19376190362648943\n",
      "MAE:  4.019372417611278\n"
     ]
    },
    {
     "name": "stderr",
     "output_type": "stream",
     "text": [
      "\u001b[32m[I 2023-04-02 00:47:50,356]\u001b[0m Trial 56 finished with value: 33.30367251454497 and parameters: {'max_depth': 8, 'learning_rate': 0.043572718726806126, 'n_estimators': 227, 'min_child_weight': 5, 'gamma': 0.006526619470796579, 'subsample': 0.27371186490054933, 'colsample_bytree': 0.9719877579709852}. Best is trial 47 with value: 32.87046718260325.\u001b[0m\n"
     ]
    },
    {
     "name": "stdout",
     "output_type": "stream",
     "text": [
      "MAPE:  0.19130822625046198\n",
      "MAE:  3.865333154053426\n"
     ]
    },
    {
     "name": "stderr",
     "output_type": "stream",
     "text": [
      "\u001b[32m[I 2023-04-02 00:48:27,103]\u001b[0m Trial 57 finished with value: 55.51701970074868 and parameters: {'max_depth': 9, 'learning_rate': 0.043578691677616924, 'n_estimators': 239, 'min_child_weight': 5, 'gamma': 0.006328935364461925, 'subsample': 0.015268737028808772, 'colsample_bytree': 0.9321813759742471}. Best is trial 47 with value: 32.87046718260325.\u001b[0m\n"
     ]
    },
    {
     "name": "stdout",
     "output_type": "stream",
     "text": [
      "MAPE:  0.23709660789010295\n",
      "MAE:  5.375705423612571\n"
     ]
    },
    {
     "name": "stderr",
     "output_type": "stream",
     "text": [
      "\u001b[32m[I 2023-04-02 00:48:58,154]\u001b[0m Trial 58 finished with value: 77.27774977778843 and parameters: {'max_depth': 8, 'learning_rate': 0.04100878536607876, 'n_estimators': 187, 'min_child_weight': 4, 'gamma': 0.05120995834945521, 'subsample': 0.2878125556299688, 'colsample_bytree': 0.03995134396267328}. Best is trial 47 with value: 32.87046718260325.\u001b[0m\n"
     ]
    },
    {
     "name": "stdout",
     "output_type": "stream",
     "text": [
      "MAPE:  0.26905141695184487\n",
      "MAE:  6.744301394800122\n"
     ]
    },
    {
     "name": "stderr",
     "output_type": "stream",
     "text": [
      "\u001b[32m[I 2023-04-02 00:50:00,917]\u001b[0m Trial 59 finished with value: 52.0956159830931 and parameters: {'max_depth': 6, 'learning_rate': 0.010364622622273154, 'n_estimators': 212, 'min_child_weight': 5, 'gamma': 0.14469986845988955, 'subsample': 0.37046482693603033, 'colsample_bytree': 0.5478515214549307}. Best is trial 47 with value: 32.87046718260325.\u001b[0m\n"
     ]
    },
    {
     "name": "stdout",
     "output_type": "stream",
     "text": [
      "MAPE:  0.24808086538509486\n",
      "MAE:  5.008999756194381\n"
     ]
    },
    {
     "name": "stderr",
     "output_type": "stream",
     "text": [
      "\u001b[32m[I 2023-04-02 00:50:45,040]\u001b[0m Trial 60 finished with value: 80.20757468749838 and parameters: {'max_depth': 8, 'learning_rate': 0.017055410978023634, 'n_estimators': 224, 'min_child_weight': 3, 'gamma': 0.029907651269785826, 'subsample': 0.436135669224835, 'colsample_bytree': 0.08072574915675251}. Best is trial 47 with value: 32.87046718260325.\u001b[0m\n"
     ]
    },
    {
     "name": "stdout",
     "output_type": "stream",
     "text": [
      "MAPE:  0.27395489210986596\n",
      "MAE:  6.8493446287665325\n"
     ]
    },
    {
     "name": "stderr",
     "output_type": "stream",
     "text": [
      "\u001b[32m[I 2023-04-02 00:52:09,575]\u001b[0m Trial 61 finished with value: 34.193411939246715 and parameters: {'max_depth': 7, 'learning_rate': 0.027221919538354886, 'n_estimators': 249, 'min_child_weight': 5, 'gamma': 0.009338235884944668, 'subsample': 0.3333069258203341, 'colsample_bytree': 0.6725266581996704}. Best is trial 47 with value: 32.87046718260325.\u001b[0m\n"
     ]
    },
    {
     "name": "stdout",
     "output_type": "stream",
     "text": [
      "MAPE:  0.19037478095281057\n",
      "MAE:  3.9582313425494786\n"
     ]
    },
    {
     "name": "stderr",
     "output_type": "stream",
     "text": [
      "\u001b[32m[I 2023-04-02 00:52:56,306]\u001b[0m Trial 62 finished with value: 48.33547743331513 and parameters: {'max_depth': 5, 'learning_rate': 0.020577222504490504, 'n_estimators': 272, 'min_child_weight': 6, 'gamma': 0.0008524862803064178, 'subsample': 0.268350527923667, 'colsample_bytree': 0.1310227683980484}. Best is trial 47 with value: 32.87046718260325.\u001b[0m\n"
     ]
    },
    {
     "name": "stdout",
     "output_type": "stream",
     "text": [
      "MAPE:  0.22246592807630833\n",
      "MAE:  5.138604533359799\n"
     ]
    },
    {
     "name": "stderr",
     "output_type": "stream",
     "text": [
      "\u001b[32m[I 2023-04-02 00:54:33,743]\u001b[0m Trial 63 finished with value: 35.56773952919183 and parameters: {'max_depth': 9, 'learning_rate': 0.0367398117729826, 'n_estimators': 197, 'min_child_weight': 5, 'gamma': 0.0017326723248328353, 'subsample': 0.5580873199803577, 'colsample_bytree': 0.7597512414211811}. Best is trial 47 with value: 32.87046718260325.\u001b[0m\n"
     ]
    },
    {
     "name": "stdout",
     "output_type": "stream",
     "text": [
      "MAPE:  0.1929748934269975\n",
      "MAE:  3.973708334673061\n"
     ]
    },
    {
     "name": "stderr",
     "output_type": "stream",
     "text": [
      "\u001b[32m[I 2023-04-02 00:56:20,490]\u001b[0m Trial 64 finished with value: 35.81696865151199 and parameters: {'max_depth': 8, 'learning_rate': 0.057418967536517054, 'n_estimators': 238, 'min_child_weight': 6, 'gamma': 0.00790427060917988, 'subsample': 0.4295404742915295, 'colsample_bytree': 0.8967536511997563}. Best is trial 47 with value: 32.87046718260325.\u001b[0m\n"
     ]
    },
    {
     "name": "stdout",
     "output_type": "stream",
     "text": [
      "MAPE:  0.2020387752950352\n",
      "MAE:  4.021296690000725\n"
     ]
    },
    {
     "name": "stderr",
     "output_type": "stream",
     "text": [
      "\u001b[32m[I 2023-04-02 00:57:12,312]\u001b[0m Trial 65 finished with value: 33.30472058115651 and parameters: {'max_depth': 4, 'learning_rate': 0.04554419301251925, 'n_estimators': 256, 'min_child_weight': 4, 'gamma': 0.018976294417935354, 'subsample': 0.2404125277484525, 'colsample_bytree': 0.4263115990483146}. Best is trial 47 with value: 32.87046718260325.\u001b[0m\n"
     ]
    },
    {
     "name": "stdout",
     "output_type": "stream",
     "text": [
      "MAPE:  0.19489314854499887\n",
      "MAE:  3.9990635632389644\n"
     ]
    },
    {
     "name": "stderr",
     "output_type": "stream",
     "text": [
      "\u001b[32m[I 2023-04-02 00:58:02,656]\u001b[0m Trial 66 finished with value: 35.783779853864196 and parameters: {'max_depth': 4, 'learning_rate': 0.024351299764787723, 'n_estimators': 256, 'min_child_weight': 4, 'gamma': 0.07075683896102242, 'subsample': 0.14303042983123457, 'colsample_bytree': 0.45979237834736114}. Best is trial 47 with value: 32.87046718260325.\u001b[0m\n"
     ]
    },
    {
     "name": "stdout",
     "output_type": "stream",
     "text": [
      "MAPE:  0.1973454838425622\n",
      "MAE:  4.1572891376847485\n"
     ]
    },
    {
     "name": "stderr",
     "output_type": "stream",
     "text": [
      "\u001b[32m[I 2023-04-02 00:58:51,858]\u001b[0m Trial 67 finished with value: 33.03578188432648 and parameters: {'max_depth': 5, 'learning_rate': 0.07040820661026746, 'n_estimators': 227, 'min_child_weight': 4, 'gamma': 0.020001636984997097, 'subsample': 0.2391007619527086, 'colsample_bytree': 0.35431919577157983}. Best is trial 47 with value: 32.87046718260325.\u001b[0m\n"
     ]
    },
    {
     "name": "stdout",
     "output_type": "stream",
     "text": [
      "MAPE:  0.19952785031237882\n",
      "MAE:  3.9933475692955294\n"
     ]
    },
    {
     "name": "stderr",
     "output_type": "stream",
     "text": [
      "\u001b[32m[I 2023-04-02 00:59:31,776]\u001b[0m Trial 68 finished with value: 38.12704589300361 and parameters: {'max_depth': 5, 'learning_rate': 0.06550875147900893, 'n_estimators': 210, 'min_child_weight': 4, 'gamma': 0.01978929773000225, 'subsample': 0.08694958038120514, 'colsample_bytree': 0.32238405369322026}. Best is trial 47 with value: 32.87046718260325.\u001b[0m\n"
     ]
    },
    {
     "name": "stdout",
     "output_type": "stream",
     "text": [
      "MAPE:  0.219114571911062\n",
      "MAE:  4.321271876345264\n"
     ]
    },
    {
     "name": "stderr",
     "output_type": "stream",
     "text": [
      "\u001b[32m[I 2023-04-02 00:59:35,979]\u001b[0m Trial 69 finished with value: 133.80558719913105 and parameters: {'max_depth': 5, 'learning_rate': 0.08473448794980563, 'n_estimators': 13, 'min_child_weight': 2, 'gamma': 0.08671642475091694, 'subsample': 0.23461771446239904, 'colsample_bytree': 0.25405521770548617}. Best is trial 47 with value: 32.87046718260325.\u001b[0m\n"
     ]
    },
    {
     "name": "stdout",
     "output_type": "stream",
     "text": [
      "MAPE:  0.38923592274677526\n",
      "MAE:  7.695264067617099\n"
     ]
    },
    {
     "name": "stderr",
     "output_type": "stream",
     "text": [
      "\u001b[32m[I 2023-04-02 01:00:44,445]\u001b[0m Trial 70 finished with value: 31.873153968122715 and parameters: {'max_depth': 6, 'learning_rate': 0.04017446909636906, 'n_estimators': 269, 'min_child_weight': 1, 'gamma': 0.023056162516640912, 'subsample': 0.18080959858323942, 'colsample_bytree': 0.39092627236468747}. Best is trial 70 with value: 31.873153968122715.\u001b[0m\n"
     ]
    },
    {
     "name": "stdout",
     "output_type": "stream",
     "text": [
      "MAPE:  0.19789123522266908\n",
      "MAE:  4.002620312586408\n"
     ]
    },
    {
     "name": "stderr",
     "output_type": "stream",
     "text": [
      "\u001b[32m[I 2023-04-02 01:01:53,423]\u001b[0m Trial 71 finished with value: 32.07672746607929 and parameters: {'max_depth': 6, 'learning_rate': 0.043393087484171644, 'n_estimators': 269, 'min_child_weight': 1, 'gamma': 0.03595018619426402, 'subsample': 0.17612532076201837, 'colsample_bytree': 0.4016016687046959}. Best is trial 70 with value: 31.873153968122715.\u001b[0m\n"
     ]
    },
    {
     "name": "stdout",
     "output_type": "stream",
     "text": [
      "MAPE:  0.19917369014583766\n",
      "MAE:  4.014779162466452\n"
     ]
    },
    {
     "name": "stderr",
     "output_type": "stream",
     "text": [
      "\u001b[32m[I 2023-04-02 01:03:08,287]\u001b[0m Trial 72 finished with value: 32.83731645744362 and parameters: {'max_depth': 7, 'learning_rate': 0.04435274311582663, 'n_estimators': 265, 'min_child_weight': 1, 'gamma': 0.03611776281624395, 'subsample': 0.1831463445420013, 'colsample_bytree': 0.3871343580585283}. Best is trial 70 with value: 31.873153968122715.\u001b[0m\n"
     ]
    },
    {
     "name": "stdout",
     "output_type": "stream",
     "text": [
      "MAPE:  0.2002928674927466\n",
      "MAE:  4.0412425088990345\n"
     ]
    },
    {
     "name": "stderr",
     "output_type": "stream",
     "text": [
      "\u001b[32m[I 2023-04-02 01:04:29,276]\u001b[0m Trial 73 finished with value: 32.99756279472256 and parameters: {'max_depth': 7, 'learning_rate': 0.04288218062305676, 'n_estimators': 291, 'min_child_weight': 1, 'gamma': 0.040786704868229176, 'subsample': 0.17069580767836362, 'colsample_bytree': 0.38976113124748296}. Best is trial 70 with value: 31.873153968122715.\u001b[0m\n"
     ]
    },
    {
     "name": "stdout",
     "output_type": "stream",
     "text": [
      "MAPE:  0.20219957584788772\n",
      "MAE:  4.063442180163405\n"
     ]
    },
    {
     "name": "stderr",
     "output_type": "stream",
     "text": [
      "\u001b[32m[I 2023-04-02 01:05:45,768]\u001b[0m Trial 74 finished with value: 34.74737636620245 and parameters: {'max_depth': 7, 'learning_rate': 0.073514907196267, 'n_estimators': 269, 'min_child_weight': 1, 'gamma': 0.037415328414774095, 'subsample': 0.18889144869401, 'colsample_bytree': 0.3730056094408354}. Best is trial 70 with value: 31.873153968122715.\u001b[0m\n"
     ]
    },
    {
     "name": "stdout",
     "output_type": "stream",
     "text": [
      "MAPE:  0.21219093968170225\n",
      "MAE:  4.137100653081072\n"
     ]
    },
    {
     "name": "stderr",
     "output_type": "stream",
     "text": [
      "\u001b[32m[I 2023-04-02 01:06:48,872]\u001b[0m Trial 75 finished with value: 35.50246670700714 and parameters: {'max_depth': 7, 'learning_rate': 0.04051937715367169, 'n_estimators': 271, 'min_child_weight': 1, 'gamma': 0.09268110932798908, 'subsample': 0.11707659571317926, 'colsample_bytree': 0.23956794391214303}. Best is trial 70 with value: 31.873153968122715.\u001b[0m\n"
     ]
    },
    {
     "name": "stdout",
     "output_type": "stream",
     "text": [
      "MAPE:  0.2012461904929956\n",
      "MAE:  4.247871935162949\n"
     ]
    },
    {
     "name": "stderr",
     "output_type": "stream",
     "text": [
      "\u001b[32m[I 2023-04-02 01:07:59,769]\u001b[0m Trial 76 finished with value: 33.92679429178738 and parameters: {'max_depth': 6, 'learning_rate': 0.05267056003398663, 'n_estimators': 292, 'min_child_weight': 1, 'gamma': 0.02511112629012202, 'subsample': 0.1732411062145782, 'colsample_bytree': 0.32807028479344386}. Best is trial 70 with value: 31.873153968122715.\u001b[0m\n"
     ]
    },
    {
     "name": "stdout",
     "output_type": "stream",
     "text": [
      "MAPE:  0.20418580822722435\n",
      "MAE:  4.085010286267107\n"
     ]
    },
    {
     "name": "stderr",
     "output_type": "stream",
     "text": [
      "\u001b[32m[I 2023-04-02 01:09:16,779]\u001b[0m Trial 77 finished with value: 36.65827028068983 and parameters: {'max_depth': 8, 'learning_rate': 0.06321436759264304, 'n_estimators': 290, 'min_child_weight': 1, 'gamma': 0.040587482256985434, 'subsample': 0.15046654438201254, 'colsample_bytree': 0.2767216131174655}. Best is trial 70 with value: 31.873153968122715.\u001b[0m\n"
     ]
    },
    {
     "name": "stdout",
     "output_type": "stream",
     "text": [
      "MAPE:  0.21186533868000298\n",
      "MAE:  4.255553489171908\n"
     ]
    },
    {
     "name": "stderr",
     "output_type": "stream",
     "text": [
      "\u001b[32m[I 2023-04-02 01:10:35,432]\u001b[0m Trial 78 finished with value: 37.557020875859266 and parameters: {'max_depth': 7, 'learning_rate': 0.0945814118427404, 'n_estimators': 266, 'min_child_weight': 1, 'gamma': 0.12836379524511993, 'subsample': 0.19566356363939152, 'colsample_bytree': 0.39354433763750135}. Best is trial 70 with value: 31.873153968122715.\u001b[0m\n"
     ]
    },
    {
     "name": "stdout",
     "output_type": "stream",
     "text": [
      "MAPE:  0.23511133664648248\n",
      "MAE:  4.299944880267328\n"
     ]
    },
    {
     "name": "stderr",
     "output_type": "stream",
     "text": [
      "\u001b[32m[I 2023-04-02 01:11:29,720]\u001b[0m Trial 79 finished with value: 37.74038486455471 and parameters: {'max_depth': 6, 'learning_rate': 0.031121773458556386, 'n_estimators': 244, 'min_child_weight': 2, 'gamma': 0.2771147350914659, 'subsample': 0.13018130334165148, 'colsample_bytree': 0.222897479019314}. Best is trial 70 with value: 31.873153968122715.\u001b[0m\n"
     ]
    },
    {
     "name": "stdout",
     "output_type": "stream",
     "text": [
      "MAPE:  0.2062706969914966\n",
      "MAE:  4.472806877225228\n"
     ]
    },
    {
     "name": "stderr",
     "output_type": "stream",
     "text": [
      "\u001b[32m[I 2023-04-02 01:12:30,876]\u001b[0m Trial 80 finished with value: 32.054219349990184 and parameters: {'max_depth': 6, 'learning_rate': 0.045858912949604834, 'n_estimators': 227, 'min_child_weight': 1, 'gamma': 0.06004793561991621, 'subsample': 0.10146515963547414, 'colsample_bytree': 0.5895119717331976}. Best is trial 70 with value: 31.873153968122715.\u001b[0m\n"
     ]
    },
    {
     "name": "stdout",
     "output_type": "stream",
     "text": [
      "MAPE:  0.19481964555825287\n",
      "MAE:  3.950581578521544\n"
     ]
    },
    {
     "name": "stderr",
     "output_type": "stream",
     "text": [
      "\u001b[32m[I 2023-04-02 01:13:15,330]\u001b[0m Trial 81 finished with value: 37.36641477830285 and parameters: {'max_depth': 6, 'learning_rate': 0.04735406105757469, 'n_estimators': 223, 'min_child_weight': 1, 'gamma': 0.012791961279656502, 'subsample': 0.1010007145023127, 'colsample_bytree': 0.18771844318010644}. Best is trial 70 with value: 31.873153968122715.\u001b[0m\n"
     ]
    },
    {
     "name": "stdout",
     "output_type": "stream",
     "text": [
      "MAPE:  0.21054071405290323\n",
      "MAE:  4.418593996380004\n"
     ]
    },
    {
     "name": "stderr",
     "output_type": "stream",
     "text": [
      "\u001b[32m[I 2023-04-02 01:14:37,138]\u001b[0m Trial 82 finished with value: 35.910687625909 and parameters: {'max_depth': 7, 'learning_rate': 0.05639500730126864, 'n_estimators': 300, 'min_child_weight': 2, 'gamma': 0.0577940366432563, 'subsample': 0.0815609598878292, 'colsample_bytree': 0.585272954172915}. Best is trial 70 with value: 31.873153968122715.\u001b[0m\n"
     ]
    },
    {
     "name": "stdout",
     "output_type": "stream",
     "text": [
      "MAPE:  0.20278883065503353\n",
      "MAE:  4.143232996785983\n"
     ]
    },
    {
     "name": "stderr",
     "output_type": "stream",
     "text": [
      "\u001b[32m[I 2023-04-02 01:15:30,168]\u001b[0m Trial 83 finished with value: 35.619076941320586 and parameters: {'max_depth': 6, 'learning_rate': 0.040952765795034915, 'n_estimators': 233, 'min_child_weight': 1, 'gamma': 0.22891498419521633, 'subsample': 0.061185121124383214, 'colsample_bytree': 0.4093174091265319}. Best is trial 70 with value: 31.873153968122715.\u001b[0m\n"
     ]
    },
    {
     "name": "stdout",
     "output_type": "stream",
     "text": [
      "MAPE:  0.20538997814278614\n",
      "MAE:  4.2870224625727955\n"
     ]
    },
    {
     "name": "stderr",
     "output_type": "stream",
     "text": [
      "\u001b[32m[I 2023-04-02 01:16:32,594]\u001b[0m Trial 84 finished with value: 35.65874254184394 and parameters: {'max_depth': 8, 'learning_rate': 0.036362203557948655, 'n_estimators': 254, 'min_child_weight': 1, 'gamma': 0.034393314577674056, 'subsample': 0.03998670152744779, 'colsample_bytree': 0.4979251900722666}. Best is trial 70 with value: 31.873153968122715.\u001b[0m\n"
     ]
    },
    {
     "name": "stdout",
     "output_type": "stream",
     "text": [
      "MAPE:  0.20121390127167216\n",
      "MAE:  4.182397433025263\n"
     ]
    },
    {
     "name": "stderr",
     "output_type": "stream",
     "text": [
      "\u001b[32m[I 2023-04-02 01:17:21,235]\u001b[0m Trial 85 finished with value: 33.90379034164692 and parameters: {'max_depth': 5, 'learning_rate': 0.029020931266617336, 'n_estimators': 218, 'min_child_weight': 2, 'gamma': 0.7393086215204961, 'subsample': 0.2660380771697212, 'colsample_bytree': 0.32674565332419553}. Best is trial 70 with value: 31.873153968122715.\u001b[0m\n"
     ]
    },
    {
     "name": "stdout",
     "output_type": "stream",
     "text": [
      "MAPE:  0.19324711797768376\n",
      "MAE:  4.096094007721256\n"
     ]
    },
    {
     "name": "stderr",
     "output_type": "stream",
     "text": [
      "\u001b[32m[I 2023-04-02 01:18:20,660]\u001b[0m Trial 86 finished with value: 35.30708897303527 and parameters: {'max_depth': 6, 'learning_rate': 0.04904584322639827, 'n_estimators': 228, 'min_child_weight': 2, 'gamma': 0.00762347231745072, 'subsample': 0.10608641338844983, 'colsample_bytree': 0.5805692014163648}. Best is trial 70 with value: 31.873153968122715.\u001b[0m\n"
     ]
    },
    {
     "name": "stdout",
     "output_type": "stream",
     "text": [
      "MAPE:  0.20149374662096045\n",
      "MAE:  4.107768722743577\n"
     ]
    },
    {
     "name": "stderr",
     "output_type": "stream",
     "text": [
      "\u001b[32m[I 2023-04-02 01:19:46,666]\u001b[0m Trial 87 finished with value: 33.278436579389336 and parameters: {'max_depth': 7, 'learning_rate': 0.043537541974696635, 'n_estimators': 288, 'min_child_weight': 1, 'gamma': 0.024859113885234978, 'subsample': 0.16436596456343286, 'colsample_bytree': 0.44891321856000105}. Best is trial 70 with value: 31.873153968122715.\u001b[0m\n"
     ]
    },
    {
     "name": "stdout",
     "output_type": "stream",
     "text": [
      "MAPE:  0.19926645066058044\n",
      "MAE:  4.015525909733683\n"
     ]
    },
    {
     "name": "stderr",
     "output_type": "stream",
     "text": [
      "\u001b[32m[I 2023-04-02 01:21:11,455]\u001b[0m Trial 88 finished with value: 35.72314219839885 and parameters: {'max_depth': 7, 'learning_rate': 0.06961854687734415, 'n_estimators': 285, 'min_child_weight': 1, 'gamma': 0.025205534153084793, 'subsample': 0.17107448658882704, 'colsample_bytree': 0.454022283275774}. Best is trial 70 with value: 31.873153968122715.\u001b[0m\n"
     ]
    },
    {
     "name": "stdout",
     "output_type": "stream",
     "text": [
      "MAPE:  0.2130628349432432\n",
      "MAE:  4.1909561619423\n"
     ]
    },
    {
     "name": "stderr",
     "output_type": "stream",
     "text": [
      "\u001b[32m[I 2023-04-02 01:22:14,206]\u001b[0m Trial 89 finished with value: 33.30198998006554 and parameters: {'max_depth': 6, 'learning_rate': 0.03399144309135549, 'n_estimators': 275, 'min_child_weight': 1, 'gamma': 0.015775199860094548, 'subsample': 0.1323930351660732, 'colsample_bytree': 0.29219236804681914}. Best is trial 70 with value: 31.873153968122715.\u001b[0m\n"
     ]
    },
    {
     "name": "stdout",
     "output_type": "stream",
     "text": [
      "MAPE:  0.19760834092284718\n",
      "MAE:  4.075804075368037\n"
     ]
    },
    {
     "name": "stderr",
     "output_type": "stream",
     "text": [
      "\u001b[32m[I 2023-04-02 01:23:23,221]\u001b[0m Trial 90 finished with value: 35.54232349780687 and parameters: {'max_depth': 7, 'learning_rate': 0.08071891256289762, 'n_estimators': 263, 'min_child_weight': 3, 'gamma': 0.10426938149422704, 'subsample': 0.21929146631920457, 'colsample_bytree': 0.3426326542130277}. Best is trial 70 with value: 31.873153968122715.\u001b[0m\n"
     ]
    },
    {
     "name": "stdout",
     "output_type": "stream",
     "text": [
      "MAPE:  0.21393923881197632\n",
      "MAE:  4.182073540441441\n"
     ]
    },
    {
     "name": "stderr",
     "output_type": "stream",
     "text": [
      "\u001b[32m[I 2023-04-02 01:24:26,675]\u001b[0m Trial 91 finished with value: 33.495893674152185 and parameters: {'max_depth': 6, 'learning_rate': 0.03178123319522322, 'n_estimators': 279, 'min_child_weight': 1, 'gamma': 0.0464222752999657, 'subsample': 0.13706275072791174, 'colsample_bytree': 0.29017674013097133}. Best is trial 70 with value: 31.873153968122715.\u001b[0m\n"
     ]
    },
    {
     "name": "stdout",
     "output_type": "stream",
     "text": [
      "MAPE:  0.19744142381209448\n",
      "MAE:  4.103249853116445\n"
     ]
    },
    {
     "name": "stderr",
     "output_type": "stream",
     "text": [
      "\u001b[32m[I 2023-04-02 01:25:30,863]\u001b[0m Trial 92 finished with value: 33.638952101504714 and parameters: {'max_depth': 6, 'learning_rate': 0.03531033429000513, 'n_estimators': 275, 'min_child_weight': 2, 'gamma': 0.016861952363651945, 'subsample': 0.11639636541267076, 'colsample_bytree': 0.389967341476102}. Best is trial 70 with value: 31.873153968122715.\u001b[0m\n"
     ]
    },
    {
     "name": "stdout",
     "output_type": "stream",
     "text": [
      "MAPE:  0.19885226540598036\n",
      "MAE:  4.085121273417747\n"
     ]
    },
    {
     "name": "stderr",
     "output_type": "stream",
     "text": [
      "\u001b[32m[I 2023-04-02 01:26:39,976]\u001b[0m Trial 93 finished with value: 33.138223328823344 and parameters: {'max_depth': 5, 'learning_rate': 0.054143565308080246, 'n_estimators': 291, 'min_child_weight': 1, 'gamma': 0.061906731511011746, 'subsample': 0.1616777158972307, 'colsample_bytree': 0.4822735628624142}. Best is trial 70 with value: 31.873153968122715.\u001b[0m\n"
     ]
    },
    {
     "name": "stdout",
     "output_type": "stream",
     "text": [
      "MAPE:  0.1968710175090628\n",
      "MAE:  3.953706927867269\n"
     ]
    },
    {
     "name": "stderr",
     "output_type": "stream",
     "text": [
      "\u001b[32m[I 2023-04-02 01:27:48,424]\u001b[0m Trial 94 finished with value: 34.68438731031663 and parameters: {'max_depth': 5, 'learning_rate': 0.060822391132997575, 'n_estimators': 292, 'min_child_weight': 1, 'gamma': 0.07044832598109656, 'subsample': 0.1630568732259042, 'colsample_bytree': 0.470510225474317}. Best is trial 70 with value: 31.873153968122715.\u001b[0m\n"
     ]
    },
    {
     "name": "stdout",
     "output_type": "stream",
     "text": [
      "MAPE:  0.20567212584950478\n",
      "MAE:  4.1001738825540865\n"
     ]
    },
    {
     "name": "stderr",
     "output_type": "stream",
     "text": [
      "\u001b[32m[I 2023-04-02 01:29:00,310]\u001b[0m Trial 95 finished with value: 31.049998219525598 and parameters: {'max_depth': 5, 'learning_rate': 0.03830971447034318, 'n_estimators': 292, 'min_child_weight': 2, 'gamma': 0.027929110724439443, 'subsample': 0.20962079810938264, 'colsample_bytree': 0.5398266433844708}. Best is trial 95 with value: 31.049998219525598.\u001b[0m\n"
     ]
    },
    {
     "name": "stdout",
     "output_type": "stream",
     "text": [
      "MAPE:  0.18915063851243513\n",
      "MAE:  3.791990335402864\n"
     ]
    },
    {
     "name": "stderr",
     "output_type": "stream",
     "text": [
      "\u001b[32m[I 2023-04-02 01:30:00,788]\u001b[0m Trial 96 finished with value: 32.40313618461408 and parameters: {'max_depth': 5, 'learning_rate': 0.05494492226833403, 'n_estimators': 244, 'min_child_weight': 2, 'gamma': 0.20674936027352944, 'subsample': 0.2101411099350077, 'colsample_bytree': 0.5534472850469166}. Best is trial 95 with value: 31.049998219525598.\u001b[0m\n"
     ]
    },
    {
     "name": "stdout",
     "output_type": "stream",
     "text": [
      "MAPE:  0.19584770320034048\n",
      "MAE:  3.870779740006736\n"
     ]
    },
    {
     "name": "stderr",
     "output_type": "stream",
     "text": [
      "\u001b[32m[I 2023-04-02 01:31:02,076]\u001b[0m Trial 97 finished with value: 32.42179342033095 and parameters: {'max_depth': 5, 'learning_rate': 0.055145640679886906, 'n_estimators': 245, 'min_child_weight': 2, 'gamma': 0.19577233225227902, 'subsample': 0.21014181143831362, 'colsample_bytree': 0.5600798141204142}. Best is trial 95 with value: 31.049998219525598.\u001b[0m\n"
     ]
    },
    {
     "name": "stdout",
     "output_type": "stream",
     "text": [
      "MAPE:  0.194938829543544\n",
      "MAE:  3.878615621695953\n"
     ]
    },
    {
     "name": "stderr",
     "output_type": "stream",
     "text": [
      "\u001b[32m[I 2023-04-02 01:32:01,471]\u001b[0m Trial 98 finished with value: 31.578537469150117 and parameters: {'max_depth': 5, 'learning_rate': 0.05114573017633713, 'n_estimators': 241, 'min_child_weight': 2, 'gamma': 0.5176994095669492, 'subsample': 0.20496846260929427, 'colsample_bytree': 0.5346129485847341}. Best is trial 95 with value: 31.049998219525598.\u001b[0m\n"
     ]
    },
    {
     "name": "stdout",
     "output_type": "stream",
     "text": [
      "MAPE:  0.19208213245375838\n",
      "MAE:  3.8317706467916306\n"
     ]
    },
    {
     "name": "stderr",
     "output_type": "stream",
     "text": [
      "\u001b[32m[I 2023-04-02 01:33:00,684]\u001b[0m Trial 99 finished with value: 31.123975364367666 and parameters: {'max_depth': 5, 'learning_rate': 0.03815170863364173, 'n_estimators': 242, 'min_child_weight': 2, 'gamma': 0.5238446863096089, 'subsample': 0.20891423333081235, 'colsample_bytree': 0.5507904211276603}. Best is trial 95 with value: 31.049998219525598.\u001b[0m\n"
     ]
    },
    {
     "name": "stdout",
     "output_type": "stream",
     "text": [
      "MAPE:  0.18854364947512095\n",
      "MAE:  3.813634102245544\n"
     ]
    },
    {
     "name": "stderr",
     "output_type": "stream",
     "text": [
      "\u001b[32m[I 2023-04-02 01:34:14,030]\u001b[0m A new study created in memory with name: no-name-6e6147c8-528c-4467-8936-ecb83837123b\u001b[0m\n",
      "\u001b[32m[I 2023-04-02 01:34:33,069]\u001b[0m Trial 0 finished with value: 111.81009011404899 and parameters: {'max_depth': 2, 'learning_rate': 0.07122888095791692, 'n_estimators': 72, 'min_child_weight': 4, 'gamma': 0.002854370070939664, 'subsample': 0.17737781132331248, 'colsample_bytree': 0.6910498443485094}. Best is trial 0 with value: 111.81009011404899.\u001b[0m\n"
     ]
    },
    {
     "name": "stdout",
     "output_type": "stream",
     "text": [
      "MAPE:  0.2909083813321093\n",
      "MAE:  7.025746386967944\n"
     ]
    },
    {
     "name": "stderr",
     "output_type": "stream",
     "text": [
      "\u001b[32m[I 2023-04-02 01:35:06,904]\u001b[0m Trial 1 finished with value: 299.9011875528255 and parameters: {'max_depth': 5, 'learning_rate': 0.2892324386416412, 'n_estimators': 211, 'min_child_weight': 7, 'gamma': 0.0015546372673651196, 'subsample': 0.013354052418124436, 'colsample_bytree': 0.12544033402158092}. Best is trial 0 with value: 111.81009011404899.\u001b[0m\n"
     ]
    },
    {
     "name": "stdout",
     "output_type": "stream",
     "text": [
      "MAPE:  0.4464780212277621\n",
      "MAE:  14.674593417757608\n"
     ]
    },
    {
     "name": "stderr",
     "output_type": "stream",
     "text": [
      "\u001b[32m[I 2023-04-02 01:35:52,966]\u001b[0m Trial 2 finished with value: 128.2837122676431 and parameters: {'max_depth': 5, 'learning_rate': 0.32086869836359133, 'n_estimators': 214, 'min_child_weight': 7, 'gamma': 0.02112078030935977, 'subsample': 0.5094461409534216, 'colsample_bytree': 0.020644764325090055}. Best is trial 0 with value: 111.81009011404899.\u001b[0m\n"
     ]
    },
    {
     "name": "stdout",
     "output_type": "stream",
     "text": [
      "MAPE:  0.38127825516964386\n",
      "MAE:  7.855835357162353\n"
     ]
    },
    {
     "name": "stderr",
     "output_type": "stream",
     "text": [
      "\u001b[32m[I 2023-04-02 01:36:19,862]\u001b[0m Trial 3 finished with value: 114.65203507499353 and parameters: {'max_depth': 4, 'learning_rate': 0.031072769642811183, 'n_estimators': 76, 'min_child_weight': 2, 'gamma': 0.005492166290285188, 'subsample': 0.20191203518466314, 'colsample_bytree': 0.6578856507369643}. Best is trial 0 with value: 111.81009011404899.\u001b[0m\n"
     ]
    },
    {
     "name": "stdout",
     "output_type": "stream",
     "text": [
      "MAPE:  0.34102203988993146\n",
      "MAE:  7.039750024843752\n"
     ]
    },
    {
     "name": "stderr",
     "output_type": "stream",
     "text": [
      "\u001b[32m[I 2023-04-02 01:36:25,394]\u001b[0m Trial 4 finished with value: 201.94658538422638 and parameters: {'max_depth': 6, 'learning_rate': 0.21052334698746455, 'n_estimators': 15, 'min_child_weight': 5, 'gamma': 0.0019164750467970402, 'subsample': 0.052538113991480374, 'colsample_bytree': 0.016632531825737196}. Best is trial 0 with value: 111.81009011404899.\u001b[0m\n"
     ]
    },
    {
     "name": "stdout",
     "output_type": "stream",
     "text": [
      "MAPE:  0.38497936695818896\n",
      "MAE:  10.967522755841935\n"
     ]
    },
    {
     "name": "stderr",
     "output_type": "stream",
     "text": [
      "\u001b[32m[I 2023-04-02 01:37:22,705]\u001b[0m Trial 5 finished with value: 126.83251726189685 and parameters: {'max_depth': 5, 'learning_rate': 0.10716685243143576, 'n_estimators': 155, 'min_child_weight': 4, 'gamma': 0.0001651927685671165, 'subsample': 0.31024199477972836, 'colsample_bytree': 0.5720960952226899}. Best is trial 0 with value: 111.81009011404899.\u001b[0m\n"
     ]
    },
    {
     "name": "stdout",
     "output_type": "stream",
     "text": [
      "MAPE:  0.35009350396143424\n",
      "MAE:  7.453331989248966\n"
     ]
    },
    {
     "name": "stderr",
     "output_type": "stream",
     "text": [
      "\u001b[32m[I 2023-04-02 01:38:05,033]\u001b[0m Trial 6 finished with value: 240.9881578221214 and parameters: {'max_depth': 1, 'learning_rate': 0.5370385126221757, 'n_estimators': 257, 'min_child_weight': 6, 'gamma': 0.2151785592481671, 'subsample': 0.0701761474607923, 'colsample_bytree': 0.05644068745071868}. Best is trial 0 with value: 111.81009011404899.\u001b[0m\n"
     ]
    },
    {
     "name": "stdout",
     "output_type": "stream",
     "text": [
      "MAPE:  0.4472729483423039\n",
      "MAE:  11.378750667385246\n"
     ]
    },
    {
     "name": "stderr",
     "output_type": "stream",
     "text": [
      "\u001b[32m[I 2023-04-02 01:38:47,304]\u001b[0m Trial 7 finished with value: 113.66126651365983 and parameters: {'max_depth': 4, 'learning_rate': 0.1184420283581727, 'n_estimators': 104, 'min_child_weight': 6, 'gamma': 0.0005935890890830737, 'subsample': 0.4913673464383825, 'colsample_bytree': 0.8844947721852481}. Best is trial 0 with value: 111.81009011404899.\u001b[0m\n"
     ]
    },
    {
     "name": "stdout",
     "output_type": "stream",
     "text": [
      "MAPE:  0.31286440791825637\n",
      "MAE:  7.036105222283826\n"
     ]
    },
    {
     "name": "stderr",
     "output_type": "stream",
     "text": [
      "\u001b[32m[I 2023-04-02 01:39:34,430]\u001b[0m Trial 8 finished with value: 252.33196721560773 and parameters: {'max_depth': 3, 'learning_rate': 0.444284425085422, 'n_estimators': 254, 'min_child_weight': 2, 'gamma': 0.012168305135261955, 'subsample': 0.04466594340009146, 'colsample_bytree': 0.030738064701256597}. Best is trial 0 with value: 111.81009011404899.\u001b[0m\n"
     ]
    },
    {
     "name": "stdout",
     "output_type": "stream",
     "text": [
      "MAPE:  2.6779577026335053\n",
      "MAE:  11.824996118813395\n"
     ]
    },
    {
     "name": "stderr",
     "output_type": "stream",
     "text": [
      "\u001b[32m[I 2023-04-02 01:40:04,586]\u001b[0m Trial 9 finished with value: 159.5925238902852 and parameters: {'max_depth': 1, 'learning_rate': 0.046894695248026606, 'n_estimators': 180, 'min_child_weight': 4, 'gamma': 0.004606107450547871, 'subsample': 0.07191701044084575, 'colsample_bytree': 0.05252580968512543}. Best is trial 0 with value: 111.81009011404899.\u001b[0m\n"
     ]
    },
    {
     "name": "stdout",
     "output_type": "stream",
     "text": [
      "MAPE:  0.3598145332511596\n",
      "MAE:  9.970639660638222\n"
     ]
    },
    {
     "name": "stderr",
     "output_type": "stream",
     "text": [
      "\u001b[32m[I 2023-04-02 01:40:09,989]\u001b[0m Trial 10 finished with value: 607.9968918237284 and parameters: {'max_depth': 8, 'learning_rate': 0.011313720886332366, 'n_estimators': 12, 'min_child_weight': 9, 'gamma': 3.500070436354521e-05, 'subsample': 0.15018152567523319, 'colsample_bytree': 0.22776436167876316}. Best is trial 0 with value: 111.81009011404899.\u001b[0m\n"
     ]
    },
    {
     "name": "stdout",
     "output_type": "stream",
     "text": [
      "MAPE:  5.476544433023481\n",
      "MAE:  20.178113946670226\n"
     ]
    },
    {
     "name": "stderr",
     "output_type": "stream",
     "text": [
      "\u001b[32m[I 2023-04-02 01:40:47,559]\u001b[0m Trial 11 finished with value: 110.73444133742001 and parameters: {'max_depth': 3, 'learning_rate': 0.08744273583284323, 'n_estimators': 97, 'min_child_weight': 10, 'gamma': 0.0002794014557061433, 'subsample': 0.7787997046296637, 'colsample_bytree': 0.9799649076238909}. Best is trial 11 with value: 110.73444133742001.\u001b[0m\n"
     ]
    },
    {
     "name": "stdout",
     "output_type": "stream",
     "text": [
      "MAPE:  0.290980709940541\n",
      "MAE:  6.8483633564206094\n"
     ]
    },
    {
     "name": "stderr",
     "output_type": "stream",
     "text": [
      "\u001b[32m[I 2023-04-02 01:41:10,394]\u001b[0m Trial 12 finished with value: 107.95433171859817 and parameters: {'max_depth': 2, 'learning_rate': 0.04219536994124398, 'n_estimators': 95, 'min_child_weight': 10, 'gamma': 1.4765939877633322e-05, 'subsample': 0.9689005802450525, 'colsample_bytree': 0.30099706517111285}. Best is trial 12 with value: 107.95433171859817.\u001b[0m\n"
     ]
    },
    {
     "name": "stdout",
     "output_type": "stream",
     "text": [
      "MAPE:  0.30865498355957144\n",
      "MAE:  7.312079717864407\n"
     ]
    },
    {
     "name": "stderr",
     "output_type": "stream",
     "text": [
      "\u001b[32m[I 2023-04-02 01:41:44,939]\u001b[0m Trial 13 finished with value: 114.73495328948235 and parameters: {'max_depth': 3, 'learning_rate': 0.0186779586868929, 'n_estimators': 122, 'min_child_weight': 10, 'gamma': 1.0819166246698126e-05, 'subsample': 0.9932768305858813, 'colsample_bytree': 0.3512926959747607}. Best is trial 12 with value: 107.95433171859817.\u001b[0m\n"
     ]
    },
    {
     "name": "stdout",
     "output_type": "stream",
     "text": [
      "MAPE:  0.33021199986313077\n",
      "MAE:  7.339881521597337\n"
     ]
    },
    {
     "name": "stderr",
     "output_type": "stream",
     "text": [
      "\u001b[32m[I 2023-04-02 01:41:58,945]\u001b[0m Trial 14 finished with value: 117.89952406225221 and parameters: {'max_depth': 2, 'learning_rate': 0.04168819538322592, 'n_estimators': 56, 'min_child_weight': 9, 'gamma': 0.00010771050612345192, 'subsample': 0.8133314079581805, 'colsample_bytree': 0.2190217233028536}. Best is trial 12 with value: 107.95433171859817.\u001b[0m\n"
     ]
    },
    {
     "name": "stdout",
     "output_type": "stream",
     "text": [
      "MAPE:  0.33416878495103197\n",
      "MAE:  7.728508314836338\n"
     ]
    },
    {
     "name": "stderr",
     "output_type": "stream",
     "text": [
      "\u001b[32m[I 2023-04-02 01:42:44,108]\u001b[0m Trial 15 finished with value: 124.62554000828158 and parameters: {'max_depth': 7, 'learning_rate': 0.16535380655253748, 'n_estimators': 132, 'min_child_weight': 10, 'gamma': 1.0434007553091816e-05, 'subsample': 0.4379504330674344, 'colsample_bytree': 0.3151969095052956}. Best is trial 12 with value: 107.95433171859817.\u001b[0m\n"
     ]
    },
    {
     "name": "stdout",
     "output_type": "stream",
     "text": [
      "MAPE:  0.3615115001282902\n",
      "MAE:  7.610294473137748\n"
     ]
    },
    {
     "name": "stderr",
     "output_type": "stream",
     "text": [
      "\u001b[32m[I 2023-04-02 01:43:01,546]\u001b[0m Trial 16 finished with value: 261.9119428643065 and parameters: {'max_depth': 3, 'learning_rate': 0.06726237216179548, 'n_estimators': 99, 'min_child_weight': 8, 'gamma': 0.0001429329892504828, 'subsample': 0.020231687711330725, 'colsample_bytree': 0.0953718068503476}. Best is trial 12 with value: 107.95433171859817.\u001b[0m\n"
     ]
    },
    {
     "name": "stdout",
     "output_type": "stream",
     "text": [
      "MAPE:  0.43275716039980455\n",
      "MAE:  13.265536394979474\n"
     ]
    },
    {
     "name": "stderr",
     "output_type": "stream",
     "text": [
      "\u001b[32m[I 2023-04-02 01:43:22,093]\u001b[0m Trial 17 finished with value: 208.83453153717062 and parameters: {'max_depth': 9, 'learning_rate': 0.021372818001850123, 'n_estimators': 43, 'min_child_weight': 9, 'gamma': 4.572791414005642e-05, 'subsample': 0.9960997642359108, 'colsample_bytree': 0.42005186091579905}. Best is trial 12 with value: 107.95433171859817.\u001b[0m\n"
     ]
    },
    {
     "name": "stdout",
     "output_type": "stream",
     "text": [
      "MAPE:  0.6747279525695633\n",
      "MAE:  10.218812148036731\n"
     ]
    },
    {
     "name": "stderr",
     "output_type": "stream",
     "text": [
      "\u001b[32m[I 2023-04-02 01:43:52,169]\u001b[0m Trial 18 finished with value: 218.5330187641706 and parameters: {'max_depth': 2, 'learning_rate': 0.7673945003071863, 'n_estimators': 149, 'min_child_weight': 10, 'gamma': 0.0005401048883751177, 'subsample': 0.2904567783097387, 'colsample_bytree': 0.16957859216590118}. Best is trial 12 with value: 107.95433171859817.\u001b[0m\n"
     ]
    },
    {
     "name": "stdout",
     "output_type": "stream",
     "text": [
      "MAPE:  1.9156759683443296\n",
      "MAE:  10.38807619685508\n"
     ]
    },
    {
     "name": "stderr",
     "output_type": "stream",
     "text": [
      "\u001b[32m[I 2023-04-02 01:45:01,364]\u001b[0m Trial 19 finished with value: 114.02317472269321 and parameters: {'max_depth': 4, 'learning_rate': 0.06946723582350858, 'n_estimators': 177, 'min_child_weight': 8, 'gamma': 0.10666257692612212, 'subsample': 0.5176698043179232, 'colsample_bytree': 0.9003665658078407}. Best is trial 12 with value: 107.95433171859817.\u001b[0m\n"
     ]
    },
    {
     "name": "stdout",
     "output_type": "stream",
     "text": [
      "MAPE:  0.3090377929788276\n",
      "MAE:  7.02684702704685\n"
     ]
    },
    {
     "name": "stderr",
     "output_type": "stream",
     "text": [
      "\u001b[32m[I 2023-04-02 01:45:20,432]\u001b[0m Trial 20 finished with value: 128.34925006542286 and parameters: {'max_depth': 1, 'learning_rate': 0.02804338528631727, 'n_estimators': 94, 'min_child_weight': 1, 'gamma': 0.0005148720639747869, 'subsample': 0.11083190505872513, 'colsample_bytree': 0.3601262101446562}. Best is trial 12 with value: 107.95433171859817.\u001b[0m\n"
     ]
    },
    {
     "name": "stdout",
     "output_type": "stream",
     "text": [
      "MAPE:  0.34888584773493314\n",
      "MAE:  8.261020235242915\n"
     ]
    },
    {
     "name": "stderr",
     "output_type": "stream",
     "text": [
      "\u001b[32m[I 2023-04-02 01:45:37,567]\u001b[0m Trial 21 finished with value: 107.10115318587208 and parameters: {'max_depth': 2, 'learning_rate': 0.06855599271156292, 'n_estimators': 64, 'min_child_weight': 4, 'gamma': 0.0436906244074281, 'subsample': 0.24014882292727777, 'colsample_bytree': 0.5553225788734685}. Best is trial 21 with value: 107.10115318587208.\u001b[0m\n"
     ]
    },
    {
     "name": "stdout",
     "output_type": "stream",
     "text": [
      "MAPE:  0.2952592966816966\n",
      "MAE:  6.975372684247485\n"
     ]
    },
    {
     "name": "stderr",
     "output_type": "stream",
     "text": [
      "\u001b[32m[I 2023-04-02 01:45:50,094]\u001b[0m Trial 22 finished with value: 117.12030024399438 and parameters: {'max_depth': 2, 'learning_rate': 0.04517750015477799, 'n_estimators': 43, 'min_child_weight': 3, 'gamma': 0.030317289379019268, 'subsample': 0.297859894252476, 'colsample_bytree': 0.5293156039260063}. Best is trial 21 with value: 107.10115318587208.\u001b[0m\n"
     ]
    },
    {
     "name": "stdout",
     "output_type": "stream",
     "text": [
      "MAPE:  0.34309510700712387\n",
      "MAE:  7.331085499343503\n"
     ]
    },
    {
     "name": "stderr",
     "output_type": "stream",
     "text": [
      "\u001b[32m[I 2023-04-02 01:46:34,362]\u001b[0m Trial 23 finished with value: 116.26222213857227 and parameters: {'max_depth': 3, 'learning_rate': 0.1503786300778514, 'n_estimators': 119, 'min_child_weight': 5, 'gamma': 0.10169575221059185, 'subsample': 0.7303674377793208, 'colsample_bytree': 0.9400910525494438}. Best is trial 21 with value: 107.10115318587208.\u001b[0m\n"
     ]
    },
    {
     "name": "stdout",
     "output_type": "stream",
     "text": [
      "MAPE:  0.3079527135157813\n",
      "MAE:  7.021435379144851\n"
     ]
    },
    {
     "name": "stderr",
     "output_type": "stream",
     "text": [
      "\u001b[32m[I 2023-04-02 01:46:54,737]\u001b[0m Trial 24 finished with value: 104.59331513482323 and parameters: {'max_depth': 2, 'learning_rate': 0.08119411311453577, 'n_estimators': 74, 'min_child_weight': 8, 'gamma': 0.9077884601566519, 'subsample': 0.6825108503549853, 'colsample_bytree': 0.49270174761772106}. Best is trial 24 with value: 104.59331513482323.\u001b[0m\n"
     ]
    },
    {
     "name": "stdout",
     "output_type": "stream",
     "text": [
      "MAPE:  0.2868209777060999\n",
      "MAE:  6.796321811598636\n"
     ]
    },
    {
     "name": "stderr",
     "output_type": "stream",
     "text": [
      "\u001b[32m[I 2023-04-02 01:47:09,815]\u001b[0m Trial 25 finished with value: 223.92911652525441 and parameters: {'max_depth': 1, 'learning_rate': 0.0133164514703016, 'n_estimators': 69, 'min_child_weight': 8, 'gamma': 0.5828031767953206, 'subsample': 0.34386236521088526, 'colsample_bytree': 0.23861988107153329}. Best is trial 24 with value: 104.59331513482323.\u001b[0m\n"
     ]
    },
    {
     "name": "stdout",
     "output_type": "stream",
     "text": [
      "MAPE:  0.6077157277236489\n",
      "MAE:  10.387512403518222\n"
     ]
    },
    {
     "name": "stderr",
     "output_type": "stream",
     "text": [
      "\u001b[32m[I 2023-04-02 01:47:18,069]\u001b[0m Trial 26 finished with value: 219.19781147525242 and parameters: {'max_depth': 2, 'learning_rate': 0.05201414786090143, 'n_estimators': 31, 'min_child_weight': 7, 'gamma': 0.35758355075154213, 'subsample': 0.6797319326466457, 'colsample_bytree': 0.01014888790628123}. Best is trial 24 with value: 104.59331513482323.\u001b[0m\n"
     ]
    },
    {
     "name": "stdout",
     "output_type": "stream",
     "text": [
      "MAPE:  0.4346664962467842\n",
      "MAE:  10.983454653163081\n"
     ]
    },
    {
     "name": "stderr",
     "output_type": "stream",
     "text": [
      "\u001b[32m[I 2023-04-02 01:47:36,818]\u001b[0m Trial 27 finished with value: 158.77528690991628 and parameters: {'max_depth': 4, 'learning_rate': 0.028257330818196466, 'n_estimators': 80, 'min_child_weight': 9, 'gamma': 0.8793243273495938, 'subsample': 0.22238801974416686, 'colsample_bytree': 0.0948339120189735}. Best is trial 24 with value: 104.59331513482323.\u001b[0m\n"
     ]
    },
    {
     "name": "stdout",
     "output_type": "stream",
     "text": [
      "MAPE:  0.3658816603360372\n",
      "MAE:  9.150564966651235\n"
     ]
    },
    {
     "name": "stderr",
     "output_type": "stream",
     "text": [
      "\u001b[32m[I 2023-04-02 01:47:55,518]\u001b[0m Trial 28 finished with value: 114.97888892750422 and parameters: {'max_depth': 6, 'learning_rate': 0.09255570500352114, 'n_estimators': 49, 'min_child_weight': 3, 'gamma': 0.06395856895783317, 'subsample': 0.12663081635937423, 'colsample_bytree': 0.49243889946825814}. Best is trial 24 with value: 104.59331513482323.\u001b[0m\n"
     ]
    },
    {
     "name": "stdout",
     "output_type": "stream",
     "text": [
      "MAPE:  0.30268063842772885\n",
      "MAE:  7.119659364483925\n"
     ]
    },
    {
     "name": "stderr",
     "output_type": "stream",
     "text": [
      "\u001b[32m[I 2023-04-02 01:48:52,839]\u001b[0m Trial 29 finished with value: 115.19979398372168 and parameters: {'max_depth': 2, 'learning_rate': 0.056042225869202184, 'n_estimators': 293, 'min_child_weight': 5, 'gamma': 0.0372146179027994, 'subsample': 0.22005461799664677, 'colsample_bytree': 0.16160588299666284}. Best is trial 24 with value: 104.59331513482323.\u001b[0m\n"
     ]
    },
    {
     "name": "stdout",
     "output_type": "stream",
     "text": [
      "MAPE:  0.3213876277454838\n",
      "MAE:  7.39024586687225\n"
     ]
    },
    {
     "name": "stderr",
     "output_type": "stream",
     "text": [
      "\u001b[32m[I 2023-04-02 01:49:09,694]\u001b[0m Trial 30 finished with value: 127.62407737108967 and parameters: {'max_depth': 1, 'learning_rate': 0.03812366113048652, 'n_estimators': 79, 'min_child_weight': 6, 'gamma': 0.25866331834001616, 'subsample': 0.3960778849686194, 'colsample_bytree': 0.28253762612474514}. Best is trial 24 with value: 104.59331513482323.\u001b[0m\n"
     ]
    },
    {
     "name": "stdout",
     "output_type": "stream",
     "text": [
      "MAPE:  0.3484454186212844\n",
      "MAE:  8.46832847468713\n"
     ]
    },
    {
     "name": "stderr",
     "output_type": "stream",
     "text": [
      "\u001b[32m[I 2023-04-02 01:49:48,005]\u001b[0m Trial 31 finished with value: 109.28056958763239 and parameters: {'max_depth': 3, 'learning_rate': 0.08519204987888142, 'n_estimators': 106, 'min_child_weight': 10, 'gamma': 0.013009637770461114, 'subsample': 0.6582276149150883, 'colsample_bytree': 0.7255870033671945}. Best is trial 24 with value: 104.59331513482323.\u001b[0m\n"
     ]
    },
    {
     "name": "stdout",
     "output_type": "stream",
     "text": [
      "MAPE:  0.29508697355684\n",
      "MAE:  6.815789816977826\n"
     ]
    },
    {
     "name": "stderr",
     "output_type": "stream",
     "text": [
      "\u001b[32m[I 2023-04-02 01:50:14,651]\u001b[0m Trial 32 finished with value: 103.72138141530375 and parameters: {'max_depth': 3, 'learning_rate': 0.07695555725744421, 'n_estimators': 64, 'min_child_weight': 8, 'gamma': 0.007945520578634633, 'subsample': 0.6811671425815651, 'colsample_bytree': 0.6784853337535257}. Best is trial 32 with value: 103.72138141530375.\u001b[0m\n"
     ]
    },
    {
     "name": "stdout",
     "output_type": "stream",
     "text": [
      "MAPE:  0.28740139655915037\n",
      "MAE:  6.660586505049325\n"
     ]
    },
    {
     "name": "stderr",
     "output_type": "stream",
     "text": [
      "\u001b[32m[I 2023-04-02 01:50:31,985]\u001b[0m Trial 33 finished with value: 102.99084184483429 and parameters: {'max_depth': 2, 'learning_rate': 0.14353270995812664, 'n_estimators': 58, 'min_child_weight': 7, 'gamma': 0.00884451179643545, 'subsample': 0.5566803381215426, 'colsample_bytree': 0.4288489185146259}. Best is trial 33 with value: 102.99084184483429.\u001b[0m\n"
     ]
    },
    {
     "name": "stdout",
     "output_type": "stream",
     "text": [
      "MAPE:  0.2884164709478162\n",
      "MAE:  6.638654464453496\n"
     ]
    },
    {
     "name": "stderr",
     "output_type": "stream",
     "text": [
      "\u001b[32m[I 2023-04-02 01:50:50,798]\u001b[0m Trial 34 finished with value: 112.41717053786232 and parameters: {'max_depth': 2, 'learning_rate': 0.2526658988027986, 'n_estimators': 63, 'min_child_weight': 7, 'gamma': 0.00845550428831933, 'subsample': 0.5015338290023376, 'colsample_bytree': 0.4591195012007844}. Best is trial 33 with value: 102.99084184483429.\u001b[0m\n"
     ]
    },
    {
     "name": "stdout",
     "output_type": "stream",
     "text": [
      "MAPE:  0.3040056893837502\n",
      "MAE:  7.079552089760589\n"
     ]
    },
    {
     "name": "stderr",
     "output_type": "stream",
     "text": [
      "\u001b[32m[I 2023-04-02 01:51:05,114]\u001b[0m Trial 35 finished with value: 105.52830347111983 and parameters: {'max_depth': 4, 'learning_rate': 0.14145369889818227, 'n_estimators': 29, 'min_child_weight': 8, 'gamma': 0.002223173312118872, 'subsample': 0.5854026876754356, 'colsample_bytree': 0.6788530785015027}. Best is trial 33 with value: 102.99084184483429.\u001b[0m\n"
     ]
    },
    {
     "name": "stdout",
     "output_type": "stream",
     "text": [
      "MAPE:  0.29835183567775964\n",
      "MAE:  6.721762445647172\n"
     ]
    },
    {
     "name": "stderr",
     "output_type": "stream",
     "text": [
      "\u001b[32m[I 2023-04-02 01:51:20,881]\u001b[0m Trial 36 finished with value: 108.08991326901265 and parameters: {'max_depth': 5, 'learning_rate': 0.13834607923473546, 'n_estimators': 30, 'min_child_weight': 8, 'gamma': 0.0024074232060676617, 'subsample': 0.5678975929243759, 'colsample_bytree': 0.6943447291994967}. Best is trial 33 with value: 102.99084184483429.\u001b[0m\n"
     ]
    },
    {
     "name": "stdout",
     "output_type": "stream",
     "text": [
      "MAPE:  0.30484500111015\n",
      "MAE:  6.8539234227715955\n"
     ]
    },
    {
     "name": "stderr",
     "output_type": "stream",
     "text": [
      "\u001b[32m[I 2023-04-02 01:51:34,148]\u001b[0m Trial 37 finished with value: 110.27168505280802 and parameters: {'max_depth': 4, 'learning_rate': 0.1851651116711155, 'n_estimators': 29, 'min_child_weight': 7, 'gamma': 0.001405549527078465, 'subsample': 0.3617498124070989, 'colsample_bytree': 0.6707646926602762}. Best is trial 33 with value: 102.99084184483429.\u001b[0m\n"
     ]
    },
    {
     "name": "stdout",
     "output_type": "stream",
     "text": [
      "MAPE:  0.3040323651752608\n",
      "MAE:  6.9107581265224205\n"
     ]
    },
    {
     "name": "stderr",
     "output_type": "stream",
     "text": [
      "\u001b[32m[I 2023-04-02 01:51:40,816]\u001b[0m Trial 38 finished with value: 256.01921806891767 and parameters: {'max_depth': 5, 'learning_rate': 0.2441244429239412, 'n_estimators': 20, 'min_child_weight': 7, 'gamma': 0.0013260815803190446, 'subsample': 0.024360240780784706, 'colsample_bytree': 0.40172161721114974}. Best is trial 33 with value: 102.99084184483429.\u001b[0m\n"
     ]
    },
    {
     "name": "stdout",
     "output_type": "stream",
     "text": [
      "MAPE:  0.43167785435075423\n",
      "MAE:  12.95988779888022\n"
     ]
    },
    {
     "name": "stderr",
     "output_type": "stream",
     "text": [
      "\u001b[32m[I 2023-04-02 01:51:55,981]\u001b[0m Trial 39 finished with value: 118.1151938522011 and parameters: {'max_depth': 4, 'learning_rate': 0.11985572364989434, 'n_estimators': 49, 'min_child_weight': 8, 'gamma': 0.003932345548320354, 'subsample': 0.6470834839863173, 'colsample_bytree': 0.13074796838538988}. Best is trial 33 with value: 102.99084184483429.\u001b[0m\n"
     ]
    },
    {
     "name": "stdout",
     "output_type": "stream",
     "text": [
      "MAPE:  0.3181463972073458\n",
      "MAE:  7.619020237346714\n"
     ]
    },
    {
     "name": "stderr",
     "output_type": "stream",
     "text": [
      "\u001b[32m[I 2023-04-02 01:52:26,549]\u001b[0m Trial 40 finished with value: 164.80517811753535 and parameters: {'max_depth': 6, 'learning_rate': 0.33425045313799895, 'n_estimators': 83, 'min_child_weight': 7, 'gamma': 0.020549104131514437, 'subsample': 0.15878547650682953, 'colsample_bytree': 0.7006887616765486}. Best is trial 33 with value: 102.99084184483429.\u001b[0m\n"
     ]
    },
    {
     "name": "stdout",
     "output_type": "stream",
     "text": [
      "MAPE:  0.561482436257332\n",
      "MAE:  8.644445822007963\n"
     ]
    },
    {
     "name": "stderr",
     "output_type": "stream",
     "text": [
      "\u001b[32m[I 2023-04-02 01:52:46,690]\u001b[0m Trial 41 finished with value: 112.64085554168344 and parameters: {'max_depth': 3, 'learning_rate': 0.10867349526689202, 'n_estimators': 63, 'min_child_weight': 6, 'gamma': 0.007670929253509453, 'subsample': 0.24606052677290138, 'colsample_bytree': 0.5706238909269714}. Best is trial 33 with value: 102.99084184483429.\u001b[0m\n"
     ]
    },
    {
     "name": "stdout",
     "output_type": "stream",
     "text": [
      "MAPE:  0.301283628452899\n",
      "MAE:  7.118422584066379\n"
     ]
    },
    {
     "name": "stderr",
     "output_type": "stream",
     "text": [
      "\u001b[32m[I 2023-04-02 01:53:00,355]\u001b[0m Trial 42 finished with value: 108.1453164658575 and parameters: {'max_depth': 3, 'learning_rate': 0.0710735086675218, 'n_estimators': 38, 'min_child_weight': 8, 'gamma': 0.002799921473439776, 'subsample': 0.3861175945332894, 'colsample_bytree': 0.49365112404423883}. Best is trial 33 with value: 102.99084184483429.\u001b[0m\n"
     ]
    },
    {
     "name": "stdout",
     "output_type": "stream",
     "text": [
      "MAPE:  0.30899619549208573\n",
      "MAE:  6.832981504565024\n"
     ]
    },
    {
     "name": "stderr",
     "output_type": "stream",
     "text": [
      "\u001b[32m[I 2023-04-02 01:53:08,859]\u001b[0m Trial 43 finished with value: 103.73944214241767 and parameters: {'max_depth': 2, 'learning_rate': 0.19754993134121482, 'n_estimators': 17, 'min_child_weight': 5, 'gamma': 0.017051829571185492, 'subsample': 0.5468275213269158, 'colsample_bytree': 0.7926749807335371}. Best is trial 33 with value: 102.99084184483429.\u001b[0m\n"
     ]
    },
    {
     "name": "stdout",
     "output_type": "stream",
     "text": [
      "MAPE:  0.2835294882485455\n",
      "MAE:  6.67346810476015\n"
     ]
    },
    {
     "name": "stderr",
     "output_type": "stream",
     "text": [
      "\u001b[32m[I 2023-04-02 01:53:14,150]\u001b[0m Trial 44 finished with value: 243.15297619287009 and parameters: {'max_depth': 1, 'learning_rate': 0.21135671732091932, 'n_estimators': 10, 'min_child_weight': 5, 'gamma': 0.01748713982171443, 'subsample': 0.01024812240917824, 'colsample_bytree': 0.7880344776298557}. Best is trial 33 with value: 102.99084184483429.\u001b[0m\n"
     ]
    },
    {
     "name": "stdout",
     "output_type": "stream",
     "text": [
      "MAPE:  0.5687566210221493\n",
      "MAE:  10.511147547452786\n"
     ]
    },
    {
     "name": "stderr",
     "output_type": "stream",
     "text": [
      "\u001b[32m[I 2023-04-02 01:53:25,970]\u001b[0m Trial 45 finished with value: 126.88519583573637 and parameters: {'max_depth': 4, 'learning_rate': 0.34708375647001083, 'n_estimators': 23, 'min_child_weight': 9, 'gamma': 0.00711010043184602, 'subsample': 0.5771815627159788, 'colsample_bytree': 0.6317516436902431}. Best is trial 33 with value: 102.99084184483429.\u001b[0m\n"
     ]
    },
    {
     "name": "stdout",
     "output_type": "stream",
     "text": [
      "MAPE:  0.3311278115830365\n",
      "MAE:  7.397103691843342\n"
     ]
    },
    {
     "name": "stderr",
     "output_type": "stream",
     "text": [
      "\u001b[32m[I 2023-04-02 01:53:47,210]\u001b[0m Trial 46 finished with value: 108.7955529696388 and parameters: {'max_depth': 3, 'learning_rate': 0.13721246893046748, 'n_estimators': 48, 'min_child_weight': 6, 'gamma': 0.0013133509765000811, 'subsample': 0.8223754685686185, 'colsample_bytree': 0.9960070025472001}. Best is trial 33 with value: 102.99084184483429.\u001b[0m\n"
     ]
    },
    {
     "name": "stdout",
     "output_type": "stream",
     "text": [
      "MAPE:  0.2825111016836133\n",
      "MAE:  6.730014031225078\n"
     ]
    },
    {
     "name": "stderr",
     "output_type": "stream",
     "text": [
      "\u001b[32m[I 2023-04-02 01:54:36,026]\u001b[0m Trial 47 finished with value: 174.91967675951784 and parameters: {'max_depth': 5, 'learning_rate': 0.4762356503213298, 'n_estimators': 198, 'min_child_weight': 7, 'gamma': 0.10322981704798083, 'subsample': 0.45146056072569596, 'colsample_bytree': 0.060636516465899855}. Best is trial 33 with value: 102.99084184483429.\u001b[0m\n"
     ]
    },
    {
     "name": "stdout",
     "output_type": "stream",
     "text": [
      "MAPE:  0.6870417748513025\n",
      "MAE:  8.781201417602368\n"
     ]
    },
    {
     "name": "stderr",
     "output_type": "stream",
     "text": [
      "\u001b[32m[I 2023-04-02 01:54:43,715]\u001b[0m Trial 48 finished with value: 135.6403306116978 and parameters: {'max_depth': 1, 'learning_rate': 0.09856245057809082, 'n_estimators': 19, 'min_child_weight': 8, 'gamma': 0.0008135131407875037, 'subsample': 0.805332116034165, 'colsample_bytree': 0.40859416507155755}. Best is trial 33 with value: 102.99084184483429.\u001b[0m\n"
     ]
    },
    {
     "name": "stdout",
     "output_type": "stream",
     "text": [
      "MAPE:  0.3789612992317888\n",
      "MAE:  8.466040090451973\n"
     ]
    },
    {
     "name": "stderr",
     "output_type": "stream",
     "text": [
      "\u001b[32m[I 2023-04-02 01:55:00,479]\u001b[0m Trial 49 finished with value: 136.69767181594912 and parameters: {'max_depth': 3, 'learning_rate': 0.19265493993577146, 'n_estimators': 55, 'min_child_weight': 9, 'gamma': 0.005051039886811515, 'subsample': 0.07264796869496393, 'colsample_bytree': 0.7957953021745838}. Best is trial 33 with value: 102.99084184483429.\u001b[0m\n"
     ]
    },
    {
     "name": "stdout",
     "output_type": "stream",
     "text": [
      "MAPE:  0.3340481152497574\n",
      "MAE:  8.085185193334626\n"
     ]
    },
    {
     "name": "stderr",
     "output_type": "stream",
     "text": [
      "\u001b[32m[I 2023-04-02 01:55:27,081]\u001b[0m Trial 50 finished with value: 110.08736273532546 and parameters: {'max_depth': 4, 'learning_rate': 0.1294440816078713, 'n_estimators': 87, 'min_child_weight': 6, 'gamma': 0.013509383132108494, 'subsample': 0.5470386252126244, 'colsample_bytree': 0.25398773924494567}. Best is trial 33 with value: 102.99084184483429.\u001b[0m\n"
     ]
    },
    {
     "name": "stdout",
     "output_type": "stream",
     "text": [
      "MAPE:  0.31466972340873056\n",
      "MAE:  6.982158563463726\n"
     ]
    },
    {
     "name": "stderr",
     "output_type": "stream",
     "text": [
      "\u001b[32m[I 2023-04-02 01:55:45,359]\u001b[0m Trial 51 finished with value: 110.62311002345027 and parameters: {'max_depth': 2, 'learning_rate': 0.05771593699046274, 'n_estimators': 69, 'min_child_weight': 4, 'gamma': 0.04920894993099078, 'subsample': 0.18160335131098082, 'colsample_bytree': 0.5571722951460998}. Best is trial 33 with value: 102.99084184483429.\u001b[0m\n"
     ]
    },
    {
     "name": "stdout",
     "output_type": "stream",
     "text": [
      "MAPE:  0.2979841357081161\n",
      "MAE:  7.030219993006424\n"
     ]
    },
    {
     "name": "stderr",
     "output_type": "stream",
     "text": [
      "\u001b[32m[I 2023-04-02 01:56:02,387]\u001b[0m Trial 52 finished with value: 105.09402693952264 and parameters: {'max_depth': 2, 'learning_rate': 0.07856820677401727, 'n_estimators': 60, 'min_child_weight': 3, 'gamma': 0.02836347000823222, 'subsample': 0.29781708952484165, 'colsample_bytree': 0.6078468830610604}. Best is trial 33 with value: 102.99084184483429.\u001b[0m\n"
     ]
    },
    {
     "name": "stdout",
     "output_type": "stream",
     "text": [
      "MAPE:  0.2904202667705138\n",
      "MAE:  6.9011732262469705\n"
     ]
    },
    {
     "name": "stderr",
     "output_type": "stream",
     "text": [
      "\u001b[32m[I 2023-04-02 01:56:12,050]\u001b[0m Trial 53 finished with value: 108.77983608484591 and parameters: {'max_depth': 2, 'learning_rate': 0.08615824796620679, 'n_estimators': 31, 'min_child_weight': 3, 'gamma': 0.025566878667127823, 'subsample': 0.4637101187436229, 'colsample_bytree': 0.36484731502346346}. Best is trial 33 with value: 102.99084184483429.\u001b[0m\n"
     ]
    },
    {
     "name": "stdout",
     "output_type": "stream",
     "text": [
      "MAPE:  0.31825307548227183\n",
      "MAE:  7.15990990031971\n"
     ]
    },
    {
     "name": "stderr",
     "output_type": "stream",
     "text": [
      "\u001b[32m[I 2023-04-02 01:56:55,005]\u001b[0m Trial 54 finished with value: 122.09359037752948 and parameters: {'max_depth': 3, 'learning_rate': 0.16928443114457234, 'n_estimators': 114, 'min_child_weight': 2, 'gamma': 0.0033987027667830177, 'subsample': 0.6023354573169296, 'colsample_bytree': 0.8486181521245324}. Best is trial 33 with value: 102.99084184483429.\u001b[0m\n"
     ]
    },
    {
     "name": "stdout",
     "output_type": "stream",
     "text": [
      "MAPE:  0.31805063841414627\n",
      "MAE:  7.203780076421156\n"
     ]
    },
    {
     "name": "stderr",
     "output_type": "stream",
     "text": [
      "\u001b[32m[I 2023-04-02 01:57:31,579]\u001b[0m Trial 55 finished with value: 113.64243048894492 and parameters: {'max_depth': 2, 'learning_rate': 0.10682015476473346, 'n_estimators': 137, 'min_child_weight': 1, 'gamma': 0.008920393236577555, 'subsample': 0.8793953283302747, 'colsample_bytree': 0.6400922252699262}. Best is trial 33 with value: 102.99084184483429.\u001b[0m\n"
     ]
    },
    {
     "name": "stdout",
     "output_type": "stream",
     "text": [
      "MAPE:  0.292565913379926\n",
      "MAE:  6.866676924473486\n"
     ]
    },
    {
     "name": "stderr",
     "output_type": "stream",
     "text": [
      "\u001b[32m[I 2023-04-02 01:57:41,997]\u001b[0m Trial 56 finished with value: 119.33788291168528 and parameters: {'max_depth': 1, 'learning_rate': 0.07911347467072191, 'n_estimators': 39, 'min_child_weight': 9, 'gamma': 0.06736103183172641, 'subsample': 0.32680728658581726, 'colsample_bytree': 0.45242103474418266}. Best is trial 33 with value: 102.99084184483429.\u001b[0m\n"
     ]
    },
    {
     "name": "stdout",
     "output_type": "stream",
     "text": [
      "MAPE:  0.3328738203507069\n",
      "MAE:  7.827164929606644\n"
     ]
    },
    {
     "name": "stderr",
     "output_type": "stream",
     "text": [
      "\u001b[32m[I 2023-04-02 01:57:57,274]\u001b[0m Trial 57 finished with value: 120.9461911015416 and parameters: {'max_depth': 2, 'learning_rate': 0.2846347621810273, 'n_estimators': 60, 'min_child_weight': 8, 'gamma': 0.005278518460598809, 'subsample': 0.28134988339224626, 'colsample_bytree': 0.3408961534236597}. Best is trial 33 with value: 102.99084184483429.\u001b[0m\n"
     ]
    },
    {
     "name": "stdout",
     "output_type": "stream",
     "text": [
      "MAPE:  0.3418702389802537\n",
      "MAE:  7.35802526299501\n"
     ]
    },
    {
     "name": "stderr",
     "output_type": "stream",
     "text": [
      "\u001b[32m[I 2023-04-02 01:58:14,201]\u001b[0m Trial 58 finished with value: 143.91080912608157 and parameters: {'max_depth': 3, 'learning_rate': 0.1535420222026213, 'n_estimators': 75, 'min_child_weight': 2, 'gamma': 0.18696342374320685, 'subsample': 0.4225084532616429, 'colsample_bytree': 0.032725147386213495}. Best is trial 33 with value: 102.99084184483429.\u001b[0m\n"
     ]
    },
    {
     "name": "stdout",
     "output_type": "stream",
     "text": [
      "MAPE:  0.3391296054331201\n",
      "MAE:  9.107132757350003\n"
     ]
    },
    {
     "name": "stderr",
     "output_type": "stream",
     "text": [
      "\u001b[32m[I 2023-04-02 01:58:35,148]\u001b[0m Trial 59 finished with value: 105.90812203867024 and parameters: {'max_depth': 1, 'learning_rate': 0.21650997205388178, 'n_estimators': 90, 'min_child_weight': 7, 'gamma': 0.0021990362444093883, 'subsample': 0.6792460785534279, 'colsample_bytree': 0.8417049755528937}. Best is trial 33 with value: 102.99084184483429.\u001b[0m\n"
     ]
    },
    {
     "name": "stdout",
     "output_type": "stream",
     "text": [
      "MAPE:  0.2821648142770496\n",
      "MAE:  6.688921191905173\n"
     ]
    },
    {
     "name": "stderr",
     "output_type": "stream",
     "text": [
      "\u001b[32m[I 2023-04-02 01:58:45,691]\u001b[0m Trial 60 finished with value: 154.12112090146448 and parameters: {'max_depth': 2, 'learning_rate': 0.03583092246885371, 'n_estimators': 38, 'min_child_weight': 4, 'gamma': 0.015744605155791395, 'subsample': 0.9917326176224904, 'colsample_bytree': 0.19807293840253332}. Best is trial 33 with value: 102.99084184483429.\u001b[0m\n"
     ]
    },
    {
     "name": "stdout",
     "output_type": "stream",
     "text": [
      "MAPE:  0.41802583286850453\n",
      "MAE:  8.596569331323312\n"
     ]
    },
    {
     "name": "stderr",
     "output_type": "stream",
     "text": [
      "\u001b[32m[I 2023-04-02 01:59:06,070]\u001b[0m Trial 61 finished with value: 106.32436504801996 and parameters: {'max_depth': 1, 'learning_rate': 0.2191659519689182, 'n_estimators': 87, 'min_child_weight': 7, 'gamma': 0.00032346954352072404, 'subsample': 0.6622676372994892, 'colsample_bytree': 0.8184355287295454}. Best is trial 33 with value: 102.99084184483429.\u001b[0m\n"
     ]
    },
    {
     "name": "stdout",
     "output_type": "stream",
     "text": [
      "MAPE:  0.28113496754237244\n",
      "MAE:  6.708528146054712\n"
     ]
    },
    {
     "name": "stderr",
     "output_type": "stream",
     "text": [
      "\u001b[32m[I 2023-04-02 01:59:19,016]\u001b[0m Trial 62 finished with value: 103.08497028238956 and parameters: {'max_depth': 1, 'learning_rate': 0.11783791380440024, 'n_estimators': 51, 'min_child_weight': 8, 'gamma': 0.0008348440598814476, 'subsample': 0.780464862911147, 'colsample_bytree': 0.6350019765259878}. Best is trial 33 with value: 102.99084184483429.\u001b[0m\n"
     ]
    },
    {
     "name": "stdout",
     "output_type": "stream",
     "text": [
      "MAPE:  0.2909719715775021\n",
      "MAE:  6.85359729329745\n"
     ]
    },
    {
     "name": "stderr",
     "output_type": "stream",
     "text": [
      "\u001b[32m[I 2023-04-02 01:59:34,757]\u001b[0m Trial 63 finished with value: 104.03936978193052 and parameters: {'max_depth': 2, 'learning_rate': 0.11597238253925515, 'n_estimators': 54, 'min_child_weight': 8, 'gamma': 0.00038404524929563986, 'subsample': 0.7851609169962492, 'colsample_bytree': 0.5719921069870978}. Best is trial 33 with value: 102.99084184483429.\u001b[0m\n"
     ]
    },
    {
     "name": "stdout",
     "output_type": "stream",
     "text": [
      "MAPE:  0.28595904525925675\n",
      "MAE:  6.697996813520213\n"
     ]
    },
    {
     "name": "stderr",
     "output_type": "stream",
     "text": [
      "\u001b[32m[I 2023-04-02 01:59:50,817]\u001b[0m Trial 64 finished with value: 104.12475484612739 and parameters: {'max_depth': 2, 'learning_rate': 0.06287397821448382, 'n_estimators': 55, 'min_child_weight': 8, 'gamma': 9.496457815720133e-05, 'subsample': 0.7645694584407803, 'colsample_bytree': 0.5677793353715673}. Best is trial 33 with value: 102.99084184483429.\u001b[0m\n"
     ]
    },
    {
     "name": "stdout",
     "output_type": "stream",
     "text": [
      "MAPE:  0.2916028842728154\n",
      "MAE:  6.7933399120668945\n"
     ]
    },
    {
     "name": "stderr",
     "output_type": "stream",
     "text": [
      "\u001b[32m[I 2023-04-02 02:00:03,412]\u001b[0m Trial 65 finished with value: 105.81022120339577 and parameters: {'max_depth': 1, 'learning_rate': 0.11617833814868245, 'n_estimators': 51, 'min_child_weight': 9, 'gamma': 5.705136075867742e-05, 'subsample': 0.7654202473716851, 'colsample_bytree': 0.5042991240437602}. Best is trial 33 with value: 102.99084184483429.\u001b[0m\n"
     ]
    },
    {
     "name": "stdout",
     "output_type": "stream",
     "text": [
      "MAPE:  0.29881821156232424\n",
      "MAE:  7.090662763620286\n"
     ]
    },
    {
     "name": "stderr",
     "output_type": "stream",
     "text": [
      "\u001b[32m[I 2023-04-02 02:00:21,916]\u001b[0m Trial 66 finished with value: 107.2048113414083 and parameters: {'max_depth': 2, 'learning_rate': 0.05945839792960077, 'n_estimators': 74, 'min_child_weight': 8, 'gamma': 0.00026430133995034727, 'subsample': 0.9055963380266494, 'colsample_bytree': 0.30931371254335854}. Best is trial 33 with value: 102.99084184483429.\u001b[0m\n"
     ]
    },
    {
     "name": "stdout",
     "output_type": "stream",
     "text": [
      "MAPE:  0.30360461397920635\n",
      "MAE:  7.196927399671033\n"
     ]
    },
    {
     "name": "stderr",
     "output_type": "stream",
     "text": [
      "\u001b[32m[I 2023-04-02 02:00:32,494]\u001b[0m Trial 67 finished with value: 113.13411992662753 and parameters: {'max_depth': 1, 'learning_rate': 0.09748171232179983, 'n_estimators': 42, 'min_child_weight': 8, 'gamma': 2.6200180366615516e-05, 'subsample': 0.5026697927557412, 'colsample_bytree': 0.3954530527110007}. Best is trial 33 with value: 102.99084184483429.\u001b[0m\n"
     ]
    },
    {
     "name": "stdout",
     "output_type": "stream",
     "text": [
      "MAPE:  0.32861628625033734\n",
      "MAE:  7.6559256618835505\n"
     ]
    },
    {
     "name": "stderr",
     "output_type": "stream",
     "text": [
      "\u001b[32m[I 2023-04-02 02:01:29,940]\u001b[0m Trial 68 finished with value: 109.6842152454049 and parameters: {'max_depth': 2, 'learning_rate': 0.061235667692527584, 'n_estimators': 236, 'min_child_weight': 9, 'gamma': 9.095809992114531e-05, 'subsample': 0.7582729978854735, 'colsample_bytree': 0.5593752629899865}. Best is trial 33 with value: 102.99084184483429.\u001b[0m\n"
     ]
    },
    {
     "name": "stdout",
     "output_type": "stream",
     "text": [
      "MAPE:  0.296335246098715\n",
      "MAE:  6.867388442698192\n"
     ]
    },
    {
     "name": "stderr",
     "output_type": "stream",
     "text": [
      "\u001b[32m[I 2023-04-02 02:01:51,222]\u001b[0m Trial 69 finished with value: 143.10756289893342 and parameters: {'max_depth': 1, 'learning_rate': 0.17953985572226905, 'n_estimators': 108, 'min_child_weight': 5, 'gamma': 0.00023476023400489048, 'subsample': 0.033010408485617745, 'colsample_bytree': 0.4459540220760712}. Best is trial 33 with value: 102.99084184483429.\u001b[0m\n"
     ]
    },
    {
     "name": "stdout",
     "output_type": "stream",
     "text": [
      "MAPE:  0.349964475949555\n",
      "MAE:  8.207604590036002\n"
     ]
    },
    {
     "name": "stderr",
     "output_type": "stream",
     "text": [
      "\u001b[32m[I 2023-04-02 02:03:36,644]\u001b[0m Trial 70 finished with value: 115.39819424306256 and parameters: {'max_depth': 8, 'learning_rate': 0.048340044807995516, 'n_estimators': 169, 'min_child_weight': 8, 'gamma': 0.00017148719936630423, 'subsample': 0.8965128780851892, 'colsample_bytree': 0.7480588726826213}. Best is trial 33 with value: 102.99084184483429.\u001b[0m\n"
     ]
    },
    {
     "name": "stdout",
     "output_type": "stream",
     "text": [
      "MAPE:  0.3074047533103552\n",
      "MAE:  6.923888343252641\n"
     ]
    },
    {
     "name": "stderr",
     "output_type": "stream",
     "text": [
      "\u001b[32m[I 2023-04-02 02:03:53,189]\u001b[0m Trial 71 finished with value: 103.82540186132596 and parameters: {'max_depth': 2, 'learning_rate': 0.07373042417504976, 'n_estimators': 56, 'min_child_weight': 8, 'gamma': 0.0004221595001672504, 'subsample': 0.7173307682324636, 'colsample_bytree': 0.6125433709569601}. Best is trial 33 with value: 102.99084184483429.\u001b[0m\n"
     ]
    },
    {
     "name": "stdout",
     "output_type": "stream",
     "text": [
      "MAPE:  0.2870741354667815\n",
      "MAE:  6.718823963894827\n"
     ]
    },
    {
     "name": "stderr",
     "output_type": "stream",
     "text": [
      "\u001b[32m[I 2023-04-02 02:04:16,066]\u001b[0m Trial 72 finished with value: 102.39658536831539 and parameters: {'max_depth': 2, 'learning_rate': 0.07264847433769422, 'n_estimators': 71, 'min_child_weight': 8, 'gamma': 0.000830937116058411, 'subsample': 0.6956098298405848, 'colsample_bytree': 0.9851815847514643}. Best is trial 72 with value: 102.39658536831539.\u001b[0m\n"
     ]
    },
    {
     "name": "stdout",
     "output_type": "stream",
     "text": [
      "MAPE:  0.2732319731604131\n",
      "MAE:  6.520281985755568\n"
     ]
    },
    {
     "name": "stderr",
     "output_type": "stream",
     "text": [
      "\u001b[32m[I 2023-04-02 02:04:34,975]\u001b[0m Trial 73 finished with value: 101.96513535343624 and parameters: {'max_depth': 2, 'learning_rate': 0.06468409402260843, 'n_estimators': 56, 'min_child_weight': 9, 'gamma': 0.00043111505103931176, 'subsample': 0.7498861189559047, 'colsample_bytree': 0.991669862376465}. Best is trial 73 with value: 101.96513535343624.\u001b[0m\n"
     ]
    },
    {
     "name": "stdout",
     "output_type": "stream",
     "text": [
      "MAPE:  0.276261735987702\n",
      "MAE:  6.554402769095591\n"
     ]
    },
    {
     "name": "stderr",
     "output_type": "stream",
     "text": [
      "\u001b[32m[I 2023-04-02 02:04:56,333]\u001b[0m Trial 74 finished with value: 103.80529679671902 and parameters: {'max_depth': 2, 'learning_rate': 0.07255600552957701, 'n_estimators': 70, 'min_child_weight': 9, 'gamma': 0.00036931084968943716, 'subsample': 0.5196180646775428, 'colsample_bytree': 0.9244799777256065}. Best is trial 73 with value: 101.96513535343624.\u001b[0m\n"
     ]
    },
    {
     "name": "stdout",
     "output_type": "stream",
     "text": [
      "MAPE:  0.275396441455271\n",
      "MAE:  6.639624520671204\n"
     ]
    },
    {
     "name": "stderr",
     "output_type": "stream",
     "text": [
      "\u001b[32m[I 2023-04-02 02:05:13,278]\u001b[0m Trial 75 finished with value: 101.80203479430163 and parameters: {'max_depth': 1, 'learning_rate': 0.07224749162007535, 'n_estimators': 66, 'min_child_weight': 10, 'gamma': 0.0008312511595480271, 'subsample': 0.546815900166009, 'colsample_bytree': 0.9337248713609592}. Best is trial 75 with value: 101.80203479430163.\u001b[0m\n"
     ]
    },
    {
     "name": "stdout",
     "output_type": "stream",
     "text": [
      "MAPE:  0.28285369428148344\n",
      "MAE:  6.741643071174622\n"
     ]
    },
    {
     "name": "stderr",
     "output_type": "stream",
     "text": [
      "\u001b[32m[I 2023-04-02 02:05:37,523]\u001b[0m Trial 76 finished with value: 101.57377907052033 and parameters: {'max_depth': 1, 'learning_rate': 0.046574368303711255, 'n_estimators': 101, 'min_child_weight': 10, 'gamma': 0.0007175098196624256, 'subsample': 0.5002460174880718, 'colsample_bytree': 0.939938642383299}. Best is trial 76 with value: 101.57377907052033.\u001b[0m\n"
     ]
    },
    {
     "name": "stdout",
     "output_type": "stream",
     "text": [
      "MAPE:  0.2839952066383778\n",
      "MAE:  6.748655332831408\n"
     ]
    },
    {
     "name": "stderr",
     "output_type": "stream",
     "text": [
      "\u001b[32m[I 2023-04-02 02:06:01,757]\u001b[0m Trial 77 finished with value: 103.51387305762314 and parameters: {'max_depth': 1, 'learning_rate': 0.0371126729139694, 'n_estimators': 99, 'min_child_weight': 10, 'gamma': 0.0007364487436622389, 'subsample': 0.433894893857821, 'colsample_bytree': 0.9410168331971533}. Best is trial 76 with value: 101.57377907052033.\u001b[0m\n"
     ]
    },
    {
     "name": "stdout",
     "output_type": "stream",
     "text": [
      "MAPE:  0.29085223728414383\n",
      "MAE:  6.919264951969652\n"
     ]
    },
    {
     "name": "stderr",
     "output_type": "stream",
     "text": [
      "\u001b[32m[I 2023-04-02 02:06:28,260]\u001b[0m Trial 78 finished with value: 107.50710484101234 and parameters: {'max_depth': 1, 'learning_rate': 0.031958149860866474, 'n_estimators': 99, 'min_child_weight': 10, 'gamma': 0.0008110349125431726, 'subsample': 0.4149733106721605, 'colsample_bytree': 0.9899657490890218}. Best is trial 76 with value: 101.57377907052033.\u001b[0m\n"
     ]
    },
    {
     "name": "stdout",
     "output_type": "stream",
     "text": [
      "MAPE:  0.30011032566102547\n",
      "MAE:  7.07212104853917\n"
     ]
    },
    {
     "name": "stderr",
     "output_type": "stream",
     "text": [
      "\u001b[32m[I 2023-04-02 02:06:55,970]\u001b[0m Trial 79 finished with value: 100.52403861798852 and parameters: {'max_depth': 1, 'learning_rate': 0.049806095817269525, 'n_estimators': 120, 'min_child_weight': 10, 'gamma': 0.0008500043994426085, 'subsample': 0.6232113333491656, 'colsample_bytree': 0.9028988340979363}. Best is trial 79 with value: 100.52403861798852.\u001b[0m\n"
     ]
    },
    {
     "name": "stdout",
     "output_type": "stream",
     "text": [
      "MAPE:  0.278281047725841\n",
      "MAE:  6.6427467812908425\n"
     ]
    },
    {
     "name": "stderr",
     "output_type": "stream",
     "text": [
      "\u001b[32m[I 2023-04-02 02:07:24,562]\u001b[0m Trial 80 finished with value: 112.14341338076798 and parameters: {'max_depth': 1, 'learning_rate': 0.0224497322328038, 'n_estimators': 126, 'min_child_weight': 10, 'gamma': 0.0008509459156173287, 'subsample': 0.368891845336374, 'colsample_bytree': 0.9877638598511255}. Best is trial 79 with value: 100.52403861798852.\u001b[0m\n"
     ]
    },
    {
     "name": "stdout",
     "output_type": "stream",
     "text": [
      "MAPE:  0.3108865993359598\n",
      "MAE:  7.253141574310453\n"
     ]
    },
    {
     "name": "stderr",
     "output_type": "stream",
     "text": [
      "\u001b[32m[I 2023-04-02 02:07:48,525]\u001b[0m Trial 81 finished with value: 103.31784893760883 and parameters: {'max_depth': 1, 'learning_rate': 0.04204731804716077, 'n_estimators': 108, 'min_child_weight': 10, 'gamma': 0.0009188964350227395, 'subsample': 0.6310653861231712, 'colsample_bytree': 0.7258502175201691}. Best is trial 79 with value: 100.52403861798852.\u001b[0m\n"
     ]
    },
    {
     "name": "stdout",
     "output_type": "stream",
     "text": [
      "MAPE:  0.29115166959036476\n",
      "MAE:  6.894022837709101\n"
     ]
    },
    {
     "name": "stderr",
     "output_type": "stream",
     "text": [
      "\u001b[32m[I 2023-04-02 02:08:21,142]\u001b[0m Trial 82 finished with value: 99.33967376994211 and parameters: {'max_depth': 1, 'learning_rate': 0.049841001933429344, 'n_estimators': 145, 'min_child_weight': 10, 'gamma': 0.0006126468834976593, 'subsample': 0.613995469548673, 'colsample_bytree': 0.88584553073419}. Best is trial 82 with value: 99.33967376994211.\u001b[0m\n"
     ]
    },
    {
     "name": "stdout",
     "output_type": "stream",
     "text": [
      "MAPE:  0.2753320425144519\n",
      "MAE:  6.561329468247596\n"
     ]
    },
    {
     "name": "stderr",
     "output_type": "stream",
     "text": [
      "\u001b[32m[I 2023-04-02 02:08:51,191]\u001b[0m Trial 83 finished with value: 99.34664060170556 and parameters: {'max_depth': 1, 'learning_rate': 0.05221059722429181, 'n_estimators': 136, 'min_child_weight': 10, 'gamma': 0.0010804239346751884, 'subsample': 0.594021232823025, 'colsample_bytree': 0.8657970924416808}. Best is trial 82 with value: 99.33967376994211.\u001b[0m\n"
     ]
    },
    {
     "name": "stdout",
     "output_type": "stream",
     "text": [
      "MAPE:  0.27477274417023884\n",
      "MAE:  6.590809204791221\n"
     ]
    },
    {
     "name": "stderr",
     "output_type": "stream",
     "text": [
      "\u001b[32m[I 2023-04-02 02:09:23,499]\u001b[0m Trial 84 finished with value: 100.97065063278598 and parameters: {'max_depth': 1, 'learning_rate': 0.051391655369901076, 'n_estimators': 144, 'min_child_weight': 10, 'gamma': 0.0017042878783723172, 'subsample': 0.4898742749084071, 'colsample_bytree': 0.8638680258903813}. Best is trial 82 with value: 99.33967376994211.\u001b[0m\n"
     ]
    },
    {
     "name": "stdout",
     "output_type": "stream",
     "text": [
      "MAPE:  0.27638044600334877\n",
      "MAE:  6.646585199493594\n"
     ]
    },
    {
     "name": "stderr",
     "output_type": "stream",
     "text": [
      "\u001b[32m[I 2023-04-02 02:09:57,036]\u001b[0m Trial 85 finished with value: 101.37611652658934 and parameters: {'max_depth': 1, 'learning_rate': 0.05107985322292794, 'n_estimators': 148, 'min_child_weight': 10, 'gamma': 0.0018171247006041184, 'subsample': 0.49671917467780774, 'colsample_bytree': 0.8720748967882517}. Best is trial 82 with value: 99.33967376994211.\u001b[0m\n"
     ]
    },
    {
     "name": "stdout",
     "output_type": "stream",
     "text": [
      "MAPE:  0.27651446437005595\n",
      "MAE:  6.647017594059458\n"
     ]
    },
    {
     "name": "stderr",
     "output_type": "stream",
     "text": [
      "\u001b[32m[I 2023-04-02 02:10:28,542]\u001b[0m Trial 86 finished with value: 100.13029082800055 and parameters: {'max_depth': 1, 'learning_rate': 0.0504214663016483, 'n_estimators': 141, 'min_child_weight': 10, 'gamma': 0.0005394307725792694, 'subsample': 0.4639276631579394, 'colsample_bytree': 0.866758333007275}. Best is trial 82 with value: 99.33967376994211.\u001b[0m\n"
     ]
    },
    {
     "name": "stdout",
     "output_type": "stream",
     "text": [
      "MAPE:  0.27704183312565145\n",
      "MAE:  6.636764558327481\n"
     ]
    },
    {
     "name": "stderr",
     "output_type": "stream",
     "text": [
      "\u001b[32m[I 2023-04-02 02:11:01,918]\u001b[0m Trial 87 finished with value: 100.55833547867815 and parameters: {'max_depth': 1, 'learning_rate': 0.052953809079585315, 'n_estimators': 154, 'min_child_weight': 10, 'gamma': 0.0017388384838075395, 'subsample': 0.472554994926746, 'colsample_bytree': 0.8563782649938001}. Best is trial 82 with value: 99.33967376994211.\u001b[0m\n"
     ]
    },
    {
     "name": "stdout",
     "output_type": "stream",
     "text": [
      "MAPE:  0.27653235929045933\n",
      "MAE:  6.63229517770766\n"
     ]
    },
    {
     "name": "stderr",
     "output_type": "stream",
     "text": [
      "\u001b[32m[I 2023-04-02 02:11:34,622]\u001b[0m Trial 88 finished with value: 101.21085229070815 and parameters: {'max_depth': 1, 'learning_rate': 0.0525087323290183, 'n_estimators': 147, 'min_child_weight': 10, 'gamma': 0.0016827561019486692, 'subsample': 0.49186990293965266, 'colsample_bytree': 0.8579264566075849}. Best is trial 82 with value: 99.33967376994211.\u001b[0m\n"
     ]
    },
    {
     "name": "stdout",
     "output_type": "stream",
     "text": [
      "MAPE:  0.27630115677040884\n",
      "MAE:  6.644499295064423\n"
     ]
    },
    {
     "name": "stderr",
     "output_type": "stream",
     "text": [
      "\u001b[32m[I 2023-04-02 02:12:05,485]\u001b[0m Trial 89 finished with value: 104.02613277585989 and parameters: {'max_depth': 1, 'learning_rate': 0.05267752158853428, 'n_estimators': 145, 'min_child_weight': 10, 'gamma': 0.0019369040117429785, 'subsample': 0.3474343215015968, 'colsample_bytree': 0.8618759995013631}. Best is trial 82 with value: 99.33967376994211.\u001b[0m\n"
     ]
    },
    {
     "name": "stdout",
     "output_type": "stream",
     "text": [
      "MAPE:  0.28065414936906624\n",
      "MAE:  6.711744767152117\n"
     ]
    },
    {
     "name": "stderr",
     "output_type": "stream",
     "text": [
      "\u001b[32m[I 2023-04-02 02:12:37,675]\u001b[0m Trial 90 finished with value: 112.06730161064635 and parameters: {'max_depth': 1, 'learning_rate': 0.04699611675952307, 'n_estimators': 159, 'min_child_weight': 10, 'gamma': 0.0011735291643847647, 'subsample': 0.26094351282991196, 'colsample_bytree': 0.7539589322015996}. Best is trial 82 with value: 99.33967376994211.\u001b[0m\n"
     ]
    },
    {
     "name": "stdout",
     "output_type": "stream",
     "text": [
      "MAPE:  0.2875458703925684\n",
      "MAE:  7.035434383615275\n"
     ]
    },
    {
     "name": "stderr",
     "output_type": "stream",
     "text": [
      "\u001b[32m[I 2023-04-02 02:13:08,117]\u001b[0m Trial 91 finished with value: 100.7519130215265 and parameters: {'max_depth': 1, 'learning_rate': 0.051200345849449796, 'n_estimators': 139, 'min_child_weight': 10, 'gamma': 0.0005651439695662572, 'subsample': 0.47473543099035337, 'colsample_bytree': 0.8425929091839328}. Best is trial 82 with value: 99.33967376994211.\u001b[0m\n"
     ]
    },
    {
     "name": "stdout",
     "output_type": "stream",
     "text": [
      "MAPE:  0.27695857415364006\n",
      "MAE:  6.63671832324265\n"
     ]
    },
    {
     "name": "stderr",
     "output_type": "stream",
     "text": [
      "\u001b[32m[I 2023-04-02 02:13:37,957]\u001b[0m Trial 92 finished with value: 99.95389497463714 and parameters: {'max_depth': 1, 'learning_rate': 0.05208566647111, 'n_estimators': 139, 'min_child_weight': 10, 'gamma': 0.0005400447441176081, 'subsample': 0.4767674557029801, 'colsample_bytree': 0.8642630858016652}. Best is trial 82 with value: 99.33967376994211.\u001b[0m\n"
     ]
    },
    {
     "name": "stdout",
     "output_type": "stream",
     "text": [
      "MAPE:  0.27655970837416566\n",
      "MAE:  6.613575515936079\n"
     ]
    },
    {
     "name": "stderr",
     "output_type": "stream",
     "text": [
      "\u001b[32m[I 2023-04-02 02:14:07,756]\u001b[0m Trial 93 finished with value: 103.68239610111435 and parameters: {'max_depth': 1, 'learning_rate': 0.031705106029685605, 'n_estimators': 139, 'min_child_weight': 10, 'gamma': 0.000581032851905195, 'subsample': 0.39532569857400457, 'colsample_bytree': 0.8544447308032856}. Best is trial 82 with value: 99.33967376994211.\u001b[0m\n"
     ]
    },
    {
     "name": "stdout",
     "output_type": "stream",
     "text": [
      "MAPE:  0.28789488476357533\n",
      "MAE:  6.838402890831642\n"
     ]
    },
    {
     "name": "stderr",
     "output_type": "stream",
     "text": [
      "\u001b[32m[I 2023-04-02 02:14:41,160]\u001b[0m Trial 94 finished with value: 101.67819458597289 and parameters: {'max_depth': 1, 'learning_rate': 0.04146256494204336, 'n_estimators': 158, 'min_child_weight': 10, 'gamma': 0.0015540495771754633, 'subsample': 0.4666796333402766, 'colsample_bytree': 0.7695118500623922}. Best is trial 82 with value: 99.33967376994211.\u001b[0m\n"
     ]
    },
    {
     "name": "stdout",
     "output_type": "stream",
     "text": [
      "MAPE:  0.2804667587592327\n",
      "MAE:  6.725466037622552\n"
     ]
    },
    {
     "name": "stderr",
     "output_type": "stream",
     "text": [
      "\u001b[32m[I 2023-04-02 02:15:11,521]\u001b[0m Trial 95 finished with value: 106.90235975987976 and parameters: {'max_depth': 1, 'learning_rate': 0.052802443080935166, 'n_estimators': 151, 'min_child_weight': 10, 'gamma': 0.0011618272642711339, 'subsample': 0.3255005922544469, 'colsample_bytree': 0.6930027304352306}. Best is trial 82 with value: 99.33967376994211.\u001b[0m\n"
     ]
    },
    {
     "name": "stdout",
     "output_type": "stream",
     "text": [
      "MAPE:  0.28838983302670784\n",
      "MAE:  6.904141412989775\n"
     ]
    },
    {
     "name": "stderr",
     "output_type": "stream",
     "text": [
      "\u001b[32m[I 2023-04-02 02:15:44,317]\u001b[0m Trial 96 finished with value: 124.27971846799122 and parameters: {'max_depth': 1, 'learning_rate': 0.025659434597674446, 'n_estimators': 166, 'min_child_weight': 9, 'gamma': 0.0016902873222259748, 'subsample': 0.08757476384123647, 'colsample_bytree': 0.8543290248782057}. Best is trial 82 with value: 99.33967376994211.\u001b[0m\n"
     ]
    },
    {
     "name": "stdout",
     "output_type": "stream",
     "text": [
      "MAPE:  0.3203920092417575\n",
      "MAE:  7.731938531224647\n"
     ]
    },
    {
     "name": "stderr",
     "output_type": "stream",
     "text": [
      "\u001b[32m[I 2023-04-02 02:16:11,902]\u001b[0m Trial 97 finished with value: 102.64890447190903 and parameters: {'max_depth': 1, 'learning_rate': 0.03547794375602436, 'n_estimators': 128, 'min_child_weight': 10, 'gamma': 0.0005293443318540473, 'subsample': 0.597040357716129, 'colsample_bytree': 0.7372729008159551}. Best is trial 82 with value: 99.33967376994211.\u001b[0m\n"
     ]
    },
    {
     "name": "stdout",
     "output_type": "stream",
     "text": [
      "MAPE:  0.2885635916159589\n",
      "MAE:  6.895103290025959\n"
     ]
    },
    {
     "name": "stderr",
     "output_type": "stream",
     "text": [
      "\u001b[32m[I 2023-04-02 02:16:43,226]\u001b[0m Trial 98 finished with value: 101.37578632102064 and parameters: {'max_depth': 1, 'learning_rate': 0.04095374756056429, 'n_estimators': 143, 'min_child_weight': 10, 'gamma': 0.0026416668219145295, 'subsample': 0.46773766938647, 'colsample_bytree': 0.7958903399553537}. Best is trial 82 with value: 99.33967376994211.\u001b[0m\n"
     ]
    },
    {
     "name": "stdout",
     "output_type": "stream",
     "text": [
      "MAPE:  0.2808394087441796\n",
      "MAE:  6.7182441641403345\n"
     ]
    },
    {
     "name": "stderr",
     "output_type": "stream",
     "text": [
      "\u001b[32m[I 2023-04-02 02:17:14,677]\u001b[0m Trial 99 finished with value: 140.88513260138734 and parameters: {'max_depth': 1, 'learning_rate': 0.04395047674199201, 'n_estimators': 183, 'min_child_weight': 10, 'gamma': 0.003986218672755167, 'subsample': 0.37400013414351874, 'colsample_bytree': 0.07362103192627668}. Best is trial 82 with value: 99.33967376994211.\u001b[0m\n"
     ]
    },
    {
     "name": "stdout",
     "output_type": "stream",
     "text": [
      "MAPE:  0.35441406109564155\n",
      "MAE:  9.08020894287082\n"
     ]
    },
    {
     "name": "stderr",
     "output_type": "stream",
     "text": [
      "\u001b[32m[I 2023-04-02 02:18:03,693]\u001b[0m A new study created in memory with name: no-name-08ade3c6-5f12-40b1-85af-cdb8b4736be1\u001b[0m\n",
      "\u001b[32m[I 2023-04-02 02:19:49,730]\u001b[0m Trial 0 finished with value: 16.297699445439832 and parameters: {'max_depth': 2, 'learning_rate': 0.052349975557251516, 'n_estimators': 265, 'min_child_weight': 4, 'gamma': 0.0008708518144138454, 'subsample': 0.10056065915689219, 'colsample_bytree': 0.7050440425481156}. Best is trial 0 with value: 16.297699445439832.\u001b[0m\n"
     ]
    },
    {
     "name": "stdout",
     "output_type": "stream",
     "text": [
      "MAPE:  0.13161699706280997\n",
      "MAE:  2.755112258510457\n"
     ]
    },
    {
     "name": "stderr",
     "output_type": "stream",
     "text": [
      "\u001b[32m[I 2023-04-02 02:20:33,477]\u001b[0m Trial 1 finished with value: 58.65328475597726 and parameters: {'max_depth': 3, 'learning_rate': 0.025950068175377858, 'n_estimators': 90, 'min_child_weight': 1, 'gamma': 0.10256273127915558, 'subsample': 0.023167019192070475, 'colsample_bytree': 0.47883478369887744}. Best is trial 0 with value: 16.297699445439832.\u001b[0m\n"
     ]
    },
    {
     "name": "stdout",
     "output_type": "stream",
     "text": [
      "MAPE:  0.23893567852638517\n",
      "MAE:  5.087727541212367\n"
     ]
    },
    {
     "name": "stderr",
     "output_type": "stream",
     "text": [
      "\u001b[32m[I 2023-04-02 02:21:51,062]\u001b[0m Trial 2 finished with value: 173.59709430423314 and parameters: {'max_depth': 1, 'learning_rate': 0.01897036546578882, 'n_estimators': 212, 'min_child_weight': 1, 'gamma': 0.06293549791039757, 'subsample': 0.7675012041229828, 'colsample_bytree': 0.04841496982241337}. Best is trial 0 with value: 16.297699445439832.\u001b[0m\n"
     ]
    },
    {
     "name": "stdout",
     "output_type": "stream",
     "text": [
      "MAPE:  0.36860787677957674\n",
      "MAE:  10.66867183637682\n"
     ]
    },
    {
     "name": "stderr",
     "output_type": "stream",
     "text": [
      "\u001b[32m[I 2023-04-02 02:23:26,581]\u001b[0m Trial 3 finished with value: 54.69950416456595 and parameters: {'max_depth': 4, 'learning_rate': 0.3295053526140565, 'n_estimators': 254, 'min_child_weight': 9, 'gamma': 2.828318414986337e-05, 'subsample': 0.08086889195574455, 'colsample_bytree': 0.034175163649447414}. Best is trial 0 with value: 16.297699445439832.\u001b[0m\n"
     ]
    },
    {
     "name": "stdout",
     "output_type": "stream",
     "text": [
      "MAPE:  0.9866727183993871\n",
      "MAE:  5.765841145904103\n"
     ]
    },
    {
     "name": "stderr",
     "output_type": "stream",
     "text": [
      "\u001b[32m[I 2023-04-02 02:24:43,123]\u001b[0m Trial 4 finished with value: 46.861959302028914 and parameters: {'max_depth': 3, 'learning_rate': 0.39875814065836324, 'n_estimators': 235, 'min_child_weight': 6, 'gamma': 0.003914489035718247, 'subsample': 0.12122101629757924, 'colsample_bytree': 0.05407011167793548}. Best is trial 0 with value: 16.297699445439832.\u001b[0m\n"
     ]
    },
    {
     "name": "stdout",
     "output_type": "stream",
     "text": [
      "MAPE:  0.6513743245985739\n",
      "MAE:  5.2301875962202855\n"
     ]
    },
    {
     "name": "stderr",
     "output_type": "stream",
     "text": [
      "\u001b[32m[I 2023-04-02 02:26:24,263]\u001b[0m Trial 5 finished with value: 176.36411493531998 and parameters: {'max_depth': 4, 'learning_rate': 0.6841878134725352, 'n_estimators': 293, 'min_child_weight': 5, 'gamma': 0.0004148712246959475, 'subsample': 0.12824051264393357, 'colsample_bytree': 0.03180214651102925}. Best is trial 0 with value: 16.297699445439832.\u001b[0m\n"
     ]
    },
    {
     "name": "stdout",
     "output_type": "stream",
     "text": [
      "MAPE:  3.8673529551748578\n",
      "MAE:  10.366291967638682\n"
     ]
    },
    {
     "name": "stderr",
     "output_type": "stream",
     "text": [
      "\u001b[32m[I 2023-04-02 02:26:54,412]\u001b[0m Trial 6 finished with value: 20.64080644776437 and parameters: {'max_depth': 3, 'learning_rate': 0.11840863097289293, 'n_estimators': 73, 'min_child_weight': 2, 'gamma': 8.407284870253066e-05, 'subsample': 0.11995237448471774, 'colsample_bytree': 0.2835271501011447}. Best is trial 0 with value: 16.297699445439832.\u001b[0m\n"
     ]
    },
    {
     "name": "stdout",
     "output_type": "stream",
     "text": [
      "MAPE:  0.16489207917260829\n",
      "MAE:  3.331015601951294\n"
     ]
    },
    {
     "name": "stderr",
     "output_type": "stream",
     "text": [
      "\u001b[32m[I 2023-04-02 02:28:22,446]\u001b[0m Trial 7 finished with value: 18.550397680536623 and parameters: {'max_depth': 1, 'learning_rate': 0.20000600166707935, 'n_estimators': 287, 'min_child_weight': 10, 'gamma': 0.7268143534619298, 'subsample': 0.5482852666768683, 'colsample_bytree': 0.18014461639462395}. Best is trial 0 with value: 16.297699445439832.\u001b[0m\n"
     ]
    },
    {
     "name": "stdout",
     "output_type": "stream",
     "text": [
      "MAPE:  0.1549951764995513\n",
      "MAE:  3.032387277968819\n"
     ]
    },
    {
     "name": "stderr",
     "output_type": "stream",
     "text": [
      "\u001b[32m[I 2023-04-02 02:28:49,236]\u001b[0m Trial 8 finished with value: 254.12983140869463 and parameters: {'max_depth': 5, 'learning_rate': 0.011994930170292413, 'n_estimators': 82, 'min_child_weight': 1, 'gamma': 0.0004937202300672101, 'subsample': 0.032094592907065844, 'colsample_bytree': 0.01707374658669404}. Best is trial 0 with value: 16.297699445439832.\u001b[0m\n"
     ]
    },
    {
     "name": "stdout",
     "output_type": "stream",
     "text": [
      "MAPE:  0.581905713963672\n",
      "MAE:  10.541223065129348\n"
     ]
    },
    {
     "name": "stderr",
     "output_type": "stream",
     "text": [
      "\u001b[32m[I 2023-04-02 02:29:20,067]\u001b[0m Trial 9 finished with value: 134.7426394125876 and parameters: {'max_depth': 1, 'learning_rate': 0.13970667652150262, 'n_estimators': 102, 'min_child_weight': 7, 'gamma': 0.0004674199375653332, 'subsample': 0.6016140884498525, 'colsample_bytree': 0.020247705254451152}. Best is trial 0 with value: 16.297699445439832.\u001b[0m\n"
     ]
    },
    {
     "name": "stdout",
     "output_type": "stream",
     "text": [
      "MAPE:  0.3391904863391977\n",
      "MAE:  9.49695482487401\n"
     ]
    },
    {
     "name": "stderr",
     "output_type": "stream",
     "text": [
      "\u001b[32m[I 2023-04-02 02:30:43,662]\u001b[0m Trial 10 finished with value: 28.009260510551044 and parameters: {'max_depth': 9, 'learning_rate': 0.057190581083125275, 'n_estimators': 179, 'min_child_weight': 4, 'gamma': 0.013918884755581623, 'subsample': 0.2505261090942565, 'colsample_bytree': 0.12461549767273829}. Best is trial 0 with value: 16.297699445439832.\u001b[0m\n"
     ]
    },
    {
     "name": "stdout",
     "output_type": "stream",
     "text": [
      "MAPE:  0.18467920052272396\n",
      "MAE:  4.037011736836383\n"
     ]
    },
    {
     "name": "stderr",
     "output_type": "stream",
     "text": [
      "\u001b[32m[I 2023-04-02 02:32:23,369]\u001b[0m Trial 11 finished with value: 90.84661662527613 and parameters: {'max_depth': 8, 'learning_rate': 0.057130491890214595, 'n_estimators': 289, 'min_child_weight': 10, 'gamma': 0.22077976250466524, 'subsample': 0.010271937849359166, 'colsample_bytree': 0.9598051451487222}. Best is trial 0 with value: 16.297699445439832.\u001b[0m\n"
     ]
    },
    {
     "name": "stdout",
     "output_type": "stream",
     "text": [
      "MAPE:  0.26906876688470416\n",
      "MAE:  6.908309421211324\n"
     ]
    },
    {
     "name": "stderr",
     "output_type": "stream",
     "text": [
      "\u001b[32m[I 2023-04-02 02:33:17,994]\u001b[0m Trial 12 finished with value: 17.904870435255106 and parameters: {'max_depth': 1, 'learning_rate': 0.21778250759627402, 'n_estimators': 169, 'min_child_weight': 8, 'gamma': 0.8632631148682177, 'subsample': 0.3792248072930015, 'colsample_bytree': 0.18316279407223487}. Best is trial 0 with value: 16.297699445439832.\u001b[0m\n"
     ]
    },
    {
     "name": "stdout",
     "output_type": "stream",
     "text": [
      "MAPE:  0.15269934831329735\n",
      "MAE:  3.0500321863465523\n"
     ]
    },
    {
     "name": "stderr",
     "output_type": "stream",
     "text": [
      "\u001b[32m[I 2023-04-02 02:34:25,186]\u001b[0m Trial 13 finished with value: 15.13032385742705 and parameters: {'max_depth': 2, 'learning_rate': 0.07792237214695215, 'n_estimators': 140, 'min_child_weight': 8, 'gamma': 0.00848377807440774, 'subsample': 0.28800455456927476, 'colsample_bytree': 0.9471557640535279}. Best is trial 13 with value: 15.13032385742705.\u001b[0m\n"
     ]
    },
    {
     "name": "stdout",
     "output_type": "stream",
     "text": [
      "MAPE:  0.11690679118047534\n",
      "MAE:  2.490071739075045\n"
     ]
    },
    {
     "name": "stderr",
     "output_type": "stream",
     "text": [
      "\u001b[32m[I 2023-04-02 02:36:13,219]\u001b[0m Trial 14 finished with value: 15.368842805952735 and parameters: {'max_depth': 6, 'learning_rate': 0.05393850990538331, 'n_estimators': 126, 'min_child_weight': 4, 'gamma': 0.005631196328730838, 'subsample': 0.24530374490815082, 'colsample_bytree': 0.928074113302506}. Best is trial 13 with value: 15.13032385742705.\u001b[0m\n"
     ]
    },
    {
     "name": "stdout",
     "output_type": "stream",
     "text": [
      "MAPE:  0.12486410654651633\n",
      "MAE:  2.5451633312675375\n"
     ]
    },
    {
     "name": "stderr",
     "output_type": "stream",
     "text": [
      "\u001b[32m[I 2023-04-02 02:36:31,365]\u001b[0m Trial 15 finished with value: 187.4516926584496 and parameters: {'max_depth': 7, 'learning_rate': 0.033374478105073914, 'n_estimators': 25, 'min_child_weight': 3, 'gamma': 0.011371101071902158, 'subsample': 0.24768375360767336, 'colsample_bytree': 0.4441163777881201}. Best is trial 13 with value: 15.13032385742705.\u001b[0m\n"
     ]
    },
    {
     "name": "stdout",
     "output_type": "stream",
     "text": [
      "MAPE:  0.7011022068024628\n",
      "MAE:  10.408480564496978\n"
     ]
    },
    {
     "name": "stderr",
     "output_type": "stream",
     "text": [
      "\u001b[32m[I 2023-04-02 02:37:51,871]\u001b[0m Trial 16 finished with value: 17.486209336583116 and parameters: {'max_depth': 6, 'learning_rate': 0.08098405592394901, 'n_estimators': 137, 'min_child_weight': 7, 'gamma': 0.015605265968378789, 'subsample': 0.26512032230728494, 'colsample_bytree': 0.3976000179928816}. Best is trial 13 with value: 15.13032385742705.\u001b[0m\n"
     ]
    },
    {
     "name": "stdout",
     "output_type": "stream",
     "text": [
      "MAPE:  0.14684545959941697\n",
      "MAE:  2.9300071629818785\n"
     ]
    },
    {
     "name": "stderr",
     "output_type": "stream",
     "text": [
      "\u001b[32m[I 2023-04-02 02:39:07,142]\u001b[0m Trial 17 finished with value: 22.551220169592117 and parameters: {'max_depth': 6, 'learning_rate': 0.034671181240911286, 'n_estimators': 134, 'min_child_weight': 6, 'gamma': 0.002868397177952595, 'subsample': 0.05256234852770605, 'colsample_bytree': 0.6776601793957433}. Best is trial 13 with value: 15.13032385742705.\u001b[0m\n"
     ]
    },
    {
     "name": "stdout",
     "output_type": "stream",
     "text": [
      "MAPE:  0.14852507280144137\n",
      "MAE:  3.1477516287415432\n"
     ]
    },
    {
     "name": "stderr",
     "output_type": "stream",
     "text": [
      "\u001b[32m[I 2023-04-02 02:40:09,768]\u001b[0m Trial 18 finished with value: 132.75002313420953 and parameters: {'max_depth': 6, 'learning_rate': 0.08439076348287444, 'n_estimators': 198, 'min_child_weight': 8, 'gamma': 0.0028440670899216925, 'subsample': 0.19863886422693075, 'colsample_bytree': 0.010457475067000887}. Best is trial 13 with value: 15.13032385742705.\u001b[0m\n"
     ]
    },
    {
     "name": "stdout",
     "output_type": "stream",
     "text": [
      "MAPE:  0.33739803302620014\n",
      "MAE:  9.395081496191404\n"
     ]
    },
    {
     "name": "stderr",
     "output_type": "stream",
     "text": [
      "\u001b[32m[I 2023-04-02 02:40:54,166]\u001b[0m Trial 19 finished with value: 363.24910192491546 and parameters: {'max_depth': 5, 'learning_rate': 0.010643263511986122, 'n_estimators': 37, 'min_child_weight': 5, 'gamma': 0.039807372176472434, 'subsample': 0.9779945737912105, 'colsample_bytree': 0.9715544388299793}. Best is trial 13 with value: 15.13032385742705.\u001b[0m\n"
     ]
    },
    {
     "name": "stdout",
     "output_type": "stream",
     "text": [
      "MAPE:  1.9487079114313797\n",
      "MAE:  15.805997809828826\n"
     ]
    },
    {
     "name": "stderr",
     "output_type": "stream",
     "text": [
      "\u001b[32m[I 2023-04-02 02:42:25,282]\u001b[0m Trial 20 finished with value: 21.969721118984417 and parameters: {'max_depth': 8, 'learning_rate': 0.14678226996843022, 'n_estimators': 134, 'min_child_weight': 3, 'gamma': 0.00013531994585585486, 'subsample': 0.32945648638648983, 'colsample_bytree': 0.3056395540501611}. Best is trial 13 with value: 15.13032385742705.\u001b[0m\n"
     ]
    },
    {
     "name": "stdout",
     "output_type": "stream",
     "text": [
      "MAPE:  0.17288371890428778\n",
      "MAE:  3.3410148266801443\n"
     ]
    },
    {
     "name": "stderr",
     "output_type": "stream",
     "text": [
      "\u001b[32m[I 2023-04-02 02:43:09,885]\u001b[0m Trial 21 finished with value: 16.734387224091694 and parameters: {'max_depth': 2, 'learning_rate': 0.04584840139495283, 'n_estimators': 109, 'min_child_weight': 4, 'gamma': 0.001377310049615871, 'subsample': 0.1681988698152588, 'colsample_bytree': 0.6626044440199097}. Best is trial 13 with value: 15.13032385742705.\u001b[0m\n"
     ]
    },
    {
     "name": "stdout",
     "output_type": "stream",
     "text": [
      "MAPE:  0.13604116855549225\n",
      "MAE:  2.846263838153352\n"
     ]
    },
    {
     "name": "stderr",
     "output_type": "stream",
     "text": [
      "\u001b[32m[I 2023-04-02 02:44:08,827]\u001b[0m Trial 22 finished with value: 16.9894339079914 and parameters: {'max_depth': 2, 'learning_rate': 0.06727219934206104, 'n_estimators': 151, 'min_child_weight': 4, 'gamma': 0.007253410551099372, 'subsample': 0.07155141048989735, 'colsample_bytree': 0.6744686504973632}. Best is trial 13 with value: 15.13032385742705.\u001b[0m\n"
     ]
    },
    {
     "name": "stdout",
     "output_type": "stream",
     "text": [
      "MAPE:  0.1383499634782665\n",
      "MAE:  2.8617781839042746\n"
     ]
    },
    {
     "name": "stderr",
     "output_type": "stream",
     "text": [
      "\u001b[32m[I 2023-04-02 02:45:50,067]\u001b[0m Trial 23 finished with value: 16.677669165837116 and parameters: {'max_depth': 2, 'learning_rate': 0.01984300966950289, 'n_estimators': 203, 'min_child_weight': 3, 'gamma': 0.0010620921661938319, 'subsample': 0.42926930864038815, 'colsample_bytree': 0.9223734691509899}. Best is trial 13 with value: 15.13032385742705.\u001b[0m\n"
     ]
    },
    {
     "name": "stdout",
     "output_type": "stream",
     "text": [
      "MAPE:  0.12456045908227045\n",
      "MAE:  2.690401236097964\n"
     ]
    },
    {
     "name": "stderr",
     "output_type": "stream",
     "text": [
      "\u001b[32m[I 2023-04-02 02:47:40,864]\u001b[0m Trial 24 finished with value: 20.50397579884445 and parameters: {'max_depth': 4, 'learning_rate': 0.04147978007847113, 'n_estimators': 250, 'min_child_weight': 5, 'gamma': 1.0232586414907196e-05, 'subsample': 0.04730281290302471, 'colsample_bytree': 0.5584881266875804}. Best is trial 13 with value: 15.13032385742705.\u001b[0m\n"
     ]
    },
    {
     "name": "stdout",
     "output_type": "stream",
     "text": [
      "MAPE:  0.15061934616355005\n",
      "MAE:  3.093816677059131\n"
     ]
    },
    {
     "name": "stderr",
     "output_type": "stream",
     "text": [
      "\u001b[32m[I 2023-04-02 02:48:39,151]\u001b[0m Trial 25 finished with value: 19.264092823565424 and parameters: {'max_depth': 7, 'learning_rate': 0.09397288942191488, 'n_estimators': 114, 'min_child_weight': 7, 'gamma': 0.02476009886644539, 'subsample': 0.1737068010213036, 'colsample_bytree': 0.2713808371905087}. Best is trial 13 with value: 15.13032385742705.\u001b[0m\n"
     ]
    },
    {
     "name": "stdout",
     "output_type": "stream",
     "text": [
      "MAPE:  0.16028176063060415\n",
      "MAE:  3.179844704018068\n"
     ]
    },
    {
     "name": "stderr",
     "output_type": "stream",
     "text": [
      "\u001b[32m[I 2023-04-02 02:48:58,475]\u001b[0m Trial 26 finished with value: 169.90196258292514 and parameters: {'max_depth': 2, 'learning_rate': 0.022834887978960126, 'n_estimators': 56, 'min_child_weight': 2, 'gamma': 0.0012872304605944175, 'subsample': 0.08055986806224132, 'colsample_bytree': 0.11108438009735475}. Best is trial 13 with value: 15.13032385742705.\u001b[0m\n"
     ]
    },
    {
     "name": "stdout",
     "output_type": "stream",
     "text": [
      "MAPE:  0.3960931688883024\n",
      "MAE:  8.842849680395037\n"
     ]
    },
    {
     "name": "stderr",
     "output_type": "stream",
     "text": [
      "\u001b[32m[I 2023-04-02 02:50:20,632]\u001b[0m Trial 27 finished with value: 17.662744365762357 and parameters: {'max_depth': 5, 'learning_rate': 0.05857392851500229, 'n_estimators': 174, 'min_child_weight': 6, 'gamma': 0.005680250137077708, 'subsample': 0.1603898831467412, 'colsample_bytree': 0.36173445784844077}. Best is trial 13 with value: 15.13032385742705.\u001b[0m\n"
     ]
    },
    {
     "name": "stdout",
     "output_type": "stream",
     "text": [
      "MAPE:  0.15009447005972365\n",
      "MAE:  3.0003296995841007\n"
     ]
    },
    {
     "name": "stderr",
     "output_type": "stream",
     "text": [
      "\u001b[32m[I 2023-04-02 02:51:20,823]\u001b[0m Trial 28 finished with value: 61.368631633922824 and parameters: {'max_depth': 3, 'learning_rate': 0.9889724173890473, 'n_estimators': 156, 'min_child_weight': 4, 'gamma': 0.00017811775024314662, 'subsample': 0.47010798119096403, 'colsample_bytree': 0.19466261942993798}. Best is trial 13 with value: 15.13032385742705.\u001b[0m\n"
     ]
    },
    {
     "name": "stdout",
     "output_type": "stream",
     "text": [
      "MAPE:  4.146522109927072\n",
      "MAE:  5.466268127601195\n"
     ]
    },
    {
     "name": "stderr",
     "output_type": "stream",
     "text": [
      "\u001b[32m[I 2023-04-02 02:52:12,350]\u001b[0m Trial 29 finished with value: 32.16196332786433 and parameters: {'max_depth': 4, 'learning_rate': 0.028547073860243608, 'n_estimators': 116, 'min_child_weight': 8, 'gamma': 0.12073382410879757, 'subsample': 0.050409196485503224, 'colsample_bytree': 0.5166564038250351}. Best is trial 13 with value: 15.13032385742705.\u001b[0m\n"
     ]
    },
    {
     "name": "stdout",
     "output_type": "stream",
     "text": [
      "MAPE:  0.17906260917098166\n",
      "MAE:  3.860721961688743\n"
     ]
    },
    {
     "name": "stderr",
     "output_type": "stream",
     "text": [
      "\u001b[32m[I 2023-04-02 02:52:39,671]\u001b[0m Trial 30 finished with value: 58.719313904764036 and parameters: {'max_depth': 7, 'learning_rate': 0.043237644692595285, 'n_estimators': 63, 'min_child_weight': 9, 'gamma': 0.0018096108053489162, 'subsample': 0.017396633570490552, 'colsample_bytree': 0.7714386225886173}. Best is trial 13 with value: 15.13032385742705.\u001b[0m\n"
     ]
    },
    {
     "name": "stdout",
     "output_type": "stream",
     "text": [
      "MAPE:  0.23098117823329833\n",
      "MAE:  5.167350447564213\n"
     ]
    },
    {
     "name": "stderr",
     "output_type": "stream",
     "text": [
      "\u001b[32m[I 2023-04-02 02:54:19,765]\u001b[0m Trial 31 finished with value: 17.270435744637584 and parameters: {'max_depth': 2, 'learning_rate': 0.01813510268639647, 'n_estimators': 204, 'min_child_weight': 3, 'gamma': 0.0007039323455751601, 'subsample': 0.3859379835320831, 'colsample_bytree': 0.9446971000081921}. Best is trial 13 with value: 15.13032385742705.\u001b[0m\n"
     ]
    },
    {
     "name": "stdout",
     "output_type": "stream",
     "text": [
      "MAPE:  0.12732382258007308\n",
      "MAE:  2.7504111611575044\n"
     ]
    },
    {
     "name": "stderr",
     "output_type": "stream",
     "text": [
      "\u001b[32m[I 2023-04-02 02:56:00,316]\u001b[0m Trial 32 finished with value: 25.071600296326853 and parameters: {'max_depth': 2, 'learning_rate': 0.014196165199463413, 'n_estimators': 227, 'min_child_weight': 2, 'gamma': 0.0009630546534635982, 'subsample': 0.8043135785068455, 'colsample_bytree': 0.5730498988505004}. Best is trial 13 with value: 15.13032385742705.\u001b[0m\n"
     ]
    },
    {
     "name": "stdout",
     "output_type": "stream",
     "text": [
      "MAPE:  0.16438364437122926\n",
      "MAE:  3.553625244627554\n"
     ]
    },
    {
     "name": "stderr",
     "output_type": "stream",
     "text": [
      "\u001b[32m[I 2023-04-02 02:58:24,690]\u001b[0m Trial 33 finished with value: 15.426550038871593 and parameters: {'max_depth': 3, 'learning_rate': 0.0242973690787621, 'n_estimators': 267, 'min_child_weight': 3, 'gamma': 0.007242019299519989, 'subsample': 0.3324932378540299, 'colsample_bytree': 0.7878066148311984}. Best is trial 13 with value: 15.13032385742705.\u001b[0m\n"
     ]
    },
    {
     "name": "stdout",
     "output_type": "stream",
     "text": [
      "MAPE:  0.12346302475462324\n",
      "MAE:  2.6231330841700866\n"
     ]
    },
    {
     "name": "stderr",
     "output_type": "stream",
     "text": [
      "\u001b[32m[I 2023-04-02 02:59:46,572]\u001b[0m Trial 34 finished with value: 52.56162227462856 and parameters: {'max_depth': 3, 'learning_rate': 0.029747711278959216, 'n_estimators': 264, 'min_child_weight': 4, 'gamma': 0.052687943489294335, 'subsample': 0.3050658299492029, 'colsample_bytree': 0.06316809053519415}. Best is trial 13 with value: 15.13032385742705.\u001b[0m\n"
     ]
    },
    {
     "name": "stdout",
     "output_type": "stream",
     "text": [
      "MAPE:  0.23131993460213426\n",
      "MAE:  5.593913496092513\n"
     ]
    },
    {
     "name": "stderr",
     "output_type": "stream",
     "text": [
      "\u001b[32m[I 2023-04-02 03:01:13,122]\u001b[0m Trial 35 finished with value: 19.052460703276175 and parameters: {'max_depth': 1, 'learning_rate': 0.07382017780429867, 'n_estimators': 276, 'min_child_weight': 5, 'gamma': 0.007180273014724139, 'subsample': 0.2113689370837877, 'colsample_bytree': 0.4566777335658076}. Best is trial 13 with value: 15.13032385742705.\u001b[0m\n"
     ]
    },
    {
     "name": "stdout",
     "output_type": "stream",
     "text": [
      "MAPE:  0.15600686775189881\n",
      "MAE:  3.19884738300449\n"
     ]
    },
    {
     "name": "stderr",
     "output_type": "stream",
     "text": [
      "\u001b[32m[I 2023-04-02 03:02:57,086]\u001b[0m Trial 36 finished with value: 16.750342221481063 and parameters: {'max_depth': 3, 'learning_rate': 0.1061749690169745, 'n_estimators': 227, 'min_child_weight': 1, 'gamma': 0.02500445798712773, 'subsample': 0.10631038871644952, 'colsample_bytree': 0.7514223629704893}. Best is trial 13 with value: 15.13032385742705.\u001b[0m\n"
     ]
    },
    {
     "name": "stdout",
     "output_type": "stream",
     "text": [
      "MAPE:  0.13904979309371754\n",
      "MAE:  2.748554759900327\n"
     ]
    },
    {
     "name": "stderr",
     "output_type": "stream",
     "text": [
      "\u001b[32m[I 2023-04-02 03:04:31,589]\u001b[0m Trial 37 finished with value: 20.613837479252428 and parameters: {'max_depth': 4, 'learning_rate': 0.0446250118799077, 'n_estimators': 249, 'min_child_weight': 3, 'gamma': 0.0024952064085965167, 'subsample': 0.1433723969642223, 'colsample_bytree': 0.23282047102977949}. Best is trial 13 with value: 15.13032385742705.\u001b[0m\n"
     ]
    },
    {
     "name": "stdout",
     "output_type": "stream",
     "text": [
      "MAPE:  0.15984038974507075\n",
      "MAE:  3.3191436232318954\n"
     ]
    },
    {
     "name": "stderr",
     "output_type": "stream",
     "text": [
      "\u001b[32m[I 2023-04-02 03:06:03,339]\u001b[0m Trial 38 finished with value: 26.334208397829695 and parameters: {'max_depth': 5, 'learning_rate': 0.16930064515613644, 'n_estimators': 186, 'min_child_weight': 2, 'gamma': 0.00023807495259212488, 'subsample': 0.10062297306240399, 'colsample_bytree': 0.35427448951696294}. Best is trial 13 with value: 15.13032385742705.\u001b[0m\n"
     ]
    },
    {
     "name": "stdout",
     "output_type": "stream",
     "text": [
      "MAPE:  0.2226228673312881\n",
      "MAE:  3.6509260607996668\n"
     ]
    },
    {
     "name": "stderr",
     "output_type": "stream",
     "text": [
      "\u001b[32m[I 2023-04-02 03:06:51,686]\u001b[0m Trial 39 finished with value: 70.86062333769765 and parameters: {'max_depth': 3, 'learning_rate': 0.017075528731884546, 'n_estimators': 89, 'min_child_weight': 6, 'gamma': 6.0064433929993174e-05, 'subsample': 0.6479123901900983, 'colsample_bytree': 0.5338265934135477}. Best is trial 13 with value: 15.13032385742705.\u001b[0m\n"
     ]
    },
    {
     "name": "stdout",
     "output_type": "stream",
     "text": [
      "MAPE:  0.311643507345731\n",
      "MAE:  6.1778697438498655\n"
     ]
    },
    {
     "name": "stderr",
     "output_type": "stream",
     "text": [
      "\u001b[32m[I 2023-04-02 03:08:22,083]\u001b[0m Trial 40 finished with value: 20.263096083927294 and parameters: {'max_depth': 1, 'learning_rate': 0.022921096041804482, 'n_estimators': 271, 'min_child_weight': 5, 'gamma': 0.005494089273055309, 'subsample': 0.06623763784475249, 'colsample_bytree': 0.768490606831122}. Best is trial 13 with value: 15.13032385742705.\u001b[0m\n"
     ]
    },
    {
     "name": "stdout",
     "output_type": "stream",
     "text": [
      "MAPE:  0.14893280662762273\n",
      "MAE:  3.1758960451162053\n"
     ]
    },
    {
     "name": "stderr",
     "output_type": "stream",
     "text": [
      "\u001b[32m[I 2023-04-02 03:10:12,336]\u001b[0m Trial 41 finished with value: 19.322150539413137 and parameters: {'max_depth': 2, 'learning_rate': 0.014754449076603133, 'n_estimators': 213, 'min_child_weight': 3, 'gamma': 0.00034960920341496214, 'subsample': 0.46633828210770134, 'colsample_bytree': 0.9593732363410064}. Best is trial 13 with value: 15.13032385742705.\u001b[0m\n"
     ]
    },
    {
     "name": "stdout",
     "output_type": "stream",
     "text": [
      "MAPE:  0.1364079219568743\n",
      "MAE:  2.9562210972031586\n"
     ]
    },
    {
     "name": "stderr",
     "output_type": "stream",
     "text": [
      "\u001b[32m[I 2023-04-02 03:12:36,713]\u001b[0m Trial 42 finished with value: 15.397106811957197 and parameters: {'max_depth': 2, 'learning_rate': 0.022670830577949448, 'n_estimators': 300, 'min_child_weight': 2, 'gamma': 0.004159812464390189, 'subsample': 0.42430164527843306, 'colsample_bytree': 0.8537423151359981}. Best is trial 13 with value: 15.13032385742705.\u001b[0m\n"
     ]
    },
    {
     "name": "stdout",
     "output_type": "stream",
     "text": [
      "MAPE:  0.11944745360435688\n",
      "MAE:  2.587997014087344\n"
     ]
    },
    {
     "name": "stderr",
     "output_type": "stream",
     "text": [
      "\u001b[32m[I 2023-04-02 03:14:55,583]\u001b[0m Trial 43 finished with value: 17.04322791397196 and parameters: {'max_depth': 3, 'learning_rate': 0.025773843279182942, 'n_estimators': 298, 'min_child_weight': 1, 'gamma': 0.0036396078527400283, 'subsample': 0.29099427099754027, 'colsample_bytree': 0.5735995953899079}. Best is trial 13 with value: 15.13032385742705.\u001b[0m\n"
     ]
    },
    {
     "name": "stdout",
     "output_type": "stream",
     "text": [
      "MAPE:  0.13777907683409898\n",
      "MAE:  2.8716812325178314\n"
     ]
    },
    {
     "name": "stderr",
     "output_type": "stream",
     "text": [
      "\u001b[32m[I 2023-04-02 03:16:15,306]\u001b[0m Trial 44 finished with value: 72.68263828600423 and parameters: {'max_depth': 1, 'learning_rate': 0.03604157419153104, 'n_estimators': 278, 'min_child_weight': 2, 'gamma': 0.009292356445387867, 'subsample': 0.5599344184713733, 'colsample_bytree': 0.0850263749172634}. Best is trial 13 with value: 15.13032385742705.\u001b[0m\n"
     ]
    },
    {
     "name": "stdout",
     "output_type": "stream",
     "text": [
      "MAPE:  0.2750805341227579\n",
      "MAE:  6.871933809466778\n"
     ]
    },
    {
     "name": "stderr",
     "output_type": "stream",
     "text": [
      "\u001b[32m[I 2023-04-02 03:19:09,623]\u001b[0m Trial 45 finished with value: 27.327042535654435 and parameters: {'max_depth': 4, 'learning_rate': 0.32100153246606594, 'n_estimators': 300, 'min_child_weight': 4, 'gamma': 0.09005383394302603, 'subsample': 0.2108883281749913, 'colsample_bytree': 0.7895692661510477}. Best is trial 13 with value: 15.13032385742705.\u001b[0m\n"
     ]
    },
    {
     "name": "stdout",
     "output_type": "stream",
     "text": [
      "MAPE:  0.24493678542092745\n",
      "MAE:  3.500378504959699\n"
     ]
    },
    {
     "name": "stderr",
     "output_type": "stream",
     "text": [
      "\u001b[32m[I 2023-04-02 03:20:22,990]\u001b[0m Trial 46 finished with value: 112.45540496292018 and parameters: {'max_depth': 1, 'learning_rate': 0.06015116708598499, 'n_estimators': 263, 'min_child_weight': 2, 'gamma': 0.02101197657528, 'subsample': 0.35166621003560017, 'colsample_bytree': 0.03567285387239469}. Best is trial 13 with value: 15.13032385742705.\u001b[0m\n"
     ]
    },
    {
     "name": "stdout",
     "output_type": "stream",
     "text": [
      "MAPE:  0.3195211837924897\n",
      "MAE:  8.637882042498816\n"
     ]
    },
    {
     "name": "stderr",
     "output_type": "stream",
     "text": [
      "\u001b[32m[I 2023-04-02 03:21:46,797]\u001b[0m Trial 47 finished with value: 19.7129845503485 and parameters: {'max_depth': 2, 'learning_rate': 0.11878535096454079, 'n_estimators': 240, 'min_child_weight': 9, 'gamma': 0.003950904825758531, 'subsample': 0.12870087953815199, 'colsample_bytree': 0.43622850961717746}. Best is trial 13 with value: 15.13032385742705.\u001b[0m\n"
     ]
    },
    {
     "name": "stdout",
     "output_type": "stream",
     "text": [
      "MAPE:  0.16220285152272626\n",
      "MAE:  3.1766042733791644\n"
     ]
    },
    {
     "name": "stderr",
     "output_type": "stream",
     "text": [
      "\u001b[32m[I 2023-04-02 03:24:01,037]\u001b[0m Trial 48 finished with value: 15.643448421317366 and parameters: {'max_depth': 3, 'learning_rate': 0.050816343899055344, 'n_estimators': 286, 'min_child_weight': 3, 'gamma': 0.01430277068163593, 'subsample': 0.24461061578526433, 'colsample_bytree': 0.6427936972332288}. Best is trial 13 with value: 15.13032385742705.\u001b[0m\n"
     ]
    },
    {
     "name": "stdout",
     "output_type": "stream",
     "text": [
      "MAPE:  0.13217838762773593\n",
      "MAE:  2.6787916158754674\n"
     ]
    },
    {
     "name": "stderr",
     "output_type": "stream",
     "text": [
      "\u001b[32m[I 2023-04-02 03:26:34,589]\u001b[0m Trial 49 finished with value: 15.358219813890193 and parameters: {'max_depth': 3, 'learning_rate': 0.0489929117050707, 'n_estimators': 282, 'min_child_weight': 3, 'gamma': 0.0401853030241853, 'subsample': 0.7357239646090193, 'colsample_bytree': 0.6187370282190471}. Best is trial 13 with value: 15.13032385742705.\u001b[0m\n"
     ]
    },
    {
     "name": "stdout",
     "output_type": "stream",
     "text": [
      "MAPE:  0.12341054518401136\n",
      "MAE:  2.588712763750837\n"
     ]
    },
    {
     "name": "stderr",
     "output_type": "stream",
     "text": [
      "\u001b[32m[I 2023-04-02 03:28:06,916]\u001b[0m Trial 50 finished with value: 18.244208747467177 and parameters: {'max_depth': 3, 'learning_rate': 0.023380926867194667, 'n_estimators': 142, 'min_child_weight': 1, 'gamma': 0.03565392246142397, 'subsample': 0.7067101732247484, 'colsample_bytree': 0.8268317251375275}. Best is trial 13 with value: 15.13032385742705.\u001b[0m\n"
     ]
    },
    {
     "name": "stdout",
     "output_type": "stream",
     "text": [
      "MAPE:  0.13367634576455367\n",
      "MAE:  2.8817489501975833\n"
     ]
    },
    {
     "name": "stderr",
     "output_type": "stream",
     "text": [
      "\u001b[32m[I 2023-04-02 03:30:48,962]\u001b[0m Trial 51 finished with value: 15.40023757787251 and parameters: {'max_depth': 3, 'learning_rate': 0.05088684029930946, 'n_estimators': 287, 'min_child_weight': 3, 'gamma': 0.21290678495226814, 'subsample': 0.8124245436354854, 'colsample_bytree': 0.6534242210591892}. Best is trial 13 with value: 15.13032385742705.\u001b[0m\n"
     ]
    },
    {
     "name": "stdout",
     "output_type": "stream",
     "text": [
      "MAPE:  0.12334659106427807\n",
      "MAE:  2.5846949290070267\n"
     ]
    },
    {
     "name": "stderr",
     "output_type": "stream",
     "text": [
      "\u001b[32m[I 2023-04-02 03:35:24,696]\u001b[0m Trial 52 finished with value: 16.21555847204852 and parameters: {'max_depth': 6, 'learning_rate': 0.034805316209693245, 'n_estimators': 284, 'min_child_weight': 2, 'gamma': 0.37428219105234384, 'subsample': 0.9949477690767411, 'colsample_bytree': 0.6504592644230972}. Best is trial 13 with value: 15.13032385742705.\u001b[0m\n"
     ]
    },
    {
     "name": "stdout",
     "output_type": "stream",
     "text": [
      "MAPE:  0.13021515972219888\n",
      "MAE:  2.695260564742423\n"
     ]
    },
    {
     "name": "stderr",
     "output_type": "stream",
     "text": [
      "\u001b[32m[I 2023-04-02 03:39:39,459]\u001b[0m Trial 53 finished with value: 14.837106097786526 and parameters: {'max_depth': 4, 'learning_rate': 0.0666849421796046, 'n_estimators': 291, 'min_child_weight': 3, 'gamma': 0.06839260387182265, 'subsample': 0.8004588269187515, 'colsample_bytree': 0.9951547460564477}. Best is trial 53 with value: 14.837106097786526.\u001b[0m\n"
     ]
    },
    {
     "name": "stdout",
     "output_type": "stream",
     "text": [
      "MAPE:  0.11850417731424429\n",
      "MAE:  2.481386354281789\n"
     ]
    },
    {
     "name": "stderr",
     "output_type": "stream",
     "text": [
      "\u001b[32m[I 2023-04-02 03:42:32,700]\u001b[0m Trial 54 finished with value: 16.553063506205987 and parameters: {'max_depth': 4, 'learning_rate': 0.07312604735041424, 'n_estimators': 290, 'min_child_weight': 4, 'gamma': 0.19168602411306995, 'subsample': 0.8796709365716735, 'colsample_bytree': 0.5005604592453748}. Best is trial 53 with value: 14.837106097786526.\u001b[0m\n"
     ]
    },
    {
     "name": "stdout",
     "output_type": "stream",
     "text": [
      "MAPE:  0.13647800310168526\n",
      "MAE:  2.781008586642288\n"
     ]
    },
    {
     "name": "stderr",
     "output_type": "stream",
     "text": [
      "\u001b[32m[I 2023-04-02 03:44:16,191]\u001b[0m Trial 55 finished with value: 15.216999562321629 and parameters: {'max_depth': 4, 'learning_rate': 0.09733034225541959, 'n_estimators': 124, 'min_child_weight': 2, 'gamma': 0.4626448146887519, 'subsample': 0.5330663394235771, 'colsample_bytree': 0.975091592628}. Best is trial 53 with value: 14.837106097786526.\u001b[0m\n"
     ]
    },
    {
     "name": "stdout",
     "output_type": "stream",
     "text": [
      "MAPE:  0.11841811606951197\n",
      "MAE:  2.4944529294297495\n"
     ]
    },
    {
     "name": "stderr",
     "output_type": "stream",
     "text": [
      "\u001b[32m[I 2023-04-02 03:45:53,945]\u001b[0m Trial 56 finished with value: 15.76172570079929 and parameters: {'max_depth': 5, 'learning_rate': 0.08840358693076313, 'n_estimators': 99, 'min_child_weight': 2, 'gamma': 0.32135306460262814, 'subsample': 0.5532046171625992, 'colsample_bytree': 0.961711831462558}. Best is trial 53 with value: 14.837106097786526.\u001b[0m\n"
     ]
    },
    {
     "name": "stdout",
     "output_type": "stream",
     "text": [
      "MAPE:  0.12258863677838978\n",
      "MAE:  2.5405452372062776\n"
     ]
    },
    {
     "name": "stderr",
     "output_type": "stream",
     "text": [
      "\u001b[32m[I 2023-04-02 03:47:31,729]\u001b[0m Trial 57 finished with value: 15.746720663615438 and parameters: {'max_depth': 4, 'learning_rate': 0.13617177703101666, 'n_estimators': 126, 'min_child_weight': 2, 'gamma': 0.09002006402657659, 'subsample': 0.6433915374247768, 'colsample_bytree': 0.8378059795217069}. Best is trial 53 with value: 14.837106097786526.\u001b[0m\n"
     ]
    },
    {
     "name": "stdout",
     "output_type": "stream",
     "text": [
      "MAPE:  0.12289787929910917\n",
      "MAE:  2.5615536797614324\n"
     ]
    },
    {
     "name": "stderr",
     "output_type": "stream",
     "text": [
      "\u001b[32m[I 2023-04-02 03:48:40,141]\u001b[0m Trial 58 finished with value: 21.07583101148808 and parameters: {'max_depth': 5, 'learning_rate': 0.10937054319520405, 'n_estimators': 157, 'min_child_weight': 1, 'gamma': 0.5947553781657188, 'subsample': 0.43572008495812853, 'colsample_bytree': 0.14895859738847317}. Best is trial 53 with value: 14.837106097786526.\u001b[0m\n"
     ]
    },
    {
     "name": "stdout",
     "output_type": "stream",
     "text": [
      "MAPE:  0.15939617674685383\n",
      "MAE:  3.323571426025222\n"
     ]
    },
    {
     "name": "stderr",
     "output_type": "stream",
     "text": [
      "\u001b[32m[I 2023-04-02 03:50:00,076]\u001b[0m Trial 59 finished with value: 18.8996744628691 and parameters: {'max_depth': 6, 'learning_rate': 0.24128353961703916, 'n_estimators': 125, 'min_child_weight': 10, 'gamma': 0.14512174383099688, 'subsample': 0.49771888067980313, 'colsample_bytree': 0.3532905598426552}. Best is trial 53 with value: 14.837106097786526.\u001b[0m\n"
     ]
    },
    {
     "name": "stdout",
     "output_type": "stream",
     "text": [
      "MAPE:  0.1559028444222541\n",
      "MAE:  3.0014081061793068\n"
     ]
    },
    {
     "name": "stderr",
     "output_type": "stream",
     "text": [
      "\u001b[32m[I 2023-04-02 03:51:09,776]\u001b[0m Trial 60 finished with value: 14.95171467205114 and parameters: {'max_depth': 4, 'learning_rate': 0.06262155428998954, 'n_estimators': 78, 'min_child_weight': 4, 'gamma': 0.05920163745122563, 'subsample': 0.7299601304873745, 'colsample_bytree': 0.9983547614190986}. Best is trial 53 with value: 14.837106097786526.\u001b[0m\n"
     ]
    },
    {
     "name": "stdout",
     "output_type": "stream",
     "text": [
      "MAPE:  0.11478212783691404\n",
      "MAE:  2.470911696474388\n"
     ]
    },
    {
     "name": "stderr",
     "output_type": "stream",
     "text": [
      "\u001b[32m[I 2023-04-02 03:53:14,163]\u001b[0m Trial 61 finished with value: 14.834808494639118 and parameters: {'max_depth': 4, 'learning_rate': 0.06585387219440567, 'n_estimators': 146, 'min_child_weight': 4, 'gamma': 0.04720587267057391, 'subsample': 0.7109275994384979, 'colsample_bytree': 0.9758098136466726}. Best is trial 61 with value: 14.834808494639118.\u001b[0m\n"
     ]
    },
    {
     "name": "stdout",
     "output_type": "stream",
     "text": [
      "MAPE:  0.11487266113454495\n",
      "MAE:  2.463114441170421\n"
     ]
    },
    {
     "name": "stderr",
     "output_type": "stream",
     "text": [
      "\u001b[32m[I 2023-04-02 03:54:22,871]\u001b[0m Trial 62 finished with value: 14.897199823305137 and parameters: {'max_depth': 4, 'learning_rate': 0.06745130633850882, 'n_estimators': 78, 'min_child_weight': 4, 'gamma': 0.06562919795990586, 'subsample': 0.7429911826869006, 'colsample_bytree': 0.9690383661485599}. Best is trial 61 with value: 14.834808494639118.\u001b[0m\n"
     ]
    },
    {
     "name": "stdout",
     "output_type": "stream",
     "text": [
      "MAPE:  0.11506789346920243\n",
      "MAE:  2.4729620345607004\n"
     ]
    },
    {
     "name": "stderr",
     "output_type": "stream",
     "text": [
      "\u001b[32m[I 2023-04-02 03:55:25,310]\u001b[0m Trial 63 finished with value: 15.009112478125338 and parameters: {'max_depth': 4, 'learning_rate': 0.06760291103773809, 'n_estimators': 70, 'min_child_weight': 4, 'gamma': 0.058905889743759716, 'subsample': 0.7223886210097817, 'colsample_bytree': 0.9809105285443217}. Best is trial 61 with value: 14.834808494639118.\u001b[0m\n"
     ]
    },
    {
     "name": "stdout",
     "output_type": "stream",
     "text": [
      "MAPE:  0.1156853657106235\n",
      "MAE:  2.4893594421446323\n"
     ]
    },
    {
     "name": "stderr",
     "output_type": "stream",
     "text": [
      "\u001b[32m[I 2023-04-02 03:56:33,832]\u001b[0m Trial 64 finished with value: 15.05273398907988 and parameters: {'max_depth': 4, 'learning_rate': 0.06523494850024855, 'n_estimators': 73, 'min_child_weight': 4, 'gamma': 0.06433123762491126, 'subsample': 0.8758304265971367, 'colsample_bytree': 0.9709595614346099}. Best is trial 61 with value: 14.834808494639118.\u001b[0m\n"
     ]
    },
    {
     "name": "stdout",
     "output_type": "stream",
     "text": [
      "MAPE:  0.11487671260299177\n",
      "MAE:  2.4756650748273366\n"
     ]
    },
    {
     "name": "stderr",
     "output_type": "stream",
     "text": [
      "\u001b[32m[I 2023-04-02 03:57:34,561]\u001b[0m Trial 65 finished with value: 15.397630423790437 and parameters: {'max_depth': 4, 'learning_rate': 0.07846029404272324, 'n_estimators': 75, 'min_child_weight': 5, 'gamma': 0.050765204989594345, 'subsample': 0.8814040116907527, 'colsample_bytree': 0.791813597383403}. Best is trial 61 with value: 14.834808494639118.\u001b[0m\n"
     ]
    },
    {
     "name": "stdout",
     "output_type": "stream",
     "text": [
      "MAPE:  0.11551059073976777\n",
      "MAE:  2.5074300671380665\n"
     ]
    },
    {
     "name": "stderr",
     "output_type": "stream",
     "text": [
      "\u001b[32m[I 2023-04-02 03:58:12,961]\u001b[0m Trial 66 finished with value: 22.608234049820105 and parameters: {'max_depth': 5, 'learning_rate': 0.06322637322583798, 'n_estimators': 41, 'min_child_weight': 4, 'gamma': 0.06872439379382737, 'subsample': 0.6669719654829648, 'colsample_bytree': 0.7450581764961092}. Best is trial 61 with value: 14.834808494639118.\u001b[0m\n"
     ]
    },
    {
     "name": "stdout",
     "output_type": "stream",
     "text": [
      "MAPE:  0.15683305256835509\n",
      "MAE:  3.286040585645765\n"
     ]
    },
    {
     "name": "stderr",
     "output_type": "stream",
     "text": [
      "\u001b[32m[I 2023-04-02 03:58:57,061]\u001b[0m Trial 67 finished with value: 17.039815443336277 and parameters: {'max_depth': 4, 'learning_rate': 0.06689081486365897, 'n_estimators': 47, 'min_child_weight': 4, 'gamma': 0.018590062177618275, 'subsample': 0.7664150512985887, 'colsample_bytree': 0.9915351032757174}. Best is trial 61 with value: 14.834808494639118.\u001b[0m\n"
     ]
    },
    {
     "name": "stdout",
     "output_type": "stream",
     "text": [
      "MAPE:  0.1292267020024632\n",
      "MAE:  2.731077318193105\n"
     ]
    },
    {
     "name": "stderr",
     "output_type": "stream",
     "text": [
      "\u001b[32m[I 2023-04-02 03:59:19,650]\u001b[0m Trial 68 finished with value: 35.90589007657243 and parameters: {'max_depth': 5, 'learning_rate': 0.08420326484631763, 'n_estimators': 22, 'min_child_weight': 5, 'gamma': 0.029737976529377395, 'subsample': 0.9162423086558235, 'colsample_bytree': 0.7052017365357409}. Best is trial 61 with value: 14.834808494639118.\u001b[0m\n"
     ]
    },
    {
     "name": "stdout",
     "output_type": "stream",
     "text": [
      "MAPE:  0.21001500875567297\n",
      "MAE:  4.299242969898004\n"
     ]
    },
    {
     "name": "stderr",
     "output_type": "stream",
     "text": [
      "\u001b[32m[I 2023-04-02 04:00:04,072]\u001b[0m Trial 69 finished with value: 27.163633251783168 and parameters: {'max_depth': 4, 'learning_rate': 0.039217797533524314, 'n_estimators': 64, 'min_child_weight': 4, 'gamma': 0.06839996721809691, 'subsample': 0.6279361237820804, 'colsample_bytree': 0.5869675627590304}. Best is trial 61 with value: 14.834808494639118.\u001b[0m\n"
     ]
    },
    {
     "name": "stdout",
     "output_type": "stream",
     "text": [
      "MAPE:  0.17629050450475628\n",
      "MAE:  3.691543456994825\n"
     ]
    },
    {
     "name": "stderr",
     "output_type": "stream",
     "text": [
      "\u001b[32m[I 2023-04-02 04:00:53,277]\u001b[0m Trial 70 finished with value: 17.590746868042924 and parameters: {'max_depth': 4, 'learning_rate': 0.1205613623987037, 'n_estimators': 81, 'min_child_weight': 5, 'gamma': 0.13745493389655167, 'subsample': 0.8068189737121545, 'colsample_bytree': 0.474742668059547}. Best is trial 61 with value: 14.834808494639118.\u001b[0m\n"
     ]
    },
    {
     "name": "stdout",
     "output_type": "stream",
     "text": [
      "MAPE:  0.13934550482931174\n",
      "MAE:  2.8835311391090275\n"
     ]
    },
    {
     "name": "stderr",
     "output_type": "stream",
     "text": [
      "\u001b[32m[I 2023-04-02 04:02:11,713]\u001b[0m Trial 71 finished with value: 15.493957286301278 and parameters: {'max_depth': 4, 'learning_rate': 0.09635850333118627, 'n_estimators': 94, 'min_child_weight': 4, 'gamma': 0.3534032936598285, 'subsample': 0.5369265095358472, 'colsample_bytree': 0.9867101104635485}. Best is trial 61 with value: 14.834808494639118.\u001b[0m\n"
     ]
    },
    {
     "name": "stdout",
     "output_type": "stream",
     "text": [
      "MAPE:  0.11606379862434493\n",
      "MAE:  2.4973926233354384\n"
     ]
    },
    {
     "name": "stderr",
     "output_type": "stream",
     "text": [
      "\u001b[32m[I 2023-04-02 04:03:05,581]\u001b[0m Trial 72 finished with value: 15.398706875894334 and parameters: {'max_depth': 4, 'learning_rate': 0.07411998498200174, 'n_estimators': 67, 'min_child_weight': 4, 'gamma': 0.6194029817680696, 'subsample': 0.6046557367342428, 'colsample_bytree': 0.8608111680910663}. Best is trial 61 with value: 14.834808494639118.\u001b[0m\n"
     ]
    },
    {
     "name": "stdout",
     "output_type": "stream",
     "text": [
      "MAPE:  0.1172805704648878\n",
      "MAE:  2.511473076625003\n"
     ]
    },
    {
     "name": "stderr",
     "output_type": "stream",
     "text": [
      "\u001b[32m[I 2023-04-02 04:04:49,498]\u001b[0m Trial 73 finished with value: 15.847242181992165 and parameters: {'max_depth': 5, 'learning_rate': 0.05481866281113174, 'n_estimators': 109, 'min_child_weight': 6, 'gamma': 0.09803071241236967, 'subsample': 0.7264478950077556, 'colsample_bytree': 0.8727324882296682}. Best is trial 61 with value: 14.834808494639118.\u001b[0m\n"
     ]
    },
    {
     "name": "stdout",
     "output_type": "stream",
     "text": [
      "MAPE:  0.11859849917156387\n",
      "MAE:  2.5636242234872446\n"
     ]
    },
    {
     "name": "stderr",
     "output_type": "stream",
     "text": [
      "\u001b[32m[I 2023-04-02 04:05:35,268]\u001b[0m Trial 74 finished with value: 15.618331060555724 and parameters: {'max_depth': 4, 'learning_rate': 0.09878669444882666, 'n_estimators': 56, 'min_child_weight': 5, 'gamma': 0.05366773139169973, 'subsample': 0.5254143253288721, 'colsample_bytree': 0.879426475511944}. Best is trial 61 with value: 14.834808494639118.\u001b[0m\n"
     ]
    },
    {
     "name": "stdout",
     "output_type": "stream",
     "text": [
      "MAPE:  0.11691235669327009\n",
      "MAE:  2.521043880157685\n"
     ]
    },
    {
     "name": "stderr",
     "output_type": "stream",
     "text": [
      "\u001b[32m[I 2023-04-02 04:06:21,680]\u001b[0m Trial 75 finished with value: 158.00102398396334 and parameters: {'max_depth': 5, 'learning_rate': 0.06739411543303525, 'n_estimators': 144, 'min_child_weight': 3, 'gamma': 0.1711026831114603, 'subsample': 0.3909601909867202, 'colsample_bytree': 0.016478434332329178}. Best is trial 61 with value: 14.834808494639118.\u001b[0m\n"
     ]
    },
    {
     "name": "stdout",
     "output_type": "stream",
     "text": [
      "MAPE:  0.3607183932963115\n",
      "MAE:  10.30588144710455\n"
     ]
    },
    {
     "name": "stderr",
     "output_type": "stream",
     "text": [
      "\u001b[32m[I 2023-04-02 04:07:25,007]\u001b[0m Trial 76 finished with value: 16.4782924951811 and parameters: {'max_depth': 4, 'learning_rate': 0.14976107626214874, 'n_estimators': 83, 'min_child_weight': 7, 'gamma': 0.03353279134110892, 'subsample': 0.9599958651280872, 'colsample_bytree': 0.7255189367122422}. Best is trial 61 with value: 14.834808494639118.\u001b[0m\n"
     ]
    },
    {
     "name": "stdout",
     "output_type": "stream",
     "text": [
      "MAPE:  0.11454481146801644\n",
      "MAE:  2.516568185318084\n"
     ]
    },
    {
     "name": "stderr",
     "output_type": "stream",
     "text": [
      "\u001b[32m[I 2023-04-02 04:09:22,119]\u001b[0m Trial 77 finished with value: 15.172241217471033 and parameters: {'max_depth': 4, 'learning_rate': 0.05818298898297115, 'n_estimators': 170, 'min_child_weight': 3, 'gamma': 0.07306622310278596, 'subsample': 0.6001674919516845, 'colsample_bytree': 0.6896762567252153}. Best is trial 61 with value: 14.834808494639118.\u001b[0m\n"
     ]
    },
    {
     "name": "stdout",
     "output_type": "stream",
     "text": [
      "MAPE:  0.12047538071412751\n",
      "MAE:  2.548477187949829\n"
     ]
    },
    {
     "name": "stderr",
     "output_type": "stream",
     "text": [
      "\u001b[32m[I 2023-04-02 04:10:06,487]\u001b[0m Trial 78 finished with value: 21.514509025000155 and parameters: {'max_depth': 5, 'learning_rate': 0.05728886920025836, 'n_estimators': 49, 'min_child_weight': 3, 'gamma': 0.07572336683585719, 'subsample': 0.8659535089104691, 'colsample_bytree': 0.6829183671286412}. Best is trial 61 with value: 14.834808494639118.\u001b[0m\n"
     ]
    },
    {
     "name": "stdout",
     "output_type": "stream",
     "text": [
      "MAPE:  0.1526154078969859\n",
      "MAE:  3.204715170636379\n"
     ]
    },
    {
     "name": "stderr",
     "output_type": "stream",
     "text": [
      "\u001b[32m[I 2023-04-02 04:10:21,482]\u001b[0m Trial 79 finished with value: 251.68057946707793 and parameters: {'max_depth': 9, 'learning_rate': 0.045173369665559744, 'n_estimators': 14, 'min_child_weight': 4, 'gamma': 0.2554236256710645, 'subsample': 0.6159711396938387, 'colsample_bytree': 0.538233592826659}. Best is trial 61 with value: 14.834808494639118.\u001b[0m\n"
     ]
    },
    {
     "name": "stdout",
     "output_type": "stream",
     "text": [
      "MAPE:  1.1166017459187365\n",
      "MAE:  12.823041060160865\n"
     ]
    },
    {
     "name": "stderr",
     "output_type": "stream",
     "text": [
      "\u001b[32m[I 2023-04-02 04:11:59,103]\u001b[0m Trial 80 finished with value: 15.101697719070096 and parameters: {'max_depth': 3, 'learning_rate': 0.08408046499614186, 'n_estimators': 163, 'min_child_weight': 4, 'gamma': 0.010554109015265403, 'subsample': 0.769387444132097, 'colsample_bytree': 0.7160735777603684}. Best is trial 61 with value: 14.834808494639118.\u001b[0m\n"
     ]
    },
    {
     "name": "stdout",
     "output_type": "stream",
     "text": [
      "MAPE:  0.11763662419971205\n",
      "MAE:  2.5024846719095\n"
     ]
    },
    {
     "name": "stderr",
     "output_type": "stream",
     "text": [
      "\u001b[32m[I 2023-04-02 04:13:44,776]\u001b[0m Trial 81 finished with value: 15.048677901761396 and parameters: {'max_depth': 3, 'learning_rate': 0.0843442538455032, 'n_estimators': 164, 'min_child_weight': 4, 'gamma': 0.045950124411379835, 'subsample': 0.7304195302134574, 'colsample_bytree': 0.844857087253611}. Best is trial 61 with value: 14.834808494639118.\u001b[0m\n"
     ]
    },
    {
     "name": "stdout",
     "output_type": "stream",
     "text": [
      "MAPE:  0.1165963386790097\n",
      "MAE:  2.494536685584872\n"
     ]
    },
    {
     "name": "stderr",
     "output_type": "stream",
     "text": [
      "\u001b[32m[I 2023-04-02 04:15:42,097]\u001b[0m Trial 82 finished with value: 15.157129008023624 and parameters: {'max_depth': 3, 'learning_rate': 0.08654189895232564, 'n_estimators': 181, 'min_child_weight': 4, 'gamma': 0.02541995868021053, 'subsample': 0.73999476707446, 'colsample_bytree': 0.86167064629066}. Best is trial 61 with value: 14.834808494639118.\u001b[0m\n"
     ]
    },
    {
     "name": "stdout",
     "output_type": "stream",
     "text": [
      "MAPE:  0.11664245697619692\n",
      "MAE:  2.4865341048352616\n"
     ]
    },
    {
     "name": "stderr",
     "output_type": "stream",
     "text": [
      "\u001b[32m[I 2023-04-02 04:17:44,879]\u001b[0m Trial 83 finished with value: 15.26147323525687 and parameters: {'max_depth': 3, 'learning_rate': 0.07351153804611282, 'n_estimators': 163, 'min_child_weight': 5, 'gamma': 0.009352118745501674, 'subsample': 0.9873705759964889, 'colsample_bytree': 0.9911690773529556}. Best is trial 61 with value: 14.834808494639118.\u001b[0m\n"
     ]
    },
    {
     "name": "stdout",
     "output_type": "stream",
     "text": [
      "MAPE:  0.11274004070280255\n",
      "MAE:  2.4506905567511996\n"
     ]
    },
    {
     "name": "stderr",
     "output_type": "stream",
     "text": [
      "\u001b[32m[I 2023-04-02 04:18:50,715]\u001b[0m Trial 84 finished with value: 15.113901746290887 and parameters: {'max_depth': 3, 'learning_rate': 0.0633926700932985, 'n_estimators': 104, 'min_child_weight': 4, 'gamma': 0.042403248532183926, 'subsample': 0.6896619765221956, 'colsample_bytree': 0.7858197204653733}. Best is trial 61 with value: 14.834808494639118.\u001b[0m\n"
     ]
    },
    {
     "name": "stdout",
     "output_type": "stream",
     "text": [
      "MAPE:  0.11759320159588357\n",
      "MAE:  2.529650778248512\n"
     ]
    },
    {
     "name": "stderr",
     "output_type": "stream",
     "text": [
      "\u001b[32m[I 2023-04-02 04:19:28,786]\u001b[0m Trial 85 finished with value: 18.96703144862561 and parameters: {'max_depth': 3, 'learning_rate': 0.06552545698852606, 'n_estimators': 73, 'min_child_weight': 4, 'gamma': 0.04371464554742156, 'subsample': 0.817740375987254, 'colsample_bytree': 0.41880344381564505}. Best is trial 61 with value: 14.834808494639118.\u001b[0m\n"
     ]
    },
    {
     "name": "stdout",
     "output_type": "stream",
     "text": [
      "MAPE:  0.14695953825869812\n",
      "MAE:  3.090831412662747\n"
     ]
    },
    {
     "name": "stderr",
     "output_type": "stream",
     "text": [
      "\u001b[32m[I 2023-04-02 04:20:30,475]\u001b[0m Trial 86 finished with value: 15.926916250665094 and parameters: {'max_depth': 3, 'learning_rate': 0.12721144007959526, 'n_estimators': 101, 'min_child_weight': 5, 'gamma': 0.12230872677842336, 'subsample': 0.6851352467390391, 'colsample_bytree': 0.7378179085038192}. Best is trial 61 with value: 14.834808494639118.\u001b[0m\n"
     ]
    },
    {
     "name": "stdout",
     "output_type": "stream",
     "text": [
      "MAPE:  0.11872540514990922\n",
      "MAE:  2.535861105968555\n"
     ]
    },
    {
     "name": "stderr",
     "output_type": "stream",
     "text": [
      "\u001b[32m[I 2023-04-02 04:21:11,825]\u001b[0m Trial 87 finished with value: 24.718515320236992 and parameters: {'max_depth': 4, 'learning_rate': 0.10879443181450106, 'n_estimators': 89, 'min_child_weight': 4, 'gamma': 0.012450039262958481, 'subsample': 0.023816955735018547, 'colsample_bytree': 0.5874137534746929}. Best is trial 61 with value: 14.834808494639118.\u001b[0m\n"
     ]
    },
    {
     "name": "stdout",
     "output_type": "stream",
     "text": [
      "MAPE:  0.17640689680581728\n",
      "MAE:  3.5282086561281214\n"
     ]
    },
    {
     "name": "stderr",
     "output_type": "stream",
     "text": [
      "\u001b[32m[I 2023-04-02 04:22:04,328]\u001b[0m Trial 88 finished with value: 18.287105709007847 and parameters: {'max_depth': 3, 'learning_rate': 0.0398454160025876, 'n_estimators': 81, 'min_child_weight': 4, 'gamma': 0.02034744624849906, 'subsample': 0.48248359750964326, 'colsample_bytree': 0.8403421619549236}. Best is trial 61 with value: 14.834808494639118.\u001b[0m\n"
     ]
    },
    {
     "name": "stdout",
     "output_type": "stream",
     "text": [
      "MAPE:  0.1348686984465423\n",
      "MAE:  2.876005817165293\n"
     ]
    },
    {
     "name": "stderr",
     "output_type": "stream",
     "text": [
      "\u001b[32m[I 2023-04-02 04:22:44,172]\u001b[0m Trial 89 finished with value: 15.887025630454282 and parameters: {'max_depth': 4, 'learning_rate': 0.08193630277069094, 'n_estimators': 56, 'min_child_weight': 5, 'gamma': 0.047644036572771116, 'subsample': 0.7537455921128094, 'colsample_bytree': 0.6192427447171978}. Best is trial 61 with value: 14.834808494639118.\u001b[0m\n"
     ]
    },
    {
     "name": "stdout",
     "output_type": "stream",
     "text": [
      "MAPE:  0.12150288647690191\n",
      "MAE:  2.6174661461165343\n"
     ]
    },
    {
     "name": "stderr",
     "output_type": "stream",
     "text": [
      "\u001b[32m[I 2023-04-02 04:24:18,790]\u001b[0m Trial 90 finished with value: 15.29961236132315 and parameters: {'max_depth': 3, 'learning_rate': 0.04991001467659032, 'n_estimators': 148, 'min_child_weight': 4, 'gamma': 0.031132612993960886, 'subsample': 0.8506183197613975, 'colsample_bytree': 0.7766383927318778}. Best is trial 61 with value: 14.834808494639118.\u001b[0m\n"
     ]
    },
    {
     "name": "stdout",
     "output_type": "stream",
     "text": [
      "MAPE:  0.11730280192019908\n",
      "MAE:  2.532610344882838\n"
     ]
    },
    {
     "name": "stderr",
     "output_type": "stream",
     "text": [
      "\u001b[32m[I 2023-04-02 04:25:59,817]\u001b[0m Trial 91 finished with value: 15.388559890841163 and parameters: {'max_depth': 2, 'learning_rate': 0.0662266183061065, 'n_estimators': 194, 'min_child_weight': 8, 'gamma': 0.05575442353696417, 'subsample': 0.6862394152822412, 'colsample_bytree': 0.8978179136355232}. Best is trial 61 with value: 14.834808494639118.\u001b[0m\n"
     ]
    },
    {
     "name": "stdout",
     "output_type": "stream",
     "text": [
      "MAPE:  0.11633585149540199\n",
      "MAE:  2.5033450472370657\n"
     ]
    },
    {
     "name": "stderr",
     "output_type": "stream",
     "text": [
      "\u001b[32m[I 2023-04-02 04:26:57,599]\u001b[0m Trial 92 finished with value: 15.311902803702147 and parameters: {'max_depth': 2, 'learning_rate': 0.08773850612534342, 'n_estimators': 112, 'min_child_weight': 3, 'gamma': 0.016845889460085178, 'subsample': 0.44383688519040004, 'colsample_bytree': 0.8946170261161084}. Best is trial 61 with value: 14.834808494639118.\u001b[0m\n"
     ]
    },
    {
     "name": "stdout",
     "output_type": "stream",
     "text": [
      "MAPE:  0.11405994217293679\n",
      "MAE:  2.4705405758802224\n"
     ]
    },
    {
     "name": "stderr",
     "output_type": "stream",
     "text": [
      "\u001b[32m[I 2023-04-02 04:28:35,201]\u001b[0m Trial 93 finished with value: 15.193496204657201 and parameters: {'max_depth': 3, 'learning_rate': 0.05392593311831056, 'n_estimators': 161, 'min_child_weight': 3, 'gamma': 0.1029471194566574, 'subsample': 0.7951482509596477, 'colsample_bytree': 0.7152737172985433}. Best is trial 61 with value: 14.834808494639118.\u001b[0m\n"
     ]
    },
    {
     "name": "stdout",
     "output_type": "stream",
     "text": [
      "MAPE:  0.11843304558986059\n",
      "MAE:  2.540151537824718\n"
     ]
    },
    {
     "name": "stderr",
     "output_type": "stream",
     "text": [
      "\u001b[32m[I 2023-04-02 04:29:58,609]\u001b[0m Trial 94 finished with value: 17.355421540314133 and parameters: {'max_depth': 4, 'learning_rate': 0.0726033267069108, 'n_estimators': 135, 'min_child_weight': 4, 'gamma': 0.009997199578479771, 'subsample': 0.9279104156538007, 'colsample_bytree': 0.5049605324228963}. Best is trial 61 with value: 14.834808494639118.\u001b[0m\n"
     ]
    },
    {
     "name": "stdout",
     "output_type": "stream",
     "text": [
      "MAPE:  0.13962438818617862\n",
      "MAE:  2.871737609149287\n"
     ]
    },
    {
     "name": "stderr",
     "output_type": "stream",
     "text": [
      "\u001b[32m[I 2023-04-02 04:31:27,535]\u001b[0m Trial 95 finished with value: 15.427204009184846 and parameters: {'max_depth': 4, 'learning_rate': 0.06279073024389853, 'n_estimators': 118, 'min_child_weight': 4, 'gamma': 0.024551340791927903, 'subsample': 0.5814537750880772, 'colsample_bytree': 0.8069776721294742}. Best is trial 61 with value: 14.834808494639118.\u001b[0m\n"
     ]
    },
    {
     "name": "stdout",
     "output_type": "stream",
     "text": [
      "MAPE:  0.11816146515162058\n",
      "MAE:  2.528423270772374\n"
     ]
    },
    {
     "name": "stderr",
     "output_type": "stream",
     "text": [
      "\u001b[32m[I 2023-04-02 04:32:09,825]\u001b[0m Trial 96 finished with value: 15.767431637237328 and parameters: {'max_depth': 3, 'learning_rate': 0.07933943913153213, 'n_estimators': 73, 'min_child_weight': 5, 'gamma': 0.08605793002735412, 'subsample': 0.6832972424391709, 'colsample_bytree': 0.6230092851867125}. Best is trial 61 with value: 14.834808494639118.\u001b[0m\n"
     ]
    },
    {
     "name": "stdout",
     "output_type": "stream",
     "text": [
      "MAPE:  0.12165181526586524\n",
      "MAE:  2.6052669875284353\n"
     ]
    },
    {
     "name": "stderr",
     "output_type": "stream",
     "text": [
      "\u001b[32m[I 2023-04-02 04:33:02,970]\u001b[0m Trial 97 finished with value: 15.526797102231557 and parameters: {'max_depth': 2, 'learning_rate': 0.04690357074634287, 'n_estimators': 106, 'min_child_weight': 9, 'gamma': 0.04015954931946164, 'subsample': 0.3796435300173167, 'colsample_bytree': 0.8842347120551131}. Best is trial 61 with value: 14.834808494639118.\u001b[0m\n"
     ]
    },
    {
     "name": "stdout",
     "output_type": "stream",
     "text": [
      "MAPE:  0.11882509913711942\n",
      "MAE:  2.54783920719037\n"
     ]
    },
    {
     "name": "stderr",
     "output_type": "stream",
     "text": [
      "\u001b[32m[I 2023-04-02 04:33:18,314]\u001b[0m Trial 98 finished with value: 114.11884348819656 and parameters: {'max_depth': 5, 'learning_rate': 0.10770129671921888, 'n_estimators': 33, 'min_child_weight': 3, 'gamma': 0.1683433015023596, 'subsample': 0.48389133285086333, 'colsample_bytree': 0.07545558570221789}. Best is trial 61 with value: 14.834808494639118.\u001b[0m\n"
     ]
    },
    {
     "name": "stdout",
     "output_type": "stream",
     "text": [
      "MAPE:  0.3173346459452342\n",
      "MAE:  8.559866300099111\n"
     ]
    },
    {
     "name": "stderr",
     "output_type": "stream",
     "text": [
      "\u001b[32m[I 2023-04-02 04:33:47,496]\u001b[0m Trial 99 finished with value: 107.38278310015563 and parameters: {'max_depth': 3, 'learning_rate': 0.09137085814146642, 'n_estimators': 95, 'min_child_weight': 5, 'gamma': 0.05784313953089384, 'subsample': 0.011681960781955146, 'colsample_bytree': 0.04707707917618264}. Best is trial 61 with value: 14.834808494639118.\u001b[0m\n"
     ]
    },
    {
     "name": "stdout",
     "output_type": "stream",
     "text": [
      "MAPE:  0.30357239967324934\n",
      "MAE:  7.885183898978448\n"
     ]
    },
    {
     "name": "stderr",
     "output_type": "stream",
     "text": [
      "\u001b[32m[I 2023-04-02 04:36:00,172]\u001b[0m A new study created in memory with name: no-name-aa504534-443a-4fa6-b892-9f0e1aab7d23\u001b[0m\n",
      "\u001b[32m[I 2023-04-02 04:37:02,967]\u001b[0m Trial 0 finished with value: 57.19930818388059 and parameters: {'max_depth': 8, 'learning_rate': 0.21871973252980392, 'n_estimators': 161, 'min_child_weight': 5, 'gamma': 2.5992042086960393e-05, 'subsample': 0.40305525168512285, 'colsample_bytree': 0.017377460528495706}. Best is trial 0 with value: 57.19930818388059.\u001b[0m\n"
     ]
    },
    {
     "name": "stdout",
     "output_type": "stream",
     "text": [
      "MAPE:  0.2787032777717709\n",
      "MAE:  5.5369732257461655\n"
     ]
    },
    {
     "name": "stderr",
     "output_type": "stream",
     "text": [
      "\u001b[32m[I 2023-04-02 04:38:41,811]\u001b[0m Trial 1 finished with value: 6311.9973690144725 and parameters: {'max_depth': 6, 'learning_rate': 0.7878923018457529, 'n_estimators': 172, 'min_child_weight': 6, 'gamma': 0.03581168304208699, 'subsample': 0.17073132579939776, 'colsample_bytree': 0.39639819573223417}. Best is trial 0 with value: 57.19930818388059.\u001b[0m\n"
     ]
    },
    {
     "name": "stdout",
     "output_type": "stream",
     "text": [
      "MAPE:  3.3307341352235844\n",
      "MAE:  60.26237404939014\n"
     ]
    },
    {
     "name": "stderr",
     "output_type": "stream",
     "text": [
      "\u001b[32m[I 2023-04-02 04:38:57,322]\u001b[0m Trial 2 finished with value: 200.88321990923143 and parameters: {'max_depth': 6, 'learning_rate': 0.03489705420021835, 'n_estimators': 33, 'min_child_weight': 2, 'gamma': 0.01212447761170608, 'subsample': 0.04447257092703113, 'colsample_bytree': 0.0666309640719688}. Best is trial 0 with value: 57.19930818388059.\u001b[0m\n"
     ]
    },
    {
     "name": "stdout",
     "output_type": "stream",
     "text": [
      "MAPE:  0.4774546584831728\n",
      "MAE:  9.390803202198295\n"
     ]
    },
    {
     "name": "stderr",
     "output_type": "stream",
     "text": [
      "\u001b[32m[I 2023-04-02 04:40:13,541]\u001b[0m Trial 3 finished with value: 36.572914248265405 and parameters: {'max_depth': 1, 'learning_rate': 0.09077919919615803, 'n_estimators': 191, 'min_child_weight': 8, 'gamma': 0.6551431884861921, 'subsample': 0.4970672597842612, 'colsample_bytree': 0.6208468970506468}. Best is trial 3 with value: 36.572914248265405.\u001b[0m\n"
     ]
    },
    {
     "name": "stdout",
     "output_type": "stream",
     "text": [
      "MAPE:  0.18830278769951556\n",
      "MAE:  4.1536818390722\n"
     ]
    },
    {
     "name": "stderr",
     "output_type": "stream",
     "text": [
      "\u001b[32m[I 2023-04-02 04:41:32,657]\u001b[0m Trial 4 finished with value: 68.08247666518636 and parameters: {'max_depth': 5, 'learning_rate': 0.03074983996909884, 'n_estimators': 216, 'min_child_weight': 7, 'gamma': 0.043563958085118815, 'subsample': 0.050356470689347996, 'colsample_bytree': 0.13792635160677932}. Best is trial 3 with value: 36.572914248265405.\u001b[0m\n"
     ]
    },
    {
     "name": "stdout",
     "output_type": "stream",
     "text": [
      "MAPE:  0.25364283245378005\n",
      "MAE:  6.07427103636126\n"
     ]
    },
    {
     "name": "stderr",
     "output_type": "stream",
     "text": [
      "\u001b[32m[I 2023-04-02 04:41:40,651]\u001b[0m Trial 5 finished with value: 386.4803329773065 and parameters: {'max_depth': 3, 'learning_rate': 0.04244786450653725, 'n_estimators': 10, 'min_child_weight': 8, 'gamma': 0.0008279292643258001, 'subsample': 0.17998815165675777, 'colsample_bytree': 0.02827999387418246}. Best is trial 3 with value: 36.572914248265405.\u001b[0m\n"
     ]
    },
    {
     "name": "stdout",
     "output_type": "stream",
     "text": [
      "MAPE:  1.2645134916973466\n",
      "MAE:  13.75918221737815\n"
     ]
    },
    {
     "name": "stderr",
     "output_type": "stream",
     "text": [
      "\u001b[32m[I 2023-04-02 04:42:37,518]\u001b[0m Trial 6 finished with value: 58.599573458717096 and parameters: {'max_depth': 7, 'learning_rate': 0.03198334385586661, 'n_estimators': 122, 'min_child_weight': 3, 'gamma': 0.0031593326684384217, 'subsample': 0.03505002043022802, 'colsample_bytree': 0.36329854541672413}. Best is trial 3 with value: 36.572914248265405.\u001b[0m\n"
     ]
    },
    {
     "name": "stdout",
     "output_type": "stream",
     "text": [
      "MAPE:  0.23512225836038197\n",
      "MAE:  5.373231437747125\n"
     ]
    },
    {
     "name": "stderr",
     "output_type": "stream",
     "text": [
      "\u001b[32m[I 2023-04-02 04:43:57,919]\u001b[0m Trial 7 finished with value: 270.18155283923886 and parameters: {'max_depth': 8, 'learning_rate': 0.056101388186086176, 'n_estimators': 217, 'min_child_weight': 9, 'gamma': 2.386025307368564e-05, 'subsample': 0.012459967013108872, 'colsample_bytree': 0.6828282118594914}. Best is trial 3 with value: 36.572914248265405.\u001b[0m\n"
     ]
    },
    {
     "name": "stdout",
     "output_type": "stream",
     "text": [
      "MAPE:  0.44066034089855205\n",
      "MAE:  13.635218577567862\n"
     ]
    },
    {
     "name": "stderr",
     "output_type": "stream",
     "text": [
      "\u001b[32m[I 2023-04-02 04:44:13,418]\u001b[0m Trial 8 finished with value: 56.69479802565849 and parameters: {'max_depth': 8, 'learning_rate': 0.22694915328921764, 'n_estimators': 24, 'min_child_weight': 6, 'gamma': 0.11375614017708308, 'subsample': 0.2223637273703599, 'colsample_bytree': 0.1613124663483909}. Best is trial 3 with value: 36.572914248265405.\u001b[0m\n"
     ]
    },
    {
     "name": "stdout",
     "output_type": "stream",
     "text": [
      "MAPE:  0.2515951666967708\n",
      "MAE:  5.51476018714211\n"
     ]
    },
    {
     "name": "stderr",
     "output_type": "stream",
     "text": [
      "\u001b[32m[I 2023-04-02 04:45:25,733]\u001b[0m Trial 9 finished with value: 54.420783556129294 and parameters: {'max_depth': 1, 'learning_rate': 0.6969951761152653, 'n_estimators': 208, 'min_child_weight': 10, 'gamma': 0.0013830764429004422, 'subsample': 0.2544926736249639, 'colsample_bytree': 0.2166702541820253}. Best is trial 3 with value: 36.572914248265405.\u001b[0m\n"
     ]
    },
    {
     "name": "stdout",
     "output_type": "stream",
     "text": [
      "MAPE:  0.31976421277614125\n",
      "MAE:  5.461722788540154\n"
     ]
    },
    {
     "name": "stderr",
     "output_type": "stream",
     "text": [
      "\u001b[32m[I 2023-04-02 04:47:46,372]\u001b[0m Trial 10 finished with value: 50.32483770955466 and parameters: {'max_depth': 1, 'learning_rate': 0.011552686970890397, 'n_estimators': 296, 'min_child_weight': 4, 'gamma': 0.5725438761386501, 'subsample': 0.9704574863918524, 'colsample_bytree': 0.9847851935755588}. Best is trial 3 with value: 36.572914248265405.\u001b[0m\n"
     ]
    },
    {
     "name": "stdout",
     "output_type": "stream",
     "text": [
      "MAPE:  0.22215543697247836\n",
      "MAE:  5.0391428392952085\n"
     ]
    },
    {
     "name": "stderr",
     "output_type": "stream",
     "text": [
      "\u001b[32m[I 2023-04-02 04:49:59,874]\u001b[0m Trial 11 finished with value: 56.73423555236716 and parameters: {'max_depth': 1, 'learning_rate': 0.010077684851187822, 'n_estimators': 290, 'min_child_weight': 4, 'gamma': 0.8734155914149703, 'subsample': 0.9004379039865249, 'colsample_bytree': 0.9193057283016792}. Best is trial 3 with value: 36.572914248265405.\u001b[0m\n"
     ]
    },
    {
     "name": "stdout",
     "output_type": "stream",
     "text": [
      "MAPE:  0.23558484339879623\n",
      "MAE:  5.386950719451147\n"
     ]
    },
    {
     "name": "stderr",
     "output_type": "stream",
     "text": [
      "\u001b[32m[I 2023-04-02 04:53:45,915]\u001b[0m Trial 12 finished with value: 35.81001124243325 and parameters: {'max_depth': 3, 'learning_rate': 0.011227691096937558, 'n_estimators': 300, 'min_child_weight': 4, 'gamma': 0.95899264340577, 'subsample': 0.9820262148533235, 'colsample_bytree': 0.8244980307022935}. Best is trial 12 with value: 35.81001124243325.\u001b[0m\n"
     ]
    },
    {
     "name": "stdout",
     "output_type": "stream",
     "text": [
      "MAPE:  0.18491285583542197\n",
      "MAE:  3.980403068815432\n"
     ]
    },
    {
     "name": "stderr",
     "output_type": "stream",
     "text": [
      "\u001b[32m[I 2023-04-02 04:54:18,855]\u001b[0m Trial 13 finished with value: 47.30344624561545 and parameters: {'max_depth': 3, 'learning_rate': 0.1379177016382925, 'n_estimators': 81, 'min_child_weight': 1, 'gamma': 0.27202526666338545, 'subsample': 0.47207765886657077, 'colsample_bytree': 0.06612918826329443}. Best is trial 12 with value: 35.81001124243325.\u001b[0m\n"
     ]
    },
    {
     "name": "stdout",
     "output_type": "stream",
     "text": [
      "MAPE:  0.220316291354545\n",
      "MAE:  4.9878126787879165\n"
     ]
    },
    {
     "name": "stderr",
     "output_type": "stream",
     "text": [
      "\u001b[32m[I 2023-04-02 04:56:26,921]\u001b[0m Trial 14 finished with value: 36.98788790412388 and parameters: {'max_depth': 3, 'learning_rate': 0.01940929075854569, 'n_estimators': 250, 'min_child_weight': 8, 'gamma': 0.00016060767368827173, 'subsample': 0.5174268310197477, 'colsample_bytree': 0.4431328331627409}. Best is trial 12 with value: 35.81001124243325.\u001b[0m\n"
     ]
    },
    {
     "name": "stdout",
     "output_type": "stream",
     "text": [
      "MAPE:  0.19776366779078414\n",
      "MAE:  4.272324680059991\n"
     ]
    },
    {
     "name": "stderr",
     "output_type": "stream",
     "text": [
      "\u001b[32m[I 2023-04-02 04:57:14,271]\u001b[0m Trial 15 finished with value: 51.547582103281826 and parameters: {'max_depth': 4, 'learning_rate': 0.09067263467241883, 'n_estimators': 106, 'min_child_weight': 10, 'gamma': 0.1941413527999364, 'subsample': 0.07801715331442657, 'colsample_bytree': 0.3186294347076362}. Best is trial 12 with value: 35.81001124243325.\u001b[0m\n"
     ]
    },
    {
     "name": "stdout",
     "output_type": "stream",
     "text": [
      "MAPE:  0.22544988964427987\n",
      "MAE:  4.88924205707258\n"
     ]
    },
    {
     "name": "stderr",
     "output_type": "stream",
     "text": [
      "\u001b[32m[I 2023-04-02 04:59:13,281]\u001b[0m Trial 16 finished with value: 43.27745657717738 and parameters: {'max_depth': 2, 'learning_rate': 0.4276526992954523, 'n_estimators': 250, 'min_child_weight': 7, 'gamma': 0.015498783607563271, 'subsample': 0.6983502330509208, 'colsample_bytree': 0.5466467670973983}. Best is trial 12 with value: 35.81001124243325.\u001b[0m\n"
     ]
    },
    {
     "name": "stdout",
     "output_type": "stream",
     "text": [
      "MAPE:  0.26546013196977164\n",
      "MAE:  4.5726310153314405\n"
     ]
    },
    {
     "name": "stderr",
     "output_type": "stream",
     "text": [
      "\u001b[32m[I 2023-04-02 05:00:38,042]\u001b[0m Trial 17 finished with value: 108.85779862110527 and parameters: {'max_depth': 2, 'learning_rate': 0.08140317900047603, 'n_estimators': 259, 'min_child_weight': 5, 'gamma': 0.9868330766174455, 'subsample': 0.3835390455128548, 'colsample_bytree': 0.01008383241225522}. Best is trial 12 with value: 35.81001124243325.\u001b[0m\n"
     ]
    },
    {
     "name": "stdout",
     "output_type": "stream",
     "text": [
      "MAPE:  0.31285313459245995\n",
      "MAE:  8.308903786792326\n"
     ]
    },
    {
     "name": "stderr",
     "output_type": "stream",
     "text": [
      "\u001b[32m[I 2023-04-02 05:01:57,546]\u001b[0m Trial 18 finished with value: 56.45087001073463 and parameters: {'max_depth': 4, 'learning_rate': 0.01859221883624125, 'n_estimators': 183, 'min_child_weight': 3, 'gamma': 0.08029030953643816, 'subsample': 0.1215696633326554, 'colsample_bytree': 0.24293212908951778}. Best is trial 12 with value: 35.81001124243325.\u001b[0m\n"
     ]
    },
    {
     "name": "stdout",
     "output_type": "stream",
     "text": [
      "MAPE:  0.22648640754799093\n",
      "MAE:  5.25736683220775\n"
     ]
    },
    {
     "name": "stderr",
     "output_type": "stream",
     "text": [
      "\u001b[32m[I 2023-04-02 05:02:42,632]\u001b[0m Trial 19 finished with value: 46.25750445091652 and parameters: {'max_depth': 2, 'learning_rate': 0.21617132867084524, 'n_estimators': 121, 'min_child_weight': 8, 'gamma': 0.0083176693726156, 'subsample': 0.3313439492196661, 'colsample_bytree': 0.09655293063887227}. Best is trial 12 with value: 35.81001124243325.\u001b[0m\n"
     ]
    },
    {
     "name": "stdout",
     "output_type": "stream",
     "text": [
      "MAPE:  0.23994884386259308\n",
      "MAE:  4.9502647384390155\n"
     ]
    },
    {
     "name": "stderr",
     "output_type": "stream",
     "text": [
      "\u001b[32m[I 2023-04-02 05:03:28,758]\u001b[0m Trial 20 finished with value: 39.61952051419182 and parameters: {'max_depth': 4, 'learning_rate': 0.3956554811597474, 'n_estimators': 58, 'min_child_weight': 7, 'gamma': 0.3149120627314458, 'subsample': 0.6386442195995333, 'colsample_bytree': 0.7046629170386999}. Best is trial 12 with value: 35.81001124243325.\u001b[0m\n"
     ]
    },
    {
     "name": "stdout",
     "output_type": "stream",
     "text": [
      "MAPE:  0.22123535404941483\n",
      "MAE:  4.175981380321361\n"
     ]
    },
    {
     "name": "stderr",
     "output_type": "stream",
     "text": [
      "\u001b[32m[I 2023-04-02 05:05:42,010]\u001b[0m Trial 21 finished with value: 37.82200926287611 and parameters: {'max_depth': 3, 'learning_rate': 0.01681715188733103, 'n_estimators': 258, 'min_child_weight': 9, 'gamma': 5.998767985308485e-05, 'subsample': 0.634482754462279, 'colsample_bytree': 0.42986520838805237}. Best is trial 12 with value: 35.81001124243325.\u001b[0m\n"
     ]
    },
    {
     "name": "stdout",
     "output_type": "stream",
     "text": [
      "MAPE:  0.20115838871841818\n",
      "MAE:  4.334912719549956\n"
     ]
    },
    {
     "name": "stderr",
     "output_type": "stream",
     "text": [
      "\u001b[32m[I 2023-04-02 05:07:34,781]\u001b[0m Trial 22 finished with value: 37.47436387392099 and parameters: {'max_depth': 2, 'learning_rate': 0.019718724032851014, 'n_estimators': 240, 'min_child_weight': 8, 'gamma': 0.00017241627887108047, 'subsample': 0.5114321238643761, 'colsample_bytree': 0.554054446579508}. Best is trial 12 with value: 35.81001124243325.\u001b[0m\n"
     ]
    },
    {
     "name": "stdout",
     "output_type": "stream",
     "text": [
      "MAPE:  0.19316761404114502\n",
      "MAE:  4.231960402318725\n"
     ]
    },
    {
     "name": "stderr",
     "output_type": "stream",
     "text": [
      "\u001b[32m[I 2023-04-02 05:10:08,314]\u001b[0m Trial 23 finished with value: 40.12600042401667 and parameters: {'max_depth': 5, 'learning_rate': 0.022570623586139812, 'n_estimators': 278, 'min_child_weight': 9, 'gamma': 0.00045372946409886437, 'subsample': 0.9022433471587391, 'colsample_bytree': 0.2378205384465047}. Best is trial 12 with value: 35.81001124243325.\u001b[0m\n"
     ]
    },
    {
     "name": "stdout",
     "output_type": "stream",
     "text": [
      "MAPE:  0.20266322754781113\n",
      "MAE:  4.517051386967222\n"
     ]
    },
    {
     "name": "stderr",
     "output_type": "stream",
     "text": [
      "\u001b[32m[I 2023-04-02 05:12:33,855]\u001b[0m Trial 24 finished with value: 35.71489654413421 and parameters: {'max_depth': 3, 'learning_rate': 0.05836165191887821, 'n_estimators': 232, 'min_child_weight': 4, 'gamma': 0.00011841269327735449, 'subsample': 0.29335338592222476, 'colsample_bytree': 0.9492081232979346}. Best is trial 24 with value: 35.71489654413421.\u001b[0m\n"
     ]
    },
    {
     "name": "stdout",
     "output_type": "stream",
     "text": [
      "MAPE:  0.18822808514345507\n",
      "MAE:  3.944759938747637\n"
     ]
    },
    {
     "name": "stderr",
     "output_type": "stream",
     "text": [
      "\u001b[32m[I 2023-04-02 05:13:35,126]\u001b[0m Trial 25 finished with value: 35.92770611405724 and parameters: {'max_depth': 1, 'learning_rate': 0.059007061547072234, 'n_estimators': 146, 'min_child_weight': 4, 'gamma': 0.00012768392102048087, 'subsample': 0.30130918652246647, 'colsample_bytree': 0.8199058154097124}. Best is trial 24 with value: 35.71489654413421.\u001b[0m\n"
     ]
    },
    {
     "name": "stdout",
     "output_type": "stream",
     "text": [
      "MAPE:  0.18596995263152985\n",
      "MAE:  4.126548040480841\n"
     ]
    },
    {
     "name": "stderr",
     "output_type": "stream",
     "text": [
      "\u001b[32m[I 2023-04-02 05:15:15,826]\u001b[0m Trial 26 finished with value: 37.613615414870324 and parameters: {'max_depth': 4, 'learning_rate': 0.05720331205814577, 'n_estimators': 144, 'min_child_weight': 4, 'gamma': 0.00023054771269687715, 'subsample': 0.13218922700798988, 'colsample_bytree': 0.9994878445980825}. Best is trial 24 with value: 35.71489654413421.\u001b[0m\n"
     ]
    },
    {
     "name": "stdout",
     "output_type": "stream",
     "text": [
      "MAPE:  0.19962776584678016\n",
      "MAE:  4.076802742958226\n"
     ]
    },
    {
     "name": "stderr",
     "output_type": "stream",
     "text": [
      "\u001b[32m[I 2023-04-02 05:16:24,223]\u001b[0m Trial 27 finished with value: 35.70907834415869 and parameters: {'max_depth': 2, 'learning_rate': 0.12232563099905382, 'n_estimators': 141, 'min_child_weight': 3, 'gamma': 1.085472023413236e-05, 'subsample': 0.2510530848676246, 'colsample_bytree': 0.7482443476782602}. Best is trial 27 with value: 35.70907834415869.\u001b[0m\n"
     ]
    },
    {
     "name": "stdout",
     "output_type": "stream",
     "text": [
      "MAPE:  0.19693108147619814\n",
      "MAE:  4.057437052467355\n"
     ]
    },
    {
     "name": "stderr",
     "output_type": "stream",
     "text": [
      "\u001b[32m[I 2023-04-02 05:18:15,354]\u001b[0m Trial 28 finished with value: 47.750023388623035 and parameters: {'max_depth': 5, 'learning_rate': 0.12718737464972027, 'n_estimators': 233, 'min_child_weight': 2, 'gamma': 1.1562914165556112e-05, 'subsample': 0.09372030335635113, 'colsample_bytree': 0.2810497834034233}. Best is trial 27 with value: 35.70907834415869.\u001b[0m\n"
     ]
    },
    {
     "name": "stdout",
     "output_type": "stream",
     "text": [
      "MAPE:  0.3603570634000297\n",
      "MAE:  4.9065643749387675\n"
     ]
    },
    {
     "name": "stderr",
     "output_type": "stream",
     "text": [
      "\u001b[32m[I 2023-04-02 05:19:35,779]\u001b[0m Trial 29 finished with value: 47.850509806290766 and parameters: {'max_depth': 3, 'learning_rate': 0.18381735461563883, 'n_estimators': 159, 'min_child_weight': 3, 'gamma': 4.973442552329685e-05, 'subsample': 0.20252970503108222, 'colsample_bytree': 0.5400104058259765}. Best is trial 27 with value: 35.70907834415869.\u001b[0m\n"
     ]
    },
    {
     "name": "stdout",
     "output_type": "stream",
     "text": [
      "MAPE:  0.2783869911405049\n",
      "MAE:  4.844883437357133\n"
     ]
    },
    {
     "name": "stderr",
     "output_type": "stream",
     "text": [
      "\u001b[32m[I 2023-04-02 05:21:03,620]\u001b[0m Trial 30 finished with value: 104.87063328523459 and parameters: {'max_depth': 9, 'learning_rate': 0.42023160234264056, 'n_estimators': 275, 'min_child_weight': 5, 'gamma': 1.0504074544816734e-05, 'subsample': 0.016262865640998627, 'colsample_bytree': 0.02921571293652308}. Best is trial 27 with value: 35.70907834415869.\u001b[0m\n"
     ]
    },
    {
     "name": "stdout",
     "output_type": "stream",
     "text": [
      "MAPE:  0.3474392858498095\n",
      "MAE:  7.830360538567658\n"
     ]
    },
    {
     "name": "stderr",
     "output_type": "stream",
     "text": [
      "\u001b[32m[I 2023-04-02 05:22:14,759]\u001b[0m Trial 31 finished with value: 35.42672774921504 and parameters: {'max_depth': 2, 'learning_rate': 0.05885683564707526, 'n_estimators': 141, 'min_child_weight': 4, 'gamma': 6.79464772989669e-05, 'subsample': 0.29876021394164215, 'colsample_bytree': 0.7954232801775368}. Best is trial 31 with value: 35.42672774921504.\u001b[0m\n"
     ]
    },
    {
     "name": "stdout",
     "output_type": "stream",
     "text": [
      "MAPE:  0.1874803534581703\n",
      "MAE:  4.0486490972064155\n"
     ]
    },
    {
     "name": "stderr",
     "output_type": "stream",
     "text": [
      "\u001b[32m[I 2023-04-02 05:23:02,701]\u001b[0m Trial 32 finished with value: 33.649935142760505 and parameters: {'max_depth': 2, 'learning_rate': 0.12573042419825228, 'n_estimators': 94, 'min_child_weight': 2, 'gamma': 3.088729311738627e-05, 'subsample': 0.2908165956663791, 'colsample_bytree': 0.7482619492681485}. Best is trial 32 with value: 33.649935142760505.\u001b[0m\n"
     ]
    },
    {
     "name": "stdout",
     "output_type": "stream",
     "text": [
      "MAPE:  0.1893392488494604\n",
      "MAE:  3.9740507816156696\n"
     ]
    },
    {
     "name": "stderr",
     "output_type": "stream",
     "text": [
      "\u001b[32m[I 2023-04-02 05:23:41,510]\u001b[0m Trial 33 finished with value: 39.45643587434381 and parameters: {'max_depth': 2, 'learning_rate': 0.12771955925945425, 'n_estimators': 89, 'min_child_weight': 2, 'gamma': 2.8560065882230665e-05, 'subsample': 0.15569529092258666, 'colsample_bytree': 0.4283925278919933}. Best is trial 32 with value: 33.649935142760505.\u001b[0m\n"
     ]
    },
    {
     "name": "stdout",
     "output_type": "stream",
     "text": [
      "MAPE:  0.21970523963556618\n",
      "MAE:  4.510640825504664\n"
     ]
    },
    {
     "name": "stderr",
     "output_type": "stream",
     "text": [
      "\u001b[32m[I 2023-04-02 05:24:44,323]\u001b[0m Trial 34 finished with value: 33.87645579910614 and parameters: {'max_depth': 2, 'learning_rate': 0.06991444310560715, 'n_estimators': 130, 'min_child_weight': 1, 'gamma': 6.1411145944703e-05, 'subsample': 0.269505251406257, 'colsample_bytree': 0.7064400064373482}. Best is trial 32 with value: 33.649935142760505.\u001b[0m\n"
     ]
    },
    {
     "name": "stdout",
     "output_type": "stream",
     "text": [
      "MAPE:  0.1877871159063941\n",
      "MAE:  4.026412999346142\n"
     ]
    },
    {
     "name": "stderr",
     "output_type": "stream",
     "text": [
      "\u001b[32m[I 2023-04-02 05:25:47,166]\u001b[0m Trial 35 finished with value: 34.57072731056949 and parameters: {'max_depth': 2, 'learning_rate': 0.07911463073023244, 'n_estimators': 127, 'min_child_weight': 1, 'gamma': 2.33265336497148e-05, 'subsample': 0.3976982507626689, 'colsample_bytree': 0.6450851646408363}. Best is trial 32 with value: 33.649935142760505.\u001b[0m\n"
     ]
    },
    {
     "name": "stdout",
     "output_type": "stream",
     "text": [
      "MAPE:  0.19394676230233973\n",
      "MAE:  4.127836929584937\n"
     ]
    },
    {
     "name": "stderr",
     "output_type": "stream",
     "text": [
      "\u001b[32m[I 2023-04-02 05:26:14,471]\u001b[0m Trial 36 finished with value: 49.15403877536721 and parameters: {'max_depth': 1, 'learning_rate': 0.07860682361531827, 'n_estimators': 62, 'min_child_weight': 2, 'gamma': 6.05833342340385e-05, 'subsample': 0.3920164784411718, 'colsample_bytree': 0.5259479200295131}. Best is trial 32 with value: 33.649935142760505.\u001b[0m\n"
     ]
    },
    {
     "name": "stdout",
     "output_type": "stream",
     "text": [
      "MAPE:  0.23303407193786135\n",
      "MAE:  5.290595498073984\n"
     ]
    },
    {
     "name": "stderr",
     "output_type": "stream",
     "text": [
      "\u001b[32m[I 2023-04-02 05:27:06,126]\u001b[0m Trial 37 finished with value: 43.958174354301136 and parameters: {'max_depth': 2, 'learning_rate': 0.041701500096686925, 'n_estimators': 127, 'min_child_weight': 1, 'gamma': 3.166700670076439e-05, 'subsample': 0.18615955435380582, 'colsample_bytree': 0.3302557767549149}. Best is trial 32 with value: 33.649935142760505.\u001b[0m\n"
     ]
    },
    {
     "name": "stdout",
     "output_type": "stream",
     "text": [
      "MAPE:  0.22009592637561978\n",
      "MAE:  4.876733984896745\n"
     ]
    },
    {
     "name": "stderr",
     "output_type": "stream",
     "text": [
      "\u001b[32m[I 2023-04-02 05:28:03,304]\u001b[0m Trial 38 finished with value: 60.52841169400543 and parameters: {'max_depth': 1, 'learning_rate': 0.17212502751770165, 'n_estimators': 171, 'min_child_weight': 1, 'gamma': 0.00037033979666884333, 'subsample': 0.060795355315226514, 'colsample_bytree': 0.05342793577773223}. Best is trial 32 with value: 33.649935142760505.\u001b[0m\n"
     ]
    },
    {
     "name": "stdout",
     "output_type": "stream",
     "text": [
      "MAPE:  0.26864028285951946\n",
      "MAE:  5.901119384993478\n"
     ]
    },
    {
     "name": "stderr",
     "output_type": "stream",
     "text": [
      "\u001b[32m[I 2023-04-02 05:28:42,179]\u001b[0m Trial 39 finished with value: 49.061774404496944 and parameters: {'max_depth': 2, 'learning_rate': 0.07058742378411481, 'n_estimators': 102, 'min_child_weight': 1, 'gamma': 2.1368537273417565e-05, 'subsample': 0.14539478397977124, 'colsample_bytree': 0.15650963095748768}. Best is trial 32 with value: 33.649935142760505.\u001b[0m\n"
     ]
    },
    {
     "name": "stdout",
     "output_type": "stream",
     "text": [
      "MAPE:  0.23064839804950646\n",
      "MAE:  5.209643215611183\n"
     ]
    },
    {
     "name": "stderr",
     "output_type": "stream",
     "text": [
      "\u001b[32m[I 2023-04-02 05:29:20,692]\u001b[0m Trial 40 finished with value: 65.70539952699849 and parameters: {'max_depth': 7, 'learning_rate': 0.0438342936466949, 'n_estimators': 63, 'min_child_weight': 2, 'gamma': 0.00134200702007723, 'subsample': 0.034380736854315516, 'colsample_bytree': 0.6020819009538834}. Best is trial 32 with value: 33.649935142760505.\u001b[0m\n"
     ]
    },
    {
     "name": "stdout",
     "output_type": "stream",
     "text": [
      "MAPE:  0.2571758337040737\n",
      "MAE:  5.274359753049871\n"
     ]
    },
    {
     "name": "stderr",
     "output_type": "stream",
     "text": [
      "\u001b[32m[I 2023-04-02 05:30:25,438]\u001b[0m Trial 41 finished with value: 36.419641672135256 and parameters: {'max_depth': 2, 'learning_rate': 0.10434348468554432, 'n_estimators': 134, 'min_child_weight': 3, 'gamma': 1.6128570378883148e-05, 'subsample': 0.24561640747377803, 'colsample_bytree': 0.7277395448327756}. Best is trial 32 with value: 33.649935142760505.\u001b[0m\n"
     ]
    },
    {
     "name": "stdout",
     "output_type": "stream",
     "text": [
      "MAPE:  0.1950891824787029\n",
      "MAE:  4.124608927519706\n"
     ]
    },
    {
     "name": "stderr",
     "output_type": "stream",
     "text": [
      "\u001b[32m[I 2023-04-02 05:31:19,323]\u001b[0m Trial 42 finished with value: 33.958484054052676 and parameters: {'max_depth': 2, 'learning_rate': 0.09921141316518707, 'n_estimators': 107, 'min_child_weight': 2, 'gamma': 8.589498579863229e-05, 'subsample': 0.34022198268407383, 'colsample_bytree': 0.7102614449642615}. Best is trial 32 with value: 33.649935142760505.\u001b[0m\n"
     ]
    },
    {
     "name": "stdout",
     "output_type": "stream",
     "text": [
      "MAPE:  0.18937926569551833\n",
      "MAE:  4.006178393703762\n"
     ]
    },
    {
     "name": "stderr",
     "output_type": "stream",
     "text": [
      "\u001b[32m[I 2023-04-02 05:32:02,496]\u001b[0m Trial 43 finished with value: 42.8255868507454 and parameters: {'max_depth': 1, 'learning_rate': 0.10619162077531538, 'n_estimators': 111, 'min_child_weight': 2, 'gamma': 8.821424361241555e-05, 'subsample': 0.37027984464095326, 'colsample_bytree': 0.38561425761682727}. Best is trial 32 with value: 33.649935142760505.\u001b[0m\n"
     ]
    },
    {
     "name": "stdout",
     "output_type": "stream",
     "text": [
      "MAPE:  0.22227247245182535\n",
      "MAE:  4.833334554834341\n"
     ]
    },
    {
     "name": "stderr",
     "output_type": "stream",
     "text": [
      "\u001b[32m[I 2023-04-02 05:33:00,601]\u001b[0m Trial 44 finished with value: 42.15183561535062 and parameters: {'max_depth': 3, 'learning_rate': 0.2916263479092544, 'n_estimators': 93, 'min_child_weight': 1, 'gamma': 4.085559244723631e-05, 'subsample': 0.4550731006720624, 'colsample_bytree': 0.6872070264637059}. Best is trial 32 with value: 33.649935142760505.\u001b[0m\n"
     ]
    },
    {
     "name": "stdout",
     "output_type": "stream",
     "text": [
      "MAPE:  0.22553965850628968\n",
      "MAE:  4.310419963593915\n"
     ]
    },
    {
     "name": "stderr",
     "output_type": "stream",
     "text": [
      "\u001b[32m[I 2023-04-02 05:33:30,790]\u001b[0m Trial 45 finished with value: 113.68107004155318 and parameters: {'max_depth': 1, 'learning_rate': 0.04630428244418573, 'n_estimators': 80, 'min_child_weight': 2, 'gamma': 0.00032288505988087914, 'subsample': 0.3203884025367858, 'colsample_bytree': 0.11018367897220502}. Best is trial 32 with value: 33.649935142760505.\u001b[0m\n"
     ]
    },
    {
     "name": "stdout",
     "output_type": "stream",
     "text": [
      "MAPE:  0.32577248793346225\n",
      "MAE:  8.548815263721048\n"
     ]
    },
    {
     "name": "stderr",
     "output_type": "stream",
     "text": [
      "\u001b[32m[I 2023-04-02 05:35:25,732]\u001b[0m Trial 46 finished with value: 36.570749106420216 and parameters: {'max_depth': 6, 'learning_rate': 0.07333102821635476, 'n_estimators': 169, 'min_child_weight': 1, 'gamma': 8.140898378047465e-05, 'subsample': 0.21695237345761295, 'colsample_bytree': 0.4639412790712143}. Best is trial 32 with value: 33.649935142760505.\u001b[0m\n"
     ]
    },
    {
     "name": "stdout",
     "output_type": "stream",
     "text": [
      "MAPE:  0.21107358458956454\n",
      "MAE:  4.232677181147867\n"
     ]
    },
    {
     "name": "stderr",
     "output_type": "stream",
     "text": [
      "\u001b[32m[I 2023-04-02 05:36:18,172]\u001b[0m Trial 47 finished with value: 57.90576499506304 and parameters: {'max_depth': 3, 'learning_rate': 0.026020175474907467, 'n_estimators': 119, 'min_child_weight': 3, 'gamma': 1.9659365037888856e-05, 'subsample': 0.7194451030699324, 'colsample_bytree': 0.18603603613908726}. Best is trial 32 with value: 33.649935142760505.\u001b[0m\n"
     ]
    },
    {
     "name": "stdout",
     "output_type": "stream",
     "text": [
      "MAPE:  0.23917297016329764\n",
      "MAE:  5.59750452582483\n"
     ]
    },
    {
     "name": "stderr",
     "output_type": "stream",
     "text": [
      "\u001b[32m[I 2023-04-02 05:38:17,650]\u001b[0m Trial 48 finished with value: 41.59024528719701 and parameters: {'max_depth': 4, 'learning_rate': 0.15540576075985174, 'n_estimators': 192, 'min_child_weight': 1, 'gamma': 0.0005519937659688418, 'subsample': 0.2784454979549046, 'colsample_bytree': 0.6249753401658986}. Best is trial 32 with value: 33.649935142760505.\u001b[0m\n"
     ]
    },
    {
     "name": "stdout",
     "output_type": "stream",
     "text": [
      "MAPE:  0.24247041483786713\n",
      "MAE:  4.471768602181877\n"
     ]
    },
    {
     "name": "stderr",
     "output_type": "stream",
     "text": [
      "\u001b[32m[I 2023-04-02 05:38:44,779]\u001b[0m Trial 49 finished with value: 92.3566339601805 and parameters: {'max_depth': 2, 'learning_rate': 0.03367008114653119, 'n_estimators': 42, 'min_child_weight': 2, 'gamma': 0.0008535587738354958, 'subsample': 0.5737560908499024, 'colsample_bytree': 0.857164774865847}. Best is trial 32 with value: 33.649935142760505.\u001b[0m\n"
     ]
    },
    {
     "name": "stdout",
     "output_type": "stream",
     "text": [
      "MAPE:  0.3517214409050165\n",
      "MAE:  6.777864844631896\n"
     ]
    },
    {
     "name": "stderr",
     "output_type": "stream",
     "text": [
      "\u001b[32m[I 2023-04-02 05:39:42,825]\u001b[0m Trial 50 finished with value: 39.782929762065514 and parameters: {'max_depth': 1, 'learning_rate': 0.0942520322389516, 'n_estimators': 158, 'min_child_weight': 1, 'gamma': 3.862930801851196e-05, 'subsample': 0.3983883574834345, 'colsample_bytree': 0.3157012562945643}. Best is trial 32 with value: 33.649935142760505.\u001b[0m\n"
     ]
    },
    {
     "name": "stdout",
     "output_type": "stream",
     "text": [
      "MAPE:  0.215499723876985\n",
      "MAE:  4.7423962376341615\n"
     ]
    },
    {
     "name": "stderr",
     "output_type": "stream",
     "text": [
      "\u001b[32m[I 2023-04-02 05:40:50,924]\u001b[0m Trial 51 finished with value: 36.162082244947655 and parameters: {'max_depth': 2, 'learning_rate': 0.11339189136848109, 'n_estimators': 140, 'min_child_weight': 3, 'gamma': 1.5813461538767473e-05, 'subsample': 0.24369085393593531, 'colsample_bytree': 0.7514208978127023}. Best is trial 32 with value: 33.649935142760505.\u001b[0m\n"
     ]
    },
    {
     "name": "stdout",
     "output_type": "stream",
     "text": [
      "MAPE:  0.19761910432112495\n",
      "MAE:  4.1020925533637485\n"
     ]
    },
    {
     "name": "stderr",
     "output_type": "stream",
     "text": [
      "\u001b[32m[I 2023-04-02 05:41:40,267]\u001b[0m Trial 52 finished with value: 39.46353884143233 and parameters: {'max_depth': 2, 'learning_rate': 0.067857872509291, 'n_estimators': 112, 'min_child_weight': 3, 'gamma': 7.572551385224992e-05, 'subsample': 0.17334198026828299, 'colsample_bytree': 0.4975419317823852}. Best is trial 32 with value: 33.649935142760505.\u001b[0m\n"
     ]
    },
    {
     "name": "stdout",
     "output_type": "stream",
     "text": [
      "MAPE:  0.20762184674540746\n",
      "MAE:  4.400477967032837\n"
     ]
    },
    {
     "name": "stderr",
     "output_type": "stream",
     "text": [
      "\u001b[32m[I 2023-04-02 05:42:42,973]\u001b[0m Trial 53 finished with value: 34.38367941007884 and parameters: {'max_depth': 2, 'learning_rate': 0.08815448964531178, 'n_estimators': 131, 'min_child_weight': 2, 'gamma': 2.8096334325147936e-05, 'subsample': 0.3422567911803407, 'colsample_bytree': 0.6278438317117917}. Best is trial 32 with value: 33.649935142760505.\u001b[0m\n"
     ]
    },
    {
     "name": "stdout",
     "output_type": "stream",
     "text": [
      "MAPE:  0.19538966379314843\n",
      "MAE:  4.087830048015036\n"
     ]
    },
    {
     "name": "stderr",
     "output_type": "stream",
     "text": [
      "\u001b[32m[I 2023-04-02 05:43:38,047]\u001b[0m Trial 54 finished with value: 36.18339160878825 and parameters: {'max_depth': 3, 'learning_rate': 0.092230047769691, 'n_estimators': 96, 'min_child_weight': 2, 'gamma': 0.00022142207977054242, 'subsample': 0.34428790735481957, 'colsample_bytree': 0.6446167360875392}. Best is trial 32 with value: 33.649935142760505.\u001b[0m\n"
     ]
    },
    {
     "name": "stdout",
     "output_type": "stream",
     "text": [
      "MAPE:  0.2021418649430834\n",
      "MAE:  4.146462467375886\n"
     ]
    },
    {
     "name": "stderr",
     "output_type": "stream",
     "text": [
      "\u001b[32m[I 2023-04-02 05:44:18,502]\u001b[0m Trial 55 finished with value: 42.05201512554297 and parameters: {'max_depth': 3, 'learning_rate': 0.049894586085203294, 'n_estimators': 76, 'min_child_weight': 6, 'gamma': 2.9827213977730883e-05, 'subsample': 0.4630091089026709, 'colsample_bytree': 0.3852285442116597}. Best is trial 32 with value: 33.649935142760505.\u001b[0m\n"
     ]
    },
    {
     "name": "stdout",
     "output_type": "stream",
     "text": [
      "MAPE:  0.2122442411580821\n",
      "MAE:  4.596054037214902\n"
     ]
    },
    {
     "name": "stderr",
     "output_type": "stream",
     "text": [
      "\u001b[32m[I 2023-04-02 05:45:11,970]\u001b[0m Trial 56 finished with value: 43.09842109503164 and parameters: {'max_depth': 1, 'learning_rate': 0.03843583136623064, 'n_estimators': 123, 'min_child_weight': 1, 'gamma': 0.0001168032827212624, 'subsample': 0.4292527231209246, 'colsample_bytree': 0.845251857006326}. Best is trial 32 with value: 33.649935142760505.\u001b[0m\n"
     ]
    },
    {
     "name": "stdout",
     "output_type": "stream",
     "text": [
      "MAPE:  0.2079140471185274\n",
      "MAE:  4.660681551686986\n"
     ]
    },
    {
     "name": "stderr",
     "output_type": "stream",
     "text": [
      "\u001b[32m[I 2023-04-02 05:46:08,041]\u001b[0m Trial 57 finished with value: 47.26435223397162 and parameters: {'max_depth': 2, 'learning_rate': 0.14756154862685744, 'n_estimators': 132, 'min_child_weight': 2, 'gamma': 4.9136556441381794e-05, 'subsample': 0.10970536678747803, 'colsample_bytree': 0.4823748034634543}. Best is trial 32 with value: 33.649935142760505.\u001b[0m\n"
     ]
    },
    {
     "name": "stdout",
     "output_type": "stream",
     "text": [
      "MAPE:  0.25065322545820873\n",
      "MAE:  4.87088013791218\n"
     ]
    },
    {
     "name": "stderr",
     "output_type": "stream",
     "text": [
      "\u001b[32m[I 2023-04-02 05:47:38,268]\u001b[0m Trial 58 finished with value: 46.67204213979872 and parameters: {'max_depth': 4, 'learning_rate': 0.21682364536899043, 'n_estimators': 152, 'min_child_weight': 2, 'gamma': 0.0036388336802827964, 'subsample': 0.21096857194913018, 'colsample_bytree': 0.6136191315182741}. Best is trial 32 with value: 33.649935142760505.\u001b[0m\n"
     ]
    },
    {
     "name": "stdout",
     "output_type": "stream",
     "text": [
      "MAPE:  0.3116701993559929\n",
      "MAE:  4.78265939036473\n"
     ]
    },
    {
     "name": "stderr",
     "output_type": "stream",
     "text": [
      "\u001b[32m[I 2023-04-02 05:50:06,071]\u001b[0m Trial 59 finished with value: 33.355542168734445 and parameters: {'max_depth': 3, 'learning_rate': 0.06468753016818936, 'n_estimators': 187, 'min_child_weight': 1, 'gamma': 2.649779537809234e-05, 'subsample': 0.7827538709535071, 'colsample_bytree': 0.9971096982382381}. Best is trial 59 with value: 33.355542168734445.\u001b[0m\n"
     ]
    },
    {
     "name": "stdout",
     "output_type": "stream",
     "text": [
      "MAPE:  0.1791538853752084\n",
      "MAE:  3.7329796764546286\n"
     ]
    },
    {
     "name": "stderr",
     "output_type": "stream",
     "text": [
      "\u001b[32m[I 2023-04-02 05:52:49,948]\u001b[0m Trial 60 finished with value: 34.50584544299963 and parameters: {'max_depth': 3, 'learning_rate': 0.09009644461508591, 'n_estimators': 213, 'min_child_weight': 1, 'gamma': 2.3267408199607016e-05, 'subsample': 0.8277430153535621, 'colsample_bytree': 0.9440954893109129}. Best is trial 59 with value: 33.355542168734445.\u001b[0m\n"
     ]
    },
    {
     "name": "stdout",
     "output_type": "stream",
     "text": [
      "MAPE:  0.18802288310171938\n",
      "MAE:  3.8028168905250452\n"
     ]
    },
    {
     "name": "stderr",
     "output_type": "stream",
     "text": [
      "\u001b[32m[I 2023-04-02 05:55:13,714]\u001b[0m Trial 61 finished with value: 33.78481586534439 and parameters: {'max_depth': 3, 'learning_rate': 0.08165490322564904, 'n_estimators': 183, 'min_child_weight': 1, 'gamma': 2.175646467420453e-05, 'subsample': 0.801343224518566, 'colsample_bytree': 0.9780893249203505}. Best is trial 59 with value: 33.355542168734445.\u001b[0m\n"
     ]
    },
    {
     "name": "stdout",
     "output_type": "stream",
     "text": [
      "MAPE:  0.18138447241118602\n",
      "MAE:  3.7463357881815345\n"
     ]
    },
    {
     "name": "stderr",
     "output_type": "stream",
     "text": [
      "\u001b[32m[I 2023-04-02 05:57:51,039]\u001b[0m Trial 62 finished with value: 33.13871973259016 and parameters: {'max_depth': 3, 'learning_rate': 0.06629147086623718, 'n_estimators': 208, 'min_child_weight': 1, 'gamma': 1.4766144418228162e-05, 'subsample': 0.7170676351409799, 'colsample_bytree': 0.9917445097988727}. Best is trial 62 with value: 33.13871973259016.\u001b[0m\n"
     ]
    },
    {
     "name": "stdout",
     "output_type": "stream",
     "text": [
      "MAPE:  0.18102569118298645\n",
      "MAE:  3.7523316888227347\n"
     ]
    },
    {
     "name": "stderr",
     "output_type": "stream",
     "text": [
      "\u001b[32m[I 2023-04-02 06:00:24,284]\u001b[0m Trial 63 finished with value: 33.54168405565986 and parameters: {'max_depth': 3, 'learning_rate': 0.06641374042337514, 'n_estimators': 201, 'min_child_weight': 1, 'gamma': 1.4831107751014033e-05, 'subsample': 0.761966131863267, 'colsample_bytree': 0.9509437978079981}. Best is trial 62 with value: 33.13871973259016.\u001b[0m\n"
     ]
    },
    {
     "name": "stdout",
     "output_type": "stream",
     "text": [
      "MAPE:  0.18236687171028118\n",
      "MAE:  3.7751552969729776\n"
     ]
    },
    {
     "name": "stderr",
     "output_type": "stream",
     "text": [
      "\u001b[32m[I 2023-04-02 06:03:31,392]\u001b[0m Trial 64 finished with value: 34.146963678138455 and parameters: {'max_depth': 4, 'learning_rate': 0.06530372451159869, 'n_estimators': 196, 'min_child_weight': 1, 'gamma': 1.4208177640822372e-05, 'subsample': 0.7578241917698121, 'colsample_bytree': 0.9903782942913022}. Best is trial 62 with value: 33.13871973259016.\u001b[0m\n"
     ]
    },
    {
     "name": "stdout",
     "output_type": "stream",
     "text": [
      "MAPE:  0.1883181497347739\n",
      "MAE:  3.837656682130521\n"
     ]
    },
    {
     "name": "stderr",
     "output_type": "stream",
     "text": [
      "\u001b[32m[I 2023-04-02 06:05:48,692]\u001b[0m Trial 65 finished with value: 32.78347262612467 and parameters: {'max_depth': 3, 'learning_rate': 0.05176353551039661, 'n_estimators': 203, 'min_child_weight': 1, 'gamma': 4.016899637795159e-05, 'subsample': 0.5690043183008289, 'colsample_bytree': 0.8476904902365378}. Best is trial 65 with value: 32.78347262612467.\u001b[0m\n"
     ]
    },
    {
     "name": "stdout",
     "output_type": "stream",
     "text": [
      "MAPE:  0.18319157856882504\n",
      "MAE:  3.8325197972436116\n"
     ]
    },
    {
     "name": "stderr",
     "output_type": "stream",
     "text": [
      "\u001b[32m[I 2023-04-02 06:08:18,835]\u001b[0m Trial 66 finished with value: 34.13571221255544 and parameters: {'max_depth': 4, 'learning_rate': 0.0492183504687637, 'n_estimators': 179, 'min_child_weight': 1, 'gamma': 3.9895068171103125e-05, 'subsample': 0.6487327033490305, 'colsample_bytree': 0.8439003987719847}. Best is trial 65 with value: 32.78347262612467.\u001b[0m\n"
     ]
    },
    {
     "name": "stdout",
     "output_type": "stream",
     "text": [
      "MAPE:  0.18665141927668782\n",
      "MAE:  3.8893062730354293\n"
     ]
    },
    {
     "name": "stderr",
     "output_type": "stream",
     "text": [
      "\u001b[32m[I 2023-04-02 06:10:54,271]\u001b[0m Trial 67 finished with value: 35.290403691360744 and parameters: {'max_depth': 3, 'learning_rate': 0.05359162336375646, 'n_estimators': 198, 'min_child_weight': 1, 'gamma': 1.728776389613817e-05, 'subsample': 0.9986367489446387, 'colsample_bytree': 0.8865979244893917}. Best is trial 65 with value: 32.78347262612467.\u001b[0m\n"
     ]
    },
    {
     "name": "stdout",
     "output_type": "stream",
     "text": [
      "MAPE:  0.18392613818763648\n",
      "MAE:  3.8850512144564795\n"
     ]
    },
    {
     "name": "stderr",
     "output_type": "stream",
     "text": [
      "\u001b[32m[I 2023-04-02 06:14:02,034]\u001b[0m Trial 68 finished with value: 34.81472081755843 and parameters: {'max_depth': 5, 'learning_rate': 0.037890369094468614, 'n_estimators': 204, 'min_child_weight': 1, 'gamma': 1.1183766498352658e-05, 'subsample': 0.5539249265320292, 'colsample_bytree': 0.7868193448526278}. Best is trial 65 with value: 32.78347262612467.\u001b[0m\n"
     ]
    },
    {
     "name": "stdout",
     "output_type": "stream",
     "text": [
      "MAPE:  0.197208291848199\n",
      "MAE:  3.991790310593036\n"
     ]
    },
    {
     "name": "stderr",
     "output_type": "stream",
     "text": [
      "\u001b[32m[I 2023-04-02 06:16:57,009]\u001b[0m Trial 69 finished with value: 33.7312026008159 and parameters: {'max_depth': 3, 'learning_rate': 0.06513299824681848, 'n_estimators': 221, 'min_child_weight': 1, 'gamma': 4.643653507893587e-05, 'subsample': 0.8188473662920231, 'colsample_bytree': 0.9930915107588172}. Best is trial 65 with value: 32.78347262612467.\u001b[0m\n"
     ]
    },
    {
     "name": "stdout",
     "output_type": "stream",
     "text": [
      "MAPE:  0.1816899895973202\n",
      "MAE:  3.7571029706843317\n"
     ]
    },
    {
     "name": "stderr",
     "output_type": "stream",
     "text": [
      "\u001b[32m[I 2023-04-02 06:20:25,553]\u001b[0m Trial 70 finished with value: 33.68226316997565 and parameters: {'max_depth': 4, 'learning_rate': 0.02892720778954993, 'n_estimators': 216, 'min_child_weight': 1, 'gamma': 0.01972040823361854, 'subsample': 0.785557682251584, 'colsample_bytree': 0.9946443538902258}. Best is trial 65 with value: 32.78347262612467.\u001b[0m\n"
     ]
    },
    {
     "name": "stdout",
     "output_type": "stream",
     "text": [
      "MAPE:  0.1780898219069575\n",
      "MAE:  3.7893945602158077\n"
     ]
    },
    {
     "name": "stderr",
     "output_type": "stream",
     "text": [
      "\u001b[32m[I 2023-04-02 06:23:58,285]\u001b[0m Trial 71 finished with value: 33.60983463628176 and parameters: {'max_depth': 4, 'learning_rate': 0.030534696390080246, 'n_estimators': 220, 'min_child_weight': 1, 'gamma': 0.02018973201460724, 'subsample': 0.8065427542824838, 'colsample_bytree': 0.994019017984952}. Best is trial 65 with value: 32.78347262612467.\u001b[0m\n"
     ]
    },
    {
     "name": "stdout",
     "output_type": "stream",
     "text": [
      "MAPE:  0.17873249897967006\n",
      "MAE:  3.7843635125410935\n"
     ]
    },
    {
     "name": "stderr",
     "output_type": "stream",
     "text": [
      "\u001b[32m[I 2023-04-02 06:27:18,557]\u001b[0m Trial 72 finished with value: 34.00175257100855 and parameters: {'max_depth': 4, 'learning_rate': 0.028692248720551972, 'n_estimators': 222, 'min_child_weight': 1, 'gamma': 0.04206517080670019, 'subsample': 0.8684167736394601, 'colsample_bytree': 0.8618176588357053}. Best is trial 65 with value: 32.78347262612467.\u001b[0m\n"
     ]
    },
    {
     "name": "stdout",
     "output_type": "stream",
     "text": [
      "MAPE:  0.18092700994286454\n",
      "MAE:  3.860702381957145\n"
     ]
    },
    {
     "name": "stderr",
     "output_type": "stream",
     "text": [
      "\u001b[32m[I 2023-04-02 06:31:31,457]\u001b[0m Trial 73 finished with value: 36.04727500542477 and parameters: {'max_depth': 5, 'learning_rate': 0.016173963709878822, 'n_estimators': 228, 'min_child_weight': 1, 'gamma': 0.00988324090258238, 'subsample': 0.6702017148230234, 'colsample_bytree': 0.9742841271421331}. Best is trial 65 with value: 32.78347262612467.\u001b[0m\n"
     ]
    },
    {
     "name": "stdout",
     "output_type": "stream",
     "text": [
      "MAPE:  0.19812374672742655\n",
      "MAE:  4.008257880067778\n"
     ]
    },
    {
     "name": "stderr",
     "output_type": "stream",
     "text": [
      "\u001b[32m[I 2023-04-02 06:33:52,137]\u001b[0m Trial 74 finished with value: 35.24142280319643 and parameters: {'max_depth': 4, 'learning_rate': 0.02904057319747173, 'n_estimators': 208, 'min_child_weight': 2, 'gamma': 0.006670832830546186, 'subsample': 0.5881100324340741, 'colsample_bytree': 0.5744631617931736}. Best is trial 65 with value: 32.78347262612467.\u001b[0m\n"
     ]
    },
    {
     "name": "stdout",
     "output_type": "stream",
     "text": [
      "MAPE:  0.19113543103534342\n",
      "MAE:  4.035020725318679\n"
     ]
    },
    {
     "name": "stderr",
     "output_type": "stream",
     "text": [
      "\u001b[32m[I 2023-04-02 06:35:16,603]\u001b[0m Trial 75 finished with value: 145.19959544025744 and parameters: {'max_depth': 3, 'learning_rate': 0.02390917509062454, 'n_estimators': 245, 'min_child_weight': 1, 'gamma': 0.021950400103849275, 'subsample': 0.7452152694063252, 'colsample_bytree': 0.02117745566105993}. Best is trial 65 with value: 32.78347262612467.\u001b[0m\n"
     ]
    },
    {
     "name": "stdout",
     "output_type": "stream",
     "text": [
      "MAPE:  0.3496042848041319\n",
      "MAE:  9.799290531684482\n"
     ]
    },
    {
     "name": "stderr",
     "output_type": "stream",
     "text": [
      "\u001b[32m[I 2023-04-02 06:37:52,370]\u001b[0m Trial 76 finished with value: 34.24736163226254 and parameters: {'max_depth': 3, 'learning_rate': 0.03374111122849914, 'n_estimators': 221, 'min_child_weight': 1, 'gamma': 0.06686293309659237, 'subsample': 0.9133555635982662, 'colsample_bytree': 0.7682790893591164}. Best is trial 65 with value: 32.78347262612467.\u001b[0m\n"
     ]
    },
    {
     "name": "stdout",
     "output_type": "stream",
     "text": [
      "MAPE:  0.178841333111695\n",
      "MAE:  3.848234545183245\n"
     ]
    },
    {
     "name": "stderr",
     "output_type": "stream",
     "text": [
      "\u001b[32m[I 2023-04-02 06:40:45,915]\u001b[0m Trial 77 finished with value: 33.89511674522393 and parameters: {'max_depth': 4, 'learning_rate': 0.03982482421426768, 'n_estimators': 214, 'min_child_weight': 2, 'gamma': 0.015430213010027751, 'subsample': 0.5637919880542042, 'colsample_bytree': 0.8462118228245595}. Best is trial 65 with value: 32.78347262612467.\u001b[0m\n"
     ]
    },
    {
     "name": "stdout",
     "output_type": "stream",
     "text": [
      "MAPE:  0.18645227318385713\n",
      "MAE:  3.8837492934492213\n"
     ]
    },
    {
     "name": "stderr",
     "output_type": "stream",
     "text": [
      "\u001b[32m[I 2023-04-02 06:43:20,716]\u001b[0m Trial 78 finished with value: 36.059355914073564 and parameters: {'max_depth': 4, 'learning_rate': 0.060595837616619665, 'n_estimators': 239, 'min_child_weight': 2, 'gamma': 0.0284294758354452, 'subsample': 0.5052575692168549, 'colsample_bytree': 0.5581443480779398}. Best is trial 65 with value: 32.78347262612467.\u001b[0m\n"
     ]
    },
    {
     "name": "stdout",
     "output_type": "stream",
     "text": [
      "MAPE:  0.20183892347685337\n",
      "MAE:  4.042996869594963\n"
     ]
    },
    {
     "name": "stderr",
     "output_type": "stream",
     "text": [
      "\u001b[32m[I 2023-04-02 06:44:33,475]\u001b[0m Trial 79 finished with value: 113.8112870371433 and parameters: {'max_depth': 3, 'learning_rate': 0.02165893001255454, 'n_estimators': 203, 'min_child_weight': 1, 'gamma': 0.004278039678131006, 'subsample': 0.8072111900198774, 'colsample_bytree': 0.04774923573226749}. Best is trial 65 with value: 32.78347262612467.\u001b[0m\n"
     ]
    },
    {
     "name": "stdout",
     "output_type": "stream",
     "text": [
      "MAPE:  0.3186434369890773\n",
      "MAE:  8.50969783780436\n"
     ]
    },
    {
     "name": "stderr",
     "output_type": "stream",
     "text": [
      "\u001b[32m[I 2023-04-02 06:45:41,342]\u001b[0m Trial 80 finished with value: 145.48994921168838 and parameters: {'max_depth': 5, 'learning_rate': 0.05044693046810673, 'n_estimators': 186, 'min_child_weight': 1, 'gamma': 0.12471880842405259, 'subsample': 0.6595410381135608, 'colsample_bytree': 0.01127436105099952}. Best is trial 65 with value: 32.78347262612467.\u001b[0m\n"
     ]
    },
    {
     "name": "stdout",
     "output_type": "stream",
     "text": [
      "MAPE:  0.34956487900800354\n",
      "MAE:  9.740059101786564\n"
     ]
    },
    {
     "name": "stderr",
     "output_type": "stream",
     "text": [
      "\u001b[32m[I 2023-04-02 06:48:04,973]\u001b[0m Trial 81 finished with value: 33.40634636678809 and parameters: {'max_depth': 3, 'learning_rate': 0.07736679615517505, 'n_estimators': 181, 'min_child_weight': 1, 'gamma': 1.3775054717520653e-05, 'subsample': 0.8146953805599555, 'colsample_bytree': 0.987420065524498}. Best is trial 65 with value: 32.78347262612467.\u001b[0m\n"
     ]
    },
    {
     "name": "stdout",
     "output_type": "stream",
     "text": [
      "MAPE:  0.18188579366175103\n",
      "MAE:  3.746182229665537\n"
     ]
    },
    {
     "name": "stderr",
     "output_type": "stream",
     "text": [
      "\u001b[32m[I 2023-04-02 06:50:10,028]\u001b[0m Trial 82 finished with value: 35.21787086992297 and parameters: {'max_depth': 3, 'learning_rate': 0.06207697665302198, 'n_estimators': 178, 'min_child_weight': 1, 'gamma': 1.2874718883396043e-05, 'subsample': 0.972703935892432, 'colsample_bytree': 0.7208207939605458}. Best is trial 65 with value: 32.78347262612467.\u001b[0m\n"
     ]
    },
    {
     "name": "stdout",
     "output_type": "stream",
     "text": [
      "MAPE:  0.1846004162578958\n",
      "MAE:  3.8853306393656464\n"
     ]
    },
    {
     "name": "stderr",
     "output_type": "stream",
     "text": [
      "\u001b[32m[I 2023-04-02 06:52:41,127]\u001b[0m Trial 83 finished with value: 64.16429188360388 and parameters: {'max_depth': 4, 'learning_rate': 0.9469998083600821, 'n_estimators': 165, 'min_child_weight': 2, 'gamma': 3.386458293709439e-05, 'subsample': 0.8431665812361419, 'colsample_bytree': 0.8711539827903263}. Best is trial 65 with value: 32.78347262612467.\u001b[0m\n"
     ]
    },
    {
     "name": "stdout",
     "output_type": "stream",
     "text": [
      "MAPE:  0.721662678593507\n",
      "MAE:  5.363851769615264\n"
     ]
    },
    {
     "name": "stderr",
     "output_type": "stream",
     "text": [
      "\u001b[32m[I 2023-04-02 06:55:36,732]\u001b[0m Trial 84 finished with value: 35.23003607301584 and parameters: {'max_depth': 3, 'learning_rate': 0.01534611639410775, 'n_estimators': 228, 'min_child_weight': 1, 'gamma': 0.001899908628015341, 'subsample': 0.7251321165467219, 'colsample_bytree': 0.9914428319312049}. Best is trial 65 with value: 32.78347262612467.\u001b[0m\n"
     ]
    },
    {
     "name": "stdout",
     "output_type": "stream",
     "text": [
      "MAPE:  0.1775669540174251\n",
      "MAE:  3.8530316214673417\n"
     ]
    },
    {
     "name": "stderr",
     "output_type": "stream",
     "text": [
      "\u001b[32m[I 2023-04-02 06:57:52,753]\u001b[0m Trial 85 finished with value: 33.84999046195438 and parameters: {'max_depth': 3, 'learning_rate': 0.045181656878883945, 'n_estimators': 208, 'min_child_weight': 1, 'gamma': 1.0043770215874173e-05, 'subsample': 0.6057629823700575, 'colsample_bytree': 0.7855574145650563}. Best is trial 65 with value: 32.78347262612467.\u001b[0m\n"
     ]
    },
    {
     "name": "stdout",
     "output_type": "stream",
     "text": [
      "MAPE:  0.18511007794344136\n",
      "MAE:  3.893784184422758\n"
     ]
    },
    {
     "name": "stderr",
     "output_type": "stream",
     "text": [
      "\u001b[32m[I 2023-04-02 07:00:18,068]\u001b[0m Trial 86 finished with value: 35.4081365199573 and parameters: {'max_depth': 4, 'learning_rate': 0.07777177733458214, 'n_estimators': 190, 'min_child_weight': 2, 'gamma': 4.6122053946242896e-05, 'subsample': 0.7039070477000559, 'colsample_bytree': 0.6965084842048824}. Best is trial 65 with value: 32.78347262612467.\u001b[0m\n"
     ]
    },
    {
     "name": "stdout",
     "output_type": "stream",
     "text": [
      "MAPE:  0.1960693465701022\n",
      "MAE:  3.9517058871252826\n"
     ]
    },
    {
     "name": "stderr",
     "output_type": "stream",
     "text": [
      "\u001b[32m[I 2023-04-02 07:03:12,560]\u001b[0m Trial 87 finished with value: 32.7744035694119 and parameters: {'max_depth': 3, 'learning_rate': 0.05312911995135418, 'n_estimators': 257, 'min_child_weight': 1, 'gamma': 0.0058246997072339424, 'subsample': 0.5067512846633844, 'colsample_bytree': 0.9002065871582584}. Best is trial 87 with value: 32.7744035694119.\u001b[0m\n"
     ]
    },
    {
     "name": "stdout",
     "output_type": "stream",
     "text": [
      "MAPE:  0.1832600596206431\n",
      "MAE:  3.79832047454658\n"
     ]
    },
    {
     "name": "stderr",
     "output_type": "stream",
     "text": [
      "\u001b[32m[I 2023-04-02 07:06:45,162]\u001b[0m Trial 88 finished with value: 35.66380693352744 and parameters: {'max_depth': 5, 'learning_rate': 0.054399586179598974, 'n_estimators': 256, 'min_child_weight': 1, 'gamma': 0.006803059259519249, 'subsample': 0.514240844133655, 'colsample_bytree': 0.6667390911595289}. Best is trial 87 with value: 32.7744035694119.\u001b[0m\n"
     ]
    },
    {
     "name": "stdout",
     "output_type": "stream",
     "text": [
      "MAPE:  0.20194172267419755\n",
      "MAE:  4.04378501300222\n"
     ]
    },
    {
     "name": "stderr",
     "output_type": "stream",
     "text": [
      "\u001b[32m[I 2023-04-02 07:09:35,049]\u001b[0m Trial 89 finished with value: 31.773036770770222 and parameters: {'max_depth': 3, 'learning_rate': 0.02800208971630193, 'n_estimators': 271, 'min_child_weight': 2, 'gamma': 0.0023742785873374444, 'subsample': 0.4614362597864522, 'colsample_bytree': 0.785672711414606}. Best is trial 89 with value: 31.773036770770222.\u001b[0m\n"
     ]
    },
    {
     "name": "stdout",
     "output_type": "stream",
     "text": [
      "MAPE:  0.17981410156377614\n",
      "MAE:  3.7981522797000786\n"
     ]
    },
    {
     "name": "stderr",
     "output_type": "stream",
     "text": [
      "\u001b[32m[I 2023-04-02 07:11:59,088]\u001b[0m Trial 90 finished with value: 38.883869827319444 and parameters: {'max_depth': 3, 'learning_rate': 0.11511932999897982, 'n_estimators': 268, 'min_child_weight': 3, 'gamma': 0.004998556039847627, 'subsample': 0.4859329275487585, 'colsample_bytree': 0.5298777887802777}. Best is trial 89 with value: 31.773036770770222.\u001b[0m\n"
     ]
    },
    {
     "name": "stdout",
     "output_type": "stream",
     "text": [
      "MAPE:  0.22487868021232257\n",
      "MAE:  4.288788297100279\n"
     ]
    },
    {
     "name": "stderr",
     "output_type": "stream",
     "text": [
      "\u001b[32m[I 2023-04-02 07:14:51,490]\u001b[0m Trial 91 finished with value: 32.25948823004446 and parameters: {'max_depth': 3, 'learning_rate': 0.026034788547673566, 'n_estimators': 263, 'min_child_weight': 2, 'gamma': 0.0022155206589153757, 'subsample': 0.430845614464691, 'colsample_bytree': 0.8950992971585376}. Best is trial 89 with value: 31.773036770770222.\u001b[0m\n"
     ]
    },
    {
     "name": "stdout",
     "output_type": "stream",
     "text": [
      "MAPE:  0.17856682638744945\n",
      "MAE:  3.8112863224177134\n"
     ]
    },
    {
     "name": "stderr",
     "output_type": "stream",
     "text": [
      "\u001b[32m[I 2023-04-02 07:17:45,598]\u001b[0m Trial 92 finished with value: 32.821666472988454 and parameters: {'max_depth': 3, 'learning_rate': 0.036596582651880157, 'n_estimators': 271, 'min_child_weight': 2, 'gamma': 0.0019382332414709204, 'subsample': 0.5450798275323765, 'colsample_bytree': 0.7848104844940365}. Best is trial 89 with value: 31.773036770770222.\u001b[0m\n"
     ]
    },
    {
     "name": "stdout",
     "output_type": "stream",
     "text": [
      "MAPE:  0.1831773217271287\n",
      "MAE:  3.813470681252145\n"
     ]
    },
    {
     "name": "stderr",
     "output_type": "stream",
     "text": [
      "\u001b[32m[I 2023-04-02 07:20:53,584]\u001b[0m Trial 93 finished with value: 31.996537000515495 and parameters: {'max_depth': 3, 'learning_rate': 0.025152528893516227, 'n_estimators': 286, 'min_child_weight': 2, 'gamma': 0.0020003322093466577, 'subsample': 0.4342005849124019, 'colsample_bytree': 0.8792970010087182}. Best is trial 89 with value: 31.773036770770222.\u001b[0m\n"
     ]
    },
    {
     "name": "stdout",
     "output_type": "stream",
     "text": [
      "MAPE:  0.17915963519983846\n",
      "MAE:  3.7940448278354273\n"
     ]
    },
    {
     "name": "stderr",
     "output_type": "stream",
     "text": [
      "\u001b[32m[I 2023-04-02 07:23:55,036]\u001b[0m Trial 94 finished with value: 32.650584490600714 and parameters: {'max_depth': 3, 'learning_rate': 0.035908017195922126, 'n_estimators': 280, 'min_child_weight': 3, 'gamma': 0.0025157234173046644, 'subsample': 0.42258382008322154, 'colsample_bytree': 0.887342134913838}. Best is trial 89 with value: 31.773036770770222.\u001b[0m\n"
     ]
    },
    {
     "name": "stdout",
     "output_type": "stream",
     "text": [
      "MAPE:  0.1844668284692097\n",
      "MAE:  3.8462377135006207\n"
     ]
    },
    {
     "name": "stderr",
     "output_type": "stream",
     "text": [
      "\u001b[32m[I 2023-04-02 07:26:56,897]\u001b[0m Trial 95 finished with value: 32.22259074223933 and parameters: {'max_depth': 3, 'learning_rate': 0.026118101571499717, 'n_estimators': 289, 'min_child_weight': 3, 'gamma': 0.0010856108244699555, 'subsample': 0.4640439500884123, 'colsample_bytree': 0.7933773119440649}. Best is trial 89 with value: 31.773036770770222.\u001b[0m\n"
     ]
    },
    {
     "name": "stdout",
     "output_type": "stream",
     "text": [
      "MAPE:  0.1813541173003017\n",
      "MAE:  3.8394999455404344\n"
     ]
    },
    {
     "name": "stderr",
     "output_type": "stream",
     "text": [
      "\u001b[32m[I 2023-04-02 07:29:19,597]\u001b[0m Trial 96 finished with value: 34.62496752988836 and parameters: {'max_depth': 3, 'learning_rate': 0.026477442794595043, 'n_estimators': 285, 'min_child_weight': 3, 'gamma': 0.0012210026592017222, 'subsample': 0.46139133699245216, 'colsample_bytree': 0.42860552307435634}. Best is trial 89 with value: 31.773036770770222.\u001b[0m\n"
     ]
    },
    {
     "name": "stdout",
     "output_type": "stream",
     "text": [
      "MAPE:  0.19706876656455571\n",
      "MAE:  4.1412629983806735\n"
     ]
    },
    {
     "name": "stderr",
     "output_type": "stream",
     "text": [
      "\u001b[32m[I 2023-04-02 07:32:17,146]\u001b[0m Trial 97 finished with value: 32.917727350698726 and parameters: {'max_depth': 3, 'learning_rate': 0.01839217772384289, 'n_estimators': 288, 'min_child_weight': 3, 'gamma': 0.0021686762686843864, 'subsample': 0.4223651053395217, 'colsample_bytree': 0.787404849020451}. Best is trial 89 with value: 31.773036770770222.\u001b[0m\n"
     ]
    },
    {
     "name": "stdout",
     "output_type": "stream",
     "text": [
      "MAPE:  0.17972319406602522\n",
      "MAE:  3.8540208299678786\n"
     ]
    },
    {
     "name": "stderr",
     "output_type": "stream",
     "text": [
      "\u001b[32m[I 2023-04-02 07:35:00,748]\u001b[0m Trial 98 finished with value: 37.723647343954994 and parameters: {'max_depth': 3, 'learning_rate': 0.012331208783469137, 'n_estimators': 299, 'min_child_weight': 4, 'gamma': 0.0025535468158333994, 'subsample': 0.42927349519917213, 'colsample_bytree': 0.573235065993113}. Best is trial 89 with value: 31.773036770770222.\u001b[0m\n"
     ]
    },
    {
     "name": "stdout",
     "output_type": "stream",
     "text": [
      "MAPE:  0.1957276688819859\n",
      "MAE:  4.225926747811692\n"
     ]
    },
    {
     "name": "stderr",
     "output_type": "stream",
     "text": [
      "\u001b[32m[I 2023-04-02 07:37:42,786]\u001b[0m Trial 99 finished with value: 33.07706137181969 and parameters: {'max_depth': 3, 'learning_rate': 0.019443186774247508, 'n_estimators': 268, 'min_child_weight': 3, 'gamma': 0.00236001529953444, 'subsample': 0.37033300774171407, 'colsample_bytree': 0.7831247593603602}. Best is trial 89 with value: 31.773036770770222.\u001b[0m\n"
     ]
    },
    {
     "name": "stdout",
     "output_type": "stream",
     "text": [
      "MAPE:  0.18027484967999519\n",
      "MAE:  3.868500140549802\n"
     ]
    },
    {
     "name": "stderr",
     "output_type": "stream",
     "text": [
      "\u001b[32m[I 2023-04-02 07:40:37,166]\u001b[0m A new study created in memory with name: no-name-13f1a027-7a71-4327-9035-7e204f655014\u001b[0m\n",
      "\u001b[32m[I 2023-04-02 07:41:38,796]\u001b[0m Trial 0 finished with value: 205.36687295588393 and parameters: {'max_depth': 8, 'learning_rate': 0.015729493385757597, 'n_estimators': 158, 'min_child_weight': 10, 'gamma': 0.022803777012070123, 'subsample': 0.048226671880575424, 'colsample_bytree': 0.1275066056955756}. Best is trial 0 with value: 205.36687295588393.\u001b[0m\n"
     ]
    },
    {
     "name": "stdout",
     "output_type": "stream",
     "text": [
      "MAPE:  0.4047743709909214\n",
      "MAE:  11.0002461633985\n"
     ]
    },
    {
     "name": "stderr",
     "output_type": "stream",
     "text": [
      "\u001b[32m[I 2023-04-02 07:42:50,093]\u001b[0m Trial 1 finished with value: 205.37771531936426 and parameters: {'max_depth': 6, 'learning_rate': 0.015169560462467637, 'n_estimators': 169, 'min_child_weight': 1, 'gamma': 0.07154283705483552, 'subsample': 0.36186176237476864, 'colsample_bytree': 0.02108610127162118}. Best is trial 0 with value: 205.36687295588393.\u001b[0m\n"
     ]
    },
    {
     "name": "stdout",
     "output_type": "stream",
     "text": [
      "MAPE:  0.4048002163803035\n",
      "MAE:  11.138366956795965\n"
     ]
    },
    {
     "name": "stderr",
     "output_type": "stream",
     "text": [
      "\u001b[32m[I 2023-04-02 07:44:46,078]\u001b[0m Trial 2 finished with value: 137.49607867311175 and parameters: {'max_depth': 9, 'learning_rate': 0.04476498698645614, 'n_estimators': 288, 'min_child_weight': 6, 'gamma': 0.008455075587517267, 'subsample': 0.04412818138530241, 'colsample_bytree': 0.1698569839781208}. Best is trial 2 with value: 137.49607867311175.\u001b[0m\n"
     ]
    },
    {
     "name": "stdout",
     "output_type": "stream",
     "text": [
      "MAPE:  0.3360002164163925\n",
      "MAE:  8.27519824923504\n"
     ]
    },
    {
     "name": "stderr",
     "output_type": "stream",
     "text": [
      "\u001b[32m[I 2023-04-02 07:45:47,891]\u001b[0m Trial 3 finished with value: 131.34048805274657 and parameters: {'max_depth': 2, 'learning_rate': 0.09771672663129928, 'n_estimators': 143, 'min_child_weight': 5, 'gamma': 0.007888459379423467, 'subsample': 0.03104135938070188, 'colsample_bytree': 0.2729350481793945}. Best is trial 3 with value: 131.34048805274657.\u001b[0m\n"
     ]
    },
    {
     "name": "stdout",
     "output_type": "stream",
     "text": [
      "MAPE:  0.3251319359277484\n",
      "MAE:  8.297532756098363\n"
     ]
    },
    {
     "name": "stderr",
     "output_type": "stream",
     "text": [
      "\u001b[32m[I 2023-04-02 07:47:35,180]\u001b[0m Trial 4 finished with value: 325.4609474338331 and parameters: {'max_depth': 9, 'learning_rate': 0.617150606028131, 'n_estimators': 210, 'min_child_weight': 8, 'gamma': 0.1637822317487199, 'subsample': 0.20054415630523223, 'colsample_bytree': 0.17209407025111156}. Best is trial 3 with value: 131.34048805274657.\u001b[0m\n"
     ]
    },
    {
     "name": "stdout",
     "output_type": "stream",
     "text": [
      "MAPE:  2.2781838086384054\n",
      "MAE:  13.107619033497512\n"
     ]
    },
    {
     "name": "stderr",
     "output_type": "stream",
     "text": [
      "\u001b[32m[I 2023-04-02 07:49:00,278]\u001b[0m Trial 5 finished with value: 256.3964154901603 and parameters: {'max_depth': 5, 'learning_rate': 0.20725146511112258, 'n_estimators': 220, 'min_child_weight': 9, 'gamma': 1.3560505106637501e-05, 'subsample': 0.0135900857947273, 'colsample_bytree': 0.2152797037642388}. Best is trial 3 with value: 131.34048805274657.\u001b[0m\n"
     ]
    },
    {
     "name": "stdout",
     "output_type": "stream",
     "text": [
      "MAPE:  0.4373436831051387\n",
      "MAE:  12.855445849832403\n"
     ]
    },
    {
     "name": "stderr",
     "output_type": "stream",
     "text": [
      "\u001b[32m[I 2023-04-02 07:49:21,845]\u001b[0m Trial 6 finished with value: 160.79962250280875 and parameters: {'max_depth': 8, 'learning_rate': 0.5481244326380971, 'n_estimators': 36, 'min_child_weight': 1, 'gamma': 1.29482290317612e-05, 'subsample': 0.43016950846570623, 'colsample_bytree': 0.019800656039707404}. Best is trial 3 with value: 131.34048805274657.\u001b[0m\n"
     ]
    },
    {
     "name": "stdout",
     "output_type": "stream",
     "text": [
      "MAPE:  0.841887786393136\n",
      "MAE:  9.253573659144678\n"
     ]
    },
    {
     "name": "stderr",
     "output_type": "stream",
     "text": [
      "\u001b[32m[I 2023-04-02 07:50:10,843]\u001b[0m Trial 7 finished with value: 176.87792879711623 and parameters: {'max_depth': 7, 'learning_rate': 0.25283324895033815, 'n_estimators': 130, 'min_child_weight': 6, 'gamma': 5.923152651345375e-05, 'subsample': 0.025473971779509903, 'colsample_bytree': 0.014465212906563645}. Best is trial 3 with value: 131.34048805274657.\u001b[0m\n"
     ]
    },
    {
     "name": "stdout",
     "output_type": "stream",
     "text": [
      "MAPE:  0.3893175387081167\n",
      "MAE:  9.948633087690546\n"
     ]
    },
    {
     "name": "stderr",
     "output_type": "stream",
     "text": [
      "\u001b[32m[I 2023-04-02 07:51:52,951]\u001b[0m Trial 8 finished with value: 253.92061090393838 and parameters: {'max_depth': 9, 'learning_rate': 0.24174856850313933, 'n_estimators': 275, 'min_child_weight': 9, 'gamma': 0.016984003973747937, 'subsample': 0.014987859800883671, 'colsample_bytree': 0.15472156227710263}. Best is trial 3 with value: 131.34048805274657.\u001b[0m\n"
     ]
    },
    {
     "name": "stdout",
     "output_type": "stream",
     "text": [
      "MAPE:  0.43851371256098726\n",
      "MAE:  12.759791236075143\n"
     ]
    },
    {
     "name": "stderr",
     "output_type": "stream",
     "text": [
      "\u001b[32m[I 2023-04-02 07:52:59,488]\u001b[0m Trial 9 finished with value: 206.6303803156472 and parameters: {'max_depth': 6, 'learning_rate': 0.02029670633381599, 'n_estimators': 159, 'min_child_weight': 2, 'gamma': 0.788303205899295, 'subsample': 0.8429848645332151, 'colsample_bytree': 0.014629395487446658}. Best is trial 3 with value: 131.34048805274657.\u001b[0m\n"
     ]
    },
    {
     "name": "stdout",
     "output_type": "stream",
     "text": [
      "MAPE:  0.40215443971479076\n",
      "MAE:  11.468195244433387\n"
     ]
    },
    {
     "name": "stderr",
     "output_type": "stream",
     "text": [
      "\u001b[32m[I 2023-04-02 07:53:29,505]\u001b[0m Trial 10 finished with value: 175.22287338283382 and parameters: {'max_depth': 1, 'learning_rate': 0.07528992918134207, 'n_estimators': 69, 'min_child_weight': 4, 'gamma': 0.0005628718647311687, 'subsample': 0.08577972699941162, 'colsample_bytree': 0.05305576445770102}. Best is trial 3 with value: 131.34048805274657.\u001b[0m\n"
     ]
    },
    {
     "name": "stdout",
     "output_type": "stream",
     "text": [
      "MAPE:  0.3696533052473428\n",
      "MAE:  10.133123990562227\n"
     ]
    },
    {
     "name": "stderr",
     "output_type": "stream",
     "text": [
      "\u001b[32m[I 2023-04-02 07:56:00,344]\u001b[0m Trial 11 finished with value: 131.25766899059352 and parameters: {'max_depth': 2, 'learning_rate': 0.05264370386658483, 'n_estimators': 297, 'min_child_weight': 6, 'gamma': 0.002054878096710711, 'subsample': 0.04771037545392435, 'colsample_bytree': 0.7296362942879402}. Best is trial 11 with value: 131.25766899059352.\u001b[0m\n"
     ]
    },
    {
     "name": "stdout",
     "output_type": "stream",
     "text": [
      "MAPE:  0.31897616669135914\n",
      "MAE:  7.721087545156479\n"
     ]
    },
    {
     "name": "stderr",
     "output_type": "stream",
     "text": [
      "\u001b[32m[I 2023-04-02 07:56:59,681]\u001b[0m Trial 12 finished with value: 117.67684222366539 and parameters: {'max_depth': 2, 'learning_rate': 0.04093221239627751, 'n_estimators': 97, 'min_child_weight': 4, 'gamma': 0.0010222799539209549, 'subsample': 0.08928880104691254, 'colsample_bytree': 0.8727715101089022}. Best is trial 12 with value: 117.67684222366539.\u001b[0m\n"
     ]
    },
    {
     "name": "stdout",
     "output_type": "stream",
     "text": [
      "MAPE:  0.30376242438525486\n",
      "MAE:  7.084677839287059\n"
     ]
    },
    {
     "name": "stderr",
     "output_type": "stream",
     "text": [
      "\u001b[32m[I 2023-04-02 07:57:59,356]\u001b[0m Trial 13 finished with value: 118.71454437981775 and parameters: {'max_depth': 3, 'learning_rate': 0.03570277795194753, 'n_estimators': 80, 'min_child_weight': 4, 'gamma': 0.000813510152422422, 'subsample': 0.111138754890472, 'colsample_bytree': 0.9461635559538739}. Best is trial 12 with value: 117.67684222366539.\u001b[0m\n"
     ]
    },
    {
     "name": "stdout",
     "output_type": "stream",
     "text": [
      "MAPE:  0.32668625419335573\n",
      "MAE:  7.179837972930972\n"
     ]
    },
    {
     "name": "stderr",
     "output_type": "stream",
     "text": [
      "\u001b[32m[I 2023-04-02 07:59:11,191]\u001b[0m Trial 14 finished with value: 116.50873769847016 and parameters: {'max_depth': 4, 'learning_rate': 0.030724109705851058, 'n_estimators': 88, 'min_child_weight': 3, 'gamma': 0.0004837202990863671, 'subsample': 0.11634818315233796, 'colsample_bytree': 0.9120934796275001}. Best is trial 14 with value: 116.50873769847016.\u001b[0m\n"
     ]
    },
    {
     "name": "stdout",
     "output_type": "stream",
     "text": [
      "MAPE:  0.3322250631623571\n",
      "MAE:  7.0678349770211355\n"
     ]
    },
    {
     "name": "stderr",
     "output_type": "stream",
     "text": [
      "\u001b[32m[I 2023-04-02 08:00:12,393]\u001b[0m Trial 15 finished with value: 124.51774774923307 and parameters: {'max_depth': 4, 'learning_rate': 0.026006180113727184, 'n_estimators': 96, 'min_child_weight': 3, 'gamma': 0.00018489359001214618, 'subsample': 0.12110893607578908, 'colsample_bytree': 0.4640663118055221}. Best is trial 14 with value: 116.50873769847016.\u001b[0m\n"
     ]
    },
    {
     "name": "stdout",
     "output_type": "stream",
     "text": [
      "MAPE:  0.3526020506588383\n",
      "MAE:  7.575353007034335\n"
     ]
    },
    {
     "name": "stderr",
     "output_type": "stream",
     "text": [
      "\u001b[32m[I 2023-04-02 08:00:34,322]\u001b[0m Trial 16 finished with value: 126.35099957978696 and parameters: {'max_depth': 4, 'learning_rate': 0.12180772075370504, 'n_estimators': 28, 'min_child_weight': 3, 'gamma': 0.0002599626406452586, 'subsample': 0.1733880256172771, 'colsample_bytree': 0.35332963445704024}. Best is trial 14 with value: 116.50873769847016.\u001b[0m\n"
     ]
    },
    {
     "name": "stdout",
     "output_type": "stream",
     "text": [
      "MAPE:  0.35047602363118974\n",
      "MAE:  7.435964020747671\n"
     ]
    },
    {
     "name": "stderr",
     "output_type": "stream",
     "text": [
      "\u001b[32m[I 2023-04-02 08:01:18,339]\u001b[0m Trial 17 finished with value: 205.8089216295348 and parameters: {'max_depth': 1, 'learning_rate': 0.011932145047085318, 'n_estimators': 110, 'min_child_weight': 4, 'gamma': 0.0022140085756861593, 'subsample': 0.07500531150949884, 'colsample_bytree': 0.0619069115966032}. Best is trial 14 with value: 116.50873769847016.\u001b[0m\n"
     ]
    },
    {
     "name": "stdout",
     "output_type": "stream",
     "text": [
      "MAPE:  0.4659622107406436\n",
      "MAE:  10.026467805422802\n"
     ]
    },
    {
     "name": "stderr",
     "output_type": "stream",
     "text": [
      "\u001b[32m[I 2023-04-02 08:01:57,550]\u001b[0m Trial 18 finished with value: 138.26408985430993 and parameters: {'max_depth': 3, 'learning_rate': 0.032430664933721376, 'n_estimators': 56, 'min_child_weight': 2, 'gamma': 7.805241216034904e-05, 'subsample': 0.24701049901394798, 'colsample_bytree': 0.5473163596322866}. Best is trial 14 with value: 116.50873769847016.\u001b[0m\n"
     ]
    },
    {
     "name": "stdout",
     "output_type": "stream",
     "text": [
      "MAPE:  0.4092439870697037\n",
      "MAE:  7.8773593486498585\n"
     ]
    },
    {
     "name": "stderr",
     "output_type": "stream",
     "text": [
      "\u001b[32m[I 2023-04-02 08:02:16,459]\u001b[0m Trial 19 finished with value: 220.25447328400108 and parameters: {'max_depth': 4, 'learning_rate': 0.06382745878231649, 'n_estimators': 13, 'min_child_weight': 7, 'gamma': 0.001278438684890424, 'subsample': 0.637269926709555, 'colsample_bytree': 0.8910453757931337}. Best is trial 14 with value: 116.50873769847016.\u001b[0m\n"
     ]
    },
    {
     "name": "stdout",
     "output_type": "stream",
     "text": [
      "MAPE:  0.7914853758240876\n",
      "MAE:  10.667450853993023\n"
     ]
    },
    {
     "name": "stderr",
     "output_type": "stream",
     "text": [
      "\u001b[32m[I 2023-04-02 08:03:33,421]\u001b[0m Trial 20 finished with value: 181.12081035969743 and parameters: {'max_depth': 2, 'learning_rate': 0.010188679900369398, 'n_estimators': 193, 'min_child_weight': 5, 'gamma': 9.72735609595642e-05, 'subsample': 0.06282834201516352, 'colsample_bytree': 0.07956477203070235}. Best is trial 14 with value: 116.50873769847016.\u001b[0m\n"
     ]
    },
    {
     "name": "stdout",
     "output_type": "stream",
     "text": [
      "MAPE:  0.4028379314153756\n",
      "MAE:  9.49207598467668\n"
     ]
    },
    {
     "name": "stderr",
     "output_type": "stream",
     "text": [
      "\u001b[32m[I 2023-04-02 08:04:36,751]\u001b[0m Trial 21 finished with value: 114.92675546906003 and parameters: {'max_depth': 3, 'learning_rate': 0.03843835812140981, 'n_estimators': 85, 'min_child_weight': 4, 'gamma': 0.0005954088407164129, 'subsample': 0.11620152510681572, 'colsample_bytree': 0.9140770069942444}. Best is trial 21 with value: 114.92675546906003.\u001b[0m\n"
     ]
    },
    {
     "name": "stdout",
     "output_type": "stream",
     "text": [
      "MAPE:  0.31359429960887175\n",
      "MAE:  7.0655363655634345\n"
     ]
    },
    {
     "name": "stderr",
     "output_type": "stream",
     "text": [
      "\u001b[32m[I 2023-04-02 08:05:44,621]\u001b[0m Trial 22 finished with value: 117.88450105263607 and parameters: {'max_depth': 3, 'learning_rate': 0.024543143838674557, 'n_estimators': 112, 'min_child_weight': 3, 'gamma': 0.0003836262252102823, 'subsample': 0.12921474198292376, 'colsample_bytree': 0.5406313457650698}. Best is trial 21 with value: 114.92675546906003.\u001b[0m\n"
     ]
    },
    {
     "name": "stdout",
     "output_type": "stream",
     "text": [
      "MAPE:  0.3339171862704805\n",
      "MAE:  7.3325734355698815\n"
     ]
    },
    {
     "name": "stderr",
     "output_type": "stream",
     "text": [
      "\u001b[32m[I 2023-04-02 08:06:24,062]\u001b[0m Trial 23 finished with value: 130.955984852355 and parameters: {'max_depth': 5, 'learning_rate': 0.03931406964059797, 'n_estimators': 54, 'min_child_weight': 4, 'gamma': 0.004011858229355584, 'subsample': 0.2457681368747698, 'colsample_bytree': 0.3669329777367256}. Best is trial 21 with value: 114.92675546906003.\u001b[0m\n"
     ]
    },
    {
     "name": "stdout",
     "output_type": "stream",
     "text": [
      "MAPE:  0.3710288957923961\n",
      "MAE:  7.693533410510374\n"
     ]
    },
    {
     "name": "stderr",
     "output_type": "stream",
     "text": [
      "\u001b[32m[I 2023-04-02 08:07:21,546]\u001b[0m Trial 24 finished with value: 125.10230563006446 and parameters: {'max_depth': 3, 'learning_rate': 0.12394396068765233, 'n_estimators': 85, 'min_child_weight': 2, 'gamma': 3.2854002836423344e-05, 'subsample': 0.16336208648565728, 'colsample_bytree': 0.6714436681770758}. Best is trial 21 with value: 114.92675546906003.\u001b[0m\n"
     ]
    },
    {
     "name": "stdout",
     "output_type": "stream",
     "text": [
      "MAPE:  0.3258210693271219\n",
      "MAE:  7.214330378762155\n"
     ]
    },
    {
     "name": "stderr",
     "output_type": "stream",
     "text": [
      "\u001b[32m[I 2023-04-02 08:08:50,072]\u001b[0m Trial 25 finished with value: 128.47122958398307 and parameters: {'max_depth': 5, 'learning_rate': 0.08163592544235251, 'n_estimators': 110, 'min_child_weight': 5, 'gamma': 0.0008543598132580388, 'subsample': 0.09289572001681197, 'colsample_bytree': 0.9651748485829158}. Best is trial 21 with value: 114.92675546906003.\u001b[0m\n"
     ]
    },
    {
     "name": "stdout",
     "output_type": "stream",
     "text": [
      "MAPE:  0.31338509222446326\n",
      "MAE:  7.314529214803346\n"
     ]
    },
    {
     "name": "stderr",
     "output_type": "stream",
     "text": [
      "\u001b[32m[I 2023-04-02 08:09:57,742]\u001b[0m Trial 26 finished with value: 114.64240558109957 and parameters: {'max_depth': 2, 'learning_rate': 0.056989530905927815, 'n_estimators': 129, 'min_child_weight': 3, 'gamma': 0.00017534223001222003, 'subsample': 0.37137700195751555, 'colsample_bytree': 0.4077345829701377}. Best is trial 26 with value: 114.64240558109957.\u001b[0m\n"
     ]
    },
    {
     "name": "stdout",
     "output_type": "stream",
     "text": [
      "MAPE:  0.3147389287741495\n",
      "MAE:  7.193196427372713\n"
     ]
    },
    {
     "name": "stderr",
     "output_type": "stream",
     "text": [
      "\u001b[32m[I 2023-04-02 08:10:55,837]\u001b[0m Trial 27 finished with value: 112.58795515025257 and parameters: {'max_depth': 1, 'learning_rate': 0.06102557166444457, 'n_estimators': 130, 'min_child_weight': 3, 'gamma': 0.00022180328794585866, 'subsample': 0.4042907288469652, 'colsample_bytree': 0.3489586041394399}. Best is trial 27 with value: 112.58795515025257.\u001b[0m\n"
     ]
    },
    {
     "name": "stdout",
     "output_type": "stream",
     "text": [
      "MAPE:  0.3217275725253593\n",
      "MAE:  7.476271926174088\n"
     ]
    },
    {
     "name": "stderr",
     "output_type": "stream",
     "text": [
      "\u001b[32m[I 2023-04-02 08:11:51,977]\u001b[0m Trial 28 finished with value: 116.42845961704685 and parameters: {'max_depth': 1, 'learning_rate': 0.14921536761393722, 'n_estimators': 130, 'min_child_weight': 2, 'gamma': 0.0001684746109280499, 'subsample': 0.4050323437343964, 'colsample_bytree': 0.2627794663654924}. Best is trial 27 with value: 112.58795515025257.\u001b[0m\n"
     ]
    },
    {
     "name": "stdout",
     "output_type": "stream",
     "text": [
      "MAPE:  0.3163441555700744\n",
      "MAE:  7.29467385118364\n"
     ]
    },
    {
     "name": "stderr",
     "output_type": "stream",
     "text": [
      "\u001b[32m[I 2023-04-02 08:13:01,480]\u001b[0m Trial 29 finished with value: 127.31565506184931 and parameters: {'max_depth': 1, 'learning_rate': 0.05822933320312883, 'n_estimators': 175, 'min_child_weight': 1, 'gamma': 4.3798897630188566e-05, 'subsample': 0.5770818269913855, 'colsample_bytree': 0.11236502485287153}. Best is trial 27 with value: 112.58795515025257.\u001b[0m\n"
     ]
    },
    {
     "name": "stdout",
     "output_type": "stream",
     "text": [
      "MAPE:  0.3529279970470301\n",
      "MAE:  8.410664698946729\n"
     ]
    },
    {
     "name": "stderr",
     "output_type": "stream",
     "text": [
      "\u001b[32m[I 2023-04-02 08:14:18,485]\u001b[0m Trial 30 finished with value: 138.59258010802364 and parameters: {'max_depth': 2, 'learning_rate': 0.3843491111751282, 'n_estimators': 141, 'min_child_weight': 3, 'gamma': 0.0001419531136881775, 'subsample': 0.9206044288631224, 'colsample_bytree': 0.3805898079697523}. Best is trial 27 with value: 112.58795515025257.\u001b[0m\n"
     ]
    },
    {
     "name": "stdout",
     "output_type": "stream",
     "text": [
      "MAPE:  0.6510856476223569\n",
      "MAE:  7.796746762942464\n"
     ]
    },
    {
     "name": "stderr",
     "output_type": "stream",
     "text": [
      "\u001b[32m[I 2023-04-02 08:15:14,178]\u001b[0m Trial 31 finished with value: 117.7891989804326 and parameters: {'max_depth': 1, 'learning_rate': 0.1548251895397523, 'n_estimators': 128, 'min_child_weight': 2, 'gamma': 0.0002261441299997319, 'subsample': 0.3811679938798072, 'colsample_bytree': 0.26604090902813404}. Best is trial 27 with value: 112.58795515025257.\u001b[0m\n"
     ]
    },
    {
     "name": "stdout",
     "output_type": "stream",
     "text": [
      "MAPE:  0.3173134262001181\n",
      "MAE:  7.364751805664685\n"
     ]
    },
    {
     "name": "stderr",
     "output_type": "stream",
     "text": [
      "\u001b[32m[I 2023-04-02 08:16:28,035]\u001b[0m Trial 32 finished with value: 181.7215187562914 and parameters: {'max_depth': 1, 'learning_rate': 0.9298176270547477, 'n_estimators': 177, 'min_child_weight': 2, 'gamma': 0.00012967375514815846, 'subsample': 0.27027924232653056, 'colsample_bytree': 0.268098265168642}. Best is trial 27 with value: 112.58795515025257.\u001b[0m\n"
     ]
    },
    {
     "name": "stdout",
     "output_type": "stream",
     "text": [
      "MAPE:  0.6809910754240978\n",
      "MAE:  9.358126859493535\n"
     ]
    },
    {
     "name": "stderr",
     "output_type": "stream",
     "text": [
      "\u001b[32m[I 2023-04-02 08:17:53,089]\u001b[0m Trial 33 finished with value: 128.5167783437703 and parameters: {'max_depth': 2, 'learning_rate': 0.1675054082730812, 'n_estimators': 151, 'min_child_weight': 1, 'gamma': 2.759011726340248e-05, 'subsample': 0.5320878358832771, 'colsample_bytree': 0.5087722933173363}. Best is trial 27 with value: 112.58795515025257.\u001b[0m\n"
     ]
    },
    {
     "name": "stdout",
     "output_type": "stream",
     "text": [
      "MAPE:  0.32652367978065117\n",
      "MAE:  7.366629077239879\n"
     ]
    },
    {
     "name": "stderr",
     "output_type": "stream",
     "text": [
      "\u001b[32m[I 2023-04-02 08:18:46,903]\u001b[0m Trial 34 finished with value: 115.91680598623219 and parameters: {'max_depth': 1, 'learning_rate': 0.09920523816609199, 'n_estimators': 126, 'min_child_weight': 3, 'gamma': 0.0003252648963247162, 'subsample': 0.32365262584101134, 'colsample_bytree': 0.21978170798615354}. Best is trial 27 with value: 112.58795515025257.\u001b[0m\n"
     ]
    },
    {
     "name": "stdout",
     "output_type": "stream",
     "text": [
      "MAPE:  0.32519879874860386\n",
      "MAE:  7.566455573553131\n"
     ]
    },
    {
     "name": "stderr",
     "output_type": "stream",
     "text": [
      "\u001b[32m[I 2023-04-02 08:19:47,341]\u001b[0m Trial 35 finished with value: 120.64523812526565 and parameters: {'max_depth': 3, 'learning_rate': 0.09537362210255665, 'n_estimators': 118, 'min_child_weight': 5, 'gamma': 0.004698513498041179, 'subsample': 0.30089319982285456, 'colsample_bytree': 0.19847195351761546}. Best is trial 27 with value: 112.58795515025257.\u001b[0m\n"
     ]
    },
    {
     "name": "stdout",
     "output_type": "stream",
     "text": [
      "MAPE:  0.331511862537295\n",
      "MAE:  7.541682474039219\n"
     ]
    },
    {
     "name": "stderr",
     "output_type": "stream",
     "text": [
      "\u001b[32m[I 2023-04-02 08:21:55,273]\u001b[0m Trial 36 finished with value: 111.37757278401018 and parameters: {'max_depth': 2, 'learning_rate': 0.017483020283306974, 'n_estimators': 246, 'min_child_weight': 3, 'gamma': 0.0003953297722336065, 'subsample': 0.7297322895381073, 'colsample_bytree': 0.3801448151626671}. Best is trial 36 with value: 111.37757278401018.\u001b[0m\n"
     ]
    },
    {
     "name": "stdout",
     "output_type": "stream",
     "text": [
      "MAPE:  0.3153904379917145\n",
      "MAE:  7.354376598877251\n"
     ]
    },
    {
     "name": "stderr",
     "output_type": "stream",
     "text": [
      "\u001b[32m[I 2023-04-02 08:23:51,858]\u001b[0m Trial 37 finished with value: 123.34386354342207 and parameters: {'max_depth': 2, 'learning_rate': 0.016561351033220355, 'n_estimators': 271, 'min_child_weight': 4, 'gamma': 0.001494989397970263, 'subsample': 0.8168033013257356, 'colsample_bytree': 0.13733707459043515}. Best is trial 36 with value: 111.37757278401018.\u001b[0m\n"
     ]
    },
    {
     "name": "stdout",
     "output_type": "stream",
     "text": [
      "MAPE:  0.33441384272002517\n",
      "MAE:  8.190519441727293\n"
     ]
    },
    {
     "name": "stderr",
     "output_type": "stream",
     "text": [
      "\u001b[32m[I 2023-04-02 08:26:16,702]\u001b[0m Trial 38 finished with value: 107.04391478044278 and parameters: {'max_depth': 2, 'learning_rate': 0.016595827673879383, 'n_estimators': 251, 'min_child_weight': 5, 'gamma': 1.820919806993528e-05, 'subsample': 0.4782658195645618, 'colsample_bytree': 0.6355139462093677}. Best is trial 38 with value: 107.04391478044278.\u001b[0m\n"
     ]
    },
    {
     "name": "stdout",
     "output_type": "stream",
     "text": [
      "MAPE:  0.29587664274698455\n",
      "MAE:  6.878562434285722\n"
     ]
    },
    {
     "name": "stderr",
     "output_type": "stream",
     "text": [
      "\u001b[32m[I 2023-04-02 08:27:48,050]\u001b[0m Trial 39 finished with value: 180.2226143958554 and parameters: {'max_depth': 2, 'learning_rate': 0.015475551575103918, 'n_estimators': 234, 'min_child_weight': 7, 'gamma': 1.0117375926181814e-05, 'subsample': 0.7133096207126477, 'colsample_bytree': 0.03780365674147495}. Best is trial 38 with value: 107.04391478044278.\u001b[0m\n"
     ]
    },
    {
     "name": "stdout",
     "output_type": "stream",
     "text": [
      "MAPE:  0.3805988298198683\n",
      "MAE:  10.52763956075623\n"
     ]
    },
    {
     "name": "stderr",
     "output_type": "stream",
     "text": [
      "\u001b[32m[I 2023-04-02 08:29:53,567]\u001b[0m Trial 40 finished with value: 112.79560171623702 and parameters: {'max_depth': 2, 'learning_rate': 0.020289625066873575, 'n_estimators': 245, 'min_child_weight': 10, 'gamma': 2.0878721358900428e-05, 'subsample': 0.48227984585156497, 'colsample_bytree': 0.4036375426143765}. Best is trial 38 with value: 107.04391478044278.\u001b[0m\n"
     ]
    },
    {
     "name": "stdout",
     "output_type": "stream",
     "text": [
      "MAPE:  0.30973976768000866\n",
      "MAE:  7.220635985295293\n"
     ]
    },
    {
     "name": "stderr",
     "output_type": "stream",
     "text": [
      "\u001b[32m[I 2023-04-02 08:31:57,145]\u001b[0m Trial 41 finished with value: 112.23118789603869 and parameters: {'max_depth': 2, 'learning_rate': 0.021868715635667314, 'n_estimators': 243, 'min_child_weight': 9, 'gamma': 1.830979203443467e-05, 'subsample': 0.516172683167551, 'colsample_bytree': 0.38897959837674795}. Best is trial 38 with value: 107.04391478044278.\u001b[0m\n"
     ]
    },
    {
     "name": "stdout",
     "output_type": "stream",
     "text": [
      "MAPE:  0.3106953864901264\n",
      "MAE:  7.227416345406146\n"
     ]
    },
    {
     "name": "stderr",
     "output_type": "stream",
     "text": [
      "\u001b[32m[I 2023-04-02 08:33:55,241]\u001b[0m Trial 42 finished with value: 110.41626425983233 and parameters: {'max_depth': 1, 'learning_rate': 0.01985943904939992, 'n_estimators': 248, 'min_child_weight': 10, 'gamma': 1.762033990866447e-05, 'subsample': 0.4919704183918055, 'colsample_bytree': 0.6257884773652274}. Best is trial 38 with value: 107.04391478044278.\u001b[0m\n"
     ]
    },
    {
     "name": "stdout",
     "output_type": "stream",
     "text": [
      "MAPE:  0.30526987540347394\n",
      "MAE:  7.248145521751472\n"
     ]
    },
    {
     "name": "stderr",
     "output_type": "stream",
     "text": [
      "\u001b[32m[I 2023-04-02 08:36:03,756]\u001b[0m Trial 43 finished with value: 118.22322454565523 and parameters: {'max_depth': 1, 'learning_rate': 0.012652424775599108, 'n_estimators': 255, 'min_child_weight': 10, 'gamma': 2.060944193593884e-05, 'subsample': 0.9838413792576007, 'colsample_bytree': 0.651844769445252}. Best is trial 38 with value: 107.04391478044278.\u001b[0m\n"
     ]
    },
    {
     "name": "stdout",
     "output_type": "stream",
     "text": [
      "MAPE:  0.32572597651903135\n",
      "MAE:  7.8085210960378095\n"
     ]
    },
    {
     "name": "stderr",
     "output_type": "stream",
     "text": [
      "\u001b[32m[I 2023-04-02 08:37:50,353]\u001b[0m Trial 44 finished with value: 112.58118293813625 and parameters: {'max_depth': 1, 'learning_rate': 0.018394718008212314, 'n_estimators': 222, 'min_child_weight': 9, 'gamma': 5.339914311687085e-05, 'subsample': 0.47302641079128677, 'colsample_bytree': 0.6408795649848921}. Best is trial 38 with value: 107.04391478044278.\u001b[0m\n"
     ]
    },
    {
     "name": "stdout",
     "output_type": "stream",
     "text": [
      "MAPE:  0.31318040295845745\n",
      "MAE:  7.412909015776619\n"
     ]
    },
    {
     "name": "stderr",
     "output_type": "stream",
     "text": [
      "\u001b[32m[I 2023-04-02 08:42:07,447]\u001b[0m Trial 45 finished with value: 113.05815524185459 and parameters: {'max_depth': 8, 'learning_rate': 0.01966873273265295, 'n_estimators': 219, 'min_child_weight': 9, 'gamma': 1.5674748273078935e-05, 'subsample': 0.7078328753064554, 'colsample_bytree': 0.6427513248328887}. Best is trial 38 with value: 107.04391478044278.\u001b[0m\n"
     ]
    },
    {
     "name": "stdout",
     "output_type": "stream",
     "text": [
      "MAPE:  0.3099870622648886\n",
      "MAE:  6.89296174220859\n"
     ]
    },
    {
     "name": "stderr",
     "output_type": "stream",
     "text": [
      "\u001b[32m[I 2023-04-02 08:44:51,833]\u001b[0m Trial 46 finished with value: 108.84955338292053 and parameters: {'max_depth': 2, 'learning_rate': 0.02468221234816802, 'n_estimators': 271, 'min_child_weight': 8, 'gamma': 5.354921288123213e-05, 'subsample': 0.5287978682068791, 'colsample_bytree': 0.7261584544573891}. Best is trial 38 with value: 107.04391478044278.\u001b[0m\n"
     ]
    },
    {
     "name": "stdout",
     "output_type": "stream",
     "text": [
      "MAPE:  0.2892449669061496\n",
      "MAE:  6.838747213836069\n"
     ]
    },
    {
     "name": "stderr",
     "output_type": "stream",
     "text": [
      "\u001b[32m[I 2023-04-02 08:50:06,737]\u001b[0m Trial 47 finished with value: 116.99380576292181 and parameters: {'max_depth': 6, 'learning_rate': 0.025700560515554787, 'n_estimators': 276, 'min_child_weight': 8, 'gamma': 3.177666820710531e-05, 'subsample': 0.6572940819989742, 'colsample_bytree': 0.7626320139668781}. Best is trial 38 with value: 107.04391478044278.\u001b[0m\n"
     ]
    },
    {
     "name": "stdout",
     "output_type": "stream",
     "text": [
      "MAPE:  0.3082640587924173\n",
      "MAE:  7.0057692342492\n"
     ]
    },
    {
     "name": "stderr",
     "output_type": "stream",
     "text": [
      "\u001b[32m[I 2023-04-02 08:51:53,229]\u001b[0m Trial 48 finished with value: 585.4016342117305 and parameters: {'max_depth': 3, 'learning_rate': 0.01403184116145167, 'n_estimators': 257, 'min_child_weight': 8, 'gamma': 7.18210634637335e-05, 'subsample': 0.010959841357049992, 'colsample_bytree': 0.4652710834979927}. Best is trial 38 with value: 107.04391478044278.\u001b[0m\n"
     ]
    },
    {
     "name": "stdout",
     "output_type": "stream",
     "text": [
      "MAPE:  3.9907682332601473\n",
      "MAE:  19.009838200750806\n"
     ]
    },
    {
     "name": "stderr",
     "output_type": "stream",
     "text": [
      "\u001b[32m[I 2023-04-02 08:53:32,371]\u001b[0m Trial 49 finished with value: 113.76594409788525 and parameters: {'max_depth': 2, 'learning_rate': 0.024935531108359558, 'n_estimators': 199, 'min_child_weight': 10, 'gamma': 0.03494803810437939, 'subsample': 0.5615450332742008, 'colsample_bytree': 0.32684724639747925}. Best is trial 38 with value: 107.04391478044278.\u001b[0m\n"
     ]
    },
    {
     "name": "stdout",
     "output_type": "stream",
     "text": [
      "MAPE:  0.31684049732823855\n",
      "MAE:  7.371411129122689\n"
     ]
    },
    {
     "name": "stderr",
     "output_type": "stream",
     "text": [
      "\u001b[32m[I 2023-04-02 08:56:36,917]\u001b[0m Trial 50 finished with value: 116.47147041435124 and parameters: {'max_depth': 4, 'learning_rate': 0.01047662309676254, 'n_estimators': 287, 'min_child_weight': 7, 'gamma': 1.4383266148306103e-05, 'subsample': 0.21380753733813898, 'colsample_bytree': 0.551312765894273}. Best is trial 38 with value: 107.04391478044278.\u001b[0m\n"
     ]
    },
    {
     "name": "stdout",
     "output_type": "stream",
     "text": [
      "MAPE:  0.3240776958346629\n",
      "MAE:  7.208723040051246\n"
     ]
    },
    {
     "name": "stderr",
     "output_type": "stream",
     "text": [
      "\u001b[32m[I 2023-04-02 08:58:30,689]\u001b[0m Trial 51 finished with value: 112.00823604324442 and parameters: {'max_depth': 1, 'learning_rate': 0.016921940216985145, 'n_estimators': 229, 'min_child_weight': 9, 'gamma': 5.525894658851734e-05, 'subsample': 0.5128360937674157, 'colsample_bytree': 0.7217554082327601}. Best is trial 38 with value: 107.04391478044278.\u001b[0m\n"
     ]
    },
    {
     "name": "stdout",
     "output_type": "stream",
     "text": [
      "MAPE:  0.3085818337712813\n",
      "MAE:  7.322473342614199\n"
     ]
    },
    {
     "name": "stderr",
     "output_type": "stream",
     "text": [
      "\u001b[32m[I 2023-04-02 09:00:58,136]\u001b[0m Trial 52 finished with value: 107.90551084350888 and parameters: {'max_depth': 2, 'learning_rate': 0.0161977810141407, 'n_estimators': 237, 'min_child_weight': 9, 'gamma': 4.3614384740609956e-05, 'subsample': 0.4870624777817927, 'colsample_bytree': 0.7718641534692503}. Best is trial 38 with value: 107.04391478044278.\u001b[0m\n"
     ]
    },
    {
     "name": "stdout",
     "output_type": "stream",
     "text": [
      "MAPE:  0.29149922377540716\n",
      "MAE:  6.845010889388582\n"
     ]
    },
    {
     "name": "stderr",
     "output_type": "stream",
     "text": [
      "\u001b[32m[I 2023-04-02 09:03:15,044]\u001b[0m Trial 53 finished with value: 112.77167003183732 and parameters: {'max_depth': 1, 'learning_rate': 0.013410117489261, 'n_estimators': 262, 'min_child_weight': 8, 'gamma': 4.060929489388451e-05, 'subsample': 0.7920050753750112, 'colsample_bytree': 0.7971961639478188}. Best is trial 38 with value: 107.04391478044278.\u001b[0m\n"
     ]
    },
    {
     "name": "stdout",
     "output_type": "stream",
     "text": [
      "MAPE:  0.3107363517963214\n",
      "MAE:  7.447781626154821\n"
     ]
    },
    {
     "name": "stderr",
     "output_type": "stream",
     "text": [
      "\u001b[32m[I 2023-04-02 09:04:59,502]\u001b[0m Trial 54 finished with value: 251.01631515733047 and parameters: {'max_depth': 2, 'learning_rate': 0.03053173959625384, 'n_estimators': 233, 'min_child_weight': 9, 'gamma': 0.00010384779688482676, 'subsample': 0.02437805482275559, 'colsample_bytree': 0.7208698629115912}. Best is trial 38 with value: 107.04391478044278.\u001b[0m\n"
     ]
    },
    {
     "name": "stdout",
     "output_type": "stream",
     "text": [
      "MAPE:  0.434734046943664\n",
      "MAE:  12.741811922776005\n"
     ]
    },
    {
     "name": "stderr",
     "output_type": "stream",
     "text": [
      "\u001b[32m[I 2023-04-02 09:07:59,523]\u001b[0m Trial 55 finished with value: 114.91096838634238 and parameters: {'max_depth': 3, 'learning_rate': 0.016460496853131643, 'n_estimators': 290, 'min_child_weight': 10, 'gamma': 5.993211858187879e-05, 'subsample': 0.3148932288952013, 'colsample_bytree': 0.5848294240892171}. Best is trial 38 with value: 107.04391478044278.\u001b[0m\n"
     ]
    },
    {
     "name": "stdout",
     "output_type": "stream",
     "text": [
      "MAPE:  0.3051522700618331\n",
      "MAE:  7.111804055237266\n"
     ]
    },
    {
     "name": "stderr",
     "output_type": "stream",
     "text": [
      "\u001b[32m[I 2023-04-02 09:11:32,313]\u001b[0m Trial 56 finished with value: 121.77994037627258 and parameters: {'max_depth': 7, 'learning_rate': 0.045933507785080735, 'n_estimators': 198, 'min_child_weight': 10, 'gamma': 1.0139403534667032e-05, 'subsample': 0.43197902197422655, 'colsample_bytree': 0.7895642537556025}. Best is trial 38 with value: 107.04391478044278.\u001b[0m\n"
     ]
    },
    {
     "name": "stdout",
     "output_type": "stream",
     "text": [
      "MAPE:  0.3165317975112422\n",
      "MAE:  7.200075574771121\n"
     ]
    },
    {
     "name": "stderr",
     "output_type": "stream",
     "text": [
      "\u001b[32m[I 2023-04-02 09:13:03,878]\u001b[0m Trial 57 finished with value: 215.27081479950073 and parameters: {'max_depth': 1, 'learning_rate': 0.011500807941398284, 'n_estimators': 244, 'min_child_weight': 6, 'gamma': 2.410937507440234e-05, 'subsample': 0.6334501197244893, 'colsample_bytree': 0.031392593828000304}. Best is trial 38 with value: 107.04391478044278.\u001b[0m\n"
     ]
    },
    {
     "name": "stdout",
     "output_type": "stream",
     "text": [
      "MAPE:  0.41054225925206317\n",
      "MAE:  11.567157139223088\n"
     ]
    },
    {
     "name": "stderr",
     "output_type": "stream",
     "text": [
      "\u001b[32m[I 2023-04-02 09:16:18,510]\u001b[0m Trial 58 finished with value: 108.02920512275632 and parameters: {'max_depth': 2, 'learning_rate': 0.02842978525144633, 'n_estimators': 266, 'min_child_weight': 8, 'gamma': 0.1788072541352828, 'subsample': 0.7701138300341881, 'colsample_bytree': 0.99779332092077}. Best is trial 38 with value: 107.04391478044278.\u001b[0m\n"
     ]
    },
    {
     "name": "stdout",
     "output_type": "stream",
     "text": [
      "MAPE:  0.2795164378398917\n",
      "MAE:  6.700148183872145\n"
     ]
    },
    {
     "name": "stderr",
     "output_type": "stream",
     "text": [
      "\u001b[32m[I 2023-04-02 09:20:21,727]\u001b[0m Trial 59 finished with value: 112.05470911797335 and parameters: {'max_depth': 3, 'learning_rate': 0.030243185555677274, 'n_estimators': 265, 'min_child_weight': 8, 'gamma': 0.298933676868485, 'subsample': 0.8427227381789117, 'colsample_bytree': 0.9736042327847729}. Best is trial 38 with value: 107.04391478044278.\u001b[0m\n"
     ]
    },
    {
     "name": "stdout",
     "output_type": "stream",
     "text": [
      "MAPE:  0.28889638207050705\n",
      "MAE:  6.7777922851028585\n"
     ]
    },
    {
     "name": "stderr",
     "output_type": "stream",
     "text": [
      "\u001b[32m[I 2023-04-02 09:23:13,802]\u001b[0m Trial 60 finished with value: 110.18701823046692 and parameters: {'max_depth': 2, 'learning_rate': 0.022884978712632988, 'n_estimators': 299, 'min_child_weight': 7, 'gamma': 0.013836789254813037, 'subsample': 0.9969529643536922, 'colsample_bytree': 0.480011167089733}. Best is trial 38 with value: 107.04391478044278.\u001b[0m\n"
     ]
    },
    {
     "name": "stdout",
     "output_type": "stream",
     "text": [
      "MAPE:  0.30364159488232323\n",
      "MAE:  7.113586184879144\n"
     ]
    },
    {
     "name": "stderr",
     "output_type": "stream",
     "text": [
      "\u001b[32m[I 2023-04-02 09:25:52,596]\u001b[0m Trial 61 finished with value: 109.01382088103418 and parameters: {'max_depth': 2, 'learning_rate': 0.023032488795867268, 'n_estimators': 282, 'min_child_weight': 7, 'gamma': 0.9194955353025687, 'subsample': 0.7993618333687619, 'colsample_bytree': 0.5094544696762668}. Best is trial 38 with value: 107.04391478044278.\u001b[0m\n"
     ]
    },
    {
     "name": "stdout",
     "output_type": "stream",
     "text": [
      "MAPE:  0.3024004824917578\n",
      "MAE:  7.052245514733451\n"
     ]
    },
    {
     "name": "stderr",
     "output_type": "stream",
     "text": [
      "\u001b[32m[I 2023-04-02 09:28:39,950]\u001b[0m Trial 62 finished with value: 108.79305472542069 and parameters: {'max_depth': 2, 'learning_rate': 0.023265608554576392, 'n_estimators': 300, 'min_child_weight': 7, 'gamma': 0.9026747645219841, 'subsample': 0.8878380669143152, 'colsample_bytree': 0.4681099553077788}. Best is trial 38 with value: 107.04391478044278.\u001b[0m\n"
     ]
    },
    {
     "name": "stdout",
     "output_type": "stream",
     "text": [
      "MAPE:  0.30328621623684615\n",
      "MAE:  7.0668866320971455\n"
     ]
    },
    {
     "name": "stderr",
     "output_type": "stream",
     "text": [
      "\u001b[32m[I 2023-04-02 09:31:50,437]\u001b[0m Trial 63 finished with value: 111.18745985837432 and parameters: {'max_depth': 3, 'learning_rate': 0.022373255299123863, 'n_estimators': 283, 'min_child_weight': 7, 'gamma': 0.8046432567526648, 'subsample': 0.902608762602365, 'colsample_bytree': 0.4806389624492882}. Best is trial 38 with value: 107.04391478044278.\u001b[0m\n"
     ]
    },
    {
     "name": "stdout",
     "output_type": "stream",
     "text": [
      "MAPE:  0.3063307163687206\n",
      "MAE:  7.0909729604683225\n"
     ]
    },
    {
     "name": "stderr",
     "output_type": "stream",
     "text": [
      "\u001b[32m[I 2023-04-02 09:35:17,479]\u001b[0m Trial 64 finished with value: 109.93134200552493 and parameters: {'max_depth': 2, 'learning_rate': 0.02787810437723951, 'n_estimators': 291, 'min_child_weight': 6, 'gamma': 0.43398484512209523, 'subsample': 0.9741635365072289, 'colsample_bytree': 0.8366888177052996}. Best is trial 38 with value: 107.04391478044278.\u001b[0m\n"
     ]
    },
    {
     "name": "stdout",
     "output_type": "stream",
     "text": [
      "MAPE:  0.2838358295756003\n",
      "MAE:  6.820668243640472\n"
     ]
    },
    {
     "name": "stderr",
     "output_type": "stream",
     "text": [
      "\u001b[32m[I 2023-04-02 09:38:55,866]\u001b[0m Trial 65 finished with value: 111.19184554602991 and parameters: {'max_depth': 3, 'learning_rate': 0.027828517543490597, 'n_estimators': 274, 'min_child_weight': 6, 'gamma': 0.4328572771105218, 'subsample': 0.6109732089296147, 'colsample_bytree': 0.836207010096086}. Best is trial 38 with value: 107.04391478044278.\u001b[0m\n"
     ]
    },
    {
     "name": "stdout",
     "output_type": "stream",
     "text": [
      "MAPE:  0.2914915560440544\n",
      "MAE:  6.782805548064292\n"
     ]
    },
    {
     "name": "stderr",
     "output_type": "stream",
     "text": [
      "\u001b[32m[I 2023-04-02 09:40:42,539]\u001b[0m Trial 66 finished with value: 194.3076292436304 and parameters: {'max_depth': 2, 'learning_rate': 0.035743388709458465, 'n_estimators': 283, 'min_child_weight': 6, 'gamma': 0.12000900947531484, 'subsample': 0.7837274748695863, 'colsample_bytree': 0.010130465203683539}. Best is trial 38 with value: 107.04391478044278.\u001b[0m\n"
     ]
    },
    {
     "name": "stdout",
     "output_type": "stream",
     "text": [
      "MAPE:  0.387946724492006\n",
      "MAE:  11.21875859055885\n"
     ]
    },
    {
     "name": "stderr",
     "output_type": "stream",
     "text": [
      "\u001b[32m[I 2023-04-02 09:43:52,802]\u001b[0m Trial 67 finished with value: 117.50989028831285 and parameters: {'max_depth': 4, 'learning_rate': 0.04306895353711268, 'n_estimators': 300, 'min_child_weight': 7, 'gamma': 0.3506110163964089, 'subsample': 0.6682566327883741, 'colsample_bytree': 0.32140587133455384}. Best is trial 38 with value: 107.04391478044278.\u001b[0m\n"
     ]
    },
    {
     "name": "stdout",
     "output_type": "stream",
     "text": [
      "MAPE:  0.3306670049237868\n",
      "MAE:  7.286245397297005\n"
     ]
    },
    {
     "name": "stderr",
     "output_type": "stream",
     "text": [
      "\u001b[32m[I 2023-04-02 09:48:01,768]\u001b[0m Trial 68 finished with value: 112.42527464678683 and parameters: {'max_depth': 3, 'learning_rate': 0.03448711877392501, 'n_estimators': 267, 'min_child_weight': 8, 'gamma': 0.5345223416702186, 'subsample': 0.8655864488245656, 'colsample_bytree': 0.9915711032058989}. Best is trial 38 with value: 107.04391478044278.\u001b[0m\n"
     ]
    },
    {
     "name": "stdout",
     "output_type": "stream",
     "text": [
      "MAPE:  0.2897435952157509\n",
      "MAE:  6.809866892400557\n"
     ]
    },
    {
     "name": "stderr",
     "output_type": "stream",
     "text": [
      "\u001b[32m[I 2023-04-02 09:51:12,167]\u001b[0m Trial 69 finished with value: 111.93312628927237 and parameters: {'max_depth': 2, 'learning_rate': 0.05088297434222708, 'n_estimators': 293, 'min_child_weight': 6, 'gamma': 0.21070227200835537, 'subsample': 0.5736318942429328, 'colsample_bytree': 0.8418665852695719}. Best is trial 38 with value: 107.04391478044278.\u001b[0m\n"
     ]
    },
    {
     "name": "stdout",
     "output_type": "stream",
     "text": [
      "MAPE:  0.2904043562162552\n",
      "MAE:  6.8118141681034725\n"
     ]
    },
    {
     "name": "stderr",
     "output_type": "stream",
     "text": [
      "\u001b[32m[I 2023-04-02 09:53:46,573]\u001b[0m Trial 70 finished with value: 113.20691590091756 and parameters: {'max_depth': 2, 'learning_rate': 0.027862078548721192, 'n_estimators': 278, 'min_child_weight': 7, 'gamma': 0.08205385858991869, 'subsample': 0.4341365793708101, 'colsample_bytree': 0.5701561697927401}. Best is trial 38 with value: 107.04391478044278.\u001b[0m\n"
     ]
    },
    {
     "name": "stdout",
     "output_type": "stream",
     "text": [
      "MAPE:  0.30216906831792745\n",
      "MAE:  7.107201568585224\n"
     ]
    },
    {
     "name": "stderr",
     "output_type": "stream",
     "text": [
      "\u001b[32m[I 2023-04-02 09:56:32,810]\u001b[0m Trial 71 finished with value: 110.08327588574603 and parameters: {'max_depth': 2, 'learning_rate': 0.02219504173442165, 'n_estimators': 294, 'min_child_weight': 7, 'gamma': 0.0156815927115501, 'subsample': 0.9664438230404442, 'colsample_bytree': 0.46227688911203474}. Best is trial 38 with value: 107.04391478044278.\u001b[0m\n"
     ]
    },
    {
     "name": "stdout",
     "output_type": "stream",
     "text": [
      "MAPE:  0.30441379843788446\n",
      "MAE:  7.122962034489743\n"
     ]
    },
    {
     "name": "stderr",
     "output_type": "stream",
     "text": [
      "\u001b[32m[I 2023-04-02 09:59:09,473]\u001b[0m Trial 72 finished with value: 108.88814151532803 and parameters: {'max_depth': 2, 'learning_rate': 0.02338993435096988, 'n_estimators': 290, 'min_child_weight': 8, 'gamma': 0.9609815007652269, 'subsample': 0.7609780956414134, 'colsample_bytree': 0.4392873874755137}. Best is trial 38 with value: 107.04391478044278.\u001b[0m\n"
     ]
    },
    {
     "name": "stdout",
     "output_type": "stream",
     "text": [
      "MAPE:  0.30577520157237575\n",
      "MAE:  7.063252409378057\n"
     ]
    },
    {
     "name": "stderr",
     "output_type": "stream",
     "text": [
      "\u001b[32m[I 2023-04-02 10:02:27,106]\u001b[0m Trial 73 finished with value: 106.98856802219376 and parameters: {'max_depth': 3, 'learning_rate': 0.013617259941923079, 'n_estimators': 256, 'min_child_weight': 8, 'gamma': 0.8972185747080049, 'subsample': 0.7307457576734068, 'colsample_bytree': 0.721757935795174}. Best is trial 73 with value: 106.98856802219376.\u001b[0m\n"
     ]
    },
    {
     "name": "stdout",
     "output_type": "stream",
     "text": [
      "MAPE:  0.2966250726303572\n",
      "MAE:  6.773460308966971\n"
     ]
    },
    {
     "name": "stderr",
     "output_type": "stream",
     "text": [
      "\u001b[32m[I 2023-04-02 10:05:42,466]\u001b[0m Trial 74 finished with value: 107.48892037159362 and parameters: {'max_depth': 3, 'learning_rate': 0.01516261128643231, 'n_estimators': 256, 'min_child_weight': 8, 'gamma': 0.9959785609127055, 'subsample': 0.7452785338283348, 'colsample_bytree': 0.7048803572535931}. Best is trial 73 with value: 106.98856802219376.\u001b[0m\n"
     ]
    },
    {
     "name": "stdout",
     "output_type": "stream",
     "text": [
      "MAPE:  0.295045310033132\n",
      "MAE:  6.797215943101537\n"
     ]
    },
    {
     "name": "stderr",
     "output_type": "stream",
     "text": [
      "\u001b[32m[I 2023-04-02 10:08:38,788]\u001b[0m Trial 75 finished with value: 111.3308115183786 and parameters: {'max_depth': 3, 'learning_rate': 0.013763163532891514, 'n_estimators': 255, 'min_child_weight': 8, 'gamma': 0.61963400618936, 'subsample': 0.3370307970910498, 'colsample_bytree': 0.733153490920313}. Best is trial 73 with value: 106.98856802219376.\u001b[0m\n"
     ]
    },
    {
     "name": "stdout",
     "output_type": "stream",
     "text": [
      "MAPE:  0.3053678702996286\n",
      "MAE:  6.937995523529708\n"
     ]
    },
    {
     "name": "stderr",
     "output_type": "stream",
     "text": [
      "\u001b[32m[I 2023-04-02 10:11:45,155]\u001b[0m Trial 76 finished with value: 110.89050588588147 and parameters: {'max_depth': 4, 'learning_rate': 0.014734348347259216, 'n_estimators': 261, 'min_child_weight': 8, 'gamma': 0.2423051978948775, 'subsample': 0.6900261482207901, 'colsample_bytree': 0.43625101785595655}. Best is trial 73 with value: 106.98856802219376.\u001b[0m\n"
     ]
    },
    {
     "name": "stdout",
     "output_type": "stream",
     "text": [
      "MAPE:  0.31530055482450936\n",
      "MAE:  7.081510186865532\n"
     ]
    },
    {
     "name": "stderr",
     "output_type": "stream",
     "text": [
      "\u001b[32m[I 2023-04-02 10:14:38,203]\u001b[0m Trial 77 finished with value: 112.58869548698918 and parameters: {'max_depth': 3, 'learning_rate': 0.01072684391415836, 'n_estimators': 269, 'min_child_weight': 8, 'gamma': 0.97964766688569, 'subsample': 0.36763540229339503, 'colsample_bytree': 0.5930723234339039}. Best is trial 73 with value: 106.98856802219376.\u001b[0m\n"
     ]
    },
    {
     "name": "stdout",
     "output_type": "stream",
     "text": [
      "MAPE:  0.319789771076654\n",
      "MAE:  7.064491776404558\n"
     ]
    },
    {
     "name": "stderr",
     "output_type": "stream",
     "text": [
      "\u001b[32m[I 2023-04-02 10:17:11,260]\u001b[0m Trial 78 finished with value: 108.9004173537848 and parameters: {'max_depth': 3, 'learning_rate': 0.015051567019362775, 'n_estimators': 208, 'min_child_weight': 9, 'gamma': 0.13067122470633283, 'subsample': 0.5945053217548258, 'colsample_bytree': 0.6857620971682677}. Best is trial 73 with value: 106.98856802219376.\u001b[0m\n"
     ]
    },
    {
     "name": "stdout",
     "output_type": "stream",
     "text": [
      "MAPE:  0.3055399207226986\n",
      "MAE:  6.856571453864928\n"
     ]
    },
    {
     "name": "stderr",
     "output_type": "stream",
     "text": [
      "\u001b[32m[I 2023-04-02 10:19:38,464]\u001b[0m Trial 79 finished with value: 113.78560445402 and parameters: {'max_depth': 4, 'learning_rate': 0.017982283928122223, 'n_estimators': 236, 'min_child_weight': 8, 'gamma': 0.5951690134341735, 'subsample': 0.7353064701810719, 'colsample_bytree': 0.2913883347850604}. Best is trial 73 with value: 106.98856802219376.\u001b[0m\n"
     ]
    },
    {
     "name": "stdout",
     "output_type": "stream",
     "text": [
      "MAPE:  0.3199132904199089\n",
      "MAE:  7.2759709542903\n"
     ]
    },
    {
     "name": "stderr",
     "output_type": "stream",
     "text": [
      "\u001b[32m[I 2023-04-02 10:22:15,235]\u001b[0m Trial 80 finished with value: 112.17293732999471 and parameters: {'max_depth': 2, 'learning_rate': 0.011754441597895321, 'n_estimators': 252, 'min_child_weight': 9, 'gamma': 0.03728326005118038, 'subsample': 0.2804435178707384, 'colsample_bytree': 0.8901403059183879}. Best is trial 73 with value: 106.98856802219376.\u001b[0m\n"
     ]
    },
    {
     "name": "stdout",
     "output_type": "stream",
     "text": [
      "MAPE:  0.30218000534661726\n",
      "MAE:  6.9320208874565585\n"
     ]
    },
    {
     "name": "stderr",
     "output_type": "stream",
     "text": [
      "\u001b[32m[I 2023-04-02 10:24:51,526]\u001b[0m Trial 81 finished with value: 108.46986549589052 and parameters: {'max_depth': 3, 'learning_rate': 0.015202813933234045, 'n_estimators': 211, 'min_child_weight': 9, 'gamma': 0.1275022149932484, 'subsample': 0.5844781883413697, 'colsample_bytree': 0.701693475763719}. Best is trial 73 with value: 106.98856802219376.\u001b[0m\n"
     ]
    },
    {
     "name": "stdout",
     "output_type": "stream",
     "text": [
      "MAPE:  0.3038726278518581\n",
      "MAE:  6.845396097788893\n"
     ]
    },
    {
     "name": "stderr",
     "output_type": "stream",
     "text": [
      "\u001b[32m[I 2023-04-02 10:27:14,165]\u001b[0m Trial 82 finished with value: 113.97587378246301 and parameters: {'max_depth': 3, 'learning_rate': 0.012701501267735421, 'n_estimators': 221, 'min_child_weight': 9, 'gamma': 0.6620224078437179, 'subsample': 0.4547046624110635, 'colsample_bytree': 0.5324256991538264}. Best is trial 73 with value: 106.98856802219376.\u001b[0m\n"
     ]
    },
    {
     "name": "stdout",
     "output_type": "stream",
     "text": [
      "MAPE:  0.3248416221776092\n",
      "MAE:  7.17204731718573\n"
     ]
    },
    {
     "name": "stderr",
     "output_type": "stream",
     "text": [
      "\u001b[32m[I 2023-04-02 10:29:14,025]\u001b[0m Trial 83 finished with value: 173.93307477343987 and parameters: {'max_depth': 2, 'learning_rate': 0.018510543797841332, 'n_estimators': 241, 'min_child_weight': 8, 'gamma': 0.18452629526363812, 'subsample': 0.03506757992446892, 'colsample_bytree': 0.9926402887968121}. Best is trial 73 with value: 106.98856802219376.\u001b[0m\n"
     ]
    },
    {
     "name": "stdout",
     "output_type": "stream",
     "text": [
      "MAPE:  0.36778553278399784\n",
      "MAE:  10.018380311194552\n"
     ]
    },
    {
     "name": "stderr",
     "output_type": "stream",
     "text": [
      "\u001b[32m[I 2023-04-02 10:31:14,104]\u001b[0m Trial 84 finished with value: 134.2985479547375 and parameters: {'max_depth': 3, 'learning_rate': 0.015784076760010163, 'n_estimators': 275, 'min_child_weight': 8, 'gamma': 0.3151090063923259, 'subsample': 0.5754790775198468, 'colsample_bytree': 0.07544304927954841}. Best is trial 73 with value: 106.98856802219376.\u001b[0m\n"
     ]
    },
    {
     "name": "stdout",
     "output_type": "stream",
     "text": [
      "MAPE:  0.3392518657578871\n",
      "MAE:  8.60597453439835\n"
     ]
    },
    {
     "name": "stderr",
     "output_type": "stream",
     "text": [
      "\u001b[32m[I 2023-04-02 10:34:07,147]\u001b[0m Trial 85 finished with value: 112.37901109872901 and parameters: {'max_depth': 4, 'learning_rate': 0.02087897506614306, 'n_estimators': 211, 'min_child_weight': 9, 'gamma': 0.48854837336087903, 'subsample': 0.5215849262708205, 'colsample_bytree': 0.6677832727989015}. Best is trial 73 with value: 106.98856802219376.\u001b[0m\n"
     ]
    },
    {
     "name": "stdout",
     "output_type": "stream",
     "text": [
      "MAPE:  0.3020400355625731\n",
      "MAE:  6.911733587996827\n"
     ]
    },
    {
     "name": "stderr",
     "output_type": "stream",
     "text": [
      "\u001b[32m[I 2023-04-02 10:36:41,940]\u001b[0m Trial 86 finished with value: 139.5931139489241 and parameters: {'max_depth': 2, 'learning_rate': 0.3128052932185281, 'n_estimators': 260, 'min_child_weight': 5, 'gamma': 0.061640974102218284, 'subsample': 0.7531984051457327, 'colsample_bytree': 0.5956840354001265}. Best is trial 73 with value: 106.98856802219376.\u001b[0m\n"
     ]
    },
    {
     "name": "stdout",
     "output_type": "stream",
     "text": [
      "MAPE:  0.42254652711019497\n",
      "MAE:  7.844171297695197\n"
     ]
    },
    {
     "name": "stderr",
     "output_type": "stream",
     "text": [
      "\u001b[32m[I 2023-04-02 10:39:35,227]\u001b[0m Trial 87 finished with value: 109.90307711233137 and parameters: {'max_depth': 3, 'learning_rate': 0.01872524874212664, 'n_estimators': 226, 'min_child_weight': 9, 'gamma': 0.7263114226047381, 'subsample': 0.6430603385185247, 'colsample_bytree': 0.7429894974582084}. Best is trial 73 with value: 106.98856802219376.\u001b[0m\n"
     ]
    },
    {
     "name": "stdout",
     "output_type": "stream",
     "text": [
      "MAPE:  0.2955483949054271\n",
      "MAE:  6.842321771694712\n"
     ]
    },
    {
     "name": "stderr",
     "output_type": "stream",
     "text": [
      "\u001b[32m[I 2023-04-02 10:41:51,546]\u001b[0m Trial 88 finished with value: 111.6206566375822 and parameters: {'max_depth': 2, 'learning_rate': 0.012755399320351996, 'n_estimators': 251, 'min_child_weight': 8, 'gamma': 0.38017193708129504, 'subsample': 0.8582421078558515, 'colsample_bytree': 0.4181634307683262}. Best is trial 73 with value: 106.98856802219376.\u001b[0m\n"
     ]
    },
    {
     "name": "stdout",
     "output_type": "stream",
     "text": [
      "MAPE:  0.3174079490741914\n",
      "MAE:  7.359297761053004\n"
     ]
    },
    {
     "name": "stderr",
     "output_type": "stream",
     "text": [
      "\u001b[32m[I 2023-04-02 10:43:46,066]\u001b[0m Trial 89 finished with value: 138.90687650873062 and parameters: {'max_depth': 1, 'learning_rate': 0.01011712149410131, 'n_estimators': 239, 'min_child_weight': 8, 'gamma': 0.25112314414415127, 'subsample': 0.057834396297416234, 'colsample_bytree': 0.8782468079034149}. Best is trial 73 with value: 106.98856802219376.\u001b[0m\n"
     ]
    },
    {
     "name": "stdout",
     "output_type": "stream",
     "text": [
      "MAPE:  0.36143510300249126\n",
      "MAE:  8.067761358248179\n"
     ]
    },
    {
     "name": "stderr",
     "output_type": "stream",
     "text": [
      "\u001b[32m[I 2023-04-02 10:46:20,550]\u001b[0m Trial 90 finished with value: 108.55157285106372 and parameters: {'max_depth': 2, 'learning_rate': 0.015073685744923342, 'n_estimators': 268, 'min_child_weight': 5, 'gamma': 0.007451633658673168, 'subsample': 0.4034635998842721, 'colsample_bytree': 0.6502884075645687}. Best is trial 73 with value: 106.98856802219376.\u001b[0m\n"
     ]
    },
    {
     "name": "stdout",
     "output_type": "stream",
     "text": [
      "MAPE:  0.29641699749177924\n",
      "MAE:  6.896455920523121\n"
     ]
    },
    {
     "name": "stderr",
     "output_type": "stream",
     "text": [
      "\u001b[32m[I 2023-04-02 10:49:04,243]\u001b[0m Trial 91 finished with value: 108.05309102576068 and parameters: {'max_depth': 2, 'learning_rate': 0.015070566387554602, 'n_estimators': 266, 'min_child_weight': 5, 'gamma': 0.005219595474110353, 'subsample': 0.4059380685164496, 'colsample_bytree': 0.779764341977606}. Best is trial 73 with value: 106.98856802219376.\u001b[0m\n"
     ]
    },
    {
     "name": "stdout",
     "output_type": "stream",
     "text": [
      "MAPE:  0.29016739072695874\n",
      "MAE:  6.814356022410923\n"
     ]
    },
    {
     "name": "stderr",
     "output_type": "stream",
     "text": [
      "\u001b[32m[I 2023-04-02 10:51:48,279]\u001b[0m Trial 92 finished with value: 107.93746772104055 and parameters: {'max_depth': 2, 'learning_rate': 0.014542183067477312, 'n_estimators': 267, 'min_child_weight': 5, 'gamma': 0.007298345991615497, 'subsample': 0.417972921878744, 'colsample_bytree': 0.7692283813289893}. Best is trial 73 with value: 106.98856802219376.\u001b[0m\n"
     ]
    },
    {
     "name": "stdout",
     "output_type": "stream",
     "text": [
      "MAPE:  0.2905991662279278\n",
      "MAE:  6.823334693593323\n"
     ]
    },
    {
     "name": "stderr",
     "output_type": "stream",
     "text": [
      "\u001b[32m[I 2023-04-02 10:54:19,270]\u001b[0m Trial 93 finished with value: 109.27611766081282 and parameters: {'max_depth': 2, 'learning_rate': 0.014111279240576915, 'n_estimators': 263, 'min_child_weight': 5, 'gamma': 0.004985822213759348, 'subsample': 0.40724924192817197, 'colsample_bytree': 0.6293859755965664}. Best is trial 73 with value: 106.98856802219376.\u001b[0m\n"
     ]
    },
    {
     "name": "stdout",
     "output_type": "stream",
     "text": [
      "MAPE:  0.30108914685919175\n",
      "MAE:  6.955832164123575\n"
     ]
    },
    {
     "name": "stderr",
     "output_type": "stream",
     "text": [
      "\u001b[32m[I 2023-04-02 10:57:21,504]\u001b[0m Trial 94 finished with value: 110.25704675298317 and parameters: {'max_depth': 3, 'learning_rate': 0.011252354446619582, 'n_estimators': 249, 'min_child_weight': 5, 'gamma': 0.00979284925111613, 'subsample': 0.34486025702557044, 'colsample_bytree': 0.7947856360441579}. Best is trial 73 with value: 106.98856802219376.\u001b[0m\n"
     ]
    },
    {
     "name": "stdout",
     "output_type": "stream",
     "text": [
      "MAPE:  0.31287488556523513\n",
      "MAE:  6.877627992933547\n"
     ]
    },
    {
     "name": "stderr",
     "output_type": "stream",
     "text": [
      "\u001b[32m[I 2023-04-02 10:59:29,360]\u001b[0m Trial 95 finished with value: 113.48656707787787 and parameters: {'max_depth': 2, 'learning_rate': 0.016113164612942474, 'n_estimators': 212, 'min_child_weight': 5, 'gamma': 0.0031048719793674464, 'subsample': 0.1435040440297739, 'colsample_bytree': 0.8954780457166681}. Best is trial 73 with value: 106.98856802219376.\u001b[0m\n"
     ]
    },
    {
     "name": "stdout",
     "output_type": "stream",
     "text": [
      "MAPE:  0.2977636463086928\n",
      "MAE:  6.976518994640736\n"
     ]
    },
    {
     "name": "stderr",
     "output_type": "stream",
     "text": [
      "\u001b[32m[I 2023-04-02 11:02:47,040]\u001b[0m Trial 96 finished with value: 113.58996464558226 and parameters: {'max_depth': 5, 'learning_rate': 0.012093223663848091, 'n_estimators': 231, 'min_child_weight': 4, 'gamma': 0.006290358684221795, 'subsample': 0.464862504923919, 'colsample_bytree': 0.5377455896781881}. Best is trial 73 with value: 106.98856802219376.\u001b[0m\n"
     ]
    },
    {
     "name": "stdout",
     "output_type": "stream",
     "text": [
      "MAPE:  0.3322655852504488\n",
      "MAE:  7.071516858916434\n"
     ]
    },
    {
     "name": "stderr",
     "output_type": "stream",
     "text": [
      "\u001b[32m[I 2023-04-02 11:04:49,268]\u001b[0m Trial 97 finished with value: 112.87003442576253 and parameters: {'max_depth': 1, 'learning_rate': 0.014763740842790338, 'n_estimators': 257, 'min_child_weight': 5, 'gamma': 0.002741509343123182, 'subsample': 0.23494975309658675, 'colsample_bytree': 0.6991782117118546}. Best is trial 73 with value: 106.98856802219376.\u001b[0m\n"
     ]
    },
    {
     "name": "stdout",
     "output_type": "stream",
     "text": [
      "MAPE:  0.31270342131262413\n",
      "MAE:  7.336785408200095\n"
     ]
    },
    {
     "name": "stderr",
     "output_type": "stream",
     "text": [
      "\u001b[32m[I 2023-04-02 11:07:41,771]\u001b[0m Trial 98 finished with value: 108.57261206557693 and parameters: {'max_depth': 2, 'learning_rate': 0.01763341855167301, 'n_estimators': 280, 'min_child_weight': 4, 'gamma': 0.010330177101532258, 'subsample': 0.38300499301586444, 'colsample_bytree': 0.7968369144230169}. Best is trial 73 with value: 106.98856802219376.\u001b[0m\n"
     ]
    },
    {
     "name": "stdout",
     "output_type": "stream",
     "text": [
      "MAPE:  0.28701502746066626\n",
      "MAE:  6.756052289414343\n"
     ]
    },
    {
     "name": "stderr",
     "output_type": "stream",
     "text": [
      "\u001b[32m[I 2023-04-02 11:09:14,270]\u001b[0m Trial 99 finished with value: 114.73911546777865 and parameters: {'max_depth': 1, 'learning_rate': 0.01707543598293411, 'n_estimators': 184, 'min_child_weight': 4, 'gamma': 0.011399690288080308, 'subsample': 0.2951118669036697, 'colsample_bytree': 0.7929247583326927}. Best is trial 73 with value: 106.98856802219376.\u001b[0m\n"
     ]
    },
    {
     "name": "stdout",
     "output_type": "stream",
     "text": [
      "MAPE:  0.32014663857424536\n",
      "MAE:  7.493409654214268\n"
     ]
    },
    {
     "name": "stderr",
     "output_type": "stream",
     "text": [
      "\u001b[32m[I 2023-04-02 11:13:09,876]\u001b[0m A new study created in memory with name: no-name-b67255e5-35b1-4c9f-b38f-0792e9a28770\u001b[0m\n",
      "\u001b[32m[I 2023-04-02 11:14:46,391]\u001b[0m Trial 0 finished with value: 132.9090492258217 and parameters: {'max_depth': 7, 'learning_rate': 0.03513097774376336, 'n_estimators': 124, 'min_child_weight': 1, 'gamma': 0.4266190917739575, 'subsample': 0.08626401613346739, 'colsample_bytree': 0.04862447531128368}. Best is trial 0 with value: 132.9090492258217.\u001b[0m\n"
     ]
    },
    {
     "name": "stdout",
     "output_type": "stream",
     "text": [
      "MAPE:  0.33889026145207435\n",
      "MAE:  9.124409670108243\n"
     ]
    },
    {
     "name": "stderr",
     "output_type": "stream",
     "text": [
      "\u001b[32m[I 2023-04-02 11:16:06,037]\u001b[0m Trial 1 finished with value: 78.65124366298836 and parameters: {'max_depth': 6, 'learning_rate': 0.7158593358548161, 'n_estimators': 92, 'min_child_weight': 6, 'gamma': 0.00013778938499224797, 'subsample': 0.8891292422676609, 'colsample_bytree': 0.056484218992202566}. Best is trial 1 with value: 78.65124366298836.\u001b[0m\n"
     ]
    },
    {
     "name": "stdout",
     "output_type": "stream",
     "text": [
      "MAPE:  0.7866839805432043\n",
      "MAE:  6.643840003348492\n"
     ]
    },
    {
     "name": "stderr",
     "output_type": "stream",
     "text": [
      "\u001b[32m[I 2023-04-02 11:16:38,042]\u001b[0m Trial 2 finished with value: 200.90938384210259 and parameters: {'max_depth': 7, 'learning_rate': 0.04535733152043315, 'n_estimators': 30, 'min_child_weight': 3, 'gamma': 0.10997086554736148, 'subsample': 0.6334307781580782, 'colsample_bytree': 0.0797123711651037}. Best is trial 1 with value: 78.65124366298836.\u001b[0m\n"
     ]
    },
    {
     "name": "stdout",
     "output_type": "stream",
     "text": [
      "MAPE:  0.43455898192654036\n",
      "MAE:  9.994870988205511\n"
     ]
    },
    {
     "name": "stderr",
     "output_type": "stream",
     "text": [
      "\u001b[32m[I 2023-04-02 11:18:03,513]\u001b[0m Trial 3 finished with value: 42.36832282196142 and parameters: {'max_depth': 6, 'learning_rate': 0.22631150265486422, 'n_estimators': 101, 'min_child_weight': 5, 'gamma': 0.3976191600343285, 'subsample': 0.9305387335984923, 'colsample_bytree': 0.0587221840646635}. Best is trial 3 with value: 42.36832282196142.\u001b[0m\n"
     ]
    },
    {
     "name": "stdout",
     "output_type": "stream",
     "text": [
      "MAPE:  0.22660481161779789\n",
      "MAE:  4.900291167145149\n"
     ]
    },
    {
     "name": "stderr",
     "output_type": "stream",
     "text": [
      "\u001b[32m[I 2023-04-02 11:21:15,261]\u001b[0m Trial 4 finished with value: 38124.57351338758 and parameters: {'max_depth': 2, 'learning_rate': 0.8664306294830341, 'n_estimators': 206, 'min_child_weight': 2, 'gamma': 0.005986560345493685, 'subsample': 0.04788163642005002, 'colsample_bytree': 0.929238664606602}. Best is trial 3 with value: 42.36832282196142.\u001b[0m\n"
     ]
    },
    {
     "name": "stdout",
     "output_type": "stream",
     "text": [
      "MAPE:  3.09289378288639\n",
      "MAE:  128.51928909254744\n"
     ]
    },
    {
     "name": "stderr",
     "output_type": "stream",
     "text": [
      "\u001b[32m[I 2023-04-02 11:24:55,888]\u001b[0m Trial 5 finished with value: 51.695019945094 and parameters: {'max_depth': 9, 'learning_rate': 0.010673027353752574, 'n_estimators': 213, 'min_child_weight': 3, 'gamma': 8.794348011385604e-05, 'subsample': 0.08511048653669205, 'colsample_bytree': 0.29697006886247374}. Best is trial 3 with value: 42.36832282196142.\u001b[0m\n"
     ]
    },
    {
     "name": "stdout",
     "output_type": "stream",
     "text": [
      "MAPE:  0.21244741131217212\n",
      "MAE:  4.802713195875025\n"
     ]
    },
    {
     "name": "stderr",
     "output_type": "stream",
     "text": [
      "\u001b[32m[I 2023-04-02 11:29:11,472]\u001b[0m Trial 6 finished with value: 47.07895531732075 and parameters: {'max_depth': 7, 'learning_rate': 0.020335082056621184, 'n_estimators': 282, 'min_child_weight': 4, 'gamma': 8.663422318739121e-05, 'subsample': 0.30491375573726803, 'colsample_bytree': 0.1158047758824441}. Best is trial 3 with value: 42.36832282196142.\u001b[0m\n"
     ]
    },
    {
     "name": "stdout",
     "output_type": "stream",
     "text": [
      "MAPE:  0.2223197794403962\n",
      "MAE:  5.214892848280439\n"
     ]
    },
    {
     "name": "stderr",
     "output_type": "stream",
     "text": [
      "\u001b[32m[I 2023-04-02 11:30:46,794]\u001b[0m Trial 7 finished with value: 162.0909789164469 and parameters: {'max_depth': 8, 'learning_rate': 0.042006211740147854, 'n_estimators': 125, 'min_child_weight': 1, 'gamma': 0.22486403249107972, 'subsample': 0.6879965698645536, 'colsample_bytree': 0.020663290105714188}. Best is trial 3 with value: 42.36832282196142.\u001b[0m\n"
     ]
    },
    {
     "name": "stdout",
     "output_type": "stream",
     "text": [
      "MAPE:  0.3665796138077313\n",
      "MAE:  10.276090875965112\n"
     ]
    },
    {
     "name": "stderr",
     "output_type": "stream",
     "text": [
      "\u001b[32m[I 2023-04-02 11:36:00,253]\u001b[0m Trial 8 finished with value: 21.85561672884945 and parameters: {'max_depth': 7, 'learning_rate': 0.017431999133860693, 'n_estimators': 168, 'min_child_weight': 9, 'gamma': 0.04439173392058084, 'subsample': 0.6670125881219078, 'colsample_bytree': 0.5499531625051678}. Best is trial 8 with value: 21.85561672884945.\u001b[0m\n"
     ]
    },
    {
     "name": "stdout",
     "output_type": "stream",
     "text": [
      "MAPE:  0.15440298040472233\n",
      "MAE:  3.271948122076298\n"
     ]
    },
    {
     "name": "stderr",
     "output_type": "stream",
     "text": [
      "\u001b[32m[I 2023-04-02 11:38:16,629]\u001b[0m Trial 9 finished with value: 67.73014482739077 and parameters: {'max_depth': 9, 'learning_rate': 0.11855046772775889, 'n_estimators': 198, 'min_child_weight': 8, 'gamma': 6.955098914999418e-05, 'subsample': 0.04429391072540591, 'colsample_bytree': 0.032128671910942055}. Best is trial 8 with value: 21.85561672884945.\u001b[0m\n"
     ]
    },
    {
     "name": "stdout",
     "output_type": "stream",
     "text": [
      "MAPE:  0.24947406295755453\n",
      "MAE:  6.092801826957025\n"
     ]
    },
    {
     "name": "stderr",
     "output_type": "stream",
     "text": [
      "\u001b[32m[I 2023-04-02 11:42:17,363]\u001b[0m Trial 10 finished with value: 131.77417458331763 and parameters: {'max_depth': 3, 'learning_rate': 0.010192329969138889, 'n_estimators': 300, 'min_child_weight': 10, 'gamma': 0.01343622143963394, 'subsample': 0.012766117811270244, 'colsample_bytree': 0.945599673509075}. Best is trial 8 with value: 21.85561672884945.\u001b[0m\n"
     ]
    },
    {
     "name": "stdout",
     "output_type": "stream",
     "text": [
      "MAPE:  0.32293329552681954\n",
      "MAE:  8.32422366311327\n"
     ]
    },
    {
     "name": "stderr",
     "output_type": "stream",
     "text": [
      "\u001b[32m[I 2023-04-02 11:43:01,192]\u001b[0m Trial 11 finished with value: 264.3425692209824 and parameters: {'max_depth': 4, 'learning_rate': 0.20945279215562923, 'n_estimators': 58, 'min_child_weight': 6, 'gamma': 0.036472929083831714, 'subsample': 0.2571878252232674, 'colsample_bytree': 0.01041018744865143}. Best is trial 8 with value: 21.85561672884945.\u001b[0m\n"
     ]
    },
    {
     "name": "stdout",
     "output_type": "stream",
     "text": [
      "MAPE:  0.4448068275939145\n",
      "MAE:  13.38208043383576\n"
     ]
    },
    {
     "name": "stderr",
     "output_type": "stream",
     "text": [
      "\u001b[32m[I 2023-04-02 11:45:28,198]\u001b[0m Trial 12 finished with value: 32.59048309678901 and parameters: {'max_depth': 5, 'learning_rate': 0.2749187167346293, 'n_estimators': 163, 'min_child_weight': 8, 'gamma': 0.9680577798100506, 'subsample': 0.21718087169757572, 'colsample_bytree': 0.21233646461626013}. Best is trial 8 with value: 21.85561672884945.\u001b[0m\n"
     ]
    },
    {
     "name": "stdout",
     "output_type": "stream",
     "text": [
      "MAPE:  0.314501617203\n",
      "MAE:  4.236618234255155\n"
     ]
    },
    {
     "name": "stderr",
     "output_type": "stream",
     "text": [
      "\u001b[32m[I 2023-04-02 11:48:17,942]\u001b[0m Trial 13 finished with value: 33.48191944840528 and parameters: {'max_depth': 5, 'learning_rate': 0.3933625645945526, 'n_estimators': 173, 'min_child_weight': 9, 'gamma': 0.0007908768687177505, 'subsample': 0.2595060814686082, 'colsample_bytree': 0.28105773238502346}. Best is trial 8 with value: 21.85561672884945.\u001b[0m\n"
     ]
    },
    {
     "name": "stdout",
     "output_type": "stream",
     "text": [
      "MAPE:  0.29899448240572757\n",
      "MAE:  4.176066456807843\n"
     ]
    },
    {
     "name": "stderr",
     "output_type": "stream",
     "text": [
      "\u001b[32m[I 2023-04-02 11:51:08,555]\u001b[0m Trial 14 finished with value: 20.100859772568345 and parameters: {'max_depth': 1, 'learning_rate': 0.09861993728208795, 'n_estimators': 242, 'min_child_weight': 8, 'gamma': 0.8075979138806031, 'subsample': 0.36824121363305296, 'colsample_bytree': 0.290746080486748}. Best is trial 14 with value: 20.100859772568345.\u001b[0m\n"
     ]
    },
    {
     "name": "stdout",
     "output_type": "stream",
     "text": [
      "MAPE:  0.15537727198114692\n",
      "MAE:  3.2084430434811884\n"
     ]
    },
    {
     "name": "stderr",
     "output_type": "stream",
     "text": [
      "\u001b[32m[I 2023-04-02 11:54:27,476]\u001b[0m Trial 15 finished with value: 19.591806589007067 and parameters: {'max_depth': 2, 'learning_rate': 0.0768987470783804, 'n_estimators': 248, 'min_child_weight': 8, 'gamma': 0.04045911959049972, 'subsample': 0.1499871978164039, 'colsample_bytree': 0.4864905940892142}. Best is trial 15 with value: 19.591806589007067.\u001b[0m\n"
     ]
    },
    {
     "name": "stdout",
     "output_type": "stream",
     "text": [
      "MAPE:  0.157988169851433\n",
      "MAE:  3.162244795380454\n"
     ]
    },
    {
     "name": "stderr",
     "output_type": "stream",
     "text": [
      "\u001b[32m[I 2023-04-02 11:57:27,835]\u001b[0m Trial 16 finished with value: 20.67030691743345 and parameters: {'max_depth': 1, 'learning_rate': 0.0794023943164875, 'n_estimators': 253, 'min_child_weight': 7, 'gamma': 0.052813078540358376, 'subsample': 0.163527438177479, 'colsample_bytree': 0.4659304851032754}. Best is trial 15 with value: 19.591806589007067.\u001b[0m\n"
     ]
    },
    {
     "name": "stdout",
     "output_type": "stream",
     "text": [
      "MAPE:  0.15855712746292772\n",
      "MAE:  3.311785095006402\n"
     ]
    },
    {
     "name": "stderr",
     "output_type": "stream",
     "text": [
      "\u001b[32m[I 2023-04-02 12:00:14,930]\u001b[0m Trial 17 finished with value: 23.469144995369295 and parameters: {'max_depth': 1, 'learning_rate': 0.10373470332109108, 'n_estimators': 247, 'min_child_weight': 10, 'gamma': 1.0598509884713884e-05, 'subsample': 0.39031862172049053, 'colsample_bytree': 0.15367178836253254}. Best is trial 15 with value: 19.591806589007067.\u001b[0m\n"
     ]
    },
    {
     "name": "stdout",
     "output_type": "stream",
     "text": [
      "MAPE:  0.17985272601649838\n",
      "MAE:  3.6293751483902947\n"
     ]
    },
    {
     "name": "stderr",
     "output_type": "stream",
     "text": [
      "\u001b[32m[I 2023-04-02 12:03:48,627]\u001b[0m Trial 18 finished with value: 18.768597174737597 and parameters: {'max_depth': 3, 'learning_rate': 0.07234784058810115, 'n_estimators': 247, 'min_child_weight': 7, 'gamma': 0.0035908362787553326, 'subsample': 0.11214653812391513, 'colsample_bytree': 0.4610571904380779}. Best is trial 18 with value: 18.768597174737597.\u001b[0m\n"
     ]
    },
    {
     "name": "stdout",
     "output_type": "stream",
     "text": [
      "MAPE:  0.15760672499589012\n",
      "MAE:  3.058292430896334\n"
     ]
    },
    {
     "name": "stderr",
     "output_type": "stream",
     "text": [
      "\u001b[32m[I 2023-04-02 12:08:00,945]\u001b[0m Trial 19 finished with value: 17.159755196988574 and parameters: {'max_depth': 3, 'learning_rate': 0.05467664390325384, 'n_estimators': 270, 'min_child_weight': 7, 'gamma': 0.0019441171400986625, 'subsample': 0.13509877215789207, 'colsample_bytree': 0.5866943599992229}. Best is trial 19 with value: 17.159755196988574.\u001b[0m\n"
     ]
    },
    {
     "name": "stdout",
     "output_type": "stream",
     "text": [
      "MAPE:  0.1467323528623867\n",
      "MAE:  2.9045747444033623\n"
     ]
    },
    {
     "name": "stderr",
     "output_type": "stream",
     "text": [
      "\u001b[32m[I 2023-04-02 12:12:20,231]\u001b[0m Trial 20 finished with value: 19.785743329637345 and parameters: {'max_depth': 3, 'learning_rate': 0.026367365830299642, 'n_estimators': 284, 'min_child_weight': 5, 'gamma': 0.0015824988288655304, 'subsample': 0.04605834128667791, 'colsample_bytree': 0.6401127944234107}. Best is trial 19 with value: 17.159755196988574.\u001b[0m\n"
     ]
    },
    {
     "name": "stdout",
     "output_type": "stream",
     "text": [
      "MAPE:  0.15019177931703068\n",
      "MAE:  3.0723318019500603\n"
     ]
    },
    {
     "name": "stderr",
     "output_type": "stream",
     "text": [
      "\u001b[32m[I 2023-04-02 12:16:06,227]\u001b[0m Trial 21 finished with value: 18.651232661291118 and parameters: {'max_depth': 3, 'learning_rate': 0.06313064907157848, 'n_estimators': 262, 'min_child_weight': 7, 'gamma': 0.0043146410481311225, 'subsample': 0.13803801730364662, 'colsample_bytree': 0.43315142782047916}. Best is trial 19 with value: 17.159755196988574.\u001b[0m\n"
     ]
    },
    {
     "name": "stdout",
     "output_type": "stream",
     "text": [
      "MAPE:  0.15801285119622407\n",
      "MAE:  3.1116801257631934\n"
     ]
    },
    {
     "name": "stderr",
     "output_type": "stream",
     "text": [
      "\u001b[32m[I 2023-04-02 12:19:55,958]\u001b[0m Trial 22 finished with value: 17.703322632014007 and parameters: {'max_depth': 3, 'learning_rate': 0.06017516442465995, 'n_estimators': 270, 'min_child_weight': 7, 'gamma': 0.0005198320509801702, 'subsample': 0.1159415177430952, 'colsample_bytree': 0.4252260903034601}. Best is trial 19 with value: 17.159755196988574.\u001b[0m\n"
     ]
    },
    {
     "name": "stdout",
     "output_type": "stream",
     "text": [
      "MAPE:  0.15096098216161893\n",
      "MAE:  3.0008885892903248\n"
     ]
    },
    {
     "name": "stderr",
     "output_type": "stream",
     "text": [
      "\u001b[32m[I 2023-04-02 12:23:22,699]\u001b[0m Trial 23 finished with value: 26.05815651475149 and parameters: {'max_depth': 4, 'learning_rate': 0.053313213613033913, 'n_estimators': 277, 'min_child_weight': 7, 'gamma': 0.0005929094100544102, 'subsample': 0.07028666686866793, 'colsample_bytree': 0.1551229771038657}. Best is trial 19 with value: 17.159755196988574.\u001b[0m\n"
     ]
    },
    {
     "name": "stdout",
     "output_type": "stream",
     "text": [
      "MAPE:  0.17334024994104208\n",
      "MAE:  3.6566805581600343\n"
     ]
    },
    {
     "name": "stderr",
     "output_type": "stream",
     "text": [
      "\u001b[32m[I 2023-04-02 12:27:03,176]\u001b[0m Trial 24 finished with value: 33.23932244195822 and parameters: {'max_depth': 4, 'learning_rate': 0.14767798859685896, 'n_estimators': 225, 'min_child_weight': 6, 'gamma': 0.00035634678317774564, 'subsample': 0.020519314224395308, 'colsample_bytree': 0.7451917688463411}. Best is trial 19 with value: 17.159755196988574.\u001b[0m\n"
     ]
    },
    {
     "name": "stdout",
     "output_type": "stream",
     "text": [
      "MAPE:  0.1926288927143157\n",
      "MAE:  3.863746918487357\n"
     ]
    },
    {
     "name": "stderr",
     "output_type": "stream",
     "text": [
      "\u001b[32m[I 2023-04-02 12:29:29,676]\u001b[0m Trial 25 finished with value: 20.576524692355786 and parameters: {'max_depth': 2, 'learning_rate': 0.05856253528061937, 'n_estimators': 193, 'min_child_weight': 7, 'gamma': 0.0077264793782876075, 'subsample': 0.14991729973319512, 'colsample_bytree': 0.31779199780461653}. Best is trial 19 with value: 17.159755196988574.\u001b[0m\n"
     ]
    },
    {
     "name": "stdout",
     "output_type": "stream",
     "text": [
      "MAPE:  0.16466451632064838\n",
      "MAE:  3.3676243156891816\n"
     ]
    },
    {
     "name": "stderr",
     "output_type": "stream",
     "text": [
      "\u001b[32m[I 2023-04-02 12:32:44,677]\u001b[0m Trial 26 finished with value: 35.660100250339525 and parameters: {'max_depth': 3, 'learning_rate': 0.030247984290455658, 'n_estimators': 269, 'min_child_weight': 5, 'gamma': 0.001625008161025794, 'subsample': 0.02904962922466346, 'colsample_bytree': 0.2080766217636879}. Best is trial 19 with value: 17.159755196988574.\u001b[0m\n"
     ]
    },
    {
     "name": "stdout",
     "output_type": "stream",
     "text": [
      "MAPE:  0.19350314493198958\n",
      "MAE:  4.296898502224718\n"
     ]
    },
    {
     "name": "stderr",
     "output_type": "stream",
     "text": [
      "\u001b[32m[I 2023-04-02 12:37:30,489]\u001b[0m Trial 27 finished with value: 20.124827319421588 and parameters: {'max_depth': 5, 'learning_rate': 0.057479177000435526, 'n_estimators': 295, 'min_child_weight': 9, 'gamma': 0.0022841075780786627, 'subsample': 0.11961780592133564, 'colsample_bytree': 0.38467465974577864}. Best is trial 19 with value: 17.159755196988574.\u001b[0m\n"
     ]
    },
    {
     "name": "stdout",
     "output_type": "stream",
     "text": [
      "MAPE:  0.16170743068088125\n",
      "MAE:  3.206210575583908\n"
     ]
    },
    {
     "name": "stderr",
     "output_type": "stream",
     "text": [
      "\u001b[32m[I 2023-04-02 12:40:35,722]\u001b[0m Trial 28 finished with value: 22.639772479057786 and parameters: {'max_depth': 2, 'learning_rate': 0.15436736625320352, 'n_estimators': 223, 'min_child_weight': 6, 'gamma': 0.00021668927847728339, 'subsample': 0.05905473044694122, 'colsample_bytree': 0.6422203848797226}. Best is trial 19 with value: 17.159755196988574.\u001b[0m\n"
     ]
    },
    {
     "name": "stdout",
     "output_type": "stream",
     "text": [
      "MAPE:  0.18421452439504662\n",
      "MAE:  3.4150551875824466\n"
     ]
    },
    {
     "name": "stderr",
     "output_type": "stream",
     "text": [
      "\u001b[32m[I 2023-04-02 12:42:28,236]\u001b[0m Trial 29 finished with value: 32.962634919037185 and parameters: {'max_depth': 4, 'learning_rate': 0.03462747757273656, 'n_estimators': 138, 'min_child_weight': 4, 'gamma': 2.343425504240845e-05, 'subsample': 0.11253562056698328, 'colsample_bytree': 0.19951088078431467}. Best is trial 19 with value: 17.159755196988574.\u001b[0m\n"
     ]
    },
    {
     "name": "stdout",
     "output_type": "stream",
     "text": [
      "MAPE:  0.18905990377080734\n",
      "MAE:  4.235512486631759\n"
     ]
    },
    {
     "name": "stderr",
     "output_type": "stream",
     "text": [
      "\u001b[32m[I 2023-04-02 12:45:35,152]\u001b[0m Trial 30 finished with value: 49.680604139612164 and parameters: {'max_depth': 3, 'learning_rate': 0.021229732418521642, 'n_estimators': 265, 'min_child_weight': 7, 'gamma': 0.0007495485164637939, 'subsample': 0.1855297584759339, 'colsample_bytree': 0.09953000127159077}. Best is trial 19 with value: 17.159755196988574.\u001b[0m\n"
     ]
    },
    {
     "name": "stdout",
     "output_type": "stream",
     "text": [
      "MAPE:  0.22869462657158973\n",
      "MAE:  5.366346889202706\n"
     ]
    },
    {
     "name": "stderr",
     "output_type": "stream",
     "text": [
      "\u001b[32m[I 2023-04-02 12:48:48,616]\u001b[0m Trial 31 finished with value: 20.607470041731048 and parameters: {'max_depth': 3, 'learning_rate': 0.07482251043263663, 'n_estimators': 228, 'min_child_weight': 7, 'gamma': 0.005272222819455113, 'subsample': 0.09323397126164917, 'colsample_bytree': 0.42222182234111066}. Best is trial 19 with value: 17.159755196988574.\u001b[0m\n"
     ]
    },
    {
     "name": "stdout",
     "output_type": "stream",
     "text": [
      "MAPE:  0.159655075056824\n",
      "MAE:  3.190479569093526\n"
     ]
    },
    {
     "name": "stderr",
     "output_type": "stream",
     "text": [
      "\u001b[32m[I 2023-04-02 12:52:30,930]\u001b[0m Trial 32 finished with value: 18.408941363295103 and parameters: {'max_depth': 2, 'learning_rate': 0.0682600764962806, 'n_estimators': 261, 'min_child_weight': 6, 'gamma': 0.013463710097545678, 'subsample': 0.0712327279830767, 'colsample_bytree': 0.7125357617416797}. Best is trial 19 with value: 17.159755196988574.\u001b[0m\n"
     ]
    },
    {
     "name": "stdout",
     "output_type": "stream",
     "text": [
      "MAPE:  0.14774341037867927\n",
      "MAE:  3.0128775787545226\n"
     ]
    },
    {
     "name": "stderr",
     "output_type": "stream",
     "text": [
      "\u001b[32m[I 2023-04-02 12:56:22,293]\u001b[0m Trial 33 finished with value: 17.49536657179929 and parameters: {'max_depth': 2, 'learning_rate': 0.043850531738746805, 'n_estimators': 263, 'min_child_weight': 6, 'gamma': 0.015006674020227475, 'subsample': 0.0784548646214354, 'colsample_bytree': 0.7813449485377996}. Best is trial 19 with value: 17.159755196988574.\u001b[0m\n"
     ]
    },
    {
     "name": "stdout",
     "output_type": "stream",
     "text": [
      "MAPE:  0.13735660208306577\n",
      "MAE:  2.864316916430903\n"
     ]
    },
    {
     "name": "stderr",
     "output_type": "stream",
     "text": [
      "\u001b[32m[I 2023-04-02 13:00:41,357]\u001b[0m Trial 34 finished with value: 17.909415952975504 and parameters: {'max_depth': 2, 'learning_rate': 0.04258725373153719, 'n_estimators': 299, 'min_child_weight': 6, 'gamma': 0.012179988229332323, 'subsample': 0.08171751199636497, 'colsample_bytree': 0.7279229800119765}. Best is trial 19 with value: 17.159755196988574.\u001b[0m\n"
     ]
    },
    {
     "name": "stdout",
     "output_type": "stream",
     "text": [
      "MAPE:  0.1427071585148358\n",
      "MAE:  2.9508693025648944\n"
     ]
    },
    {
     "name": "stderr",
     "output_type": "stream",
     "text": [
      "\u001b[32m[I 2023-04-02 13:04:34,066]\u001b[0m Trial 35 finished with value: 19.77699648357425 and parameters: {'max_depth': 1, 'learning_rate': 0.04223710222801564, 'n_estimators': 296, 'min_child_weight': 4, 'gamma': 0.015203968410899604, 'subsample': 0.03525008064921398, 'colsample_bytree': 0.9431204035372894}. Best is trial 19 with value: 17.159755196988574.\u001b[0m\n"
     ]
    },
    {
     "name": "stdout",
     "output_type": "stream",
     "text": [
      "MAPE:  0.15000912984976555\n",
      "MAE:  3.1146466488029523\n"
     ]
    },
    {
     "name": "stderr",
     "output_type": "stream",
     "text": [
      "\u001b[32m[I 2023-04-02 13:08:43,177]\u001b[0m Trial 36 finished with value: 17.019697100611157 and parameters: {'max_depth': 2, 'learning_rate': 0.04466820676537902, 'n_estimators': 281, 'min_child_weight': 5, 'gamma': 0.001534766219289177, 'subsample': 0.08284808566598306, 'colsample_bytree': 0.7248847987484773}. Best is trial 36 with value: 17.019697100611157.\u001b[0m\n"
     ]
    },
    {
     "name": "stdout",
     "output_type": "stream",
     "text": [
      "MAPE:  0.1418795492659536\n",
      "MAE:  2.8993630116445974\n"
     ]
    },
    {
     "name": "stderr",
     "output_type": "stream",
     "text": [
      "\u001b[32m[I 2023-04-02 13:11:17,102]\u001b[0m Trial 37 finished with value: 23.43763725225348 and parameters: {'max_depth': 2, 'learning_rate': 0.02649643900245325, 'n_estimators': 183, 'min_child_weight': 5, 'gamma': 0.001384781579967556, 'subsample': 0.05413288075915712, 'colsample_bytree': 0.5687043625669453}. Best is trial 36 with value: 17.019697100611157.\u001b[0m\n"
     ]
    },
    {
     "name": "stdout",
     "output_type": "stream",
     "text": [
      "MAPE:  0.16125593030536978\n",
      "MAE:  3.4181121440048803\n"
     ]
    },
    {
     "name": "stderr",
     "output_type": "stream",
     "text": [
      "\u001b[32m[I 2023-04-02 13:12:35,676]\u001b[0m Trial 38 finished with value: 79.47339678744322 and parameters: {'max_depth': 1, 'learning_rate': 0.01847046449054724, 'n_estimators': 92, 'min_child_weight': 4, 'gamma': 0.0002933536528243755, 'subsample': 0.06597827034076727, 'colsample_bytree': 0.9926177374150295}. Best is trial 36 with value: 17.019697100611157.\u001b[0m\n"
     ]
    },
    {
     "name": "stdout",
     "output_type": "stream",
     "text": [
      "MAPE:  0.3047173997971106\n",
      "MAE:  6.561999060954267\n"
     ]
    },
    {
     "name": "stderr",
     "output_type": "stream",
     "text": [
      "\u001b[32m[I 2023-04-02 13:13:00,877]\u001b[0m Trial 39 finished with value: 305.4079397422261 and parameters: {'max_depth': 6, 'learning_rate': 0.03616268741429266, 'n_estimators': 16, 'min_child_weight': 3, 'gamma': 0.00017331498153695654, 'subsample': 0.03457786231381414, 'colsample_bytree': 0.7397668216512766}. Best is trial 36 with value: 17.019697100611157.\u001b[0m\n"
     ]
    },
    {
     "name": "stdout",
     "output_type": "stream",
     "text": [
      "MAPE:  1.2730759413422714\n",
      "MAE:  13.585406573750733\n"
     ]
    },
    {
     "name": "stderr",
     "output_type": "stream",
     "text": [
      "\u001b[32m[I 2023-04-02 13:16:38,618]\u001b[0m Trial 40 finished with value: 28.85621242713451 and parameters: {'max_depth': 4, 'learning_rate': 0.014305001872836447, 'n_estimators': 233, 'min_child_weight': 5, 'gamma': 0.12886721113522107, 'subsample': 0.09295721027164075, 'colsample_bytree': 0.35156011718709435}. Best is trial 36 with value: 17.019697100611157.\u001b[0m\n"
     ]
    },
    {
     "name": "stdout",
     "output_type": "stream",
     "text": [
      "MAPE:  0.17201298891729785\n",
      "MAE:  3.7502468227904444\n"
     ]
    },
    {
     "name": "stderr",
     "output_type": "stream",
     "text": [
      "\u001b[32m[I 2023-04-02 13:20:55,126]\u001b[0m Trial 41 finished with value: 17.08862811382279 and parameters: {'max_depth': 2, 'learning_rate': 0.045727926602869076, 'n_estimators': 279, 'min_child_weight': 6, 'gamma': 0.008840101236853425, 'subsample': 0.07506377833664188, 'colsample_bytree': 0.8145998331978344}. Best is trial 36 with value: 17.019697100611157.\u001b[0m\n"
     ]
    },
    {
     "name": "stdout",
     "output_type": "stream",
     "text": [
      "MAPE:  0.1362488699980806\n",
      "MAE:  2.827575638519916\n"
     ]
    },
    {
     "name": "stderr",
     "output_type": "stream",
     "text": [
      "\u001b[32m[I 2023-04-02 13:25:10,237]\u001b[0m Trial 42 finished with value: 16.966166036102805 and parameters: {'max_depth': 2, 'learning_rate': 0.046894645539913765, 'n_estimators': 274, 'min_child_weight': 6, 'gamma': 0.02548603658916235, 'subsample': 0.08020949388236541, 'colsample_bytree': 0.8111492417366589}. Best is trial 42 with value: 16.966166036102805.\u001b[0m\n"
     ]
    },
    {
     "name": "stdout",
     "output_type": "stream",
     "text": [
      "MAPE:  0.13594415482821245\n",
      "MAE:  2.8172369255787797\n"
     ]
    },
    {
     "name": "stderr",
     "output_type": "stream",
     "text": [
      "\u001b[32m[I 2023-04-02 13:30:07,865]\u001b[0m Trial 43 finished with value: 16.866797897187187 and parameters: {'max_depth': 2, 'learning_rate': 0.049315565331700735, 'n_estimators': 284, 'min_child_weight': 6, 'gamma': 0.02570138758293683, 'subsample': 0.0815121665761327, 'colsample_bytree': 0.8177674882963758}. Best is trial 43 with value: 16.866797897187187.\u001b[0m\n"
     ]
    },
    {
     "name": "stdout",
     "output_type": "stream",
     "text": [
      "MAPE:  0.13534701236468694\n",
      "MAE:  2.7999933979838914\n"
     ]
    },
    {
     "name": "stderr",
     "output_type": "stream",
     "text": [
      "\u001b[32m[I 2023-04-02 13:34:08,778]\u001b[0m Trial 44 finished with value: 21.699056545561476 and parameters: {'max_depth': 1, 'learning_rate': 0.049820538900446736, 'n_estimators': 284, 'min_child_weight': 5, 'gamma': 0.026368104219941298, 'subsample': 0.05884322458888697, 'colsample_bytree': 0.5520424081063318}. Best is trial 43 with value: 16.866797897187187.\u001b[0m\n"
     ]
    },
    {
     "name": "stdout",
     "output_type": "stream",
     "text": [
      "MAPE:  0.1618108764559459\n",
      "MAE:  3.373818279401949\n"
     ]
    },
    {
     "name": "stderr",
     "output_type": "stream",
     "text": [
      "\u001b[32m[I 2023-04-02 13:37:48,725]\u001b[0m Trial 45 finished with value: 87.13774449399949 and parameters: {'max_depth': 2, 'learning_rate': 0.031841958554812595, 'n_estimators': 283, 'min_child_weight': 5, 'gamma': 0.1063408224791019, 'subsample': 0.21374422733747186, 'colsample_bytree': 0.04111495161910686}. Best is trial 43 with value: 16.866797897187187.\u001b[0m\n"
     ]
    },
    {
     "name": "stdout",
     "output_type": "stream",
     "text": [
      "MAPE:  0.290717371601681\n",
      "MAE:  7.44942104829508\n"
     ]
    },
    {
     "name": "stderr",
     "output_type": "stream",
     "text": [
      "\u001b[32m[I 2023-04-02 13:41:38,648]\u001b[0m Trial 46 finished with value: 18.777102188767497 and parameters: {'max_depth': 2, 'learning_rate': 0.09207060356962993, 'n_estimators': 212, 'min_child_weight': 4, 'gamma': 0.081462583167023, 'subsample': 0.037634071696168156, 'colsample_bytree': 0.8442200859963446}. Best is trial 43 with value: 16.866797897187187.\u001b[0m\n"
     ]
    },
    {
     "name": "stdout",
     "output_type": "stream",
     "text": [
      "MAPE:  0.14615435562402035\n",
      "MAE:  2.957234927523903\n"
     ]
    },
    {
     "name": "stderr",
     "output_type": "stream",
     "text": [
      "\u001b[32m[I 2023-04-02 13:45:04,411]\u001b[0m Trial 47 finished with value: 32.80698712471563 and parameters: {'max_depth': 1, 'learning_rate': 0.1331734455226473, 'n_estimators': 238, 'min_child_weight': 6, 'gamma': 0.0072758452332324685, 'subsample': 0.02156543836001397, 'colsample_bytree': 0.6003187704599074}. Best is trial 43 with value: 16.866797897187187.\u001b[0m\n"
     ]
    },
    {
     "name": "stdout",
     "output_type": "stream",
     "text": [
      "MAPE:  0.18775081336865304\n",
      "MAE:  3.963808567377559\n"
     ]
    },
    {
     "name": "stderr",
     "output_type": "stream",
     "text": [
      "\u001b[32m[I 2023-04-02 13:48:30,090]\u001b[0m Trial 48 finished with value: 182.08804583400686 and parameters: {'max_depth': 2, 'learning_rate': 0.02541375268763891, 'n_estimators': 280, 'min_child_weight': 8, 'gamma': 0.027146719651444818, 'subsample': 0.04949483920950096, 'colsample_bytree': 0.02173038069641386}. Best is trial 43 with value: 16.866797897187187.\u001b[0m\n"
     ]
    },
    {
     "name": "stdout",
     "output_type": "stream",
     "text": [
      "MAPE:  0.37965241800969646\n",
      "MAE:  10.798273878575069\n"
     ]
    },
    {
     "name": "stderr",
     "output_type": "stream",
     "text": [
      "\u001b[32m[I 2023-04-02 13:49:23,895]\u001b[0m Trial 49 finished with value: 41.6149881088287 and parameters: {'max_depth': 1, 'learning_rate': 0.6117367739330613, 'n_estimators': 63, 'min_child_weight': 3, 'gamma': 0.2775935346828164, 'subsample': 0.09697709916162031, 'colsample_bytree': 0.2530150911400711}. Best is trial 43 with value: 16.866797897187187.\u001b[0m\n"
     ]
    },
    {
     "name": "stdout",
     "output_type": "stream",
     "text": [
      "MAPE:  0.27173672796087867\n",
      "MAE:  4.759938420406516\n"
     ]
    },
    {
     "name": "stderr",
     "output_type": "stream",
     "text": [
      "\u001b[32m[I 2023-04-02 13:59:04,051]\u001b[0m Trial 50 finished with value: 20.537367679378107 and parameters: {'max_depth': 8, 'learning_rate': 0.013477064812992589, 'n_estimators': 256, 'min_child_weight': 1, 'gamma': 0.002589770334671053, 'subsample': 0.17700731311428233, 'colsample_bytree': 0.9289727397458578}. Best is trial 43 with value: 16.866797897187187.\u001b[0m\n"
     ]
    },
    {
     "name": "stdout",
     "output_type": "stream",
     "text": [
      "MAPE:  0.1576937638251558\n",
      "MAE:  3.088155316907847\n"
     ]
    },
    {
     "name": "stderr",
     "output_type": "stream",
     "text": [
      "\u001b[32m[I 2023-04-02 14:03:33,235]\u001b[0m Trial 51 finished with value: 17.069389657240915 and parameters: {'max_depth': 2, 'learning_rate': 0.046673556344769364, 'n_estimators': 271, 'min_child_weight': 6, 'gamma': 0.018568285705479647, 'subsample': 0.08260981919702046, 'colsample_bytree': 0.7974126282093293}. Best is trial 43 with value: 16.866797897187187.\u001b[0m\n"
     ]
    },
    {
     "name": "stdout",
     "output_type": "stream",
     "text": [
      "MAPE:  0.13814210168504404\n",
      "MAE:  2.848212704127818\n"
     ]
    },
    {
     "name": "stderr",
     "output_type": "stream",
     "text": [
      "\u001b[32m[I 2023-04-02 14:08:25,409]\u001b[0m Trial 52 finished with value: 17.073853481085486 and parameters: {'max_depth': 3, 'learning_rate': 0.0373311312760478, 'n_estimators': 287, 'min_child_weight': 6, 'gamma': 0.023557812997550616, 'subsample': 0.12906125492892687, 'colsample_bytree': 0.5109209037847063}. Best is trial 43 with value: 16.866797897187187.\u001b[0m\n"
     ]
    },
    {
     "name": "stdout",
     "output_type": "stream",
     "text": [
      "MAPE:  0.1477403570939721\n",
      "MAE:  2.9503120659300457\n"
     ]
    },
    {
     "name": "stderr",
     "output_type": "stream",
     "text": [
      "\u001b[32m[I 2023-04-02 14:11:57,268]\u001b[0m Trial 53 finished with value: 57.63033111510468 and parameters: {'max_depth': 2, 'learning_rate': 0.03705079926438457, 'n_estimators': 288, 'min_child_weight': 6, 'gamma': 0.022342802085501455, 'subsample': 0.08205762117106608, 'colsample_bytree': 0.06668185834596153}. Best is trial 43 with value: 16.866797897187187.\u001b[0m\n"
     ]
    },
    {
     "name": "stdout",
     "output_type": "stream",
     "text": [
      "MAPE:  0.2460891594842842\n",
      "MAE:  5.866685439315107\n"
     ]
    },
    {
     "name": "stderr",
     "output_type": "stream",
     "text": [
      "\u001b[32m[I 2023-04-02 14:15:36,167]\u001b[0m Trial 54 finished with value: 22.743178103895247 and parameters: {'max_depth': 1, 'learning_rate': 0.02255405310124111, 'n_estimators': 274, 'min_child_weight': 5, 'gamma': 0.06278402540567572, 'subsample': 0.10673650822329975, 'colsample_bytree': 0.49150405188417257}. Best is trial 43 with value: 16.866797897187187.\u001b[0m\n"
     ]
    },
    {
     "name": "stdout",
     "output_type": "stream",
     "text": [
      "MAPE:  0.17228643790283443\n",
      "MAE:  3.612465249080407\n"
     ]
    },
    {
     "name": "stderr",
     "output_type": "stream",
     "text": [
      "\u001b[32m[I 2023-04-02 14:20:30,747]\u001b[0m Trial 55 finished with value: 18.41947816115491 and parameters: {'max_depth': 2, 'learning_rate': 0.04831319963547167, 'n_estimators': 291, 'min_child_weight': 6, 'gamma': 0.009352245701538532, 'subsample': 0.06245629439078963, 'colsample_bytree': 0.7852167385209794}. Best is trial 43 with value: 16.866797897187187.\u001b[0m\n"
     ]
    },
    {
     "name": "stdout",
     "output_type": "stream",
     "text": [
      "MAPE:  0.14119832416557576\n",
      "MAE:  2.9136150074763254\n"
     ]
    },
    {
     "name": "stderr",
     "output_type": "stream",
     "text": [
      "\u001b[32m[I 2023-04-02 14:25:21,357]\u001b[0m Trial 56 finished with value: 20.656428456165997 and parameters: {'max_depth': 3, 'learning_rate': 0.08617486461537877, 'n_estimators': 254, 'min_child_weight': 5, 'gamma': 0.036025159169012444, 'subsample': 0.04568799139539806, 'colsample_bytree': 0.6521086712749936}. Best is trial 43 with value: 16.866797897187187.\u001b[0m\n"
     ]
    },
    {
     "name": "stdout",
     "output_type": "stream",
     "text": [
      "MAPE:  0.17028550147064997\n",
      "MAE:  3.1946037210829075\n"
     ]
    },
    {
     "name": "stderr",
     "output_type": "stream",
     "text": [
      "\u001b[32m[I 2023-04-02 14:30:44,010]\u001b[0m Trial 57 finished with value: 15.097427290184015 and parameters: {'max_depth': 3, 'learning_rate': 0.03047036520892406, 'n_estimators': 242, 'min_child_weight': 6, 'gamma': 0.14592477847913116, 'subsample': 0.12955505546821083, 'colsample_bytree': 0.9905592499609551}. Best is trial 57 with value: 15.097427290184015.\u001b[0m\n"
     ]
    },
    {
     "name": "stdout",
     "output_type": "stream",
     "text": [
      "MAPE:  0.12268305999135773\n",
      "MAE:  2.5332384431702004\n"
     ]
    },
    {
     "name": "stderr",
     "output_type": "stream",
     "text": [
      "\u001b[32m[I 2023-04-02 14:36:35,764]\u001b[0m Trial 58 finished with value: 17.174513865385407 and parameters: {'max_depth': 4, 'learning_rate': 0.016286206603431646, 'n_estimators': 239, 'min_child_weight': 2, 'gamma': 0.1480413439766231, 'subsample': 0.13219209963330716, 'colsample_bytree': 0.9788547776839865}. Best is trial 57 with value: 15.097427290184015.\u001b[0m\n"
     ]
    },
    {
     "name": "stdout",
     "output_type": "stream",
     "text": [
      "MAPE:  0.1319035436303887\n",
      "MAE:  2.754190864488047\n"
     ]
    },
    {
     "name": "stderr",
     "output_type": "stream",
     "text": [
      "\u001b[32m[I 2023-04-02 14:41:32,525]\u001b[0m Trial 59 finished with value: 16.75608608490733 and parameters: {'max_depth': 3, 'learning_rate': 0.028241348818209135, 'n_estimators': 300, 'min_child_weight': 5, 'gamma': 0.4738516234435941, 'subsample': 0.2817150043147312, 'colsample_bytree': 0.5199631456090724}. Best is trial 57 with value: 15.097427290184015.\u001b[0m\n"
     ]
    },
    {
     "name": "stdout",
     "output_type": "stream",
     "text": [
      "MAPE:  0.14158885819004205\n",
      "MAE:  2.8791882350866556\n"
     ]
    },
    {
     "name": "stderr",
     "output_type": "stream",
     "text": [
      "\u001b[32m[I 2023-04-02 14:46:28,318]\u001b[0m Trial 60 finished with value: 18.417150382600806 and parameters: {'max_depth': 3, 'learning_rate': 0.02782057432992022, 'n_estimators': 300, 'min_child_weight': 4, 'gamma': 0.3632684466009535, 'subsample': 0.5377317583546591, 'colsample_bytree': 0.3794879253654188}. Best is trial 57 with value: 15.097427290184015.\u001b[0m\n"
     ]
    },
    {
     "name": "stdout",
     "output_type": "stream",
     "text": [
      "MAPE:  0.14820963266211085\n",
      "MAE:  3.052701389972578\n"
     ]
    },
    {
     "name": "stderr",
     "output_type": "stream",
     "text": [
      "\u001b[32m[I 2023-04-02 14:50:55,086]\u001b[0m Trial 61 finished with value: 17.43972894454181 and parameters: {'max_depth': 3, 'learning_rate': 0.03525405774372836, 'n_estimators': 272, 'min_child_weight': 5, 'gamma': 0.23684517335297361, 'subsample': 0.30026521841477916, 'colsample_bytree': 0.4989454108979085}. Best is trial 57 with value: 15.097427290184015.\u001b[0m\n"
     ]
    },
    {
     "name": "stdout",
     "output_type": "stream",
     "text": [
      "MAPE:  0.1440591791186042\n",
      "MAE:  2.915115402412345\n"
     ]
    },
    {
     "name": "stderr",
     "output_type": "stream",
     "text": [
      "\u001b[32m[I 2023-04-02 14:55:46,221]\u001b[0m Trial 62 finished with value: 16.287569143742864 and parameters: {'max_depth': 3, 'learning_rate': 0.03017214060273611, 'n_estimators': 287, 'min_child_weight': 6, 'gamma': 0.5673878566110172, 'subsample': 0.21402057600330762, 'colsample_bytree': 0.643995439847752}. Best is trial 57 with value: 15.097427290184015.\u001b[0m\n"
     ]
    },
    {
     "name": "stdout",
     "output_type": "stream",
     "text": [
      "MAPE:  0.1374695357041107\n",
      "MAE:  2.8009834710661083\n"
     ]
    },
    {
     "name": "stderr",
     "output_type": "stream",
     "text": [
      "\u001b[32m[I 2023-04-02 15:01:15,890]\u001b[0m Trial 63 finished with value: 16.142736113794726 and parameters: {'max_depth': 4, 'learning_rate': 0.022785812642173404, 'n_estimators': 249, 'min_child_weight': 6, 'gamma': 0.5139088606828269, 'subsample': 0.39535430940636096, 'colsample_bytree': 0.6692637667061357}. Best is trial 57 with value: 15.097427290184015.\u001b[0m\n"
     ]
    },
    {
     "name": "stdout",
     "output_type": "stream",
     "text": [
      "MAPE:  0.1328024536317613\n",
      "MAE:  2.731882275806533\n"
     ]
    },
    {
     "name": "stderr",
     "output_type": "stream",
     "text": [
      "\u001b[32m[I 2023-04-02 15:07:05,839]\u001b[0m Trial 64 finished with value: 16.083392783043355 and parameters: {'max_depth': 4, 'learning_rate': 0.024585115817487273, 'n_estimators': 247, 'min_child_weight': 7, 'gamma': 0.5405401327530833, 'subsample': 0.41831859334878146, 'colsample_bytree': 0.6545804828429851}. Best is trial 57 with value: 15.097427290184015.\u001b[0m\n"
     ]
    },
    {
     "name": "stdout",
     "output_type": "stream",
     "text": [
      "MAPE:  0.1328685261680312\n",
      "MAE:  2.73747905413484\n"
     ]
    },
    {
     "name": "stderr",
     "output_type": "stream",
     "text": [
      "\u001b[32m[I 2023-04-02 15:12:35,596]\u001b[0m Trial 65 finished with value: 16.318468408340713 and parameters: {'max_depth': 4, 'learning_rate': 0.02290615913062281, 'n_estimators': 221, 'min_child_weight': 7, 'gamma': 0.6049624731102612, 'subsample': 0.45994680905996366, 'colsample_bytree': 0.6449557544764304}. Best is trial 57 with value: 15.097427290184015.\u001b[0m\n"
     ]
    },
    {
     "name": "stdout",
     "output_type": "stream",
     "text": [
      "MAPE:  0.13345094631685775\n",
      "MAE:  2.751675648298877\n"
     ]
    },
    {
     "name": "stderr",
     "output_type": "stream",
     "text": [
      "\u001b[32m[I 2023-04-02 15:17:43,096]\u001b[0m Trial 66 finished with value: 24.873560640030924 and parameters: {'max_depth': 4, 'learning_rate': 0.012466615064793714, 'n_estimators': 204, 'min_child_weight': 8, 'gamma': 0.6319026726433011, 'subsample': 0.44655039208789227, 'colsample_bytree': 0.6392659615973947}. Best is trial 57 with value: 15.097427290184015.\u001b[0m\n"
     ]
    },
    {
     "name": "stdout",
     "output_type": "stream",
     "text": [
      "MAPE:  0.17199108304035077\n",
      "MAE:  3.5623126304463337\n"
     ]
    },
    {
     "name": "stderr",
     "output_type": "stream",
     "text": [
      "\u001b[32m[I 2023-04-02 15:22:38,409]\u001b[0m Trial 67 finished with value: 18.630229662274434 and parameters: {'max_depth': 5, 'learning_rate': 0.02280804662932953, 'n_estimators': 247, 'min_child_weight': 7, 'gamma': 0.5345645199049404, 'subsample': 0.34865665310485433, 'colsample_bytree': 0.35427578387170133}. Best is trial 57 with value: 15.097427290184015.\u001b[0m\n"
     ]
    },
    {
     "name": "stdout",
     "output_type": "stream",
     "text": [
      "MAPE:  0.1492609721566183\n",
      "MAE:  3.0787314318599757\n"
     ]
    },
    {
     "name": "stderr",
     "output_type": "stream",
     "text": [
      "\u001b[32m[I 2023-04-02 15:28:12,028]\u001b[0m Trial 68 finished with value: 18.869251737120415 and parameters: {'max_depth': 4, 'learning_rate': 0.019247066816294026, 'n_estimators': 214, 'min_child_weight': 7, 'gamma': 0.9631507578174787, 'subsample': 0.9911464243047731, 'colsample_bytree': 0.5619132549375787}. Best is trial 57 with value: 15.097427290184015.\u001b[0m\n"
     ]
    },
    {
     "name": "stdout",
     "output_type": "stream",
     "text": [
      "MAPE:  0.1405078701463223\n",
      "MAE:  2.970931806432748\n"
     ]
    },
    {
     "name": "stderr",
     "output_type": "stream",
     "text": [
      "\u001b[32m[I 2023-04-02 15:31:44,383]\u001b[0m Trial 69 finished with value: 34.34805311534533 and parameters: {'max_depth': 5, 'learning_rate': 0.015923225310210235, 'n_estimators': 145, 'min_child_weight': 8, 'gamma': 0.3909799928209215, 'subsample': 0.8235854275809276, 'colsample_bytree': 0.44718996917469167}. Best is trial 57 with value: 15.097427290184015.\u001b[0m\n"
     ]
    },
    {
     "name": "stdout",
     "output_type": "stream",
     "text": [
      "MAPE:  0.18750276738527732\n",
      "MAE:  4.0844286898074795\n"
     ]
    },
    {
     "name": "stderr",
     "output_type": "stream",
     "text": [
      "\u001b[32m[I 2023-04-02 15:34:43,526]\u001b[0m Trial 70 finished with value: 90.20223549608862 and parameters: {'max_depth': 4, 'learning_rate': 0.011156684391296454, 'n_estimators': 114, 'min_child_weight': 7, 'gamma': 0.19508585795097141, 'subsample': 0.5936061198920036, 'colsample_bytree': 0.6561531850262646}. Best is trial 57 with value: 15.097427290184015.\u001b[0m\n"
     ]
    },
    {
     "name": "stdout",
     "output_type": "stream",
     "text": [
      "MAPE:  0.3852961807495228\n",
      "MAE:  7.055251999251675\n"
     ]
    },
    {
     "name": "stderr",
     "output_type": "stream",
     "text": [
      "\u001b[32m[I 2023-04-02 15:43:21,190]\u001b[0m Trial 71 finished with value: 15.073229253843758 and parameters: {'max_depth': 5, 'learning_rate': 0.024865490842628134, 'n_estimators': 257, 'min_child_weight': 6, 'gamma': 0.6302639461796209, 'subsample': 0.4431364295014528, 'colsample_bytree': 0.8917014689366475}. Best is trial 71 with value: 15.073229253843758.\u001b[0m\n"
     ]
    },
    {
     "name": "stdout",
     "output_type": "stream",
     "text": [
      "MAPE:  0.12192055984923449\n",
      "MAE:  2.5222200496852047\n"
     ]
    },
    {
     "name": "stderr",
     "output_type": "stream",
     "text": [
      "\u001b[32m[I 2023-04-02 15:51:45,882]\u001b[0m Trial 72 finished with value: 15.279913642505385 and parameters: {'max_depth': 6, 'learning_rate': 0.030042536150021545, 'n_estimators': 221, 'min_child_weight': 7, 'gamma': 0.6312115966433082, 'subsample': 0.46633973261719236, 'colsample_bytree': 0.8850018556869065}. Best is trial 71 with value: 15.073229253843758.\u001b[0m\n"
     ]
    },
    {
     "name": "stdout",
     "output_type": "stream",
     "text": [
      "MAPE:  0.12427653651713617\n",
      "MAE:  2.5408362646244074\n"
     ]
    },
    {
     "name": "stderr",
     "output_type": "stream",
     "text": [
      "\u001b[32m[I 2023-04-02 16:01:33,869]\u001b[0m Trial 73 finished with value: 15.326264353378374 and parameters: {'max_depth': 6, 'learning_rate': 0.024033984547075036, 'n_estimators': 219, 'min_child_weight': 7, 'gamma': 0.6471110397876287, 'subsample': 0.4743861565371677, 'colsample_bytree': 0.9040488101506872}. Best is trial 71 with value: 15.073229253843758.\u001b[0m\n"
     ]
    },
    {
     "name": "stdout",
     "output_type": "stream",
     "text": [
      "MAPE:  0.12556428223418017\n",
      "MAE:  2.557578276929974\n"
     ]
    },
    {
     "name": "stderr",
     "output_type": "stream",
     "text": [
      "\u001b[32m[I 2023-04-02 16:11:55,522]\u001b[0m Trial 74 finished with value: 15.49821571841511 and parameters: {'max_depth': 6, 'learning_rate': 0.02409731782207934, 'n_estimators': 219, 'min_child_weight': 8, 'gamma': 0.6763152762685947, 'subsample': 0.4611699192190797, 'colsample_bytree': 0.8946422956205355}. Best is trial 71 with value: 15.073229253843758.\u001b[0m\n"
     ]
    },
    {
     "name": "stdout",
     "output_type": "stream",
     "text": [
      "MAPE:  0.12595536362866577\n",
      "MAE:  2.5780731682278955\n"
     ]
    },
    {
     "name": "stderr",
     "output_type": "stream",
     "text": [
      "\u001b[32m[I 2023-04-02 16:20:27,689]\u001b[0m Trial 75 finished with value: 16.40682604062542 and parameters: {'max_depth': 6, 'learning_rate': 0.020150078501456777, 'n_estimators': 185, 'min_child_weight': 9, 'gamma': 0.7173048234420704, 'subsample': 0.4308401234068987, 'colsample_bytree': 0.8837499829758863}. Best is trial 71 with value: 15.073229253843758.\u001b[0m\n"
     ]
    },
    {
     "name": "stdout",
     "output_type": "stream",
     "text": [
      "MAPE:  0.1354181786393393\n",
      "MAE:  2.735977918171046\n"
     ]
    },
    {
     "name": "stderr",
     "output_type": "stream",
     "text": [
      "\u001b[32m[I 2023-04-02 16:33:48,478]\u001b[0m Trial 76 finished with value: 15.609662601918293 and parameters: {'max_depth': 7, 'learning_rate': 0.031482780422976954, 'n_estimators': 227, 'min_child_weight': 8, 'gamma': 0.3368046043502785, 'subsample': 0.7466713523780388, 'colsample_bytree': 0.9871728087211787}. Best is trial 71 with value: 15.073229253843758.\u001b[0m\n"
     ]
    },
    {
     "name": "stdout",
     "output_type": "stream",
     "text": [
      "MAPE:  0.12185301761000414\n",
      "MAE:  2.529751369675175\n"
     ]
    },
    {
     "name": "stderr",
     "output_type": "stream",
     "text": [
      "\u001b[32m[I 2023-04-02 16:43:00,552]\u001b[0m Trial 77 finished with value: 17.518589095272844 and parameters: {'max_depth': 7, 'learning_rate': 0.01598180632804347, 'n_estimators': 199, 'min_child_weight': 9, 'gamma': 0.27529433479410526, 'subsample': 0.7487008558688512, 'colsample_bytree': 0.9725065287812514}. Best is trial 71 with value: 15.073229253843758.\u001b[0m\n"
     ]
    },
    {
     "name": "stdout",
     "output_type": "stream",
     "text": [
      "MAPE:  0.14498843537828898\n",
      "MAE:  2.8517771066324404\n"
     ]
    },
    {
     "name": "stderr",
     "output_type": "stream",
     "text": [
      "\u001b[32m[I 2023-04-02 16:52:42,587]\u001b[0m Trial 78 finished with value: 15.000705764157184 and parameters: {'max_depth': 6, 'learning_rate': 0.02467348823865242, 'n_estimators': 230, 'min_child_weight': 8, 'gamma': 0.9928338936620125, 'subsample': 0.5181335852020458, 'colsample_bytree': 0.9228238058568794}. Best is trial 78 with value: 15.000705764157184.\u001b[0m\n"
     ]
    },
    {
     "name": "stdout",
     "output_type": "stream",
     "text": [
      "MAPE:  0.12293278353107266\n",
      "MAE:  2.520511481627735\n"
     ]
    },
    {
     "name": "stderr",
     "output_type": "stream",
     "text": [
      "\u001b[32m[I 2023-04-02 17:03:30,587]\u001b[0m Trial 79 finished with value: 15.615166509006984 and parameters: {'max_depth': 6, 'learning_rate': 0.018653252295597507, 'n_estimators': 229, 'min_child_weight': 8, 'gamma': 0.9230382223993421, 'subsample': 0.5508603229856104, 'colsample_bytree': 0.8854905753165371}. Best is trial 78 with value: 15.000705764157184.\u001b[0m\n"
     ]
    },
    {
     "name": "stdout",
     "output_type": "stream",
     "text": [
      "MAPE:  0.12986332715342533\n",
      "MAE:  2.626576153398083\n"
     ]
    },
    {
     "name": "stderr",
     "output_type": "stream",
     "text": [
      "\u001b[32m[I 2023-04-02 17:14:00,217]\u001b[0m Trial 80 finished with value: 15.558612488519676 and parameters: {'max_depth': 6, 'learning_rate': 0.018451368861527578, 'n_estimators': 216, 'min_child_weight': 8, 'gamma': 0.9947948274523523, 'subsample': 0.5235991141633888, 'colsample_bytree': 0.9983814252342557}. Best is trial 78 with value: 15.000705764157184.\u001b[0m\n"
     ]
    },
    {
     "name": "stdout",
     "output_type": "stream",
     "text": [
      "MAPE:  0.12882186868228704\n",
      "MAE:  2.5986326050601507\n"
     ]
    },
    {
     "name": "stderr",
     "output_type": "stream",
     "text": [
      "\u001b[32m[I 2023-04-02 17:25:14,112]\u001b[0m Trial 81 finished with value: 15.688334417065498 and parameters: {'max_depth': 6, 'learning_rate': 0.01763972698808229, 'n_estimators': 231, 'min_child_weight': 8, 'gamma': 0.872227711262704, 'subsample': 0.5157011557805354, 'colsample_bytree': 0.8975847190083661}. Best is trial 78 with value: 15.000705764157184.\u001b[0m\n"
     ]
    },
    {
     "name": "stdout",
     "output_type": "stream",
     "text": [
      "MAPE:  0.13048994158746682\n",
      "MAE:  2.6355621511693936\n"
     ]
    },
    {
     "name": "stderr",
     "output_type": "stream",
     "text": [
      "\u001b[32m[I 2023-04-02 17:36:57,540]\u001b[0m Trial 82 finished with value: 15.588295772825932 and parameters: {'max_depth': 7, 'learning_rate': 0.03206342363462283, 'n_estimators': 217, 'min_child_weight': 8, 'gamma': 0.3539376157468681, 'subsample': 0.6836491986140606, 'colsample_bytree': 0.9955577117800264}. Best is trial 78 with value: 15.000705764157184.\u001b[0m\n"
     ]
    },
    {
     "name": "stdout",
     "output_type": "stream",
     "text": [
      "MAPE:  0.12243899620150661\n",
      "MAE:  2.5266705786275585\n"
     ]
    },
    {
     "name": "stderr",
     "output_type": "stream",
     "text": [
      "\u001b[32m[I 2023-04-02 17:48:57,539]\u001b[0m Trial 83 finished with value: 15.51246134694019 and parameters: {'max_depth': 7, 'learning_rate': 0.03352166130801486, 'n_estimators': 215, 'min_child_weight': 8, 'gamma': 0.34830074628277585, 'subsample': 0.6998086436112801, 'colsample_bytree': 0.9745270577796846}. Best is trial 78 with value: 15.000705764157184.\u001b[0m\n"
     ]
    },
    {
     "name": "stdout",
     "output_type": "stream",
     "text": [
      "MAPE:  0.12302502842917601\n",
      "MAE:  2.5289037662683524\n",
      "MAPE:  0.13030155898747597\n",
      "MAE:  2.6480058669956805\n"
     ]
    },
    {
     "name": "stderr",
     "output_type": "stream",
     "text": [
      "\u001b[32m[I 2023-04-02 17:57:16,689]\u001b[0m Trial 84 finished with value: 15.596771002929662 and parameters: {'max_depth': 7, 'learning_rate': 0.03215349135875943, 'n_estimators': 218, 'min_child_weight': 10, 'gamma': 0.16577995787712518, 'subsample': 0.6431487941205234, 'colsample_bytree': 0.7391684352476198}. Best is trial 78 with value: 15.000705764157184.\u001b[0m\n"
     ]
    },
    {
     "name": "stdout",
     "output_type": "stream",
     "text": [
      "MAPE:  0.1285182028948461\n",
      "MAE:  2.5965576766396476\n"
     ]
    },
    {
     "name": "stderr",
     "output_type": "stream",
     "text": [
      "\u001b[32m[I 2023-04-02 18:09:20,697]\u001b[0m Trial 85 finished with value: 15.39177738238973 and parameters: {'max_depth': 8, 'learning_rate': 0.025711535858799584, 'n_estimators': 207, 'min_child_weight': 9, 'gamma': 0.3143515567522961, 'subsample': 0.7105155451564666, 'colsample_bytree': 0.8461535946159782}. Best is trial 78 with value: 15.000705764157184.\u001b[0m\n",
      "\u001b[32m[I 2023-04-02 18:18:20,481]\u001b[0m Trial 86 finished with value: 16.57997620214325 and parameters: {'max_depth': 8, 'learning_rate': 0.020482570371880574, 'n_estimators': 191, 'min_child_weight': 9, 'gamma': 0.7375537594889883, 'subsample': 0.346913248572001, 'colsample_bytree': 0.8477505167513144}. Best is trial 78 with value: 15.000705764157184.\u001b[0m\n"
     ]
    },
    {
     "name": "stdout",
     "output_type": "stream",
     "text": [
      "MAPE:  0.135419157681754\n",
      "MAE:  2.747434812309275\n"
     ]
    },
    {
     "name": "stderr",
     "output_type": "stream",
     "text": [
      "\u001b[32m[I 2023-04-02 18:28:08,307]\u001b[0m Trial 87 finished with value: 20.311426999883047 and parameters: {'max_depth': 8, 'learning_rate': 0.014177738919185586, 'n_estimators': 205, 'min_child_weight': 9, 'gamma': 0.19759165965946274, 'subsample': 0.4810646228338314, 'colsample_bytree': 0.7240519002737588}. Best is trial 78 with value: 15.000705764157184.\u001b[0m\n"
     ]
    },
    {
     "name": "stdout",
     "output_type": "stream",
     "text": [
      "MAPE:  0.15792530492329857\n",
      "MAE:  3.188988388978947\n"
     ]
    },
    {
     "name": "stderr",
     "output_type": "stream",
     "text": [
      "\u001b[32m[I 2023-04-02 18:36:33,455]\u001b[0m Trial 88 finished with value: 15.999791855680257 and parameters: {'max_depth': 6, 'learning_rate': 0.02678414083652162, 'n_estimators': 166, 'min_child_weight': 9, 'gamma': 0.09707666635437072, 'subsample': 0.79581320853643, 'colsample_bytree': 0.8546852758978585}. Best is trial 78 with value: 15.000705764157184.\u001b[0m\n"
     ]
    },
    {
     "name": "stdout",
     "output_type": "stream",
     "text": [
      "MAPE:  0.13043910423297295\n",
      "MAE:  2.661478067045672\n"
     ]
    },
    {
     "name": "stderr",
     "output_type": "stream",
     "text": [
      "\u001b[32m[I 2023-04-02 18:44:35,063]\u001b[0m Trial 89 finished with value: 16.20604921488839 and parameters: {'max_depth': 9, 'learning_rate': 0.024427279851500516, 'n_estimators': 209, 'min_child_weight': 8, 'gamma': 0.28881539621449004, 'subsample': 0.5925153034781316, 'colsample_bytree': 0.5764106411067483}. Best is trial 78 with value: 15.000705764157184.\u001b[0m\n"
     ]
    },
    {
     "name": "stdout",
     "output_type": "stream",
     "text": [
      "MAPE:  0.1337340922540949\n",
      "MAE:  2.7386803481270348\n"
     ]
    },
    {
     "name": "stderr",
     "output_type": "stream",
     "text": [
      "\u001b[32m[I 2023-04-02 18:51:36,954]\u001b[0m Trial 90 finished with value: 16.193570179703524 and parameters: {'max_depth': 6, 'learning_rate': 0.04082010854205888, 'n_estimators': 236, 'min_child_weight': 10, 'gamma': 0.45486431283737316, 'subsample': 0.3645097704080769, 'colsample_bytree': 0.7450134727308532}. Best is trial 78 with value: 15.000705764157184.\u001b[0m\n"
     ]
    },
    {
     "name": "stdout",
     "output_type": "stream",
     "text": [
      "MAPE:  0.1306729083257817\n",
      "MAE:  2.65900299029305\n"
     ]
    },
    {
     "name": "stderr",
     "output_type": "stream",
     "text": [
      "\u001b[32m[I 2023-04-02 19:01:16,360]\u001b[0m Trial 91 finished with value: 16.110319657265443 and parameters: {'max_depth': 6, 'learning_rate': 0.0290250293423331, 'n_estimators': 218, 'min_child_weight': 8, 'gamma': 0.376333651331728, 'subsample': 0.8878808724559687, 'colsample_bytree': 0.9930868443770642}. Best is trial 78 with value: 15.000705764157184.\u001b[0m\n"
     ]
    },
    {
     "name": "stdout",
     "output_type": "stream",
     "text": [
      "MAPE:  0.12011406300313439\n",
      "MAE:  2.5519150734732023\n",
      "MAPE:  0.12607754114600755\n",
      "MAE:  2.5491998393241078\n"
     ]
    },
    {
     "name": "stderr",
     "output_type": "stream",
     "text": [
      "\u001b[32m[I 2023-04-02 19:09:33,439]\u001b[0m Trial 92 finished with value: 15.485770193097762 and parameters: {'max_depth': 8, 'learning_rate': 0.039817319847426834, 'n_estimators': 177, 'min_child_weight': 8, 'gamma': 0.7521148338445778, 'subsample': 0.6613980076783404, 'colsample_bytree': 0.8970870814960389}. Best is trial 78 with value: 15.000705764157184.\u001b[0m\n",
      "\u001b[32m[I 2023-04-02 19:17:04,553]\u001b[0m Trial 93 finished with value: 15.651232163534328 and parameters: {'max_depth': 8, 'learning_rate': 0.03791551934593621, 'n_estimators': 178, 'min_child_weight': 8, 'gamma': 0.7208897013641518, 'subsample': 0.4992079975200659, 'colsample_bytree': 0.8506565904920886}. Best is trial 78 with value: 15.000705764157184.\u001b[0m\n"
     ]
    },
    {
     "name": "stdout",
     "output_type": "stream",
     "text": [
      "MAPE:  0.1282627916783071\n",
      "MAE:  2.6020528743185145\n"
     ]
    },
    {
     "name": "stderr",
     "output_type": "stream",
     "text": [
      "\u001b[32m[I 2023-04-02 19:19:25,879]\u001b[0m Trial 94 finished with value: 230.1786934661475 and parameters: {'max_depth': 7, 'learning_rate': 0.020977283096488865, 'n_estimators': 198, 'min_child_weight': 9, 'gamma': 0.7812695359302415, 'subsample': 0.5909579500868853, 'colsample_bytree': 0.013796530098359778}. Best is trial 78 with value: 15.000705764157184.\u001b[0m\n"
     ]
    },
    {
     "name": "stdout",
     "output_type": "stream",
     "text": [
      "MAPE:  0.4198443250335322\n",
      "MAE:  12.32932839721267\n"
     ]
    },
    {
     "name": "stderr",
     "output_type": "stream",
     "text": [
      "\u001b[32m[I 2023-04-02 19:26:49,333]\u001b[0m Trial 95 finished with value: 15.938191584348951 and parameters: {'max_depth': 5, 'learning_rate': 0.027281543706675276, 'n_estimators': 242, 'min_child_weight': 7, 'gamma': 0.23915405955207486, 'subsample': 0.6873091908746759, 'colsample_bytree': 0.7652886348659003}. Best is trial 78 with value: 15.000705764157184.\u001b[0m\n"
     ]
    },
    {
     "name": "stdout",
     "output_type": "stream",
     "text": [
      "MAPE:  0.1263579924212394\n",
      "MAE:  2.6469323461690144\n"
     ]
    },
    {
     "name": "stderr",
     "output_type": "stream",
     "text": [
      "\u001b[32m[I 2023-04-02 19:33:27,230]\u001b[0m Trial 96 finished with value: 15.788444239075002 and parameters: {'max_depth': 8, 'learning_rate': 0.02438930798680359, 'n_estimators': 196, 'min_child_weight': 8, 'gamma': 0.960896869419886, 'subsample': 0.25024531725203814, 'colsample_bytree': 0.8899470518579418}. Best is trial 78 with value: 15.000705764157184.\u001b[0m\n"
     ]
    },
    {
     "name": "stdout",
     "output_type": "stream",
     "text": [
      "MAPE:  0.12867020600847348\n",
      "MAE:  2.618984991717234\n"
     ]
    },
    {
     "name": "stderr",
     "output_type": "stream",
     "text": [
      "\u001b[32m[I 2023-04-02 19:40:01,575]\u001b[0m Trial 97 finished with value: 15.867071247766729 and parameters: {'max_depth': 6, 'learning_rate': 0.034698150940139186, 'n_estimators': 174, 'min_child_weight': 9, 'gamma': 0.4376118048333466, 'subsample': 0.8569981855372781, 'colsample_bytree': 0.8028646632078263}. Best is trial 78 with value: 15.000705764157184.\u001b[0m\n"
     ]
    },
    {
     "name": "stdout",
     "output_type": "stream",
     "text": [
      "MAPE:  0.12678914761038806\n",
      "MAE:  2.6260207529174306\n"
     ]
    },
    {
     "name": "stderr",
     "output_type": "stream",
     "text": [
      "\u001b[32m[I 2023-04-02 19:47:27,122]\u001b[0m Trial 98 finished with value: 22.2472538173619 and parameters: {'max_depth': 9, 'learning_rate': 0.20586211164808382, 'n_estimators': 209, 'min_child_weight': 7, 'gamma': 0.2906929877613062, 'subsample': 0.3124329000712504, 'colsample_bytree': 0.71287878466098}. Best is trial 78 with value: 15.000705764157184.\u001b[0m\n"
     ]
    },
    {
     "name": "stdout",
     "output_type": "stream",
     "text": [
      "MAPE:  0.19430971928598736\n",
      "MAE:  3.3394976436427375\n"
     ]
    },
    {
     "name": "stderr",
     "output_type": "stream",
     "text": [
      "\u001b[32m[I 2023-04-02 19:53:06,150]\u001b[0m Trial 99 finished with value: 16.122587280637433 and parameters: {'max_depth': 6, 'learning_rate': 0.040807942252503754, 'n_estimators': 186, 'min_child_weight': 8, 'gamma': 0.15865169174563312, 'subsample': 0.7310160590707231, 'colsample_bytree': 0.595377171304838}. Best is trial 78 with value: 15.000705764157184.\u001b[0m\n"
     ]
    },
    {
     "name": "stdout",
     "output_type": "stream",
     "text": [
      "MAPE:  0.13301538208395283\n",
      "MAE:  2.7237233838709125\n"
     ]
    },
    {
     "name": "stderr",
     "output_type": "stream",
     "text": [
      "\u001b[32m[I 2023-04-02 20:02:02,285]\u001b[0m A new study created in memory with name: no-name-fde59428-af37-4059-bcbc-3385c7d85856\u001b[0m\n",
      "\u001b[32m[I 2023-04-02 20:05:15,407]\u001b[0m Trial 0 finished with value: 39.74622944460603 and parameters: {'max_depth': 2, 'learning_rate': 0.09251614031148177, 'n_estimators': 231, 'min_child_weight': 7, 'gamma': 0.01606907041398916, 'subsample': 0.837900344894811, 'colsample_bytree': 0.0894912547712177}. Best is trial 0 with value: 39.74622944460603.\u001b[0m\n"
     ]
    },
    {
     "name": "stdout",
     "output_type": "stream",
     "text": [
      "MAPE:  0.21941949807382358\n",
      "MAE:  4.538931649918967\n"
     ]
    },
    {
     "name": "stderr",
     "output_type": "stream",
     "text": [
      "\u001b[32m[I 2023-04-02 20:07:32,997]\u001b[0m Trial 1 finished with value: 36.168354994342494 and parameters: {'max_depth': 1, 'learning_rate': 0.19647088668774598, 'n_estimators': 120, 'min_child_weight': 4, 'gamma': 2.6674552927483668e-05, 'subsample': 0.8561953684194452, 'colsample_bytree': 0.981864404828119}. Best is trial 1 with value: 36.168354994342494.\u001b[0m\n"
     ]
    },
    {
     "name": "stdout",
     "output_type": "stream",
     "text": [
      "MAPE:  0.17738959159935253\n",
      "MAE:  3.8382440262544923\n"
     ]
    },
    {
     "name": "stderr",
     "output_type": "stream",
     "text": [
      "\u001b[32m[I 2023-04-02 20:10:06,364]\u001b[0m Trial 2 finished with value: 112.5675859905342 and parameters: {'max_depth': 7, 'learning_rate': 0.596849658646463, 'n_estimators': 114, 'min_child_weight': 2, 'gamma': 0.0019677608195259977, 'subsample': 0.4531761816179755, 'colsample_bytree': 0.19588676041763153}. Best is trial 1 with value: 36.168354994342494.\u001b[0m\n"
     ]
    },
    {
     "name": "stdout",
     "output_type": "stream",
     "text": [
      "MAPE:  1.5040118925380124\n",
      "MAE:  7.990813986818349\n"
     ]
    },
    {
     "name": "stderr",
     "output_type": "stream",
     "text": [
      "\u001b[32m[I 2023-04-02 20:12:39,362]\u001b[0m Trial 3 finished with value: 53.27357100960392 and parameters: {'max_depth': 2, 'learning_rate': 0.4078320897565563, 'n_estimators': 166, 'min_child_weight': 2, 'gamma': 0.5192016032121909, 'subsample': 0.24631094629631742, 'colsample_bytree': 0.2561991162989139}. Best is trial 1 with value: 36.168354994342494.\u001b[0m\n"
     ]
    },
    {
     "name": "stdout",
     "output_type": "stream",
     "text": [
      "MAPE:  0.35089150695438875\n",
      "MAE:  5.119593913955559\n"
     ]
    },
    {
     "name": "stderr",
     "output_type": "stream",
     "text": [
      "\u001b[32m[I 2023-04-02 20:17:49,380]\u001b[0m Trial 4 finished with value: 53.454713771660025 and parameters: {'max_depth': 4, 'learning_rate': 0.17955670103435453, 'n_estimators': 267, 'min_child_weight': 4, 'gamma': 0.0006565023138092351, 'subsample': 0.15690895986595, 'colsample_bytree': 0.42414308012756413}. Best is trial 1 with value: 36.168354994342494.\u001b[0m\n"
     ]
    },
    {
     "name": "stdout",
     "output_type": "stream",
     "text": [
      "MAPE:  0.33090612073127146\n",
      "MAE:  5.210072784792163\n"
     ]
    },
    {
     "name": "stderr",
     "output_type": "stream",
     "text": [
      "\u001b[32m[I 2023-04-02 20:23:47,505]\u001b[0m Trial 5 finished with value: 43.97759766066542 and parameters: {'max_depth': 7, 'learning_rate': 0.05359549104682906, 'n_estimators': 276, 'min_child_weight': 4, 'gamma': 0.006562864748718262, 'subsample': 0.04056067409829789, 'colsample_bytree': 0.6374577131444084}. Best is trial 1 with value: 36.168354994342494.\u001b[0m\n"
     ]
    },
    {
     "name": "stdout",
     "output_type": "stream",
     "text": [
      "MAPE:  0.21525637045289592\n",
      "MAE:  4.482445416438301\n"
     ]
    },
    {
     "name": "stderr",
     "output_type": "stream",
     "text": [
      "\u001b[32m[I 2023-04-02 20:27:20,109]\u001b[0m Trial 6 finished with value: 52.77481495444604 and parameters: {'max_depth': 5, 'learning_rate': 0.27471069396091263, 'n_estimators': 253, 'min_child_weight': 4, 'gamma': 0.015454770315352036, 'subsample': 0.2621485157273125, 'colsample_bytree': 0.023132884135524563}. Best is trial 1 with value: 36.168354994342494.\u001b[0m\n"
     ]
    },
    {
     "name": "stdout",
     "output_type": "stream",
     "text": [
      "MAPE:  0.3116373888135731\n",
      "MAE:  5.365209236163755\n"
     ]
    },
    {
     "name": "stderr",
     "output_type": "stream",
     "text": [
      "\u001b[32m[I 2023-04-02 20:29:45,486]\u001b[0m Trial 7 finished with value: 89.86818483906319 and parameters: {'max_depth': 2, 'learning_rate': 0.5005227465739951, 'n_estimators': 183, 'min_child_weight': 7, 'gamma': 0.00039225979525593895, 'subsample': 0.06891598511236396, 'colsample_bytree': 0.015394877577031413}. Best is trial 1 with value: 36.168354994342494.\u001b[0m\n"
     ]
    },
    {
     "name": "stdout",
     "output_type": "stream",
     "text": [
      "MAPE:  0.3386558058649526\n",
      "MAE:  7.4174034865681975\n"
     ]
    },
    {
     "name": "stderr",
     "output_type": "stream",
     "text": [
      "\u001b[32m[I 2023-04-02 20:33:44,628]\u001b[0m Trial 8 finished with value: 69.60754462539691 and parameters: {'max_depth': 8, 'learning_rate': 0.6637522041585103, 'n_estimators': 222, 'min_child_weight': 1, 'gamma': 0.0015768572221429313, 'subsample': 0.822044770076332, 'colsample_bytree': 0.07158998707997506}. Best is trial 1 with value: 36.168354994342494.\u001b[0m\n"
     ]
    },
    {
     "name": "stdout",
     "output_type": "stream",
     "text": [
      "MAPE:  0.5766343537563062\n",
      "MAE:  5.867471039836064\n"
     ]
    },
    {
     "name": "stderr",
     "output_type": "stream",
     "text": [
      "\u001b[32m[I 2023-04-02 20:34:24,809]\u001b[0m Trial 9 finished with value: 97.06930194376963 and parameters: {'max_depth': 7, 'learning_rate': 0.2106039095809356, 'n_estimators': 39, 'min_child_weight': 7, 'gamma': 0.013019933277704624, 'subsample': 0.08822199030482183, 'colsample_bytree': 0.0302040741435139}. Best is trial 1 with value: 36.168354994342494.\u001b[0m\n"
     ]
    },
    {
     "name": "stdout",
     "output_type": "stream",
     "text": [
      "MAPE:  0.2951138920645895\n",
      "MAE:  7.492470298812055\n"
     ]
    },
    {
     "name": "stderr",
     "output_type": "stream",
     "text": [
      "\u001b[32m[I 2023-04-02 20:35:59,536]\u001b[0m Trial 10 finished with value: 260.54040762729943 and parameters: {'max_depth': 4, 'learning_rate': 0.01055457356582581, 'n_estimators': 92, 'min_child_weight': 10, 'gamma': 2.0456594650290135e-05, 'subsample': 0.021451562547028916, 'colsample_bytree': 0.9026437862086948}. Best is trial 1 with value: 36.168354994342494.\u001b[0m\n"
     ]
    },
    {
     "name": "stdout",
     "output_type": "stream",
     "text": [
      "MAPE:  0.5910781946495515\n",
      "MAE:  10.528186844803436\n"
     ]
    },
    {
     "name": "stderr",
     "output_type": "stream",
     "text": [
      "\u001b[32m[I 2023-04-02 20:37:37,439]\u001b[0m Trial 11 finished with value: 105.49813066675868 and parameters: {'max_depth': 1, 'learning_rate': 0.056622245163102346, 'n_estimators': 113, 'min_child_weight': 7, 'gamma': 1.1519290136186926e-05, 'subsample': 0.8103111349660178, 'colsample_bytree': 0.07927218910741121}. Best is trial 1 with value: 36.168354994342494.\u001b[0m\n"
     ]
    },
    {
     "name": "stdout",
     "output_type": "stream",
     "text": [
      "MAPE:  0.3189909180544015\n",
      "MAE:  8.25095944733996\n"
     ]
    },
    {
     "name": "stderr",
     "output_type": "stream",
     "text": [
      "\u001b[32m[I 2023-04-02 20:40:32,972]\u001b[0m Trial 12 finished with value: 49.84251955630868 and parameters: {'max_depth': 1, 'learning_rate': 0.07150058086224778, 'n_estimators': 205, 'min_child_weight': 9, 'gamma': 0.13653893795241337, 'subsample': 0.4533122851612686, 'colsample_bytree': 0.14102878257137755}. Best is trial 1 with value: 36.168354994342494.\u001b[0m\n"
     ]
    },
    {
     "name": "stdout",
     "output_type": "stream",
     "text": [
      "MAPE:  0.24287365138160558\n",
      "MAE:  5.329474163377843\n"
     ]
    },
    {
     "name": "stderr",
     "output_type": "stream",
     "text": [
      "\u001b[32m[I 2023-04-02 20:40:49,807]\u001b[0m Trial 13 finished with value: 505.4006789307263 and parameters: {'max_depth': 3, 'learning_rate': 0.0246790082820983, 'n_estimators': 10, 'min_child_weight': 6, 'gamma': 5.141729952665295e-05, 'subsample': 0.9816916983343199, 'colsample_bytree': 0.0456673694021075}. Best is trial 1 with value: 36.168354994342494.\u001b[0m\n"
     ]
    },
    {
     "name": "stdout",
     "output_type": "stream",
     "text": [
      "MAPE:  2.3680245203769936\n",
      "MAE:  16.806399286730073\n"
     ]
    },
    {
     "name": "stderr",
     "output_type": "stream",
     "text": [
      "\u001b[32m[I 2023-04-02 20:42:10,483]\u001b[0m Trial 14 finished with value: 48.483411391873716 and parameters: {'max_depth': 2, 'learning_rate': 0.13687682091287898, 'n_estimators': 75, 'min_child_weight': 5, 'gamma': 0.052140408563680775, 'subsample': 0.39132044096878377, 'colsample_bytree': 0.35661414102429667}. Best is trial 1 with value: 36.168354994342494.\u001b[0m\n"
     ]
    },
    {
     "name": "stdout",
     "output_type": "stream",
     "text": [
      "MAPE:  0.25962241621082893\n",
      "MAE:  5.165399878215023\n"
     ]
    },
    {
     "name": "stderr",
     "output_type": "stream",
     "text": [
      "\u001b[32m[I 2023-04-02 20:44:13,549]\u001b[0m Trial 15 finished with value: 53.69845669727758 and parameters: {'max_depth': 1, 'learning_rate': 0.10865845671822208, 'n_estimators': 146, 'min_child_weight': 9, 'gamma': 0.0001577711165055526, 'subsample': 0.1733719768334254, 'colsample_bytree': 0.1207361357549692}. Best is trial 1 with value: 36.168354994342494.\u001b[0m\n"
     ]
    },
    {
     "name": "stdout",
     "output_type": "stream",
     "text": [
      "MAPE:  0.24901256697886145\n",
      "MAE:  5.466963780510147\n"
     ]
    },
    {
     "name": "stderr",
     "output_type": "stream",
     "text": [
      "\u001b[32m[I 2023-04-02 20:47:16,697]\u001b[0m Trial 16 finished with value: 83.3991541798834 and parameters: {'max_depth': 3, 'learning_rate': 0.31403965311687543, 'n_estimators': 229, 'min_child_weight': 5, 'gamma': 0.060543935929407725, 'subsample': 0.01309503738614332, 'colsample_bytree': 0.051352447052213465}. Best is trial 1 with value: 36.168354994342494.\u001b[0m\n"
     ]
    },
    {
     "name": "stdout",
     "output_type": "stream",
     "text": [
      "MAPE:  0.2839387708111041\n",
      "MAE:  6.563681593088553\n"
     ]
    },
    {
     "name": "stderr",
     "output_type": "stream",
     "text": [
      "\u001b[32m[I 2023-04-02 20:58:13,985]\u001b[0m Trial 17 finished with value: 116.28691677348603 and parameters: {'max_depth': 5, 'learning_rate': 0.9295415786752973, 'n_estimators': 297, 'min_child_weight': 8, 'gamma': 0.00010830598322060938, 'subsample': 0.5114064609744683, 'colsample_bytree': 0.965825911498492}. Best is trial 1 with value: 36.168354994342494.\u001b[0m\n"
     ]
    },
    {
     "name": "stdout",
     "output_type": "stream",
     "text": [
      "MAPE:  2.3333576527677216\n",
      "MAE:  7.526203620398966\n"
     ]
    },
    {
     "name": "stderr",
     "output_type": "stream",
     "text": [
      "\u001b[32m[I 2023-04-02 21:00:26,639]\u001b[0m Trial 18 finished with value: 79.99603450915725 and parameters: {'max_depth': 3, 'learning_rate': 0.02371863201555219, 'n_estimators': 143, 'min_child_weight': 3, 'gamma': 0.42506332561695787, 'subsample': 0.04543776266699998, 'colsample_bytree': 0.1868150987775095}. Best is trial 1 with value: 36.168354994342494.\u001b[0m\n"
     ]
    },
    {
     "name": "stdout",
     "output_type": "stream",
     "text": [
      "MAPE:  0.27087050837732396\n",
      "MAE:  6.324654331332759\n"
     ]
    },
    {
     "name": "stderr",
     "output_type": "stream",
     "text": [
      "\u001b[32m[I 2023-04-02 21:04:30,915]\u001b[0m Trial 19 finished with value: 42.31565512621805 and parameters: {'max_depth': 5, 'learning_rate': 0.03365661939266872, 'n_estimators': 191, 'min_child_weight': 6, 'gamma': 0.003149834403606815, 'subsample': 0.14805343723039116, 'colsample_bytree': 0.45594061966759153}. Best is trial 1 with value: 36.168354994342494.\u001b[0m\n"
     ]
    },
    {
     "name": "stdout",
     "output_type": "stream",
     "text": [
      "MAPE:  0.22222823219139964\n",
      "MAE:  4.580826367071846\n"
     ]
    },
    {
     "name": "stderr",
     "output_type": "stream",
     "text": [
      "\u001b[32m[I 2023-04-02 21:05:31,869]\u001b[0m Trial 20 finished with value: 261.00664759713897 and parameters: {'max_depth': 9, 'learning_rate': 0.09720330003702939, 'n_estimators': 65, 'min_child_weight': 8, 'gamma': 0.0007704822820484489, 'subsample': 0.5868794759774402, 'colsample_bytree': 0.011337889697879166}. Best is trial 1 with value: 36.168354994342494.\u001b[0m\n"
     ]
    },
    {
     "name": "stdout",
     "output_type": "stream",
     "text": [
      "MAPE:  0.44200233903477315\n",
      "MAE:  13.270798744949682\n"
     ]
    },
    {
     "name": "stderr",
     "output_type": "stream",
     "text": [
      "\u001b[32m[I 2023-04-02 21:10:07,222]\u001b[0m Trial 21 finished with value: 39.394264793525366 and parameters: {'max_depth': 5, 'learning_rate': 0.025929878449595968, 'n_estimators': 191, 'min_child_weight': 6, 'gamma': 0.004887713375579016, 'subsample': 0.2524488079361214, 'colsample_bytree': 0.5388392276579309}. Best is trial 1 with value: 36.168354994342494.\u001b[0m\n"
     ]
    },
    {
     "name": "stdout",
     "output_type": "stream",
     "text": [
      "MAPE:  0.2130449973618568\n",
      "MAE:  4.368903656125243\n"
     ]
    },
    {
     "name": "stderr",
     "output_type": "stream",
     "text": [
      "\u001b[32m[I 2023-04-02 21:17:00,814]\u001b[0m Trial 22 finished with value: 40.00257821042109 and parameters: {'max_depth': 6, 'learning_rate': 0.017324408199072168, 'n_estimators': 238, 'min_child_weight': 5, 'gamma': 0.020569568766707635, 'subsample': 0.30168456948174127, 'colsample_bytree': 0.6259409824571681}. Best is trial 1 with value: 36.168354994342494.\u001b[0m\n"
     ]
    },
    {
     "name": "stdout",
     "output_type": "stream",
     "text": [
      "MAPE:  0.21788960824960416\n",
      "MAE:  4.415268634516767\n"
     ]
    },
    {
     "name": "stderr",
     "output_type": "stream",
     "text": [
      "\u001b[32m[I 2023-04-02 21:20:03,777]\u001b[0m Trial 23 finished with value: 44.316511789071825 and parameters: {'max_depth': 2, 'learning_rate': 0.04809742969148279, 'n_estimators': 176, 'min_child_weight': 6, 'gamma': 0.005937589878387378, 'subsample': 0.6860216223521373, 'colsample_bytree': 0.2941769683070984}. Best is trial 1 with value: 36.168354994342494.\u001b[0m\n"
     ]
    },
    {
     "name": "stdout",
     "output_type": "stream",
     "text": [
      "MAPE:  0.2358902611592622\n",
      "MAE:  4.824086490561042\n"
     ]
    },
    {
     "name": "stderr",
     "output_type": "stream",
     "text": [
      "\u001b[32m[I 2023-04-02 21:23:17,040]\u001b[0m Trial 24 finished with value: 119.08524160798 and parameters: {'max_depth': 4, 'learning_rate': 0.010649148841081915, 'n_estimators': 127, 'min_child_weight': 3, 'gamma': 0.04907403035925139, 'subsample': 0.3113527368625725, 'colsample_bytree': 0.6067629541809146}. Best is trial 1 with value: 36.168354994342494.\u001b[0m\n"
     ]
    },
    {
     "name": "stdout",
     "output_type": "stream",
     "text": [
      "MAPE:  0.47845876599411263\n",
      "MAE:  7.897646292651954\n"
     ]
    },
    {
     "name": "stderr",
     "output_type": "stream",
     "text": [
      "\u001b[32m[I 2023-04-02 21:27:20,029]\u001b[0m Trial 25 finished with value: 36.798566487195764 and parameters: {'max_depth': 1, 'learning_rate': 0.0848040315247264, 'n_estimators': 204, 'min_child_weight': 8, 'gamma': 0.1447511272654846, 'subsample': 0.9562214924161141, 'colsample_bytree': 0.9829007071517157}. Best is trial 1 with value: 36.168354994342494.\u001b[0m\n"
     ]
    },
    {
     "name": "stdout",
     "output_type": "stream",
     "text": [
      "MAPE:  0.1790356255898258\n",
      "MAE:  3.906852569605349\n"
     ]
    },
    {
     "name": "stderr",
     "output_type": "stream",
     "text": [
      "\u001b[32m[I 2023-04-02 21:30:54,235]\u001b[0m Trial 26 finished with value: 40.75727990865974 and parameters: {'max_depth': 1, 'learning_rate': 0.16605979014933356, 'n_estimators': 200, 'min_child_weight': 8, 'gamma': 0.0002529288296450902, 'subsample': 0.20831918121402, 'colsample_bytree': 0.9993797802196553}. Best is trial 1 with value: 36.168354994342494.\u001b[0m\n"
     ]
    },
    {
     "name": "stdout",
     "output_type": "stream",
     "text": [
      "MAPE:  0.200538308004861\n",
      "MAE:  4.291429961655746\n"
     ]
    },
    {
     "name": "stderr",
     "output_type": "stream",
     "text": [
      "\u001b[32m[I 2023-04-02 21:34:13,173]\u001b[0m Trial 27 finished with value: 45.485681368732465 and parameters: {'max_depth': 3, 'learning_rate': 0.036271961563736244, 'n_estimators': 160, 'min_child_weight': 10, 'gamma': 0.9312342929282202, 'subsample': 0.1161768824814634, 'colsample_bytree': 0.6699391547802256}. Best is trial 1 with value: 36.168354994342494.\u001b[0m\n"
     ]
    },
    {
     "name": "stdout",
     "output_type": "stream",
     "text": [
      "MAPE:  0.21143765597362965\n",
      "MAE:  4.5171159382539186\n"
     ]
    },
    {
     "name": "stderr",
     "output_type": "stream",
     "text": [
      "\u001b[32m[I 2023-04-02 21:39:51,238]\u001b[0m Trial 28 finished with value: 53.936889426851685 and parameters: {'max_depth': 6, 'learning_rate': 0.24298046319913985, 'n_estimators': 212, 'min_child_weight': 9, 'gamma': 0.12009760496366276, 'subsample': 0.3648694781681917, 'colsample_bytree': 0.47541675383510446}. Best is trial 1 with value: 36.168354994342494.\u001b[0m\n"
     ]
    },
    {
     "name": "stdout",
     "output_type": "stream",
     "text": [
      "MAPE:  0.30509395296278846\n",
      "MAE:  5.134089711776455\n"
     ]
    },
    {
     "name": "stderr",
     "output_type": "stream",
     "text": [
      "\u001b[32m[I 2023-04-02 21:46:25,851]\u001b[0m Trial 29 finished with value: 40.82474364356757 and parameters: {'max_depth': 9, 'learning_rate': 0.07702462024698732, 'n_estimators': 132, 'min_child_weight': 6, 'gamma': 4.687711795286569e-05, 'subsample': 0.6776047459404478, 'colsample_bytree': 0.7531869222488102}. Best is trial 1 with value: 36.168354994342494.\u001b[0m\n"
     ]
    },
    {
     "name": "stdout",
     "output_type": "stream",
     "text": [
      "MAPE:  0.22163785149282278\n",
      "MAE:  4.323762167310505\n"
     ]
    },
    {
     "name": "stderr",
     "output_type": "stream",
     "text": [
      "\u001b[32m[I 2023-04-02 21:48:20,517]\u001b[0m Trial 30 finished with value: 144.25696477651636 and parameters: {'max_depth': 1, 'learning_rate': 0.014887673747767057, 'n_estimators': 95, 'min_child_weight': 3, 'gamma': 0.25658739708223843, 'subsample': 0.9368472155610406, 'colsample_bytree': 0.3160001616881367}. Best is trial 1 with value: 36.168354994342494.\u001b[0m\n"
     ]
    },
    {
     "name": "stdout",
     "output_type": "stream",
     "text": [
      "MAPE:  0.3996679787961728\n",
      "MAE:  8.44441842963124\n"
     ]
    },
    {
     "name": "stderr",
     "output_type": "stream",
     "text": [
      "\u001b[32m[I 2023-04-02 21:52:55,579]\u001b[0m Trial 31 finished with value: 41.29083117674053 and parameters: {'max_depth': 2, 'learning_rate': 0.1214187932555305, 'n_estimators': 246, 'min_child_weight': 7, 'gamma': 0.0016641758442657942, 'subsample': 0.5505544859516492, 'colsample_bytree': 0.19084598271487452}. Best is trial 1 with value: 36.168354994342494.\u001b[0m\n"
     ]
    },
    {
     "name": "stdout",
     "output_type": "stream",
     "text": [
      "MAPE:  0.22971640965846685\n",
      "MAE:  4.647724195225545\n"
     ]
    },
    {
     "name": "stderr",
     "output_type": "stream",
     "text": [
      "\u001b[32m[I 2023-04-02 21:55:36,125]\u001b[0m Trial 32 finished with value: 45.192326151797 and parameters: {'max_depth': 1, 'learning_rate': 0.07842732110922157, 'n_estimators': 172, 'min_child_weight': 8, 'gamma': 0.005668456098720601, 'subsample': 0.4522308631765311, 'colsample_bytree': 0.25248980214096195}. Best is trial 1 with value: 36.168354994342494.\u001b[0m\n"
     ]
    },
    {
     "name": "stdout",
     "output_type": "stream",
     "text": [
      "MAPE:  0.23321997105057912\n",
      "MAE:  4.906456953862257\n"
     ]
    },
    {
     "name": "stderr",
     "output_type": "stream",
     "text": [
      "\u001b[32m[I 2023-04-02 22:00:43,805]\u001b[0m Trial 33 finished with value: 44.40427824523101 and parameters: {'max_depth': 2, 'learning_rate': 0.3682958652871392, 'n_estimators': 220, 'min_child_weight': 5, 'gamma': 0.035793219690444585, 'subsample': 0.6478445986677646, 'colsample_bytree': 0.4590357317084484}. Best is trial 1 with value: 36.168354994342494.\u001b[0m\n"
     ]
    },
    {
     "name": "stdout",
     "output_type": "stream",
     "text": [
      "MAPE:  0.26270545598031364\n",
      "MAE:  4.606517031200622\n"
     ]
    },
    {
     "name": "stderr",
     "output_type": "stream",
     "text": [
      "\u001b[32m[I 2023-04-02 22:05:55,306]\u001b[0m Trial 34 finished with value: 42.586642606821925 and parameters: {'max_depth': 4, 'learning_rate': 0.15082696305023963, 'n_estimators': 259, 'min_child_weight': 4, 'gamma': 0.13208737120326697, 'subsample': 0.9411239049054002, 'colsample_bytree': 0.08390772382598505}. Best is trial 1 with value: 36.168354994342494.\u001b[0m\n"
     ]
    },
    {
     "name": "stdout",
     "output_type": "stream",
     "text": [
      "MAPE:  0.24261791823690507\n",
      "MAE:  4.599006737097662\n"
     ]
    },
    {
     "name": "stderr",
     "output_type": "stream",
     "text": [
      "\u001b[32m[I 2023-04-02 22:12:51,688]\u001b[0m Trial 35 finished with value: 36.766347355825275 and parameters: {'max_depth': 2, 'learning_rate': 0.04154359217789251, 'n_estimators': 288, 'min_child_weight': 7, 'gamma': 0.010756589339257992, 'subsample': 0.23377364633254993, 'colsample_bytree': 0.8042735270515879}. Best is trial 1 with value: 36.168354994342494.\u001b[0m\n"
     ]
    },
    {
     "name": "stdout",
     "output_type": "stream",
     "text": [
      "MAPE:  0.1955979880267531\n",
      "MAE:  4.11850428827412\n"
     ]
    },
    {
     "name": "stderr",
     "output_type": "stream",
     "text": [
      "\u001b[32m[I 2023-04-02 22:23:35,002]\u001b[0m Trial 36 finished with value: 36.870337567751534 and parameters: {'max_depth': 6, 'learning_rate': 0.02964551380934371, 'n_estimators': 285, 'min_child_weight': 6, 'gamma': 0.0010320014874914609, 'subsample': 0.20427187155849458, 'colsample_bytree': 0.758940087589734}. Best is trial 1 with value: 36.168354994342494.\u001b[0m\n"
     ]
    },
    {
     "name": "stdout",
     "output_type": "stream",
     "text": [
      "MAPE:  0.19669180949432594\n",
      "MAE:  4.043522527844411\n"
     ]
    },
    {
     "name": "stderr",
     "output_type": "stream",
     "text": [
      "\u001b[32m[I 2023-04-02 22:32:32,891]\u001b[0m Trial 37 finished with value: 45.80837737913188 and parameters: {'max_depth': 6, 'learning_rate': 0.03821728768948741, 'n_estimators': 287, 'min_child_weight': 7, 'gamma': 0.0007444335743678262, 'subsample': 0.060917905603012364, 'colsample_bytree': 0.826880457437104}. Best is trial 1 with value: 36.168354994342494.\u001b[0m\n"
     ]
    },
    {
     "name": "stdout",
     "output_type": "stream",
     "text": [
      "MAPE:  0.20593505113167965\n",
      "MAE:  4.41837295929068\n"
     ]
    },
    {
     "name": "stderr",
     "output_type": "stream",
     "text": [
      "\u001b[32m[I 2023-04-02 22:41:01,814]\u001b[0m Trial 38 finished with value: 46.49849493577155 and parameters: {'max_depth': 8, 'learning_rate': 0.04648751043527225, 'n_estimators': 263, 'min_child_weight': 2, 'gamma': 0.010491438325398632, 'subsample': 0.1326104882629204, 'colsample_bytree': 0.3720846054688608}. Best is trial 1 with value: 36.168354994342494.\u001b[0m\n"
     ]
    },
    {
     "name": "stdout",
     "output_type": "stream",
     "text": [
      "MAPE:  0.25823782761746983\n",
      "MAE:  4.918275389449986\n"
     ]
    },
    {
     "name": "stderr",
     "output_type": "stream",
     "text": [
      "\u001b[32m[I 2023-04-02 22:46:44,819]\u001b[0m Trial 39 finished with value: 36.947840430161236 and parameters: {'max_depth': 1, 'learning_rate': 0.0629545690120451, 'n_estimators': 278, 'min_child_weight': 4, 'gamma': 5.754036954389663e-05, 'subsample': 0.19019452338293583, 'colsample_bytree': 0.7489236199080573}. Best is trial 1 with value: 36.168354994342494.\u001b[0m\n"
     ]
    },
    {
     "name": "stdout",
     "output_type": "stream",
     "text": [
      "MAPE:  0.20253375644035534\n",
      "MAE:  4.25121498303978\n"
     ]
    },
    {
     "name": "stderr",
     "output_type": "stream",
     "text": [
      "\u001b[32m[I 2023-04-02 22:53:13,548]\u001b[0m Trial 40 finished with value: 49.23589038710041 and parameters: {'max_depth': 2, 'learning_rate': 0.20202936598782473, 'n_estimators': 295, 'min_child_weight': 8, 'gamma': 0.0267449492213738, 'subsample': 0.09976039371918738, 'colsample_bytree': 0.5613316680544654}. Best is trial 1 with value: 36.168354994342494.\u001b[0m\n"
     ]
    },
    {
     "name": "stdout",
     "output_type": "stream",
     "text": [
      "MAPE:  0.25085852622257443\n",
      "MAE:  4.982192719878073\n"
     ]
    },
    {
     "name": "stderr",
     "output_type": "stream",
     "text": [
      "\u001b[32m[I 2023-04-02 22:58:09,602]\u001b[0m Trial 41 finished with value: 37.622818982528294 and parameters: {'max_depth': 1, 'learning_rate': 0.07109074186664667, 'n_estimators': 281, 'min_child_weight': 4, 'gamma': 2.7686746732829155e-05, 'subsample': 0.19818253534721422, 'colsample_bytree': 0.7367449141368713}. Best is trial 1 with value: 36.168354994342494.\u001b[0m\n"
     ]
    },
    {
     "name": "stdout",
     "output_type": "stream",
     "text": [
      "MAPE:  0.20516904646122003\n",
      "MAE:  4.3173426425857855\n"
     ]
    },
    {
     "name": "stderr",
     "output_type": "stream",
     "text": [
      "\u001b[32m[I 2023-04-02 23:03:24,202]\u001b[0m Trial 42 finished with value: 38.456490831066944 and parameters: {'max_depth': 2, 'learning_rate': 0.061776288580892395, 'n_estimators': 272, 'min_child_weight': 4, 'gamma': 8.174576369826493e-05, 'subsample': 0.21220318532287383, 'colsample_bytree': 0.801880882885483}. Best is trial 1 with value: 36.168354994342494.\u001b[0m\n"
     ]
    },
    {
     "name": "stdout",
     "output_type": "stream",
     "text": [
      "MAPE:  0.2007481764045659\n",
      "MAE:  4.181636745774607\n"
     ]
    },
    {
     "name": "stderr",
     "output_type": "stream",
     "text": [
      "\u001b[32m[I 2023-04-02 23:07:24,418]\u001b[0m Trial 43 finished with value: 38.52426676056209 and parameters: {'max_depth': 1, 'learning_rate': 0.043111585823262195, 'n_estimators': 241, 'min_child_weight': 3, 'gamma': 1.2066635524088005e-05, 'subsample': 0.07947249626496448, 'colsample_bytree': 0.9917765423323451}. Best is trial 1 with value: 36.168354994342494.\u001b[0m\n"
     ]
    },
    {
     "name": "stdout",
     "output_type": "stream",
     "text": [
      "MAPE:  0.2000880763301767\n",
      "MAE:  4.282683436938545\n"
     ]
    },
    {
     "name": "stderr",
     "output_type": "stream",
     "text": [
      "\u001b[32m[I 2023-04-02 23:17:25,152]\u001b[0m Trial 44 finished with value: 36.065517983143586 and parameters: {'max_depth': 7, 'learning_rate': 0.028508479473009177, 'n_estimators': 275, 'min_child_weight': 2, 'gamma': 0.00040387466732444763, 'subsample': 0.3785117427574471, 'colsample_bytree': 0.7151734755968747}. Best is trial 44 with value: 36.065517983143586.\u001b[0m\n"
     ]
    },
    {
     "name": "stdout",
     "output_type": "stream",
     "text": [
      "MAPE:  0.2115338000214565\n",
      "MAE:  4.1385598736679\n"
     ]
    },
    {
     "name": "stderr",
     "output_type": "stream",
     "text": [
      "\u001b[32m[I 2023-04-02 23:25:34,974]\u001b[0m Trial 45 finished with value: 37.061188496563666 and parameters: {'max_depth': 7, 'learning_rate': 0.02849665935420484, 'n_estimators': 254, 'min_child_weight': 1, 'gamma': 0.0004240309049790179, 'subsample': 0.34958559160160885, 'colsample_bytree': 0.5498128593709953}. Best is trial 44 with value: 36.065517983143586.\u001b[0m\n"
     ]
    },
    {
     "name": "stdout",
     "output_type": "stream",
     "text": [
      "MAPE:  0.21658037146489953\n",
      "MAE:  4.231716392659827\n"
     ]
    },
    {
     "name": "stderr",
     "output_type": "stream",
     "text": [
      "\u001b[32m[I 2023-04-02 23:33:42,956]\u001b[0m Trial 46 finished with value: 42.45608124759019 and parameters: {'max_depth': 8, 'learning_rate': 0.016395633291077464, 'n_estimators': 268, 'min_child_weight': 2, 'gamma': 0.0012030544192901003, 'subsample': 0.4363744461824197, 'colsample_bytree': 0.38435691204551264}. Best is trial 44 with value: 36.065517983143586.\u001b[0m\n"
     ]
    },
    {
     "name": "stdout",
     "output_type": "stream",
     "text": [
      "MAPE:  0.2191075854247191\n",
      "MAE:  4.550437785576136\n"
     ]
    },
    {
     "name": "stderr",
     "output_type": "stream",
     "text": [
      "\u001b[32m[I 2023-04-02 23:40:39,228]\u001b[0m Trial 47 finished with value: 43.179489252974825 and parameters: {'max_depth': 7, 'learning_rate': 0.03092035735434468, 'n_estimators': 300, 'min_child_weight': 7, 'gamma': 0.0004027619375856453, 'subsample': 0.756525191419789, 'colsample_bytree': 0.23524138804806105}. Best is trial 44 with value: 36.065517983143586.\u001b[0m\n"
     ]
    },
    {
     "name": "stdout",
     "output_type": "stream",
     "text": [
      "MAPE:  0.222107339031554\n",
      "MAE:  4.612609702549134\n"
     ]
    },
    {
     "name": "stderr",
     "output_type": "stream",
     "text": [
      "\u001b[32m[I 2023-04-02 23:43:43,489]\u001b[0m Trial 48 finished with value: 55.8946744121513 and parameters: {'max_depth': 6, 'learning_rate': 0.021569296092059133, 'n_estimators': 113, 'min_child_weight': 9, 'gamma': 0.0026749210064786425, 'subsample': 0.267620076134534, 'colsample_bytree': 0.6549879145925791}. Best is trial 44 with value: 36.065517983143586.\u001b[0m\n"
     ]
    },
    {
     "name": "stdout",
     "output_type": "stream",
     "text": [
      "MAPE:  0.2590626583999643\n",
      "MAE:  5.152498241448612\n"
     ]
    },
    {
     "name": "stderr",
     "output_type": "stream",
     "text": [
      "\u001b[32m[I 2023-04-02 23:55:19,083]\u001b[0m Trial 49 finished with value: 35.62227870546313 and parameters: {'max_depth': 7, 'learning_rate': 0.02082144113275235, 'n_estimators': 283, 'min_child_weight': 5, 'gamma': 0.00017892100924249586, 'subsample': 0.47274260688484243, 'colsample_bytree': 0.8744233798191932}. Best is trial 49 with value: 35.62227870546313.\u001b[0m\n"
     ]
    },
    {
     "name": "stdout",
     "output_type": "stream",
     "text": [
      "MAPE:  0.1940097021459913\n",
      "MAE:  3.9802641501726463\n"
     ]
    },
    {
     "name": "stderr",
     "output_type": "stream",
     "text": [
      "\u001b[32m[I 2023-04-03 00:07:20,965]\u001b[0m Trial 50 finished with value: 38.24832734457565 and parameters: {'max_depth': 8, 'learning_rate': 0.02174203554049223, 'n_estimators': 229, 'min_child_weight': 1, 'gamma': 0.00019186918760072643, 'subsample': 0.568604539425708, 'colsample_bytree': 0.8817248946915792}. Best is trial 49 with value: 35.62227870546313.\u001b[0m\n"
     ]
    },
    {
     "name": "stdout",
     "output_type": "stream",
     "text": [
      "MAPE:  0.21371023551867568\n",
      "MAE:  4.124910665708676\n"
     ]
    },
    {
     "name": "stderr",
     "output_type": "stream",
     "text": [
      "\u001b[32m[I 2023-04-03 00:20:11,784]\u001b[0m Trial 51 finished with value: 37.496515706498805 and parameters: {'max_depth': 7, 'learning_rate': 0.019008016300087978, 'n_estimators': 281, 'min_child_weight': 5, 'gamma': 0.0010661802634775873, 'subsample': 0.7962999048168099, 'colsample_bytree': 0.8115515777999024}. Best is trial 49 with value: 35.62227870546313.\u001b[0m\n"
     ]
    },
    {
     "name": "stdout",
     "output_type": "stream",
     "text": [
      "MAPE:  0.20594082032742528\n",
      "MAE:  4.115545387897226\n"
     ]
    },
    {
     "name": "stderr",
     "output_type": "stream",
     "text": [
      "\u001b[32m[I 2023-04-03 00:27:57,571]\u001b[0m Trial 52 finished with value: 41.39146981569478 and parameters: {'max_depth': 6, 'learning_rate': 0.013332811735752325, 'n_estimators': 290, 'min_child_weight': 6, 'gamma': 0.00030515768618689443, 'subsample': 0.3848756874835941, 'colsample_bytree': 0.48486563775462754}. Best is trial 49 with value: 35.62227870546313.\u001b[0m\n"
     ]
    },
    {
     "name": "stdout",
     "output_type": "stream",
     "text": [
      "MAPE:  0.21461068962332194\n",
      "MAE:  4.4565619975982\n"
     ]
    },
    {
     "name": "stderr",
     "output_type": "stream",
     "text": [
      "\u001b[32m[I 2023-04-03 00:36:51,071]\u001b[0m Trial 53 finished with value: 37.52078610418724 and parameters: {'max_depth': 7, 'learning_rate': 0.02861487601076043, 'n_estimators': 251, 'min_child_weight': 5, 'gamma': 0.00012851701476277794, 'subsample': 0.5183682348089101, 'colsample_bytree': 0.6531583809073377}. Best is trial 49 with value: 35.62227870546313.\u001b[0m\n"
     ]
    },
    {
     "name": "stdout",
     "output_type": "stream",
     "text": [
      "MAPE:  0.21122896412653347\n",
      "MAE:  4.23656626991187\n"
     ]
    },
    {
     "name": "stderr",
     "output_type": "stream",
     "text": [
      "\u001b[32m[I 2023-04-03 00:46:59,630]\u001b[0m Trial 54 finished with value: 36.13075483563416 and parameters: {'max_depth': 7, 'learning_rate': 0.019979740163915218, 'n_estimators': 268, 'min_child_weight': 7, 'gamma': 0.0005771348226202194, 'subsample': 0.31067878319049935, 'colsample_bytree': 0.9710190902134371}. Best is trial 49 with value: 35.62227870546313.\u001b[0m\n"
     ]
    },
    {
     "name": "stdout",
     "output_type": "stream",
     "text": [
      "MAPE:  0.18967110598870768\n",
      "MAE:  3.947626554281914\n"
     ]
    },
    {
     "name": "stderr",
     "output_type": "stream",
     "text": [
      "\u001b[32m[I 2023-04-03 00:51:01,016]\u001b[0m Trial 55 finished with value: 112.28812483719412 and parameters: {'max_depth': 8, 'learning_rate': 0.01334482631966651, 'n_estimators': 98, 'min_child_weight': 2, 'gamma': 2.7838325745555716e-05, 'subsample': 0.31653868641426514, 'colsample_bytree': 0.9638481143179867}. Best is trial 49 with value: 35.62227870546313.\u001b[0m\n"
     ]
    },
    {
     "name": "stdout",
     "output_type": "stream",
     "text": [
      "MAPE:  0.5085420720338738\n",
      "MAE:  7.815412420910179\n"
     ]
    },
    {
     "name": "stderr",
     "output_type": "stream",
     "text": [
      "\u001b[32m[I 2023-04-03 00:55:01,185]\u001b[0m Trial 56 finished with value: 102.4098392193305 and parameters: {'max_depth': 7, 'learning_rate': 0.5644875612004802, 'n_estimators': 264, 'min_child_weight': 7, 'gamma': 0.0005452216939235303, 'subsample': 0.45164554327884243, 'colsample_bytree': 0.02401489054577909}. Best is trial 49 with value: 35.62227870546313.\u001b[0m\n"
     ]
    },
    {
     "name": "stdout",
     "output_type": "stream",
     "text": [
      "MAPE:  1.27260483096011\n",
      "MAE:  7.725079465571268\n"
     ]
    },
    {
     "name": "stderr",
     "output_type": "stream",
     "text": [
      "\u001b[32m[I 2023-04-03 01:00:54,689]\u001b[0m Trial 57 finished with value: 39.132967181301154 and parameters: {'max_depth': 3, 'learning_rate': 0.019677364523614106, 'n_estimators': 272, 'min_child_weight': 8, 'gamma': 8.837925778158892e-05, 'subsample': 0.6334581060463292, 'colsample_bytree': 0.5436388707899951}. Best is trial 49 with value: 35.62227870546313.\u001b[0m\n"
     ]
    },
    {
     "name": "stdout",
     "output_type": "stream",
     "text": [
      "MAPE:  0.20786361598564163\n",
      "MAE:  4.36012694925854\n"
     ]
    },
    {
     "name": "stderr",
     "output_type": "stream",
     "text": [
      "\u001b[32m[I 2023-04-03 01:04:13,480]\u001b[0m Trial 58 finished with value: 92.88500606385388 and parameters: {'max_depth': 4, 'learning_rate': 0.089785250160904, 'n_estimators': 240, 'min_child_weight': 9, 'gamma': 0.010957046883420524, 'subsample': 0.024248251867825258, 'colsample_bytree': 0.15304255613754747}. Best is trial 49 with value: 35.62227870546313.\u001b[0m\n"
     ]
    },
    {
     "name": "stdout",
     "output_type": "stream",
     "text": [
      "MAPE:  0.2937402336294417\n",
      "MAE:  7.042599347686907\n"
     ]
    },
    {
     "name": "stderr",
     "output_type": "stream",
     "text": [
      "\u001b[32m[I 2023-04-03 01:05:17,440]\u001b[0m Trial 59 finished with value: 127.09231342354322 and parameters: {'max_depth': 8, 'learning_rate': 0.0404011676902195, 'n_estimators': 64, 'min_child_weight': 7, 'gamma': 0.00018539313834304902, 'subsample': 0.2583443314695048, 'colsample_bytree': 0.06488244556408272}. Best is trial 49 with value: 35.62227870546313.\u001b[0m\n"
     ]
    },
    {
     "name": "stdout",
     "output_type": "stream",
     "text": [
      "MAPE:  0.3327645075173512\n",
      "MAE:  8.449190523017917\n"
     ]
    },
    {
     "name": "stderr",
     "output_type": "stream",
     "text": [
      "\u001b[32m[I 2023-04-03 01:10:28,503]\u001b[0m Trial 60 finished with value: 44.33422027381557 and parameters: {'max_depth': 9, 'learning_rate': 0.11427633703230955, 'n_estimators': 147, 'min_child_weight': 7, 'gamma': 0.0027207568275937595, 'subsample': 0.8171638021943006, 'colsample_bytree': 0.40938505571680006}. Best is trial 49 with value: 35.62227870546313.\u001b[0m\n"
     ]
    },
    {
     "name": "stdout",
     "output_type": "stream",
     "text": [
      "MAPE:  0.24985188525755037\n",
      "MAE:  4.728423738176798\n"
     ]
    },
    {
     "name": "stderr",
     "output_type": "stream",
     "text": [
      "\u001b[32m[I 2023-04-03 01:18:41,856]\u001b[0m Trial 61 finished with value: 37.17288783629637 and parameters: {'max_depth': 6, 'learning_rate': 0.025427058004920983, 'n_estimators': 284, 'min_child_weight': 6, 'gamma': 0.0009710954366610855, 'subsample': 0.16080234794771917, 'colsample_bytree': 0.8572584918147557}. Best is trial 49 with value: 35.62227870546313.\u001b[0m\n"
     ]
    },
    {
     "name": "stdout",
     "output_type": "stream",
     "text": [
      "MAPE:  0.19417216594852618\n",
      "MAE:  4.042428512169778\n"
     ]
    },
    {
     "name": "stderr",
     "output_type": "stream",
     "text": [
      "\u001b[32m[I 2023-04-03 01:27:09,758]\u001b[0m Trial 62 finished with value: 37.511648396652056 and parameters: {'max_depth': 6, 'learning_rate': 0.053621280144218034, 'n_estimators': 299, 'min_child_weight': 6, 'gamma': 0.0019146384115332569, 'subsample': 0.2359238552711823, 'colsample_bytree': 0.6917007106542088}. Best is trial 49 with value: 35.62227870546313.\u001b[0m\n"
     ]
    },
    {
     "name": "stdout",
     "output_type": "stream",
     "text": [
      "MAPE:  0.20659979972933967\n",
      "MAE:  4.156491638406327\n"
     ]
    },
    {
     "name": "stderr",
     "output_type": "stream",
     "text": [
      "\u001b[32m[I 2023-04-03 01:38:22,732]\u001b[0m Trial 63 finished with value: 37.37570488812075 and parameters: {'max_depth': 7, 'learning_rate': 0.033013282812640196, 'n_estimators': 290, 'min_child_weight': 5, 'gamma': 0.00027407608254289233, 'subsample': 0.29463065303292163, 'colsample_bytree': 0.9950036802380867}. Best is trial 49 with value: 35.62227870546313.\u001b[0m\n"
     ]
    },
    {
     "name": "stdout",
     "output_type": "stream",
     "text": [
      "MAPE:  0.19363210928073712\n",
      "MAE:  3.997563931829574\n"
     ]
    },
    {
     "name": "stderr",
     "output_type": "stream",
     "text": [
      "\u001b[32m[I 2023-04-03 01:45:58,863]\u001b[0m Trial 64 finished with value: 43.293407459606456 and parameters: {'max_depth': 5, 'learning_rate': 0.011751635024840005, 'n_estimators': 257, 'min_child_weight': 8, 'gamma': 0.0005675870518985199, 'subsample': 0.38441147658815666, 'colsample_bytree': 0.7345690825467363}. Best is trial 49 with value: 35.62227870546313.\u001b[0m\n"
     ]
    },
    {
     "name": "stdout",
     "output_type": "stream",
     "text": [
      "MAPE:  0.2225059265489586\n",
      "MAE:  4.523182531437504\n"
     ]
    },
    {
     "name": "stderr",
     "output_type": "stream",
     "text": [
      "\u001b[32m[I 2023-04-03 01:49:30,953]\u001b[0m Trial 65 finished with value: 61.07514519573829 and parameters: {'max_depth': 7, 'learning_rate': 0.01738581905653295, 'n_estimators': 129, 'min_child_weight': 7, 'gamma': 0.0036021895845405054, 'subsample': 0.14104695123526728, 'colsample_bytree': 0.8436754743822439}. Best is trial 49 with value: 35.62227870546313.\u001b[0m\n"
     ]
    },
    {
     "name": "stdout",
     "output_type": "stream",
     "text": [
      "MAPE:  0.2663288735800032\n",
      "MAE:  5.283279870141145\n"
     ]
    },
    {
     "name": "stderr",
     "output_type": "stream",
     "text": [
      "\u001b[32m[I 2023-04-03 01:58:12,952]\u001b[0m Trial 66 finished with value: 52.476431796827114 and parameters: {'max_depth': 6, 'learning_rate': 0.30059520243381216, 'n_estimators': 277, 'min_child_weight': 6, 'gamma': 0.0013300923906470663, 'subsample': 0.5107480396724194, 'colsample_bytree': 0.5864852896508578}. Best is trial 49 with value: 35.62227870546313.\u001b[0m\n"
     ]
    },
    {
     "name": "stdout",
     "output_type": "stream",
     "text": [
      "MAPE:  0.37632047592623813\n",
      "MAE:  5.116100797939253\n"
     ]
    },
    {
     "name": "stderr",
     "output_type": "stream",
     "text": [
      "\u001b[32m[I 2023-04-03 02:06:16,435]\u001b[0m Trial 67 finished with value: 42.13373373903526 and parameters: {'max_depth': 7, 'learning_rate': 0.02311607426094398, 'n_estimators': 216, 'min_child_weight': 5, 'gamma': 0.0752762520697812, 'subsample': 0.9559341498165869, 'colsample_bytree': 0.4914188717857817}. Best is trial 49 with value: 35.62227870546313.\u001b[0m\n"
     ]
    },
    {
     "name": "stdout",
     "output_type": "stream",
     "text": [
      "MAPE:  0.2227187186872187\n",
      "MAE:  4.478975379828647\n"
     ]
    },
    {
     "name": "stderr",
     "output_type": "stream",
     "text": [
      "\u001b[32m[I 2023-04-03 02:10:06,070]\u001b[0m Trial 68 finished with value: 43.2636509313883 and parameters: {'max_depth': 1, 'learning_rate': 0.04763589064891311, 'n_estimators': 266, 'min_child_weight': 4, 'gamma': 0.007917762880218527, 'subsample': 0.7155407935439886, 'colsample_bytree': 0.3037959425081304}. Best is trial 49 with value: 35.62227870546313.\u001b[0m\n"
     ]
    },
    {
     "name": "stdout",
     "output_type": "stream",
     "text": [
      "MAPE:  0.22124018808753013\n",
      "MAE:  4.714384179540545\n"
     ]
    },
    {
     "name": "stderr",
     "output_type": "stream",
     "text": [
      "\u001b[32m[I 2023-04-03 02:16:36,662]\u001b[0m Trial 69 finished with value: 38.330260454815566 and parameters: {'max_depth': 5, 'learning_rate': 0.03478304764669614, 'n_estimators': 250, 'min_child_weight': 8, 'gamma': 0.35997586703518686, 'subsample': 0.3226503072639598, 'colsample_bytree': 0.6610526724466771}. Best is trial 49 with value: 35.62227870546313.\u001b[0m\n"
     ]
    },
    {
     "name": "stdout",
     "output_type": "stream",
     "text": [
      "MAPE:  0.20800485928683565\n",
      "MAE:  4.247817906153481\n"
     ]
    },
    {
     "name": "stderr",
     "output_type": "stream",
     "text": [
      "\u001b[32m[I 2023-04-03 02:19:38,512]\u001b[0m Trial 70 finished with value: 54.40870612729688 and parameters: {'max_depth': 1, 'learning_rate': 0.4184912319953909, 'n_estimators': 233, 'min_child_weight': 6, 'gamma': 0.8866735363760989, 'subsample': 0.11884541398886454, 'colsample_bytree': 0.09857263163578893}. Best is trial 49 with value: 35.62227870546313.\u001b[0m\n"
     ]
    },
    {
     "name": "stdout",
     "output_type": "stream",
     "text": [
      "MAPE:  0.26986985514332307\n",
      "MAE:  5.306515587635382\n"
     ]
    },
    {
     "name": "stderr",
     "output_type": "stream",
     "text": [
      "\u001b[32m[I 2023-04-03 02:23:57,821]\u001b[0m Trial 71 finished with value: 37.08398734121946 and parameters: {'max_depth': 1, 'learning_rate': 0.056743959862337566, 'n_estimators': 282, 'min_child_weight': 4, 'gamma': 5.718589713139974e-05, 'subsample': 0.22462679829036766, 'colsample_bytree': 0.740469050845558}. Best is trial 49 with value: 35.62227870546313.\u001b[0m\n"
     ]
    },
    {
     "name": "stdout",
     "output_type": "stream",
     "text": [
      "MAPE:  0.20543515400098988\n",
      "MAE:  4.3617357162007115\n"
     ]
    },
    {
     "name": "stderr",
     "output_type": "stream",
     "text": [
      "\u001b[32m[I 2023-04-03 02:29:04,239]\u001b[0m Trial 72 finished with value: 35.77387883276987 and parameters: {'max_depth': 2, 'learning_rate': 0.061791530481761205, 'n_estimators': 275, 'min_child_weight': 3, 'gamma': 3.980477036273601e-05, 'subsample': 0.17076187357837927, 'colsample_bytree': 0.8789263732014828}. Best is trial 49 with value: 35.62227870546313.\u001b[0m\n"
     ]
    },
    {
     "name": "stdout",
     "output_type": "stream",
     "text": [
      "MAPE:  0.19429282916780907\n",
      "MAE:  3.9907730163145834\n"
     ]
    },
    {
     "name": "stderr",
     "output_type": "stream",
     "text": [
      "\u001b[32m[I 2023-04-03 02:34:30,790]\u001b[0m Trial 73 finished with value: 36.407082344533855 and parameters: {'max_depth': 2, 'learning_rate': 0.13339866128565522, 'n_estimators': 290, 'min_child_weight': 3, 'gamma': 1.7711201567232723e-05, 'subsample': 0.18490031351994685, 'colsample_bytree': 0.8900358763480329}. Best is trial 49 with value: 35.62227870546313.\u001b[0m\n"
     ]
    },
    {
     "name": "stdout",
     "output_type": "stream",
     "text": [
      "MAPE:  0.20821569368349685\n",
      "MAE:  4.076537313680464\n"
     ]
    },
    {
     "name": "stderr",
     "output_type": "stream",
     "text": [
      "\u001b[32m[I 2023-04-03 02:39:59,928]\u001b[0m Trial 74 finished with value: 38.63641199089821 and parameters: {'max_depth': 2, 'learning_rate': 0.18171847972720978, 'n_estimators': 292, 'min_child_weight': 3, 'gamma': 1.7305499799753817e-05, 'subsample': 0.18208915162847691, 'colsample_bytree': 0.8943570822257674}. Best is trial 49 with value: 35.62227870546313.\u001b[0m\n"
     ]
    },
    {
     "name": "stdout",
     "output_type": "stream",
     "text": [
      "MAPE:  0.21698296153759322\n",
      "MAE:  4.196828327288753\n"
     ]
    },
    {
     "name": "stderr",
     "output_type": "stream",
     "text": [
      "\u001b[32m[I 2023-04-03 02:46:10,829]\u001b[0m Trial 75 finished with value: 38.40851255091806 and parameters: {'max_depth': 3, 'learning_rate': 0.12832503695976777, 'n_estimators': 270, 'min_child_weight': 2, 'gamma': 3.299331812964598e-05, 'subsample': 0.2809021689201178, 'colsample_bytree': 0.8844162810279698}. Best is trial 49 with value: 35.62227870546313.\u001b[0m\n"
     ]
    },
    {
     "name": "stdout",
     "output_type": "stream",
     "text": [
      "MAPE:  0.20740777437351568\n",
      "MAE:  4.106095463778192\n"
     ]
    },
    {
     "name": "stderr",
     "output_type": "stream",
     "text": [
      "\u001b[32m[I 2023-04-03 02:49:26,801]\u001b[0m Trial 76 finished with value: 41.41763301891032 and parameters: {'max_depth': 2, 'learning_rate': 0.10068292512981158, 'n_estimators': 186, 'min_child_weight': 3, 'gamma': 1.0310618426801134e-05, 'subsample': 0.1687046373335422, 'colsample_bytree': 0.6126647932646353}. Best is trial 49 with value: 35.62227870546313.\u001b[0m\n"
     ]
    },
    {
     "name": "stdout",
     "output_type": "stream",
     "text": [
      "MAPE:  0.2200024189717965\n",
      "MAE:  4.477217079973535\n"
     ]
    },
    {
     "name": "stderr",
     "output_type": "stream",
     "text": [
      "\u001b[32m[I 2023-04-03 02:52:57,681]\u001b[0m Trial 77 finished with value: 38.79655775869591 and parameters: {'max_depth': 2, 'learning_rate': 0.22843535919108468, 'n_estimators': 160, 'min_child_weight': 3, 'gamma': 1.7803201278189918e-05, 'subsample': 0.4082287917774354, 'colsample_bytree': 0.9993777566493453}. Best is trial 49 with value: 35.62227870546313.\u001b[0m\n"
     ]
    },
    {
     "name": "stdout",
     "output_type": "stream",
     "text": [
      "MAPE:  0.20812825265813029\n",
      "MAE:  4.077680101988522\n"
     ]
    },
    {
     "name": "stderr",
     "output_type": "stream",
     "text": [
      "\u001b[32m[I 2023-04-03 02:58:05,656]\u001b[0m Trial 78 finished with value: 39.78749047801003 and parameters: {'max_depth': 3, 'learning_rate': 0.08586461512651293, 'n_estimators': 259, 'min_child_weight': 3, 'gamma': 6.902947451903422e-05, 'subsample': 0.35260739992562595, 'colsample_bytree': 0.5156766185486085}. Best is trial 49 with value: 35.62227870546313.\u001b[0m\n"
     ]
    },
    {
     "name": "stdout",
     "output_type": "stream",
     "text": [
      "MAPE:  0.2264722957591943\n",
      "MAE:  4.39444454127585\n"
     ]
    },
    {
     "name": "stderr",
     "output_type": "stream",
     "text": [
      "\u001b[32m[I 2023-04-03 03:01:24,349]\u001b[0m Trial 79 finished with value: 40.85850584526985 and parameters: {'max_depth': 2, 'learning_rate': 0.07236222872994286, 'n_estimators': 199, 'min_child_weight': 2, 'gamma': 4.657321814807099e-05, 'subsample': 0.24074696817938437, 'colsample_bytree': 0.4339074992496802}. Best is trial 49 with value: 35.62227870546313.\u001b[0m\n"
     ]
    },
    {
     "name": "stdout",
     "output_type": "stream",
     "text": [
      "MAPE:  0.23040932070033232\n",
      "MAE:  4.660350429406117\n"
     ]
    },
    {
     "name": "stderr",
     "output_type": "stream",
     "text": [
      "\u001b[32m[I 2023-04-03 03:05:32,392]\u001b[0m Trial 80 finished with value: 33.068867479590054 and parameters: {'max_depth': 1, 'learning_rate': 0.1335524585757749, 'n_estimators': 246, 'min_child_weight': 2, 'gamma': 3.963987519352865e-05, 'subsample': 0.5033142888994061, 'colsample_bytree': 0.7798559920049065}. Best is trial 80 with value: 33.068867479590054.\u001b[0m\n"
     ]
    },
    {
     "name": "stdout",
     "output_type": "stream",
     "text": [
      "MAPE:  0.1875057297400534\n",
      "MAE:  3.920007796751128\n"
     ]
    },
    {
     "name": "stderr",
     "output_type": "stream",
     "text": [
      "\u001b[32m[I 2023-04-03 03:09:51,559]\u001b[0m Trial 81 finished with value: 35.079683166290266 and parameters: {'max_depth': 1, 'learning_rate': 0.15883436181120336, 'n_estimators': 245, 'min_child_weight': 1, 'gamma': 3.428726427239909e-05, 'subsample': 0.8617005458446895, 'colsample_bytree': 0.8028786275491301}. Best is trial 80 with value: 33.068867479590054.\u001b[0m\n"
     ]
    },
    {
     "name": "stdout",
     "output_type": "stream",
     "text": [
      "MAPE:  0.18420140543815794\n",
      "MAE:  3.905793286053932\n"
     ]
    },
    {
     "name": "stderr",
     "output_type": "stream",
     "text": [
      "\u001b[32m[I 2023-04-03 03:14:29,862]\u001b[0m Trial 82 finished with value: 33.86681521997973 and parameters: {'max_depth': 1, 'learning_rate': 0.14744939042613764, 'n_estimators': 272, 'min_child_weight': 1, 'gamma': 3.57928448696978e-05, 'subsample': 0.6281078682130866, 'colsample_bytree': 0.7919371476535045}. Best is trial 80 with value: 33.068867479590054.\u001b[0m\n"
     ]
    },
    {
     "name": "stdout",
     "output_type": "stream",
     "text": [
      "MAPE:  0.1848782117902181\n",
      "MAE:  3.865414752706624\n"
     ]
    },
    {
     "name": "stderr",
     "output_type": "stream",
     "text": [
      "\u001b[32m[I 2023-04-03 03:18:27,147]\u001b[0m Trial 83 finished with value: 38.070913585271164 and parameters: {'max_depth': 1, 'learning_rate': 0.14435145927436158, 'n_estimators': 248, 'min_child_weight': 1, 'gamma': 3.554355643661906e-05, 'subsample': 0.4859312421560984, 'colsample_bytree': 0.593717752473421}. Best is trial 80 with value: 33.068867479590054.\u001b[0m\n"
     ]
    },
    {
     "name": "stdout",
     "output_type": "stream",
     "text": [
      "MAPE:  0.21133863169123723\n",
      "MAE:  4.356590212567856\n"
     ]
    },
    {
     "name": "stderr",
     "output_type": "stream",
     "text": [
      "\u001b[32m[I 2023-04-03 03:20:16,666]\u001b[0m Trial 84 finished with value: 39.28273007703063 and parameters: {'max_depth': 1, 'learning_rate': 0.1753586548283324, 'n_estimators': 104, 'min_child_weight': 1, 'gamma': 1.3963931446271124e-05, 'subsample': 0.6649811700409489, 'colsample_bytree': 0.711519182564383}. Best is trial 80 with value: 33.068867479590054.\u001b[0m\n"
     ]
    },
    {
     "name": "stdout",
     "output_type": "stream",
     "text": [
      "MAPE:  0.20033367642113753\n",
      "MAE:  4.3363395521951\n"
     ]
    },
    {
     "name": "stderr",
     "output_type": "stream",
     "text": [
      "\u001b[32m[I 2023-04-03 03:24:06,920]\u001b[0m Trial 85 finished with value: 34.034236960630416 and parameters: {'max_depth': 1, 'learning_rate': 0.20688611017936318, 'n_estimators': 224, 'min_child_weight': 2, 'gamma': 2.2636934253116318e-05, 'subsample': 0.5770274028696741, 'colsample_bytree': 0.8267085969814847}. Best is trial 80 with value: 33.068867479590054.\u001b[0m\n"
     ]
    },
    {
     "name": "stdout",
     "output_type": "stream",
     "text": [
      "MAPE:  0.18656288379576325\n",
      "MAE:  3.910788589925097\n"
     ]
    },
    {
     "name": "stderr",
     "output_type": "stream",
     "text": [
      "\u001b[32m[I 2023-04-03 03:28:04,391]\u001b[0m Trial 86 finished with value: 32.87363508580342 and parameters: {'max_depth': 1, 'learning_rate': 0.19693317389667064, 'n_estimators': 230, 'min_child_weight': 2, 'gamma': 0.00010203343437631021, 'subsample': 0.5996887758913143, 'colsample_bytree': 0.8075006027572036}. Best is trial 86 with value: 32.87363508580342.\u001b[0m\n"
     ]
    },
    {
     "name": "stdout",
     "output_type": "stream",
     "text": [
      "MAPE:  0.18696799197565614\n",
      "MAE:  3.861117996275425\n"
     ]
    },
    {
     "name": "stderr",
     "output_type": "stream",
     "text": [
      "\u001b[32m[I 2023-04-03 03:31:54,443]\u001b[0m Trial 87 finished with value: 34.95880906928758 and parameters: {'max_depth': 1, 'learning_rate': 0.2683725316316962, 'n_estimators': 225, 'min_child_weight': 2, 'gamma': 0.00011916957691050812, 'subsample': 0.6151913497305896, 'colsample_bytree': 0.800192349884479}. Best is trial 86 with value: 32.87363508580342.\u001b[0m\n"
     ]
    },
    {
     "name": "stdout",
     "output_type": "stream",
     "text": [
      "MAPE:  0.1974613108261868\n",
      "MAE:  4.027621540976198\n"
     ]
    },
    {
     "name": "stderr",
     "output_type": "stream",
     "text": [
      "\u001b[32m[I 2023-04-03 03:35:41,083]\u001b[0m Trial 88 finished with value: 35.00328347450986 and parameters: {'max_depth': 1, 'learning_rate': 0.22591675198897804, 'n_estimators': 229, 'min_child_weight': 2, 'gamma': 0.00011813252807974545, 'subsample': 0.5550642464833477, 'colsample_bytree': 0.6836514093164999}. Best is trial 86 with value: 32.87363508580342.\u001b[0m\n"
     ]
    },
    {
     "name": "stdout",
     "output_type": "stream",
     "text": [
      "MAPE:  0.1995789603302323\n",
      "MAE:  4.117270095546169\n"
     ]
    },
    {
     "name": "stderr",
     "output_type": "stream",
     "text": [
      "\u001b[32m[I 2023-04-03 03:39:17,213]\u001b[0m Trial 89 finished with value: 36.41988469777249 and parameters: {'max_depth': 1, 'learning_rate': 0.24118424902206473, 'n_estimators': 221, 'min_child_weight': 1, 'gamma': 0.00012985065975663052, 'subsample': 0.6092314349762866, 'colsample_bytree': 0.6264880737387051}. Best is trial 86 with value: 32.87363508580342.\u001b[0m\n"
     ]
    },
    {
     "name": "stdout",
     "output_type": "stream",
     "text": [
      "MAPE:  0.20526133869308677\n",
      "MAE:  4.16158524708964\n"
     ]
    },
    {
     "name": "stderr",
     "output_type": "stream",
     "text": [
      "\u001b[32m[I 2023-04-03 03:42:55,948]\u001b[0m Trial 90 finished with value: 33.05283587302107 and parameters: {'max_depth': 1, 'learning_rate': 0.15623642292908216, 'n_estimators': 212, 'min_child_weight': 2, 'gamma': 3.932104316026935e-05, 'subsample': 0.572451488545539, 'colsample_bytree': 0.8139021018985886}. Best is trial 86 with value: 32.87363508580342.\u001b[0m\n"
     ]
    },
    {
     "name": "stdout",
     "output_type": "stream",
     "text": [
      "MAPE:  0.184370501487223\n",
      "MAE:  3.8831172243022083\n"
     ]
    },
    {
     "name": "stderr",
     "output_type": "stream",
     "text": [
      "\u001b[32m[I 2023-04-03 03:46:30,469]\u001b[0m Trial 91 finished with value: 33.849964490612386 and parameters: {'max_depth': 1, 'learning_rate': 0.16298763018544904, 'n_estimators': 209, 'min_child_weight': 2, 'gamma': 2.310796776114205e-05, 'subsample': 0.5619733646933588, 'colsample_bytree': 0.8071945103883751}. Best is trial 86 with value: 32.87363508580342.\u001b[0m\n"
     ]
    },
    {
     "name": "stdout",
     "output_type": "stream",
     "text": [
      "MAPE:  0.18683222624189455\n",
      "MAE:  3.9030510086065147\n"
     ]
    },
    {
     "name": "stderr",
     "output_type": "stream",
     "text": [
      "\u001b[32m[I 2023-04-03 03:50:23,404]\u001b[0m Trial 92 finished with value: 33.68601926153886 and parameters: {'max_depth': 1, 'learning_rate': 0.15585136450119724, 'n_estimators': 231, 'min_child_weight': 2, 'gamma': 2.21234630212825e-05, 'subsample': 0.5788912452835148, 'colsample_bytree': 0.7540379680395415}. Best is trial 86 with value: 32.87363508580342.\u001b[0m\n"
     ]
    },
    {
     "name": "stdout",
     "output_type": "stream",
     "text": [
      "MAPE:  0.1894211263108623\n",
      "MAE:  3.98525239529404\n"
     ]
    },
    {
     "name": "stderr",
     "output_type": "stream",
     "text": [
      "\u001b[32m[I 2023-04-03 03:53:09,535]\u001b[0m Trial 93 finished with value: 56.63938825471501 and parameters: {'max_depth': 1, 'learning_rate': 0.1579210658802312, 'n_estimators': 208, 'min_child_weight': 2, 'gamma': 2.5188432550914483e-05, 'subsample': 0.5536237942360506, 'colsample_bytree': 0.035066714710646894}. Best is trial 86 with value: 32.87363508580342.\u001b[0m\n"
     ]
    },
    {
     "name": "stdout",
     "output_type": "stream",
     "text": [
      "MAPE:  0.25983578999881746\n",
      "MAE:  5.969791494004908\n"
     ]
    },
    {
     "name": "stderr",
     "output_type": "stream",
     "text": [
      "\u001b[32m[I 2023-04-03 03:57:05,588]\u001b[0m Trial 94 finished with value: 34.471997403632514 and parameters: {'max_depth': 1, 'learning_rate': 0.19400096548798407, 'n_estimators': 225, 'min_child_weight': 2, 'gamma': 2.3996017079338654e-05, 'subsample': 0.8677909565743044, 'colsample_bytree': 0.7792676690947066}. Best is trial 86 with value: 32.87363508580342.\u001b[0m\n"
     ]
    },
    {
     "name": "stdout",
     "output_type": "stream",
     "text": [
      "MAPE:  0.1855970092303666\n",
      "MAE:  3.893762928482733\n"
     ]
    },
    {
     "name": "stderr",
     "output_type": "stream",
     "text": [
      "\u001b[32m[I 2023-04-03 04:00:50,751]\u001b[0m Trial 95 finished with value: 38.00353127490306 and parameters: {'max_depth': 1, 'learning_rate': 0.27069591252543046, 'n_estimators': 234, 'min_child_weight': 2, 'gamma': 2.1582681375445806e-05, 'subsample': 0.7274478776526977, 'colsample_bytree': 0.5501926954577098}. Best is trial 86 with value: 32.87363508580342.\u001b[0m\n"
     ]
    },
    {
     "name": "stdout",
     "output_type": "stream",
     "text": [
      "MAPE:  0.21585657075195186\n",
      "MAE:  4.312571888713286\n"
     ]
    },
    {
     "name": "stderr",
     "output_type": "stream",
     "text": [
      "\u001b[32m[I 2023-04-03 04:04:13,746]\u001b[0m Trial 96 finished with value: 46.71508619181531 and parameters: {'max_depth': 1, 'learning_rate': 0.21333734878920002, 'n_estimators': 227, 'min_child_weight': 2, 'gamma': 9.494802416759392e-05, 'subsample': 0.5754332342785394, 'colsample_bytree': 0.34324970017368756}. Best is trial 86 with value: 32.87363508580342.\u001b[0m\n"
     ]
    },
    {
     "name": "stdout",
     "output_type": "stream",
     "text": [
      "MAPE:  0.24901136548135686\n",
      "MAE:  4.908731509762549\n"
     ]
    },
    {
     "name": "stderr",
     "output_type": "stream",
     "text": [
      "\u001b[32m[I 2023-04-03 04:07:36,892]\u001b[0m Trial 97 finished with value: 36.87299520330976 and parameters: {'max_depth': 1, 'learning_rate': 0.19779639608761865, 'n_estimators': 198, 'min_child_weight': 2, 'gamma': 7.514441762141661e-05, 'subsample': 0.8888599571592619, 'colsample_bytree': 0.6755184784766983}. Best is trial 86 with value: 32.87363508580342.\u001b[0m\n"
     ]
    },
    {
     "name": "stdout",
     "output_type": "stream",
     "text": [
      "MAPE:  0.19743789746188278\n",
      "MAE:  4.126057095542463\n"
     ]
    },
    {
     "name": "stderr",
     "output_type": "stream",
     "text": [
      "\u001b[32m[I 2023-04-03 04:11:15,221]\u001b[0m Trial 98 finished with value: 34.937669560457465 and parameters: {'max_depth': 1, 'learning_rate': 0.3486270365004017, 'n_estimators': 212, 'min_child_weight': 1, 'gamma': 1.3974131821962771e-05, 'subsample': 0.7444640220265741, 'colsample_bytree': 0.7628629765801808}. Best is trial 86 with value: 32.87363508580342.\u001b[0m\n"
     ]
    },
    {
     "name": "stdout",
     "output_type": "stream",
     "text": [
      "MAPE:  0.19376694132707062\n",
      "MAE:  3.953591068280719\n"
     ]
    },
    {
     "name": "stderr",
     "output_type": "stream",
     "text": [
      "\u001b[32m[I 2023-04-03 04:14:52,376]\u001b[0m Trial 99 finished with value: 35.448956377197725 and parameters: {'max_depth': 1, 'learning_rate': 0.36990580281388813, 'n_estimators': 211, 'min_child_weight': 1, 'gamma': 1.4241697339117086e-05, 'subsample': 0.7559328611332908, 'colsample_bytree': 0.7656781178876904}. Best is trial 86 with value: 32.87363508580342.\u001b[0m\n"
     ]
    },
    {
     "name": "stdout",
     "output_type": "stream",
     "text": [
      "MAPE:  0.19480646918063715\n",
      "MAE:  3.9704366457915445\n"
     ]
    },
    {
     "name": "stderr",
     "output_type": "stream",
     "text": [
      "\u001b[32m[I 2023-04-03 04:18:58,536]\u001b[0m A new study created in memory with name: no-name-700e1664-f22a-4f28-9ae1-e47b4f33f916\u001b[0m\n",
      "\u001b[32m[I 2023-04-03 04:30:45,165]\u001b[0m Trial 0 finished with value: 116.55750757613643 and parameters: {'max_depth': 6, 'learning_rate': 0.01677664913693689, 'n_estimators': 249, 'min_child_weight': 4, 'gamma': 0.0004915200453823023, 'subsample': 0.7015216491636139, 'colsample_bytree': 0.8303452531006222}. Best is trial 0 with value: 116.55750757613643.\u001b[0m\n"
     ]
    },
    {
     "name": "stdout",
     "output_type": "stream",
     "text": [
      "MAPE:  0.3200398555838561\n",
      "MAE:  6.940936282952452\n"
     ]
    },
    {
     "name": "stderr",
     "output_type": "stream",
     "text": [
      "\u001b[32m[I 2023-04-03 04:31:48,239]\u001b[0m Trial 1 finished with value: 221.70958527207895 and parameters: {'max_depth': 1, 'learning_rate': 0.01824859159901234, 'n_estimators': 58, 'min_child_weight': 5, 'gamma': 0.0007307015724081242, 'subsample': 0.3337312769451835, 'colsample_bytree': 0.30560799347370915}. Best is trial 0 with value: 116.55750757613643.\u001b[0m\n"
     ]
    },
    {
     "name": "stdout",
     "output_type": "stream",
     "text": [
      "MAPE:  0.5677077761736349\n",
      "MAE:  10.193890754765237\n"
     ]
    },
    {
     "name": "stderr",
     "output_type": "stream",
     "text": [
      "\u001b[32m[I 2023-04-03 04:35:28,525]\u001b[0m Trial 2 finished with value: 280.2311971219437 and parameters: {'max_depth': 2, 'learning_rate': 0.23769552325724724, 'n_estimators': 266, 'min_child_weight': 7, 'gamma': 2.361283655226403e-05, 'subsample': 0.018054811340330358, 'colsample_bytree': 0.03095962260549315}. Best is trial 0 with value: 116.55750757613643.\u001b[0m\n"
     ]
    },
    {
     "name": "stdout",
     "output_type": "stream",
     "text": [
      "MAPE:  0.45366496761859954\n",
      "MAE:  13.757383277803136\n"
     ]
    },
    {
     "name": "stderr",
     "output_type": "stream",
     "text": [
      "\u001b[32m[I 2023-04-03 04:39:18,508]\u001b[0m Trial 3 finished with value: 243.47418404480803 and parameters: {'max_depth': 1, 'learning_rate': 0.9468056050759249, 'n_estimators': 247, 'min_child_weight': 5, 'gamma': 0.039419091921697645, 'subsample': 0.22329901660392937, 'colsample_bytree': 0.3378033980075495}. Best is trial 0 with value: 116.55750757613643.\u001b[0m\n"
     ]
    },
    {
     "name": "stdout",
     "output_type": "stream",
     "text": [
      "MAPE:  1.7411881073463984\n",
      "MAE:  11.056183740831925\n"
     ]
    },
    {
     "name": "stderr",
     "output_type": "stream",
     "text": [
      "\u001b[32m[I 2023-04-03 04:40:31,836]\u001b[0m Trial 4 finished with value: 189.0384780979963 and parameters: {'max_depth': 4, 'learning_rate': 0.4726623182664644, 'n_estimators': 42, 'min_child_weight': 3, 'gamma': 0.001734815695293857, 'subsample': 0.28845579736414134, 'colsample_bytree': 0.5915493699209335}. Best is trial 0 with value: 116.55750757613643.\u001b[0m\n"
     ]
    },
    {
     "name": "stdout",
     "output_type": "stream",
     "text": [
      "MAPE:  1.2207006341731093\n",
      "MAE:  9.741592614187816\n"
     ]
    },
    {
     "name": "stderr",
     "output_type": "stream",
     "text": [
      "\u001b[32m[I 2023-04-03 04:43:25,728]\u001b[0m Trial 5 finished with value: 152.5975076510534 and parameters: {'max_depth': 4, 'learning_rate': 0.41386384758530803, 'n_estimators': 187, 'min_child_weight': 4, 'gamma': 0.032866601568297994, 'subsample': 0.93189567421025, 'colsample_bytree': 0.030040190089322048}. Best is trial 0 with value: 116.55750757613643.\u001b[0m\n"
     ]
    },
    {
     "name": "stdout",
     "output_type": "stream",
     "text": [
      "MAPE:  0.45867576923360914\n",
      "MAE:  8.228859799866406\n"
     ]
    },
    {
     "name": "stderr",
     "output_type": "stream",
     "text": [
      "\u001b[32m[I 2023-04-03 04:48:38,808]\u001b[0m Trial 6 finished with value: 132.6878426476469 and parameters: {'max_depth': 3, 'learning_rate': 0.07257114521519968, 'n_estimators': 267, 'min_child_weight': 9, 'gamma': 0.037305381065184606, 'subsample': 0.06555801888061345, 'colsample_bytree': 0.7889101034848387}. Best is trial 0 with value: 116.55750757613643.\u001b[0m\n"
     ]
    },
    {
     "name": "stdout",
     "output_type": "stream",
     "text": [
      "MAPE:  0.3382895674234786\n",
      "MAE:  7.717811684075155\n"
     ]
    },
    {
     "name": "stderr",
     "output_type": "stream",
     "text": [
      "\u001b[32m[I 2023-04-03 04:53:10,797]\u001b[0m Trial 7 finished with value: 246.92972244672535 and parameters: {'max_depth': 7, 'learning_rate': 0.5053537162108035, 'n_estimators': 271, 'min_child_weight': 9, 'gamma': 7.767516379331243e-05, 'subsample': 0.09108099259288858, 'colsample_bytree': 0.2307340290010745}. Best is trial 0 with value: 116.55750757613643.\u001b[0m\n"
     ]
    },
    {
     "name": "stdout",
     "output_type": "stream",
     "text": [
      "MAPE:  1.5306527678328201\n",
      "MAE:  11.535413028147447\n"
     ]
    },
    {
     "name": "stderr",
     "output_type": "stream",
     "text": [
      "\u001b[32m[I 2023-04-03 04:55:05,268]\u001b[0m Trial 8 finished with value: 272.21209916003244 and parameters: {'max_depth': 6, 'learning_rate': 0.7798614872912457, 'n_estimators': 115, 'min_child_weight': 9, 'gamma': 0.7454933296343879, 'subsample': 0.2739916884770408, 'colsample_bytree': 0.06527098583315441}. Best is trial 0 with value: 116.55750757613643.\u001b[0m\n"
     ]
    },
    {
     "name": "stdout",
     "output_type": "stream",
     "text": [
      "MAPE:  2.7391701324853126\n",
      "MAE:  11.869214334972447\n"
     ]
    },
    {
     "name": "stderr",
     "output_type": "stream",
     "text": [
      "\u001b[32m[I 2023-04-03 04:59:25,338]\u001b[0m Trial 9 finished with value: 134.46211222066233 and parameters: {'max_depth': 5, 'learning_rate': 0.08008201615058273, 'n_estimators': 214, 'min_child_weight': 10, 'gamma': 0.4243050891245396, 'subsample': 0.35669709930372734, 'colsample_bytree': 0.26818241396981163}. Best is trial 0 with value: 116.55750757613643.\u001b[0m\n"
     ]
    },
    {
     "name": "stdout",
     "output_type": "stream",
     "text": [
      "MAPE:  0.36785378156226095\n",
      "MAE:  8.01849473207884\n"
     ]
    },
    {
     "name": "stderr",
     "output_type": "stream",
     "text": [
      "\u001b[32m[I 2023-04-03 05:01:15,931]\u001b[0m Trial 10 finished with value: 231.33900016275726 and parameters: {'max_depth': 9, 'learning_rate': 0.010396557389265863, 'n_estimators': 122, 'min_child_weight': 1, 'gamma': 0.00026585088407262, 'subsample': 0.9984058761932287, 'colsample_bytree': 0.010886138527710225}. Best is trial 0 with value: 116.55750757613643.\u001b[0m\n"
     ]
    },
    {
     "name": "stdout",
     "output_type": "stream",
     "text": [
      "MAPE:  0.48787083820561594\n",
      "MAE:  10.69624853718002\n"
     ]
    },
    {
     "name": "stderr",
     "output_type": "stream",
     "text": [
      "\u001b[32m[I 2023-04-03 05:07:21,519]\u001b[0m Trial 11 finished with value: 133.78888295429866 and parameters: {'max_depth': 3, 'learning_rate': 0.04346864462059572, 'n_estimators': 300, 'min_child_weight': 7, 'gamma': 0.02906936270658701, 'subsample': 0.053764612183079444, 'colsample_bytree': 0.8579630324776103}. Best is trial 0 with value: 116.55750757613643.\u001b[0m\n"
     ]
    },
    {
     "name": "stdout",
     "output_type": "stream",
     "text": [
      "MAPE:  0.33770238791048945\n",
      "MAE:  7.883524678691089\n"
     ]
    },
    {
     "name": "stderr",
     "output_type": "stream",
     "text": [
      "\u001b[32m[I 2023-04-03 05:11:22,874]\u001b[0m Trial 12 finished with value: 140.62340958444275 and parameters: {'max_depth': 7, 'learning_rate': 0.038916220091939104, 'n_estimators': 212, 'min_child_weight': 7, 'gamma': 0.006056142845969057, 'subsample': 0.035654239376850784, 'colsample_bytree': 0.968647270225292}. Best is trial 0 with value: 116.55750757613643.\u001b[0m\n"
     ]
    },
    {
     "name": "stdout",
     "output_type": "stream",
     "text": [
      "MAPE:  0.3425827537792688\n",
      "MAE:  8.497802279976725\n"
     ]
    },
    {
     "name": "stderr",
     "output_type": "stream",
     "text": [
      "\u001b[32m[I 2023-04-03 05:13:50,928]\u001b[0m Trial 13 finished with value: 179.02535132687458 and parameters: {'max_depth': 9, 'learning_rate': 0.10371601358864702, 'n_estimators': 165, 'min_child_weight': 2, 'gamma': 0.007402581524728524, 'subsample': 0.012298385836254146, 'colsample_bytree': 0.12268002820908952}. Best is trial 0 with value: 116.55750757613643.\u001b[0m\n"
     ]
    },
    {
     "name": "stdout",
     "output_type": "stream",
     "text": [
      "MAPE:  0.3983455991186552\n",
      "MAE:  10.206853987180699\n"
     ]
    },
    {
     "name": "stderr",
     "output_type": "stream",
     "text": [
      "\u001b[32m[I 2023-04-03 05:19:08,696]\u001b[0m Trial 14 finished with value: 124.06677953627647 and parameters: {'max_depth': 5, 'learning_rate': 0.024846443999175145, 'n_estimators': 233, 'min_child_weight': 6, 'gamma': 0.13161722267175457, 'subsample': 0.12973845718558522, 'colsample_bytree': 0.5237735158444593}. Best is trial 0 with value: 116.55750757613643.\u001b[0m\n"
     ]
    },
    {
     "name": "stdout",
     "output_type": "stream",
     "text": [
      "MAPE:  0.32630592244330103\n",
      "MAE:  7.445105378325397\n"
     ]
    },
    {
     "name": "stderr",
     "output_type": "stream",
     "text": [
      "\u001b[32m[I 2023-04-03 05:24:01,802]\u001b[0m Trial 15 finished with value: 122.61518546876911 and parameters: {'max_depth': 6, 'learning_rate': 0.02036455039898421, 'n_estimators': 224, 'min_child_weight': 6, 'gamma': 0.0003159133854670038, 'subsample': 0.13704465768885615, 'colsample_bytree': 0.4445689389837517}. Best is trial 0 with value: 116.55750757613643.\u001b[0m\n"
     ]
    },
    {
     "name": "stdout",
     "output_type": "stream",
     "text": [
      "MAPE:  0.32833188723996387\n",
      "MAE:  7.4814599566379485\n"
     ]
    },
    {
     "name": "stderr",
     "output_type": "stream",
     "text": [
      "\u001b[32m[I 2023-04-03 05:26:54,947]\u001b[0m Trial 16 finished with value: 168.16743152772094 and parameters: {'max_depth': 7, 'learning_rate': 0.011132672788111812, 'n_estimators': 139, 'min_child_weight': 3, 'gamma': 1.0558513574993862e-05, 'subsample': 0.624701308669438, 'colsample_bytree': 0.1474818340018173}. Best is trial 0 with value: 116.55750757613643.\u001b[0m\n"
     ]
    },
    {
     "name": "stdout",
     "output_type": "stream",
     "text": [
      "MAPE:  0.4193469312272458\n",
      "MAE:  8.816217640905004\n"
     ]
    },
    {
     "name": "stderr",
     "output_type": "stream",
     "text": [
      "\u001b[32m[I 2023-04-03 05:31:22,125]\u001b[0m Trial 17 finished with value: 122.09489229943902 and parameters: {'max_depth': 8, 'learning_rate': 0.020849320040975974, 'n_estimators': 184, 'min_child_weight': 4, 'gamma': 0.000293885904977019, 'subsample': 0.14631144712964914, 'colsample_bytree': 0.4552721144037168}. Best is trial 0 with value: 116.55750757613643.\u001b[0m\n"
     ]
    },
    {
     "name": "stdout",
     "output_type": "stream",
     "text": [
      "MAPE:  0.3334664471424514\n",
      "MAE:  7.4287374001758835\n"
     ]
    },
    {
     "name": "stderr",
     "output_type": "stream",
     "text": [
      "\u001b[32m[I 2023-04-03 05:32:47,925]\u001b[0m Trial 18 finished with value: 163.8837226470856 and parameters: {'max_depth': 8, 'learning_rate': 0.13958711575647906, 'n_estimators': 94, 'min_child_weight': 4, 'gamma': 8.664752614688955e-05, 'subsample': 0.029466180724903743, 'colsample_bytree': 0.05929865062086543}. Best is trial 0 with value: 116.55750757613643.\u001b[0m\n"
     ]
    },
    {
     "name": "stdout",
     "output_type": "stream",
     "text": [
      "MAPE:  0.3641907826273937\n",
      "MAE:  9.670003467048819\n"
     ]
    },
    {
     "name": "stderr",
     "output_type": "stream",
     "text": [
      "\u001b[32m[I 2023-04-03 05:36:52,986]\u001b[0m Trial 19 finished with value: 126.99813423714153 and parameters: {'max_depth': 8, 'learning_rate': 0.03153918276457551, 'n_estimators': 170, 'min_child_weight': 1, 'gamma': 0.001426786528602907, 'subsample': 0.43711153010782694, 'colsample_bytree': 0.18343033881353435}. Best is trial 0 with value: 116.55750757613643.\u001b[0m\n"
     ]
    },
    {
     "name": "stdout",
     "output_type": "stream",
     "text": [
      "MAPE:  0.3394233837749567\n",
      "MAE:  7.843802336145911\n"
     ]
    },
    {
     "name": "stderr",
     "output_type": "stream",
     "text": [
      "\u001b[32m[I 2023-04-03 05:41:34,956]\u001b[0m Trial 20 finished with value: 127.76208175086478 and parameters: {'max_depth': 8, 'learning_rate': 0.015098070018100386, 'n_estimators': 188, 'min_child_weight': 3, 'gamma': 0.00014637407610152588, 'subsample': 0.16191286128447718, 'colsample_bytree': 0.4314136274075609}. Best is trial 0 with value: 116.55750757613643.\u001b[0m\n"
     ]
    },
    {
     "name": "stdout",
     "output_type": "stream",
     "text": [
      "MAPE:  0.35638540355897624\n",
      "MAE:  7.546589556318975\n"
     ]
    },
    {
     "name": "stderr",
     "output_type": "stream",
     "text": [
      "\u001b[32m[I 2023-04-03 05:46:32,829]\u001b[0m Trial 21 finished with value: 121.85038690894677 and parameters: {'max_depth': 6, 'learning_rate': 0.01954622630493657, 'n_estimators': 214, 'min_child_weight': 6, 'gamma': 0.0003947348820766159, 'subsample': 0.1633341863310095, 'colsample_bytree': 0.4861301636593298}. Best is trial 0 with value: 116.55750757613643.\u001b[0m\n"
     ]
    },
    {
     "name": "stdout",
     "output_type": "stream",
     "text": [
      "MAPE:  0.32604784896280126\n",
      "MAE:  7.420656169715681\n"
     ]
    },
    {
     "name": "stderr",
     "output_type": "stream",
     "text": [
      "\u001b[32m[I 2023-04-03 05:53:53,575]\u001b[0m Trial 22 finished with value: 127.4564823458346 and parameters: {'max_depth': 6, 'learning_rate': 0.05027023710598874, 'n_estimators': 196, 'min_child_weight': 4, 'gamma': 0.0006823521160423245, 'subsample': 0.5782253149866956, 'colsample_bytree': 0.6517659162279009}. Best is trial 0 with value: 116.55750757613643.\u001b[0m\n"
     ]
    },
    {
     "name": "stdout",
     "output_type": "stream",
     "text": [
      "MAPE:  0.3493065552475606\n",
      "MAE:  7.51048410559694\n"
     ]
    },
    {
     "name": "stderr",
     "output_type": "stream",
     "text": [
      "\u001b[32m[I 2023-04-03 05:59:22,901]\u001b[0m Trial 23 finished with value: 125.39521130991676 and parameters: {'max_depth': 6, 'learning_rate': 0.028147163567527025, 'n_estimators': 240, 'min_child_weight': 5, 'gamma': 2.4385051203618237e-05, 'subsample': 0.2011986058057139, 'colsample_bytree': 0.37763418560217665}. Best is trial 0 with value: 116.55750757613643.\u001b[0m\n"
     ]
    },
    {
     "name": "stdout",
     "output_type": "stream",
     "text": [
      "MAPE:  0.3395025078177867\n",
      "MAE:  7.710798047417612\n"
     ]
    },
    {
     "name": "stderr",
     "output_type": "stream",
     "text": [
      "\u001b[32m[I 2023-04-03 06:02:48,620]\u001b[0m Trial 24 finished with value: 142.04491523940194 and parameters: {'max_depth': 7, 'learning_rate': 0.013688519856014754, 'n_estimators': 156, 'min_child_weight': 6, 'gamma': 0.0031393619338689798, 'subsample': 0.09276401617993119, 'colsample_bytree': 0.6109255592243065}. Best is trial 0 with value: 116.55750757613643.\u001b[0m\n"
     ]
    },
    {
     "name": "stdout",
     "output_type": "stream",
     "text": [
      "MAPE:  0.3819700723349793\n",
      "MAE:  7.9126913800225624\n"
     ]
    },
    {
     "name": "stderr",
     "output_type": "stream",
     "text": [
      "\u001b[32m[I 2023-04-03 06:05:58,669]\u001b[0m Trial 25 finished with value: 154.39369482733363 and parameters: {'max_depth': 5, 'learning_rate': 0.020931662679165648, 'n_estimators': 200, 'min_child_weight': 2, 'gamma': 0.00046059109749934686, 'subsample': 0.06250697319076409, 'colsample_bytree': 0.0962608716562818}. Best is trial 0 with value: 116.55750757613643.\u001b[0m\n"
     ]
    },
    {
     "name": "stdout",
     "output_type": "stream",
     "text": [
      "MAPE:  0.3629466025919818\n",
      "MAE:  9.20760881133944\n"
     ]
    },
    {
     "name": "stderr",
     "output_type": "stream",
     "text": [
      "\u001b[32m[I 2023-04-03 06:23:15,388]\u001b[0m Trial 26 finished with value: 134.26698985951182 and parameters: {'max_depth': 8, 'learning_rate': 0.05895273318413847, 'n_estimators': 295, 'min_child_weight': 4, 'gamma': 5.632089758962792e-05, 'subsample': 0.6907731057149967, 'colsample_bytree': 0.9336915435034094}. Best is trial 0 with value: 116.55750757613643.\u001b[0m\n"
     ]
    },
    {
     "name": "stdout",
     "output_type": "stream",
     "text": [
      "MAPE:  0.33919585119726614\n",
      "MAE:  7.4193074194311395\n"
     ]
    },
    {
     "name": "stderr",
     "output_type": "stream",
     "text": [
      "\u001b[32m[I 2023-04-03 06:28:46,582]\u001b[0m Trial 27 finished with value: 123.67287582623663 and parameters: {'max_depth': 9, 'learning_rate': 0.03258039545463568, 'n_estimators': 253, 'min_child_weight': 8, 'gamma': 0.0009889560104285357, 'subsample': 0.44429595282349665, 'colsample_bytree': 0.1992881120330694}. Best is trial 0 with value: 116.55750757613643.\u001b[0m\n"
     ]
    },
    {
     "name": "stdout",
     "output_type": "stream",
     "text": [
      "MAPE:  0.3447905413810044\n",
      "MAE:  7.609451855745232\n"
     ]
    },
    {
     "name": "stderr",
     "output_type": "stream",
     "text": [
      "\u001b[32m[I 2023-04-03 06:32:34,356]\u001b[0m Trial 28 finished with value: 126.43549684321962 and parameters: {'max_depth': 4, 'learning_rate': 0.01591236959744838, 'n_estimators': 174, 'min_child_weight': 5, 'gamma': 0.0002281786183577683, 'subsample': 0.17745609170566873, 'colsample_bytree': 0.4425603254664318}. Best is trial 0 with value: 116.55750757613643.\u001b[0m\n"
     ]
    },
    {
     "name": "stdout",
     "output_type": "stream",
     "text": [
      "MAPE:  0.3503584455856817\n",
      "MAE:  7.580753910567677\n"
     ]
    },
    {
     "name": "stderr",
     "output_type": "stream",
     "text": [
      "\u001b[32m[I 2023-04-03 06:34:13,349]\u001b[0m Trial 29 finished with value: 191.20234637732358 and parameters: {'max_depth': 6, 'learning_rate': 0.018354564552142936, 'n_estimators': 77, 'min_child_weight': 2, 'gamma': 0.007303430738174702, 'subsample': 0.11841371377901952, 'colsample_bytree': 0.2982145557944732}. Best is trial 0 with value: 116.55750757613643.\u001b[0m\n"
     ]
    },
    {
     "name": "stdout",
     "output_type": "stream",
     "text": [
      "MAPE:  0.4884499219286806\n",
      "MAE:  9.118885424489166\n"
     ]
    },
    {
     "name": "stderr",
     "output_type": "stream",
     "text": [
      "\u001b[32m[I 2023-04-03 06:34:47,479]\u001b[0m Trial 30 finished with value: 154.4373234185226 and parameters: {'max_depth': 7, 'learning_rate': 0.16168496175589112, 'n_estimators': 25, 'min_child_weight': 6, 'gamma': 0.0005984306594651184, 'subsample': 0.043421011036680716, 'colsample_bytree': 0.2886959763377421}. Best is trial 0 with value: 116.55750757613643.\u001b[0m\n"
     ]
    },
    {
     "name": "stdout",
     "output_type": "stream",
     "text": [
      "MAPE:  0.38546792011380693\n",
      "MAE:  9.024945067078399\n"
     ]
    },
    {
     "name": "stderr",
     "output_type": "stream",
     "text": [
      "\u001b[32m[I 2023-04-03 06:39:15,343]\u001b[0m Trial 31 finished with value: 126.8065153917575 and parameters: {'max_depth': 6, 'learning_rate': 0.022759854788317047, 'n_estimators': 222, 'min_child_weight': 6, 'gamma': 0.0001906089081356689, 'subsample': 0.08619886554442933, 'colsample_bytree': 0.4933122518711126}. Best is trial 0 with value: 116.55750757613643.\u001b[0m\n"
     ]
    },
    {
     "name": "stdout",
     "output_type": "stream",
     "text": [
      "MAPE:  0.33083181348871304\n",
      "MAE:  7.573820447930467\n"
     ]
    },
    {
     "name": "stderr",
     "output_type": "stream",
     "text": [
      "\u001b[32m[I 2023-04-03 06:45:18,580]\u001b[0m Trial 32 finished with value: 120.99986608100848 and parameters: {'max_depth': 6, 'learning_rate': 0.01290711383014217, 'n_estimators': 225, 'min_child_weight': 5, 'gamma': 0.00036660360463507927, 'subsample': 0.1432440350426699, 'colsample_bytree': 0.7021153959657791}. Best is trial 0 with value: 116.55750757613643.\u001b[0m\n"
     ]
    },
    {
     "name": "stdout",
     "output_type": "stream",
     "text": [
      "MAPE:  0.34148864094707876\n",
      "MAE:  7.359322916302416\n"
     ]
    },
    {
     "name": "stderr",
     "output_type": "stream",
     "text": [
      "\u001b[32m[I 2023-04-03 06:53:17,954]\u001b[0m Trial 33 finished with value: 117.65395991851622 and parameters: {'max_depth': 5, 'learning_rate': 0.01211829951363036, 'n_estimators': 278, 'min_child_weight': 5, 'gamma': 0.0028140824985503693, 'subsample': 0.22714044897938931, 'colsample_bytree': 0.7211178407722997}. Best is trial 0 with value: 116.55750757613643.\u001b[0m\n"
     ]
    },
    {
     "name": "stdout",
     "output_type": "stream",
     "text": [
      "MAPE:  0.32809361921159075\n",
      "MAE:  7.1718699096631235\n"
     ]
    },
    {
     "name": "stderr",
     "output_type": "stream",
     "text": [
      "\u001b[32m[I 2023-04-03 07:01:11,072]\u001b[0m Trial 34 finished with value: 118.47096254056584 and parameters: {'max_depth': 5, 'learning_rate': 0.012491098664409173, 'n_estimators': 278, 'min_child_weight': 5, 'gamma': 0.002573348745451505, 'subsample': 0.23615805090617445, 'colsample_bytree': 0.6765402582643675}. Best is trial 0 with value: 116.55750757613643.\u001b[0m\n"
     ]
    },
    {
     "name": "stdout",
     "output_type": "stream",
     "text": [
      "MAPE:  0.3324251358793455\n",
      "MAE:  7.243680035858824\n"
     ]
    },
    {
     "name": "stderr",
     "output_type": "stream",
     "text": [
      "\u001b[32m[I 2023-04-03 07:09:22,313]\u001b[0m Trial 35 finished with value: 116.60222932656936 and parameters: {'max_depth': 5, 'learning_rate': 0.012181354974543462, 'n_estimators': 282, 'min_child_weight': 5, 'gamma': 0.002937371024304429, 'subsample': 0.24260755055607397, 'colsample_bytree': 0.7205709561195055}. Best is trial 0 with value: 116.55750757613643.\u001b[0m\n"
     ]
    },
    {
     "name": "stdout",
     "output_type": "stream",
     "text": [
      "MAPE:  0.3285342396867899\n",
      "MAE:  7.134039320334879\n"
     ]
    },
    {
     "name": "stderr",
     "output_type": "stream",
     "text": [
      "\u001b[32m[I 2023-04-03 07:17:55,276]\u001b[0m Trial 36 finished with value: 116.35924436856034 and parameters: {'max_depth': 5, 'learning_rate': 0.010831512532012142, 'n_estimators': 284, 'min_child_weight': 5, 'gamma': 0.002889410979313827, 'subsample': 0.2329497490092024, 'colsample_bytree': 0.7783595023597213}. Best is trial 36 with value: 116.35924436856034.\u001b[0m\n"
     ]
    },
    {
     "name": "stdout",
     "output_type": "stream",
     "text": [
      "MAPE:  0.32792446660343466\n",
      "MAE:  7.041059746793662\n"
     ]
    },
    {
     "name": "stderr",
     "output_type": "stream",
     "text": [
      "\u001b[32m[I 2023-04-03 07:26:43,215]\u001b[0m Trial 37 finished with value: 114.08295570105045 and parameters: {'max_depth': 4, 'learning_rate': 0.010677064681363506, 'n_estimators': 292, 'min_child_weight': 3, 'gamma': 0.013952561860316803, 'subsample': 0.3530519113066898, 'colsample_bytree': 0.7764518771315536}. Best is trial 37 with value: 114.08295570105045.\u001b[0m\n"
     ]
    },
    {
     "name": "stdout",
     "output_type": "stream",
     "text": [
      "MAPE:  0.3252512360079561\n",
      "MAE:  6.966113307889094\n"
     ]
    },
    {
     "name": "stderr",
     "output_type": "stream",
     "text": [
      "\u001b[32m[I 2023-04-03 07:31:39,625]\u001b[0m Trial 38 finished with value: 120.38982906780221 and parameters: {'max_depth': 3, 'learning_rate': 0.015421952424282888, 'n_estimators': 253, 'min_child_weight': 3, 'gamma': 0.010138527386131304, 'subsample': 0.3647248584387205, 'colsample_bytree': 0.3433061527277705}. Best is trial 37 with value: 114.08295570105045.\u001b[0m\n"
     ]
    },
    {
     "name": "stdout",
     "output_type": "stream",
     "text": [
      "MAPE:  0.3354395354778979\n",
      "MAE:  7.536139201307506\n"
     ]
    },
    {
     "name": "stderr",
     "output_type": "stream",
     "text": [
      "\u001b[32m[I 2023-04-03 07:42:13,777]\u001b[0m Trial 39 finished with value: 111.98482131418076 and parameters: {'max_depth': 4, 'learning_rate': 0.010165882232278111, 'n_estimators': 287, 'min_child_weight': 3, 'gamma': 0.014149837731748691, 'subsample': 0.7676460772621929, 'colsample_bytree': 0.8424942037581664}. Best is trial 39 with value: 111.98482131418076.\u001b[0m\n"
     ]
    },
    {
     "name": "stdout",
     "output_type": "stream",
     "text": [
      "MAPE:  0.3206286031081057\n",
      "MAE:  6.866131218313648\n"
     ]
    },
    {
     "name": "stderr",
     "output_type": "stream",
     "text": [
      "\u001b[32m[I 2023-04-03 07:49:08,678]\u001b[0m Trial 40 finished with value: 110.14254013538532 and parameters: {'max_depth': 2, 'learning_rate': 0.010130963226287521, 'n_estimators': 259, 'min_child_weight': 3, 'gamma': 0.01459151495860148, 'subsample': 0.7812431157655442, 'colsample_bytree': 0.9921147158951655}. Best is trial 40 with value: 110.14254013538532.\u001b[0m\n"
     ]
    },
    {
     "name": "stdout",
     "output_type": "stream",
     "text": [
      "MAPE:  0.3053514329926921\n",
      "MAE:  6.908281713375572\n"
     ]
    },
    {
     "name": "stderr",
     "output_type": "stream",
     "text": [
      "\u001b[32m[I 2023-04-03 07:56:11,776]\u001b[0m Trial 41 finished with value: 109.80868872183413 and parameters: {'max_depth': 2, 'learning_rate': 0.010616472061672573, 'n_estimators': 263, 'min_child_weight': 3, 'gamma': 0.01532647349305127, 'subsample': 0.7826754503197068, 'colsample_bytree': 0.9910060861986894}. Best is trial 41 with value: 109.80868872183413.\u001b[0m\n"
     ]
    },
    {
     "name": "stdout",
     "output_type": "stream",
     "text": [
      "MAPE:  0.30182953426643144\n",
      "MAE:  6.89269787116706\n"
     ]
    },
    {
     "name": "stderr",
     "output_type": "stream",
     "text": [
      "\u001b[32m[I 2023-04-03 08:01:51,384]\u001b[0m Trial 42 finished with value: 120.20803395137568 and parameters: {'max_depth': 1, 'learning_rate': 0.010255374715117718, 'n_estimators': 288, 'min_child_weight': 2, 'gamma': 0.014419792092103006, 'subsample': 0.5101909526365239, 'colsample_bytree': 0.9758753544788354}. Best is trial 41 with value: 109.80868872183413.\u001b[0m\n"
     ]
    },
    {
     "name": "stdout",
     "output_type": "stream",
     "text": [
      "MAPE:  0.3289782920267139\n",
      "MAE:  7.752839334352672\n"
     ]
    },
    {
     "name": "stderr",
     "output_type": "stream",
     "text": [
      "\u001b[32m[I 2023-04-03 08:07:29,652]\u001b[0m Trial 43 finished with value: 114.08815078616345 and parameters: {'max_depth': 2, 'learning_rate': 0.010066549599605141, 'n_estimators': 263, 'min_child_weight': 3, 'gamma': 0.0863245935444534, 'subsample': 0.8110715406413126, 'colsample_bytree': 0.5871617248845021}. Best is trial 41 with value: 109.80868872183413.\u001b[0m\n"
     ]
    },
    {
     "name": "stdout",
     "output_type": "stream",
     "text": [
      "MAPE:  0.3270120845247873\n",
      "MAE:  7.334167253334968\n"
     ]
    },
    {
     "name": "stderr",
     "output_type": "stream",
     "text": [
      "\u001b[32m[I 2023-04-03 08:13:07,215]\u001b[0m Trial 44 finished with value: 146.57434182253704 and parameters: {'max_depth': 2, 'learning_rate': 0.30543706225181216, 'n_estimators': 259, 'min_child_weight': 3, 'gamma': 0.08502668426968087, 'subsample': 0.8198251316744036, 'colsample_bytree': 0.6089764142304056}. Best is trial 41 with value: 109.80868872183413.\u001b[0m\n"
     ]
    },
    {
     "name": "stdout",
     "output_type": "stream",
     "text": [
      "MAPE:  0.5776105138442981\n",
      "MAE:  8.146248209152347\n"
     ]
    },
    {
     "name": "stderr",
     "output_type": "stream",
     "text": [
      "\u001b[32m[I 2023-04-03 08:19:59,591]\u001b[0m Trial 45 finished with value: 109.7659579194228 and parameters: {'max_depth': 2, 'learning_rate': 0.010018127527788169, 'n_estimators': 264, 'min_child_weight': 3, 'gamma': 0.020937682659963836, 'subsample': 0.7634592059898342, 'colsample_bytree': 0.9714762279150724}. Best is trial 45 with value: 109.7659579194228.\u001b[0m\n"
     ]
    },
    {
     "name": "stdout",
     "output_type": "stream",
     "text": [
      "MAPE:  0.3053139381255582\n",
      "MAE:  6.9004565084799685\n"
     ]
    },
    {
     "name": "stderr",
     "output_type": "stream",
     "text": [
      "\u001b[32m[I 2023-04-03 08:24:51,675]\u001b[0m Trial 46 finished with value: 115.75088130762661 and parameters: {'max_depth': 1, 'learning_rate': 0.016750932951709676, 'n_estimators': 240, 'min_child_weight': 1, 'gamma': 0.01798751597246833, 'subsample': 0.8118778289650472, 'colsample_bytree': 0.9658882276503145}. Best is trial 45 with value: 109.7659579194228.\u001b[0m\n"
     ]
    },
    {
     "name": "stdout",
     "output_type": "stream",
     "text": [
      "MAPE:  0.31634811189787837\n",
      "MAE:  7.550712757117567\n"
     ]
    },
    {
     "name": "stderr",
     "output_type": "stream",
     "text": [
      "\u001b[32m[I 2023-04-03 08:28:36,129]\u001b[0m Trial 47 finished with value: 232.12255357668437 and parameters: {'max_depth': 3, 'learning_rate': 0.014682530353815464, 'n_estimators': 265, 'min_child_weight': 2, 'gamma': 0.026693421996956214, 'subsample': 0.9963281265247036, 'colsample_bytree': 0.013500373436413566}. Best is trial 45 with value: 109.7659579194228.\u001b[0m\n"
     ]
    },
    {
     "name": "stdout",
     "output_type": "stream",
     "text": [
      "MAPE:  0.4247269444063659\n",
      "MAE:  12.240877671548498\n"
     ]
    },
    {
     "name": "stderr",
     "output_type": "stream",
     "text": [
      "\u001b[32m[I 2023-04-03 08:35:36,221]\u001b[0m Trial 48 finished with value: 109.35989732177826 and parameters: {'max_depth': 2, 'learning_rate': 0.010000172028367175, 'n_estimators': 299, 'min_child_weight': 3, 'gamma': 0.04924861050576433, 'subsample': 0.564977569314379, 'colsample_bytree': 0.8505352074544075}. Best is trial 48 with value: 109.35989732177826.\u001b[0m\n"
     ]
    },
    {
     "name": "stdout",
     "output_type": "stream",
     "text": [
      "MAPE:  0.3059796966031046\n",
      "MAE:  6.925030078804284\n"
     ]
    },
    {
     "name": "stderr",
     "output_type": "stream",
     "text": [
      "\u001b[32m[I 2023-04-03 08:39:24,360]\u001b[0m Trial 49 finished with value: 189.9624786837937 and parameters: {'max_depth': 2, 'learning_rate': 0.025289502802913186, 'n_estimators': 270, 'min_child_weight': 2, 'gamma': 0.31217068679668514, 'subsample': 0.4913934318392561, 'colsample_bytree': 0.025081276764005494}. Best is trial 48 with value: 109.35989732177826.\u001b[0m\n"
     ]
    },
    {
     "name": "stdout",
     "output_type": "stream",
     "text": [
      "MAPE:  0.3900425763067308\n",
      "MAE:  10.887269542231197\n"
     ]
    },
    {
     "name": "stderr",
     "output_type": "stream",
     "text": [
      "\u001b[32m[I 2023-04-03 08:45:01,547]\u001b[0m Trial 50 finished with value: 109.19496717469562 and parameters: {'max_depth': 1, 'learning_rate': 0.017641258731701533, 'n_estimators': 299, 'min_child_weight': 4, 'gamma': 0.059737960906615574, 'subsample': 0.6081829147181325, 'colsample_bytree': 0.8438966724074619}. Best is trial 50 with value: 109.19496717469562.\u001b[0m\n"
     ]
    },
    {
     "name": "stdout",
     "output_type": "stream",
     "text": [
      "MAPE:  0.3040134945676509\n",
      "MAE:  7.118316315637346\n"
     ]
    },
    {
     "name": "stderr",
     "output_type": "stream",
     "text": [
      "\u001b[32m[I 2023-04-03 08:50:37,860]\u001b[0m Trial 51 finished with value: 112.14490986172983 and parameters: {'max_depth': 1, 'learning_rate': 0.014013119417421428, 'n_estimators': 298, 'min_child_weight': 4, 'gamma': 0.06645798166456061, 'subsample': 0.598057158275772, 'colsample_bytree': 0.8517888772972629}. Best is trial 50 with value: 109.19496717469562.\u001b[0m\n"
     ]
    },
    {
     "name": "stdout",
     "output_type": "stream",
     "text": [
      "MAPE:  0.3126742097759844\n",
      "MAE:  7.374805416933626\n"
     ]
    },
    {
     "name": "stderr",
     "output_type": "stream",
     "text": [
      "\u001b[32m[I 2023-04-03 08:57:08,643]\u001b[0m Trial 52 finished with value: 109.48296795483105 and parameters: {'max_depth': 2, 'learning_rate': 0.01765610084016714, 'n_estimators': 273, 'min_child_weight': 3, 'gamma': 0.04836070482093664, 'subsample': 0.7288757011096318, 'colsample_bytree': 0.8311282954457075}. Best is trial 50 with value: 109.19496717469562.\u001b[0m\n"
     ]
    },
    {
     "name": "stdout",
     "output_type": "stream",
     "text": [
      "MAPE:  0.29227056954829245\n",
      "MAE:  6.845260059057969\n"
     ]
    },
    {
     "name": "stderr",
     "output_type": "stream",
     "text": [
      "\u001b[32m[I 2023-04-03 09:02:18,595]\u001b[0m Trial 53 finished with value: 110.42902904759323 and parameters: {'max_depth': 2, 'learning_rate': 0.017248926204404366, 'n_estimators': 249, 'min_child_weight': 4, 'gamma': 0.17431919946242863, 'subsample': 0.661901200128665, 'colsample_bytree': 0.5916142880170157}. Best is trial 50 with value: 109.19496717469562.\u001b[0m\n"
     ]
    },
    {
     "name": "stdout",
     "output_type": "stream",
     "text": [
      "MAPE:  0.3096617724974069\n",
      "MAE:  7.108095229630582\n"
     ]
    },
    {
     "name": "stderr",
     "output_type": "stream",
     "text": [
      "\u001b[32m[I 2023-04-03 09:07:32,323]\u001b[0m Trial 54 finished with value: 114.22596749228781 and parameters: {'max_depth': 1, 'learning_rate': 0.013209144472412974, 'n_estimators': 274, 'min_child_weight': 3, 'gamma': 0.06446625084596232, 'subsample': 0.5143362954000946, 'colsample_bytree': 0.9471570411404213}. Best is trial 50 with value: 109.19496717469562.\u001b[0m\n"
     ]
    },
    {
     "name": "stdout",
     "output_type": "stream",
     "text": [
      "MAPE:  0.3154234972285512\n",
      "MAE:  7.461240358258548\n"
     ]
    },
    {
     "name": "stderr",
     "output_type": "stream",
     "text": [
      "\u001b[32m[I 2023-04-03 09:13:53,763]\u001b[0m Trial 55 finished with value: 122.78720665313656 and parameters: {'max_depth': 3, 'learning_rate': 0.03571342817003971, 'n_estimators': 299, 'min_child_weight': 4, 'gamma': 0.03895815498295038, 'subsample': 0.3002423515442519, 'colsample_bytree': 0.523080310820939}. Best is trial 50 with value: 109.19496717469562.\u001b[0m\n"
     ]
    },
    {
     "name": "stdout",
     "output_type": "stream",
     "text": [
      "MAPE:  0.33826702837168665\n",
      "MAE:  7.401388143978969\n"
     ]
    },
    {
     "name": "stderr",
     "output_type": "stream",
     "text": [
      "\u001b[32m[I 2023-04-03 09:18:22,405]\u001b[0m Trial 56 finished with value: 115.0521771688611 and parameters: {'max_depth': 2, 'learning_rate': 0.027246011279989334, 'n_estimators': 235, 'min_child_weight': 2, 'gamma': 0.026482884555062775, 'subsample': 0.8826330177835657, 'colsample_bytree': 0.3853646247325888}. Best is trial 50 with value: 109.19496717469562.\u001b[0m\n"
     ]
    },
    {
     "name": "stdout",
     "output_type": "stream",
     "text": [
      "MAPE:  0.3192994990123173\n",
      "MAE:  7.340287467671765\n"
     ]
    },
    {
     "name": "stderr",
     "output_type": "stream",
     "text": [
      "\u001b[32m[I 2023-04-03 09:24:35,116]\u001b[0m Trial 57 finished with value: 109.83723210323959 and parameters: {'max_depth': 2, 'learning_rate': 0.018814575094426217, 'n_estimators': 259, 'min_child_weight': 3, 'gamma': 0.005523302920699093, 'subsample': 0.5819382938046025, 'colsample_bytree': 0.8068575780281627}. Best is trial 50 with value: 109.19496717469562.\u001b[0m\n"
     ]
    },
    {
     "name": "stdout",
     "output_type": "stream",
     "text": [
      "MAPE:  0.2950661538758703\n",
      "MAE:  6.846190607817898\n"
     ]
    },
    {
     "name": "stderr",
     "output_type": "stream",
     "text": [
      "\u001b[32m[I 2023-04-03 09:28:25,422]\u001b[0m Trial 58 finished with value: 137.57996038709294 and parameters: {'max_depth': 1, 'learning_rate': 0.04363091544506166, 'n_estimators': 270, 'min_child_weight': 4, 'gamma': 0.18077310102948113, 'subsample': 0.39924325043908254, 'colsample_bytree': 0.06475644133843421}. Best is trial 50 with value: 109.19496717469562.\u001b[0m\n"
     ]
    },
    {
     "name": "stdout",
     "output_type": "stream",
     "text": [
      "MAPE:  0.35865690139759615\n",
      "MAE:  8.876120828135669\n"
     ]
    },
    {
     "name": "stderr",
     "output_type": "stream",
     "text": [
      "\u001b[32m[I 2023-04-03 09:32:03,624]\u001b[0m Trial 59 finished with value: 187.0392387518128 and parameters: {'max_depth': 2, 'learning_rate': 0.6696361265277869, 'n_estimators': 249, 'min_child_weight': 3, 'gamma': 0.00522044297400135, 'subsample': 0.5833157003826445, 'colsample_bytree': 0.048198331160289466}. Best is trial 50 with value: 109.19496717469562.\u001b[0m\n"
     ]
    },
    {
     "name": "stdout",
     "output_type": "stream",
     "text": [
      "MAPE:  1.0220130423337461\n",
      "MAE:  9.311156408451444\n"
     ]
    },
    {
     "name": "stderr",
     "output_type": "stream",
     "text": [
      "\u001b[32m[I 2023-04-03 09:37:04,350]\u001b[0m Trial 60 finished with value: 127.41179098495367 and parameters: {'max_depth': 3, 'learning_rate': 0.02333359309263996, 'n_estimators': 277, 'min_child_weight': 1, 'gamma': 0.04999843743962242, 'subsample': 0.3021055451858249, 'colsample_bytree': 0.24950755923733905}. Best is trial 50 with value: 109.19496717469562.\u001b[0m\n"
     ]
    },
    {
     "name": "stdout",
     "output_type": "stream",
     "text": [
      "MAPE:  0.33471076262154464\n",
      "MAE:  7.629969908480058\n"
     ]
    },
    {
     "name": "stderr",
     "output_type": "stream",
     "text": [
      "\u001b[32m[I 2023-04-03 09:43:13,941]\u001b[0m Trial 61 finished with value: 108.5238567441184 and parameters: {'max_depth': 2, 'learning_rate': 0.018779706187389816, 'n_estimators': 256, 'min_child_weight': 3, 'gamma': 0.021599588221176264, 'subsample': 0.6805333838286021, 'colsample_bytree': 0.8087401379351337}. Best is trial 61 with value: 108.5238567441184.\u001b[0m\n"
     ]
    },
    {
     "name": "stdout",
     "output_type": "stream",
     "text": [
      "MAPE:  0.2932674502573367\n",
      "MAE:  6.832066567189861\n"
     ]
    }
   ],
   "source": [
    "horizon = [0.25, 0.5, 1]\n",
    "resample = [5, 30, 60]\n",
    "previous = [2, 7, 15]\n",
    "\n",
    "# Start resampling\n",
    "\n",
    "for resample_item in resample:\n",
    "\n",
    "    df_train = datos.copy()\n",
    "\n",
    "    df_train.drop(['ANHO', 'DIA', 'MES', 'HORA', 'MINUTO', 'DIA_TRAF_COD', 'TRAFICO_COD', 'TIPO_COD',\n",
    "                'MEDICION_DIA', 'MP1_ANTERIOR', 'MP2_5_ANTERIOR', 'MP10_ANTERIOR',\n",
    "                'TEMPERATURA_PRONOSTICO', 'HUMEDAD_PRONOSTICO', 'PRESION_PRONOSTICO'], axis = 1, inplace = True)\n",
    "\n",
    "    df_train = df_train.set_index('FECHAHORA', drop = True)\n",
    "\n",
    "    lista_resample = []\n",
    "\n",
    "    if resample_item != 5: \n",
    "\n",
    "        r_i = str(resample_item) + 'T'\n",
    "\n",
    "        for station in range(1,11):\n",
    "            df_aux = df_train[df_train['ESTACION'] == station]\n",
    "\n",
    "            df_aux = df_aux.resample(r_i).mean()\n",
    "            lista_resample.append(df_aux)\n",
    "\n",
    "        df_train = pd.concat(lista_resample)\n",
    "\n",
    "    df_train['ANHO'] = df_train.index.year\n",
    "    df_train['MES'] = df_train.index.month\n",
    "    df_train['HORA'] = df_train.index.hour\n",
    "    df_train['MINUTO'] = df_train.index.minute\n",
    "    df_train['DIA'] = df_train.index.day\n",
    "    df_train['FECHAHORA'] = df_train.index\n",
    "    df_train.reset_index(inplace = True, drop = True)\n",
    "\n",
    "    df_train.to_csv('datos/experimento_full/train_resample_'+str(resample_item)+'_minutes.csv')\n",
    "\n",
    "    # OPTUNA\n",
    "\n",
    "    for previous_item in previous:\n",
    "        for horizon_item in horizon:\n",
    "            \n",
    "            estacion = 4\n",
    "\n",
    "            variables = ['MP1', 'MP2_5', 'MP10', 'AQI_MP10', 'AQI_MP2_5', \n",
    "                        'PRESION', 'DIA_SEM']\n",
    "\n",
    "            dependent = ['AQI_MP2_5']\n",
    "\n",
    "            number_of_features = len(variables)\n",
    "\n",
    "            training_days = previous_item\n",
    "            forecast_days = horizon_item\n",
    "\n",
    "            if resample_item == 5:\n",
    "                samples_per_day = 288\n",
    "            elif resample_item == 30:\n",
    "                samples_per_day = 48\n",
    "            elif resample_item == 60:\n",
    "                samples_per_day = 24\n",
    "\n",
    "            step = forecast_days*samples_per_day\n",
    "\n",
    "            train_months = relativedelta(months = 12)\n",
    "\n",
    "            input_samples = int(samples_per_day * training_days) # cantidad de muestras en 7 dias\n",
    "            output_samples = int(samples_per_day * forecast_days) # cantidad de muestras en 1 dia\n",
    "            train_test_samples = int(input_samples + output_samples) # cantidad de datos para el train_test\n",
    "\n",
    "            X_train, y_train, X_test, y_test = utils_xgboost.get_everything(df_train, \n",
    "                                                                estacion,\n",
    "                                                                train_months, \n",
    "                                                                variables, \n",
    "                                                                dependent, \n",
    "                                                                train_test_samples, \n",
    "                                                                input_samples, \n",
    "                                                                output_samples, \n",
    "                                                                number_of_features,\n",
    "                                                                step)\n",
    "\n",
    "\n",
    "            def objective(trial):\n",
    "    \n",
    "                params = {\n",
    "                    'max_depth': trial.suggest_int('max_depth', 1, 9),\n",
    "                    'learning_rate': trial.suggest_loguniform('learning_rate', 0.01, 1.0),\n",
    "                    'n_estimators': trial.suggest_int('n_estimators', 10, 300),\n",
    "                    'min_child_weight': trial.suggest_int('min_child_weight', 1, 10),\n",
    "                    'gamma': trial.suggest_loguniform('gamma', 1e-5, 1.0),\n",
    "                    'subsample': trial.suggest_loguniform('subsample', 0.01, 1.0),\n",
    "                    'colsample_bytree': trial.suggest_loguniform('colsample_bytree', 0.01, 1.0),\n",
    "                }\n",
    "                \n",
    "                optuna_xgb_model = xgb.XGBRegressor(** params)\n",
    "                \n",
    "                trained_xgb_model = MultiOutputRegressor(optuna_xgb_model).fit(X_train , y_train)\n",
    "\n",
    "                prediction = trained_xgb_model.predict(X_test)\n",
    "\n",
    "                MAPE = mean_absolute_percentage_error(prediction, y_test)\n",
    "                print('MAPE: ', MAPE)\n",
    "                MAE = np.mean(np.abs(prediction - y_test))\n",
    "                print('MAE: ', MAE)\n",
    "\n",
    "                MSE = mean_squared_error(prediction, y_test)\n",
    "                \n",
    "                return MSE\n",
    "\n",
    "            study = optuna.create_study(direction='minimize')\n",
    "\n",
    "            study.optimize(objective, n_trials = 100 )\n",
    "\n",
    "            trial = study.best_trial\n",
    "\n",
    "            joblib.dump(study, \"optuna_studies/XGBOOST/experimento_full/study_XGBOOST_mejoresparam20_resample_\"+str(resample_item)+\"_horizon_\"+str(horizon_item)+\"_previous_\"+str(previous_item)+\".pkl\")\n",
    "\n",
    "            # VALIDATION\n",
    "\n",
    "            params = study.best_params\n",
    "\n",
    "            # study = joblib.load(\"optuna_studies/XGBOOST/experimento_full/study_XGBOOST_resample_\"+str(resample_item)+\"_horizon_\"+str(horizon_item)+\"_previous_\"+str(previous_item)+\".pkl\")\n",
    "\n",
    "            xgb_model = xgb.XGBRegressor(** params)\n",
    "\n",
    "            trained_xgb_model = MultiOutputRegressor(xgb_model).fit(X_train , y_train)\n",
    "            \n",
    "            prediction = trained_xgb_model.predict(X_test)\n",
    "            \n",
    "            predicciones = {}\n",
    "            metricas = {}\n",
    "            # guardamos los valores predecidos vs reales en un diccionario\n",
    "            \n",
    "            predicciones[4] = {'real' : y_test, 'prediccion': prediction}\n",
    "\n",
    "\n",
    "            mean_real = y_test.mean()\n",
    "            mean_prediction = prediction.mean()\n",
    "\n",
    "            MAPE = mean_absolute_percentage_error(prediction, y_test)\n",
    "            MAE =100 * mean_absolute_error(prediction, y_test)\n",
    "            RMSE = mean_squared_error(prediction, y_test, squared = False)\n",
    "            \n",
    "            # guardamos las metricas en un diccionario\n",
    "            \n",
    "            metricas[4] = {'MAE': MAE, \"MAPE\": MAPE, 'RMSE': RMSE, 'Media real' : mean_real, 'Media predecida': mean_prediction}\n",
    "\n",
    "            df_metricas = pd.DataFrame.from_dict(metricas)\n",
    "\n",
    "            df_metricas.to_csv('metrics/XGBOOST/experimento_full/testing_xgboost_MEJORESPARAM20_experimento_full_resample_'+str(resample_item)+'_horizon_'+str(horizon_item)+'_previous_'+str(previous_item)+'.csv')\n",
    "\n",
    "            list_dfs = []\n",
    "\n",
    "\n",
    "            d = {'TARGET': predicciones[4]['real'].flatten(), 'FORECAST': predicciones[4]['prediccion'].flatten()}\n",
    "            df_predicciones = pd.DataFrame(data = d)\n",
    "            df_predicciones['ESTACION'] = 4\n",
    "\n",
    "            df_predicciones.to_csv('datos/experimento_full/predicciones_estacion4_MEJORESPARAM20_resample_'+str(resample_item)+'_horizon_'+str(horizon_item)+'_previous_'+str(previous_item)+'.csv')\n"
   ]
  }
 ],
 "metadata": {
  "kernelspec": {
   "display_name": "base",
   "language": "python",
   "name": "python3"
  },
  "language_info": {
   "codemirror_mode": {
    "name": "ipython",
    "version": 3
   },
   "file_extension": ".py",
   "mimetype": "text/x-python",
   "name": "python",
   "nbconvert_exporter": "python",
   "pygments_lexer": "ipython3",
   "version": "3.8.5"
  },
  "orig_nbformat": 4
 },
 "nbformat": 4,
 "nbformat_minor": 2
}
