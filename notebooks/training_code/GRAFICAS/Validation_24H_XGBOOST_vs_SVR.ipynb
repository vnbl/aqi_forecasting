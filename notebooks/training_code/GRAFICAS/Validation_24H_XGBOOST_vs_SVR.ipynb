{
 "cells": [
  {
   "cell_type": "code",
   "execution_count": 1,
   "metadata": {},
   "outputs": [],
   "source": [
    "# Directories\n",
    "import os\n",
    "\n",
    "new_directory = r'c://Users//Fer//TESIS_ARCHIVOS//TESIS_AIRE//MP_Forecasting//aqi_forecasting//notebooks'\n",
    "os.chdir(new_directory)\n",
    "\n",
    "# Data Manipulation\n",
    "import pandas as pd # for data manipulation\n",
    "import numpy as np # for data manipulation\n",
    "\n",
    "# Optuna\n",
    "import optuna\n",
    "import pickle\n",
    "\n",
    "# Tiempo\n",
    "import datetime as dt\n",
    "from dateutil.relativedelta import relativedelta, MO\n",
    "\n",
    "\n",
    "# Metricas\n",
    "from sklearn.metrics import mean_absolute_error #MAE\n",
    "from sklearn.metrics import mean_absolute_percentage_error #MAPE\n",
    "from sklearn.metrics import mean_squared_error #MSE, para RMSE: squared = False\n",
    "\n",
    "# Visualizations\n",
    "import plotly.graph_objects as go # for data visualization\n",
    "import plotly.express as px # for data visualization\n",
    "import matplotlib.pyplot as plt\n",
    "import seaborn as sn\n",
    "\n",
    "# Advertencias\n",
    "import warnings\n",
    "warnings.filterwarnings(\"ignore\")"
   ]
  },
  {
   "cell_type": "code",
   "execution_count": 2,
   "metadata": {},
   "outputs": [],
   "source": [
    "validacion = pd.read_csv('datos/230127_test_ESTACIONES.csv', parse_dates=['FECHAHORA'])\n",
    "\n",
    "df = validacion[validacion['ESTACION'] == 4]\n",
    "\n",
    "first_pred = df.FECHAHORA.min() + relativedelta(days = 2)\n",
    "\n",
    "df = df[df['FECHAHORA'] >= first_pred]\n",
    "df.reset_index(inplace = True, drop = True)\n",
    "\n",
    "\n",
    "\n",
    "pred_xgb = pd.read_csv('datos/experimento_full/predicciones_validation_xgboost_station4_5_1_2.csv')\n",
    "pred_xgb.reset_index(inplace = True, drop = True)\n",
    "\n",
    "pred_svr = pd.read_csv('datos/experimento_full/predicciones_validation_svr_station4_5_1_2.csv')\n",
    "pred_svr.reset_index(inplace = True, drop = True)\n"
   ]
  },
  {
   "cell_type": "code",
   "execution_count": 3,
   "metadata": {},
   "outputs": [],
   "source": [
    "n = 5\n",
    "\n",
    "new_index = pd.RangeIndex(len(pred_xgb)*(n+1))\n",
    "pred_xgb_full = pd.DataFrame(np.nan, index=new_index, columns=pred_xgb.columns)\n",
    "ids = np.arange(len(pred_xgb))*(n+1)\n",
    "pred_xgb_full.loc[ids] = pred_xgb.values"
   ]
  },
  {
   "cell_type": "code",
   "execution_count": 4,
   "metadata": {},
   "outputs": [
    {
     "name": "stdout",
     "output_type": "stream",
     "text": [
      "<class 'pandas.core.frame.DataFrame'>\n",
      "RangeIndex: 25920 entries, 0 to 25919\n",
      "Data columns (total 4 columns):\n",
      " #   Column      Non-Null Count  Dtype  \n",
      "---  ------      --------------  -----  \n",
      " 0   Unnamed: 0  25920 non-null  float64\n",
      " 1   TARGET      25920 non-null  float64\n",
      " 2   FORECAST    25920 non-null  float64\n",
      " 3   ESTACION    25920 non-null  float64\n",
      "dtypes: float64(4)\n",
      "memory usage: 810.1 KB\n"
     ]
    }
   ],
   "source": [
    "pred_xgb_full.interpolate(inplace=True)\n",
    "\n",
    "pred_xgb_full.info()"
   ]
  },
  {
   "cell_type": "code",
   "execution_count": 5,
   "metadata": {},
   "outputs": [],
   "source": [
    "pred_xgb_full.rename(columns = {'FORECAST': 'FORECAST_XGB'}, inplace = True)\n",
    "pred_svr.rename(columns = {'FORECAST': 'FORECAST_SVR'}, inplace = True)\n",
    "\n",
    "p_xgb = pred_xgb_full.FORECAST_XGB\n",
    "p_svr = pred_svr.FORECAST_SVR\n",
    "\n",
    "df = pd.merge(p_xgb, df, right_index = True, left_index = True)\n",
    "df = pd.merge(p_svr, df, right_index = True, left_index = True)"
   ]
  },
  {
   "cell_type": "code",
   "execution_count": 6,
   "metadata": {},
   "outputs": [],
   "source": [
    "fig_val = go.Figure()\n",
    "\n",
    "df_grafica = df\n",
    "\n",
    "fig_val.add_trace(\n",
    "    go.Scatter( y = list(df_grafica.FORECAST_XGB), x = list(df_grafica.FECHAHORA), name = 'Forecasts XGB', line=dict(color = 'Orange')))\n",
    "\n",
    "fig_val.add_trace(\n",
    "    go.Scatter( y = list(df_grafica.FORECAST_SVR), x = list(df_grafica.FECHAHORA), name = 'Forecasts SVR', line=dict(color = '#f03c3c')))\n",
    "\n",
    "fig_val.add_trace(\n",
    "    go.Scatter( y = list(df_grafica.AQI_MP2_5), x = list(df_grafica.FECHAHORA), name = 'Target', line=dict(color = '#0087e8')))\n",
    "\n",
    "layout = go.Layout(\n",
    "        title=\"Title\",\n",
    "        xaxis=dict(\n",
    "            title=\"X Label\"\n",
    "        ),\n",
    "        yaxis=dict(\n",
    "            title=\"Y label\"\n",
    "        ) ) \n",
    "\n",
    "fig_val.update_layout( \n",
    "                        width = 600,\n",
    "                        height = 700,\n",
    "                        title = {\n",
    "                                'text': \"24hr prediction. XGBOOST vs SVR\",\n",
    "                                'y':0.9,\n",
    "                                'x':0.5,\n",
    "                                'xanchor': 'center',\n",
    "                                'yanchor': 'top'}, \n",
    "                        \n",
    "                        yaxis_title = 'AQI MP 2.5', \n",
    "                        xaxis_title = 'Date',\n",
    "                        \n",
    "                        legend= {\n",
    "                                'xanchor': 'center',\n",
    "                                'yanchor': 'bottom',\n",
    "                                'y' : -0.7,\n",
    "                                'x' : 0.0,\n",
    "                        },\n",
    "                        font=dict(\n",
    "                                    size=16,\n",
    "                                        ),\n",
    "                        legend_title = 'References',\n",
    "                        )\n",
    "\n",
    "fig_val.write_html('graphs/modelos_finales_todas_estaciones/val_24h_station_4.html')\n",
    "\n"
   ]
  }
 ],
 "metadata": {
  "kernelspec": {
   "display_name": "base",
   "language": "python",
   "name": "python3"
  },
  "language_info": {
   "codemirror_mode": {
    "name": "ipython",
    "version": 3
   },
   "file_extension": ".py",
   "mimetype": "text/x-python",
   "name": "python",
   "nbconvert_exporter": "python",
   "pygments_lexer": "ipython3",
   "version": "3.8.5"
  },
  "orig_nbformat": 4
 },
 "nbformat": 4,
 "nbformat_minor": 2
}
