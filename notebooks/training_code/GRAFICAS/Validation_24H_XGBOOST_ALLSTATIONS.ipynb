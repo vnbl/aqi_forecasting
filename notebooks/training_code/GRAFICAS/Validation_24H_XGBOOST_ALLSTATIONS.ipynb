{
 "cells": [
  {
   "cell_type": "code",
   "execution_count": 2,
   "metadata": {},
   "outputs": [],
   "source": [
    "# Directories\n",
    "import os\n",
    "\n",
    "new_directory = r'c://Users//Fer//TESIS_ARCHIVOS//TESIS_AIRE//MP_Forecasting//aqi_forecasting//notebooks'\n",
    "os.chdir(new_directory)\n",
    "\n",
    "# Data Manipulation\n",
    "import pandas as pd # for data manipulation\n",
    "import numpy as np # for data manipulation\n",
    "\n",
    "# Optuna\n",
    "import optuna\n",
    "import pickle\n",
    "\n",
    "# Tiempo\n",
    "import datetime as dt\n",
    "from dateutil.relativedelta import relativedelta, MO\n",
    "\n",
    "\n",
    "# Metricas\n",
    "from sklearn.metrics import mean_absolute_error #MAE\n",
    "from sklearn.metrics import mean_absolute_percentage_error #MAPE\n",
    "from sklearn.metrics import mean_squared_error #MSE, para RMSE: squared = False\n",
    "from sklearn.metrics import r2_score\n",
    "\n",
    "# Visualizations\n",
    "import plotly.graph_objects as go # for data visualization\n",
    "import plotly.express as px # for data visualization\n",
    "import matplotlib.pyplot as plt\n",
    "import seaborn as sn\n",
    "\n",
    "# Advertencias\n",
    "import warnings\n",
    "warnings.filterwarnings(\"ignore\")"
   ]
  },
  {
   "cell_type": "code",
   "execution_count": 3,
   "metadata": {},
   "outputs": [],
   "source": [
    "stations = [1, 2, 3, 5, 6, 7, 8, 9, 10]\n",
    "\n",
    "validacion = pd.read_csv('datos/230127_test_ESTACIONES.csv', parse_dates=['FECHAHORA'])\n",
    "\n",
    "lista = []\n",
    "\n",
    "for i in stations:\n",
    "\n",
    "    df_aux = validacion[validacion['ESTACION'] == i]\n",
    "\n",
    "    first_pred = df_aux.FECHAHORA.min() + relativedelta(days = 2)\n",
    "\n",
    "    df_aux = df_aux[df_aux['FECHAHORA'] >= first_pred]\n",
    "\n",
    "    lista.append(df_aux)\n",
    "\n",
    "df = pd.concat(lista)\n",
    "df.reset_index(inplace = True, drop = True)\n",
    "\n",
    "pred_xgb = pd.read_csv('datos/experimento_full/prueba_predicciones_todaslasestaciones_validation_xgboost_5_1_2.csv')\n",
    "pred_xgb.reset_index(inplace = True, drop = True)\n"
   ]
  },
  {
   "cell_type": "code",
   "execution_count": 4,
   "metadata": {},
   "outputs": [],
   "source": [
    "pred_xgb.rename(columns = {'FORECAST': 'FORECAST_XGB'}, inplace = True)\n",
    "\n",
    "p_xgb = pred_xgb.FORECAST_XGB\n",
    "\n",
    "df = pd.merge(p_xgb, df, right_index = True, left_index = True)"
   ]
  },
  {
   "cell_type": "code",
   "execution_count": 5,
   "metadata": {},
   "outputs": [
    {
     "name": "stdout",
     "output_type": "stream",
     "text": [
      "0.7437502207007188\n"
     ]
    }
   ],
   "source": [
    "score = r2_score(df.AQI_MP2_5, df.FORECAST_XGB)\n",
    "\n",
    "print(score)"
   ]
  },
  {
   "cell_type": "code",
   "execution_count": 4,
   "metadata": {},
   "outputs": [],
   "source": [
    "for i in stations:\n",
    "    \n",
    "    fig_val = go.Figure()\n",
    "\n",
    "    df_grafica = df[df['ESTACION'] == i]\n",
    "\n",
    "    fig_val.add_trace(\n",
    "        go.Scatter( y = list(df_grafica.FORECAST_XGB), x = list(df_grafica.FECHAHORA), name = 'Forecasts XGB', line=dict(color = 'Orange')))\n",
    "\n",
    "    fig_val.add_trace(\n",
    "        go.Scatter( y = list(df_grafica.AQI_MP2_5), x = list(df_grafica.FECHAHORA), name = 'Target', line=dict(color = '#0087e8')))\n",
    "\n",
    "    layout = go.Layout(\n",
    "            title=\"Title\",\n",
    "            xaxis=dict(\n",
    "                title=\"X Label\"\n",
    "            ),\n",
    "            yaxis=dict(\n",
    "                title=\"Y label\"\n",
    "            ) ) \n",
    "\n",
    "    fig_val.update_layout( \n",
    "                            width = 600,\n",
    "                            height = 700,\n",
    "                            title = {\n",
    "                                    'text': \"12hr prediction. XGBOOST. Station \" + str(i),\n",
    "                                    'y':0.9,\n",
    "                                    'x':0.5,\n",
    "                                    'xanchor': 'center',\n",
    "                                    'yanchor': 'top'}, \n",
    "                            \n",
    "                            yaxis_title = 'AQI MP 2.5', \n",
    "                            xaxis_title = 'Date',\n",
    "                            \n",
    "                            legend= {\n",
    "                                    'xanchor': 'center',\n",
    "                                    'yanchor': 'bottom',\n",
    "                                    'y' : -0.7,\n",
    "                                    'x' : 0.0,\n",
    "                            },\n",
    "                            font=dict(\n",
    "                                        size=16,\n",
    "                                            ),\n",
    "                            legend_title = 'References',\n",
    "                            )\n",
    "    \n",
    "    fig_val.write_html('graphs/modelos_finales_todas_estaciones/val_24h_station_'+str(i)+'.html')\n"
   ]
  }
 ],
 "metadata": {
  "kernelspec": {
   "display_name": "base",
   "language": "python",
   "name": "python3"
  },
  "language_info": {
   "codemirror_mode": {
    "name": "ipython",
    "version": 3
   },
   "file_extension": ".py",
   "mimetype": "text/x-python",
   "name": "python",
   "nbconvert_exporter": "python",
   "pygments_lexer": "ipython3",
   "version": "3.8.5"
  },
  "orig_nbformat": 4
 },
 "nbformat": 4,
 "nbformat_minor": 2
}
