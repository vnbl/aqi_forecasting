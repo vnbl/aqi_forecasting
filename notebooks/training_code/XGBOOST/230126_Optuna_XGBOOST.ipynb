{
 "cells": [
  {
   "cell_type": "code",
   "execution_count": 1,
   "id": "b6f71554",
   "metadata": {},
   "outputs": [
    {
     "name": "stderr",
     "output_type": "stream",
     "text": [
      "C:\\Users\\Fer\\anaconda3\\lib\\site-packages\\xgboost\\compat.py:36: FutureWarning: pandas.Int64Index is deprecated and will be removed from pandas in a future version. Use pandas.Index with the appropriate dtype instead.\n",
      "  from pandas import MultiIndex, Int64Index\n"
     ]
    }
   ],
   "source": [
    "# Data Manipulation\n",
    "import pandas as pd # for data manipulation\n",
    "import numpy as np # for data manipulation\n",
    "\n",
    "# Training utils\n",
    "import utils_xgboost\n",
    "\n",
    "# Optuna\n",
    "import optuna\n",
    "\n",
    "# Tiempo\n",
    "import datetime as dt\n",
    "from dateutil.relativedelta import relativedelta, MO\n",
    "\n",
    "# Modelos\n",
    "from sklearn.linear_model import LinearRegression # for building a linear regression model\n",
    "from sklearn.svm import SVR # for building SVR model\n",
    "from sklearn.preprocessing import MinMaxScaler\n",
    "from sklearn.multioutput import MultiOutputRegressor\n",
    "import xgboost as xgb\n",
    "from sklearn.model_selection import train_test_split\n",
    "\n",
    "# Metricas\n",
    "from sklearn.metrics import mean_absolute_error #MAE\n",
    "from sklearn.metrics import mean_absolute_percentage_error #MAPE\n",
    "from sklearn.metrics import mean_squared_error #MSE, para RMSE: squared = False\n",
    "\n",
    "# Visualizations\n",
    "import plotly.graph_objects as go # for data visualization\n",
    "import plotly.express as px # for data visualization\n",
    "import matplotlib.pyplot as plt\n",
    "\n",
    "# Advertencias\n",
    "import warnings\n",
    "warnings.filterwarnings(\"ignore\")"
   ]
  },
  {
   "cell_type": "markdown",
   "id": "d8318785",
   "metadata": {},
   "source": [
    "# Cargamos los datos"
   ]
  },
  {
   "cell_type": "code",
   "execution_count": 2,
   "id": "4e10cfff",
   "metadata": {},
   "outputs": [],
   "source": [
    "datos = pd.read_csv('datos/230127_train_ESTACIONES.csv', parse_dates = ['FECHAHORA'])"
   ]
  },
  {
   "cell_type": "markdown",
   "id": "1b628b2d",
   "metadata": {},
   "source": [
    "# Variables de entrenamiento"
   ]
  },
  {
   "cell_type": "code",
   "execution_count": 3,
   "id": "0c4fefed",
   "metadata": {},
   "outputs": [],
   "source": [
    "estacion = 4\n",
    "\n",
    "variables = [\"ANHO\", 'DIA', 'MES', 'HORA', 'MINUTO', 'MP1', 'MP2_5', 'MP10', \n",
    "             'TEMPERATURA', 'HUMEDAD', 'PRESION', 'TEMPERATURA_PRONOSTICO', \n",
    "             'HUMEDAD_PRONOSTICO', 'PRESION_PRONOSTICO', 'DIA_SEM', 'TRAFICO' , 'AQI_MP10', 'AQI_MP2_5']\n",
    "\n",
    "dependent = ['AQI_MP2_5']\n",
    "\n",
    "number_of_features = len(variables)\n",
    "\n",
    "training_days = 7 \n",
    "forecast_days = 1 \n",
    "samples_per_day = 288\n",
    "step = 288/4\n",
    "\n",
    "# Creamos una variable que nos diga con cuantos meses de entrenamiento queremos contar para el X_train\n",
    "train_months = relativedelta(months = 12)\n",
    "\n",
    "input_samples = int(samples_per_day * training_days) # cantidad de muestras en 7 dias\n",
    "output_samples = int(samples_per_day * forecast_days) # cantidad de muestras en 1 dia\n",
    "train_test_samples = int(input_samples + output_samples) # cantidad de datos para el train_test\n",
    "\n"
   ]
  },
  {
   "cell_type": "markdown",
   "id": "e4522f11",
   "metadata": {},
   "source": [
    "# Procesamiento previo a entrenamiento"
   ]
  },
  {
   "cell_type": "code",
   "execution_count": 4,
   "id": "39768a98",
   "metadata": {},
   "outputs": [
    {
     "name": "stdout",
     "output_type": "stream",
     "text": [
      "CPU times: total: 15.3 s\n",
      "Wall time: 15.3 s\n"
     ]
    }
   ],
   "source": [
    "%%time\n",
    "\n",
    "X_train, y_train, X_test, y_test = utils_xgboost.get_everything(datos, \n",
    "                                                                estacion,\n",
    "                                                                train_months, \n",
    "                                                                variables, \n",
    "                                                                dependent, \n",
    "                                                                train_test_samples, \n",
    "                                                                input_samples, \n",
    "                                                                output_samples, \n",
    "                                                                number_of_features,\n",
    "                                                                step)"
   ]
  },
  {
   "cell_type": "code",
   "execution_count": 5,
   "id": "e317b253",
   "metadata": {},
   "outputs": [
    {
     "name": "stdout",
     "output_type": "stream",
     "text": [
      "(1433, 2033)\n",
      "(1433, 288)\n",
      "(333, 2033)\n",
      "(333, 288)\n"
     ]
    }
   ],
   "source": [
    "print(X_train.shape)\n",
    "print(y_train.shape)\n",
    "\n",
    "print(X_test.shape)\n",
    "print(y_test.shape)\n"
   ]
  },
  {
   "cell_type": "markdown",
   "id": "063c6aa9",
   "metadata": {},
   "source": [
    "# Prueba antes de usar optuna"
   ]
  },
  {
   "cell_type": "code",
   "execution_count": 8,
   "id": "73129f13",
   "metadata": {},
   "outputs": [
    {
     "name": "stdout",
     "output_type": "stream",
     "text": [
      "prediction (333, 288)\n",
      "test (333, 288)\n",
      "RMSE:  9.781115562652332\n",
      "MAE:  6.694983114898304\n",
      "CPU times: total: 1h 56min 35s\n",
      "Wall time: 10min 16s\n"
     ]
    }
   ],
   "source": [
    "%%time\n",
    "\n",
    "params = {'learning_rate' : 0.025,\n",
    "          'n_estimators' : 250,\n",
    "          'max_depth': 2,\n",
    "          'min_child_weight' : 1,\n",
    "          'gamma': 0.0,\n",
    "          'subsample': 0.98,\n",
    "          'colsample_bytree': 0.98,\n",
    "          'scale_pos_weight': 0.8,\n",
    "          'seed': 42,\n",
    "          'verbosity' : 0}\n",
    "\n",
    "\n",
    "xgb_model = xgb.XGBRegressor(** params)\n",
    "\n",
    "trained_xgb_model = MultiOutputRegressor(xgb_model).fit(X_train , y_train)\n",
    "\n",
    "prediction = trained_xgb_model.predict(X_test)\n",
    "print('prediction', prediction.shape)\n",
    "print('test', y_test.shape)\n",
    "\n",
    "MSE = np.mean((prediction - y_test)**2)\n",
    "print('RMSE: ', MSE**0.5)\n",
    "MAE = np.mean(np.abs(prediction-y_test))\n",
    "print('MAE: ', MAE)"
   ]
  },
  {
   "cell_type": "code",
   "execution_count": 6,
   "id": "2d22eb97",
   "metadata": {},
   "outputs": [
    {
     "name": "stderr",
     "output_type": "stream",
     "text": [
      "\u001b[32m[I 2023-01-28 20:10:19,875]\u001b[0m A new study created in memory with name: no-name-1787ac92-8806-40f0-93a5-92a43e9d708a\u001b[0m\n",
      "\u001b[32m[I 2023-01-28 20:14:50,731]\u001b[0m Trial 0 finished with value: 46.48396844731619 and parameters: {'max_depth': 9, 'learning_rate': 0.3337374464151056, 'n_estimators': 130, 'min_child_weight': 3, 'gamma': 0.8882093614663984, 'subsample': 0.015841848096434467, 'colsample_bytree': 0.8370926414146762}. Best is trial 0 with value: 46.48396844731619.\u001b[0m\n"
     ]
    },
    {
     "name": "stdout",
     "output_type": "stream",
     "text": [
      "RMSE:  46.48396844731619\n",
      "MAE:  35.6517350307482\n"
     ]
    },
    {
     "name": "stderr",
     "output_type": "stream",
     "text": [
      "\u001b[32m[I 2023-01-28 20:16:18,086]\u001b[0m Trial 1 finished with value: 17.943521809806217 and parameters: {'max_depth': 8, 'learning_rate': 0.35432120167676945, 'n_estimators': 65, 'min_child_weight': 8, 'gamma': 0.0015364570022530217, 'subsample': 0.07550576862242127, 'colsample_bytree': 0.010658482625998549}. Best is trial 1 with value: 17.943521809806217.\u001b[0m\n"
     ]
    },
    {
     "name": "stdout",
     "output_type": "stream",
     "text": [
      "RMSE:  17.943521809806217\n",
      "MAE:  13.40249268570035\n"
     ]
    },
    {
     "name": "stderr",
     "output_type": "stream",
     "text": [
      "\u001b[32m[I 2023-01-28 20:18:51,417]\u001b[0m Trial 2 finished with value: 11.83070446089126 and parameters: {'max_depth': 6, 'learning_rate': 0.03932440008548837, 'n_estimators': 127, 'min_child_weight': 8, 'gamma': 0.0008710945684357212, 'subsample': 0.14272133770629547, 'colsample_bytree': 0.010681248427200423}. Best is trial 2 with value: 11.83070446089126.\u001b[0m\n"
     ]
    },
    {
     "name": "stdout",
     "output_type": "stream",
     "text": [
      "RMSE:  11.83070446089126\n",
      "MAE:  8.19149232334322\n"
     ]
    },
    {
     "name": "stderr",
     "output_type": "stream",
     "text": [
      "\u001b[32m[I 2023-01-28 20:19:57,920]\u001b[0m Trial 3 finished with value: 14.54673864455137 and parameters: {'max_depth': 2, 'learning_rate': 0.02557669626897522, 'n_estimators': 40, 'min_child_weight': 6, 'gamma': 0.1934119763875045, 'subsample': 0.01774605735778424, 'colsample_bytree': 0.5981734808181227}. Best is trial 2 with value: 11.83070446089126.\u001b[0m\n"
     ]
    },
    {
     "name": "stdout",
     "output_type": "stream",
     "text": [
      "RMSE:  14.54673864455137\n",
      "MAE:  9.676853088764576\n"
     ]
    },
    {
     "name": "stderr",
     "output_type": "stream",
     "text": [
      "\u001b[32m[I 2023-01-28 20:25:30,034]\u001b[0m Trial 4 finished with value: 11.365687071337952 and parameters: {'max_depth': 8, 'learning_rate': 0.0318866391279685, 'n_estimators': 251, 'min_child_weight': 2, 'gamma': 0.0034019855090259166, 'subsample': 0.09827675230904075, 'colsample_bytree': 0.03712266163394721}. Best is trial 4 with value: 11.365687071337952.\u001b[0m\n"
     ]
    },
    {
     "name": "stdout",
     "output_type": "stream",
     "text": [
      "RMSE:  11.365687071337952\n",
      "MAE:  7.674858883212199\n"
     ]
    },
    {
     "name": "stderr",
     "output_type": "stream",
     "text": [
      "\u001b[32m[I 2023-01-28 20:28:22,513]\u001b[0m Trial 5 finished with value: 12.778807655792734 and parameters: {'max_depth': 7, 'learning_rate': 0.11764970027044494, 'n_estimators': 115, 'min_child_weight': 2, 'gamma': 9.0729359667854e-05, 'subsample': 0.379023796417965, 'colsample_bytree': 0.022371655451631323}. Best is trial 4 with value: 11.365687071337952.\u001b[0m\n"
     ]
    },
    {
     "name": "stdout",
     "output_type": "stream",
     "text": [
      "RMSE:  12.778807655792734\n",
      "MAE:  8.505620252321766\n"
     ]
    },
    {
     "name": "stderr",
     "output_type": "stream",
     "text": [
      "\u001b[32m[I 2023-01-28 20:33:58,032]\u001b[0m Trial 6 finished with value: 16.595604309580995 and parameters: {'max_depth': 2, 'learning_rate': 0.21867718803085306, 'n_estimators': 255, 'min_child_weight': 8, 'gamma': 0.03604235643654854, 'subsample': 0.02455252789708489, 'colsample_bytree': 0.47296901012781956}. Best is trial 4 with value: 11.365687071337952.\u001b[0m\n"
     ]
    },
    {
     "name": "stdout",
     "output_type": "stream",
     "text": [
      "RMSE:  16.595604309580995\n",
      "MAE:  12.561728575957524\n"
     ]
    },
    {
     "name": "stderr",
     "output_type": "stream",
     "text": [
      "\u001b[32m[I 2023-01-28 20:35:17,451]\u001b[0m Trial 7 finished with value: 76.6326916248913 and parameters: {'max_depth': 3, 'learning_rate': 0.9870859401348135, 'n_estimators': 42, 'min_child_weight': 9, 'gamma': 0.00017012539530394455, 'subsample': 0.0891963929130467, 'colsample_bytree': 0.47459033679203905}. Best is trial 4 with value: 11.365687071337952.\u001b[0m\n"
     ]
    },
    {
     "name": "stdout",
     "output_type": "stream",
     "text": [
      "RMSE:  76.6326916248913\n",
      "MAE:  53.99057118351048\n"
     ]
    },
    {
     "name": "stderr",
     "output_type": "stream",
     "text": [
      "\u001b[32m[I 2023-01-28 20:39:12,343]\u001b[0m Trial 8 finished with value: 13.028062537478267 and parameters: {'max_depth': 5, 'learning_rate': 0.013959803123716292, 'n_estimators': 221, 'min_child_weight': 7, 'gamma': 0.006278961382978406, 'subsample': 0.010950541302544416, 'colsample_bytree': 0.01465971175247405}. Best is trial 4 with value: 11.365687071337952.\u001b[0m\n"
     ]
    },
    {
     "name": "stdout",
     "output_type": "stream",
     "text": [
      "RMSE:  13.028062537478267\n",
      "MAE:  9.308192751637927\n"
     ]
    },
    {
     "name": "stderr",
     "output_type": "stream",
     "text": [
      "\u001b[32m[I 2023-01-28 20:43:14,401]\u001b[0m Trial 9 finished with value: 11.710506290539659 and parameters: {'max_depth': 9, 'learning_rate': 0.07465944814009269, 'n_estimators': 119, 'min_child_weight': 1, 'gamma': 0.06672186652856553, 'subsample': 0.01421141315815147, 'colsample_bytree': 0.5922568946576087}. Best is trial 4 with value: 11.365687071337952.\u001b[0m\n"
     ]
    },
    {
     "name": "stdout",
     "output_type": "stream",
     "text": [
      "RMSE:  11.710506290539659\n",
      "MAE:  8.544599200999144\n"
     ]
    },
    {
     "name": "stderr",
     "output_type": "stream",
     "text": [
      "\u001b[32m[I 2023-01-28 20:50:18,325]\u001b[0m Trial 10 finished with value: 10.74862638841433 and parameters: {'max_depth': 5, 'learning_rate': 0.010783028539736107, 'n_estimators': 299, 'min_child_weight': 4, 'gamma': 0.008228187876415173, 'subsample': 0.7517490008617512, 'colsample_bytree': 0.0586827497780841}. Best is trial 10 with value: 10.74862638841433.\u001b[0m\n"
     ]
    },
    {
     "name": "stdout",
     "output_type": "stream",
     "text": [
      "RMSE:  10.74862638841433\n",
      "MAE:  6.895318607852226\n"
     ]
    },
    {
     "name": "stderr",
     "output_type": "stream",
     "text": [
      "\u001b[32m[I 2023-01-28 20:56:44,094]\u001b[0m Trial 11 finished with value: 10.599882578235238 and parameters: {'max_depth': 4, 'learning_rate': 0.012875594673080788, 'n_estimators': 295, 'min_child_weight': 4, 'gamma': 0.00988957621469794, 'subsample': 0.9167267444516184, 'colsample_bytree': 0.0641744884833777}. Best is trial 11 with value: 10.599882578235238.\u001b[0m\n"
     ]
    },
    {
     "name": "stdout",
     "output_type": "stream",
     "text": [
      "RMSE:  10.599882578235238\n",
      "MAE:  6.869346410458709\n"
     ]
    },
    {
     "name": "stderr",
     "output_type": "stream",
     "text": [
      "\u001b[32m[I 2023-01-28 21:03:25,055]\u001b[0m Trial 12 finished with value: 10.418698915369259 and parameters: {'max_depth': 4, 'learning_rate': 0.010332604762843754, 'n_estimators': 290, 'min_child_weight': 4, 'gamma': 0.015301673209315685, 'subsample': 0.8339580202314597, 'colsample_bytree': 0.08656038755076592}. Best is trial 12 with value: 10.418698915369259.\u001b[0m\n"
     ]
    },
    {
     "name": "stdout",
     "output_type": "stream",
     "text": [
      "RMSE:  10.418698915369259\n",
      "MAE:  6.691013417056611\n"
     ]
    },
    {
     "name": "stderr",
     "output_type": "stream",
     "text": [
      "\u001b[32m[I 2023-01-28 21:09:03,403]\u001b[0m Trial 13 finished with value: 10.081716818886482 and parameters: {'max_depth': 4, 'learning_rate': 0.01826300006723479, 'n_estimators': 200, 'min_child_weight': 5, 'gamma': 0.022215094418075954, 'subsample': 0.7079426053993381, 'colsample_bytree': 0.17606111769871063}. Best is trial 13 with value: 10.081716818886482.\u001b[0m\n"
     ]
    },
    {
     "name": "stdout",
     "output_type": "stream",
     "text": [
      "RMSE:  10.081716818886482\n",
      "MAE:  6.56723879827115\n"
     ]
    },
    {
     "name": "stderr",
     "output_type": "stream",
     "text": [
      "\u001b[32m[I 2023-01-28 21:12:48,006]\u001b[0m Trial 14 finished with value: 10.347449391162616 and parameters: {'max_depth': 1, 'learning_rate': 0.021992072465187626, 'n_estimators': 194, 'min_child_weight': 5, 'gamma': 0.05043629425218221, 'subsample': 0.3759457734825227, 'colsample_bytree': 0.1752013927272792}. Best is trial 13 with value: 10.081716818886482.\u001b[0m\n"
     ]
    },
    {
     "name": "stdout",
     "output_type": "stream",
     "text": [
      "RMSE:  10.347449391162616\n",
      "MAE:  7.270023403493492\n"
     ]
    },
    {
     "name": "stderr",
     "output_type": "stream",
     "text": [
      "\u001b[32m[I 2023-01-28 21:16:25,661]\u001b[0m Trial 15 finished with value: 9.888654580608485 and parameters: {'max_depth': 1, 'learning_rate': 0.058664345055654876, 'n_estimators': 188, 'min_child_weight': 6, 'gamma': 1.0328871164976581e-05, 'subsample': 0.24372984350758406, 'colsample_bytree': 0.18074704631813576}. Best is trial 15 with value: 9.888654580608485.\u001b[0m\n"
     ]
    },
    {
     "name": "stdout",
     "output_type": "stream",
     "text": [
      "RMSE:  9.888654580608485\n",
      "MAE:  6.769732600804524\n"
     ]
    },
    {
     "name": "stderr",
     "output_type": "stream",
     "text": [
      "\u001b[32m[I 2023-01-28 21:19:50,217]\u001b[0m Trial 16 finished with value: 9.865906014063642 and parameters: {'max_depth': 1, 'learning_rate': 0.05613934184613798, 'n_estimators': 176, 'min_child_weight': 6, 'gamma': 1.134142447926765e-05, 'subsample': 0.2460120677463321, 'colsample_bytree': 0.20425544662255235}. Best is trial 16 with value: 9.865906014063642.\u001b[0m\n"
     ]
    },
    {
     "name": "stdout",
     "output_type": "stream",
     "text": [
      "RMSE:  9.865906014063642\n",
      "MAE:  6.761743363267707\n"
     ]
    },
    {
     "name": "stderr",
     "output_type": "stream",
     "text": [
      "\u001b[32m[I 2023-01-28 21:23:05,082]\u001b[0m Trial 17 finished with value: 9.824686211330677 and parameters: {'max_depth': 1, 'learning_rate': 0.0614424653964823, 'n_estimators': 167, 'min_child_weight': 10, 'gamma': 1.0709955428500178e-05, 'subsample': 0.18813959995965165, 'colsample_bytree': 0.20289723778465873}. Best is trial 17 with value: 9.824686211330677.\u001b[0m\n"
     ]
    },
    {
     "name": "stdout",
     "output_type": "stream",
     "text": [
      "RMSE:  9.824686211330677\n",
      "MAE:  6.733271650972468\n"
     ]
    },
    {
     "name": "stderr",
     "output_type": "stream",
     "text": [
      "\u001b[32m[I 2023-01-28 21:26:30,482]\u001b[0m Trial 18 finished with value: 11.40117422564729 and parameters: {'max_depth': 2, 'learning_rate': 0.12596407825504927, 'n_estimators': 159, 'min_child_weight': 10, 'gamma': 1.5144813058994815e-05, 'subsample': 0.034671874560611673, 'colsample_bytree': 0.28407111075923214}. Best is trial 17 with value: 9.824686211330677.\u001b[0m\n"
     ]
    },
    {
     "name": "stdout",
     "output_type": "stream",
     "text": [
      "RMSE:  11.40117422564729\n",
      "MAE:  8.19444339864222\n"
     ]
    },
    {
     "name": "stderr",
     "output_type": "stream",
     "text": [
      "\u001b[32m[I 2023-01-28 21:28:18,254]\u001b[0m Trial 19 finished with value: 10.136457566527655 and parameters: {'max_depth': 1, 'learning_rate': 0.04887931686822044, 'n_estimators': 85, 'min_child_weight': 10, 'gamma': 5.2365634119171984e-05, 'subsample': 0.18502416679043404, 'colsample_bytree': 0.27053497181683217}. Best is trial 17 with value: 9.824686211330677.\u001b[0m\n"
     ]
    },
    {
     "name": "stdout",
     "output_type": "stream",
     "text": [
      "RMSE:  10.136457566527655\n",
      "MAE:  7.12975638392849\n"
     ]
    },
    {
     "name": "stderr",
     "output_type": "stream",
     "text": [
      "\u001b[32m[I 2023-01-28 21:31:32,476]\u001b[0m Trial 20 finished with value: 10.952412869713598 and parameters: {'max_depth': 3, 'learning_rate': 0.08270748473124269, 'n_estimators': 160, 'min_child_weight': 7, 'gamma': 0.0003482491203043959, 'subsample': 0.0465523634476508, 'colsample_bytree': 0.12447102848242442}. Best is trial 17 with value: 9.824686211330677.\u001b[0m\n"
     ]
    },
    {
     "name": "stdout",
     "output_type": "stream",
     "text": [
      "RMSE:  10.952412869713598\n",
      "MAE:  7.661275861361572\n"
     ]
    },
    {
     "name": "stderr",
     "output_type": "stream",
     "text": [
      "\u001b[32m[I 2023-01-28 21:35:21,070]\u001b[0m Trial 21 finished with value: 9.837282680979337 and parameters: {'max_depth': 1, 'learning_rate': 0.055407231783533406, 'n_estimators': 186, 'min_child_weight': 6, 'gamma': 1.3174172179093512e-05, 'subsample': 0.2329495892376334, 'colsample_bytree': 0.26037431984063925}. Best is trial 17 with value: 9.824686211330677.\u001b[0m\n"
     ]
    },
    {
     "name": "stdout",
     "output_type": "stream",
     "text": [
      "RMSE:  9.837282680979337\n",
      "MAE:  6.773197958468993\n"
     ]
    },
    {
     "name": "stderr",
     "output_type": "stream",
     "text": [
      "\u001b[32m[I 2023-01-28 21:38:56,240]\u001b[0m Trial 22 finished with value: 9.777832254390296 and parameters: {'max_depth': 1, 'learning_rate': 0.13993971363335184, 'n_estimators': 172, 'min_child_weight': 7, 'gamma': 2.4289029438876196e-05, 'subsample': 0.31894626120048414, 'colsample_bytree': 0.2977141537917731}. Best is trial 22 with value: 9.777832254390296.\u001b[0m\n"
     ]
    },
    {
     "name": "stdout",
     "output_type": "stream",
     "text": [
      "RMSE:  9.777832254390296\n",
      "MAE:  6.741390837096039\n"
     ]
    },
    {
     "name": "stderr",
     "output_type": "stream",
     "text": [
      "\u001b[32m[I 2023-01-28 21:44:55,666]\u001b[0m Trial 23 finished with value: 10.381789859638774 and parameters: {'max_depth': 2, 'learning_rate': 0.18680614999440273, 'n_estimators': 227, 'min_child_weight': 9, 'gamma': 3.7059956905547813e-05, 'subsample': 0.413834995459002, 'colsample_bytree': 0.3733145131207816}. Best is trial 22 with value: 9.777832254390296.\u001b[0m\n"
     ]
    },
    {
     "name": "stdout",
     "output_type": "stream",
     "text": [
      "RMSE:  10.381789859638774\n",
      "MAE:  7.1972610994520565\n"
     ]
    },
    {
     "name": "stderr",
     "output_type": "stream",
     "text": [
      "\u001b[32m[I 2023-01-28 21:48:08,085]\u001b[0m Trial 24 finished with value: 11.562887338073963 and parameters: {'max_depth': 3, 'learning_rate': 0.1614614746440209, 'n_estimators': 147, 'min_child_weight': 7, 'gamma': 3.294590323094288e-05, 'subsample': 0.15978183991610917, 'colsample_bytree': 0.11081202791485636}. Best is trial 22 with value: 9.777832254390296.\u001b[0m\n"
     ]
    },
    {
     "name": "stdout",
     "output_type": "stream",
     "text": [
      "RMSE:  11.562887338073963\n",
      "MAE:  7.737662411333178\n"
     ]
    },
    {
     "name": "stderr",
     "output_type": "stream",
     "text": [
      "\u001b[32m[I 2023-01-28 21:52:49,630]\u001b[0m Trial 25 finished with value: 9.695794545278838 and parameters: {'max_depth': 1, 'learning_rate': 0.09678965842304724, 'n_estimators': 214, 'min_child_weight': 9, 'gamma': 0.00021934805855144482, 'subsample': 0.5086871991839466, 'colsample_bytree': 0.3062340068865653}. Best is trial 25 with value: 9.695794545278838.\u001b[0m\n"
     ]
    },
    {
     "name": "stdout",
     "output_type": "stream",
     "text": [
      "RMSE:  9.695794545278838\n",
      "MAE:  6.633763422160933\n"
     ]
    },
    {
     "name": "stderr",
     "output_type": "stream",
     "text": [
      "\u001b[32m[I 2023-01-28 21:58:48,796]\u001b[0m Trial 26 finished with value: 10.843324298413677 and parameters: {'max_depth': 2, 'learning_rate': 0.28604389699048327, 'n_estimators': 220, 'min_child_weight': 9, 'gamma': 0.000276193211495158, 'subsample': 0.5044049750009104, 'colsample_bytree': 0.349587759980038}. Best is trial 25 with value: 9.695794545278838.\u001b[0m\n"
     ]
    },
    {
     "name": "stdout",
     "output_type": "stream",
     "text": [
      "RMSE:  10.843324298413677\n",
      "MAE:  7.565870652808666\n"
     ]
    },
    {
     "name": "stderr",
     "output_type": "stream",
     "text": [
      "\u001b[32m[I 2023-01-28 22:01:14,818]\u001b[0m Trial 27 finished with value: 13.210149094142784 and parameters: {'max_depth': 3, 'learning_rate': 0.6240883794899543, 'n_estimators': 95, 'min_child_weight': 10, 'gamma': 0.00010311525821782755, 'subsample': 0.5436454754428108, 'colsample_bytree': 0.13452797395486818}. Best is trial 25 with value: 9.695794545278838.\u001b[0m\n"
     ]
    },
    {
     "name": "stdout",
     "output_type": "stream",
     "text": [
      "RMSE:  13.210149094142784\n",
      "MAE:  9.024882694320873\n"
     ]
    },
    {
     "name": "stderr",
     "output_type": "stream",
     "text": [
      "\u001b[32m[I 2023-01-28 22:07:10,761]\u001b[0m Trial 28 finished with value: 9.663702855143802 and parameters: {'max_depth': 1, 'learning_rate': 0.09376164522877177, 'n_estimators': 241, 'min_child_weight': 9, 'gamma': 0.00049765910041623, 'subsample': 0.29999229370322605, 'colsample_bytree': 0.7366089528376125}. Best is trial 28 with value: 9.663702855143802.\u001b[0m\n"
     ]
    },
    {
     "name": "stdout",
     "output_type": "stream",
     "text": [
      "RMSE:  9.663702855143802\n",
      "MAE:  6.68924964802799\n"
     ]
    },
    {
     "name": "stderr",
     "output_type": "stream",
     "text": [
      "\u001b[32m[I 2023-01-28 22:16:41,939]\u001b[0m Trial 29 finished with value: 9.974882510227495 and parameters: {'max_depth': 2, 'learning_rate': 0.0965650512204089, 'n_estimators': 248, 'min_child_weight': 8, 'gamma': 0.0007847232330049121, 'subsample': 0.3203405315108365, 'colsample_bytree': 0.9760863997087595}. Best is trial 28 with value: 9.663702855143802.\u001b[0m\n"
     ]
    },
    {
     "name": "stdout",
     "output_type": "stream",
     "text": [
      "RMSE:  9.974882510227495\n",
      "MAE:  6.950354041536499\n"
     ]
    },
    {
     "name": "stderr",
     "output_type": "stream",
     "text": [
      "\u001b[32m[I 2023-01-28 22:25:28,308]\u001b[0m Trial 30 finished with value: 11.51637030871923 and parameters: {'max_depth': 3, 'learning_rate': 0.14602509901176206, 'n_estimators': 265, 'min_child_weight': 9, 'gamma': 0.00040417311507638757, 'subsample': 0.1212878625862508, 'colsample_bytree': 0.7182962001505291}. Best is trial 28 with value: 9.663702855143802.\u001b[0m\n"
     ]
    },
    {
     "name": "stdout",
     "output_type": "stream",
     "text": [
      "RMSE:  11.51637030871923\n",
      "MAE:  8.158909485460665\n"
     ]
    },
    {
     "name": "stderr",
     "output_type": "stream",
     "text": [
      "\u001b[32m[I 2023-01-28 22:30:03,181]\u001b[0m Trial 31 finished with value: 9.697382239081305 and parameters: {'max_depth': 1, 'learning_rate': 0.08610986671215765, 'n_estimators': 205, 'min_child_weight': 10, 'gamma': 3.653852304821641e-05, 'subsample': 0.5790658299475774, 'colsample_bytree': 0.4063733797783455}. Best is trial 28 with value: 9.663702855143802.\u001b[0m\n"
     ]
    },
    {
     "name": "stdout",
     "output_type": "stream",
     "text": [
      "RMSE:  9.697382239081305\n",
      "MAE:  6.6056565660554485\n"
     ]
    },
    {
     "name": "stderr",
     "output_type": "stream",
     "text": [
      "\u001b[32m[I 2023-01-28 22:35:36,018]\u001b[0m Trial 32 finished with value: 9.79877421591015 and parameters: {'max_depth': 1, 'learning_rate': 0.25148294939938026, 'n_estimators': 206, 'min_child_weight': 9, 'gamma': 7.442246900482701e-05, 'subsample': 0.6020384970498646, 'colsample_bytree': 0.7752624270746074}. Best is trial 28 with value: 9.663702855143802.\u001b[0m\n"
     ]
    },
    {
     "name": "stdout",
     "output_type": "stream",
     "text": [
      "RMSE:  9.79877421591015\n",
      "MAE:  6.7110550367000865\n"
     ]
    },
    {
     "name": "stderr",
     "output_type": "stream",
     "text": [
      "\u001b[32m[I 2023-01-28 22:41:35,000]\u001b[0m Trial 33 finished with value: 10.02421004337973 and parameters: {'max_depth': 2, 'learning_rate': 0.10122791049684697, 'n_estimators': 227, 'min_child_weight': 8, 'gamma': 0.0009400506672125285, 'subsample': 0.3120227626628528, 'colsample_bytree': 0.4070258095976022}. Best is trial 28 with value: 9.663702855143802.\u001b[0m\n"
     ]
    },
    {
     "name": "stdout",
     "output_type": "stream",
     "text": [
      "RMSE:  10.02421004337973\n",
      "MAE:  6.873684659386461\n"
     ]
    },
    {
     "name": "stderr",
     "output_type": "stream",
     "text": [
      "\u001b[32m[I 2023-01-28 22:48:16,291]\u001b[0m Trial 34 finished with value: 10.317833453939054 and parameters: {'max_depth': 1, 'learning_rate': 0.3778547383993716, 'n_estimators': 274, 'min_child_weight': 10, 'gamma': 0.00016692422499280606, 'subsample': 0.48217992684412164, 'colsample_bytree': 0.5860735838991605}. Best is trial 28 with value: 9.663702855143802.\u001b[0m\n"
     ]
    },
    {
     "name": "stdout",
     "output_type": "stream",
     "text": [
      "RMSE:  10.317833453939054\n",
      "MAE:  7.22458062709395\n"
     ]
    },
    {
     "name": "stderr",
     "output_type": "stream",
     "text": [
      "\u001b[32m[I 2023-01-28 23:12:55,194]\u001b[0m Trial 35 finished with value: 9.935914511573541 and parameters: {'max_depth': 6, 'learning_rate': 0.03712486092436717, 'n_estimators': 241, 'min_child_weight': 7, 'gamma': 0.002247252120872821, 'subsample': 0.9797165003420455, 'colsample_bytree': 0.9950737907869129}. Best is trial 28 with value: 9.663702855143802.\u001b[0m\n"
     ]
    },
    {
     "name": "stdout",
     "output_type": "stream",
     "text": [
      "RMSE:  9.935914511573541\n",
      "MAE:  6.766201275386212\n"
     ]
    },
    {
     "name": "stderr",
     "output_type": "stream",
     "text": [
      "\u001b[32m[I 2023-01-28 23:18:09,045]\u001b[0m Trial 36 finished with value: 10.327992388302354 and parameters: {'max_depth': 2, 'learning_rate': 0.07567468912944234, 'n_estimators': 211, 'min_child_weight': 8, 'gamma': 0.8860634366018233, 'subsample': 0.07050437295350337, 'colsample_bytree': 0.3221664294487338}. Best is trial 28 with value: 9.663702855143802.\u001b[0m\n"
     ]
    },
    {
     "name": "stdout",
     "output_type": "stream",
     "text": [
      "RMSE:  10.327992388302354\n",
      "MAE:  7.235959691119504\n"
     ]
    },
    {
     "name": "stderr",
     "output_type": "stream",
     "text": [
      "\u001b[32m[I 2023-01-28 23:21:50,060]\u001b[0m Trial 37 finished with value: 9.668877626361 and parameters: {'max_depth': 1, 'learning_rate': 0.11534772497724213, 'n_estimators': 147, 'min_child_weight': 9, 'gamma': 0.0006615268682921152, 'subsample': 0.2976099977847788, 'colsample_bytree': 0.47922703712383424}. Best is trial 28 with value: 9.663702855143802.\u001b[0m\n"
     ]
    },
    {
     "name": "stdout",
     "output_type": "stream",
     "text": [
      "RMSE:  9.668877626361\n",
      "MAE:  6.671499426380014\n"
     ]
    },
    {
     "name": "stderr",
     "output_type": "stream",
     "text": [
      "\u001b[32m[I 2023-01-28 23:27:13,780]\u001b[0m Trial 38 finished with value: 10.846921241920183 and parameters: {'max_depth': 2, 'learning_rate': 0.4080663409392079, 'n_estimators': 148, 'min_child_weight': 9, 'gamma': 0.0012813886938440606, 'subsample': 0.646467168644107, 'colsample_bytree': 0.5355902252502179}. Best is trial 28 with value: 9.663702855143802.\u001b[0m\n"
     ]
    },
    {
     "name": "stdout",
     "output_type": "stream",
     "text": [
      "RMSE:  10.846921241920183\n",
      "MAE:  7.556635630802271\n"
     ]
    },
    {
     "name": "stderr",
     "output_type": "stream",
     "text": [
      "\u001b[32m[I 2023-01-28 23:32:42,069]\u001b[0m Trial 39 finished with value: 9.7439683082953 and parameters: {'max_depth': 3, 'learning_rate': 0.04085914305507823, 'n_estimators': 141, 'min_child_weight': 8, 'gamma': 0.0005617760865223762, 'subsample': 0.12804512676611626, 'colsample_bytree': 0.7590348486209684}. Best is trial 28 with value: 9.663702855143802.\u001b[0m\n"
     ]
    },
    {
     "name": "stdout",
     "output_type": "stream",
     "text": [
      "RMSE:  9.7439683082953\n",
      "MAE:  6.718866743845942\n"
     ]
    },
    {
     "name": "stderr",
     "output_type": "stream",
     "text": [
      "\u001b[32m[I 2023-01-28 23:39:16,202]\u001b[0m Trial 40 finished with value: 9.685621847074447 and parameters: {'max_depth': 1, 'learning_rate': 0.1016425569739222, 'n_estimators': 270, 'min_child_weight': 10, 'gamma': 0.004210200430432531, 'subsample': 0.4648438889569509, 'colsample_bytree': 0.43874601996131873}. Best is trial 28 with value: 9.663702855143802.\u001b[0m\n"
     ]
    },
    {
     "name": "stdout",
     "output_type": "stream",
     "text": [
      "RMSE:  9.685621847074447\n",
      "MAE:  6.653592594865366\n"
     ]
    },
    {
     "name": "stderr",
     "output_type": "stream",
     "text": [
      "\u001b[32m[I 2023-01-28 23:44:50,889]\u001b[0m Trial 41 finished with value: 9.64673460578873 and parameters: {'max_depth': 1, 'learning_rate': 0.10712255295811804, 'n_estimators': 232, 'min_child_weight': 10, 'gamma': 0.0039213858411458104, 'subsample': 0.41514350497026875, 'colsample_bytree': 0.4405309393062019}. Best is trial 41 with value: 9.64673460578873.\u001b[0m\n"
     ]
    },
    {
     "name": "stdout",
     "output_type": "stream",
     "text": [
      "RMSE:  9.64673460578873\n",
      "MAE:  6.670803795238316\n"
     ]
    },
    {
     "name": "stderr",
     "output_type": "stream",
     "text": [
      "\u001b[32m[I 2023-01-28 23:53:40,966]\u001b[0m Trial 42 finished with value: 9.944220965417303 and parameters: {'max_depth': 2, 'learning_rate': 0.11101709235973206, 'n_estimators': 277, 'min_child_weight': 9, 'gamma': 0.003105484378384077, 'subsample': 0.4207170301492225, 'colsample_bytree': 0.5044200951531173}. Best is trial 41 with value: 9.64673460578873.\u001b[0m\n"
     ]
    },
    {
     "name": "stdout",
     "output_type": "stream",
     "text": [
      "RMSE:  9.944220965417303\n",
      "MAE:  6.85892979511205\n"
     ]
    },
    {
     "name": "stderr",
     "output_type": "stream",
     "text": [
      "\u001b[32m[I 2023-01-29 00:11:18,511]\u001b[0m Trial 43 finished with value: 11.923345920299914 and parameters: {'max_depth': 7, 'learning_rate': 0.20259248964454366, 'n_estimators': 240, 'min_child_weight': 10, 'gamma': 0.004431224491000794, 'subsample': 0.31933971156836843, 'colsample_bytree': 0.6500653248709233}. Best is trial 41 with value: 9.64673460578873.\u001b[0m\n"
     ]
    },
    {
     "name": "stdout",
     "output_type": "stream",
     "text": [
      "RMSE:  11.923345920299914\n",
      "MAE:  8.237310520356193\n"
     ]
    },
    {
     "name": "stderr",
     "output_type": "stream",
     "text": [
      "\u001b[32m[I 2023-01-29 00:17:09,445]\u001b[0m Trial 44 finished with value: 9.832586883112905 and parameters: {'max_depth': 1, 'learning_rate': 0.17089838847063638, 'n_estimators': 262, 'min_child_weight': 9, 'gamma': 0.0019247674933476708, 'subsample': 0.2261102461871166, 'colsample_bytree': 0.44192144604540623}. Best is trial 41 with value: 9.64673460578873.\u001b[0m\n"
     ]
    },
    {
     "name": "stdout",
     "output_type": "stream",
     "text": [
      "RMSE:  9.832586883112905\n",
      "MAE:  6.828810370869346\n"
     ]
    },
    {
     "name": "stderr",
     "output_type": "stream",
     "text": [
      "\u001b[32m[I 2023-01-29 00:22:39,859]\u001b[0m Trial 45 finished with value: 10.771628339906304 and parameters: {'max_depth': 2, 'learning_rate': 0.06963397176276152, 'n_estimators': 283, 'min_child_weight': 10, 'gamma': 0.0053081652757615005, 'subsample': 0.4427556436603851, 'colsample_bytree': 0.029252773700850575}. Best is trial 41 with value: 9.64673460578873.\u001b[0m\n"
     ]
    },
    {
     "name": "stdout",
     "output_type": "stream",
     "text": [
      "RMSE:  10.771628339906304\n",
      "MAE:  7.277146462285204\n"
     ]
    },
    {
     "name": "stderr",
     "output_type": "stream",
     "text": [
      "\u001b[32m[I 2023-01-29 00:27:43,712]\u001b[0m Trial 46 finished with value: 9.7636347188381 and parameters: {'max_depth': 1, 'learning_rate': 0.11864928143474611, 'n_estimators': 236, 'min_child_weight': 9, 'gamma': 0.00021998226845433848, 'subsample': 0.7422467210187178, 'colsample_bytree': 0.24386267283499263}. Best is trial 41 with value: 9.64673460578873.\u001b[0m\n"
     ]
    },
    {
     "name": "stdout",
     "output_type": "stream",
     "text": [
      "RMSE:  9.7636347188381\n",
      "MAE:  6.6761394445055675\n"
     ]
    },
    {
     "name": "stderr",
     "output_type": "stream",
     "text": [
      "\u001b[32m[I 2023-01-29 00:38:29,941]\u001b[0m Trial 47 finished with value: 10.678839080820454 and parameters: {'max_depth': 9, 'learning_rate': 0.09702632179154987, 'n_estimators': 129, 'min_child_weight': 8, 'gamma': 0.01403223567302266, 'subsample': 0.2908789349602886, 'colsample_bytree': 0.631231523162298}. Best is trial 41 with value: 9.64673460578873.\u001b[0m\n"
     ]
    },
    {
     "name": "stdout",
     "output_type": "stream",
     "text": [
      "RMSE:  10.678839080820454\n",
      "MAE:  7.389716761432212\n"
     ]
    },
    {
     "name": "stderr",
     "output_type": "stream",
     "text": [
      "\u001b[32m[I 2023-01-29 00:52:31,212]\u001b[0m Trial 48 finished with value: 11.490233284839073 and parameters: {'max_depth': 4, 'learning_rate': 0.13392790180805755, 'n_estimators': 263, 'min_child_weight': 3, 'gamma': 0.0006103548126304385, 'subsample': 0.19199820984843732, 'colsample_bytree': 0.8791063402926359}. Best is trial 41 with value: 9.64673460578873.\u001b[0m\n"
     ]
    },
    {
     "name": "stdout",
     "output_type": "stream",
     "text": [
      "RMSE:  11.490233284839073\n",
      "MAE:  8.021043134320111\n"
     ]
    },
    {
     "name": "stderr",
     "output_type": "stream",
     "text": [
      "\u001b[32m[I 2023-01-29 00:58:29,137]\u001b[0m Trial 49 finished with value: 9.648086202713394 and parameters: {'max_depth': 1, 'learning_rate': 0.04261978089474574, 'n_estimators': 247, 'min_child_weight': 10, 'gamma': 0.0012462410528429062, 'subsample': 0.38452693294541057, 'colsample_bytree': 0.4868571526625116}. Best is trial 41 with value: 9.64673460578873.\u001b[0m\n"
     ]
    },
    {
     "name": "stdout",
     "output_type": "stream",
     "text": [
      "RMSE:  9.648086202713394\n",
      "MAE:  6.6084598211554795\n"
     ]
    },
    {
     "name": "stderr",
     "output_type": "stream",
     "text": [
      "\u001b[32m[I 2023-01-29 01:06:14,804]\u001b[0m Trial 50 finished with value: 9.62761314801338 and parameters: {'max_depth': 8, 'learning_rate': 0.02879080890576891, 'n_estimators': 107, 'min_child_weight': 10, 'gamma': 0.0012204994079678937, 'subsample': 0.3857356987079278, 'colsample_bytree': 0.5090563253232723}. Best is trial 50 with value: 9.62761314801338.\u001b[0m\n"
     ]
    },
    {
     "name": "stdout",
     "output_type": "stream",
     "text": [
      "RMSE:  9.62761314801338\n",
      "MAE:  6.444574089538745\n"
     ]
    },
    {
     "name": "stderr",
     "output_type": "stream",
     "text": [
      "\u001b[32m[I 2023-01-29 01:12:55,693]\u001b[0m Trial 51 finished with value: 9.61279970368555 and parameters: {'max_depth': 7, 'learning_rate': 0.027548822634817755, 'n_estimators': 98, 'min_child_weight': 10, 'gamma': 0.0013312796874993353, 'subsample': 0.39610697618196317, 'colsample_bytree': 0.49349645710901346}. Best is trial 51 with value: 9.61279970368555.\u001b[0m\n"
     ]
    },
    {
     "name": "stdout",
     "output_type": "stream",
     "text": [
      "RMSE:  9.61279970368555\n",
      "MAE:  6.411886504601748\n"
     ]
    },
    {
     "name": "stderr",
     "output_type": "stream",
     "text": [
      "\u001b[32m[I 2023-01-29 01:18:58,045]\u001b[0m Trial 52 finished with value: 9.57798893523962 and parameters: {'max_depth': 7, 'learning_rate': 0.02722698816952769, 'n_estimators': 102, 'min_child_weight': 10, 'gamma': 0.0013927856343396562, 'subsample': 0.26948066673272314, 'colsample_bytree': 0.53169010494947}. Best is trial 52 with value: 9.57798893523962.\u001b[0m\n"
     ]
    },
    {
     "name": "stdout",
     "output_type": "stream",
     "text": [
      "RMSE:  9.57798893523962\n",
      "MAE:  6.388341310319998\n"
     ]
    },
    {
     "name": "stderr",
     "output_type": "stream",
     "text": [
      "\u001b[32m[I 2023-01-29 01:23:01,164]\u001b[0m Trial 53 finished with value: 10.770609192628504 and parameters: {'max_depth': 8, 'learning_rate': 0.028730280040573902, 'n_estimators': 52, 'min_child_weight': 10, 'gamma': 0.0015560234297936312, 'subsample': 0.38087798514426113, 'colsample_bytree': 0.5575793191939277}. Best is trial 52 with value: 9.57798893523962.\u001b[0m\n"
     ]
    },
    {
     "name": "stdout",
     "output_type": "stream",
     "text": [
      "RMSE:  10.770609192628504\n",
      "MAE:  7.2372395012441935\n"
     ]
    },
    {
     "name": "stderr",
     "output_type": "stream",
     "text": [
      "\u001b[32m[I 2023-01-29 01:29:54,729]\u001b[0m Trial 54 finished with value: 9.659108806462712 and parameters: {'max_depth': 7, 'learning_rate': 0.022164529174241776, 'n_estimators': 99, 'min_child_weight': 10, 'gamma': 0.002557795494753126, 'subsample': 0.2555946386426559, 'colsample_bytree': 0.7064119167513893}. Best is trial 52 with value: 9.57798893523962.\u001b[0m\n"
     ]
    },
    {
     "name": "stdout",
     "output_type": "stream",
     "text": [
      "RMSE:  9.659108806462712\n",
      "MAE:  6.442791439898618\n"
     ]
    },
    {
     "name": "stderr",
     "output_type": "stream",
     "text": [
      "\u001b[32m[I 2023-01-29 01:30:25,126]\u001b[0m Trial 55 finished with value: 22.98649800639873 and parameters: {'max_depth': 7, 'learning_rate': 0.020223953682618583, 'n_estimators': 11, 'min_child_weight': 10, 'gamma': 0.002629428903369958, 'subsample': 0.24664468214429255, 'colsample_bytree': 0.04874195873007556}. Best is trial 52 with value: 9.57798893523962.\u001b[0m\n"
     ]
    },
    {
     "name": "stdout",
     "output_type": "stream",
     "text": [
      "RMSE:  22.98649800639873\n",
      "MAE:  18.588666200064793\n"
     ]
    },
    {
     "name": "stderr",
     "output_type": "stream",
     "text": [
      "\u001b[32m[I 2023-01-29 01:34:45,149]\u001b[0m Trial 56 finished with value: 10.551515499801006 and parameters: {'max_depth': 8, 'learning_rate': 0.016205643472026764, 'n_estimators': 108, 'min_child_weight': 10, 'gamma': 0.008018331596920525, 'subsample': 0.1550917321060473, 'colsample_bytree': 0.366154819997938}. Best is trial 52 with value: 9.57798893523962.\u001b[0m\n"
     ]
    },
    {
     "name": "stdout",
     "output_type": "stream",
     "text": [
      "RMSE:  10.551515499801006\n",
      "MAE:  6.933081567834368\n"
     ]
    },
    {
     "name": "stderr",
     "output_type": "stream",
     "text": [
      "\u001b[32m[I 2023-01-29 01:42:24,250]\u001b[0m Trial 57 finished with value: 10.28458304495399 and parameters: {'max_depth': 6, 'learning_rate': 0.024638034312062275, 'n_estimators': 74, 'min_child_weight': 1, 'gamma': 0.001029219914317706, 'subsample': 0.36751506457230393, 'colsample_bytree': 0.874957945505241}. Best is trial 52 with value: 9.57798893523962.\u001b[0m\n"
     ]
    },
    {
     "name": "stdout",
     "output_type": "stream",
     "text": [
      "RMSE:  10.28458304495399\n",
      "MAE:  6.848755860372428\n"
     ]
    },
    {
     "name": "stderr",
     "output_type": "stream",
     "text": [
      "\u001b[32m[I 2023-01-29 01:44:46,607]\u001b[0m Trial 58 finished with value: 11.719921054652938 and parameters: {'max_depth': 7, 'learning_rate': 0.03195360793336985, 'n_estimators': 112, 'min_child_weight': 10, 'gamma': 0.0014682102485959968, 'subsample': 0.07536713519649903, 'colsample_bytree': 0.01285223094513181}. Best is trial 52 with value: 9.57798893523962.\u001b[0m\n"
     ]
    },
    {
     "name": "stdout",
     "output_type": "stream",
     "text": [
      "RMSE:  11.719921054652938\n",
      "MAE:  8.085838119725924\n"
     ]
    },
    {
     "name": "stderr",
     "output_type": "stream",
     "text": [
      "\u001b[32m[I 2023-01-29 01:49:26,176]\u001b[0m Trial 59 finished with value: 11.678977374435147 and parameters: {'max_depth': 8, 'learning_rate': 0.013526770044184048, 'n_estimators': 101, 'min_child_weight': 10, 'gamma': 0.026333801057369717, 'subsample': 0.09790392026794272, 'colsample_bytree': 0.673743671993956}. Best is trial 52 with value: 9.57798893523962.\u001b[0m\n"
     ]
    },
    {
     "name": "stdout",
     "output_type": "stream",
     "text": [
      "RMSE:  11.678977374435147\n",
      "MAE:  7.76190630078793\n"
     ]
    },
    {
     "name": "stderr",
     "output_type": "stream",
     "text": [
      "\u001b[32m[I 2023-01-29 01:52:31,661]\u001b[0m Trial 60 finished with value: 9.87620794070626 and parameters: {'max_depth': 7, 'learning_rate': 0.04644944863356058, 'n_estimators': 84, 'min_child_weight': 10, 'gamma': 0.011494422311551384, 'subsample': 0.20485357101566223, 'colsample_bytree': 0.2407985252310072}. Best is trial 52 with value: 9.57798893523962.\u001b[0m\n"
     ]
    },
    {
     "name": "stdout",
     "output_type": "stream",
     "text": [
      "RMSE:  9.87620794070626\n",
      "MAE:  6.594320466086233\n"
     ]
    },
    {
     "name": "stderr",
     "output_type": "stream",
     "text": [
      "\u001b[32m[I 2023-01-29 01:57:28,848]\u001b[0m Trial 61 finished with value: 10.244735336148215 and parameters: {'max_depth': 8, 'learning_rate': 0.02825867360876691, 'n_estimators': 61, 'min_child_weight': 9, 'gamma': 0.0004193881418225661, 'subsample': 0.36916572312673046, 'colsample_bytree': 0.5902188718750215}. Best is trial 52 with value: 9.57798893523962.\u001b[0m\n"
     ]
    },
    {
     "name": "stdout",
     "output_type": "stream",
     "text": [
      "RMSE:  10.244735336148215\n",
      "MAE:  6.862044782580079\n"
     ]
    },
    {
     "name": "stderr",
     "output_type": "stream",
     "text": [
      "\u001b[32m[I 2023-01-29 02:03:47,328]\u001b[0m Trial 62 finished with value: 9.554965018421754 and parameters: {'max_depth': 6, 'learning_rate': 0.035021436915685204, 'n_estimators': 87, 'min_child_weight': 10, 'gamma': 0.003242640044267107, 'subsample': 0.26714015180595185, 'colsample_bytree': 0.8035931538830737}. Best is trial 62 with value: 9.554965018421754.\u001b[0m\n"
     ]
    },
    {
     "name": "stdout",
     "output_type": "stream",
     "text": [
      "RMSE:  9.554965018421754\n",
      "MAE:  6.438303095586585\n"
     ]
    },
    {
     "name": "stderr",
     "output_type": "stream",
     "text": [
      "\u001b[32m[I 2023-01-29 02:08:31,165]\u001b[0m Trial 63 finished with value: 10.835959374742531 and parameters: {'max_depth': 6, 'learning_rate': 0.016909142225482586, 'n_estimators': 90, 'min_child_weight': 10, 'gamma': 0.002972864910844852, 'subsample': 0.2752848798093113, 'colsample_bytree': 0.4725341212086899}. Best is trial 62 with value: 9.554965018421754.\u001b[0m\n"
     ]
    },
    {
     "name": "stdout",
     "output_type": "stream",
     "text": [
      "RMSE:  10.835959374742531\n",
      "MAE:  7.239533226649921\n"
     ]
    },
    {
     "name": "stderr",
     "output_type": "stream",
     "text": [
      "\u001b[32m[I 2023-01-29 02:18:37,302]\u001b[0m Trial 64 finished with value: 9.564247055807915 and parameters: {'max_depth': 6, 'learning_rate': 0.022651152598400816, 'n_estimators': 120, 'min_child_weight': 10, 'gamma': 0.006729874665279177, 'subsample': 0.35877831103898455, 'colsample_bytree': 0.8290422004420023}. Best is trial 62 with value: 9.554965018421754.\u001b[0m\n"
     ]
    },
    {
     "name": "stdout",
     "output_type": "stream",
     "text": [
      "RMSE:  9.564247055807915\n",
      "MAE:  6.39690564390835\n"
     ]
    },
    {
     "name": "stderr",
     "output_type": "stream",
     "text": [
      "\u001b[32m[I 2023-01-29 02:28:58,805]\u001b[0m Trial 65 finished with value: 9.773103253772353 and parameters: {'max_depth': 6, 'learning_rate': 0.03484839575759688, 'n_estimators': 122, 'min_child_weight': 9, 'gamma': 0.004715004363490486, 'subsample': 0.3573338448456505, 'colsample_bytree': 0.8378373396685095}. Best is trial 62 with value: 9.554965018421754.\u001b[0m\n"
     ]
    },
    {
     "name": "stdout",
     "output_type": "stream",
     "text": [
      "RMSE:  9.773103253772353\n",
      "MAE:  6.637851061132259\n"
     ]
    },
    {
     "name": "stderr",
     "output_type": "stream",
     "text": [
      "\u001b[32m[I 2023-01-29 02:34:20,507]\u001b[0m Trial 66 finished with value: 9.598908458515666 and parameters: {'max_depth': 6, 'learning_rate': 0.04258891748991228, 'n_estimators': 74, 'min_child_weight': 10, 'gamma': 0.007550306396383251, 'subsample': 0.6631261867195466, 'colsample_bytree': 0.5274560492178598}. Best is trial 62 with value: 9.554965018421754.\u001b[0m\n"
     ]
    },
    {
     "name": "stdout",
     "output_type": "stream",
     "text": [
      "RMSE:  9.598908458515666\n",
      "MAE:  6.428953121329571\n"
     ]
    },
    {
     "name": "stderr",
     "output_type": "stream",
     "text": [
      "\u001b[32m[I 2023-01-29 02:38:23,553]\u001b[0m Trial 67 finished with value: 9.89069777910286 and parameters: {'max_depth': 5, 'learning_rate': 0.026296844761172004, 'n_estimators': 76, 'min_child_weight': 9, 'gamma': 0.007141545438505019, 'subsample': 0.7434664393624174, 'colsample_bytree': 0.3866896990017968}. Best is trial 62 with value: 9.554965018421754.\u001b[0m\n"
     ]
    },
    {
     "name": "stdout",
     "output_type": "stream",
     "text": [
      "RMSE:  9.89069777910286\n",
      "MAE:  6.546733322255326\n"
     ]
    },
    {
     "name": "stderr",
     "output_type": "stream",
     "text": [
      "\u001b[32m[I 2023-01-29 02:42:41,015]\u001b[0m Trial 68 finished with value: 11.033567767547877 and parameters: {'max_depth': 6, 'learning_rate': 0.03311111561899576, 'n_estimators': 41, 'min_child_weight': 10, 'gamma': 0.1130103642910756, 'subsample': 0.8575016224845782, 'colsample_bytree': 0.8405074280790049}. Best is trial 62 with value: 9.554965018421754.\u001b[0m\n"
     ]
    },
    {
     "name": "stdout",
     "output_type": "stream",
     "text": [
      "RMSE:  11.033567767547877\n",
      "MAE:  7.541045558300462\n"
     ]
    },
    {
     "name": "stderr",
     "output_type": "stream",
     "text": [
      "\u001b[32m[I 2023-01-29 02:51:09,079]\u001b[0m Trial 69 finished with value: 10.40752566470281 and parameters: {'max_depth': 5, 'learning_rate': 0.011827141186230194, 'n_estimators': 135, 'min_child_weight': 10, 'gamma': 0.01067099825484249, 'subsample': 0.6168471243211152, 'colsample_bytree': 0.5396430956858077}. Best is trial 62 with value: 9.554965018421754.\u001b[0m\n"
     ]
    },
    {
     "name": "stdout",
     "output_type": "stream",
     "text": [
      "RMSE:  10.40752566470281\n",
      "MAE:  6.988812881447611\n"
     ]
    },
    {
     "name": "stderr",
     "output_type": "stream",
     "text": [
      "\u001b[32m[I 2023-01-29 02:58:41,569]\u001b[0m Trial 70 finished with value: 10.26985004296266 and parameters: {'max_depth': 9, 'learning_rate': 0.023488464456851682, 'n_estimators': 71, 'min_child_weight': 9, 'gamma': 0.026484943110221884, 'subsample': 0.5359150015515489, 'colsample_bytree': 0.634268659433012}. Best is trial 62 with value: 9.554965018421754.\u001b[0m\n"
     ]
    },
    {
     "name": "stdout",
     "output_type": "stream",
     "text": [
      "RMSE:  10.26985004296266\n",
      "MAE:  6.888765496997027\n"
     ]
    },
    {
     "name": "stderr",
     "output_type": "stream",
     "text": [
      "\u001b[32m[I 2023-01-29 03:01:30,220]\u001b[0m Trial 71 finished with value: 10.438160821054606 and parameters: {'max_depth': 5, 'learning_rate': 0.042586924564113136, 'n_estimators': 104, 'min_child_weight': 10, 'gamma': 0.0018848125227003592, 'subsample': 0.41914912481066113, 'colsample_bytree': 0.0813762924007942}. Best is trial 62 with value: 9.554965018421754.\u001b[0m\n"
     ]
    },
    {
     "name": "stdout",
     "output_type": "stream",
     "text": [
      "RMSE:  10.438160821054606\n",
      "MAE:  6.835197645006158\n"
     ]
    },
    {
     "name": "stderr",
     "output_type": "stream",
     "text": [
      "\u001b[32m[I 2023-01-29 03:09:39,945]\u001b[0m Trial 72 finished with value: 9.842913279508423 and parameters: {'max_depth': 6, 'learning_rate': 0.04763057651365485, 'n_estimators': 117, 'min_child_weight': 10, 'gamma': 0.0011333072359002694, 'subsample': 0.6644979732477544, 'colsample_bytree': 0.5150847587416896}. Best is trial 62 with value: 9.554965018421754.\u001b[0m\n"
     ]
    },
    {
     "name": "stdout",
     "output_type": "stream",
     "text": [
      "RMSE:  9.842913279508423\n",
      "MAE:  6.68522633855288\n"
     ]
    },
    {
     "name": "stderr",
     "output_type": "stream",
     "text": [
      "\u001b[32m[I 2023-01-29 03:14:28,286]\u001b[0m Trial 73 finished with value: 10.558550359804517 and parameters: {'max_depth': 7, 'learning_rate': 0.019645666336637474, 'n_estimators': 82, 'min_child_weight': 10, 'gamma': 0.0061095392963536315, 'subsample': 0.4977676350189288, 'colsample_bytree': 0.3427283374479547}. Best is trial 62 with value: 9.554965018421754.\u001b[0m\n"
     ]
    },
    {
     "name": "stdout",
     "output_type": "stream",
     "text": [
      "RMSE:  10.558550359804517\n",
      "MAE:  7.038773123138858\n"
     ]
    },
    {
     "name": "stderr",
     "output_type": "stream",
     "text": [
      "\u001b[32m[I 2023-01-29 03:15:49,176]\u001b[0m Trial 74 finished with value: 10.482779252275723 and parameters: {'max_depth': 6, 'learning_rate': 0.06418764782579472, 'n_estimators': 26, 'min_child_weight': 9, 'gamma': 0.014952316020459268, 'subsample': 0.2094850635135096, 'colsample_bytree': 0.42356142694033894}. Best is trial 62 with value: 9.554965018421754.\u001b[0m\n"
     ]
    },
    {
     "name": "stdout",
     "output_type": "stream",
     "text": [
      "RMSE:  10.482779252275723\n",
      "MAE:  6.970616233892786\n"
     ]
    },
    {
     "name": "stderr",
     "output_type": "stream",
     "text": [
      "\u001b[32m[I 2023-01-29 03:19:29,922]\u001b[0m Trial 75 finished with value: 10.367915932922088 and parameters: {'max_depth': 7, 'learning_rate': 0.02896078745683811, 'n_estimators': 59, 'min_child_weight': 10, 'gamma': 0.003773135379926107, 'subsample': 0.16686208809182718, 'colsample_bytree': 0.750767012405635}. Best is trial 62 with value: 9.554965018421754.\u001b[0m\n"
     ]
    },
    {
     "name": "stdout",
     "output_type": "stream",
     "text": [
      "RMSE:  10.367915932922088\n",
      "MAE:  6.8723883092214475\n"
     ]
    },
    {
     "name": "stderr",
     "output_type": "stream",
     "text": [
      "\u001b[32m[I 2023-01-29 03:27:59,416]\u001b[0m Trial 76 finished with value: 9.841445439229414 and parameters: {'max_depth': 5, 'learning_rate': 0.05461319115506959, 'n_estimators': 94, 'min_child_weight': 2, 'gamma': 0.0008645271440643193, 'subsample': 0.3424976491085392, 'colsample_bytree': 0.9957353117640318}. Best is trial 62 with value: 9.554965018421754.\u001b[0m\n"
     ]
    },
    {
     "name": "stdout",
     "output_type": "stream",
     "text": [
      "RMSE:  9.841445439229414\n",
      "MAE:  6.728421382305222\n"
     ]
    },
    {
     "name": "stderr",
     "output_type": "stream",
     "text": [
      "\u001b[32m[I 2023-01-29 03:33:55,033]\u001b[0m Trial 77 finished with value: 10.207831003442356 and parameters: {'max_depth': 8, 'learning_rate': 0.03776096213692452, 'n_estimators': 124, 'min_child_weight': 5, 'gamma': 0.0018377759168936307, 'subsample': 0.4117820747661479, 'colsample_bytree': 0.21061890676993023}. Best is trial 62 with value: 9.554965018421754.\u001b[0m\n"
     ]
    },
    {
     "name": "stdout",
     "output_type": "stream",
     "text": [
      "RMSE:  10.207831003442356\n",
      "MAE:  6.71510002212919\n"
     ]
    },
    {
     "name": "stderr",
     "output_type": "stream",
     "text": [
      "\u001b[32m[I 2023-01-29 03:36:33,199]\u001b[0m Trial 78 finished with value: 12.123105002600271 and parameters: {'max_depth': 8, 'learning_rate': 0.01589421219387983, 'n_estimators': 113, 'min_child_weight': 10, 'gamma': 0.003298836372363124, 'subsample': 0.020691053554441317, 'colsample_bytree': 0.29729186836079263}. Best is trial 62 with value: 9.554965018421754.\u001b[0m\n"
     ]
    },
    {
     "name": "stdout",
     "output_type": "stream",
     "text": [
      "RMSE:  12.123105002600271\n",
      "MAE:  7.937444242251329\n"
     ]
    },
    {
     "name": "stderr",
     "output_type": "stream",
     "text": [
      "\u001b[32m[I 2023-01-29 03:39:35,520]\u001b[0m Trial 79 finished with value: 10.227652994635596 and parameters: {'max_depth': 7, 'learning_rate': 0.04286110572994157, 'n_estimators': 88, 'min_child_weight': 9, 'gamma': 0.0012047217122685434, 'subsample': 0.05430923027702554, 'colsample_bytree': 0.45380616953188746}. Best is trial 62 with value: 9.554965018421754.\u001b[0m\n"
     ]
    },
    {
     "name": "stdout",
     "output_type": "stream",
     "text": [
      "RMSE:  10.227652994635596\n",
      "MAE:  7.041812553688571\n"
     ]
    },
    {
     "name": "stderr",
     "output_type": "stream",
     "text": [
      "\u001b[32m[I 2023-01-29 03:43:39,020]\u001b[0m Trial 80 finished with value: 9.657484101724343 and parameters: {'max_depth': 6, 'learning_rate': 0.050972907993215674, 'n_estimators': 69, 'min_child_weight': 9, 'gamma': 0.018784622796207393, 'subsample': 0.2713251116274262, 'colsample_bytree': 0.5590933481690158}. Best is trial 62 with value: 9.554965018421754.\u001b[0m\n"
     ]
    },
    {
     "name": "stdout",
     "output_type": "stream",
     "text": [
      "RMSE:  9.657484101724343\n",
      "MAE:  6.492336049308012\n"
     ]
    },
    {
     "name": "stderr",
     "output_type": "stream",
     "text": [
      "\u001b[32m[I 2023-01-29 03:47:35,490]\u001b[0m Trial 81 finished with value: 9.912184169890995 and parameters: {'max_depth': 6, 'learning_rate': 0.03064869623397834, 'n_estimators': 64, 'min_child_weight': 10, 'gamma': 0.03818360700042563, 'subsample': 0.27922869699942554, 'colsample_bytree': 0.5941250291066325}. Best is trial 62 with value: 9.554965018421754.\u001b[0m\n"
     ]
    },
    {
     "name": "stdout",
     "output_type": "stream",
     "text": [
      "RMSE:  9.912184169890995\n",
      "MAE:  6.568086603417132\n"
     ]
    },
    {
     "name": "stderr",
     "output_type": "stream",
     "text": [
      "\u001b[32m[I 2023-01-29 03:52:00,958]\u001b[0m Trial 82 finished with value: 10.049071787107124 and parameters: {'max_depth': 6, 'learning_rate': 0.03510713053052248, 'n_estimators': 50, 'min_child_weight': 10, 'gamma': 0.008227285629540254, 'subsample': 0.5528709253811007, 'colsample_bytree': 0.6733614614787233}. Best is trial 62 with value: 9.554965018421754.\u001b[0m\n"
     ]
    },
    {
     "name": "stdout",
     "output_type": "stream",
     "text": [
      "RMSE:  10.049071787107124\n",
      "MAE:  6.745844179012993\n"
     ]
    },
    {
     "name": "stderr",
     "output_type": "stream",
     "text": [
      "\u001b[32m[I 2023-01-29 03:55:58,616]\u001b[0m Trial 83 finished with value: 9.77204964204202 and parameters: {'max_depth': 5, 'learning_rate': 0.05399222072278178, 'n_estimators': 80, 'min_child_weight': 9, 'gamma': 0.017083552727524334, 'subsample': 0.2540172445419446, 'colsample_bytree': 0.5144143455241437}. Best is trial 62 with value: 9.554965018421754.\u001b[0m\n"
     ]
    },
    {
     "name": "stdout",
     "output_type": "stream",
     "text": [
      "RMSE:  9.77204964204202\n",
      "MAE:  6.607837441531785\n"
     ]
    },
    {
     "name": "stderr",
     "output_type": "stream",
     "text": [
      "\u001b[32m[I 2023-01-29 03:59:15,354]\u001b[0m Trial 84 finished with value: 10.560333878889399 and parameters: {'max_depth': 6, 'learning_rate': 0.023987841441414148, 'n_estimators': 69, 'min_child_weight': 10, 'gamma': 0.020869828139036938, 'subsample': 0.3311582597666365, 'colsample_bytree': 0.3438295697237896}. Best is trial 62 with value: 9.554965018421754.\u001b[0m\n"
     ]
    },
    {
     "name": "stdout",
     "output_type": "stream",
     "text": [
      "RMSE:  10.560333878889399\n",
      "MAE:  6.996568490981976\n"
     ]
    },
    {
     "name": "stderr",
     "output_type": "stream",
     "text": [
      "\u001b[32m[I 2023-01-29 04:10:01,529]\u001b[0m Trial 85 finished with value: 9.717929391834236 and parameters: {'max_depth': 7, 'learning_rate': 0.019437468445852056, 'n_estimators': 105, 'min_child_weight': 9, 'gamma': 0.0007505766878996472, 'subsample': 0.46832352663637905, 'colsample_bytree': 0.7767615081038439}. Best is trial 62 with value: 9.554965018421754.\u001b[0m\n"
     ]
    },
    {
     "name": "stdout",
     "output_type": "stream",
     "text": [
      "RMSE:  9.717929391834236\n",
      "MAE:  6.497273109731453\n"
     ]
    },
    {
     "name": "stderr",
     "output_type": "stream",
     "text": [
      "\u001b[32m[I 2023-01-29 04:12:08,786]\u001b[0m Trial 86 finished with value: 13.735331613435628 and parameters: {'max_depth': 4, 'learning_rate': 0.027066083509805904, 'n_estimators': 95, 'min_child_weight': 10, 'gamma': 0.0582832834325238, 'subsample': 0.011377839654838127, 'colsample_bytree': 0.3959082936624356}. Best is trial 62 with value: 9.554965018421754.\u001b[0m\n"
     ]
    },
    {
     "name": "stdout",
     "output_type": "stream",
     "text": [
      "RMSE:  13.735331613435628\n",
      "MAE:  10.366672154581861\n"
     ]
    },
    {
     "name": "stderr",
     "output_type": "stream",
     "text": [
      "\u001b[32m[I 2023-01-29 04:17:02,809]\u001b[0m Trial 87 finished with value: 10.441533028576952 and parameters: {'max_depth': 7, 'learning_rate': 0.03980349548160084, 'n_estimators': 135, 'min_child_weight': 8, 'gamma': 0.005963622092410318, 'subsample': 0.4119428254368934, 'colsample_bytree': 0.14283922992936404}. Best is trial 62 with value: 9.554965018421754.\u001b[0m\n"
     ]
    },
    {
     "name": "stdout",
     "output_type": "stream",
     "text": [
      "RMSE:  10.441533028576952\n",
      "MAE:  6.845299382243787\n"
     ]
    },
    {
     "name": "stderr",
     "output_type": "stream",
     "text": [
      "\u001b[32m[I 2023-01-29 04:30:47,272]\u001b[0m Trial 88 finished with value: 10.42121727919739 and parameters: {'max_depth': 6, 'learning_rate': 0.05007192017179973, 'n_estimators': 255, 'min_child_weight': 10, 'gamma': 0.0020733191929512814, 'subsample': 0.22958254360693992, 'colsample_bytree': 0.5787026091834353}. Best is trial 62 with value: 9.554965018421754.\u001b[0m\n"
     ]
    },
    {
     "name": "stdout",
     "output_type": "stream",
     "text": [
      "RMSE:  10.42121727919739\n",
      "MAE:  7.211758209614305\n"
     ]
    },
    {
     "name": "stderr",
     "output_type": "stream",
     "text": [
      "\u001b[32m[I 2023-01-29 04:33:20,217]\u001b[0m Trial 89 finished with value: 16.259184384656535 and parameters: {'max_depth': 6, 'learning_rate': 0.021616849466601157, 'n_estimators': 30, 'min_child_weight': 9, 'gamma': 0.010590139295781429, 'subsample': 0.2762669186581022, 'colsample_bytree': 0.9043351594467267}. Best is trial 62 with value: 9.554965018421754.\u001b[0m\n"
     ]
    },
    {
     "name": "stdout",
     "output_type": "stream",
     "text": [
      "RMSE:  16.259184384656535\n",
      "MAE:  12.041986980777224\n"
     ]
    },
    {
     "name": "stderr",
     "output_type": "stream",
     "text": [
      "\u001b[32m[I 2023-01-29 04:34:39,458]\u001b[0m Trial 90 finished with value: 11.420597841112151 and parameters: {'max_depth': 9, 'learning_rate': 0.06543047127329975, 'n_estimators': 51, 'min_child_weight': 10, 'gamma': 0.003939428004296675, 'subsample': 0.13934394926936344, 'colsample_bytree': 0.019547311021820345}. Best is trial 62 with value: 9.554965018421754.\u001b[0m\n"
     ]
    },
    {
     "name": "stdout",
     "output_type": "stream",
     "text": [
      "RMSE:  11.420597841112151\n",
      "MAE:  7.7705777458123135\n"
     ]
    },
    {
     "name": "stderr",
     "output_type": "stream",
     "text": [
      "\u001b[32m[I 2023-01-29 04:41:27,554]\u001b[0m Trial 91 finished with value: 9.664472307933956 and parameters: {'max_depth': 7, 'learning_rate': 0.023089706230677656, 'n_estimators': 95, 'min_child_weight': 10, 'gamma': 0.0025450430488639536, 'subsample': 0.2599067016099479, 'colsample_bytree': 0.7155429562522925}. Best is trial 62 with value: 9.554965018421754.\u001b[0m\n"
     ]
    },
    {
     "name": "stdout",
     "output_type": "stream",
     "text": [
      "RMSE:  9.664472307933956\n",
      "MAE:  6.437411226190485\n"
     ]
    },
    {
     "name": "stderr",
     "output_type": "stream",
     "text": [
      "\u001b[32m[I 2023-01-29 04:49:07,135]\u001b[0m Trial 92 finished with value: 9.624257486007242 and parameters: {'max_depth': 7, 'learning_rate': 0.031958417793146565, 'n_estimators': 104, 'min_child_weight': 10, 'gamma': 0.0014928237196655053, 'subsample': 0.3060870692294573, 'colsample_bytree': 0.6719344210991728}. Best is trial 62 with value: 9.554965018421754.\u001b[0m\n"
     ]
    },
    {
     "name": "stdout",
     "output_type": "stream",
     "text": [
      "RMSE:  9.624257486007242\n",
      "MAE:  6.483861845345906\n"
     ]
    },
    {
     "name": "stderr",
     "output_type": "stream",
     "text": [
      "\u001b[32m[I 2023-01-29 04:56:18,327]\u001b[0m Trial 93 finished with value: 9.689230917051622 and parameters: {'max_depth': 7, 'learning_rate': 0.031528859655984946, 'n_estimators': 108, 'min_child_weight': 10, 'gamma': 0.0014683955452378923, 'subsample': 0.3883458337799263, 'colsample_bytree': 0.4822335736065176}. Best is trial 62 with value: 9.554965018421754.\u001b[0m\n"
     ]
    },
    {
     "name": "stdout",
     "output_type": "stream",
     "text": [
      "RMSE:  9.689230917051622\n",
      "MAE:  6.497807237359735\n"
     ]
    },
    {
     "name": "stderr",
     "output_type": "stream",
     "text": [
      "\u001b[32m[I 2023-01-29 05:03:27,162]\u001b[0m Trial 94 finished with value: 10.245314235881315 and parameters: {'max_depth': 8, 'learning_rate': 0.07903951606073475, 'n_estimators': 89, 'min_child_weight': 10, 'gamma': 0.0010029660733638366, 'subsample': 0.32922982953673485, 'colsample_bytree': 0.6252458463831428}. Best is trial 62 with value: 9.554965018421754.\u001b[0m\n"
     ]
    },
    {
     "name": "stdout",
     "output_type": "stream",
     "text": [
      "RMSE:  10.245314235881315\n",
      "MAE:  7.0456284630420924\n"
     ]
    },
    {
     "name": "stderr",
     "output_type": "stream",
     "text": [
      "\u001b[32m[I 2023-01-29 05:10:40,434]\u001b[0m Trial 95 finished with value: 9.537372315395281 and parameters: {'max_depth': 6, 'learning_rate': 0.036913753331443554, 'n_estimators': 78, 'min_child_weight': 9, 'gamma': 0.005028609343446734, 'subsample': 0.4502511641537058, 'colsample_bytree': 0.7896638667769094}. Best is trial 95 with value: 9.537372315395281.\u001b[0m\n"
     ]
    },
    {
     "name": "stdout",
     "output_type": "stream",
     "text": [
      "RMSE:  9.537372315395281\n",
      "MAE:  6.389611987380294\n"
     ]
    },
    {
     "name": "stderr",
     "output_type": "stream",
     "text": [
      "\u001b[32m[I 2023-01-29 05:17:00,026]\u001b[0m Trial 96 finished with value: 9.558255958628411 and parameters: {'max_depth': 5, 'learning_rate': 0.036546589572341304, 'n_estimators': 79, 'min_child_weight': 9, 'gamma': 0.005190778641751925, 'subsample': 0.44809225216146586, 'colsample_bytree': 0.7999305581016337}. Best is trial 95 with value: 9.537372315395281.\u001b[0m\n"
     ]
    },
    {
     "name": "stdout",
     "output_type": "stream",
     "text": [
      "RMSE:  9.558255958628411\n",
      "MAE:  6.391176036931015\n"
     ]
    },
    {
     "name": "stderr",
     "output_type": "stream",
     "text": [
      "\u001b[32m[I 2023-01-29 05:23:29,108]\u001b[0m Trial 97 finished with value: 9.56031196304979 and parameters: {'max_depth': 5, 'learning_rate': 0.03522525817728024, 'n_estimators': 79, 'min_child_weight': 9, 'gamma': 0.005933088556807433, 'subsample': 0.47558964947806226, 'colsample_bytree': 0.80155697726602}. Best is trial 95 with value: 9.537372315395281.\u001b[0m\n"
     ]
    },
    {
     "name": "stdout",
     "output_type": "stream",
     "text": [
      "RMSE:  9.56031196304979\n",
      "MAE:  6.396480330898438\n"
     ]
    },
    {
     "name": "stderr",
     "output_type": "stream",
     "text": [
      "\u001b[32m[I 2023-01-29 05:30:08,255]\u001b[0m Trial 98 finished with value: 9.514506587280234 and parameters: {'max_depth': 5, 'learning_rate': 0.03501312736977673, 'n_estimators': 78, 'min_child_weight': 8, 'gamma': 0.00590507825523195, 'subsample': 0.577093202211148, 'colsample_bytree': 0.7936061869990182}. Best is trial 98 with value: 9.514506587280234.\u001b[0m\n"
     ]
    },
    {
     "name": "stdout",
     "output_type": "stream",
     "text": [
      "RMSE:  9.514506587280234\n",
      "MAE:  6.368616052546181\n"
     ]
    },
    {
     "name": "stderr",
     "output_type": "stream",
     "text": [
      "\u001b[32m[I 2023-01-29 05:37:17,743]\u001b[0m Trial 99 finished with value: 9.546704123037301 and parameters: {'max_depth': 5, 'learning_rate': 0.037449825978534045, 'n_estimators': 80, 'min_child_weight': 8, 'gamma': 0.005015010134387393, 'subsample': 0.8509051385770535, 'colsample_bytree': 0.8983441477768507}. Best is trial 98 with value: 9.514506587280234.\u001b[0m\n"
     ]
    },
    {
     "name": "stdout",
     "output_type": "stream",
     "text": [
      "RMSE:  9.546704123037301\n",
      "MAE:  6.409934523754371\n",
      "CPU times: total: 4d 6h 45min 41s\n",
      "Wall time: 9h 26min 57s\n"
     ]
    }
   ],
   "source": [
    "%%time\n",
    "\n",
    "def objective(trial):\n",
    "    \n",
    "    params = {\n",
    "        'max_depth': trial.suggest_int('max_depth', 1, 9),\n",
    "        'learning_rate': trial.suggest_loguniform('learning_rate', 0.01, 1.0),\n",
    "        'n_estimators': trial.suggest_int('n_estimators', 10, 300),\n",
    "        'min_child_weight': trial.suggest_int('min_child_weight', 1, 10),\n",
    "        'gamma': trial.suggest_loguniform('gamma', 1e-5, 1.0),\n",
    "        'subsample': trial.suggest_loguniform('subsample', 0.01, 1.0),\n",
    "        'colsample_bytree': trial.suggest_loguniform('colsample_bytree', 0.01, 1.0),\n",
    "    }\n",
    "    \n",
    "    optuna_xgb_model = xgb.XGBRegressor(** params)\n",
    "    \n",
    "    trained_xgb_model = MultiOutputRegressor(optuna_xgb_model).fit(X_train , y_train)\n",
    "\n",
    "    prediction = trained_xgb_model.predict(X_test)\n",
    "\n",
    "    MSE = np.mean((prediction - y_test)**2)\n",
    "    RMSE = MSE**0.5\n",
    "    print('RMSE: ', RMSE)\n",
    "    MAE = np.mean(np.abs(prediction - y_test))\n",
    "    print('MAE: ', MAE)\n",
    "    \n",
    "    return RMSE\n",
    "\n",
    "study = optuna.create_study(direction='minimize')\n",
    "\n",
    "study.optimize(objective, n_trials = 100)\n",
    "\n",
    "trial = study.best_trial"
   ]
  },
  {
   "cell_type": "code",
   "execution_count": 8,
   "id": "ae46c3c1",
   "metadata": {},
   "outputs": [
    {
     "name": "stdout",
     "output_type": "stream",
     "text": [
      "    max_depth: 5\n",
      "    learning_rate: 0.03501312736977673\n",
      "    n_estimators: 78\n",
      "    min_child_weight: 8\n",
      "    gamma: 0.00590507825523195\n",
      "    subsample: 0.577093202211148\n",
      "    colsample_bytree: 0.7936061869990182\n"
     ]
    }
   ],
   "source": [
    "import joblib\n",
    "\n",
    "joblib.dump(study, \"optuna_studies/study_XGBOOST_230128_e4_7antes_1prediccion_cada6h.pkl\")\n",
    "for key, value in trial.params.items():\n",
    "    print('    {}: {}'.format(key, value))"
   ]
  }
 ],
 "metadata": {
  "kernelspec": {
   "display_name": "Python 3 (ipykernel)",
   "language": "python",
   "name": "python3"
  },
  "language_info": {
   "codemirror_mode": {
    "name": "ipython",
    "version": 3
   },
   "file_extension": ".py",
   "mimetype": "text/x-python",
   "name": "python",
   "nbconvert_exporter": "python",
   "pygments_lexer": "ipython3",
   "version": "3.8.5 (default, Sep  3 2020, 21:29:08) [MSC v.1916 64 bit (AMD64)]"
  },
  "vscode": {
   "interpreter": {
    "hash": "4e1faa792bacbae67199267b84e0032a5847eec8c781d8c9e3816631a80410b3"
   }
  }
 },
 "nbformat": 4,
 "nbformat_minor": 5
}
