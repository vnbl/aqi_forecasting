{
 "cells": [
  {
   "cell_type": "code",
   "execution_count": 3,
   "id": "b6f71554",
   "metadata": {},
   "outputs": [],
   "source": [
    "# Directories\n",
    "import os\n",
    "\n",
    "new_directory = r'c://Users//Fer//TESIS_ARCHIVOS//TESIS_AIRE//MP_Forecasting//aqi_forecasting//notebooks'\n",
    "os.chdir(new_directory)\n",
    "\n",
    "# Data Manipulation\n",
    "import pandas as pd # for data manipulation\n",
    "import numpy as np # for data manipulation\n",
    "\n",
    "\n",
    "# Training utils\n",
    "import utils_xgboost\n",
    "\n",
    "# Optuna\n",
    "import optuna\n",
    "\n",
    "# Tiempo\n",
    "import datetime as dt\n",
    "from dateutil.relativedelta import relativedelta, MO\n",
    "\n",
    "# Modelos\n",
    "from sklearn.linear_model import LinearRegression # for building a linear regression model\n",
    "from sklearn.svm import SVR # for building SVR model\n",
    "from sklearn.preprocessing import MinMaxScaler\n",
    "from sklearn.multioutput import MultiOutputRegressor\n",
    "import xgboost as xgb\n",
    "from sklearn.model_selection import train_test_split\n",
    "\n",
    "# Metricas\n",
    "from sklearn.metrics import mean_absolute_error #MAE\n",
    "from sklearn.metrics import mean_absolute_percentage_error #MAPE\n",
    "from sklearn.metrics import mean_squared_error #MSE, para RMSE: squared = False\n",
    "\n",
    "# Visualizations\n",
    "import plotly.graph_objects as go # for data visualization\n",
    "import plotly.express as px # for data visualization\n",
    "import matplotlib.pyplot as plt\n",
    "\n",
    "# Advertencias\n",
    "import warnings\n",
    "warnings.filterwarnings(\"ignore\")"
   ]
  },
  {
   "cell_type": "markdown",
   "id": "d8318785",
   "metadata": {},
   "source": [
    "# Cargamos los datos"
   ]
  },
  {
   "cell_type": "code",
   "execution_count": 4,
   "id": "4e10cfff",
   "metadata": {},
   "outputs": [],
   "source": [
    "datos = pd.read_csv('datos/230127_train_ESTACIONES.csv', parse_dates = ['FECHAHORA'])"
   ]
  },
  {
   "cell_type": "markdown",
   "id": "1b628b2d",
   "metadata": {},
   "source": [
    "# Variables de entrenamiento"
   ]
  },
  {
   "cell_type": "code",
   "execution_count": 5,
   "id": "0c4fefed",
   "metadata": {},
   "outputs": [],
   "source": [
    "estacion = 4\n",
    "\n",
    "variables = [\"ANHO\", 'DIA', 'MES', 'HORA', 'MINUTO', 'MP1', 'MP2_5', 'MP10', \n",
    "             'TEMPERATURA', 'HUMEDAD', 'PRESION', 'TEMPERATURA_PRONOSTICO', \n",
    "             'HUMEDAD_PRONOSTICO', 'PRESION_PRONOSTICO', 'DIA_SEM', 'TRAFICO' , 'AQI_MP10', 'AQI_MP2_5']\n",
    "\n",
    "dependent = ['AQI_MP2_5']\n",
    "\n",
    "number_of_features = len(variables)\n",
    "\n",
    "training_days = 7 \n",
    "forecast_days = 1 \n",
    "samples_per_day = 288\n",
    "step = 288/4\n",
    "\n",
    "# Creamos una variable que nos diga con cuantos meses de entrenamiento queremos contar para el X_train\n",
    "train_months = relativedelta(months = 12)\n",
    "\n",
    "input_samples = int(samples_per_day * training_days) # cantidad de muestras en 7 dias\n",
    "output_samples = int(samples_per_day * forecast_days) # cantidad de muestras en 1 dia\n",
    "train_test_samples = int(input_samples + output_samples) # cantidad de datos para el train_test\n",
    "\n"
   ]
  },
  {
   "cell_type": "markdown",
   "id": "e4522f11",
   "metadata": {},
   "source": [
    "# Procesamiento previo a entrenamiento"
   ]
  },
  {
   "cell_type": "code",
   "execution_count": 6,
   "id": "39768a98",
   "metadata": {},
   "outputs": [
    {
     "name": "stdout",
     "output_type": "stream",
     "text": [
      "CPU times: total: 17.7 s\n",
      "Wall time: 17.8 s\n"
     ]
    }
   ],
   "source": [
    "%%time\n",
    "\n",
    "X_train, y_train, X_test, y_test = utils_xgboost.get_everything(datos, \n",
    "                                                                estacion,\n",
    "                                                                train_months, \n",
    "                                                                variables, \n",
    "                                                                dependent, \n",
    "                                                                train_test_samples, \n",
    "                                                                input_samples, \n",
    "                                                                output_samples, \n",
    "                                                                number_of_features,\n",
    "                                                                step)"
   ]
  },
  {
   "cell_type": "code",
   "execution_count": 7,
   "id": "e317b253",
   "metadata": {},
   "outputs": [
    {
     "name": "stdout",
     "output_type": "stream",
     "text": [
      "(1433, 2033)\n",
      "(1433, 288)\n",
      "(333, 2033)\n",
      "(333, 288)\n"
     ]
    }
   ],
   "source": [
    "print(X_train.shape)\n",
    "print(y_train.shape)\n",
    "\n",
    "print(X_test.shape)\n",
    "print(y_test.shape)\n"
   ]
  },
  {
   "cell_type": "markdown",
   "id": "063c6aa9",
   "metadata": {},
   "source": [
    "# Prueba antes de usar optuna"
   ]
  },
  {
   "cell_type": "code",
   "execution_count": 8,
   "id": "73129f13",
   "metadata": {},
   "outputs": [
    {
     "name": "stdout",
     "output_type": "stream",
     "text": [
      "prediction (333, 288)\n",
      "test (333, 288)\n",
      "RMSE:  9.781115562652332\n",
      "MAE:  6.694983114898304\n",
      "CPU times: total: 1h 56min 35s\n",
      "Wall time: 10min 16s\n"
     ]
    }
   ],
   "source": [
    "%%time\n",
    "\n",
    "params = {'learning_rate' : 0.025,\n",
    "          'n_estimators' : 250,\n",
    "          'max_depth': 2,\n",
    "          'min_child_weight' : 1,\n",
    "          'gamma': 0.0,\n",
    "          'subsample': 0.98,\n",
    "          'colsample_bytree': 0.98,\n",
    "          'scale_pos_weight': 0.8,\n",
    "          'seed': 42,\n",
    "          'verbosity' : 0}\n",
    "\n",
    "\n",
    "xgb_model = xgb.XGBRegressor(** params)\n",
    "\n",
    "trained_xgb_model = MultiOutputRegressor(xgb_model).fit(X_train , y_train)\n",
    "\n",
    "prediction = trained_xgb_model.predict(X_test)\n",
    "print('prediction', prediction.shape)\n",
    "print('test', y_test.shape)\n",
    "\n",
    "MSE = np.mean((prediction - y_test)**2)\n",
    "print('RMSE: ', MSE**0.5)\n",
    "MAE = np.mean(np.abs(prediction-y_test))\n",
    "print('MAE: ', MAE)"
   ]
  },
  {
   "cell_type": "code",
   "execution_count": 8,
   "id": "2d22eb97",
   "metadata": {},
   "outputs": [
    {
     "name": "stderr",
     "output_type": "stream",
     "text": [
      "\u001b[32m[I 2023-02-19 17:23:11,368]\u001b[0m A new study created in memory with name: no-name-85115f8f-4ed0-4657-8f73-17b438165ed5\u001b[0m\n",
      "\u001b[32m[I 2023-02-19 17:25:54,828]\u001b[0m Trial 0 finished with value: 0.34230081238686033 and parameters: {'max_depth': 2, 'learning_rate': 0.4667027619890214, 'n_estimators': 65, 'min_child_weight': 3, 'gamma': 0.0025513651991129526, 'subsample': 0.7112199843708198, 'colsample_bytree': 0.7601960490661962}. Best is trial 0 with value: 0.34230081238686033.\u001b[0m\n"
     ]
    },
    {
     "name": "stdout",
     "output_type": "stream",
     "text": [
      "RMSE:  10.565794024252202\n",
      "MAE:  7.303961083456319\n"
     ]
    },
    {
     "name": "stderr",
     "output_type": "stream",
     "text": [
      "\u001b[32m[I 2023-02-19 17:32:16,152]\u001b[0m Trial 1 finished with value: 2.427105193363474 and parameters: {'max_depth': 5, 'learning_rate': 0.5248169860666795, 'n_estimators': 297, 'min_child_weight': 7, 'gamma': 0.002695356670957413, 'subsample': 0.11648149049499729, 'colsample_bytree': 0.024453640315587572}. Best is trial 0 with value: 0.34230081238686033.\u001b[0m\n"
     ]
    },
    {
     "name": "stdout",
     "output_type": "stream",
     "text": [
      "RMSE:  170.95876243071902\n",
      "MAE:  125.60573406030208\n"
     ]
    },
    {
     "name": "stderr",
     "output_type": "stream",
     "text": [
      "\u001b[32m[I 2023-02-19 17:33:42,154]\u001b[0m Trial 2 finished with value: 0.29091129700188245 and parameters: {'max_depth': 8, 'learning_rate': 0.08604309342796732, 'n_estimators': 47, 'min_child_weight': 10, 'gamma': 2.7095902920538166e-05, 'subsample': 0.2425498678354642, 'colsample_bytree': 0.0783788463871129}. Best is trial 2 with value: 0.29091129700188245.\u001b[0m\n"
     ]
    },
    {
     "name": "stdout",
     "output_type": "stream",
     "text": [
      "RMSE:  10.629605550898255\n",
      "MAE:  6.935146862133209\n"
     ]
    },
    {
     "name": "stderr",
     "output_type": "stream",
     "text": [
      "\u001b[32m[I 2023-02-19 17:35:55,616]\u001b[0m Trial 3 finished with value: 0.34253541608518534 and parameters: {'max_depth': 9, 'learning_rate': 0.030688439262024542, 'n_estimators': 74, 'min_child_weight': 5, 'gamma': 0.0022469969850155724, 'subsample': 0.010794452270440874, 'colsample_bytree': 0.8524255463372019}. Best is trial 2 with value: 0.29091129700188245.\u001b[0m\n"
     ]
    },
    {
     "name": "stdout",
     "output_type": "stream",
     "text": [
      "RMSE:  11.811307032212026\n",
      "MAE:  7.99258120195405\n"
     ]
    },
    {
     "name": "stderr",
     "output_type": "stream",
     "text": [
      "\u001b[32m[I 2023-02-19 17:40:10,516]\u001b[0m Trial 4 finished with value: 0.3260032723985126 and parameters: {'max_depth': 1, 'learning_rate': 0.21046383199649946, 'n_estimators': 218, 'min_child_weight': 3, 'gamma': 0.8596943007807074, 'subsample': 0.05940327256233498, 'colsample_bytree': 0.14029173115712373}. Best is trial 2 with value: 0.29091129700188245.\u001b[0m\n"
     ]
    },
    {
     "name": "stdout",
     "output_type": "stream",
     "text": [
      "RMSE:  10.890670372360525\n",
      "MAE:  7.745073310317689\n"
     ]
    },
    {
     "name": "stderr",
     "output_type": "stream",
     "text": [
      "\u001b[32m[I 2023-02-19 17:44:01,563]\u001b[0m Trial 5 finished with value: 0.2883655901753252 and parameters: {'max_depth': 1, 'learning_rate': 0.06833476671765364, 'n_estimators': 197, 'min_child_weight': 9, 'gamma': 0.010493120948836625, 'subsample': 0.5634805854303652, 'colsample_bytree': 0.05612875744917323}. Best is trial 5 with value: 0.2883655901753252.\u001b[0m\n"
     ]
    },
    {
     "name": "stdout",
     "output_type": "stream",
     "text": [
      "RMSE:  10.415179835704407\n",
      "MAE:  7.119993589751355\n"
     ]
    },
    {
     "name": "stderr",
     "output_type": "stream",
     "text": [
      "\u001b[32m[I 2023-02-19 17:47:05,291]\u001b[0m Trial 6 finished with value: 2.183905746968845 and parameters: {'max_depth': 8, 'learning_rate': 0.2628399112274444, 'n_estimators': 150, 'min_child_weight': 7, 'gamma': 0.0010846219199195555, 'subsample': 0.01835852028816384, 'colsample_bytree': 0.07401873983728212}. Best is trial 5 with value: 0.2883655901753252.\u001b[0m\n"
     ]
    },
    {
     "name": "stdout",
     "output_type": "stream",
     "text": [
      "RMSE:  17.468811864890153\n",
      "MAE:  13.150756839735545\n"
     ]
    },
    {
     "name": "stderr",
     "output_type": "stream",
     "text": [
      "\u001b[32m[I 2023-02-19 17:49:52,822]\u001b[0m Trial 7 finished with value: 0.3386105049476806 and parameters: {'max_depth': 9, 'learning_rate': 0.0178697008608974, 'n_estimators': 130, 'min_child_weight': 4, 'gamma': 0.0023982942204725344, 'subsample': 0.01948771486088247, 'colsample_bytree': 0.060859216049373374}. Best is trial 5 with value: 0.2883655901753252.\u001b[0m\n"
     ]
    },
    {
     "name": "stdout",
     "output_type": "stream",
     "text": [
      "RMSE:  11.639196642040845\n",
      "MAE:  7.554442432977217\n"
     ]
    },
    {
     "name": "stderr",
     "output_type": "stream",
     "text": [
      "\u001b[32m[I 2023-02-19 17:51:49,730]\u001b[0m Trial 8 finished with value: 0.31240010565462273 and parameters: {'max_depth': 2, 'learning_rate': 0.04339711988036762, 'n_estimators': 88, 'min_child_weight': 5, 'gamma': 0.0008425052635182995, 'subsample': 0.01561157299862346, 'colsample_bytree': 0.16171476696348774}. Best is trial 5 with value: 0.2883655901753252.\u001b[0m\n"
     ]
    },
    {
     "name": "stdout",
     "output_type": "stream",
     "text": [
      "RMSE:  11.219542023127914\n",
      "MAE:  7.7604571633292\n"
     ]
    },
    {
     "name": "stderr",
     "output_type": "stream",
     "text": [
      "\u001b[32m[I 2023-02-19 17:57:49,714]\u001b[0m Trial 9 finished with value: 0.5205154670956816 and parameters: {'max_depth': 7, 'learning_rate': 0.4881425541703023, 'n_estimators': 236, 'min_child_weight': 6, 'gamma': 0.0004878321221228408, 'subsample': 0.7487511157551846, 'colsample_bytree': 0.024051739480252788}. Best is trial 5 with value: 0.2883655901753252.\u001b[0m\n"
     ]
    },
    {
     "name": "stdout",
     "output_type": "stream",
     "text": [
      "RMSE:  14.658793921086213\n",
      "MAE:  10.1555892876712\n"
     ]
    },
    {
     "name": "stderr",
     "output_type": "stream",
     "text": [
      "\u001b[32m[I 2023-02-19 18:02:02,624]\u001b[0m Trial 10 finished with value: 0.3195077798320325 and parameters: {'max_depth': 4, 'learning_rate': 0.06625106343175624, 'n_estimators': 205, 'min_child_weight': 10, 'gamma': 0.17855656143051854, 'subsample': 0.27116412658515493, 'colsample_bytree': 0.011643125695342633}. Best is trial 5 with value: 0.2883655901753252.\u001b[0m\n"
     ]
    },
    {
     "name": "stdout",
     "output_type": "stream",
     "text": [
      "RMSE:  12.118726749224917\n",
      "MAE:  8.153651929732995\n"
     ]
    },
    {
     "name": "stderr",
     "output_type": "stream",
     "text": [
      "\u001b[32m[I 2023-02-19 18:03:17,225]\u001b[0m Trial 11 finished with value: 0.30090066161862405 and parameters: {'max_depth': 6, 'learning_rate': 0.1134116023967742, 'n_estimators': 38, 'min_child_weight': 10, 'gamma': 1.9916265072732895e-05, 'subsample': 0.3004901706179562, 'colsample_bytree': 0.04728150618851012}. Best is trial 5 with value: 0.2883655901753252.\u001b[0m\n"
     ]
    },
    {
     "name": "stdout",
     "output_type": "stream",
     "text": [
      "RMSE:  11.115186593897485\n",
      "MAE:  7.347688896261457\n"
     ]
    },
    {
     "name": "stderr",
     "output_type": "stream",
     "text": [
      "\u001b[32m[I 2023-02-19 18:03:53,291]\u001b[0m Trial 12 finished with value: 0.4574328291213049 and parameters: {'max_depth': 4, 'learning_rate': 0.10189516583112755, 'n_estimators': 12, 'min_child_weight': 9, 'gamma': 0.039715681120093944, 'subsample': 0.2754307797571317, 'colsample_bytree': 0.17884063826030558}. Best is trial 5 with value: 0.2883655901753252.\u001b[0m\n"
     ]
    },
    {
     "name": "stdout",
     "output_type": "stream",
     "text": [
      "RMSE:  12.326710750152975\n",
      "MAE:  8.20289998823478\n"
     ]
    },
    {
     "name": "stderr",
     "output_type": "stream",
     "text": [
      "\u001b[32m[I 2023-02-19 18:10:12,571]\u001b[0m Trial 13 finished with value: 0.333615667775949 and parameters: {'max_depth': 7, 'learning_rate': 0.010027258155371723, 'n_estimators': 181, 'min_child_weight': 8, 'gamma': 1.7285582097550254e-05, 'subsample': 0.0970510746328033, 'colsample_bytree': 0.3119112905601728}. Best is trial 5 with value: 0.2883655901753252.\u001b[0m\n"
     ]
    },
    {
     "name": "stdout",
     "output_type": "stream",
     "text": [
      "RMSE:  10.65015317604258\n",
      "MAE:  6.948375507159992\n"
     ]
    },
    {
     "name": "stderr",
     "output_type": "stream",
     "text": [
      "\u001b[32m[I 2023-02-19 18:15:37,227]\u001b[0m Trial 14 finished with value: 0.4560467054456555 and parameters: {'max_depth': 3, 'learning_rate': 0.18346798605872727, 'n_estimators': 257, 'min_child_weight': 1, 'gamma': 0.00013044186555503457, 'subsample': 0.44970887971182955, 'colsample_bytree': 0.03227704506980864}. Best is trial 5 with value: 0.2883655901753252.\u001b[0m\n"
     ]
    },
    {
     "name": "stdout",
     "output_type": "stream",
     "text": [
      "RMSE:  11.539296629244387\n",
      "MAE:  7.7339341313624645\n"
     ]
    },
    {
     "name": "stderr",
     "output_type": "stream",
     "text": [
      "\u001b[32m[I 2023-02-19 18:20:43,572]\u001b[0m Trial 15 finished with value: 0.2687001356081979 and parameters: {'max_depth': 6, 'learning_rate': 0.053161390543165585, 'n_estimators': 137, 'min_child_weight': 9, 'gamma': 0.01968966690949572, 'subsample': 0.134969226980579, 'colsample_bytree': 0.3304695911106523}. Best is trial 15 with value: 0.2687001356081979.\u001b[0m\n"
     ]
    },
    {
     "name": "stdout",
     "output_type": "stream",
     "text": [
      "RMSE:  10.047334113932619\n",
      "MAE:  6.917226346455139\n"
     ]
    },
    {
     "name": "stderr",
     "output_type": "stream",
     "text": [
      "\u001b[32m[I 2023-02-19 18:25:08,908]\u001b[0m Trial 16 finished with value: 0.28238835797197365 and parameters: {'max_depth': 5, 'learning_rate': 0.035029319654018135, 'n_estimators': 124, 'min_child_weight': 8, 'gamma': 0.012214839389019325, 'subsample': 0.04627419191453477, 'colsample_bytree': 0.3542296978994318}. Best is trial 15 with value: 0.2687001356081979.\u001b[0m\n"
     ]
    },
    {
     "name": "stdout",
     "output_type": "stream",
     "text": [
      "RMSE:  10.27234743205623\n",
      "MAE:  7.015956218118544\n"
     ]
    },
    {
     "name": "stderr",
     "output_type": "stream",
     "text": [
      "\u001b[32m[I 2023-02-19 18:28:44,500]\u001b[0m Trial 17 finished with value: 0.2827287362203188 and parameters: {'max_depth': 5, 'learning_rate': 0.02946197651737965, 'n_estimators': 121, 'min_child_weight': 8, 'gamma': 0.02188470135675066, 'subsample': 0.04441704780998755, 'colsample_bytree': 0.4079980351640924}. Best is trial 15 with value: 0.2687001356081979.\u001b[0m\n"
     ]
    },
    {
     "name": "stdout",
     "output_type": "stream",
     "text": [
      "RMSE:  10.214904203109057\n",
      "MAE:  6.953861586135509\n"
     ]
    },
    {
     "name": "stderr",
     "output_type": "stream",
     "text": [
      "\u001b[32m[I 2023-02-19 18:31:33,393]\u001b[0m Trial 18 finished with value: 0.4444374317901743 and parameters: {'max_depth': 6, 'learning_rate': 0.013905224753758914, 'n_estimators': 95, 'min_child_weight': 8, 'gamma': 0.08379322867511492, 'subsample': 0.035079188718996616, 'colsample_bytree': 0.3944814308317946}. Best is trial 15 with value: 0.2687001356081979.\u001b[0m\n"
     ]
    },
    {
     "name": "stdout",
     "output_type": "stream",
     "text": [
      "RMSE:  12.690253181399484\n",
      "MAE:  8.28853760849129\n"
     ]
    },
    {
     "name": "stderr",
     "output_type": "stream",
     "text": [
      "\u001b[32m[I 2023-02-19 18:37:06,397]\u001b[0m Trial 19 finished with value: 0.27275083143632173 and parameters: {'max_depth': 6, 'learning_rate': 0.04473820416272238, 'n_estimators': 169, 'min_child_weight': 7, 'gamma': 0.009029161482843108, 'subsample': 0.14509528999271393, 'colsample_bytree': 0.2647238234282075}. Best is trial 15 with value: 0.2687001356081979.\u001b[0m\n"
     ]
    },
    {
     "name": "stdout",
     "output_type": "stream",
     "text": [
      "RMSE:  10.166928666377766\n",
      "MAE:  6.97248104515973\n"
     ]
    },
    {
     "name": "stderr",
     "output_type": "stream",
     "text": [
      "\u001b[32m[I 2023-02-19 18:41:55,915]\u001b[0m Trial 20 finished with value: 0.27418370752499044 and parameters: {'max_depth': 6, 'learning_rate': 0.05062922003133806, 'n_estimators': 155, 'min_child_weight': 6, 'gamma': 0.00020893991085699657, 'subsample': 0.13772462125894902, 'colsample_bytree': 0.24173515933976583}. Best is trial 15 with value: 0.2687001356081979.\u001b[0m\n"
     ]
    },
    {
     "name": "stdout",
     "output_type": "stream",
     "text": [
      "RMSE:  10.270334596366427\n",
      "MAE:  6.9759471785994345\n"
     ]
    },
    {
     "name": "stderr",
     "output_type": "stream",
     "text": [
      "\u001b[32m[I 2023-02-19 18:47:22,260]\u001b[0m Trial 21 finished with value: 0.2770337839891675 and parameters: {'max_depth': 6, 'learning_rate': 0.05409396654165357, 'n_estimators': 169, 'min_child_weight': 6, 'gamma': 0.00023793397782414426, 'subsample': 0.13897355827941527, 'colsample_bytree': 0.24724795887438422}. Best is trial 15 with value: 0.2687001356081979.\u001b[0m\n"
     ]
    },
    {
     "name": "stdout",
     "output_type": "stream",
     "text": [
      "RMSE:  10.400975260510913\n",
      "MAE:  7.099889623167159\n"
     ]
    },
    {
     "name": "stderr",
     "output_type": "stream",
     "text": [
      "\u001b[32m[I 2023-02-19 18:55:22,128]\u001b[0m Trial 22 finished with value: 0.2707089872870153 and parameters: {'max_depth': 7, 'learning_rate': 0.04437177125000483, 'n_estimators': 155, 'min_child_weight': 7, 'gamma': 0.008287355525886856, 'subsample': 0.16663096087595958, 'colsample_bytree': 0.5642108015515083}. Best is trial 15 with value: 0.2687001356081979.\u001b[0m\n"
     ]
    },
    {
     "name": "stdout",
     "output_type": "stream",
     "text": [
      "RMSE:  10.042894111224335\n",
      "MAE:  6.9374202993270515\n"
     ]
    },
    {
     "name": "stderr",
     "output_type": "stream",
     "text": [
      "\u001b[32m[I 2023-02-19 19:02:14,076]\u001b[0m Trial 23 finished with value: 0.2738367876393409 and parameters: {'max_depth': 7, 'learning_rate': 0.021870479503411738, 'n_estimators': 141, 'min_child_weight': 7, 'gamma': 0.009242304122381445, 'subsample': 0.08523577829316863, 'colsample_bytree': 0.6728964571739361}. Best is trial 15 with value: 0.2687001356081979.\u001b[0m\n"
     ]
    },
    {
     "name": "stdout",
     "output_type": "stream",
     "text": [
      "RMSE:  9.59338828245608\n",
      "MAE:  6.5218584464566485\n"
     ]
    },
    {
     "name": "stderr",
     "output_type": "stream",
     "text": [
      "\u001b[32m[I 2023-02-19 19:12:06,711]\u001b[0m Trial 24 finished with value: 0.2663141406495859 and parameters: {'max_depth': 8, 'learning_rate': 0.024070824860073396, 'n_estimators': 179, 'min_child_weight': 9, 'gamma': 0.45101708841787447, 'subsample': 0.1867369448418417, 'colsample_bytree': 0.5590847069500311}. Best is trial 24 with value: 0.2663141406495859.\u001b[0m\n"
     ]
    },
    {
     "name": "stdout",
     "output_type": "stream",
     "text": [
      "RMSE:  9.675620600097353\n",
      "MAE:  6.610652321755071\n"
     ]
    },
    {
     "name": "stderr",
     "output_type": "stream",
     "text": [
      "\u001b[32m[I 2023-02-19 19:18:05,871]\u001b[0m Trial 25 finished with value: 0.2816424956166078 and parameters: {'max_depth': 8, 'learning_rate': 0.022251649055829294, 'n_estimators': 115, 'min_child_weight': 9, 'gamma': 0.8488627711929144, 'subsample': 0.1902369590713645, 'colsample_bytree': 0.49478747733602463}. Best is trial 24 with value: 0.2663141406495859.\u001b[0m\n"
     ]
    },
    {
     "name": "stdout",
     "output_type": "stream",
     "text": [
      "RMSE:  9.684426154986582\n",
      "MAE:  6.454836511939098\n"
     ]
    },
    {
     "name": "stderr",
     "output_type": "stream",
     "text": [
      "\u001b[32m[I 2023-02-19 19:28:11,448]\u001b[0m Trial 26 finished with value: 0.5947568084266742 and parameters: {'max_depth': 8, 'learning_rate': 0.13914592064776898, 'n_estimators': 246, 'min_child_weight': 9, 'gamma': 0.2782281263581241, 'subsample': 0.07474025394001062, 'colsample_bytree': 0.5468325005084929}. Best is trial 24 with value: 0.2663141406495859.\u001b[0m\n"
     ]
    },
    {
     "name": "stdout",
     "output_type": "stream",
     "text": [
      "RMSE:  12.366988955851044\n",
      "MAE:  8.930512615240172\n"
     ]
    },
    {
     "name": "stderr",
     "output_type": "stream",
     "text": [
      "\u001b[32m[I 2023-02-19 19:39:09,004]\u001b[0m Trial 27 finished with value: 0.3861264036095813 and parameters: {'max_depth': 7, 'learning_rate': 0.014164469308702295, 'n_estimators': 103, 'min_child_weight': 9, 'gamma': 0.06132641951899714, 'subsample': 0.3928562716716679, 'colsample_bytree': 0.952298545092216}. Best is trial 24 with value: 0.2663141406495859.\u001b[0m\n"
     ]
    },
    {
     "name": "stdout",
     "output_type": "stream",
     "text": [
      "RMSE:  10.79216045139434\n",
      "MAE:  7.316224251890882\n"
     ]
    },
    {
     "name": "stderr",
     "output_type": "stream",
     "text": [
      "\u001b[32m[I 2023-02-19 19:44:53,971]\u001b[0m Trial 28 finished with value: 1.0133918331845537 and parameters: {'max_depth': 9, 'learning_rate': 0.9371435797066663, 'n_estimators': 193, 'min_child_weight': 10, 'gamma': 0.24666231930294413, 'subsample': 0.21497321606907427, 'colsample_bytree': 0.11099342724221518}. Best is trial 24 with value: 0.2663141406495859.\u001b[0m\n"
     ]
    },
    {
     "name": "stdout",
     "output_type": "stream",
     "text": [
      "RMSE:  44017.85165063124\n",
      "MAE:  31650.618689352326\n"
     ]
    },
    {
     "name": "stderr",
     "output_type": "stream",
     "text": [
      "\u001b[32m[I 2023-02-19 20:03:59,686]\u001b[0m Trial 29 finished with value: 0.27266617487361755 and parameters: {'max_depth': 7, 'learning_rate': 0.026763656947994312, 'n_estimators': 172, 'min_child_weight': 1, 'gamma': 0.021523956851374777, 'subsample': 0.9853567166272226, 'colsample_bytree': 0.6635302242609041}. Best is trial 24 with value: 0.2663141406495859.\u001b[0m\n"
     ]
    },
    {
     "name": "stdout",
     "output_type": "stream",
     "text": [
      "RMSE:  10.106270773094684\n",
      "MAE:  6.776963595727264\n"
     ]
    },
    {
     "name": "stderr",
     "output_type": "stream",
     "text": [
      "\u001b[32m[I 2023-02-19 20:16:40,123]\u001b[0m Trial 30 finished with value: 0.283644537304618 and parameters: {'max_depth': 8, 'learning_rate': 0.0683142273896411, 'n_estimators': 222, 'min_child_weight': 8, 'gamma': 0.005265158709597062, 'subsample': 0.1732618265733997, 'colsample_bytree': 0.518217108636445}. Best is trial 24 with value: 0.2663141406495859.\u001b[0m\n"
     ]
    },
    {
     "name": "stdout",
     "output_type": "stream",
     "text": [
      "RMSE:  10.818459799303884\n",
      "MAE:  7.474694292839463\n"
     ]
    },
    {
     "name": "stderr",
     "output_type": "stream",
     "text": [
      "\u001b[32m[I 2023-02-19 20:36:14,519]\u001b[0m Trial 31 finished with value: 0.26994174769085116 and parameters: {'max_depth': 7, 'learning_rate': 0.02412008847141324, 'n_estimators': 173, 'min_child_weight': 1, 'gamma': 0.023196878332166212, 'subsample': 0.8333072029779688, 'colsample_bytree': 0.6993794788671064}. Best is trial 24 with value: 0.2663141406495859.\u001b[0m\n"
     ]
    },
    {
     "name": "stdout",
     "output_type": "stream",
     "text": [
      "RMSE:  9.887095737077235\n",
      "MAE:  6.636397076137351\n"
     ]
    },
    {
     "name": "stderr",
     "output_type": "stream",
     "text": [
      "\u001b[32m[I 2023-02-19 20:53:59,279]\u001b[0m Trial 32 finished with value: 0.2694591086996628 and parameters: {'max_depth': 7, 'learning_rate': 0.036641612266519415, 'n_estimators': 142, 'min_child_weight': 2, 'gamma': 0.07769045612808785, 'subsample': 0.37627128165185403, 'colsample_bytree': 0.9543846441700458}. Best is trial 24 with value: 0.2663141406495859.\u001b[0m\n"
     ]
    },
    {
     "name": "stdout",
     "output_type": "stream",
     "text": [
      "RMSE:  9.804167630930767\n",
      "MAE:  6.711216111132651\n"
     ]
    },
    {
     "name": "stderr",
     "output_type": "stream",
     "text": [
      "\u001b[32m[I 2023-02-19 21:37:01,910]\u001b[0m Trial 33 finished with value: 0.2666954356215988 and parameters: {'max_depth': 8, 'learning_rate': 0.01990924337760759, 'n_estimators': 292, 'min_child_weight': 2, 'gamma': 0.14282293980608815, 'subsample': 0.4025379046038056, 'colsample_bytree': 0.9898690463618713}. Best is trial 24 with value: 0.2663141406495859.\u001b[0m\n"
     ]
    },
    {
     "name": "stdout",
     "output_type": "stream",
     "text": [
      "RMSE:  9.824008476112777\n",
      "MAE:  6.708386778846398\n"
     ]
    },
    {
     "name": "stderr",
     "output_type": "stream",
     "text": [
      "\u001b[32m[I 2023-02-19 22:12:06,265]\u001b[0m Trial 34 finished with value: 0.26799315499439297 and parameters: {'max_depth': 9, 'learning_rate': 0.01597240310195437, 'n_estimators': 282, 'min_child_weight': 2, 'gamma': 0.4548186472271588, 'subsample': 0.40320477211848066, 'colsample_bytree': 0.7155958153933433}. Best is trial 24 with value: 0.2663141406495859.\u001b[0m\n"
     ]
    },
    {
     "name": "stdout",
     "output_type": "stream",
     "text": [
      "RMSE:  9.723469676197563\n",
      "MAE:  6.56825149926417\n"
     ]
    },
    {
     "name": "stderr",
     "output_type": "stream",
     "text": [
      "\u001b[32m[I 2023-02-19 22:53:55,859]\u001b[0m Trial 35 finished with value: 0.2743340848012184 and parameters: {'max_depth': 9, 'learning_rate': 0.010305449020071886, 'n_estimators': 300, 'min_child_weight': 3, 'gamma': 0.45999164952076754, 'subsample': 0.5016317072526214, 'colsample_bytree': 0.8150178140518849}. Best is trial 24 with value: 0.2663141406495859.\u001b[0m\n"
     ]
    },
    {
     "name": "stdout",
     "output_type": "stream",
     "text": [
      "RMSE:  9.575207754870506\n",
      "MAE:  6.401022303286377\n"
     ]
    },
    {
     "name": "stderr",
     "output_type": "stream",
     "text": [
      "\u001b[32m[I 2023-02-19 23:20:21,202]\u001b[0m Trial 36 finished with value: 0.2685230886189339 and parameters: {'max_depth': 9, 'learning_rate': 0.015967989819884336, 'n_estimators': 274, 'min_child_weight': 2, 'gamma': 0.13406116169452567, 'subsample': 0.569210975466453, 'colsample_bytree': 0.4477497439484533}. Best is trial 24 with value: 0.2663141406495859.\u001b[0m\n"
     ]
    },
    {
     "name": "stdout",
     "output_type": "stream",
     "text": [
      "RMSE:  9.843979114495369\n",
      "MAE:  6.540996998212896\n"
     ]
    },
    {
     "name": "stderr",
     "output_type": "stream",
     "text": [
      "\u001b[32m[I 2023-02-19 23:47:41,464]\u001b[0m Trial 37 finished with value: 0.2679181946717653 and parameters: {'max_depth': 9, 'learning_rate': 0.015995692882158033, 'n_estimators': 275, 'min_child_weight': 2, 'gamma': 0.1202403819041053, 'subsample': 0.5972495243366814, 'colsample_bytree': 0.44627313358518916}. Best is trial 24 with value: 0.2663141406495859.\u001b[0m\n"
     ]
    },
    {
     "name": "stdout",
     "output_type": "stream",
     "text": [
      "RMSE:  9.837148016547829\n",
      "MAE:  6.5264849821090065\n"
     ]
    },
    {
     "name": "stderr",
     "output_type": "stream",
     "text": [
      "\u001b[32m[I 2023-02-20 00:30:11,586]\u001b[0m Trial 38 finished with value: 0.26623943626277696 and parameters: {'max_depth': 8, 'learning_rate': 0.018531621694776464, 'n_estimators': 278, 'min_child_weight': 4, 'gamma': 0.4351640046928028, 'subsample': 0.6293446392336158, 'colsample_bytree': 0.9881489632976014}. Best is trial 38 with value: 0.26623943626277696.\u001b[0m\n"
     ]
    },
    {
     "name": "stdout",
     "output_type": "stream",
     "text": [
      "RMSE:  9.80176823864366\n",
      "MAE:  6.672764704347372\n"
     ]
    },
    {
     "name": "stderr",
     "output_type": "stream",
     "text": [
      "\u001b[32m[I 2023-02-20 01:12:43,838]\u001b[0m Trial 39 finished with value: 0.2690954986910858 and parameters: {'max_depth': 8, 'learning_rate': 0.012294170207892226, 'n_estimators': 275, 'min_child_weight': 4, 'gamma': 0.4281434490863589, 'subsample': 0.6499670133942568, 'colsample_bytree': 0.9796034186284049}. Best is trial 38 with value: 0.26623943626277696.\u001b[0m\n"
     ]
    },
    {
     "name": "stdout",
     "output_type": "stream",
     "text": [
      "RMSE:  9.581527525798368\n",
      "MAE:  6.44970663043263\n"
     ]
    },
    {
     "name": "stderr",
     "output_type": "stream",
     "text": [
      "\u001b[32m[I 2023-02-20 01:23:05,280]\u001b[0m Trial 40 finished with value: 0.27411621632353755 and parameters: {'max_depth': 8, 'learning_rate': 0.017736491595063412, 'n_estimators': 250, 'min_child_weight': 4, 'gamma': 0.7511718511658478, 'subsample': 0.3274029432715434, 'colsample_bytree': 0.19416350447957975}. Best is trial 38 with value: 0.26623943626277696.\u001b[0m\n"
     ]
    },
    {
     "name": "stdout",
     "output_type": "stream",
     "text": [
      "RMSE:  10.286189334563012\n",
      "MAE:  6.691686369655209\n"
     ]
    },
    {
     "name": "stderr",
     "output_type": "stream",
     "text": [
      "\u001b[32m[I 2023-02-20 01:58:15,625]\u001b[0m Trial 41 finished with value: 0.26738372073279015 and parameters: {'max_depth': 9, 'learning_rate': 0.019354241859887787, 'n_estimators': 278, 'min_child_weight': 2, 'gamma': 0.4157356609061631, 'subsample': 0.4204538887486953, 'colsample_bytree': 0.7292271762990324}. Best is trial 38 with value: 0.26623943626277696.\u001b[0m\n"
     ]
    },
    {
     "name": "stdout",
     "output_type": "stream",
     "text": [
      "RMSE:  9.817172765432039\n",
      "MAE:  6.671566370741641\n",
      "RMSE:  9.902451367997912\n",
      "MAE:  6.681333180093093\n"
     ]
    },
    {
     "name": "stderr",
     "output_type": "stream",
     "text": [
      "\u001b[32m[I 2023-02-20 02:32:39,771]\u001b[0m Trial 42 finished with value: 0.2665570460968485 and parameters: {'max_depth': 9, 'learning_rate': 0.020852259811809586, 'n_estimators': 290, 'min_child_weight': 3, 'gamma': 0.13755169637802747, 'subsample': 0.6384411453839702, 'colsample_bytree': 0.6107776476491213}. Best is trial 38 with value: 0.26623943626277696.\u001b[0m\n",
      "\u001b[32m[I 2023-02-20 03:11:50,562]\u001b[0m Trial 43 finished with value: 0.26773814412414443 and parameters: {'max_depth': 8, 'learning_rate': 0.020708165066240007, 'n_estimators': 285, 'min_child_weight': 3, 'gamma': 0.22091146559119504, 'subsample': 0.8315406226502677, 'colsample_bytree': 0.8049472277220113}. Best is trial 38 with value: 0.26623943626277696.\u001b[0m\n"
     ]
    },
    {
     "name": "stdout",
     "output_type": "stream",
     "text": [
      "RMSE:  9.849309862743585\n",
      "MAE:  6.6843788845761045\n"
     ]
    },
    {
     "name": "stderr",
     "output_type": "stream",
     "text": [
      "\u001b[32m[I 2023-02-20 03:32:35,649]\u001b[0m Trial 44 finished with value: 0.2720449686283868 and parameters: {'max_depth': 9, 'learning_rate': 0.033520876130086634, 'n_estimators': 260, 'min_child_weight': 3, 'gamma': 0.04519911301873939, 'subsample': 0.2338933118181635, 'colsample_bytree': 0.605940430116991}. Best is trial 38 with value: 0.26623943626277696.\u001b[0m\n"
     ]
    },
    {
     "name": "stdout",
     "output_type": "stream",
     "text": [
      "RMSE:  10.190561791494238\n",
      "MAE:  7.032550704893884\n"
     ]
    },
    {
     "name": "stderr",
     "output_type": "stream",
     "text": [
      "\u001b[32m[I 2023-02-20 04:11:21,018]\u001b[0m Trial 45 finished with value: 0.2681061270203957 and parameters: {'max_depth': 9, 'learning_rate': 0.012150572916387006, 'n_estimators': 291, 'min_child_weight': 5, 'gamma': 0.317181115943287, 'subsample': 0.5090803812791432, 'colsample_bytree': 0.8078139300663479}. Best is trial 38 with value: 0.26623943626277696.\u001b[0m\n"
     ]
    },
    {
     "name": "stdout",
     "output_type": "stream",
     "text": [
      "RMSE:  9.576609871988953\n",
      "MAE:  6.455299863536476\n"
     ]
    },
    {
     "name": "stderr",
     "output_type": "stream",
     "text": [
      "\u001b[32m[I 2023-02-20 04:38:19,573]\u001b[0m Trial 46 finished with value: 0.26617267233379377 and parameters: {'max_depth': 8, 'learning_rate': 0.020060522882646873, 'n_estimators': 233, 'min_child_weight': 4, 'gamma': 0.9312850777463808, 'subsample': 0.33518290797105704, 'colsample_bytree': 0.9683784342283194}. Best is trial 46 with value: 0.26617267233379377.\u001b[0m\n"
     ]
    },
    {
     "name": "stdout",
     "output_type": "stream",
     "text": [
      "RMSE:  9.705343011991241\n",
      "MAE:  6.651285161221668\n"
     ]
    },
    {
     "name": "stderr",
     "output_type": "stream",
     "text": [
      "\u001b[32m[I 2023-02-20 05:04:34,960]\u001b[0m Trial 47 finished with value: 0.26731800041005793 and parameters: {'max_depth': 8, 'learning_rate': 0.025379482376523484, 'n_estimators': 229, 'min_child_weight': 4, 'gamma': 0.8636499777709407, 'subsample': 0.3304847242070425, 'colsample_bytree': 0.9563963308251054}. Best is trial 46 with value: 0.26617267233379377.\u001b[0m\n"
     ]
    },
    {
     "name": "stdout",
     "output_type": "stream",
     "text": [
      "RMSE:  9.868742796037845\n",
      "MAE:  6.80323901595495\n"
     ]
    },
    {
     "name": "stderr",
     "output_type": "stream",
     "text": [
      "\u001b[32m[I 2023-02-20 05:10:00,735]\u001b[0m Trial 48 finished with value: 0.3220415022474039 and parameters: {'max_depth': 8, 'learning_rate': 0.02984745297298273, 'n_estimators': 206, 'min_child_weight': 4, 'gamma': 0.14861972044737226, 'subsample': 0.714751613330112, 'colsample_bytree': 0.015470905408448641}. Best is trial 46 with value: 0.26617267233379377.\u001b[0m\n"
     ]
    },
    {
     "name": "stdout",
     "output_type": "stream",
     "text": [
      "RMSE:  12.257050829234775\n",
      "MAE:  8.205734705891178\n"
     ]
    },
    {
     "name": "stderr",
     "output_type": "stream",
     "text": [
      "\u001b[32m[I 2023-02-20 05:29:51,548]\u001b[0m Trial 49 finished with value: 0.27033158077305347 and parameters: {'max_depth': 8, 'learning_rate': 0.03840525346689139, 'n_estimators': 260, 'min_child_weight': 5, 'gamma': 4.203826207916867e-05, 'subsample': 0.30006614912624774, 'colsample_bytree': 0.5880211128983456}. Best is trial 46 with value: 0.26617267233379377.\u001b[0m\n"
     ]
    },
    {
     "name": "stdout",
     "output_type": "stream",
     "text": [
      "RMSE:  10.24443636397577\n",
      "MAE:  7.040155146438797\n"
     ]
    },
    {
     "name": "stderr",
     "output_type": "stream",
     "text": [
      "\u001b[32m[I 2023-02-20 05:36:00,020]\u001b[0m Trial 50 finished with value: 0.2894804852376259 and parameters: {'max_depth': 4, 'learning_rate': 0.0828299341406801, 'n_estimators': 239, 'min_child_weight': 3, 'gamma': 0.5267591194061285, 'subsample': 0.254624250823576, 'colsample_bytree': 0.11243360454017766}. Best is trial 46 with value: 0.26617267233379377.\u001b[0m\n"
     ]
    },
    {
     "name": "stdout",
     "output_type": "stream",
     "text": [
      "RMSE:  11.16860781977915\n",
      "MAE:  7.397046650461865\n"
     ]
    },
    {
     "name": "stderr",
     "output_type": "stream",
     "text": [
      "\u001b[32m[I 2023-02-20 06:02:32,864]\u001b[0m Trial 51 finished with value: 0.2661098780883066 and parameters: {'max_depth': 8, 'learning_rate': 0.025743200495936397, 'n_estimators': 223, 'min_child_weight': 4, 'gamma': 0.9696922355205088, 'subsample': 0.33931007880976144, 'colsample_bytree': 0.9801804897262841}. Best is trial 51 with value: 0.2661098780883066.\u001b[0m\n"
     ]
    },
    {
     "name": "stdout",
     "output_type": "stream",
     "text": [
      "RMSE:  9.811697420038067\n",
      "MAE:  6.747108262023569\n"
     ]
    },
    {
     "name": "stderr",
     "output_type": "stream",
     "text": [
      "\u001b[32m[I 2023-02-20 06:46:05,829]\u001b[0m Trial 52 finished with value: 0.4270178318617799 and parameters: {'max_depth': 8, 'learning_rate': 0.38235317995090506, 'n_estimators': 300, 'min_child_weight': 4, 'gamma': 0.6394921258390365, 'subsample': 0.481340822676028, 'colsample_bytree': 0.98507020700663}. Best is trial 51 with value: 0.2661098780883066.\u001b[0m\n"
     ]
    },
    {
     "name": "stdout",
     "output_type": "stream",
     "text": [
      "RMSE:  12.00791494369126\n",
      "MAE:  8.32400896756924\n"
     ]
    },
    {
     "name": "stderr",
     "output_type": "stream",
     "text": [
      "\u001b[32m[I 2023-02-20 07:14:48,167]\u001b[0m Trial 53 finished with value: 0.2667390371670461 and parameters: {'max_depth': 8, 'learning_rate': 0.019614066419973753, 'n_estimators': 228, 'min_child_weight': 3, 'gamma': 0.9596340201451775, 'subsample': 0.6346607275610748, 'colsample_bytree': 0.7489854259810806}. Best is trial 51 with value: 0.2661098780883066.\u001b[0m\n"
     ]
    },
    {
     "name": "stdout",
     "output_type": "stream",
     "text": [
      "RMSE:  9.760306807668776\n",
      "MAE:  6.585364128918221\n"
     ]
    },
    {
     "name": "stderr",
     "output_type": "stream",
     "text": [
      "\u001b[32m[I 2023-02-20 07:23:04,584]\u001b[0m Trial 54 finished with value: 0.26575434484754334 and parameters: {'max_depth': 2, 'learning_rate': 0.028349222023717528, 'n_estimators': 208, 'min_child_weight': 5, 'gamma': 0.18930341701989498, 'subsample': 0.34476027066813236, 'colsample_bytree': 0.8467293705377646}. Best is trial 54 with value: 0.26575434484754334.\u001b[0m\n"
     ]
    },
    {
     "name": "stdout",
     "output_type": "stream",
     "text": [
      "RMSE:  9.689628837376306\n",
      "MAE:  6.605692750678923\n"
     ]
    },
    {
     "name": "stderr",
     "output_type": "stream",
     "text": [
      "\u001b[32m[I 2023-02-20 07:28:40,198]\u001b[0m Trial 55 finished with value: 0.26958652934318866 and parameters: {'max_depth': 2, 'learning_rate': 0.02759101532762779, 'n_estimators': 208, 'min_child_weight': 5, 'gamma': 0.2936147455872144, 'subsample': 0.20045338084308456, 'colsample_bytree': 0.37877274759633267}. Best is trial 54 with value: 0.26575434484754334.\u001b[0m\n"
     ]
    },
    {
     "name": "stdout",
     "output_type": "stream",
     "text": [
      "RMSE:  9.879235524993351\n",
      "MAE:  6.6600671722505504\n"
     ]
    },
    {
     "name": "stderr",
     "output_type": "stream",
     "text": [
      "\u001b[32m[I 2023-02-20 07:33:44,678]\u001b[0m Trial 56 finished with value: 0.31457468419555096 and parameters: {'max_depth': 1, 'learning_rate': 0.011945210083351178, 'n_estimators': 194, 'min_child_weight': 5, 'gamma': 0.08974141471928922, 'subsample': 0.9558453129624863, 'colsample_bytree': 0.6158188235508177}. Best is trial 54 with value: 0.26575434484754334.\u001b[0m\n"
     ]
    },
    {
     "name": "stdout",
     "output_type": "stream",
     "text": [
      "RMSE:  10.682833684492934\n",
      "MAE:  7.584194334976507\n"
     ]
    },
    {
     "name": "stderr",
     "output_type": "stream",
     "text": [
      "\u001b[32m[I 2023-02-20 07:39:58,709]\u001b[0m Trial 57 finished with value: 0.27080264402094595 and parameters: {'max_depth': 3, 'learning_rate': 0.03295654595506374, 'n_estimators': 214, 'min_child_weight': 6, 'gamma': 0.1873164640462762, 'subsample': 0.2546728236856018, 'colsample_bytree': 0.30545574642170703}. Best is trial 54 with value: 0.26575434484754334.\u001b[0m\n"
     ]
    },
    {
     "name": "stdout",
     "output_type": "stream",
     "text": [
      "RMSE:  10.086802364703304\n",
      "MAE:  6.819812510111628\n"
     ]
    },
    {
     "name": "stderr",
     "output_type": "stream",
     "text": [
      "\u001b[32m[I 2023-02-20 07:45:33,159]\u001b[0m Trial 58 finished with value: 0.27056144617430444 and parameters: {'max_depth': 3, 'learning_rate': 0.024029939437216284, 'n_estimators': 181, 'min_child_weight': 4, 'gamma': 0.0016697340017915307, 'subsample': 0.10996534037020445, 'colsample_bytree': 0.509800208924157}. Best is trial 54 with value: 0.26575434484754334.\u001b[0m\n"
     ]
    },
    {
     "name": "stdout",
     "output_type": "stream",
     "text": [
      "RMSE:  9.676258919225848\n",
      "MAE:  6.574582561457758\n"
     ]
    },
    {
     "name": "stderr",
     "output_type": "stream",
     "text": [
      "\u001b[32m[I 2023-02-20 07:59:18,913]\u001b[0m Trial 59 finished with value: 0.2722410518612554 and parameters: {'max_depth': 4, 'learning_rate': 0.059826877491779534, 'n_estimators': 238, 'min_child_weight': 5, 'gamma': 0.5398209150329037, 'subsample': 0.346012301810309, 'colsample_bytree': 0.8196315017370515}. Best is trial 54 with value: 0.26575434484754334.\u001b[0m\n"
     ]
    },
    {
     "name": "stdout",
     "output_type": "stream",
     "text": [
      "RMSE:  10.13302339652381\n",
      "MAE:  7.030204298294779\n"
     ]
    },
    {
     "name": "stderr",
     "output_type": "stream",
     "text": [
      "\u001b[32m[I 2023-02-20 08:11:41,086]\u001b[0m Trial 60 finished with value: 0.27073243521852947 and parameters: {'max_depth': 5, 'learning_rate': 0.03937483572826242, 'n_estimators': 268, 'min_child_weight': 4, 'gamma': 0.034079761065301244, 'subsample': 0.28607390751498624, 'colsample_bytree': 0.4788122314468587}. Best is trial 54 with value: 0.26575434484754334.\u001b[0m\n"
     ]
    },
    {
     "name": "stdout",
     "output_type": "stream",
     "text": [
      "RMSE:  10.146662125950435\n",
      "MAE:  6.980293398947369\n",
      "RMSE:  9.700676966545991\n",
      "MAE:  6.60709737478931\n"
     ]
    },
    {
     "name": "stderr",
     "output_type": "stream",
     "text": [
      "\u001b[32m[I 2023-02-20 08:39:11,105]\u001b[0m Trial 61 finished with value: 0.26628417469763677 and parameters: {'max_depth': 7, 'learning_rate': 0.017667072227838806, 'n_estimators': 247, 'min_child_weight': 3, 'gamma': 0.3465091078608245, 'subsample': 0.4335395101625183, 'colsample_bytree': 0.8501785043471506}. Best is trial 54 with value: 0.26575434484754334.\u001b[0m\n",
      "\u001b[32m[I 2023-02-20 08:46:53,772]\u001b[0m Trial 62 finished with value: 0.29320544564586426 and parameters: {'max_depth': 1, 'learning_rate': 0.014761917092867423, 'n_estimators': 252, 'min_child_weight': 3, 'gamma': 0.330975359892761, 'subsample': 0.522961896353577, 'colsample_bytree': 0.8446221986061755}. Best is trial 54 with value: 0.26575434484754334.\u001b[0m\n"
     ]
    },
    {
     "name": "stdout",
     "output_type": "stream",
     "text": [
      "RMSE:  10.178910254847171\n",
      "MAE:  7.293439050495604\n"
     ]
    },
    {
     "name": "stderr",
     "output_type": "stream",
     "text": [
      "\u001b[32m[I 2023-02-20 09:07:53,605]\u001b[0m Trial 63 finished with value: 0.26704451879350133 and parameters: {'max_depth': 7, 'learning_rate': 0.01737376528601328, 'n_estimators': 217, 'min_child_weight': 4, 'gamma': 0.6412629831349209, 'subsample': 0.7364415576825487, 'colsample_bytree': 0.6406403246346823}. Best is trial 54 with value: 0.26575434484754334.\u001b[0m\n"
     ]
    },
    {
     "name": "stdout",
     "output_type": "stream",
     "text": [
      "RMSE:  9.652356658172497\n",
      "MAE:  6.481767329611419\n"
     ]
    },
    {
     "name": "stderr",
     "output_type": "stream",
     "text": [
      "\u001b[32m[I 2023-02-20 09:14:13,169]\u001b[0m Trial 64 finished with value: 0.28570898434702174 and parameters: {'max_depth': 9, 'learning_rate': 0.02220386980043285, 'n_estimators': 185, 'min_child_weight': 5, 'gamma': 0.18971917917052014, 'subsample': 0.4458350676352199, 'colsample_bytree': 0.08439628228941867}. Best is trial 54 with value: 0.26575434484754334.\u001b[0m\n"
     ]
    },
    {
     "name": "stdout",
     "output_type": "stream",
     "text": [
      "RMSE:  10.653158947242558\n",
      "MAE:  6.897090800760346\n"
     ]
    },
    {
     "name": "stderr",
     "output_type": "stream",
     "text": [
      "\u001b[32m[I 2023-02-20 09:20:35,521]\u001b[0m Trial 65 finished with value: 0.2981662657788933 and parameters: {'max_depth': 7, 'learning_rate': 0.02796969518208161, 'n_estimators': 265, 'min_child_weight': 6, 'gamma': 0.09644200331344367, 'subsample': 0.22854289790068003, 'colsample_bytree': 0.03816016405395941}. Best is trial 54 with value: 0.26575434484754334.\u001b[0m\n"
     ]
    },
    {
     "name": "stdout",
     "output_type": "stream",
     "text": [
      "RMSE:  11.395186173516821\n",
      "MAE:  7.51388298926709\n"
     ]
    },
    {
     "name": "stderr",
     "output_type": "stream",
     "text": [
      "\u001b[32m[I 2023-02-20 09:27:57,414]\u001b[0m Trial 66 finished with value: 0.3152116762019869 and parameters: {'max_depth': 9, 'learning_rate': 0.013763376049086087, 'n_estimators': 241, 'min_child_weight': 3, 'gamma': 0.9153776117681056, 'subsample': 0.010591547748335805, 'colsample_bytree': 0.7079714385055167}. Best is trial 54 with value: 0.26575434484754334.\u001b[0m\n"
     ]
    },
    {
     "name": "stdout",
     "output_type": "stream",
     "text": [
      "RMSE:  11.188862058194276\n",
      "MAE:  7.78577039781355\n"
     ]
    },
    {
     "name": "stderr",
     "output_type": "stream",
     "text": [
      "\u001b[32m[I 2023-02-20 09:45:11,840]\u001b[0m Trial 67 finished with value: 0.26916466874733036 and parameters: {'max_depth': 7, 'learning_rate': 0.04611817165953365, 'n_estimators': 229, 'min_child_weight': 4, 'gamma': 0.05778900831407259, 'subsample': 0.35254560489347997, 'colsample_bytree': 0.6072569938441705}. Best is trial 54 with value: 0.26575434484754334.\u001b[0m\n"
     ]
    },
    {
     "name": "stdout",
     "output_type": "stream",
     "text": [
      "RMSE:  10.117957155478837\n",
      "MAE:  6.93303575658842\n",
      "RMSE:  9.872343101865662\n",
      "MAE:  6.83967897968667\n"
     ]
    },
    {
     "name": "stderr",
     "output_type": "stream",
     "text": [
      "\u001b[32m[I 2023-02-20 09:59:58,830]\u001b[0m Trial 68 finished with value: 0.266575229452782 and parameters: {'max_depth': 8, 'learning_rate': 0.030847938975787224, 'n_estimators': 195, 'min_child_weight': 6, 'gamma': 0.32417086752117436, 'subsample': 0.17288607832145098, 'colsample_bytree': 0.8311234669038237}. Best is trial 54 with value: 0.26575434484754334.\u001b[0m\n",
      "\u001b[32m[I 2023-02-20 10:01:25,206]\u001b[0m Trial 69 finished with value: 0.42659277068041557 and parameters: {'max_depth': 2, 'learning_rate': 0.02461954292956939, 'n_estimators': 54, 'min_child_weight': 3, 'gamma': 0.21695233450755755, 'subsample': 0.024722296635277422, 'colsample_bytree': 0.41786803014886087}. Best is trial 54 with value: 0.26575434484754334.\u001b[0m\n"
     ]
    },
    {
     "name": "stdout",
     "output_type": "stream",
     "text": [
      "RMSE:  12.655226080336732\n",
      "MAE:  8.218315738716004\n"
     ]
    },
    {
     "name": "stderr",
     "output_type": "stream",
     "text": [
      "\u001b[32m[I 2023-02-20 10:19:39,571]\u001b[0m Trial 70 finished with value: 0.2678461751697407 and parameters: {'max_depth': 8, 'learning_rate': 0.01738484225404685, 'n_estimators': 202, 'min_child_weight': 5, 'gamma': 0.6452027709600834, 'subsample': 0.5739394636075362, 'colsample_bytree': 0.5310365013806922}. Best is trial 54 with value: 0.26575434484754334.\u001b[0m\n"
     ]
    },
    {
     "name": "stdout",
     "output_type": "stream",
     "text": [
      "RMSE:  9.643461685530973\n",
      "MAE:  6.4451582363427855\n"
     ]
    },
    {
     "name": "stderr",
     "output_type": "stream",
     "text": [
      "\u001b[32m[I 2023-02-20 10:34:38,851]\u001b[0m Trial 71 finished with value: 0.26941459259689154 and parameters: {'max_depth': 8, 'learning_rate': 0.031480282155028294, 'n_estimators': 187, 'min_child_weight': 4, 'gamma': 0.3570140752291783, 'subsample': 0.17325088191569726, 'colsample_bytree': 0.8643376527554929}. Best is trial 54 with value: 0.26575434484754334.\u001b[0m\n"
     ]
    },
    {
     "name": "stdout",
     "output_type": "stream",
     "text": [
      "RMSE:  9.935314493730242\n",
      "MAE:  6.890119652932868\n"
     ]
    },
    {
     "name": "stderr",
     "output_type": "stream",
     "text": [
      "\u001b[32m[I 2023-02-20 10:45:00,971]\u001b[0m Trial 72 finished with value: 0.2687756897304478 and parameters: {'max_depth': 7, 'learning_rate': 0.021465421490575523, 'n_estimators': 164, 'min_child_weight': 6, 'gamma': 0.28095972170199407, 'subsample': 0.11766501524111264, 'colsample_bytree': 0.8592122823198636}. Best is trial 54 with value: 0.26575434484754334.\u001b[0m\n"
     ]
    },
    {
     "name": "stdout",
     "output_type": "stream",
     "text": [
      "RMSE:  9.529425337305588\n",
      "MAE:  6.536094986461662\n"
     ]
    },
    {
     "name": "stderr",
     "output_type": "stream",
     "text": [
      "\u001b[32m[I 2023-02-20 11:08:24,126]\u001b[0m Trial 73 finished with value: 0.2899263928635214 and parameters: {'max_depth': 8, 'learning_rate': 0.011014503790866086, 'n_estimators': 212, 'min_child_weight': 4, 'gamma': 0.5173404697926935, 'subsample': 0.4556257521531955, 'colsample_bytree': 0.7261784963629456}. Best is trial 54 with value: 0.26575434484754334.\u001b[0m\n"
     ]
    },
    {
     "name": "stdout",
     "output_type": "stream",
     "text": [
      "RMSE:  9.610715907176662\n",
      "MAE:  6.399328455681955\n"
     ]
    },
    {
     "name": "stderr",
     "output_type": "stream",
     "text": [
      "\u001b[32m[I 2023-02-20 11:18:47,300]\u001b[0m Trial 74 finished with value: 0.26884126873910985 and parameters: {'max_depth': 9, 'learning_rate': 0.026270529989671443, 'n_estimators': 222, 'min_child_weight': 7, 'gamma': 0.11751281440370441, 'subsample': 0.07184734225001158, 'colsample_bytree': 0.6623932365594711}. Best is trial 54 with value: 0.26575434484754334.\u001b[0m\n"
     ]
    },
    {
     "name": "stdout",
     "output_type": "stream",
     "text": [
      "RMSE:  9.71361868970115\n",
      "MAE:  6.835710821959787\n"
     ]
    },
    {
     "name": "stderr",
     "output_type": "stream",
     "text": [
      "\u001b[32m[I 2023-02-20 11:35:53,018]\u001b[0m Trial 75 finished with value: 0.2789920869293612 and parameters: {'max_depth': 6, 'learning_rate': 0.013618145231031751, 'n_estimators': 199, 'min_child_weight': 3, 'gamma': 0.383762009265963, 'subsample': 0.2986951459153084, 'colsample_bytree': 0.9020227717709667}. Best is trial 54 with value: 0.26575434484754334.\u001b[0m\n"
     ]
    },
    {
     "name": "stdout",
     "output_type": "stream",
     "text": [
      "RMSE:  9.556486949043641\n",
      "MAE:  6.433277927276927\n"
     ]
    },
    {
     "name": "stderr",
     "output_type": "stream",
     "text": [
      "\u001b[32m[I 2023-02-20 11:48:26,260]\u001b[0m Trial 76 finished with value: 0.2655705924923009 and parameters: {'max_depth': 8, 'learning_rate': 0.019257453311835867, 'n_estimators': 250, 'min_child_weight': 10, 'gamma': 0.18789243348003462, 'subsample': 0.15528643596094382, 'colsample_bytree': 0.5563002103025645}. Best is trial 76 with value: 0.2655705924923009.\u001b[0m\n"
     ]
    },
    {
     "name": "stdout",
     "output_type": "stream",
     "text": [
      "RMSE:  9.679114595021737\n",
      "MAE:  6.647493945655323\n"
     ]
    },
    {
     "name": "stderr",
     "output_type": "stream",
     "text": [
      "\u001b[32m[I 2023-02-20 11:58:33,210]\u001b[0m Trial 77 finished with value: 0.2667385050286987 and parameters: {'max_depth': 7, 'learning_rate': 0.018728808319767063, 'n_estimators': 247, 'min_child_weight': 10, 'gamma': 0.23137624079592686, 'subsample': 0.19844583755079043, 'colsample_bytree': 0.3584191052511467}. Best is trial 76 with value: 0.2655705924923009.\u001b[0m\n"
     ]
    },
    {
     "name": "stdout",
     "output_type": "stream",
     "text": [
      "RMSE:  9.78511406100809\n",
      "MAE:  6.620804449195937\n"
     ]
    },
    {
     "name": "stderr",
     "output_type": "stream",
     "text": [
      "\u001b[32m[I 2023-02-20 12:25:03,476]\u001b[0m Trial 78 finished with value: 0.2653416930577609 and parameters: {'max_depth': 9, 'learning_rate': 0.015590214069888694, 'n_estimators': 268, 'min_child_weight': 10, 'gamma': 0.16177823816315284, 'subsample': 0.8369938733336224, 'colsample_bytree': 0.5581318445137278}. Best is trial 78 with value: 0.2653416930577609.\u001b[0m\n"
     ]
    },
    {
     "name": "stdout",
     "output_type": "stream",
     "text": [
      "RMSE:  9.664712513412406\n",
      "MAE:  6.474139668144383\n"
     ]
    },
    {
     "name": "stderr",
     "output_type": "stream",
     "text": [
      "\u001b[32m[I 2023-02-20 12:39:00,336]\u001b[0m Trial 79 finished with value: 0.2677861171714618 and parameters: {'max_depth': 8, 'learning_rate': 0.015616989100845278, 'n_estimators': 253, 'min_child_weight': 10, 'gamma': 0.0611311962565959, 'subsample': 0.8062563795005261, 'colsample_bytree': 0.28135402034227475}. Best is trial 78 with value: 0.2653416930577609.\u001b[0m\n"
     ]
    },
    {
     "name": "stdout",
     "output_type": "stream",
     "text": [
      "RMSE:  9.7932782198556\n",
      "MAE:  6.455269828453675\n"
     ]
    },
    {
     "name": "stderr",
     "output_type": "stream",
     "text": [
      "\u001b[32m[I 2023-02-20 12:51:06,488]\u001b[0m Trial 80 finished with value: 0.2685747672178041 and parameters: {'max_depth': 9, 'learning_rate': 0.013095083490720208, 'n_estimators': 267, 'min_child_weight': 10, 'gamma': 0.9907884428306889, 'subsample': 0.1470048222461792, 'colsample_bytree': 0.452695671861497}. Best is trial 78 with value: 0.2653416930577609.\u001b[0m\n"
     ]
    },
    {
     "name": "stdout",
     "output_type": "stream",
     "text": [
      "RMSE:  9.628540517540776\n",
      "MAE:  6.460623918318096\n"
     ]
    },
    {
     "name": "stderr",
     "output_type": "stream",
     "text": [
      "\u001b[32m[I 2023-02-20 13:18:26,792]\u001b[0m Trial 81 finished with value: 0.2666198706453134 and parameters: {'max_depth': 9, 'learning_rate': 0.023583433421878786, 'n_estimators': 290, 'min_child_weight': 9, 'gamma': 0.13411919701624594, 'subsample': 0.8909592750994504, 'colsample_bytree': 0.5306118847517799}. Best is trial 78 with value: 0.2653416930577609.\u001b[0m\n"
     ]
    },
    {
     "name": "stdout",
     "output_type": "stream",
     "text": [
      "RMSE:  9.913041092293039\n",
      "MAE:  6.6557422253860405\n"
     ]
    },
    {
     "name": "stderr",
     "output_type": "stream",
     "text": [
      "\u001b[32m[I 2023-02-20 13:41:57,695]\u001b[0m Trial 82 finished with value: 0.26482565740230535 and parameters: {'max_depth': 9, 'learning_rate': 0.017097047593644107, 'n_estimators': 232, 'min_child_weight': 10, 'gamma': 0.17924693358953833, 'subsample': 0.6335028729347635, 'colsample_bytree': 0.5812986917695774}. Best is trial 82 with value: 0.26482565740230535.\u001b[0m\n"
     ]
    },
    {
     "name": "stdout",
     "output_type": "stream",
     "text": [
      "RMSE:  9.652060455410368\n",
      "MAE:  6.494436466305066\n"
     ]
    },
    {
     "name": "stderr",
     "output_type": "stream",
     "text": [
      "\u001b[32m[I 2023-02-20 13:53:09,991]\u001b[0m Trial 83 finished with value: 0.27057045082527204 and parameters: {'max_depth': 8, 'learning_rate': 0.018011923868700642, 'n_estimators': 235, 'min_child_weight': 10, 'gamma': 0.7105301481560079, 'subsample': 0.6926007447011131, 'colsample_bytree': 0.21304062121553974}. Best is trial 82 with value: 0.26482565740230535.\u001b[0m\n"
     ]
    },
    {
     "name": "stdout",
     "output_type": "stream",
     "text": [
      "RMSE:  10.07667613605044\n",
      "MAE:  6.605657156836521\n"
     ]
    },
    {
     "name": "stderr",
     "output_type": "stream",
     "text": [
      "\u001b[32m[I 2023-02-20 14:16:02,024]\u001b[0m Trial 84 finished with value: 0.27329819631662833 and parameters: {'max_depth': 9, 'learning_rate': 0.011351851151000514, 'n_estimators': 245, 'min_child_weight': 9, 'gamma': 0.17890499233794446, 'subsample': 0.3774862914595157, 'colsample_bytree': 0.7149017706069488}. Best is trial 82 with value: 0.26482565740230535.\u001b[0m\n"
     ]
    },
    {
     "name": "stdout",
     "output_type": "stream",
     "text": [
      "RMSE:  9.506269276025971\n",
      "MAE:  6.36717260731611\n"
     ]
    },
    {
     "name": "stderr",
     "output_type": "stream",
     "text": [
      "\u001b[32m[I 2023-02-20 14:31:58,161]\u001b[0m Trial 85 finished with value: 0.2662278403923901 and parameters: {'max_depth': 7, 'learning_rate': 0.015980919939776007, 'n_estimators': 222, 'min_child_weight': 10, 'gamma': 0.004408475492577111, 'subsample': 0.4172165451273749, 'colsample_bytree': 0.5439180875305424}. Best is trial 82 with value: 0.26482565740230535.\u001b[0m\n"
     ]
    },
    {
     "name": "stdout",
     "output_type": "stream",
     "text": [
      "RMSE:  9.659160378237646\n",
      "MAE:  6.460658371895999\n"
     ]
    },
    {
     "name": "stderr",
     "output_type": "stream",
     "text": [
      "\u001b[32m[I 2023-02-20 14:39:26,118]\u001b[0m Trial 86 finished with value: 0.27241459070132884 and parameters: {'max_depth': 5, 'learning_rate': 0.01521818401900377, 'n_estimators': 233, 'min_child_weight': 10, 'gamma': 0.0006710085082078624, 'subsample': 0.519021734153858, 'colsample_bytree': 0.16064855393332622}. Best is trial 82 with value: 0.26482565740230535.\u001b[0m\n"
     ]
    },
    {
     "name": "stdout",
     "output_type": "stream",
     "text": [
      "RMSE:  10.101815811802695\n",
      "MAE:  6.5700663822240974\n"
     ]
    },
    {
     "name": "stderr",
     "output_type": "stream",
     "text": [
      "\u001b[32m[I 2023-02-20 15:04:17,460]\u001b[0m Trial 87 finished with value: 0.2858470923148745 and parameters: {'max_depth': 7, 'learning_rate': 0.010368671281059777, 'n_estimators': 224, 'min_child_weight': 10, 'gamma': 0.016196565252875415, 'subsample': 0.42811242996400534, 'colsample_bytree': 0.9959157901572046}. Best is trial 82 with value: 0.26482565740230535.\u001b[0m\n"
     ]
    },
    {
     "name": "stdout",
     "output_type": "stream",
     "text": [
      "RMSE:  9.530059466109519\n",
      "MAE:  6.3971572707235955\n"
     ]
    },
    {
     "name": "stderr",
     "output_type": "stream",
     "text": [
      "\u001b[32m[I 2023-02-20 15:24:00,502]\u001b[0m Trial 88 finished with value: 0.26558434001783904 and parameters: {'max_depth': 9, 'learning_rate': 0.016964150769124095, 'n_estimators': 263, 'min_child_weight': 9, 'gamma': 0.0054917996554011824, 'subsample': 0.5527578166929042, 'colsample_bytree': 0.4074697558109593}. Best is trial 82 with value: 0.26482565740230535.\u001b[0m\n"
     ]
    },
    {
     "name": "stdout",
     "output_type": "stream",
     "text": [
      "RMSE:  9.808454625024124\n",
      "MAE:  6.552951727225298\n"
     ]
    },
    {
     "name": "stderr",
     "output_type": "stream",
     "text": [
      "\u001b[32m[I 2023-02-20 15:44:22,231]\u001b[0m Trial 89 finished with value: 0.28537290398554616 and parameters: {'max_depth': 9, 'learning_rate': 0.14731138663172094, 'n_estimators': 262, 'min_child_weight': 10, 'gamma': 0.00030388596175191964, 'subsample': 0.5715573732145796, 'colsample_bytree': 0.4198954474530515}. Best is trial 82 with value: 0.26482565740230535.\u001b[0m\n"
     ]
    },
    {
     "name": "stdout",
     "output_type": "stream",
     "text": [
      "RMSE:  10.891820870385626\n",
      "MAE:  7.358928451172244\n"
     ]
    },
    {
     "name": "stderr",
     "output_type": "stream",
     "text": [
      "\u001b[32m[I 2023-02-20 16:01:02,232]\u001b[0m Trial 90 finished with value: 0.271317043206748 and parameters: {'max_depth': 9, 'learning_rate': 0.012772097147849042, 'n_estimators': 254, 'min_child_weight': 9, 'gamma': 0.003810320659354147, 'subsample': 0.748541078366659, 'colsample_bytree': 0.3134252985956887}. Best is trial 82 with value: 0.26482565740230535.\u001b[0m\n"
     ]
    },
    {
     "name": "stdout",
     "output_type": "stream",
     "text": [
      "RMSE:  9.724147920941068\n",
      "MAE:  6.380902173650794\n"
     ]
    },
    {
     "name": "stderr",
     "output_type": "stream",
     "text": [
      "\u001b[32m[I 2023-02-20 16:20:02,464]\u001b[0m Trial 91 finished with value: 0.2654935364147606 and parameters: {'max_depth': 6, 'learning_rate': 0.018657854748956006, 'n_estimators': 271, 'min_child_weight': 10, 'gamma': 0.012163297254157237, 'subsample': 0.32793927421747054, 'colsample_bytree': 0.7487443760297664}. Best is trial 82 with value: 0.26482565740230535.\u001b[0m\n"
     ]
    },
    {
     "name": "stdout",
     "output_type": "stream",
     "text": [
      "RMSE:  9.773653167642868\n",
      "MAE:  6.680072617199686\n"
     ]
    },
    {
     "name": "stderr",
     "output_type": "stream",
     "text": [
      "\u001b[32m[I 2023-02-20 16:38:57,227]\u001b[0m Trial 92 finished with value: 0.2635610550252555 and parameters: {'max_depth': 6, 'learning_rate': 0.016170340622682584, 'n_estimators': 282, 'min_child_weight': 10, 'gamma': 0.006843610407559761, 'subsample': 0.3168966517747982, 'colsample_bytree': 0.6780093701705895}. Best is trial 92 with value: 0.2635610550252555.\u001b[0m\n"
     ]
    },
    {
     "name": "stdout",
     "output_type": "stream",
     "text": [
      "RMSE:  9.669652993872948\n",
      "MAE:  6.605907087121998\n"
     ]
    },
    {
     "name": "stderr",
     "output_type": "stream",
     "text": [
      "\u001b[32m[I 2023-02-20 16:52:55,232]\u001b[0m Trial 93 finished with value: 0.2642673477806905 and parameters: {'max_depth': 6, 'learning_rate': 0.015604169050535091, 'n_estimators': 271, 'min_child_weight': 10, 'gamma': 0.005160971042976501, 'subsample': 0.26663470663665756, 'colsample_bytree': 0.48180133101835426}. Best is trial 92 with value: 0.2635610550252555.\u001b[0m\n"
     ]
    },
    {
     "name": "stdout",
     "output_type": "stream",
     "text": [
      "RMSE:  9.665365271812762\n",
      "MAE:  6.537767694454453\n"
     ]
    },
    {
     "name": "stderr",
     "output_type": "stream",
     "text": [
      "\u001b[32m[I 2023-02-20 17:13:36,696]\u001b[0m Trial 94 finished with value: 0.26577670383481256 and parameters: {'max_depth': 6, 'learning_rate': 0.020243505690773315, 'n_estimators': 271, 'min_child_weight': 9, 'gamma': 0.007715243665668677, 'subsample': 0.32519510932486195, 'colsample_bytree': 0.7582546240587364}. Best is trial 92 with value: 0.2635610550252555.\u001b[0m\n"
     ]
    },
    {
     "name": "stdout",
     "output_type": "stream",
     "text": [
      "RMSE:  9.844778795252035\n",
      "MAE:  6.727619684941776\n"
     ]
    },
    {
     "name": "stderr",
     "output_type": "stream",
     "text": [
      "\u001b[32m[I 2023-02-20 17:27:21,050]\u001b[0m Trial 95 finished with value: 0.2653197520938253 and parameters: {'max_depth': 6, 'learning_rate': 0.014308162249427122, 'n_estimators': 269, 'min_child_weight': 9, 'gamma': 0.005614485793266784, 'subsample': 0.25198434414155224, 'colsample_bytree': 0.48555827999812856}. Best is trial 92 with value: 0.2635610550252555.\u001b[0m\n"
     ]
    },
    {
     "name": "stdout",
     "output_type": "stream",
     "text": [
      "RMSE:  9.620219899653721\n",
      "MAE:  6.493676066706886\n"
     ]
    },
    {
     "name": "stderr",
     "output_type": "stream",
     "text": [
      "\u001b[32m[I 2023-02-20 17:39:43,057]\u001b[0m Trial 96 finished with value: 0.2665050877029145 and parameters: {'max_depth': 6, 'learning_rate': 0.013965745388487577, 'n_estimators': 284, 'min_child_weight': 9, 'gamma': 0.006629796621199239, 'subsample': 0.2668348245642056, 'colsample_bytree': 0.3531827561106991}. Best is trial 92 with value: 0.2635610550252555.\u001b[0m\n"
     ]
    },
    {
     "name": "stdout",
     "output_type": "stream",
     "text": [
      "RMSE:  9.730544691084807\n",
      "MAE:  6.496150078407955\n"
     ]
    },
    {
     "name": "stderr",
     "output_type": "stream",
     "text": [
      "\u001b[32m[I 2023-02-20 17:53:12,257]\u001b[0m Trial 97 finished with value: 0.2660276802569822 and parameters: {'max_depth': 6, 'learning_rate': 0.016433809475435632, 'n_estimators': 268, 'min_child_weight': 8, 'gamma': 0.0016180512242850154, 'subsample': 0.23916755232695888, 'colsample_bytree': 0.4635399244354736}. Best is trial 92 with value: 0.2635610550252555.\u001b[0m\n"
     ]
    },
    {
     "name": "stdout",
     "output_type": "stream",
     "text": [
      "RMSE:  9.742903613138033\n",
      "MAE:  6.591258484058512\n"
     ]
    },
    {
     "name": "stderr",
     "output_type": "stream",
     "text": [
      "\u001b[32m[I 2023-02-20 18:06:31,659]\u001b[0m Trial 98 finished with value: 0.2661199216273335 and parameters: {'max_depth': 6, 'learning_rate': 0.014704734548187864, 'n_estimators': 274, 'min_child_weight': 9, 'gamma': 0.012117280349612087, 'subsample': 0.31772034177577196, 'colsample_bytree': 0.3892324290321974}. Best is trial 92 with value: 0.2635610550252555.\u001b[0m\n"
     ]
    },
    {
     "name": "stdout",
     "output_type": "stream",
     "text": [
      "RMSE:  9.767764487211041\n",
      "MAE:  6.528148721984358\n"
     ]
    },
    {
     "name": "stderr",
     "output_type": "stream",
     "text": [
      "\u001b[32m[I 2023-02-20 18:21:43,168]\u001b[0m Trial 99 finished with value: 0.2651530161383691 and parameters: {'max_depth': 5, 'learning_rate': 0.012053332670332297, 'n_estimators': 282, 'min_child_weight': 10, 'gamma': 0.002924028352944537, 'subsample': 0.2811131574108288, 'colsample_bytree': 0.5763151263051624}. Best is trial 92 with value: 0.2635610550252555.\u001b[0m\n"
     ]
    },
    {
     "name": "stdout",
     "output_type": "stream",
     "text": [
      "RMSE:  9.54610848417156\n",
      "MAE:  6.420640103799882\n",
      "CPU times: total: 11d 5h 34min 52s\n",
      "Wall time: 1d 58min 31s\n"
     ]
    }
   ],
   "source": [
    "%%time\n",
    "\n",
    "def objective(trial):\n",
    "    \n",
    "    params = {\n",
    "        'max_depth': trial.suggest_int('max_depth', 1, 9),\n",
    "        'learning_rate': trial.suggest_loguniform('learning_rate', 0.01, 1.0),\n",
    "        'n_estimators': trial.suggest_int('n_estimators', 10, 300),\n",
    "        'min_child_weight': trial.suggest_int('min_child_weight', 1, 10),\n",
    "        'gamma': trial.suggest_loguniform('gamma', 1e-5, 1.0),\n",
    "        'subsample': trial.suggest_loguniform('subsample', 0.01, 1.0),\n",
    "        'colsample_bytree': trial.suggest_loguniform('colsample_bytree', 0.01, 1.0),\n",
    "    }\n",
    "    \n",
    "    optuna_xgb_model = xgb.XGBRegressor(** params)\n",
    "    \n",
    "    trained_xgb_model = MultiOutputRegressor(optuna_xgb_model).fit(X_train , y_train)\n",
    "\n",
    "    prediction = trained_xgb_model.predict(X_test)\n",
    "\n",
    "    MSE = np.mean((prediction - y_test)**2)\n",
    "    RMSE = MSE**0.5\n",
    "    print('RMSE: ', RMSE)\n",
    "    MAE = np.mean(np.abs(prediction - y_test))\n",
    "    print('MAE: ', MAE)\n",
    "\n",
    "    MAPE = mean_absolute_percentage_error(prediction, y_test)\n",
    "    \n",
    "    return MAPE\n",
    "\n",
    "study = optuna.create_study(direction='minimize')\n",
    "\n",
    "study.optimize(objective, n_trials = 100)\n",
    "\n",
    "trial = study.best_trial"
   ]
  },
  {
   "cell_type": "code",
   "execution_count": 1,
   "id": "ae46c3c1",
   "metadata": {},
   "outputs": [
    {
     "ename": "NameError",
     "evalue": "name 'study' is not defined",
     "output_type": "error",
     "traceback": [
      "\u001b[1;31m---------------------------------------------------------------------------\u001b[0m",
      "\u001b[1;31mNameError\u001b[0m                                 Traceback (most recent call last)",
      "Cell \u001b[1;32mIn[1], line 3\u001b[0m\n\u001b[0;32m      1\u001b[0m \u001b[39mimport\u001b[39;00m \u001b[39mjoblib\u001b[39;00m\n\u001b[1;32m----> 3\u001b[0m joblib\u001b[39m.\u001b[39mdump(study, \u001b[39m\"\u001b[39m\u001b[39moptuna_studies/study_XGBOOST_230219_e4_7antes_1prediccion_cada6h_MAPE.pkl\u001b[39m\u001b[39m\"\u001b[39m)\n\u001b[0;32m      4\u001b[0m \u001b[39mfor\u001b[39;00m key, value \u001b[39min\u001b[39;00m trial\u001b[39m.\u001b[39mparams\u001b[39m.\u001b[39mitems():\n\u001b[0;32m      5\u001b[0m     \u001b[39mprint\u001b[39m(\u001b[39m'\u001b[39m\u001b[39m    \u001b[39m\u001b[39m{}\u001b[39;00m\u001b[39m: \u001b[39m\u001b[39m{}\u001b[39;00m\u001b[39m'\u001b[39m\u001b[39m.\u001b[39mformat(key, value))\n",
      "\u001b[1;31mNameError\u001b[0m: name 'study' is not defined"
     ]
    }
   ],
   "source": [
    "import joblib\n",
    "\n",
    "joblib.dump(study, \"optuna_studies/study_XGBOOST_230219_e4_7antes_1prediccion_cada6h_MAPE.pkl\")\n",
    "for key, value in trial.params.items():\n",
    "    print('    {}: {}'.format(key, value))"
   ]
  }
 ],
 "metadata": {
  "kernelspec": {
   "display_name": "Python 3 (ipykernel)",
   "language": "python",
   "name": "python3"
  },
  "language_info": {
   "codemirror_mode": {
    "name": "ipython",
    "version": 3
   },
   "file_extension": ".py",
   "mimetype": "text/x-python",
   "name": "python",
   "nbconvert_exporter": "python",
   "pygments_lexer": "ipython3",
   "version": "3.8.5"
  },
  "vscode": {
   "interpreter": {
    "hash": "4e1faa792bacbae67199267b84e0032a5847eec8c781d8c9e3816631a80410b3"
   }
  }
 },
 "nbformat": 4,
 "nbformat_minor": 5
}
