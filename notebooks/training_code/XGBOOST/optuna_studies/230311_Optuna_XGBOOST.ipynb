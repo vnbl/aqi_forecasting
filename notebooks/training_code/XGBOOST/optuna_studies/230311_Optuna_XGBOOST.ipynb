{
 "cells": [
  {
   "cell_type": "code",
   "execution_count": 1,
   "id": "b6f71554",
   "metadata": {},
   "outputs": [
    {
     "name": "stderr",
     "output_type": "stream",
     "text": [
      "c:\\Users\\Fer\\anaconda3\\lib\\site-packages\\xgboost\\compat.py:36: FutureWarning: pandas.Int64Index is deprecated and will be removed from pandas in a future version. Use pandas.Index with the appropriate dtype instead.\n",
      "  from pandas import MultiIndex, Int64Index\n"
     ]
    }
   ],
   "source": [
    "# Directories\n",
    "import os\n",
    "\n",
    "new_directory = r'c://Users//Fer//TESIS_ARCHIVOS//TESIS_AIRE//MP_Forecasting//aqi_forecasting//notebooks'\n",
    "os.chdir(new_directory)\n",
    "\n",
    "# Data Manipulation\n",
    "import pandas as pd # for data manipulation\n",
    "import numpy as np # for data manipulation\n",
    "\n",
    "\n",
    "# Training utils\n",
    "import utils_xgboost\n",
    "\n",
    "# Optuna\n",
    "import optuna\n",
    "\n",
    "# Tiempo\n",
    "import datetime as dt\n",
    "from dateutil.relativedelta import relativedelta, MO\n",
    "\n",
    "# Modelos\n",
    "from sklearn.linear_model import LinearRegression # for building a linear regression model\n",
    "from sklearn.svm import SVR # for building SVR model\n",
    "from sklearn.preprocessing import MinMaxScaler\n",
    "from sklearn.multioutput import MultiOutputRegressor\n",
    "import xgboost as xgb\n",
    "from sklearn.model_selection import train_test_split\n",
    "\n",
    "# Metricas\n",
    "from sklearn.metrics import mean_absolute_error #MAE\n",
    "from sklearn.metrics import mean_absolute_percentage_error #MAPE\n",
    "from sklearn.metrics import mean_squared_error #MSE, para RMSE: squared = False\n",
    "\n",
    "# Visualizations\n",
    "import plotly.graph_objects as go # for data visualization\n",
    "import plotly.express as px # for data visualization\n",
    "import matplotlib.pyplot as plt\n",
    "\n",
    "# Advertencias\n",
    "import warnings\n",
    "warnings.filterwarnings(\"ignore\")"
   ]
  },
  {
   "cell_type": "markdown",
   "id": "d8318785",
   "metadata": {},
   "source": [
    "# Cargamos los datos"
   ]
  },
  {
   "cell_type": "code",
   "execution_count": 2,
   "id": "4e10cfff",
   "metadata": {},
   "outputs": [],
   "source": [
    "datos = pd.read_csv('datos/230127_train_ESTACIONES.csv', parse_dates = ['FECHAHORA'])"
   ]
  },
  {
   "cell_type": "markdown",
   "id": "1b628b2d",
   "metadata": {},
   "source": [
    "# Variables de entrenamiento"
   ]
  },
  {
   "cell_type": "code",
   "execution_count": 5,
   "id": "0c4fefed",
   "metadata": {},
   "outputs": [],
   "source": [
    "estacion = 4\n",
    "\n",
    "variables = [\"ANHO\", 'DIA', 'MES', 'HORA', 'MINUTO', 'MP1', 'MP2_5', 'MP10', 'AQI_MP10', 'AQI_MP2_5']\n",
    "\n",
    "dependent = ['AQI_MP2_5']\n",
    "\n",
    "number_of_features = len(variables)\n",
    "\n",
    "training_days = 7 \n",
    "forecast_days = 1/2\n",
    "samples_per_day = 288\n",
    "step = 288/2\n",
    "\n",
    "# Creamos una variable que nos diga con cuantos meses de entrenamiento queremos contar para el X_train\n",
    "train_months = relativedelta(months = 12)\n",
    "\n",
    "input_samples = int(samples_per_day * training_days) # cantidad de muestras en 7 dias\n",
    "output_samples = int(samples_per_day * forecast_days) # cantidad de muestras en 1 dia\n",
    "train_test_samples = int(input_samples + output_samples) # cantidad de datos para el train_test\n",
    "\n"
   ]
  },
  {
   "cell_type": "markdown",
   "id": "e4522f11",
   "metadata": {},
   "source": [
    "# Procesamiento previo a entrenamiento"
   ]
  },
  {
   "cell_type": "code",
   "execution_count": 6,
   "id": "39768a98",
   "metadata": {},
   "outputs": [
    {
     "name": "stdout",
     "output_type": "stream",
     "text": [
      "CPU times: total: 13.5 s\n",
      "Wall time: 13.5 s\n"
     ]
    }
   ],
   "source": [
    "%%time\n",
    "\n",
    "X_train, y_train, X_test, y_test = utils_xgboost.get_everything(datos, \n",
    "                                                                estacion,\n",
    "                                                                train_months, \n",
    "                                                                variables, \n",
    "                                                                dependent, \n",
    "                                                                train_test_samples, \n",
    "                                                                input_samples, \n",
    "                                                                output_samples, \n",
    "                                                                number_of_features,\n",
    "                                                                step)"
   ]
  },
  {
   "cell_type": "code",
   "execution_count": 7,
   "id": "e317b253",
   "metadata": {},
   "outputs": [
    {
     "name": "stdout",
     "output_type": "stream",
     "text": [
      "(718, 2025)\n",
      "(718, 144)\n",
      "(168, 2025)\n",
      "(168, 144)\n"
     ]
    }
   ],
   "source": [
    "print(X_train.shape)\n",
    "print(y_train.shape)\n",
    "\n",
    "print(X_test.shape)\n",
    "print(y_test.shape)\n"
   ]
  },
  {
   "cell_type": "markdown",
   "id": "063c6aa9",
   "metadata": {},
   "source": [
    "# Prueba antes de usar optuna"
   ]
  },
  {
   "cell_type": "code",
   "execution_count": 8,
   "id": "73129f13",
   "metadata": {},
   "outputs": [
    {
     "name": "stdout",
     "output_type": "stream",
     "text": [
      "prediction (333, 288)\n",
      "test (333, 288)\n",
      "RMSE:  9.781115562652332\n",
      "MAE:  6.694983114898304\n",
      "CPU times: total: 1h 56min 35s\n",
      "Wall time: 10min 16s\n"
     ]
    }
   ],
   "source": [
    "%%time\n",
    "\n",
    "params = {'learning_rate' : 0.025,\n",
    "          'n_estimators' : 250,\n",
    "          'max_depth': 2,\n",
    "          'min_child_weight' : 1,\n",
    "          'gamma': 0.0,\n",
    "          'subsample': 0.98,\n",
    "          'colsample_bytree': 0.98,\n",
    "          'scale_pos_weight': 0.8,\n",
    "          'seed': 42,\n",
    "          'verbosity' : 0}\n",
    "\n",
    "\n",
    "xgb_model = xgb.XGBRegressor(** params)\n",
    "\n",
    "trained_xgb_model = MultiOutputRegressor(xgb_model).fit(X_train , y_train)\n",
    "\n",
    "prediction = trained_xgb_model.predict(X_test)\n",
    "print('prediction', prediction.shape)\n",
    "print('test', y_test.shape)\n",
    "\n",
    "MSE = np.mean((prediction - y_test)**2)\n",
    "print('RMSE: ', MSE**0.5)\n",
    "MAE = np.mean(np.abs(prediction-y_test))\n",
    "print('MAE: ', MAE)"
   ]
  },
  {
   "cell_type": "code",
   "execution_count": 8,
   "id": "2d22eb97",
   "metadata": {},
   "outputs": [
    {
     "name": "stderr",
     "output_type": "stream",
     "text": [
      "\u001b[32m[I 2023-03-11 17:50:28,960]\u001b[0m A new study created in memory with name: no-name-a6e92982-d8c2-4fe2-b574-99d8e48ae62d\u001b[0m\n",
      "\u001b[32m[I 2023-03-11 17:55:02,944]\u001b[0m Trial 0 finished with value: 0.23865354376066467 and parameters: {'max_depth': 8, 'learning_rate': 0.05502064924079962, 'n_estimators': 167, 'min_child_weight': 6, 'gamma': 3.107205484822773e-05, 'subsample': 0.6202468633537521, 'colsample_bytree': 0.011144371186766578}. Best is trial 0 with value: 0.23865354376066467.\u001b[0m\n"
     ]
    },
    {
     "name": "stdout",
     "output_type": "stream",
     "text": [
      "RMSE:  8.739763175424889\n",
      "MAE:  5.8051675093513\n"
     ]
    },
    {
     "name": "stderr",
     "output_type": "stream",
     "text": [
      "\u001b[32m[I 2023-03-11 17:55:46,101]\u001b[0m Trial 1 finished with value: 0.3048953077973896 and parameters: {'max_depth': 3, 'learning_rate': 0.15937450562023958, 'n_estimators': 31, 'min_child_weight': 4, 'gamma': 0.009304173655425414, 'subsample': 0.016813293222987014, 'colsample_bytree': 0.15113137936283447}. Best is trial 0 with value: 0.23865354376066467.\u001b[0m\n"
     ]
    },
    {
     "name": "stdout",
     "output_type": "stream",
     "text": [
      "RMSE:  10.43396125379585\n",
      "MAE:  7.527313955039496\n"
     ]
    },
    {
     "name": "stderr",
     "output_type": "stream",
     "text": [
      "\u001b[32m[I 2023-03-11 17:57:09,895]\u001b[0m Trial 2 finished with value: 2.0234424705420975 and parameters: {'max_depth': 2, 'learning_rate': 0.8216178147141048, 'n_estimators': 73, 'min_child_weight': 9, 'gamma': 0.00012593432242008764, 'subsample': 0.02002317979457144, 'colsample_bytree': 0.07880630686326365}. Best is trial 0 with value: 0.23865354376066467.\u001b[0m\n"
     ]
    },
    {
     "name": "stdout",
     "output_type": "stream",
     "text": [
      "RMSE:  14.460094226293274\n",
      "MAE:  11.305403844861155\n"
     ]
    },
    {
     "name": "stderr",
     "output_type": "stream",
     "text": [
      "\u001b[32m[I 2023-03-11 18:05:59,622]\u001b[0m Trial 3 finished with value: 0.18377655529612283 and parameters: {'max_depth': 4, 'learning_rate': 0.010758515959850867, 'n_estimators': 288, 'min_child_weight': 4, 'gamma': 0.22730201595324376, 'subsample': 0.6777958138259609, 'colsample_bytree': 0.3990417422832616}. Best is trial 3 with value: 0.18377655529612283.\u001b[0m\n"
     ]
    },
    {
     "name": "stdout",
     "output_type": "stream",
     "text": [
      "RMSE:  5.990636473513206\n",
      "MAE:  3.8613516018780136\n"
     ]
    },
    {
     "name": "stderr",
     "output_type": "stream",
     "text": [
      "\u001b[32m[I 2023-03-11 18:07:34,185]\u001b[0m Trial 4 finished with value: 0.4476095001747098 and parameters: {'max_depth': 3, 'learning_rate': 0.013758729489302537, 'n_estimators': 88, 'min_child_weight': 8, 'gamma': 0.06066686078320248, 'subsample': 0.16904370617081782, 'colsample_bytree': 0.03319465155370188}. Best is trial 3 with value: 0.18377655529612283.\u001b[0m\n"
     ]
    },
    {
     "name": "stdout",
     "output_type": "stream",
     "text": [
      "RMSE:  11.352434079692667\n",
      "MAE:  7.835197055603935\n"
     ]
    },
    {
     "name": "stderr",
     "output_type": "stream",
     "text": [
      "\u001b[32m[I 2023-03-11 18:10:09,435]\u001b[0m Trial 5 finished with value: 3.400910309819078 and parameters: {'max_depth': 7, 'learning_rate': 0.43350790378342174, 'n_estimators': 127, 'min_child_weight': 9, 'gamma': 0.001585245458861274, 'subsample': 0.08089450230167322, 'colsample_bytree': 0.1423753563409376}. Best is trial 3 with value: 0.18377655529612283.\u001b[0m\n"
     ]
    },
    {
     "name": "stdout",
     "output_type": "stream",
     "text": [
      "RMSE:  18.913396519402774\n",
      "MAE:  14.337461128256686\n"
     ]
    },
    {
     "name": "stderr",
     "output_type": "stream",
     "text": [
      "\u001b[32m[I 2023-03-11 18:13:06,267]\u001b[0m Trial 6 finished with value: 0.20757343118020036 and parameters: {'max_depth': 5, 'learning_rate': 0.042379894425382564, 'n_estimators': 118, 'min_child_weight': 4, 'gamma': 0.4248726249324887, 'subsample': 0.047842555797353435, 'colsample_bytree': 0.5097855809424127}. Best is trial 3 with value: 0.18377655529612283.\u001b[0m\n"
     ]
    },
    {
     "name": "stdout",
     "output_type": "stream",
     "text": [
      "RMSE:  6.9480629414099235\n",
      "MAE:  4.55868920729195\n"
     ]
    },
    {
     "name": "stderr",
     "output_type": "stream",
     "text": [
      "\u001b[32m[I 2023-03-11 18:15:15,623]\u001b[0m Trial 7 finished with value: 0.3618133164007673 and parameters: {'max_depth': 8, 'learning_rate': 0.1824084122004945, 'n_estimators': 216, 'min_child_weight': 9, 'gamma': 6.100382510720366e-05, 'subsample': 0.26652054321518825, 'colsample_bytree': 0.20647844811426783}. Best is trial 3 with value: 0.18377655529612283.\u001b[0m\n"
     ]
    },
    {
     "name": "stdout",
     "output_type": "stream",
     "text": [
      "RMSE:  7.135851416454669\n",
      "MAE:  4.884696333668356\n"
     ]
    },
    {
     "name": "stderr",
     "output_type": "stream",
     "text": [
      "\u001b[32m[I 2023-03-11 18:16:41,447]\u001b[0m Trial 8 finished with value: 0.2004017340532668 and parameters: {'max_depth': 8, 'learning_rate': 0.023993706046834314, 'n_estimators': 219, 'min_child_weight': 10, 'gamma': 0.46511469405181344, 'subsample': 0.17072083873809957, 'colsample_bytree': 0.03604783189024004}. Best is trial 3 with value: 0.18377655529612283.\u001b[0m\n"
     ]
    },
    {
     "name": "stdout",
     "output_type": "stream",
     "text": [
      "RMSE:  7.1324450446480085\n",
      "MAE:  4.551482527837078\n"
     ]
    },
    {
     "name": "stderr",
     "output_type": "stream",
     "text": [
      "\u001b[32m[I 2023-03-11 18:22:13,589]\u001b[0m Trial 9 finished with value: 0.2079667660939305 and parameters: {'max_depth': 9, 'learning_rate': 0.1062128612385626, 'n_estimators': 248, 'min_child_weight': 2, 'gamma': 5.5052271064618736e-05, 'subsample': 0.3274150320843164, 'colsample_bytree': 0.4873025507551885}. Best is trial 3 with value: 0.18377655529612283.\u001b[0m\n"
     ]
    },
    {
     "name": "stdout",
     "output_type": "stream",
     "text": [
      "RMSE:  6.081397551815668\n",
      "MAE:  3.9841678031355574\n"
     ]
    },
    {
     "name": "stderr",
     "output_type": "stream",
     "text": [
      "\u001b[32m[I 2023-03-11 18:30:31,112]\u001b[0m Trial 10 finished with value: 0.18914492991526666 and parameters: {'max_depth': 5, 'learning_rate': 0.010566104767364302, 'n_estimators': 300, 'min_child_weight': 2, 'gamma': 0.02557512086045695, 'subsample': 0.9716262245404607, 'colsample_bytree': 0.9011501498722435}. Best is trial 3 with value: 0.18377655529612283.\u001b[0m\n"
     ]
    },
    {
     "name": "stdout",
     "output_type": "stream",
     "text": [
      "RMSE:  6.030356353086866\n",
      "MAE:  3.8749978803985177\n"
     ]
    },
    {
     "name": "stderr",
     "output_type": "stream",
     "text": [
      "\u001b[32m[I 2023-03-11 18:39:33,345]\u001b[0m Trial 11 finished with value: 0.1919730901958554 and parameters: {'max_depth': 5, 'learning_rate': 0.010382352731563137, 'n_estimators': 298, 'min_child_weight': 2, 'gamma': 0.03279836498121457, 'subsample': 0.9260833195367288, 'colsample_bytree': 0.9908022397870594}. Best is trial 3 with value: 0.18377655529612283.\u001b[0m\n"
     ]
    },
    {
     "name": "stdout",
     "output_type": "stream",
     "text": [
      "RMSE:  6.087623213199594\n",
      "MAE:  3.9147277249801884\n"
     ]
    },
    {
     "name": "stderr",
     "output_type": "stream",
     "text": [
      "\u001b[32m[I 2023-03-11 18:45:04,982]\u001b[0m Trial 12 finished with value: 0.16897184763896586 and parameters: {'max_depth': 4, 'learning_rate': 0.022401268193184148, 'n_estimators': 283, 'min_child_weight': 1, 'gamma': 0.0014520911222952126, 'subsample': 0.5622275044538355, 'colsample_bytree': 0.8272756071746}. Best is trial 12 with value: 0.16897184763896586.\u001b[0m\n"
     ]
    },
    {
     "name": "stdout",
     "output_type": "stream",
     "text": [
      "RMSE:  5.634541844582967\n",
      "MAE:  3.6114749173047365\n"
     ]
    },
    {
     "name": "stderr",
     "output_type": "stream",
     "text": [
      "\u001b[32m[I 2023-03-11 18:46:46,002]\u001b[0m Trial 13 finished with value: 0.18785996060285298 and parameters: {'max_depth': 1, 'learning_rate': 0.031246449451318173, 'n_estimators': 261, 'min_child_weight': 1, 'gamma': 0.0008073221950043556, 'subsample': 0.4595406760101016, 'colsample_bytree': 0.34826516263452}. Best is trial 12 with value: 0.16897184763896586.\u001b[0m\n"
     ]
    },
    {
     "name": "stdout",
     "output_type": "stream",
     "text": [
      "RMSE:  6.225504980482872\n",
      "MAE:  4.182312665832421\n"
     ]
    },
    {
     "name": "stderr",
     "output_type": "stream",
     "text": [
      "\u001b[32m[I 2023-03-11 18:49:23,250]\u001b[0m Trial 14 finished with value: 0.16935138622493048 and parameters: {'max_depth': 4, 'learning_rate': 0.020164631812701634, 'n_estimators': 253, 'min_child_weight': 5, 'gamma': 0.00050379913597361, 'subsample': 0.5117471790924843, 'colsample_bytree': 0.30724647311032993}. Best is trial 12 with value: 0.16897184763896586.\u001b[0m\n"
     ]
    },
    {
     "name": "stdout",
     "output_type": "stream",
     "text": [
      "RMSE:  5.8392775172855576\n",
      "MAE:  3.6944685726372337\n"
     ]
    },
    {
     "name": "stderr",
     "output_type": "stream",
     "text": [
      "\u001b[32m[I 2023-03-11 18:51:12,898]\u001b[0m Trial 15 finished with value: 0.17998766437791686 and parameters: {'max_depth': 6, 'learning_rate': 0.021513777108019695, 'n_estimators': 188, 'min_child_weight': 6, 'gamma': 0.0004113338829478138, 'subsample': 0.21448232572433115, 'colsample_bytree': 0.2791066077894089}. Best is trial 12 with value: 0.16897184763896586.\u001b[0m\n"
     ]
    },
    {
     "name": "stdout",
     "output_type": "stream",
     "text": [
      "RMSE:  5.985647280538401\n",
      "MAE:  3.8301067490859952\n"
     ]
    },
    {
     "name": "stderr",
     "output_type": "stream",
     "text": [
      "\u001b[32m[I 2023-03-11 18:53:31,982]\u001b[0m Trial 16 finished with value: 0.20686899048268403 and parameters: {'max_depth': 3, 'learning_rate': 0.0667419564442455, 'n_estimators': 251, 'min_child_weight': 5, 'gamma': 0.004404222992276869, 'subsample': 0.0889513019567364, 'colsample_bytree': 0.701466006797327}. Best is trial 12 with value: 0.16897184763896586.\u001b[0m\n"
     ]
    },
    {
     "name": "stdout",
     "output_type": "stream",
     "text": [
      "RMSE:  6.1078021244027765\n",
      "MAE:  4.234805599973591\n"
     ]
    },
    {
     "name": "stderr",
     "output_type": "stream",
     "text": [
      "\u001b[32m[I 2023-03-11 18:54:55,604]\u001b[0m Trial 17 finished with value: 0.18022406720940662 and parameters: {'max_depth': 4, 'learning_rate': 0.018708241165521614, 'n_estimators': 205, 'min_child_weight': 7, 'gamma': 0.0003221191779362259, 'subsample': 0.3905413714129114, 'colsample_bytree': 0.08263673567054083}. Best is trial 12 with value: 0.16897184763896586.\u001b[0m\n"
     ]
    },
    {
     "name": "stdout",
     "output_type": "stream",
     "text": [
      "RMSE:  6.252024671079268\n",
      "MAE:  3.974423776365935\n"
     ]
    },
    {
     "name": "stderr",
     "output_type": "stream",
     "text": [
      "\u001b[32m[I 2023-03-11 18:56:22,345]\u001b[0m Trial 18 finished with value: 0.2376937549415896 and parameters: {'max_depth': 1, 'learning_rate': 0.03345661530868397, 'n_estimators': 259, 'min_child_weight': 1, 'gamma': 0.0029977475411978103, 'subsample': 0.031067707638261707, 'colsample_bytree': 0.2598614675046061}. Best is trial 12 with value: 0.16897184763896586.\u001b[0m\n"
     ]
    },
    {
     "name": "stdout",
     "output_type": "stream",
     "text": [
      "RMSE:  7.953162932164629\n",
      "MAE:  5.59964906089205\n"
     ]
    },
    {
     "name": "stderr",
     "output_type": "stream",
     "text": [
      "\u001b[32m[I 2023-03-11 18:58:22,392]\u001b[0m Trial 19 finished with value: 0.20610588539851477 and parameters: {'max_depth': 6, 'learning_rate': 0.08251686031580942, 'n_estimators': 154, 'min_child_weight': 3, 'gamma': 0.00019010586679775628, 'subsample': 0.1136694685884107, 'colsample_bytree': 0.5917023627161154}. Best is trial 12 with value: 0.16897184763896586.\u001b[0m\n"
     ]
    },
    {
     "name": "stdout",
     "output_type": "stream",
     "text": [
      "RMSE:  6.048718156415571\n",
      "MAE:  4.086706708681834\n"
     ]
    },
    {
     "name": "stderr",
     "output_type": "stream",
     "text": [
      "\u001b[32m[I 2023-03-11 19:00:15,373]\u001b[0m Trial 20 finished with value: 0.24873140413720188 and parameters: {'max_depth': 4, 'learning_rate': 0.2614619827231771, 'n_estimators': 231, 'min_child_weight': 5, 'gamma': 0.000994242934340957, 'subsample': 0.5274165181875285, 'colsample_bytree': 0.16296833730063373}. Best is trial 12 with value: 0.16897184763896586.\u001b[0m\n"
     ]
    },
    {
     "name": "stdout",
     "output_type": "stream",
     "text": [
      "RMSE:  7.090271373630593\n",
      "MAE:  4.543890927691276\n"
     ]
    },
    {
     "name": "stderr",
     "output_type": "stream",
     "text": [
      "\u001b[32m[I 2023-03-11 19:02:14,582]\u001b[0m Trial 21 finished with value: 0.1805431533303784 and parameters: {'max_depth': 6, 'learning_rate': 0.019612812987554833, 'n_estimators': 186, 'min_child_weight': 6, 'gamma': 0.0004546024354536056, 'subsample': 0.24610965983533656, 'colsample_bytree': 0.31903257369865035}. Best is trial 12 with value: 0.16897184763896586.\u001b[0m\n"
     ]
    },
    {
     "name": "stdout",
     "output_type": "stream",
     "text": [
      "RMSE:  5.935507256379606\n",
      "MAE:  3.839553354968312\n"
     ]
    },
    {
     "name": "stderr",
     "output_type": "stream",
     "text": [
      "\u001b[32m[I 2023-03-11 19:04:42,326]\u001b[0m Trial 22 finished with value: 0.17475846708361686 and parameters: {'max_depth': 6, 'learning_rate': 0.025653952619414493, 'n_estimators': 274, 'min_child_weight': 7, 'gamma': 1.546912797362997e-05, 'subsample': 0.20049875974965511, 'colsample_bytree': 0.2475566356150763}. Best is trial 12 with value: 0.16897184763896586.\u001b[0m\n"
     ]
    },
    {
     "name": "stdout",
     "output_type": "stream",
     "text": [
      "RMSE:  5.784765021633786\n",
      "MAE:  3.7429370461278175\n"
     ]
    },
    {
     "name": "stderr",
     "output_type": "stream",
     "text": [
      "\u001b[32m[I 2023-03-11 19:06:30,826]\u001b[0m Trial 23 finished with value: 0.1927372313796672 and parameters: {'max_depth': 5, 'learning_rate': 0.04073876460412327, 'n_estimators': 275, 'min_child_weight': 7, 'gamma': 1.0375965817052122e-05, 'subsample': 0.1325700216381843, 'colsample_bytree': 0.10620968491931618}. Best is trial 12 with value: 0.16897184763896586.\u001b[0m\n"
     ]
    },
    {
     "name": "stdout",
     "output_type": "stream",
     "text": [
      "RMSE:  6.1312744688798375\n",
      "MAE:  4.094509398968762\n"
     ]
    },
    {
     "name": "stderr",
     "output_type": "stream",
     "text": [
      "\u001b[32m[I 2023-03-11 19:11:55,103]\u001b[0m Trial 24 finished with value: 0.1712060042087094 and parameters: {'max_depth': 7, 'learning_rate': 0.028146768948586948, 'n_estimators': 277, 'min_child_weight': 7, 'gamma': 1.5216411752269826e-05, 'subsample': 0.35687261435950585, 'colsample_bytree': 0.641864941413919}. Best is trial 12 with value: 0.16897184763896586.\u001b[0m\n"
     ]
    },
    {
     "name": "stdout",
     "output_type": "stream",
     "text": [
      "RMSE:  5.48816488600786\n",
      "MAE:  3.5936468150565233\n"
     ]
    },
    {
     "name": "stderr",
     "output_type": "stream",
     "text": [
      "\u001b[32m[I 2023-03-11 19:16:39,785]\u001b[0m Trial 25 finished with value: 0.17872551772706152 and parameters: {'max_depth': 7, 'learning_rate': 0.01627197312585143, 'n_estimators': 235, 'min_child_weight': 8, 'gamma': 0.008453319161041485, 'subsample': 0.32859725291820363, 'colsample_bytree': 0.7455569646884405}. Best is trial 12 with value: 0.16897184763896586.\u001b[0m\n"
     ]
    },
    {
     "name": "stdout",
     "output_type": "stream",
     "text": [
      "RMSE:  5.6759220578207294\n",
      "MAE:  3.705206616352948\n"
     ]
    },
    {
     "name": "stderr",
     "output_type": "stream",
     "text": [
      "\u001b[32m[I 2023-03-11 19:19:13,015]\u001b[0m Trial 26 finished with value: 0.1672590087610086 and parameters: {'max_depth': 2, 'learning_rate': 0.058454168265833245, 'n_estimators': 277, 'min_child_weight': 3, 'gamma': 0.00012513384235883574, 'subsample': 0.6850029876304421, 'colsample_bytree': 0.5329536150355133}. Best is trial 26 with value: 0.1672590087610086.\u001b[0m\n"
     ]
    },
    {
     "name": "stdout",
     "output_type": "stream",
     "text": [
      "RMSE:  5.495740998186881\n",
      "MAE:  3.5844163306491086\n"
     ]
    },
    {
     "name": "stderr",
     "output_type": "stream",
     "text": [
      "\u001b[32m[I 2023-03-11 19:20:40,380]\u001b[0m Trial 27 finished with value: 0.3153584281763955 and parameters: {'max_depth': 2, 'learning_rate': 0.057737222032451026, 'n_estimators': 237, 'min_child_weight': 3, 'gamma': 0.00017919195192111752, 'subsample': 0.011005471168081864, 'colsample_bytree': 0.4113797406748197}. Best is trial 26 with value: 0.1672590087610086.\u001b[0m\n"
     ]
    },
    {
     "name": "stdout",
     "output_type": "stream",
     "text": [
      "RMSE:  10.49040223185581\n",
      "MAE:  7.6881291979638045\n"
     ]
    },
    {
     "name": "stderr",
     "output_type": "stream",
     "text": [
      "\u001b[32m[I 2023-03-11 19:23:04,775]\u001b[0m Trial 28 finished with value: 0.16836558827623446 and parameters: {'max_depth': 2, 'learning_rate': 0.04278172836120925, 'n_estimators': 198, 'min_child_weight': 3, 'gamma': 0.0019662312086821637, 'subsample': 0.7307559963715359, 'colsample_bytree': 0.9292550270087603}. Best is trial 26 with value: 0.1672590087610086.\u001b[0m\n"
     ]
    },
    {
     "name": "stdout",
     "output_type": "stream",
     "text": [
      "RMSE:  5.65850527656402\n",
      "MAE:  3.667644908070249\n"
     ]
    },
    {
     "name": "stderr",
     "output_type": "stream",
     "text": [
      "\u001b[32m[I 2023-03-11 19:24:04,635]\u001b[0m Trial 29 finished with value: 0.209454738739024 and parameters: {'max_depth': 2, 'learning_rate': 0.09951707089832716, 'n_estimators': 179, 'min_child_weight': 3, 'gamma': 0.0017653344622314973, 'subsample': 0.7223873933504439, 'colsample_bytree': 0.012179836485623905}. Best is trial 26 with value: 0.1672590087610086.\u001b[0m\n"
     ]
    },
    {
     "name": "stdout",
     "output_type": "stream",
     "text": [
      "RMSE:  7.028204888361817\n",
      "MAE:  4.761728299436746\n"
     ]
    },
    {
     "name": "stderr",
     "output_type": "stream",
     "text": [
      "\u001b[32m[I 2023-03-11 19:25:22,097]\u001b[0m Trial 30 finished with value: 0.18797192104254135 and parameters: {'max_depth': 1, 'learning_rate': 0.04865160551926548, 'n_estimators': 146, 'min_child_weight': 1, 'gamma': 7.611135339059065e-05, 'subsample': 0.715638874215148, 'colsample_bytree': 0.949722613920998}. Best is trial 26 with value: 0.1672590087610086.\u001b[0m\n"
     ]
    },
    {
     "name": "stdout",
     "output_type": "stream",
     "text": [
      "RMSE:  6.2227704632383665\n",
      "MAE:  4.177018201934597\n"
     ]
    },
    {
     "name": "stderr",
     "output_type": "stream",
     "text": [
      "\u001b[32m[I 2023-03-11 19:27:49,648]\u001b[0m Trial 31 finished with value: 0.170866631149874 and parameters: {'max_depth': 3, 'learning_rate': 0.06775132664194727, 'n_estimators': 208, 'min_child_weight': 3, 'gamma': 0.0007055773423758388, 'subsample': 0.528237910460222, 'colsample_bytree': 0.5468025243524989}. Best is trial 26 with value: 0.1672590087610086.\u001b[0m\n"
     ]
    },
    {
     "name": "stdout",
     "output_type": "stream",
     "text": [
      "RMSE:  5.6027261553563505\n",
      "MAE:  3.639460687274261\n"
     ]
    },
    {
     "name": "stderr",
     "output_type": "stream",
     "text": [
      "\u001b[32m[I 2023-03-11 19:30:37,425]\u001b[0m Trial 32 finished with value: 0.16851345120435027 and parameters: {'max_depth': 2, 'learning_rate': 0.033354253882609264, 'n_estimators': 268, 'min_child_weight': 5, 'gamma': 0.0014503816433595721, 'subsample': 0.8077416892335475, 'colsample_bytree': 0.7379656424459297}. Best is trial 26 with value: 0.1672590087610086.\u001b[0m\n"
     ]
    },
    {
     "name": "stdout",
     "output_type": "stream",
     "text": [
      "RMSE:  5.768090541722683\n",
      "MAE:  3.706892272112546\n"
     ]
    },
    {
     "name": "stderr",
     "output_type": "stream",
     "text": [
      "\u001b[32m[I 2023-03-11 19:33:37,119]\u001b[0m Trial 33 finished with value: 0.16667551561316735 and parameters: {'max_depth': 2, 'learning_rate': 0.036926703008863505, 'n_estimators': 279, 'min_child_weight': 2, 'gamma': 0.007916443805057008, 'subsample': 0.8545372011399259, 'colsample_bytree': 0.76808354005096}. Best is trial 33 with value: 0.16667551561316735.\u001b[0m\n"
     ]
    },
    {
     "name": "stdout",
     "output_type": "stream",
     "text": [
      "RMSE:  5.643061831305688\n",
      "MAE:  3.629103434602262\n"
     ]
    },
    {
     "name": "stderr",
     "output_type": "stream",
     "text": [
      "\u001b[32m[I 2023-03-11 19:35:53,509]\u001b[0m Trial 34 finished with value: 0.16826934505639649 and parameters: {'max_depth': 2, 'learning_rate': 0.03671887102013008, 'n_estimators': 261, 'min_child_weight': 4, 'gamma': 0.008449474139686062, 'subsample': 0.8674912592100696, 'colsample_bytree': 0.4871167740259803}. Best is trial 33 with value: 0.16667551561316735.\u001b[0m\n"
     ]
    },
    {
     "name": "stdout",
     "output_type": "stream",
     "text": [
      "RMSE:  5.668699256463656\n",
      "MAE:  3.6622366428808877\n"
     ]
    },
    {
     "name": "stderr",
     "output_type": "stream",
     "text": [
      "\u001b[32m[I 2023-03-11 19:36:27,005]\u001b[0m Trial 35 finished with value: 0.16886014033754337 and parameters: {'max_depth': 2, 'learning_rate': 0.14439468376288123, 'n_estimators': 57, 'min_child_weight': 4, 'gamma': 0.012520552580024172, 'subsample': 0.9988526237539276, 'colsample_bytree': 0.5052438382533155}. Best is trial 33 with value: 0.16667551561316735.\u001b[0m\n"
     ]
    },
    {
     "name": "stdout",
     "output_type": "stream",
     "text": [
      "RMSE:  5.71510247932598\n",
      "MAE:  3.6870894446259452\n"
     ]
    },
    {
     "name": "stderr",
     "output_type": "stream",
     "text": [
      "\u001b[32m[I 2023-03-11 19:38:12,428]\u001b[0m Trial 36 finished with value: 0.17994321190692997 and parameters: {'max_depth': 3, 'learning_rate': 0.04784625795801146, 'n_estimators': 289, 'min_child_weight': 2, 'gamma': 0.07888332525477751, 'subsample': 0.7138198135391055, 'colsample_bytree': 0.05022362153549239}. Best is trial 33 with value: 0.16667551561316735.\u001b[0m\n"
     ]
    },
    {
     "name": "stdout",
     "output_type": "stream",
     "text": [
      "RMSE:  6.041386705090606\n",
      "MAE:  3.9046987792447445\n"
     ]
    },
    {
     "name": "stderr",
     "output_type": "stream",
     "text": [
      "\u001b[32m[I 2023-03-11 19:39:42,162]\u001b[0m Trial 37 finished with value: 0.1765624268556455 and parameters: {'max_depth': 1, 'learning_rate': 0.08017971293959755, 'n_estimators': 226, 'min_child_weight': 4, 'gamma': 0.00610696281072177, 'subsample': 0.42427322686236, 'colsample_bytree': 0.4128014444815728}. Best is trial 33 with value: 0.16667551561316735.\u001b[0m\n"
     ]
    },
    {
     "name": "stdout",
     "output_type": "stream",
     "text": [
      "RMSE:  5.971156493987653\n",
      "MAE:  3.9309451777941335\n"
     ]
    },
    {
     "name": "stderr",
     "output_type": "stream",
     "text": [
      "\u001b[32m[I 2023-03-11 19:39:54,616]\u001b[0m Trial 38 finished with value: 0.7540673201434291 and parameters: {'max_depth': 2, 'learning_rate': 0.03748370584571624, 'n_estimators': 23, 'min_child_weight': 3, 'gamma': 0.02037072311403788, 'subsample': 0.06691824807562424, 'colsample_bytree': 0.20399277590937454}. Best is trial 33 with value: 0.16667551561316735.\u001b[0m\n"
     ]
    },
    {
     "name": "stdout",
     "output_type": "stream",
     "text": [
      "RMSE:  14.427435320306323\n",
      "MAE:  10.653331055448799\n"
     ]
    },
    {
     "name": "stderr",
     "output_type": "stream",
     "text": [
      "\u001b[32m[I 2023-03-11 19:41:10,460]\u001b[0m Trial 39 finished with value: 0.17187721812456264 and parameters: {'max_depth': 3, 'learning_rate': 0.05703674308741039, 'n_estimators': 117, 'min_child_weight': 2, 'gamma': 0.11353751582609851, 'subsample': 0.6137292873558973, 'colsample_bytree': 0.4242777480427489}. Best is trial 33 with value: 0.16667551561316735.\u001b[0m\n"
     ]
    },
    {
     "name": "stdout",
     "output_type": "stream",
     "text": [
      "RMSE:  5.714400604252415\n",
      "MAE:  3.6717704241237943\n"
     ]
    },
    {
     "name": "stderr",
     "output_type": "stream",
     "text": [
      "\u001b[32m[I 2023-03-11 19:43:11,684]\u001b[0m Trial 40 finished with value: 0.19032190107603564 and parameters: {'max_depth': 2, 'learning_rate': 0.013595871996574542, 'n_estimators': 204, 'min_child_weight': 4, 'gamma': 0.016679012412624566, 'subsample': 0.8216808659967331, 'colsample_bytree': 0.6390830700908045}. Best is trial 33 with value: 0.16667551561316735.\u001b[0m\n"
     ]
    },
    {
     "name": "stdout",
     "output_type": "stream",
     "text": [
      "RMSE:  6.32153707346514\n",
      "MAE:  4.1640339114126705\n"
     ]
    },
    {
     "name": "stderr",
     "output_type": "stream",
     "text": [
      "\u001b[32m[I 2023-03-11 19:46:02,447]\u001b[0m Trial 41 finished with value: 0.16895196630581305 and parameters: {'max_depth': 2, 'learning_rate': 0.0354346049000584, 'n_estimators': 268, 'min_child_weight': 5, 'gamma': 0.002608534158909414, 'subsample': 0.7089670067100073, 'colsample_bytree': 0.7463306129865671}. Best is trial 33 with value: 0.16667551561316735.\u001b[0m\n"
     ]
    },
    {
     "name": "stdout",
     "output_type": "stream",
     "text": [
      "RMSE:  5.790803431164347\n",
      "MAE:  3.7133602994696173\n"
     ]
    },
    {
     "name": "stderr",
     "output_type": "stream",
     "text": [
      "\u001b[32m[I 2023-03-11 19:48:01,904]\u001b[0m Trial 42 finished with value: 0.27791265460561143 and parameters: {'max_depth': 1, 'learning_rate': 0.7779589512276861, 'n_estimators': 249, 'min_child_weight': 4, 'gamma': 0.004499052315389634, 'subsample': 0.785962565374427, 'colsample_bytree': 0.8046582925553126}. Best is trial 33 with value: 0.16667551561316735.\u001b[0m\n"
     ]
    },
    {
     "name": "stdout",
     "output_type": "stream",
     "text": [
      "RMSE:  6.7962354545409855\n",
      "MAE:  4.487583432386003\n"
     ]
    },
    {
     "name": "stderr",
     "output_type": "stream",
     "text": [
      "\u001b[32m[I 2023-03-11 19:49:36,185]\u001b[0m Trial 43 finished with value: 0.2090463338096556 and parameters: {'max_depth': 2, 'learning_rate': 0.050745244546602, 'n_estimators': 289, 'min_child_weight': 3, 'gamma': 0.00858482255795183, 'subsample': 0.5990670198259961, 'colsample_bytree': 0.015211141287507923}. Best is trial 33 with value: 0.16667551561316735.\u001b[0m\n"
     ]
    },
    {
     "name": "stdout",
     "output_type": "stream",
     "text": [
      "RMSE:  7.217069365556411\n",
      "MAE:  4.860310543289103\n"
     ]
    },
    {
     "name": "stderr",
     "output_type": "stream",
     "text": [
      "\u001b[32m[I 2023-03-11 19:53:31,005]\u001b[0m Trial 44 finished with value: 0.1788718448771277 and parameters: {'max_depth': 3, 'learning_rate': 0.11872846306584335, 'n_estimators': 241, 'min_child_weight': 2, 'gamma': 0.03559467665568906, 'subsample': 0.9914079436261902, 'colsample_bytree': 0.9792864390664822}. Best is trial 33 with value: 0.16667551561316735.\u001b[0m\n"
     ]
    },
    {
     "name": "stdout",
     "output_type": "stream",
     "text": [
      "RMSE:  5.700747510849729\n",
      "MAE:  3.6411485277687903\n"
     ]
    },
    {
     "name": "stderr",
     "output_type": "stream",
     "text": [
      "\u001b[32m[I 2023-03-11 19:55:20,998]\u001b[0m Trial 45 finished with value: 0.18612351351786582 and parameters: {'max_depth': 1, 'learning_rate': 0.028692771667274786, 'n_estimators': 265, 'min_child_weight': 4, 'gamma': 0.0020076344642492596, 'subsample': 0.4786267933675708, 'colsample_bytree': 0.491938817491859}. Best is trial 33 with value: 0.16667551561316735.\u001b[0m\n"
     ]
    },
    {
     "name": "stdout",
     "output_type": "stream",
     "text": [
      "RMSE:  6.2018245952522415\n",
      "MAE:  4.162833274869376\n"
     ]
    },
    {
     "name": "stderr",
     "output_type": "stream",
     "text": [
      "\u001b[32m[I 2023-03-11 19:57:40,489]\u001b[0m Trial 46 finished with value: 0.172789850145344 and parameters: {'max_depth': 3, 'learning_rate': 0.041857941226919826, 'n_estimators': 220, 'min_child_weight': 5, 'gamma': 3.43797221890483e-05, 'subsample': 0.28553721640597135, 'colsample_bytree': 0.5948026598232027}. Best is trial 33 with value: 0.16667551561316735.\u001b[0m\n"
     ]
    },
    {
     "name": "stdout",
     "output_type": "stream",
     "text": [
      "RMSE:  5.493607697460691\n",
      "MAE:  3.6454012505710125\n"
     ]
    },
    {
     "name": "stderr",
     "output_type": "stream",
     "text": [
      "\u001b[32m[I 2023-03-11 20:00:02,333]\u001b[0m Trial 47 finished with value: 0.17590602801192776 and parameters: {'max_depth': 2, 'learning_rate': 0.01405479327978797, 'n_estimators': 300, 'min_child_weight': 3, 'gamma': 0.0012204131667753583, 'subsample': 0.8513147968429658, 'colsample_bytree': 0.3746112497511607}. Best is trial 33 with value: 0.16667551561316735.\u001b[0m\n"
     ]
    },
    {
     "name": "stdout",
     "output_type": "stream",
     "text": [
      "RMSE:  5.913271914774933\n",
      "MAE:  3.8819531416766857\n"
     ]
    },
    {
     "name": "stderr",
     "output_type": "stream",
     "text": [
      "\u001b[32m[I 2023-03-11 20:02:18,889]\u001b[0m Trial 48 finished with value: 0.17507917822465976 and parameters: {'max_depth': 1, 'learning_rate': 0.07119040063500734, 'n_estimators': 284, 'min_child_weight': 2, 'gamma': 0.929687457834111, 'subsample': 0.6238242556020848, 'colsample_bytree': 0.7892066087107806}. Best is trial 33 with value: 0.16667551561316735.\u001b[0m\n"
     ]
    },
    {
     "name": "stdout",
     "output_type": "stream",
     "text": [
      "RMSE:  5.947239393020857\n",
      "MAE:  3.816585346839573\n"
     ]
    },
    {
     "name": "stderr",
     "output_type": "stream",
     "text": [
      "\u001b[32m[I 2023-03-11 20:03:48,546]\u001b[0m Trial 49 finished with value: 0.17455343424130326 and parameters: {'max_depth': 2, 'learning_rate': 0.03267183191042934, 'n_estimators': 171, 'min_child_weight': 4, 'gamma': 0.004985122796315642, 'subsample': 0.4194365778891605, 'colsample_bytree': 0.46763099836684074}. Best is trial 33 with value: 0.16667551561316735.\u001b[0m\n"
     ]
    },
    {
     "name": "stdout",
     "output_type": "stream",
     "text": [
      "RMSE:  5.873285196566716\n",
      "MAE:  3.8545633476799126\n"
     ]
    },
    {
     "name": "stderr",
     "output_type": "stream",
     "text": [
      "\u001b[32m[I 2023-03-11 20:05:58,507]\u001b[0m Trial 50 finished with value: 0.2980533667717118 and parameters: {'max_depth': 3, 'learning_rate': 0.0936501563781597, 'n_estimators': 264, 'min_child_weight': 6, 'gamma': 0.00010435712978255969, 'subsample': 0.04005300682297783, 'colsample_bytree': 0.6866298313957303}. Best is trial 33 with value: 0.16667551561316735.\u001b[0m\n"
     ]
    },
    {
     "name": "stdout",
     "output_type": "stream",
     "text": [
      "RMSE:  7.381041261917747\n",
      "MAE:  5.271559008315856\n"
     ]
    },
    {
     "name": "stderr",
     "output_type": "stream",
     "text": [
      "\u001b[32m[I 2023-03-11 20:06:41,848]\u001b[0m Trial 51 finished with value: 0.1681221233867973 and parameters: {'max_depth': 2, 'learning_rate': 0.15029072129615204, 'n_estimators': 73, 'min_child_weight': 4, 'gamma': 0.015454698487293332, 'subsample': 0.9599344357304825, 'colsample_bytree': 0.5480163769008419}. Best is trial 33 with value: 0.16667551561316735.\u001b[0m\n"
     ]
    },
    {
     "name": "stdout",
     "output_type": "stream",
     "text": [
      "RMSE:  5.663605750349452\n",
      "MAE:  3.6352354578831525\n"
     ]
    },
    {
     "name": "stderr",
     "output_type": "stream",
     "text": [
      "\u001b[32m[I 2023-03-11 20:07:37,830]\u001b[0m Trial 52 finished with value: 0.17499836292382379 and parameters: {'max_depth': 2, 'learning_rate': 0.20345523886867767, 'n_estimators': 97, 'min_child_weight': 4, 'gamma': 0.0346092370410062, 'subsample': 0.8473956167036917, 'colsample_bytree': 0.5509898404570512}. Best is trial 33 with value: 0.16667551561316735.\u001b[0m\n"
     ]
    },
    {
     "name": "stdout",
     "output_type": "stream",
     "text": [
      "RMSE:  5.827518374592157\n",
      "MAE:  3.729424443706949\n"
     ]
    },
    {
     "name": "stderr",
     "output_type": "stream",
     "text": [
      "\u001b[32m[I 2023-03-11 20:08:50,704]\u001b[0m Trial 53 finished with value: 0.17853946369467988 and parameters: {'max_depth': 1, 'learning_rate': 0.2621179637308558, 'n_estimators': 134, 'min_child_weight': 5, 'gamma': 0.01165311956320395, 'subsample': 0.6327623901259146, 'colsample_bytree': 0.9918629667854885}. Best is trial 33 with value: 0.16667551561316735.\u001b[0m\n"
     ]
    },
    {
     "name": "stdout",
     "output_type": "stream",
     "text": [
      "RMSE:  6.143163687800439\n",
      "MAE:  3.9170457951566844\n"
     ]
    },
    {
     "name": "stderr",
     "output_type": "stream",
     "text": [
      "\u001b[32m[I 2023-03-11 20:09:31,706]\u001b[0m Trial 54 finished with value: 0.17330953222299572 and parameters: {'max_depth': 3, 'learning_rate': 0.12837933678786714, 'n_estimators': 80, 'min_child_weight': 3, 'gamma': 0.053216751765814155, 'subsample': 0.8760397623281017, 'colsample_bytree': 0.21742490322684294}. Best is trial 33 with value: 0.16667551561316735.\u001b[0m\n"
     ]
    },
    {
     "name": "stdout",
     "output_type": "stream",
     "text": [
      "RMSE:  5.887148696202595\n",
      "MAE:  3.7163578564567223\n"
     ]
    },
    {
     "name": "stderr",
     "output_type": "stream",
     "text": [
      "\u001b[32m[I 2023-03-11 20:10:07,077]\u001b[0m Trial 55 finished with value: 0.17703574960339802 and parameters: {'max_depth': 2, 'learning_rate': 0.18424511564484583, 'n_estimators': 67, 'min_child_weight': 2, 'gamma': 0.0031521620114134978, 'subsample': 0.543773708966528, 'colsample_bytree': 0.34724697091377443}. Best is trial 33 with value: 0.16667551561316735.\u001b[0m\n"
     ]
    },
    {
     "name": "stdout",
     "output_type": "stream",
     "text": [
      "RMSE:  5.903031120488589\n",
      "MAE:  3.842980707665442\n"
     ]
    },
    {
     "name": "stderr",
     "output_type": "stream",
     "text": [
      "\u001b[32m[I 2023-03-11 20:11:49,823]\u001b[0m Trial 56 finished with value: 0.20159615278662346 and parameters: {'max_depth': 4, 'learning_rate': 0.02525601297489225, 'n_estimators': 104, 'min_child_weight': 4, 'gamma': 0.006474435202539408, 'subsample': 0.9859914187090426, 'colsample_bytree': 0.648743475528726}. Best is trial 33 with value: 0.16667551561316735.\u001b[0m\n"
     ]
    },
    {
     "name": "stdout",
     "output_type": "stream",
     "text": [
      "RMSE:  6.267922598976569\n",
      "MAE:  4.1146391436418215\n"
     ]
    },
    {
     "name": "stderr",
     "output_type": "stream",
     "text": [
      "\u001b[32m[I 2023-03-11 20:16:20,639]\u001b[0m Trial 57 finished with value: 0.17371738979794427 and parameters: {'max_depth': 9, 'learning_rate': 0.04331933963562503, 'n_estimators': 197, 'min_child_weight': 3, 'gamma': 0.00028604532989316554, 'subsample': 0.46121516372475396, 'colsample_bytree': 0.46248269267751374}. Best is trial 33 with value: 0.16667551561316735.\u001b[0m\n"
     ]
    },
    {
     "name": "stdout",
     "output_type": "stream",
     "text": [
      "RMSE:  5.6314707434346305\n",
      "MAE:  3.6474478662644745\n"
     ]
    },
    {
     "name": "stderr",
     "output_type": "stream",
     "text": [
      "\u001b[32m[I 2023-03-11 20:16:44,656]\u001b[0m Trial 58 finished with value: 0.28643524716809016 and parameters: {'max_depth': 1, 'learning_rate': 0.060332583768499655, 'n_estimators': 51, 'min_child_weight': 5, 'gamma': 0.0152235054961787, 'subsample': 0.022464909326026305, 'colsample_bytree': 0.8469346293777535}. Best is trial 33 with value: 0.16667551561316735.\u001b[0m\n"
     ]
    },
    {
     "name": "stdout",
     "output_type": "stream",
     "text": [
      "RMSE:  9.442439001383653\n",
      "MAE:  6.56343896990573\n"
     ]
    },
    {
     "name": "stderr",
     "output_type": "stream",
     "text": [
      "\u001b[32m[I 2023-03-11 20:18:25,254]\u001b[0m Trial 59 finished with value: 0.19485501859392462 and parameters: {'max_depth': 4, 'learning_rate': 0.08426617021678132, 'n_estimators': 254, 'min_child_weight': 1, 'gamma': 0.02379469516985779, 'subsample': 0.38123479536516286, 'colsample_bytree': 0.05623881206667389}. Best is trial 33 with value: 0.16667551561316735.\u001b[0m\n"
     ]
    },
    {
     "name": "stdout",
     "output_type": "stream",
     "text": [
      "RMSE:  6.398575112143456\n",
      "MAE:  4.184672036282127\n"
     ]
    },
    {
     "name": "stderr",
     "output_type": "stream",
     "text": [
      "\u001b[32m[I 2023-03-11 20:20:35,671]\u001b[0m Trial 60 finished with value: 0.16774078642708296 and parameters: {'max_depth': 2, 'learning_rate': 0.02944577709248785, 'n_estimators': 292, 'min_child_weight': 2, 'gamma': 0.0007553169050382186, 'subsample': 0.772473437930096, 'colsample_bytree': 0.2993958839810153}. Best is trial 33 with value: 0.16667551561316735.\u001b[0m\n"
     ]
    },
    {
     "name": "stdout",
     "output_type": "stream",
     "text": [
      "RMSE:  5.706675149904151\n",
      "MAE:  3.681039798669714\n"
     ]
    },
    {
     "name": "stderr",
     "output_type": "stream",
     "text": [
      "\u001b[32m[I 2023-03-11 20:22:45,178]\u001b[0m Trial 61 finished with value: 0.1671431915536046 and parameters: {'max_depth': 2, 'learning_rate': 0.030736322159845387, 'n_estimators': 293, 'min_child_weight': 2, 'gamma': 0.0007153028757571064, 'subsample': 0.7676710175585045, 'colsample_bytree': 0.29273061316583765}. Best is trial 33 with value: 0.16667551561316735.\u001b[0m\n"
     ]
    },
    {
     "name": "stdout",
     "output_type": "stream",
     "text": [
      "RMSE:  5.685472608716008\n",
      "MAE:  3.6662151147291144\n"
     ]
    },
    {
     "name": "stderr",
     "output_type": "stream",
     "text": [
      "\u001b[32m[I 2023-03-11 20:24:39,084]\u001b[0m Trial 62 finished with value: 0.17170233422578288 and parameters: {'max_depth': 2, 'learning_rate': 0.028236578529813962, 'n_estimators': 291, 'min_child_weight': 2, 'gamma': 0.0007629990719136971, 'subsample': 0.6625313868507429, 'colsample_bytree': 0.16426766252072655}. Best is trial 33 with value: 0.16667551561316735.\u001b[0m\n"
     ]
    },
    {
     "name": "stdout",
     "output_type": "stream",
     "text": [
      "RMSE:  5.8136663460027584\n",
      "MAE:  3.7658266128095055\n"
     ]
    },
    {
     "name": "stderr",
     "output_type": "stream",
     "text": [
      "\u001b[32m[I 2023-03-11 20:24:49,370]\u001b[0m Trial 63 finished with value: 3.19539473777886 and parameters: {'max_depth': 3, 'learning_rate': 0.024240497194379065, 'n_estimators': 10, 'min_child_weight': 1, 'gamma': 0.00021267192791958345, 'subsample': 0.7366086804635834, 'colsample_bytree': 0.2904696842887581}. Best is trial 33 with value: 0.16667551561316735.\u001b[0m\n"
     ]
    },
    {
     "name": "stdout",
     "output_type": "stream",
     "text": [
      "RMSE:  22.137192167672296\n",
      "MAE:  18.228362853003162\n"
     ]
    },
    {
     "name": "stderr",
     "output_type": "stream",
     "text": [
      "\u001b[32m[I 2023-03-11 20:26:35,689]\u001b[0m Trial 64 finished with value: 0.20633720314950432 and parameters: {'max_depth': 1, 'learning_rate': 0.017445349694167018, 'n_estimators': 277, 'min_child_weight': 2, 'gamma': 0.0006144081286375071, 'subsample': 0.568471245955394, 'colsample_bytree': 0.3473971118323629}. Best is trial 33 with value: 0.16667551561316735.\u001b[0m\n"
     ]
    },
    {
     "name": "stdout",
     "output_type": "stream",
     "text": [
      "RMSE:  6.575675399581788\n",
      "MAE:  4.633420934713391\n"
     ]
    },
    {
     "name": "stderr",
     "output_type": "stream",
     "text": [
      "\u001b[32m[I 2023-03-11 20:28:24,542]\u001b[0m Trial 65 finished with value: 0.17240435218537226 and parameters: {'max_depth': 2, 'learning_rate': 0.039048504353559256, 'n_estimators': 300, 'min_child_weight': 3, 'gamma': 0.002611566973670204, 'subsample': 0.8789500312884294, 'colsample_bytree': 0.11212518183424733}. Best is trial 33 with value: 0.16667551561316735.\u001b[0m\n"
     ]
    },
    {
     "name": "stdout",
     "output_type": "stream",
     "text": [
      "RMSE:  5.7334314042169\n",
      "MAE:  3.7147755408807406\n"
     ]
    },
    {
     "name": "stderr",
     "output_type": "stream",
     "text": [
      "\u001b[32m[I 2023-03-11 20:30:30,148]\u001b[0m Trial 66 finished with value: 0.17355924719197416 and parameters: {'max_depth': 3, 'learning_rate': 0.04545235912217743, 'n_estimators': 279, 'min_child_weight': 2, 'gamma': 0.0009689236336078146, 'subsample': 0.307181657078153, 'colsample_bytree': 0.229655096737806}. Best is trial 33 with value: 0.16667551561316735.\u001b[0m\n"
     ]
    },
    {
     "name": "stdout",
     "output_type": "stream",
     "text": [
      "RMSE:  5.797321129196625\n",
      "MAE:  3.741210322689127\n"
     ]
    },
    {
     "name": "stderr",
     "output_type": "stream",
     "text": [
      "\u001b[32m[I 2023-03-11 20:32:06,795]\u001b[0m Trial 67 finished with value: 0.172846841653445 and parameters: {'max_depth': 2, 'learning_rate': 0.030639525952767088, 'n_estimators': 243, 'min_child_weight': 10, 'gamma': 0.0003305072026528949, 'subsample': 0.4736807859250334, 'colsample_bytree': 0.18961732967100128}. Best is trial 33 with value: 0.16667551561316735.\u001b[0m\n"
     ]
    },
    {
     "name": "stdout",
     "output_type": "stream",
     "text": [
      "RMSE:  5.7728058576391765\n",
      "MAE:  3.7774117723422704\n"
     ]
    },
    {
     "name": "stderr",
     "output_type": "stream",
     "text": [
      "\u001b[32m[I 2023-03-11 20:33:56,538]\u001b[0m Trial 68 finished with value: 0.2024729268279241 and parameters: {'max_depth': 1, 'learning_rate': 0.02069492890449934, 'n_estimators': 256, 'min_child_weight': 1, 'gamma': 4.1522501784615385e-05, 'subsample': 0.7499669689622657, 'colsample_bytree': 0.5471294669204941}. Best is trial 33 with value: 0.16667551561316735.\u001b[0m\n"
     ]
    },
    {
     "name": "stdout",
     "output_type": "stream",
     "text": [
      "RMSE:  6.530878558498817\n",
      "MAE:  4.532324921950777\n"
     ]
    },
    {
     "name": "stderr",
     "output_type": "stream",
     "text": [
      "\u001b[32m[I 2023-03-11 20:35:19,660]\u001b[0m Trial 69 finished with value: 0.16997610552398187 and parameters: {'max_depth': 3, 'learning_rate': 0.052422821277163516, 'n_estimators': 163, 'min_child_weight': 3, 'gamma': 0.009410026578138674, 'subsample': 0.9963956985105614, 'colsample_bytree': 0.26245265459932743}. Best is trial 33 with value: 0.16667551561316735.\u001b[0m\n"
     ]
    },
    {
     "name": "stdout",
     "output_type": "stream",
     "text": [
      "RMSE:  5.6603490269905254\n",
      "MAE:  3.6102345732863617\n"
     ]
    },
    {
     "name": "stderr",
     "output_type": "stream",
     "text": [
      "\u001b[32m[I 2023-03-11 20:37:08,102]\u001b[0m Trial 70 finished with value: 0.2593538135038884 and parameters: {'max_depth': 2, 'learning_rate': 0.24945624918842577, 'n_estimators': 285, 'min_child_weight': 2, 'gamma': 0.0022619048954652097, 'subsample': 0.642867392373985, 'colsample_bytree': 0.138487440520783}. Best is trial 33 with value: 0.16667551561316735.\u001b[0m\n"
     ]
    },
    {
     "name": "stdout",
     "output_type": "stream",
     "text": [
      "RMSE:  6.135182449936367\n",
      "MAE:  4.074594847813449\n"
     ]
    },
    {
     "name": "stderr",
     "output_type": "stream",
     "text": [
      "\u001b[32m[I 2023-03-11 20:39:54,873]\u001b[0m Trial 71 finished with value: 0.16765508890246836 and parameters: {'max_depth': 2, 'learning_rate': 0.03506921331548812, 'n_estimators': 269, 'min_child_weight': 4, 'gamma': 0.0013172717472174854, 'subsample': 0.8009294195755003, 'colsample_bytree': 0.7131055348035843}. Best is trial 33 with value: 0.16667551561316735.\u001b[0m\n"
     ]
    },
    {
     "name": "stdout",
     "output_type": "stream",
     "text": [
      "RMSE:  5.678578907040026\n",
      "MAE:  3.6642386974402203\n"
     ]
    },
    {
     "name": "stderr",
     "output_type": "stream",
     "text": [
      "\u001b[32m[I 2023-03-11 20:42:08,960]\u001b[0m Trial 72 finished with value: 0.1675972974288287 and parameters: {'max_depth': 2, 'learning_rate': 0.03628854666270916, 'n_estimators': 271, 'min_child_weight': 3, 'gamma': 0.0012843738189818896, 'subsample': 0.7978255186552756, 'colsample_bytree': 0.41662992842625934}. Best is trial 33 with value: 0.16667551561316735.\u001b[0m\n"
     ]
    },
    {
     "name": "stdout",
     "output_type": "stream",
     "text": [
      "RMSE:  5.619710589486597\n",
      "MAE:  3.642883410017011\n"
     ]
    },
    {
     "name": "stderr",
     "output_type": "stream",
     "text": [
      "\u001b[32m[I 2023-03-11 20:44:21,329]\u001b[0m Trial 73 finished with value: 0.16794131794303915 and parameters: {'max_depth': 2, 'learning_rate': 0.03639282394865573, 'n_estimators': 295, 'min_child_weight': 4, 'gamma': 0.00047392938371713456, 'subsample': 0.8362555410301596, 'colsample_bytree': 0.31715115668524085}. Best is trial 33 with value: 0.16667551561316735.\u001b[0m\n"
     ]
    },
    {
     "name": "stdout",
     "output_type": "stream",
     "text": [
      "RMSE:  5.665071478674328\n",
      "MAE:  3.6607150203848957\n"
     ]
    },
    {
     "name": "stderr",
     "output_type": "stream",
     "text": [
      "\u001b[32m[I 2023-03-11 20:46:34,088]\u001b[0m Trial 74 finished with value: 0.17227473313704966 and parameters: {'max_depth': 2, 'learning_rate': 0.02385018450117487, 'n_estimators': 294, 'min_child_weight': 3, 'gamma': 0.00013151257551608433, 'subsample': 0.5607142139440784, 'colsample_bytree': 0.30381711040721376}. Best is trial 33 with value: 0.16667551561316735.\u001b[0m\n"
     ]
    },
    {
     "name": "stdout",
     "output_type": "stream",
     "text": [
      "RMSE:  5.827674153897533\n",
      "MAE:  3.8005028169937236\n"
     ]
    },
    {
     "name": "stderr",
     "output_type": "stream",
     "text": [
      "\u001b[32m[I 2023-03-11 20:48:13,945]\u001b[0m Trial 75 finished with value: 0.19866517366119427 and parameters: {'max_depth': 1, 'learning_rate': 0.02855845652721385, 'n_estimators': 274, 'min_child_weight': 2, 'gamma': 0.0004904039831998744, 'subsample': 0.15175146627494693, 'colsample_bytree': 0.40820294442655625}. Best is trial 33 with value: 0.16667551561316735.\u001b[0m\n"
     ]
    },
    {
     "name": "stdout",
     "output_type": "stream",
     "text": [
      "RMSE:  6.209599922647912\n",
      "MAE:  4.364501608466661\n"
     ]
    },
    {
     "name": "stderr",
     "output_type": "stream",
     "text": [
      "\u001b[32m[I 2023-03-11 20:50:44,194]\u001b[0m Trial 76 finished with value: 0.1730368161351049 and parameters: {'max_depth': 3, 'learning_rate': 0.062364647162301064, 'n_estimators': 272, 'min_child_weight': 4, 'gamma': 0.0010495355107367462, 'subsample': 0.8148262137132741, 'colsample_bytree': 0.34187686643960874}. Best is trial 33 with value: 0.16667551561316735.\u001b[0m\n"
     ]
    },
    {
     "name": "stdout",
     "output_type": "stream",
     "text": [
      "RMSE:  5.775070923980647\n",
      "MAE:  3.6647279317929318\n"
     ]
    },
    {
     "name": "stderr",
     "output_type": "stream",
     "text": [
      "\u001b[32m[I 2023-03-11 20:53:06,972]\u001b[0m Trial 77 finished with value: 0.16831969713847 and parameters: {'max_depth': 2, 'learning_rate': 0.033585941035439555, 'n_estimators': 281, 'min_child_weight': 3, 'gamma': 0.0013845878981668066, 'subsample': 0.6862902884679563, 'colsample_bytree': 0.44061114332140183}. Best is trial 33 with value: 0.16667551561316735.\u001b[0m\n"
     ]
    },
    {
     "name": "stdout",
     "output_type": "stream",
     "text": [
      "RMSE:  5.6372868854329266\n",
      "MAE:  3.6552783751061986\n"
     ]
    },
    {
     "name": "stderr",
     "output_type": "stream",
     "text": [
      "\u001b[32m[I 2023-03-11 20:55:14,872]\u001b[0m Trial 78 finished with value: 0.19239796744503304 and parameters: {'max_depth': 1, 'learning_rate': 0.022173094952561246, 'n_estimators': 292, 'min_child_weight': 2, 'gamma': 0.000599099120615426, 'subsample': 0.5053146706513525, 'colsample_bytree': 0.6006849508251583}. Best is trial 33 with value: 0.16667551561316735.\u001b[0m\n"
     ]
    },
    {
     "name": "stdout",
     "output_type": "stream",
     "text": [
      "RMSE:  6.209974723892506\n",
      "MAE:  4.265665257103229\n"
     ]
    },
    {
     "name": "stderr",
     "output_type": "stream",
     "text": [
      "\u001b[32m[I 2023-03-11 20:59:41,165]\u001b[0m Trial 79 finished with value: 0.1712951256530512 and parameters: {'max_depth': 8, 'learning_rate': 0.038398655170712684, 'n_estimators': 258, 'min_child_weight': 1, 'gamma': 0.0002537818250509566, 'subsample': 0.9059386589684663, 'colsample_bytree': 0.25226090077140534}. Best is trial 33 with value: 0.16667551561316735.\u001b[0m\n"
     ]
    },
    {
     "name": "stdout",
     "output_type": "stream",
     "text": [
      "RMSE:  5.997389847984657\n",
      "MAE:  3.7063894725587003\n"
     ]
    },
    {
     "name": "stderr",
     "output_type": "stream",
     "text": [
      "\u001b[32m[I 2023-03-11 21:01:47,242]\u001b[0m Trial 80 finished with value: 0.17060958638396628 and parameters: {'max_depth': 2, 'learning_rate': 0.05274800417985517, 'n_estimators': 284, 'min_child_weight': 4, 'gamma': 0.00014710950647522838, 'subsample': 0.42208490245775865, 'colsample_bytree': 0.3094658850186743}. Best is trial 33 with value: 0.16667551561316735.\u001b[0m\n"
     ]
    },
    {
     "name": "stdout",
     "output_type": "stream",
     "text": [
      "RMSE:  5.803053115882799\n",
      "MAE:  3.7545537422928543\n"
     ]
    },
    {
     "name": "stderr",
     "output_type": "stream",
     "text": [
      "\u001b[32m[I 2023-03-11 21:03:55,473]\u001b[0m Trial 81 finished with value: 0.16771279059618044 and parameters: {'max_depth': 2, 'learning_rate': 0.036922250764811225, 'n_estimators': 266, 'min_child_weight': 4, 'gamma': 0.003490473346516209, 'subsample': 0.7838309076018061, 'colsample_bytree': 0.3818753710835396}. Best is trial 33 with value: 0.16667551561316735.\u001b[0m\n"
     ]
    },
    {
     "name": "stdout",
     "output_type": "stream",
     "text": [
      "RMSE:  5.709081181762345\n",
      "MAE:  3.690243293723417\n"
     ]
    },
    {
     "name": "stderr",
     "output_type": "stream",
     "text": [
      "\u001b[32m[I 2023-03-11 21:06:02,891]\u001b[0m Trial 82 finished with value: 0.16929747725142646 and parameters: {'max_depth': 2, 'learning_rate': 0.026945318707692848, 'n_estimators': 267, 'min_child_weight': 3, 'gamma': 0.0038258609985507203, 'subsample': 0.7698109726585065, 'colsample_bytree': 0.37025310157145974}. Best is trial 33 with value: 0.16667551561316735.\u001b[0m\n"
     ]
    },
    {
     "name": "stdout",
     "output_type": "stream",
     "text": [
      "RMSE:  5.752322493316998\n",
      "MAE:  3.729980435872835\n"
     ]
    },
    {
     "name": "stderr",
     "output_type": "stream",
     "text": [
      "\u001b[32m[I 2023-03-11 21:08:53,983]\u001b[0m Trial 83 finished with value: 0.1698027959534407 and parameters: {'max_depth': 3, 'learning_rate': 0.04697723171020375, 'n_estimators': 246, 'min_child_weight': 4, 'gamma': 0.00037785598126810927, 'subsample': 0.5844942368578442, 'colsample_bytree': 0.5316133586644385}. Best is trial 33 with value: 0.16667551561316735.\u001b[0m\n"
     ]
    },
    {
     "name": "stdout",
     "output_type": "stream",
     "text": [
      "RMSE:  5.666987240597486\n",
      "MAE:  3.6434209013071954\n"
     ]
    },
    {
     "name": "stderr",
     "output_type": "stream",
     "text": [
      "\u001b[32m[I 2023-03-11 21:11:51,784]\u001b[0m Trial 84 finished with value: 0.1688764764117784 and parameters: {'max_depth': 2, 'learning_rate': 0.030749392383188245, 'n_estimators': 291, 'min_child_weight': 3, 'gamma': 0.000886912463781753, 'subsample': 0.6698400786050939, 'colsample_bytree': 0.6714866762895574}. Best is trial 33 with value: 0.16667551561316735.\u001b[0m\n"
     ]
    },
    {
     "name": "stdout",
     "output_type": "stream",
     "text": [
      "RMSE:  5.680196234627845\n",
      "MAE:  3.6716550858839163\n"
     ]
    },
    {
     "name": "stderr",
     "output_type": "stream",
     "text": [
      "\u001b[32m[I 2023-03-11 21:13:37,040]\u001b[0m Trial 85 finished with value: 0.17791025803806795 and parameters: {'max_depth': 1, 'learning_rate': 0.035735562344311196, 'n_estimators': 271, 'min_child_weight': 5, 'gamma': 0.0015361101144182386, 'subsample': 0.9025444534340603, 'colsample_bytree': 0.3933836571535761}. Best is trial 33 with value: 0.16667551561316735.\u001b[0m\n"
     ]
    },
    {
     "name": "stdout",
     "output_type": "stream",
     "text": [
      "RMSE:  6.11841777908912\n",
      "MAE:  3.991358067741785\n"
     ]
    },
    {
     "name": "stderr",
     "output_type": "stream",
     "text": [
      "\u001b[32m[I 2023-03-11 21:17:00,041]\u001b[0m Trial 86 finished with value: 0.17333163713399946 and parameters: {'max_depth': 2, 'learning_rate': 0.015245429782116368, 'n_estimators': 296, 'min_child_weight': 4, 'gamma': 0.003880879038562751, 'subsample': 0.7701275721554355, 'colsample_bytree': 0.8514342468187842}. Best is trial 33 with value: 0.16667551561316735.\u001b[0m\n"
     ]
    },
    {
     "name": "stdout",
     "output_type": "stream",
     "text": [
      "RMSE:  5.8792038956654835\n",
      "MAE:  3.832730484071863\n"
     ]
    },
    {
     "name": "stderr",
     "output_type": "stream",
     "text": [
      "\u001b[32m[I 2023-03-11 21:19:09,125]\u001b[0m Trial 87 finished with value: 0.17965816886531819 and parameters: {'max_depth': 3, 'learning_rate': 0.07650459133835324, 'n_estimators': 281, 'min_child_weight': 2, 'gamma': 9.948910037704782e-05, 'subsample': 0.5282612154750013, 'colsample_bytree': 0.18166825444649282}. Best is trial 33 with value: 0.16667551561316735.\u001b[0m\n"
     ]
    },
    {
     "name": "stdout",
     "output_type": "stream",
     "text": [
      "RMSE:  5.8059989270897026\n",
      "MAE:  3.760645428889249\n"
     ]
    },
    {
     "name": "stderr",
     "output_type": "stream",
     "text": [
      "\u001b[32m[I 2023-03-11 21:20:50,809]\u001b[0m Trial 88 finished with value: 0.1815621044109409 and parameters: {'max_depth': 2, 'learning_rate': 0.15424875415770964, 'n_estimators': 232, 'min_child_weight': 4, 'gamma': 0.00591090183838673, 'subsample': 0.7974042930394729, 'colsample_bytree': 0.27510751447598153}. Best is trial 33 with value: 0.16667551561316735.\u001b[0m\n"
     ]
    },
    {
     "name": "stdout",
     "output_type": "stream",
     "text": [
      "RMSE:  5.813898642999874\n",
      "MAE:  3.7672192546090595\n"
     ]
    },
    {
     "name": "stderr",
     "output_type": "stream",
     "text": [
      "\u001b[32m[I 2023-03-11 21:23:03,326]\u001b[0m Trial 89 finished with value: 0.17106263818617895 and parameters: {'max_depth': 2, 'learning_rate': 0.10946757989277991, 'n_estimators': 261, 'min_child_weight': 3, 'gamma': 0.0018114218574563417, 'subsample': 0.9999574158440284, 'colsample_bytree': 0.4535890564045971}. Best is trial 33 with value: 0.16667551561316735.\u001b[0m\n"
     ]
    },
    {
     "name": "stdout",
     "output_type": "stream",
     "text": [
      "RMSE:  5.571434267939\n",
      "MAE:  3.563416141523886\n"
     ]
    },
    {
     "name": "stderr",
     "output_type": "stream",
     "text": [
      "\u001b[32m[I 2023-03-11 21:25:29,335]\u001b[0m Trial 90 finished with value: 0.2038560299572308 and parameters: {'max_depth': 3, 'learning_rate': 0.041104960720981736, 'n_estimators': 287, 'min_child_weight': 3, 'gamma': 0.00042137658877220807, 'subsample': 0.06688093675401877, 'colsample_bytree': 0.5858621776319127}. Best is trial 33 with value: 0.16667551561316735.\u001b[0m\n"
     ]
    },
    {
     "name": "stdout",
     "output_type": "stream",
     "text": [
      "RMSE:  6.077546838101512\n",
      "MAE:  4.157389825003015\n"
     ]
    },
    {
     "name": "stderr",
     "output_type": "stream",
     "text": [
      "\u001b[32m[I 2023-03-11 21:27:48,916]\u001b[0m Trial 91 finished with value: 0.1678741687781325 and parameters: {'max_depth': 2, 'learning_rate': 0.03841684567523614, 'n_estimators': 260, 'min_child_weight': 4, 'gamma': 0.007735357274577492, 'subsample': 0.8958771060452724, 'colsample_bytree': 0.5236953532415258}. Best is trial 33 with value: 0.16667551561316735.\u001b[0m\n"
     ]
    },
    {
     "name": "stdout",
     "output_type": "stream",
     "text": [
      "RMSE:  5.673086717601987\n",
      "MAE:  3.655603894993426\n"
     ]
    },
    {
     "name": "stderr",
     "output_type": "stream",
     "text": [
      "\u001b[32m[I 2023-03-11 21:30:16,888]\u001b[0m Trial 92 finished with value: 0.16962841023139857 and parameters: {'max_depth': 2, 'learning_rate': 0.03127014125499093, 'n_estimators': 274, 'min_child_weight': 5, 'gamma': 0.006941429125785776, 'subsample': 0.6499036741927863, 'colsample_bytree': 0.5103909368563425}. Best is trial 33 with value: 0.16667551561316735.\u001b[0m\n"
     ]
    },
    {
     "name": "stdout",
     "output_type": "stream",
     "text": [
      "RMSE:  5.7712798252353315\n",
      "MAE:  3.722012712092942\n"
     ]
    },
    {
     "name": "stderr",
     "output_type": "stream",
     "text": [
      "\u001b[32m[I 2023-03-11 21:31:54,429]\u001b[0m Trial 93 finished with value: 0.1797067557936473 and parameters: {'max_depth': 1, 'learning_rate': 0.035124353410999336, 'n_estimators': 252, 'min_child_weight': 4, 'gamma': 0.01087620245906554, 'subsample': 0.8863962566409291, 'colsample_bytree': 0.3778424141729447}. Best is trial 33 with value: 0.16667551561316735.\u001b[0m\n"
     ]
    },
    {
     "name": "stdout",
     "output_type": "stream",
     "text": [
      "RMSE:  6.062504512422343\n",
      "MAE:  3.9985612270929827\n"
     ]
    },
    {
     "name": "stderr",
     "output_type": "stream",
     "text": [
      "\u001b[32m[I 2023-03-11 21:33:34,082]\u001b[0m Trial 94 finished with value: 0.19351620710905873 and parameters: {'max_depth': 2, 'learning_rate': 0.04494160962286208, 'n_estimators': 300, 'min_child_weight': 6, 'gamma': 0.0011433138975944699, 'subsample': 0.7128583510335342, 'colsample_bytree': 0.024089295244714322}. Best is trial 33 with value: 0.16667551561316735.\u001b[0m\n"
     ]
    },
    {
     "name": "stdout",
     "output_type": "stream",
     "text": [
      "RMSE:  6.675694274474619\n",
      "MAE:  4.402207834301172\n"
     ]
    },
    {
     "name": "stderr",
     "output_type": "stream",
     "text": [
      "\u001b[32m[I 2023-03-11 21:36:24,878]\u001b[0m Trial 95 finished with value: 0.17401391041268166 and parameters: {'max_depth': 2, 'learning_rate': 0.019053468776880196, 'n_estimators': 263, 'min_child_weight': 4, 'gamma': 0.01435828010564965, 'subsample': 0.5990549539246581, 'colsample_bytree': 0.7301016376296081}. Best is trial 33 with value: 0.16667551561316735.\u001b[0m\n"
     ]
    },
    {
     "name": "stdout",
     "output_type": "stream",
     "text": [
      "RMSE:  5.892377158428566\n",
      "MAE:  3.852295029928129\n"
     ]
    },
    {
     "name": "stderr",
     "output_type": "stream",
     "text": [
      "\u001b[32m[I 2023-03-11 21:38:09,799]\u001b[0m Trial 96 finished with value: 0.17302780952859909 and parameters: {'max_depth': 1, 'learning_rate': 0.05574487773842584, 'n_estimators': 239, 'min_child_weight': 5, 'gamma': 0.003103824282384731, 'subsample': 0.9141285689049629, 'colsample_bytree': 0.6269492970636164}. Best is trial 33 with value: 0.16667551561316735.\u001b[0m\n"
     ]
    },
    {
     "name": "stdout",
     "output_type": "stream",
     "text": [
      "RMSE:  6.023060609218204\n",
      "MAE:  3.860906638835788\n"
     ]
    },
    {
     "name": "stderr",
     "output_type": "stream",
     "text": [
      "\u001b[32m[I 2023-03-11 21:39:55,415]\u001b[0m Trial 97 finished with value: 0.3044217678464602 and parameters: {'max_depth': 3, 'learning_rate': 0.02535377342422567, 'n_estimators': 267, 'min_child_weight': 2, 'gamma': 0.0005787408908304213, 'subsample': 0.010847310533549296, 'colsample_bytree': 0.4269635992183889}. Best is trial 33 with value: 0.16667551561316735.\u001b[0m\n"
     ]
    },
    {
     "name": "stdout",
     "output_type": "stream",
     "text": [
      "RMSE:  10.587187495391927\n",
      "MAE:  7.729405634814785\n"
     ]
    },
    {
     "name": "stderr",
     "output_type": "stream",
     "text": [
      "\u001b[32m[I 2023-03-11 21:42:23,715]\u001b[0m Trial 98 finished with value: 0.16759752998699923 and parameters: {'max_depth': 2, 'learning_rate': 0.03948126759605809, 'n_estimators': 281, 'min_child_weight': 3, 'gamma': 0.01850491918530355, 'subsample': 0.8012276321960156, 'colsample_bytree': 0.48413574957854655}. Best is trial 33 with value: 0.16667551561316735.\u001b[0m\n"
     ]
    },
    {
     "name": "stdout",
     "output_type": "stream",
     "text": [
      "RMSE:  5.625224220596265\n",
      "MAE:  3.6247588234051826\n"
     ]
    },
    {
     "name": "stderr",
     "output_type": "stream",
     "text": [
      "\u001b[32m[I 2023-03-11 21:44:21,646]\u001b[0m Trial 99 finished with value: 0.16737440410478882 and parameters: {'max_depth': 2, 'learning_rate': 0.039412508273739905, 'n_estimators': 280, 'min_child_weight': 3, 'gamma': 0.00521410921696577, 'subsample': 0.8087674110239372, 'colsample_bytree': 0.24203893286192182}. Best is trial 33 with value: 0.16667551561316735.\u001b[0m\n"
     ]
    },
    {
     "name": "stdout",
     "output_type": "stream",
     "text": [
      "RMSE:  5.650478349516389\n",
      "MAE:  3.632331419814989\n",
      "CPU times: total: 1d 17h 18min 25s\n",
      "Wall time: 3h 53min 52s\n"
     ]
    }
   ],
   "source": [
    "%%time\n",
    "\n",
    "def objective(trial):\n",
    "    \n",
    "    params = {\n",
    "        'max_depth': trial.suggest_int('max_depth', 1, 9),\n",
    "        'learning_rate': trial.suggest_loguniform('learning_rate', 0.01, 1.0),\n",
    "        'n_estimators': trial.suggest_int('n_estimators', 10, 300),\n",
    "        'min_child_weight': trial.suggest_int('min_child_weight', 1, 10),\n",
    "        'gamma': trial.suggest_loguniform('gamma', 1e-5, 1.0),\n",
    "        'subsample': trial.suggest_loguniform('subsample', 0.01, 1.0),\n",
    "        'colsample_bytree': trial.suggest_loguniform('colsample_bytree', 0.01, 1.0),\n",
    "    }\n",
    "    \n",
    "    optuna_xgb_model = xgb.XGBRegressor(** params)\n",
    "    \n",
    "    trained_xgb_model = MultiOutputRegressor(optuna_xgb_model).fit(X_train , y_train)\n",
    "\n",
    "    prediction = trained_xgb_model.predict(X_test)\n",
    "\n",
    "    MSE = np.mean((prediction - y_test)**2)\n",
    "    RMSE = MSE**0.5\n",
    "    print('RMSE: ', RMSE)\n",
    "    MAE = np.mean(np.abs(prediction - y_test))\n",
    "    print('MAE: ', MAE)\n",
    "\n",
    "    MAPE = mean_absolute_percentage_error(prediction, y_test)\n",
    "    \n",
    "    return MAPE\n",
    "\n",
    "study = optuna.create_study(direction='minimize')\n",
    "\n",
    "study.optimize(objective, n_trials = 100)\n",
    "\n",
    "trial = study.best_trial"
   ]
  },
  {
   "cell_type": "code",
   "execution_count": 9,
   "id": "ae46c3c1",
   "metadata": {},
   "outputs": [
    {
     "name": "stdout",
     "output_type": "stream",
     "text": [
      "    max_depth: 2\n",
      "    learning_rate: 0.036926703008863505\n",
      "    n_estimators: 279\n",
      "    min_child_weight: 2\n",
      "    gamma: 0.007916443805057008\n",
      "    subsample: 0.8545372011399259\n",
      "    colsample_bytree: 0.76808354005096\n"
     ]
    }
   ],
   "source": [
    "import joblib\n",
    "\n",
    "joblib.dump(study, \"optuna_studies/study_XGBOOST_230311_solo_mp_e4_7antes_1prediccion_cada12h_MAPE.pkl\")\n",
    "for key, value in trial.params.items():\n",
    "    print('    {}: {}'.format(key, value))"
   ]
  }
 ],
 "metadata": {
  "kernelspec": {
   "display_name": "Python 3 (ipykernel)",
   "language": "python",
   "name": "python3"
  },
  "language_info": {
   "codemirror_mode": {
    "name": "ipython",
    "version": 3
   },
   "file_extension": ".py",
   "mimetype": "text/x-python",
   "name": "python",
   "nbconvert_exporter": "python",
   "pygments_lexer": "ipython3",
   "version": "3.8.5"
  },
  "vscode": {
   "interpreter": {
    "hash": "4e1faa792bacbae67199267b84e0032a5847eec8c781d8c9e3816631a80410b3"
   }
  }
 },
 "nbformat": 4,
 "nbformat_minor": 5
}
