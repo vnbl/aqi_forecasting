{
 "cells": [
  {
   "cell_type": "code",
   "execution_count": 1,
   "metadata": {},
   "outputs": [
    {
     "name": "stderr",
     "output_type": "stream",
     "text": [
      "c:\\Users\\Fer\\anaconda3\\lib\\site-packages\\xgboost\\compat.py:36: FutureWarning: pandas.Int64Index is deprecated and will be removed from pandas in a future version. Use pandas.Index with the appropriate dtype instead.\n",
      "  from pandas import MultiIndex, Int64Index\n"
     ]
    }
   ],
   "source": [
    "# Directories\n",
    "import os\n",
    "\n",
    "new_directory = r'c://Users//Fer//TESIS_ARCHIVOS//TESIS_AIRE//MP_Forecasting//aqi_forecasting//notebooks'\n",
    "os.chdir(new_directory)\n",
    "\n",
    "# Data Manipulation\n",
    "import pandas as pd # for data manipulation\n",
    "import numpy as np # for data manipulation\n",
    "\n",
    "\n",
    "# Training utils\n",
    "from training_code.utils import utils_xgboost\n",
    "\n",
    "# Optuna\n",
    "import optuna\n",
    "import joblib\n",
    "import pickle\n",
    "\n",
    "# Tiempo\n",
    "import datetime as dt\n",
    "from dateutil.relativedelta import relativedelta, MO\n",
    "\n",
    "# Modelos\n",
    "from sklearn.linear_model import LinearRegression # for building a linear regression model\n",
    "from sklearn.svm import SVR # for building SVR model\n",
    "from sklearn.preprocessing import MinMaxScaler\n",
    "from sklearn.multioutput import MultiOutputRegressor\n",
    "import xgboost as xgb\n",
    "from sklearn.model_selection import train_test_split\n",
    "\n",
    "# Metricas\n",
    "from sklearn.metrics import mean_absolute_error #MAE\n",
    "from sklearn.metrics import mean_absolute_percentage_error #MAPE\n",
    "from sklearn.metrics import mean_squared_error #MSE, para RMSE: squared = False\n",
    "\n",
    "# Visualizations\n",
    "import plotly.graph_objects as go # for data visualization\n",
    "import plotly.express as px # for data visualization\n",
    "import matplotlib.pyplot as plt\n",
    "\n",
    "# Advertencias\n",
    "import warnings\n",
    "warnings.filterwarnings(\"ignore\")"
   ]
  },
  {
   "cell_type": "code",
   "execution_count": 2,
   "metadata": {},
   "outputs": [],
   "source": [
    "datos = pd.read_csv('datos/230127_train_ESTACIONES.csv', parse_dates=['FECHAHORA'])"
   ]
  },
  {
   "attachments": {},
   "cell_type": "markdown",
   "metadata": {},
   "source": [
    "# VENTANAS DE TIEMPO"
   ]
  },
  {
   "cell_type": "code",
   "execution_count": null,
   "metadata": {},
   "outputs": [],
   "source": [
    "horizon = [0.25, 0.5, 1]\n",
    "resample = [5, 30, 60]\n",
    "previous = [2, 7, 15]\n",
    "\n",
    "# Start resampling\n",
    "\n",
    "for resample_item in resample:\n",
    "\n",
    "    df_train = datos.copy()\n",
    "\n",
    "    df_train.drop(['ANHO', 'DIA', 'MES', 'HORA', 'MINUTO', 'DIA_TRAF_COD', 'TRAFICO_COD', 'TIPO_COD',\n",
    "                'MEDICION_DIA', 'MP1_ANTERIOR', 'MP2_5_ANTERIOR', 'MP10_ANTERIOR',\n",
    "                'TEMPERATURA_PRONOSTICO', 'HUMEDAD_PRONOSTICO', 'PRESION_PRONOSTICO'], axis = 1, inplace = True)\n",
    "\n",
    "    df_train = df_train.set_index('FECHAHORA', drop = True)\n",
    "\n",
    "    lista_resample = []\n",
    "\n",
    "    if resample_item != 5: \n",
    "\n",
    "        r_i = str(resample_item) + 'T'\n",
    "\n",
    "        for station in range(1,11):\n",
    "            df_aux = df_train[df_train['ESTACION'] == station]\n",
    "\n",
    "            df_aux = df_aux.resample(r_i).mean()\n",
    "            lista_resample.append(df_aux)\n",
    "\n",
    "        df_train = pd.concat(lista_resample)\n",
    "\n",
    "    df_train['ANHO'] = df_train.index.year\n",
    "    df_train['MES'] = df_train.index.month\n",
    "    df_train['HORA'] = df_train.index.hour\n",
    "    df_train['MINUTO'] = df_train.index.minute\n",
    "    df_train['DIA'] = df_train.index.day\n",
    "    df_train['FECHAHORA'] = df_train.index\n",
    "    df_train.reset_index(inplace = True, drop = True)\n",
    "\n",
    "    df_train.to_csv('datos/experimento_full/train_resample_'+str(resample_item)+'_minutes.csv')\n",
    "\n",
    "    # OPTUNA\n",
    "\n",
    "    for previous_item in previous:\n",
    "        for horizon_item in horizon:\n",
    "            \n",
    "            estacion = 4\n",
    "\n",
    "            variables = [\"ANHO\", 'DIA', 'MES', 'HORA', 'MINUTO', 'MP1', 'MP2_5', 'MP10', 'AQI_MP10', 'AQI_MP2_5', 'TIPO', 'TRAFICO', 'HUMEDAD', \n",
    "                        'PRESION', 'TEMPERATURA','DIA_SEM']\n",
    "\n",
    "            dependent = ['AQI_MP2_5']\n",
    "\n",
    "            number_of_features = len(variables)\n",
    "\n",
    "            training_days = previous_item\n",
    "            forecast_days = horizon_item\n",
    "\n",
    "            if resample_item == 5:\n",
    "                samples_per_day = 288\n",
    "            elif resample_item == 30:\n",
    "                samples_per_day = 48\n",
    "            elif resample_item == 60:\n",
    "                samples_per_day = 24\n",
    "\n",
    "            step = forecast_days*samples_per_day\n",
    "\n",
    "            train_months = relativedelta(months = 12)\n",
    "\n",
    "            input_samples = int(samples_per_day * training_days) # cantidad de muestras en 7 dias\n",
    "            output_samples = int(samples_per_day * forecast_days) # cantidad de muestras en 1 dia\n",
    "            train_test_samples = int(input_samples + output_samples) # cantidad de datos para el train_test\n",
    "\n",
    "            X_train, y_train, X_test, y_test = utils_xgboost.get_everything(df_train, \n",
    "                                                                estacion,\n",
    "                                                                train_months, \n",
    "                                                                variables, \n",
    "                                                                dependent, \n",
    "                                                                train_test_samples, \n",
    "                                                                input_samples, \n",
    "                                                                output_samples, \n",
    "                                                                number_of_features,\n",
    "                                                                step)\n",
    "\n",
    "\n",
    "            # TESTEO\n",
    "\n",
    "            trained_xgb_model = joblib.load('models/models_xgboost/experimento_full/xgboost_estacion_4_resample_'+str(resample_item)+'_horizon_'+str(horizon_item)+'_previous_'+str(previous_item)+'.pkl')\n",
    "\n",
    "            prediction = trained_xgb_model.predict(X_test)\n",
    "            \n",
    "            predicciones = {}\n",
    "            metricas = {}\n",
    "            # guardamos los valores predecidos vs reales en un diccionario\n",
    "            \n",
    "            predicciones[4] = {'real' : y_test, 'prediccion': prediction}\n",
    "\n",
    "\n",
    "            mean_real = y_test.mean()\n",
    "            mean_prediction = prediction.mean()\n",
    "\n",
    "            MAPE = mean_absolute_percentage_error(prediction, y_test)\n",
    "            MAE = mean_absolute_error(prediction, y_test)\n",
    "            RMSE = mean_squared_error(prediction, y_test, squared = False)\n",
    "            \n",
    "            # guardamos las metricas en un diccionario\n",
    "            \n",
    "            metricas[4] = {'MAE': MAE, \"MAPE\": MAPE, 'RMSE': RMSE, 'Media real' : mean_real, 'Media predecida': mean_prediction}\n",
    "\n",
    "            df_metricas = pd.DataFrame.from_dict(metricas)\n",
    "\n",
    "            df_metricas.to_csv('metrics/XGBOOST/experimento_full/testing_xgboost_experimento_full_resample_'+str(resample_item)+'_horizon_'+str(horizon_item)+'_previous_'+str(previous_item)+'.csv')\n",
    "\n",
    "            list_dfs = []\n",
    "\n",
    "\n",
    "            d = {'TARGET': predicciones[4]['real'].flatten(), 'FORECAST': predicciones[4]['prediccion'].flatten()}\n",
    "            df_predicciones = pd.DataFrame(data = d)\n",
    "            df_predicciones['ESTACION'] = 4\n",
    "\n",
    "            df_predicciones.to_csv('datos/experimento_full/predicciones_estacion4_resample_'+str(resample_item)+'_horizon_'+str(horizon_item)+'_previous_'+str(previous_item)+'.csv')\n",
    "\n",
    "            print('testing_'+ str(resample_item)+'_'+str(horizon_item)+'_'+ str(previous_item)+' done!')"
   ]
  },
  {
   "attachments": {},
   "cell_type": "markdown",
   "metadata": {},
   "source": [
    "# MEJORES PARAMETROS / 10% DE CORRELACION"
   ]
  },
  {
   "cell_type": "code",
   "execution_count": null,
   "metadata": {},
   "outputs": [],
   "source": [
    "horizon = [0.25, 0.5, 1]\n",
    "resample = [5, 30, 60]\n",
    "previous = [2, 7, 15]\n",
    "\n",
    "# Start resampling\n",
    "\n",
    "for resample_item in resample:\n",
    "\n",
    "    df_train = datos.copy()\n",
    "\n",
    "    df_train.drop(['ANHO', 'DIA', 'MES', 'HORA', 'MINUTO', 'DIA_TRAF_COD', 'TRAFICO_COD', 'TIPO_COD',\n",
    "                'MEDICION_DIA', 'MP1_ANTERIOR', 'MP2_5_ANTERIOR', 'MP10_ANTERIOR',\n",
    "                'TEMPERATURA_PRONOSTICO', 'HUMEDAD_PRONOSTICO', 'PRESION_PRONOSTICO'], axis = 1, inplace = True)\n",
    "\n",
    "    df_train = df_train.set_index('FECHAHORA', drop = True)\n",
    "\n",
    "    lista_resample = []\n",
    "\n",
    "    if resample_item != 5: \n",
    "\n",
    "        r_i = str(resample_item) + 'T'\n",
    "\n",
    "        for station in range(1,11):\n",
    "            df_aux = df_train[df_train['ESTACION'] == station]\n",
    "\n",
    "            df_aux = df_aux.resample(r_i).mean()\n",
    "            lista_resample.append(df_aux)\n",
    "\n",
    "        df_train = pd.concat(lista_resample)\n",
    "\n",
    "    df_train['ANHO'] = df_train.index.year\n",
    "    df_train['MES'] = df_train.index.month\n",
    "    df_train['HORA'] = df_train.index.hour\n",
    "    df_train['MINUTO'] = df_train.index.minute\n",
    "    df_train['DIA'] = df_train.index.day\n",
    "    df_train['FECHAHORA'] = df_train.index\n",
    "    df_train.reset_index(inplace = True, drop = True)\n",
    "\n",
    "    df_train.to_csv('datos/experimento_full/train_resample_'+str(resample_item)+'_minutes.csv')\n",
    "\n",
    "    # OPTUNA\n",
    "\n",
    "    for previous_item in previous:\n",
    "        for horizon_item in horizon:\n",
    "            \n",
    "            estacion = 4\n",
    "\n",
    "            variables = ['MES', 'MP1', 'MP2_5', 'MP10', 'AQI_MP10', 'AQI_MP2_5', 'HUMEDAD', \n",
    "                        'PRESION', 'TEMPERATURA','DIA_SEM']\n",
    "\n",
    "            dependent = ['AQI_MP2_5']\n",
    "\n",
    "            number_of_features = len(variables)\n",
    "\n",
    "            training_days = previous_item\n",
    "            forecast_days = horizon_item\n",
    "\n",
    "            if resample_item == 5:\n",
    "                samples_per_day = 288\n",
    "            elif resample_item == 30:\n",
    "                samples_per_day = 48\n",
    "            elif resample_item == 60:\n",
    "                samples_per_day = 24\n",
    "\n",
    "            step = forecast_days*samples_per_day\n",
    "\n",
    "            train_months = relativedelta(months = 12)\n",
    "\n",
    "            input_samples = int(samples_per_day * training_days) # cantidad de muestras en 7 dias\n",
    "            output_samples = int(samples_per_day * forecast_days) # cantidad de muestras en 1 dia\n",
    "            train_test_samples = int(input_samples + output_samples) # cantidad de datos para el train_test\n",
    "\n",
    "            X_train, y_train, X_test, y_test = utils_xgboost.get_everything(df_train, \n",
    "                                                                estacion,\n",
    "                                                                train_months, \n",
    "                                                                variables, \n",
    "                                                                dependent, \n",
    "                                                                train_test_samples, \n",
    "                                                                input_samples, \n",
    "                                                                output_samples, \n",
    "                                                                number_of_features,\n",
    "                                                                step)\n",
    "\n",
    "\n",
    "            # TESTEO\n",
    "\n",
    "            trained_xgb_model = joblib.load('models/models_xgboost/experimento_full/xgboost_mejoresparam_estacion_4_resample_'+str(resample_item)+'_horizon_'+str(horizon_item)+'_previous_'+str(previous_item)+'.pkl')\n",
    "\n",
    "            prediction = trained_xgb_model.predict(X_test)\n",
    "            \n",
    "            predicciones = {}\n",
    "            metricas = {}\n",
    "            # guardamos los valores predecidos vs reales en un diccionario\n",
    "            \n",
    "            predicciones[4] = {'real' : y_test, 'prediccion': prediction}\n",
    "\n",
    "\n",
    "            mean_real = y_test.mean()\n",
    "            mean_prediction = prediction.mean()\n",
    "\n",
    "            MAPE = mean_absolute_percentage_error(prediction, y_test)\n",
    "            MAE = mean_absolute_error(prediction, y_test)\n",
    "            RMSE = mean_squared_error(prediction, y_test, squared = False)\n",
    "            \n",
    "            # guardamos las metricas en un diccionario\n",
    "            \n",
    "            metricas[4] = {'MAE': MAE, \"MAPE\": MAPE, 'RMSE': RMSE, 'Media real' : mean_real, 'Media predecida': mean_prediction}\n",
    "\n",
    "            df_metricas = pd.DataFrame.from_dict(metricas)\n",
    "\n",
    "            df_metricas.to_csv('metrics/XGBOOST/experimento_full/testing_xgboost_MEJORESPARAM10_experimento_full_resample_'+str(resample_item)+'_horizon_'+str(horizon_item)+'_previous_'+str(previous_item)+'.csv')\n",
    "\n",
    "            list_dfs = []\n",
    "\n",
    "\n",
    "            d = {'TARGET': predicciones[4]['real'].flatten(), 'FORECAST': predicciones[4]['prediccion'].flatten()}\n",
    "            df_predicciones = pd.DataFrame(data = d)\n",
    "            df_predicciones['ESTACION'] = 4\n",
    "\n",
    "            df_predicciones.to_csv('datos/experimento_full/predicciones_estacion4_MEJORESPARAM10_resample_'+str(resample_item)+'_horizon_'+str(horizon_item)+'_previous_'+str(previous_item)+'.csv')\n",
    "\n",
    "            print('testing_'+ str(resample_item)+'_'+str(horizon_item)+'_'+ str(previous_item)+' done!')"
   ]
  },
  {
   "attachments": {},
   "cell_type": "markdown",
   "metadata": {},
   "source": [
    "# MEJORES PARAMETROS - 20% DE CORRELACION"
   ]
  },
  {
   "cell_type": "code",
   "execution_count": null,
   "metadata": {},
   "outputs": [],
   "source": [
    "horizon = [0.25, 0.5, 1]\n",
    "resample = [5, 30, 60]\n",
    "previous = [2, 7, 15]\n",
    "\n",
    "# Start resampling\n",
    "\n",
    "for resample_item in resample:\n",
    "\n",
    "    df_train = datos.copy()\n",
    "\n",
    "    df_train.drop(['ANHO', 'DIA', 'MES', 'HORA', 'MINUTO', 'DIA_TRAF_COD', 'TRAFICO_COD', 'TIPO_COD',\n",
    "                'MEDICION_DIA', 'MP1_ANTERIOR', 'MP2_5_ANTERIOR', 'MP10_ANTERIOR',\n",
    "                'TEMPERATURA_PRONOSTICO', 'HUMEDAD_PRONOSTICO', 'PRESION_PRONOSTICO'], axis = 1, inplace = True)\n",
    "\n",
    "    df_train = df_train.set_index('FECHAHORA', drop = True)\n",
    "\n",
    "    lista_resample = []\n",
    "\n",
    "    if resample_item != 5: \n",
    "\n",
    "        r_i = str(resample_item) + 'T'\n",
    "\n",
    "        for station in range(1,11):\n",
    "            df_aux = df_train[df_train['ESTACION'] == station]\n",
    "\n",
    "            df_aux = df_aux.resample(r_i).mean()\n",
    "            lista_resample.append(df_aux)\n",
    "\n",
    "        df_train = pd.concat(lista_resample)\n",
    "\n",
    "    df_train['ANHO'] = df_train.index.year\n",
    "    df_train['MES'] = df_train.index.month\n",
    "    df_train['HORA'] = df_train.index.hour\n",
    "    df_train['MINUTO'] = df_train.index.minute\n",
    "    df_train['DIA'] = df_train.index.day\n",
    "    df_train['FECHAHORA'] = df_train.index\n",
    "    df_train.reset_index(inplace = True, drop = True)\n",
    "\n",
    "    df_train.to_csv('datos/experimento_full/train_resample_'+str(resample_item)+'_minutes.csv')\n",
    "\n",
    "    # OPTUNA\n",
    "\n",
    "    for previous_item in previous:\n",
    "        for horizon_item in horizon:\n",
    "            \n",
    "            estacion = 4\n",
    "\n",
    "            variables = ['MP1', 'MP2_5', 'MP10', 'AQI_MP10', 'AQI_MP2_5', \n",
    "                        'PRESION', 'DIA_SEM']\n",
    "\n",
    "            dependent = ['AQI_MP2_5']\n",
    "\n",
    "            number_of_features = len(variables)\n",
    "\n",
    "            training_days = previous_item\n",
    "            forecast_days = horizon_item\n",
    "\n",
    "            if resample_item == 5:\n",
    "                samples_per_day = 288\n",
    "            elif resample_item == 30:\n",
    "                samples_per_day = 48\n",
    "            elif resample_item == 60:\n",
    "                samples_per_day = 24\n",
    "\n",
    "            step = forecast_days*samples_per_day\n",
    "\n",
    "            train_months = relativedelta(months = 12)\n",
    "\n",
    "            input_samples = int(samples_per_day * training_days) # cantidad de muestras en 7 dias\n",
    "            output_samples = int(samples_per_day * forecast_days) # cantidad de muestras en 1 dia\n",
    "            train_test_samples = int(input_samples + output_samples) # cantidad de datos para el train_test\n",
    "\n",
    "            X_train, y_train, X_test, y_test = utils_xgboost.get_everything(df_train, \n",
    "                                                                estacion,\n",
    "                                                                train_months, \n",
    "                                                                variables, \n",
    "                                                                dependent, \n",
    "                                                                train_test_samples, \n",
    "                                                                input_samples, \n",
    "                                                                output_samples, \n",
    "                                                                number_of_features,\n",
    "                                                                step)\n",
    "\n",
    "\n",
    "            def objective(trial):\n",
    "    \n",
    "                params = {\n",
    "                    'max_depth': trial.suggest_int('max_depth', 1, 9),\n",
    "                    'learning_rate': trial.suggest_loguniform('learning_rate', 0.01, 1.0),\n",
    "                    'n_estimators': trial.suggest_int('n_estimators', 10, 300),\n",
    "                    'min_child_weight': trial.suggest_int('min_child_weight', 1, 10),\n",
    "                    'gamma': trial.suggest_loguniform('gamma', 1e-5, 1.0),\n",
    "                    'subsample': trial.suggest_loguniform('subsample', 0.01, 1.0),\n",
    "                    'colsample_bytree': trial.suggest_loguniform('colsample_bytree', 0.01, 1.0),\n",
    "                }\n",
    "                \n",
    "                optuna_xgb_model = xgb.XGBRegressor(** params)\n",
    "                \n",
    "                trained_xgb_model = MultiOutputRegressor(optuna_xgb_model).fit(X_train , y_train)\n",
    "\n",
    "                prediction = trained_xgb_model.predict(X_test)\n",
    "\n",
    "                MAPE = mean_absolute_percentage_error(prediction, y_test)\n",
    "                print('MAPE: ', MAPE)\n",
    "                MAE = np.mean(np.abs(prediction - y_test))\n",
    "                print('MAE: ', MAE)\n",
    "\n",
    "                MSE = mean_squared_error(prediction, y_test)\n",
    "                \n",
    "                return MSE\n",
    "\n",
    "            study = optuna.create_study(direction='minimize')\n",
    "\n",
    "            study.optimize(objective, n_trials = 100 )\n",
    "\n",
    "            trial = study.best_trial\n",
    "\n",
    "            joblib.dump(study, \"optuna_studies/XGBOOST/experimento_full/study_XGBOOST_mejoresparam20_resample_\"+str(resample_item)+\"_horizon_\"+str(horizon_item)+\"_previous_\"+str(previous_item)+\".pkl\")\n",
    "\n",
    "            # VALIDATION\n",
    "\n",
    "            params = study.best_params\n",
    "\n",
    "            # study = joblib.load(\"optuna_studies/XGBOOST/experimento_full/study_XGBOOST_resample_\"+str(resample_item)+\"_horizon_\"+str(horizon_item)+\"_previous_\"+str(previous_item)+\".pkl\")\n",
    "\n",
    "            xgb_model = xgb.XGBRegressor(** params)\n",
    "\n",
    "            trained_xgb_model = MultiOutputRegressor(xgb_model).fit(X_train , y_train)\n",
    "            \n",
    "            prediction = trained_xgb_model.predict(X_test)\n",
    "            \n",
    "            predicciones = {}\n",
    "            metricas = {}\n",
    "            # guardamos los valores predecidos vs reales en un diccionario\n",
    "            \n",
    "            predicciones[4] = {'real' : y_test, 'prediccion': prediction}\n",
    "\n",
    "\n",
    "            mean_real = y_test.mean()\n",
    "            mean_prediction = prediction.mean()\n",
    "\n",
    "            MAPE = mean_absolute_percentage_error(prediction, y_test)\n",
    "            MAE =100 * mean_absolute_error(prediction, y_test)\n",
    "            RMSE = mean_squared_error(prediction, y_test, squared = False)\n",
    "            \n",
    "            # guardamos las metricas en un diccionario\n",
    "            \n",
    "            metricas[4] = {'MAE': MAE, \"MAPE\": MAPE, 'RMSE': RMSE, 'Media real' : mean_real, 'Media predecida': mean_prediction}\n",
    "\n",
    "            df_metricas = pd.DataFrame.from_dict(metricas)\n",
    "\n",
    "            df_metricas.to_csv('metrics/XGBOOST/experimento_full/testing_xgboost_MEJORESPARAM20_experimento_full_resample_'+str(resample_item)+'_horizon_'+str(horizon_item)+'_previous_'+str(previous_item)+'.csv')\n",
    "\n",
    "            list_dfs = []\n",
    "\n",
    "\n",
    "            d = {'TARGET': predicciones[4]['real'].flatten(), 'FORECAST': predicciones[4]['prediccion'].flatten()}\n",
    "            df_predicciones = pd.DataFrame(data = d)\n",
    "            df_predicciones['ESTACION'] = 4\n",
    "\n",
    "            df_predicciones.to_csv('datos/experimento_full/predicciones_estacion4_MEJORESPARAM20_resample_'+str(resample_item)+'_horizon_'+str(horizon_item)+'_previous_'+str(previous_item)+'.csv')\n"
   ]
  },
  {
   "attachments": {},
   "cell_type": "markdown",
   "metadata": {},
   "source": [
    "# MEJORES PARAMETROS - 40% DE CORRELACION"
   ]
  },
  {
   "cell_type": "code",
   "execution_count": null,
   "metadata": {},
   "outputs": [],
   "source": [
    "horizon = [0.25, 0.5, 1]\n",
    "resample = [5, 30, 60]\n",
    "previous = [2, 7, 15]\n",
    "\n",
    "# Start resampling\n",
    "\n",
    "for resample_item in resample:\n",
    "\n",
    "    df_train = datos.copy()\n",
    "\n",
    "    df_train.drop(['ANHO', 'DIA', 'MES', 'HORA', 'MINUTO', 'DIA_TRAF_COD', 'TRAFICO_COD', 'TIPO_COD',\n",
    "                'MEDICION_DIA', 'MP1_ANTERIOR', 'MP2_5_ANTERIOR', 'MP10_ANTERIOR',\n",
    "                'TEMPERATURA_PRONOSTICO', 'HUMEDAD_PRONOSTICO', 'PRESION_PRONOSTICO'], axis = 1, inplace = True)\n",
    "\n",
    "    df_train = df_train.set_index('FECHAHORA', drop = True)\n",
    "\n",
    "    lista_resample = []\n",
    "\n",
    "    if resample_item != 5: \n",
    "\n",
    "        r_i = str(resample_item) + 'T'\n",
    "\n",
    "        for station in range(1,11):\n",
    "            df_aux = df_train[df_train['ESTACION'] == station]\n",
    "\n",
    "            df_aux = df_aux.resample(r_i).mean()\n",
    "            lista_resample.append(df_aux)\n",
    "\n",
    "        df_train = pd.concat(lista_resample)\n",
    "\n",
    "    df_train['ANHO'] = df_train.index.year\n",
    "    df_train['MES'] = df_train.index.month\n",
    "    df_train['HORA'] = df_train.index.hour\n",
    "    df_train['MINUTO'] = df_train.index.minute\n",
    "    df_train['DIA'] = df_train.index.day\n",
    "    df_train['FECHAHORA'] = df_train.index\n",
    "    df_train.reset_index(inplace = True, drop = True)\n",
    "\n",
    "    #df_train.to_csv('datos/experimento_full/train_resample_'+str(resample_item)+'_minutes.csv')\n",
    "\n",
    "    # OPTUNA\n",
    "\n",
    "    for previous_item in previous:\n",
    "        for horizon_item in horizon:\n",
    "            \n",
    "            estacion = 4\n",
    "\n",
    "            variables = ['MP1', 'MP2_5', 'AQI_MP10', 'AQI_MP2_5']\n",
    "\n",
    "            dependent = ['AQI_MP2_5']\n",
    "\n",
    "            number_of_features = len(variables)\n",
    "\n",
    "            training_days = previous_item\n",
    "            forecast_days = horizon_item\n",
    "\n",
    "            if resample_item == 5:\n",
    "                samples_per_day = 288\n",
    "            elif resample_item == 30:\n",
    "                samples_per_day = 48\n",
    "            elif resample_item == 60:\n",
    "                samples_per_day = 24\n",
    "\n",
    "            step = forecast_days*samples_per_day\n",
    "\n",
    "            train_months = relativedelta(months = 12)\n",
    "\n",
    "            input_samples = int(samples_per_day * training_days) # cantidad de muestras en 7 dias\n",
    "            output_samples = int(samples_per_day * forecast_days) # cantidad de muestras en 1 dia\n",
    "            train_test_samples = int(input_samples + output_samples) # cantidad de datos para el train_test\n",
    "\n",
    "            X_train, y_train, X_test, y_test = utils_xgboost.get_everything(df_train, \n",
    "                                                                estacion,\n",
    "                                                                train_months, \n",
    "                                                                variables, \n",
    "                                                                dependent, \n",
    "                                                                train_test_samples, \n",
    "                                                                input_samples, \n",
    "                                                                output_samples, \n",
    "                                                                number_of_features,\n",
    "                                                                step)\n",
    "\n",
    "\n",
    "            def objective(trial):\n",
    "    \n",
    "                params = {\n",
    "                    'max_depth': trial.suggest_int('max_depth', 1, 9),\n",
    "                    'learning_rate': trial.suggest_loguniform('learning_rate', 0.01, 1.0),\n",
    "                    'n_estimators': trial.suggest_int('n_estimators', 10, 300),\n",
    "                    'min_child_weight': trial.suggest_int('min_child_weight', 1, 10),\n",
    "                    'gamma': trial.suggest_loguniform('gamma', 1e-5, 1.0),\n",
    "                    'subsample': trial.suggest_loguniform('subsample', 0.01, 1.0),\n",
    "                    'colsample_bytree': trial.suggest_loguniform('colsample_bytree', 0.01, 1.0),\n",
    "                }\n",
    "                \n",
    "                optuna_xgb_model = xgb.XGBRegressor(** params)\n",
    "                \n",
    "                trained_xgb_model = MultiOutputRegressor(optuna_xgb_model).fit(X_train , y_train)\n",
    "\n",
    "                prediction = trained_xgb_model.predict(X_test)\n",
    "\n",
    "                MAPE = mean_absolute_percentage_error(prediction, y_test)\n",
    "                print('MAPE: ', MAPE)\n",
    "                MAE = np.mean(np.abs(prediction - y_test))\n",
    "                print('MAE: ', MAE)\n",
    "\n",
    "                MSE = mean_squared_error(prediction, y_test)\n",
    "                \n",
    "                return MSE\n",
    "\n",
    "            study = optuna.create_study(direction='minimize')\n",
    "\n",
    "            study.optimize(objective, n_trials = 100 )\n",
    "\n",
    "            trial = study.best_trial\n",
    "\n",
    "            joblib.dump(study, \"optuna_studies/XGBOOST/experimento_full/NORMALIZADO_study_XGBOOST_mejoresparam40_resample_\"+str(resample_item)+\"_horizon_\"+str(horizon_item)+\"_previous_\"+str(previous_item)+\".pkl\")\n",
    "\n",
    "            # VALIDATION\n",
    "\n",
    "            params = study.best_params\n",
    "\n",
    "            # study = joblib.load(\"optuna_studies/XGBOOST/experimento_full/study_XGBOOST_resample_\"+str(resample_item)+\"_horizon_\"+str(horizon_item)+\"_previous_\"+str(previous_item)+\".pkl\")\n",
    "\n",
    "            xgb_model = xgb.XGBRegressor(** params)\n",
    "\n",
    "            trained_xgb_model = MultiOutputRegressor(xgb_model).fit(X_train , y_train)\n",
    "            \n",
    "            prediction = trained_xgb_model.predict(X_test)\n",
    "            \n",
    "            predicciones = {}\n",
    "            metricas = {}\n",
    "            # guardamos los valores predecidos vs reales en un diccionario\n",
    "            \n",
    "            predicciones[4] = {'real' : y_test, 'prediccion': prediction}\n",
    "\n",
    "\n",
    "            mean_real = y_test.mean()\n",
    "            mean_prediction = prediction.mean()\n",
    "\n",
    "            MAPE = mean_absolute_percentage_error(prediction, y_test) * 100\n",
    "            MAE = mean_absolute_error(prediction, y_test)\n",
    "            RMSE = mean_squared_error(prediction, y_test, squared = False)\n",
    "            \n",
    "            # guardamos las metricas en un diccionario\n",
    "            \n",
    "            metricas[4] = {'MAE': MAE, \"MAPE\": MAPE, 'RMSE': RMSE, 'Media real' : mean_real, 'Media predecida': mean_prediction}\n",
    "\n",
    "            df_metricas = pd.DataFrame.from_dict(metricas)\n",
    "\n",
    "            df_metricas.to_csv('metrics/XGBOOST/experimento_full/testing_xgboost_MEJORESPARAM_40_experimento_full_resample_'+str(resample_item)+'_horizon_'+str(horizon_item)+'_previous_'+str(previous_item)+'.csv')\n",
    "\n",
    "            list_dfs = []\n",
    "\n",
    "\n",
    "            d = {'TARGET': predicciones[4]['real'].flatten(), 'FORECAST': predicciones[4]['prediccion'].flatten()}\n",
    "            df_predicciones = pd.DataFrame(data = d)\n",
    "            df_predicciones['ESTACION'] = 4\n",
    "\n",
    "            df_predicciones.to_csv('datos/experimento_full/predicciones_estacion4_MEJORESPARAM_40_resample_'+str(resample_item)+'_horizon_'+str(horizon_item)+'_previous_'+str(previous_item)+'.csv')"
   ]
  },
  {
   "attachments": {},
   "cell_type": "markdown",
   "metadata": {},
   "source": [
    "# Probamos reentrenar el mejor modelo para 6hs normalizando"
   ]
  },
  {
   "cell_type": "code",
   "execution_count": 3,
   "metadata": {},
   "outputs": [
    {
     "name": "stderr",
     "output_type": "stream",
     "text": [
      "\u001b[32m[I 2023-04-08 15:57:06,008]\u001b[0m A new study created in memory with name: no-name-1b53e661-67df-48c2-829f-2e7af4338d9e\u001b[0m\n",
      "\u001b[32m[I 2023-04-08 15:57:11,061]\u001b[0m Trial 0 finished with value: 262.963196866539 and parameters: {'max_depth': 5, 'learning_rate': 0.8270984379558769, 'n_estimators': 29, 'min_child_weight': 10, 'gamma': 0.550364140892195, 'subsample': 0.03012258486675799, 'colsample_bytree': 0.6799456983913087}. Best is trial 0 with value: 262.963196866539.\u001b[0m\n"
     ]
    },
    {
     "name": "stdout",
     "output_type": "stream",
     "text": [
      "MAPE:  1.271467002785484\n",
      "MAE:  12.688769949954724\n"
     ]
    },
    {
     "name": "stderr",
     "output_type": "stream",
     "text": [
      "\u001b[32m[I 2023-04-08 15:57:19,310]\u001b[0m Trial 1 finished with value: 115.76887653199866 and parameters: {'max_depth': 5, 'learning_rate': 0.38318500218492396, 'n_estimators': 62, 'min_child_weight': 5, 'gamma': 2.3345896328274177e-05, 'subsample': 0.01769370618583572, 'colsample_bytree': 0.38763273017704225}. Best is trial 1 with value: 115.76887653199866.\u001b[0m\n"
     ]
    },
    {
     "name": "stdout",
     "output_type": "stream",
     "text": [
      "MAPE:  0.7068334443712886\n",
      "MAE:  8.383610496162024\n"
     ]
    },
    {
     "name": "stderr",
     "output_type": "stream",
     "text": [
      "\u001b[32m[I 2023-04-08 15:57:36,405]\u001b[0m Trial 2 finished with value: 42.2483687874146 and parameters: {'max_depth': 1, 'learning_rate': 0.012307010411163694, 'n_estimators': 196, 'min_child_weight': 5, 'gamma': 0.00017756145201405863, 'subsample': 0.08824127587911312, 'colsample_bytree': 0.2649579880383336}. Best is trial 2 with value: 42.2483687874146.\u001b[0m\n"
     ]
    },
    {
     "name": "stdout",
     "output_type": "stream",
     "text": [
      "MAPE:  0.20316323626460359\n",
      "MAE:  4.681162420506781\n"
     ]
    },
    {
     "name": "stderr",
     "output_type": "stream",
     "text": [
      "\u001b[32m[I 2023-04-08 15:57:45,656]\u001b[0m Trial 3 finished with value: 41.532826713451314 and parameters: {'max_depth': 5, 'learning_rate': 0.07860923555081398, 'n_estimators': 41, 'min_child_weight': 6, 'gamma': 0.01708543686699092, 'subsample': 0.09474134819625415, 'colsample_bytree': 0.6796054412159434}. Best is trial 3 with value: 41.532826713451314.\u001b[0m\n"
     ]
    },
    {
     "name": "stdout",
     "output_type": "stream",
     "text": [
      "MAPE:  0.1759292306117636\n",
      "MAE:  4.603463831484392\n"
     ]
    },
    {
     "name": "stderr",
     "output_type": "stream",
     "text": [
      "\u001b[32m[I 2023-04-08 15:57:59,437]\u001b[0m Trial 4 finished with value: 96.3339476436416 and parameters: {'max_depth': 7, 'learning_rate': 0.28169667233757933, 'n_estimators': 78, 'min_child_weight': 3, 'gamma': 1.849414208674734e-05, 'subsample': 0.04247210438042258, 'colsample_bytree': 0.3416560834357955}. Best is trial 3 with value: 41.532826713451314.\u001b[0m\n"
     ]
    },
    {
     "name": "stdout",
     "output_type": "stream",
     "text": [
      "MAPE:  0.30090590752002644\n",
      "MAE:  7.399701809057135\n"
     ]
    },
    {
     "name": "stderr",
     "output_type": "stream",
     "text": [
      "\u001b[32m[I 2023-04-08 15:58:08,330]\u001b[0m Trial 5 finished with value: 40.02957776194783 and parameters: {'max_depth': 5, 'learning_rate': 0.04561760844731879, 'n_estimators': 79, 'min_child_weight': 3, 'gamma': 0.0015165933910576091, 'subsample': 0.059779108177606954, 'colsample_bytree': 0.015874354992734086}. Best is trial 5 with value: 40.02957776194783.\u001b[0m\n"
     ]
    },
    {
     "name": "stdout",
     "output_type": "stream",
     "text": [
      "MAPE:  0.18684104046900005\n",
      "MAE:  4.208932436100404\n"
     ]
    },
    {
     "name": "stderr",
     "output_type": "stream",
     "text": [
      "\u001b[32m[I 2023-04-08 15:58:40,174]\u001b[0m Trial 6 finished with value: 19.531175100564457 and parameters: {'max_depth': 8, 'learning_rate': 0.017631029866565683, 'n_estimators': 215, 'min_child_weight': 8, 'gamma': 6.10858894541325e-05, 'subsample': 0.4240691702191768, 'colsample_bytree': 0.0430887387270036}. Best is trial 6 with value: 19.531175100564457.\u001b[0m\n"
     ]
    },
    {
     "name": "stdout",
     "output_type": "stream",
     "text": [
      "MAPE:  0.1341256241006611\n",
      "MAE:  2.9835556708694844\n"
     ]
    },
    {
     "name": "stderr",
     "output_type": "stream",
     "text": [
      "\u001b[32m[I 2023-04-08 15:59:02,053]\u001b[0m Trial 7 finished with value: 3813.157806147176 and parameters: {'max_depth': 2, 'learning_rate': 0.7686704599799505, 'n_estimators': 275, 'min_child_weight': 8, 'gamma': 0.02286729554705966, 'subsample': 0.01805263507324958, 'colsample_bytree': 0.01413538158759658}. Best is trial 6 with value: 19.531175100564457.\u001b[0m\n"
     ]
    },
    {
     "name": "stdout",
     "output_type": "stream",
     "text": [
      "MAPE:  3.1048512675585282\n",
      "MAE:  46.60479095834744\n"
     ]
    },
    {
     "name": "stderr",
     "output_type": "stream",
     "text": [
      "\u001b[32m[I 2023-04-08 15:59:29,112]\u001b[0m Trial 8 finished with value: 58721640.086866505 and parameters: {'max_depth': 7, 'learning_rate': 0.957622381181693, 'n_estimators': 212, 'min_child_weight': 5, 'gamma': 1.964310362196524e-05, 'subsample': 0.19536956974550151, 'colsample_bytree': 0.04540625305493307}. Best is trial 6 with value: 19.531175100564457.\u001b[0m\n"
     ]
    },
    {
     "name": "stdout",
     "output_type": "stream",
     "text": [
      "MAPE:  1.1171074334363484\n",
      "MAE:  3228.7608640535495\n"
     ]
    },
    {
     "name": "stderr",
     "output_type": "stream",
     "text": [
      "\u001b[32m[I 2023-04-08 15:59:54,369]\u001b[0m Trial 9 finished with value: 22.26662406585429 and parameters: {'max_depth': 4, 'learning_rate': 0.011784132035928676, 'n_estimators': 215, 'min_child_weight': 1, 'gamma': 9.080081978925196e-05, 'subsample': 0.25050484390450223, 'colsample_bytree': 0.08297558370750698}. Best is trial 6 with value: 19.531175100564457.\u001b[0m\n"
     ]
    },
    {
     "name": "stdout",
     "output_type": "stream",
     "text": [
      "MAPE:  0.13238000146422302\n",
      "MAE:  2.990294388338421\n"
     ]
    },
    {
     "name": "stderr",
     "output_type": "stream",
     "text": [
      "\u001b[32m[I 2023-04-08 16:00:41,473]\u001b[0m Trial 10 finished with value: 23.34104227457969 and parameters: {'max_depth': 9, 'learning_rate': 0.02704688556194116, 'n_estimators': 297, 'min_child_weight': 10, 'gamma': 0.0006075438881235931, 'subsample': 0.7699672834847141, 'colsample_bytree': 0.03776434130147336}. Best is trial 6 with value: 19.531175100564457.\u001b[0m\n"
     ]
    },
    {
     "name": "stdout",
     "output_type": "stream",
     "text": [
      "MAPE:  0.15019564707660749\n",
      "MAE:  3.5139136688502393\n"
     ]
    },
    {
     "name": "stderr",
     "output_type": "stream",
     "text": [
      "\u001b[32m[I 2023-04-08 16:00:58,948]\u001b[0m Trial 11 finished with value: 42.47889142121104 and parameters: {'max_depth': 3, 'learning_rate': 0.010691294508547701, 'n_estimators': 152, 'min_child_weight': 1, 'gamma': 0.00011599774754071625, 'subsample': 0.36854831698373186, 'colsample_bytree': 0.09861789130313589}. Best is trial 6 with value: 19.531175100564457.\u001b[0m\n"
     ]
    },
    {
     "name": "stdout",
     "output_type": "stream",
     "text": [
      "MAPE:  0.21464129841766427\n",
      "MAE:  4.529403218132131\n"
     ]
    },
    {
     "name": "stderr",
     "output_type": "stream",
     "text": [
      "\u001b[32m[I 2023-04-08 16:01:36,435]\u001b[0m Trial 12 finished with value: 28.989098142219973 and parameters: {'max_depth': 9, 'learning_rate': 0.025719171558787213, 'n_estimators': 235, 'min_child_weight': 8, 'gamma': 0.00014049858187328178, 'subsample': 0.2637622546493392, 'colsample_bytree': 0.09009914656722315}. Best is trial 6 with value: 19.531175100564457.\u001b[0m\n"
     ]
    },
    {
     "name": "stdout",
     "output_type": "stream",
     "text": [
      "MAPE:  0.16232425821736965\n",
      "MAE:  4.03686999394727\n"
     ]
    },
    {
     "name": "stderr",
     "output_type": "stream",
     "text": [
      "\u001b[32m[I 2023-04-08 16:02:03,867]\u001b[0m Trial 13 finished with value: 20.75397782743078 and parameters: {'max_depth': 7, 'learning_rate': 0.02311420956372733, 'n_estimators': 150, 'min_child_weight': 1, 'gamma': 0.008919146985036305, 'subsample': 0.9426665352616883, 'colsample_bytree': 0.03973698114278282}. Best is trial 6 with value: 19.531175100564457.\u001b[0m\n"
     ]
    },
    {
     "name": "stdout",
     "output_type": "stream",
     "text": [
      "MAPE:  0.13380289328600087\n",
      "MAE:  2.9378481851646514\n"
     ]
    },
    {
     "name": "stderr",
     "output_type": "stream",
     "text": [
      "\u001b[32m[I 2023-04-08 16:02:24,914]\u001b[0m Trial 14 finished with value: 20.537655939647 and parameters: {'max_depth': 7, 'learning_rate': 0.02605023018211924, 'n_estimators': 132, 'min_child_weight': 8, 'gamma': 0.013216491399105657, 'subsample': 0.919509376196332, 'colsample_bytree': 0.03353731521745396}. Best is trial 6 with value: 19.531175100564457.\u001b[0m\n"
     ]
    },
    {
     "name": "stdout",
     "output_type": "stream",
     "text": [
      "MAPE:  0.13365535228113648\n",
      "MAE:  2.9555904278706078\n"
     ]
    },
    {
     "name": "stderr",
     "output_type": "stream",
     "text": [
      "\u001b[32m[I 2023-04-08 16:02:41,244]\u001b[0m Trial 15 finished with value: 24.940792413682427 and parameters: {'max_depth': 8, 'learning_rate': 0.10253539845036337, 'n_estimators': 104, 'min_child_weight': 8, 'gamma': 0.12495989125552431, 'subsample': 0.5086742501361621, 'colsample_bytree': 0.024216986666946345}. Best is trial 6 with value: 19.531175100564457.\u001b[0m\n"
     ]
    },
    {
     "name": "stdout",
     "output_type": "stream",
     "text": [
      "MAPE:  0.1544704329953218\n",
      "MAE:  3.64438350537743\n"
     ]
    },
    {
     "name": "stderr",
     "output_type": "stream",
     "text": [
      "\u001b[32m[I 2023-04-08 16:03:07,487]\u001b[0m Trial 16 finished with value: 30.16503355828315 and parameters: {'max_depth': 8, 'learning_rate': 0.0583186826160355, 'n_estimators': 115, 'min_child_weight': 7, 'gamma': 0.0022891201615088575, 'subsample': 0.4928975553263374, 'colsample_bytree': 0.16798658649763545}. Best is trial 6 with value: 19.531175100564457.\u001b[0m\n"
     ]
    },
    {
     "name": "stdout",
     "output_type": "stream",
     "text": [
      "MAPE:  0.15843635711389867\n",
      "MAE:  3.9950496242585105\n"
     ]
    },
    {
     "name": "stderr",
     "output_type": "stream",
     "text": [
      "\u001b[32m[I 2023-04-08 16:03:27,529]\u001b[0m Trial 17 finished with value: 37.82261484950189 and parameters: {'max_depth': 6, 'learning_rate': 0.14431780180380857, 'n_estimators': 179, 'min_child_weight': 9, 'gamma': 0.03681210888701929, 'subsample': 0.15267124925279685, 'colsample_bytree': 0.022994781924985157}. Best is trial 6 with value: 19.531175100564457.\u001b[0m\n"
     ]
    },
    {
     "name": "stdout",
     "output_type": "stream",
     "text": [
      "MAPE:  0.1831041505539773\n",
      "MAE:  4.691780536139056\n"
     ]
    },
    {
     "name": "stderr",
     "output_type": "stream",
     "text": [
      "\u001b[32m[I 2023-04-08 16:04:13,114]\u001b[0m Trial 18 finished with value: 29.476254854615174 and parameters: {'max_depth': 8, 'learning_rate': 0.03840951900522574, 'n_estimators': 260, 'min_child_weight': 7, 'gamma': 0.0005567107184330362, 'subsample': 0.6081304851464884, 'colsample_bytree': 0.06033728026534511}. Best is trial 6 with value: 19.531175100564457.\u001b[0m\n"
     ]
    },
    {
     "name": "stdout",
     "output_type": "stream",
     "text": [
      "MAPE:  0.16671068360707877\n",
      "MAE:  4.119961766863286\n"
     ]
    },
    {
     "name": "stderr",
     "output_type": "stream",
     "text": [
      "\u001b[32m[I 2023-04-08 16:04:30,940]\u001b[0m Trial 19 finished with value: 30.29868944851041 and parameters: {'max_depth': 6, 'learning_rate': 0.01665168593576606, 'n_estimators': 125, 'min_child_weight': 9, 'gamma': 0.12621819912290935, 'subsample': 0.9438098822820529, 'colsample_bytree': 0.024789860174343904}. Best is trial 6 with value: 19.531175100564457.\u001b[0m\n"
     ]
    },
    {
     "name": "stdout",
     "output_type": "stream",
     "text": [
      "MAPE:  0.1583742033387362\n",
      "MAE:  3.519378313206406\n"
     ]
    },
    {
     "name": "stderr",
     "output_type": "stream",
     "text": [
      "\u001b[32m[I 2023-04-08 16:04:59,506]\u001b[0m Trial 20 finished with value: 23.755742025465068 and parameters: {'max_depth': 9, 'learning_rate': 0.019007852999431966, 'n_estimators': 183, 'min_child_weight': 7, 'gamma': 0.008152449235988117, 'subsample': 0.1513291184650875, 'colsample_bytree': 0.1604876912802275}. Best is trial 6 with value: 19.531175100564457.\u001b[0m\n"
     ]
    },
    {
     "name": "stdout",
     "output_type": "stream",
     "text": [
      "MAPE:  0.14397745534110618\n",
      "MAE:  3.4151322212112083\n"
     ]
    },
    {
     "name": "stderr",
     "output_type": "stream",
     "text": [
      "\u001b[32m[I 2023-04-08 16:05:26,739]\u001b[0m Trial 21 finished with value: 19.399355501164067 and parameters: {'max_depth': 7, 'learning_rate': 0.027892722064639587, 'n_estimators': 154, 'min_child_weight': 3, 'gamma': 0.005770671021647422, 'subsample': 0.8859883339840737, 'colsample_bytree': 0.044450197935337166}. Best is trial 21 with value: 19.399355501164067.\u001b[0m\n"
     ]
    },
    {
     "name": "stdout",
     "output_type": "stream",
     "text": [
      "MAPE:  0.13416280977747466\n",
      "MAE:  2.9566309663017143\n"
     ]
    },
    {
     "name": "stderr",
     "output_type": "stream",
     "text": [
      "\u001b[32m[I 2023-04-08 16:05:45,503]\u001b[0m Trial 22 finished with value: 33.29442432355225 and parameters: {'max_depth': 6, 'learning_rate': 0.03428792251515865, 'n_estimators': 144, 'min_child_weight': 6, 'gamma': 0.0045664107914897304, 'subsample': 0.411811553436207, 'colsample_bytree': 0.010591920338141238}. Best is trial 21 with value: 19.399355501164067.\u001b[0m\n"
     ]
    },
    {
     "name": "stdout",
     "output_type": "stream",
     "text": [
      "MAPE:  0.17851161482516478\n",
      "MAE:  4.15585819742504\n"
     ]
    },
    {
     "name": "stderr",
     "output_type": "stream",
     "text": [
      "\u001b[32m[I 2023-04-08 16:06:16,356]\u001b[0m Trial 23 finished with value: 18.59847977461682 and parameters: {'max_depth': 7, 'learning_rate': 0.017738397987597077, 'n_estimators': 176, 'min_child_weight': 3, 'gamma': 0.000665919137358339, 'subsample': 0.7366241239977065, 'colsample_bytree': 0.061436180253162026}. Best is trial 23 with value: 18.59847977461682.\u001b[0m\n"
     ]
    },
    {
     "name": "stdout",
     "output_type": "stream",
     "text": [
      "MAPE:  0.12879519765617425\n",
      "MAE:  2.8240912840626065\n"
     ]
    },
    {
     "name": "stderr",
     "output_type": "stream",
     "text": [
      "\u001b[32m[I 2023-04-08 16:06:42,960]\u001b[0m Trial 24 finished with value: 23.57817362047386 and parameters: {'max_depth': 8, 'learning_rate': 0.013821969057577425, 'n_estimators': 168, 'min_child_weight': 3, 'gamma': 0.0008475897607839333, 'subsample': 0.34426361044416326, 'colsample_bytree': 0.052419856599172816}. Best is trial 23 with value: 18.59847977461682.\u001b[0m\n"
     ]
    },
    {
     "name": "stdout",
     "output_type": "stream",
     "text": [
      "MAPE:  0.14184700041754336\n",
      "MAE:  3.1252687537714783\n"
     ]
    },
    {
     "name": "stderr",
     "output_type": "stream",
     "text": [
      "\u001b[32m[I 2023-04-08 16:07:19,745]\u001b[0m Trial 25 finished with value: 27.38065881390814 and parameters: {'max_depth': 6, 'learning_rate': 0.054559202938185794, 'n_estimators': 242, 'min_child_weight': 4, 'gamma': 5.589955038776887e-05, 'subsample': 0.6281142657238749, 'colsample_bytree': 0.0660154055731169}. Best is trial 23 with value: 18.59847977461682.\u001b[0m\n"
     ]
    },
    {
     "name": "stdout",
     "output_type": "stream",
     "text": [
      "MAPE:  0.1623125780529929\n",
      "MAE:  3.9396310317587018\n"
     ]
    },
    {
     "name": "stderr",
     "output_type": "stream",
     "text": [
      "\u001b[32m[I 2023-04-08 16:08:07,138]\u001b[0m Trial 26 finished with value: 17.45093702778111 and parameters: {'max_depth': 8, 'learning_rate': 0.017188194310819842, 'n_estimators': 206, 'min_child_weight': 2, 'gamma': 0.0002453930026185942, 'subsample': 0.6752163312681169, 'colsample_bytree': 0.12533603054893339}. Best is trial 26 with value: 17.45093702778111.\u001b[0m\n"
     ]
    },
    {
     "name": "stdout",
     "output_type": "stream",
     "text": [
      "MAPE:  0.12525213056326298\n",
      "MAE:  2.7599376552039465\n"
     ]
    },
    {
     "name": "stderr",
     "output_type": "stream",
     "text": [
      "\u001b[32m[I 2023-04-08 16:08:50,017]\u001b[0m Trial 27 finished with value: 26.589683825359444 and parameters: {'max_depth': 7, 'learning_rate': 0.07832714720513284, 'n_estimators': 190, 'min_child_weight': 2, 'gamma': 0.00024306285031122854, 'subsample': 0.6520709228873758, 'colsample_bytree': 0.14529112037062436}. Best is trial 26 with value: 17.45093702778111.\u001b[0m\n"
     ]
    },
    {
     "name": "stdout",
     "output_type": "stream",
     "text": [
      "MAPE:  0.15525047643059292\n",
      "MAE:  3.7416952554782976\n"
     ]
    },
    {
     "name": "stderr",
     "output_type": "stream",
     "text": [
      "\u001b[32m[I 2023-04-08 16:09:06,963]\u001b[0m Trial 28 finished with value: 46.67039011894701 and parameters: {'max_depth': 9, 'learning_rate': 0.03218249044055713, 'n_estimators': 165, 'min_child_weight': 2, 'gamma': 0.003059459271831665, 'subsample': 0.010636823033689046, 'colsample_bytree': 0.11708529358073456}. Best is trial 26 with value: 17.45093702778111.\u001b[0m\n"
     ]
    },
    {
     "name": "stdout",
     "output_type": "stream",
     "text": [
      "MAPE:  0.18873865874211493\n",
      "MAE:  4.640047697259692\n"
     ]
    },
    {
     "name": "stderr",
     "output_type": "stream",
     "text": [
      "\u001b[32m[I 2023-04-08 16:09:38,564]\u001b[0m Trial 29 finished with value: 43.781026611378664 and parameters: {'max_depth': 4, 'learning_rate': 0.16201709027217276, 'n_estimators': 232, 'min_child_weight': 4, 'gamma': 0.0010783571755057233, 'subsample': 0.23906651890810154, 'colsample_bytree': 0.2049923851453383}. Best is trial 26 with value: 17.45093702778111.\u001b[0m\n"
     ]
    },
    {
     "name": "stdout",
     "output_type": "stream",
     "text": [
      "MAPE:  0.18856531808137672\n",
      "MAE:  4.903910750195328\n"
     ]
    },
    {
     "name": "stderr",
     "output_type": "stream",
     "text": [
      "\u001b[32m[I 2023-04-08 16:10:08,033]\u001b[0m Trial 30 finished with value: 19.254186366987557 and parameters: {'max_depth': 6, 'learning_rate': 0.017350718401016464, 'n_estimators': 198, 'min_child_weight': 2, 'gamma': 0.00031399578970777554, 'subsample': 0.30631442183979013, 'colsample_bytree': 0.07491271985483103}. Best is trial 26 with value: 17.45093702778111.\u001b[0m\n"
     ]
    },
    {
     "name": "stdout",
     "output_type": "stream",
     "text": [
      "MAPE:  0.12930033652507303\n",
      "MAE:  2.8824549912662243\n"
     ]
    },
    {
     "name": "stderr",
     "output_type": "stream",
     "text": [
      "\u001b[32m[I 2023-04-08 16:10:43,596]\u001b[0m Trial 31 finished with value: 18.754195912020943 and parameters: {'max_depth': 6, 'learning_rate': 0.0184045483439242, 'n_estimators': 200, 'min_child_weight': 2, 'gamma': 0.00032075442105980077, 'subsample': 0.6903041368629041, 'colsample_bytree': 0.07957685015929933}. Best is trial 26 with value: 17.45093702778111.\u001b[0m\n"
     ]
    },
    {
     "name": "stdout",
     "output_type": "stream",
     "text": [
      "MAPE:  0.131002496224831\n",
      "MAE:  2.904905537075913\n"
     ]
    },
    {
     "name": "stderr",
     "output_type": "stream",
     "text": [
      "\u001b[32m[I 2023-04-08 16:11:16,727]\u001b[0m Trial 32 finished with value: 18.986523581522853 and parameters: {'max_depth': 6, 'learning_rate': 0.018636507455356516, 'n_estimators': 201, 'min_child_weight': 2, 'gamma': 0.0003088853942920471, 'subsample': 0.6241863660392838, 'colsample_bytree': 0.07772893802958666}. Best is trial 26 with value: 17.45093702778111.\u001b[0m\n"
     ]
    },
    {
     "name": "stdout",
     "output_type": "stream",
     "text": [
      "MAPE:  0.1322219983355314\n",
      "MAE:  2.942541741132364\n"
     ]
    },
    {
     "name": "stderr",
     "output_type": "stream",
     "text": [
      "\u001b[32m[I 2023-04-08 16:11:51,843]\u001b[0m Trial 33 finished with value: 21.44170597242373 and parameters: {'max_depth': 4, 'learning_rate': 0.014441258048480992, 'n_estimators': 254, 'min_child_weight': 2, 'gamma': 0.00034807309471266004, 'subsample': 0.6151283136312468, 'colsample_bytree': 0.1293874075244079}. Best is trial 26 with value: 17.45093702778111.\u001b[0m\n"
     ]
    },
    {
     "name": "stdout",
     "output_type": "stream",
     "text": [
      "MAPE:  0.13579263358350419\n",
      "MAE:  3.1416145984488035\n"
     ]
    },
    {
     "name": "stderr",
     "output_type": "stream",
     "text": [
      "\u001b[32m[I 2023-04-08 16:12:30,958]\u001b[0m Trial 34 finished with value: 21.14775129359678 and parameters: {'max_depth': 5, 'learning_rate': 0.010329606185662744, 'n_estimators': 207, 'min_child_weight': 4, 'gamma': 5.3625761009547414e-05, 'subsample': 0.5035118430883366, 'colsample_bytree': 0.2288224914776805}. Best is trial 26 with value: 17.45093702778111.\u001b[0m\n"
     ]
    },
    {
     "name": "stdout",
     "output_type": "stream",
     "text": [
      "MAPE:  0.1400318281311983\n",
      "MAE:  3.1111477195063184\n"
     ]
    },
    {
     "name": "stderr",
     "output_type": "stream",
     "text": [
      "\u001b[32m[I 2023-04-08 16:14:15,222]\u001b[0m Trial 35 finished with value: 32.91040562529158 and parameters: {'max_depth': 6, 'learning_rate': 0.021392493039126197, 'n_estimators': 225, 'min_child_weight': 2, 'gamma': 1.1354698117353814e-05, 'subsample': 0.7176855136603089, 'colsample_bytree': 0.8203679698859077}. Best is trial 26 with value: 17.45093702778111.\u001b[0m\n"
     ]
    },
    {
     "name": "stdout",
     "output_type": "stream",
     "text": [
      "MAPE:  0.16050588759640297\n",
      "MAE:  4.01162795364373\n"
     ]
    },
    {
     "name": "stderr",
     "output_type": "stream",
     "text": [
      "\u001b[32m[I 2023-04-08 16:14:51,927]\u001b[0m Trial 36 finished with value: 44.8340584103676 and parameters: {'max_depth': 5, 'learning_rate': 0.03816119287289069, 'n_estimators': 188, 'min_child_weight': 1, 'gamma': 0.001479854688356528, 'subsample': 0.13594561629237392, 'colsample_bytree': 0.4672249445930238}. Best is trial 26 with value: 17.45093702778111.\u001b[0m\n"
     ]
    },
    {
     "name": "stdout",
     "output_type": "stream",
     "text": [
      "MAPE:  0.18521094944385036\n",
      "MAE:  4.928935594624199\n"
     ]
    },
    {
     "name": "stderr",
     "output_type": "stream",
     "text": [
      "\u001b[32m[I 2023-04-08 16:15:11,843]\u001b[0m Trial 37 finished with value: 35.58973067622614 and parameters: {'max_depth': 7, 'learning_rate': 0.013608552322433071, 'n_estimators': 174, 'min_child_weight': 3, 'gamma': 0.00045088919715268843, 'subsample': 0.03962439245141997, 'colsample_bytree': 0.10894620778434483}. Best is trial 26 with value: 17.45093702778111.\u001b[0m\n"
     ]
    },
    {
     "name": "stdout",
     "output_type": "stream",
     "text": [
      "MAPE:  0.1555450276306137\n",
      "MAE:  3.598585392782155\n"
     ]
    },
    {
     "name": "stderr",
     "output_type": "stream",
     "text": [
      "\u001b[32m[I 2023-04-08 16:15:27,991]\u001b[0m Trial 38 finished with value: 107.07228965670528 and parameters: {'max_depth': 1, 'learning_rate': 0.44000314518648154, 'n_estimators': 196, 'min_child_weight': 4, 'gamma': 0.00017956669020430553, 'subsample': 0.06940006903216403, 'colsample_bytree': 0.059883582610354175}. Best is trial 26 with value: 17.45093702778111.\u001b[0m\n"
     ]
    },
    {
     "name": "stdout",
     "output_type": "stream",
     "text": [
      "MAPE:  0.23962687339055938\n",
      "MAE:  7.550430889807632\n"
     ]
    },
    {
     "name": "stderr",
     "output_type": "stream",
     "text": [
      "\u001b[32m[I 2023-04-08 16:17:06,827]\u001b[0m Trial 39 finished with value: 31.937233409479617 and parameters: {'max_depth': 8, 'learning_rate': 0.04902518471958421, 'n_estimators': 271, 'min_child_weight': 3, 'gamma': 2.814793302145057e-05, 'subsample': 0.4677071539149363, 'colsample_bytree': 0.3462793795279242}. Best is trial 26 with value: 17.45093702778111.\u001b[0m\n"
     ]
    },
    {
     "name": "stdout",
     "output_type": "stream",
     "text": [
      "MAPE:  0.16453993324259397\n",
      "MAE:  4.113839191704356\n"
     ]
    },
    {
     "name": "stderr",
     "output_type": "stream",
     "text": [
      "\u001b[32m[I 2023-04-08 16:17:13,693]\u001b[0m Trial 40 finished with value: 187.13873337210757 and parameters: {'max_depth': 5, 'learning_rate': 0.018792405476779735, 'n_estimators': 39, 'min_child_weight': 2, 'gamma': 0.0015425785211293618, 'subsample': 0.20016539599682592, 'colsample_bytree': 0.08042708450707078}. Best is trial 26 with value: 17.45093702778111.\u001b[0m\n"
     ]
    },
    {
     "name": "stdout",
     "output_type": "stream",
     "text": [
      "MAPE:  0.8228757492705443\n",
      "MAE:  10.887421291661024\n"
     ]
    },
    {
     "name": "stderr",
     "output_type": "stream",
     "text": [
      "\u001b[32m[I 2023-04-08 16:17:47,987]\u001b[0m Trial 41 finished with value: 19.39900532237577 and parameters: {'max_depth': 6, 'learning_rate': 0.01593950515057971, 'n_estimators': 210, 'min_child_weight': 2, 'gamma': 0.0003169564365498012, 'subsample': 0.33413954336512885, 'colsample_bytree': 0.07235386992984082}. Best is trial 26 with value: 17.45093702778111.\u001b[0m\n"
     ]
    },
    {
     "name": "stdout",
     "output_type": "stream",
     "text": [
      "MAPE:  0.12861727184025648\n",
      "MAE:  2.855755481715506\n"
     ]
    },
    {
     "name": "stderr",
     "output_type": "stream",
     "text": [
      "\u001b[32m[I 2023-04-08 16:18:23,455]\u001b[0m Trial 42 finished with value: 19.80674847401427 and parameters: {'max_depth': 6, 'learning_rate': 0.01900540173071675, 'n_estimators': 201, 'min_child_weight': 1, 'gamma': 0.0002634841866896765, 'subsample': 0.3200122982298913, 'colsample_bytree': 0.09783458340558221}. Best is trial 26 with value: 17.45093702778111.\u001b[0m\n"
     ]
    },
    {
     "name": "stdout",
     "output_type": "stream",
     "text": [
      "MAPE:  0.1323500551595528\n",
      "MAE:  2.9766581109102894\n"
     ]
    },
    {
     "name": "stderr",
     "output_type": "stream",
     "text": [
      "\u001b[32m[I 2023-04-08 16:19:03,548]\u001b[0m Trial 43 finished with value: 22.95245858956217 and parameters: {'max_depth': 7, 'learning_rate': 0.012438190703007338, 'n_estimators': 223, 'min_child_weight': 2, 'gamma': 0.0007343555413297747, 'subsample': 0.7644974744510126, 'colsample_bytree': 0.03258706490131828}. Best is trial 26 with value: 17.45093702778111.\u001b[0m\n"
     ]
    },
    {
     "name": "stdout",
     "output_type": "stream",
     "text": [
      "MAPE:  0.13900736632459257\n",
      "MAE:  3.080828327904182\n"
     ]
    },
    {
     "name": "stderr",
     "output_type": "stream",
     "text": [
      "\u001b[32m[I 2023-04-08 16:19:47,498]\u001b[0m Trial 44 finished with value: 21.048274400163287 and parameters: {'max_depth': 6, 'learning_rate': 0.021164980304444855, 'n_estimators': 245, 'min_child_weight': 1, 'gamma': 7.064755424385195e-05, 'subsample': 0.5785097607929288, 'colsample_bytree': 0.07426159196372496}. Best is trial 26 with value: 17.45093702778111.\u001b[0m\n"
     ]
    },
    {
     "name": "stdout",
     "output_type": "stream",
     "text": [
      "MAPE:  0.1433033731445441\n",
      "MAE:  3.258881768744239\n"
     ]
    },
    {
     "name": "stderr",
     "output_type": "stream",
     "text": [
      "\u001b[32m[I 2023-04-08 16:20:16,722]\u001b[0m Trial 45 finished with value: 41.080827409278385 and parameters: {'max_depth': 5, 'learning_rate': 0.06849550003908993, 'n_estimators': 168, 'min_child_weight': 5, 'gamma': 3.6637059914167474e-05, 'subsample': 0.28745570790975816, 'colsample_bytree': 0.18927959261969726}. Best is trial 26 with value: 17.45093702778111.\u001b[0m\n"
     ]
    },
    {
     "name": "stdout",
     "output_type": "stream",
     "text": [
      "MAPE:  0.17800041063149574\n",
      "MAE:  4.743492990918225\n"
     ]
    },
    {
     "name": "stderr",
     "output_type": "stream",
     "text": [
      "\u001b[32m[I 2023-04-08 16:20:58,435]\u001b[0m Trial 46 finished with value: 22.97229583179081 and parameters: {'max_depth': 7, 'learning_rate': 0.03214235389642575, 'n_estimators': 197, 'min_child_weight': 3, 'gamma': 0.00011193835966182282, 'subsample': 0.7703462702426824, 'colsample_bytree': 0.09044870990966583}. Best is trial 26 with value: 17.45093702778111.\u001b[0m\n"
     ]
    },
    {
     "name": "stdout",
     "output_type": "stream",
     "text": [
      "MAPE:  0.14845028258727316\n",
      "MAE:  3.47282673558976\n"
     ]
    },
    {
     "name": "stderr",
     "output_type": "stream",
     "text": [
      "\u001b[32m[I 2023-04-08 16:21:01,893]\u001b[0m Trial 47 finished with value: 229.4816351304467 and parameters: {'max_depth': 4, 'learning_rate': 0.04153630116185327, 'n_estimators': 15, 'min_child_weight': 2, 'gamma': 0.00020701911701782045, 'subsample': 0.3928295502418953, 'colsample_bytree': 0.05246698555167265}. Best is trial 26 with value: 17.45093702778111.\u001b[0m\n"
     ]
    },
    {
     "name": "stdout",
     "output_type": "stream",
     "text": [
      "MAPE:  1.0306435695307299\n",
      "MAE:  12.189698557803098\n"
     ]
    },
    {
     "name": "stderr",
     "output_type": "stream",
     "text": [
      "\u001b[32m[I 2023-04-08 16:21:47,372]\u001b[0m Trial 48 finished with value: 21.02746986321179 and parameters: {'max_depth': 7, 'learning_rate': 0.023578886333416635, 'n_estimators': 219, 'min_child_weight': 3, 'gamma': 0.00041167911043708653, 'subsample': 0.44243218269339346, 'colsample_bytree': 0.11234446075122695}. Best is trial 26 with value: 17.45093702778111.\u001b[0m\n"
     ]
    },
    {
     "name": "stdout",
     "output_type": "stream",
     "text": [
      "MAPE:  0.14019907923069327\n",
      "MAE:  3.2290101007985115\n"
     ]
    },
    {
     "name": "stderr",
     "output_type": "stream",
     "text": [
      "\u001b[32m[I 2023-04-08 16:22:15,439]\u001b[0m Trial 49 finished with value: 102.16285614771132 and parameters: {'max_depth': 8, 'learning_rate': 0.011191357869531019, 'n_estimators': 93, 'min_child_weight': 1, 'gamma': 0.00015176696606874026, 'subsample': 0.8001137845323311, 'colsample_bytree': 0.2627409685702293}. Best is trial 26 with value: 17.45093702778111.\u001b[0m\n"
     ]
    },
    {
     "name": "stdout",
     "output_type": "stream",
     "text": [
      "MAPE:  0.46856979705838075\n",
      "MAE:  7.784715945261546\n"
     ]
    },
    {
     "name": "stderr",
     "output_type": "stream",
     "text": [
      "\u001b[32m[I 2023-04-08 16:22:44,457]\u001b[0m Trial 50 finished with value: 20.306125116510174 and parameters: {'max_depth': 6, 'learning_rate': 0.0161474163744776, 'n_estimators': 142, 'min_child_weight': 4, 'gamma': 0.0006026472860649122, 'subsample': 0.5864917737253295, 'colsample_bytree': 0.1356384798057456}. Best is trial 26 with value: 17.45093702778111.\u001b[0m\n"
     ]
    },
    {
     "name": "stdout",
     "output_type": "stream",
     "text": [
      "MAPE:  0.1329657738416151\n",
      "MAE:  2.9429790752843377\n"
     ]
    },
    {
     "name": "stderr",
     "output_type": "stream",
     "text": [
      "\u001b[32m[I 2023-04-08 16:23:15,750]\u001b[0m Trial 51 finished with value: 20.709859074188465 and parameters: {'max_depth': 6, 'learning_rate': 0.015448843448258254, 'n_estimators': 209, 'min_child_weight': 2, 'gamma': 0.00031484782196544584, 'subsample': 0.19740526586617974, 'colsample_bytree': 0.061315473317916924}. Best is trial 26 with value: 17.45093702778111.\u001b[0m\n"
     ]
    },
    {
     "name": "stdout",
     "output_type": "stream",
     "text": [
      "MAPE:  0.13316323620869688\n",
      "MAE:  2.949314145522469\n"
     ]
    },
    {
     "name": "stderr",
     "output_type": "stream",
     "text": [
      "\u001b[32m[I 2023-04-08 16:23:49,279]\u001b[0m Trial 52 finished with value: 23.579271379904807 and parameters: {'max_depth': 6, 'learning_rate': 0.028989697949771912, 'n_estimators': 206, 'min_child_weight': 2, 'gamma': 0.0012747302478102894, 'subsample': 0.3149503615958298, 'colsample_bytree': 0.06773333782467049}. Best is trial 26 with value: 17.45093702778111.\u001b[0m\n"
     ]
    },
    {
     "name": "stdout",
     "output_type": "stream",
     "text": [
      "MAPE:  0.15020062594602043\n",
      "MAE:  3.525397013245004\n"
     ]
    },
    {
     "name": "stderr",
     "output_type": "stream",
     "text": [
      "\u001b[32m[I 2023-04-08 16:24:25,268]\u001b[0m Trial 53 finished with value: 32.95642755082268 and parameters: {'max_depth': 7, 'learning_rate': 0.010136729377109972, 'n_estimators': 183, 'min_child_weight': 1, 'gamma': 9.710462284423093e-05, 'subsample': 0.5394982472952184, 'colsample_bytree': 0.07825947293453558}. Best is trial 26 with value: 17.45093702778111.\u001b[0m\n"
     ]
    },
    {
     "name": "stdout",
     "output_type": "stream",
     "text": [
      "MAPE:  0.17713849248608204\n",
      "MAE:  3.83771550673038\n"
     ]
    },
    {
     "name": "stderr",
     "output_type": "stream",
     "text": [
      "\u001b[32m[I 2023-04-08 16:24:59,051]\u001b[0m Trial 54 finished with value: 22.153387045392282 and parameters: {'max_depth': 5, 'learning_rate': 0.01661399059103257, 'n_estimators': 236, 'min_child_weight': 3, 'gamma': 0.0022122874321276837, 'subsample': 0.9908785156589425, 'colsample_bytree': 0.03064356542692045}. Best is trial 26 with value: 17.45093702778111.\u001b[0m\n"
     ]
    },
    {
     "name": "stdout",
     "output_type": "stream",
     "text": [
      "MAPE:  0.14286079440176527\n",
      "MAE:  3.1611824758750817\n"
     ]
    },
    {
     "name": "stderr",
     "output_type": "stream",
     "text": [
      "\u001b[32m[I 2023-04-08 16:25:24,923]\u001b[0m Trial 55 finished with value: 20.704838737336225 and parameters: {'max_depth': 8, 'learning_rate': 0.0225098677873207, 'n_estimators': 162, 'min_child_weight': 2, 'gamma': 0.0003375113823569454, 'subsample': 0.12509258141978527, 'colsample_bytree': 0.050086486695492725}. Best is trial 26 with value: 17.45093702778111.\u001b[0m\n"
     ]
    },
    {
     "name": "stdout",
     "output_type": "stream",
     "text": [
      "MAPE:  0.13262268928553964\n",
      "MAE:  2.9717540366670465\n"
     ]
    },
    {
     "name": "stderr",
     "output_type": "stream",
     "text": [
      "\u001b[32m[I 2023-04-08 16:26:07,840]\u001b[0m Trial 56 finished with value: 19.267089119029322 and parameters: {'max_depth': 7, 'learning_rate': 0.012902890308849266, 'n_estimators': 215, 'min_child_weight': 1, 'gamma': 0.0008812736558422234, 'subsample': 0.39166472533868996, 'colsample_bytree': 0.09167222843733322}. Best is trial 26 with value: 17.45093702778111.\u001b[0m\n"
     ]
    },
    {
     "name": "stdout",
     "output_type": "stream",
     "text": [
      "MAPE:  0.1281565658880998\n",
      "MAE:  2.8289158615968497\n"
     ]
    },
    {
     "name": "stderr",
     "output_type": "stream",
     "text": [
      "\u001b[32m[I 2023-04-08 16:26:46,508]\u001b[0m Trial 57 finished with value: 20.74181789407064 and parameters: {'max_depth': 7, 'learning_rate': 0.01294889039913813, 'n_estimators': 193, 'min_child_weight': 1, 'gamma': 0.9421461860359152, 'subsample': 0.419836120368038, 'colsample_bytree': 0.0927313262056911}. Best is trial 26 with value: 17.45093702778111.\u001b[0m\n"
     ]
    },
    {
     "name": "stdout",
     "output_type": "stream",
     "text": [
      "MAPE:  0.13321121105461659\n",
      "MAE:  2.954817181808895\n"
     ]
    },
    {
     "name": "stderr",
     "output_type": "stream",
     "text": [
      "\u001b[32m[I 2023-04-08 16:27:39,026]\u001b[0m Trial 58 finished with value: 19.111447083866057 and parameters: {'max_depth': 8, 'learning_rate': 0.019811665363363314, 'n_estimators': 178, 'min_child_weight': 1, 'gamma': 0.0009529320189976901, 'subsample': 0.7015469211147684, 'colsample_bytree': 0.15833798606112828}. Best is trial 26 with value: 17.45093702778111.\u001b[0m\n"
     ]
    },
    {
     "name": "stdout",
     "output_type": "stream",
     "text": [
      "MAPE:  0.13081026686756675\n",
      "MAE:  2.933382412448953\n"
     ]
    },
    {
     "name": "stderr",
     "output_type": "stream",
     "text": [
      "\u001b[32m[I 2023-04-08 16:28:16,930]\u001b[0m Trial 59 finished with value: 17.996802083715927 and parameters: {'max_depth': 8, 'learning_rate': 0.02630267858746105, 'n_estimators': 136, 'min_child_weight': 3, 'gamma': 0.0005212323445206626, 'subsample': 0.7190285924236992, 'colsample_bytree': 0.15996422206678762}. Best is trial 26 with value: 17.45093702778111.\u001b[0m\n"
     ]
    },
    {
     "name": "stdout",
     "output_type": "stream",
     "text": [
      "MAPE:  0.1266124225832722\n",
      "MAE:  2.83965308048045\n"
     ]
    },
    {
     "name": "stderr",
     "output_type": "stream",
     "text": [
      "\u001b[32m[I 2023-04-08 16:29:15,341]\u001b[0m Trial 60 finished with value: 22.34934865238913 and parameters: {'max_depth': 9, 'learning_rate': 0.02674717580181786, 'n_estimators': 129, 'min_child_weight': 5, 'gamma': 0.0018465280719759892, 'subsample': 0.6983667284977848, 'colsample_bytree': 0.43273612544159396}. Best is trial 26 with value: 17.45093702778111.\u001b[0m\n"
     ]
    },
    {
     "name": "stdout",
     "output_type": "stream",
     "text": [
      "MAPE:  0.13828282667088695\n",
      "MAE:  3.2432462882794693\n"
     ]
    },
    {
     "name": "stderr",
     "output_type": "stream",
     "text": [
      "\u001b[32m[I 2023-04-08 16:30:04,866]\u001b[0m Trial 61 finished with value: 18.755188954488954 and parameters: {'max_depth': 8, 'learning_rate': 0.019884018050362946, 'n_estimators': 176, 'min_child_weight': 3, 'gamma': 0.0005570348797166538, 'subsample': 0.839350824390403, 'colsample_bytree': 0.1637470792036164}. Best is trial 26 with value: 17.45093702778111.\u001b[0m\n"
     ]
    },
    {
     "name": "stdout",
     "output_type": "stream",
     "text": [
      "MAPE:  0.1287928166529587\n",
      "MAE:  2.9077755276499766\n"
     ]
    },
    {
     "name": "stderr",
     "output_type": "stream",
     "text": [
      "\u001b[32m[I 2023-04-08 16:30:44,901]\u001b[0m Trial 62 finished with value: 17.466228028375326 and parameters: {'max_depth': 8, 'learning_rate': 0.020083883616316765, 'n_estimators': 142, 'min_child_weight': 3, 'gamma': 0.0005499484738320144, 'subsample': 0.8467228795212445, 'colsample_bytree': 0.16828206492928802}. Best is trial 26 with value: 17.45093702778111.\u001b[0m\n"
     ]
    },
    {
     "name": "stdout",
     "output_type": "stream",
     "text": [
      "MAPE:  0.12367210453488678\n",
      "MAE:  2.7556603759266762\n"
     ]
    },
    {
     "name": "stderr",
     "output_type": "stream",
     "text": [
      "\u001b[32m[I 2023-04-08 16:31:34,402]\u001b[0m Trial 63 finished with value: 20.136860817540605 and parameters: {'max_depth': 8, 'learning_rate': 0.024396292381703218, 'n_estimators': 137, 'min_child_weight': 3, 'gamma': 0.0005895860295946666, 'subsample': 0.8580392330440405, 'colsample_bytree': 0.2841385836129095}. Best is trial 26 with value: 17.45093702778111.\u001b[0m\n"
     ]
    },
    {
     "name": "stdout",
     "output_type": "stream",
     "text": [
      "MAPE:  0.1301175910419102\n",
      "MAE:  2.9875121963920814\n"
     ]
    },
    {
     "name": "stderr",
     "output_type": "stream",
     "text": [
      "\u001b[32m[I 2023-04-08 16:32:14,460]\u001b[0m Trial 64 finished with value: 18.725620584712342 and parameters: {'max_depth': 9, 'learning_rate': 0.029074796733603397, 'n_estimators': 120, 'min_child_weight': 3, 'gamma': 0.0001822327660591606, 'subsample': 0.8624089456465344, 'colsample_bytree': 0.18301795742688207}. Best is trial 26 with value: 17.45093702778111.\u001b[0m\n"
     ]
    },
    {
     "name": "stdout",
     "output_type": "stream",
     "text": [
      "MAPE:  0.12715127925145572\n",
      "MAE:  2.879614312401723\n"
     ]
    },
    {
     "name": "stderr",
     "output_type": "stream",
     "text": [
      "\u001b[32m[I 2023-04-08 16:32:54,553]\u001b[0m Trial 65 finished with value: 18.93660746458068 and parameters: {'max_depth': 9, 'learning_rate': 0.030186930918474564, 'n_estimators': 119, 'min_child_weight': 4, 'gamma': 0.00013694194079180805, 'subsample': 0.986674707806296, 'colsample_bytree': 0.18038233430361877}. Best is trial 26 with value: 17.45093702778111.\u001b[0m\n"
     ]
    },
    {
     "name": "stdout",
     "output_type": "stream",
     "text": [
      "MAPE:  0.12787328703312736\n",
      "MAE:  2.9004809013038835\n"
     ]
    },
    {
     "name": "stderr",
     "output_type": "stream",
     "text": [
      "\u001b[32m[I 2023-04-08 16:33:33,840]\u001b[0m Trial 66 finished with value: 20.405287927401744 and parameters: {'max_depth': 9, 'learning_rate': 0.0365557141804052, 'n_estimators': 107, 'min_child_weight': 3, 'gamma': 0.003371407309569705, 'subsample': 0.8168590885089483, 'colsample_bytree': 0.24463933069330618}. Best is trial 26 with value: 17.45093702778111.\u001b[0m\n"
     ]
    },
    {
     "name": "stdout",
     "output_type": "stream",
     "text": [
      "MAPE:  0.13298957536508027\n",
      "MAE:  3.05409503906742\n"
     ]
    },
    {
     "name": "stderr",
     "output_type": "stream",
     "text": [
      "\u001b[32m[I 2023-04-08 16:33:41,433]\u001b[0m Trial 67 finished with value: 37.91375612921024 and parameters: {'max_depth': 8, 'learning_rate': 0.042966874098757185, 'n_estimators': 59, 'min_child_weight': 4, 'gamma': 0.00019828341844236322, 'subsample': 0.024314173476697842, 'colsample_bytree': 0.2218743217251854}. Best is trial 26 with value: 17.45093702778111.\u001b[0m\n"
     ]
    },
    {
     "name": "stdout",
     "output_type": "stream",
     "text": [
      "MAPE:  0.16427827739367493\n",
      "MAE:  3.8276991897010326\n"
     ]
    },
    {
     "name": "stderr",
     "output_type": "stream",
     "text": [
      "\u001b[32m[I 2023-04-08 16:34:20,630]\u001b[0m Trial 68 finished with value: 31.27351055136641 and parameters: {'max_depth': 9, 'learning_rate': 0.12357387069758252, 'n_estimators': 157, 'min_child_weight': 6, 'gamma': 0.0005089691017380024, 'subsample': 0.8650832713303698, 'colsample_bytree': 0.1319460589923914}. Best is trial 26 with value: 17.45093702778111.\u001b[0m\n"
     ]
    },
    {
     "name": "stdout",
     "output_type": "stream",
     "text": [
      "MAPE:  0.16170180212795884\n",
      "MAE:  4.043721742407139\n"
     ]
    },
    {
     "name": "stderr",
     "output_type": "stream",
     "text": [
      "\u001b[32m[I 2023-04-08 16:34:50,635]\u001b[0m Trial 69 finished with value: 17.50090254616308 and parameters: {'max_depth': 8, 'learning_rate': 0.026348278282993434, 'n_estimators': 104, 'min_child_weight': 3, 'gamma': 7.936880653786142e-05, 'subsample': 0.550298526416501, 'colsample_bytree': 0.20407524814369116}. Best is trial 26 with value: 17.45093702778111.\u001b[0m\n"
     ]
    },
    {
     "name": "stdout",
     "output_type": "stream",
     "text": [
      "MAPE:  0.12543436314571046\n",
      "MAE:  2.7892512731188988\n"
     ]
    },
    {
     "name": "stderr",
     "output_type": "stream",
     "text": [
      "\u001b[32m[I 2023-04-08 16:35:24,499]\u001b[0m Trial 70 finished with value: 17.791919262392348 and parameters: {'max_depth': 9, 'learning_rate': 0.026079349760474938, 'n_estimators': 98, 'min_child_weight': 4, 'gamma': 3.216627798909526e-05, 'subsample': 0.5230380418539454, 'colsample_bytree': 0.3036892395678832}. Best is trial 26 with value: 17.45093702778111.\u001b[0m\n"
     ]
    },
    {
     "name": "stdout",
     "output_type": "stream",
     "text": [
      "MAPE:  0.12759408348674345\n",
      "MAE:  2.8431559163570106\n"
     ]
    },
    {
     "name": "stderr",
     "output_type": "stream",
     "text": [
      "\u001b[32m[I 2023-04-08 16:35:48,068]\u001b[0m Trial 71 finished with value: 28.86350874502692 and parameters: {'max_depth': 9, 'learning_rate': 0.025589839263401765, 'n_estimators': 71, 'min_child_weight': 3, 'gamma': 4.4673327746019733e-05, 'subsample': 0.527843205021432, 'colsample_bytree': 0.30083450694137504}. Best is trial 26 with value: 17.45093702778111.\u001b[0m\n"
     ]
    },
    {
     "name": "stdout",
     "output_type": "stream",
     "text": [
      "MAPE:  0.1731749820267454\n",
      "MAE:  3.72790731330601\n"
     ]
    },
    {
     "name": "stderr",
     "output_type": "stream",
     "text": [
      "\u001b[32m[I 2023-04-08 16:36:41,637]\u001b[0m Trial 72 finished with value: 28.892984398479825 and parameters: {'max_depth': 9, 'learning_rate': 0.04913468929913755, 'n_estimators': 93, 'min_child_weight': 4, 'gamma': 7.220575399529554e-05, 'subsample': 0.7067411890485833, 'colsample_bytree': 0.5677938491656844}. Best is trial 26 with value: 17.45093702778111.\u001b[0m\n"
     ]
    },
    {
     "name": "stdout",
     "output_type": "stream",
     "text": [
      "MAPE:  0.1528937454610773\n",
      "MAE:  3.754910648427206\n"
     ]
    },
    {
     "name": "stderr",
     "output_type": "stream",
     "text": [
      "\u001b[32m[I 2023-04-08 16:37:14,650]\u001b[0m Trial 73 finished with value: 19.37818621619417 and parameters: {'max_depth': 9, 'learning_rate': 0.03292424197510196, 'n_estimators': 107, 'min_child_weight': 3, 'gamma': 1.4095874960649092e-05, 'subsample': 0.4775180002250347, 'colsample_bytree': 0.1997300973833495}. Best is trial 26 with value: 17.45093702778111.\u001b[0m\n"
     ]
    },
    {
     "name": "stdout",
     "output_type": "stream",
     "text": [
      "MAPE:  0.13165584146221868\n",
      "MAE:  2.9924927210893375\n"
     ]
    },
    {
     "name": "stderr",
     "output_type": "stream",
     "text": [
      "\u001b[32m[I 2023-04-08 16:37:48,181]\u001b[0m Trial 74 finished with value: 18.159711116269573 and parameters: {'max_depth': 8, 'learning_rate': 0.028543222757010305, 'n_estimators': 93, 'min_child_weight': 4, 'gamma': 2.943387744203932e-05, 'subsample': 0.660698074803695, 'colsample_bytree': 0.33856361950447267}. Best is trial 26 with value: 17.45093702778111.\u001b[0m\n"
     ]
    },
    {
     "name": "stdout",
     "output_type": "stream",
     "text": [
      "MAPE:  0.1282723397483142\n",
      "MAE:  2.872546495988351\n"
     ]
    },
    {
     "name": "stderr",
     "output_type": "stream",
     "text": [
      "\u001b[32m[I 2023-04-08 16:38:22,132]\u001b[0m Trial 75 finished with value: 29.46175636698874 and parameters: {'max_depth': 8, 'learning_rate': 0.06120428164767835, 'n_estimators': 91, 'min_child_weight': 5, 'gamma': 2.2138690170097912e-05, 'subsample': 0.5951712544521676, 'colsample_bytree': 0.33960831531741553}. Best is trial 26 with value: 17.45093702778111.\u001b[0m\n"
     ]
    },
    {
     "name": "stdout",
     "output_type": "stream",
     "text": [
      "MAPE:  0.1550712533144793\n",
      "MAE:  3.8286055516028377\n"
     ]
    },
    {
     "name": "stderr",
     "output_type": "stream",
     "text": [
      "\u001b[32m[I 2023-04-08 16:38:55,144]\u001b[0m Trial 76 finished with value: 42.73697971589251 and parameters: {'max_depth': 8, 'learning_rate': 0.29601857414204563, 'n_estimators': 84, 'min_child_weight': 4, 'gamma': 3.55522304788787e-05, 'subsample': 0.5109647952087254, 'colsample_bytree': 0.37454761568416656}. Best is trial 26 with value: 17.45093702778111.\u001b[0m\n"
     ]
    },
    {
     "name": "stdout",
     "output_type": "stream",
     "text": [
      "MAPE:  0.17891707689731293\n",
      "MAE:  4.692871724128649\n"
     ]
    },
    {
     "name": "stderr",
     "output_type": "stream",
     "text": [
      "\u001b[32m[I 2023-04-08 16:39:38,916]\u001b[0m Trial 77 finished with value: 19.121715267293457 and parameters: {'max_depth': 8, 'learning_rate': 0.022411120282345418, 'n_estimators': 119, 'min_child_weight': 4, 'gamma': 2.7899781806277308e-05, 'subsample': 0.9858848041383946, 'colsample_bytree': 0.31509044294676547}. Best is trial 26 with value: 17.45093702778111.\u001b[0m\n"
     ]
    },
    {
     "name": "stdout",
     "output_type": "stream",
     "text": [
      "MAPE:  0.13025317337168574\n",
      "MAE:  2.9476112351100543\n"
     ]
    },
    {
     "name": "stderr",
     "output_type": "stream",
     "text": [
      "\u001b[32m[I 2023-04-08 16:40:07,300]\u001b[0m Trial 78 finished with value: 29.207545298669743 and parameters: {'max_depth': 9, 'learning_rate': 0.028608659178870507, 'n_estimators': 61, 'min_child_weight': 3, 'gamma': 8.104122765342543e-05, 'subsample': 0.633528950444715, 'colsample_bytree': 0.5206216383057232}. Best is trial 26 with value: 17.45093702778111.\u001b[0m\n"
     ]
    },
    {
     "name": "stdout",
     "output_type": "stream",
     "text": [
      "MAPE:  0.1779292493821478\n",
      "MAE:  3.8286058464356127\n"
     ]
    },
    {
     "name": "stderr",
     "output_type": "stream",
     "text": [
      "\u001b[32m[I 2023-04-08 16:40:39,860]\u001b[0m Trial 79 finished with value: 19.036059098862534 and parameters: {'max_depth': 9, 'learning_rate': 0.035436512541512345, 'n_estimators': 102, 'min_child_weight': 4, 'gamma': 1.771323395379356e-05, 'subsample': 0.5514784729368636, 'colsample_bytree': 0.23276970352314919}. Best is trial 26 with value: 17.45093702778111.\u001b[0m\n"
     ]
    },
    {
     "name": "stdout",
     "output_type": "stream",
     "text": [
      "MAPE:  0.1295463528829083\n",
      "MAE:  2.951204821439495\n"
     ]
    },
    {
     "name": "stderr",
     "output_type": "stream",
     "text": [
      "\u001b[32m[I 2023-04-08 16:41:11,237]\u001b[0m Trial 80 finished with value: 19.15605307059191 and parameters: {'max_depth': 8, 'learning_rate': 0.01478812960029585, 'n_estimators': 150, 'min_child_weight': 5, 'gamma': 0.00010907234594285126, 'subsample': 0.3716051686526607, 'colsample_bytree': 0.1500879803136911}. Best is trial 26 with value: 17.45093702778111.\u001b[0m\n"
     ]
    },
    {
     "name": "stdout",
     "output_type": "stream",
     "text": [
      "MAPE:  0.13512691302273339\n",
      "MAE:  2.925702295257953\n"
     ]
    },
    {
     "name": "stderr",
     "output_type": "stream",
     "text": [
      "\u001b[32m[I 2023-04-08 16:41:40,459]\u001b[0m Trial 81 finished with value: 22.364544333095495 and parameters: {'max_depth': 8, 'learning_rate': 0.017655685050164845, 'n_estimators': 124, 'min_child_weight': 3, 'gamma': 0.00023439477492493837, 'subsample': 0.6852136150638302, 'colsample_bytree': 0.12461250308688075}. Best is trial 26 with value: 17.45093702778111.\u001b[0m\n"
     ]
    },
    {
     "name": "stdout",
     "output_type": "stream",
     "text": [
      "MAPE:  0.14224710044100528\n",
      "MAE:  3.1275736289505804\n"
     ]
    },
    {
     "name": "stderr",
     "output_type": "stream",
     "text": [
      "\u001b[32m[I 2023-04-08 16:42:00,628]\u001b[0m Trial 82 finished with value: 29.757364158762464 and parameters: {'max_depth': 8, 'learning_rate': 0.02474731100784547, 'n_estimators': 73, 'min_child_weight': 3, 'gamma': 0.00015495390041591497, 'subsample': 0.7278669435210177, 'colsample_bytree': 0.18142191821994882}. Best is trial 26 with value: 17.45093702778111.\u001b[0m\n"
     ]
    },
    {
     "name": "stdout",
     "output_type": "stream",
     "text": [
      "MAPE:  0.17570309824534705\n",
      "MAE:  3.7464028132263194\n"
     ]
    },
    {
     "name": "stderr",
     "output_type": "stream",
     "text": [
      "\u001b[32m[I 2023-04-08 16:42:32,994]\u001b[0m Trial 83 finished with value: 19.34203993090533 and parameters: {'max_depth': 7, 'learning_rate': 0.020403693946905364, 'n_estimators': 113, 'min_child_weight': 3, 'gamma': 4.597338615459601e-05, 'subsample': 0.4531090377109204, 'colsample_bytree': 0.2687187740775396}. Best is trial 26 with value: 17.45093702778111.\u001b[0m\n"
     ]
    },
    {
     "name": "stdout",
     "output_type": "stream",
     "text": [
      "MAPE:  0.13437339493014666\n",
      "MAE:  2.981243147404304\n"
     ]
    },
    {
     "name": "stderr",
     "output_type": "stream",
     "text": [
      "\u001b[32m[I 2023-04-08 16:43:17,622]\u001b[0m Trial 84 finished with value: 36.84904549819563 and parameters: {'max_depth': 9, 'learning_rate': 0.6901774154234682, 'n_estimators': 137, 'min_child_weight': 2, 'gamma': 1.0599216593959044e-05, 'subsample': 0.847089490591317, 'colsample_bytree': 0.10895106043181639}. Best is trial 26 with value: 17.45093702778111.\u001b[0m\n"
     ]
    },
    {
     "name": "stdout",
     "output_type": "stream",
     "text": [
      "MAPE:  0.18768084750991637\n",
      "MAE:  4.381736446478952\n"
     ]
    },
    {
     "name": "stderr",
     "output_type": "stream",
     "text": [
      "\u001b[32m[I 2023-04-08 16:43:43,669]\u001b[0m Trial 85 finished with value: 17.76193935688817 and parameters: {'max_depth': 7, 'learning_rate': 0.028565920761128714, 'n_estimators': 98, 'min_child_weight': 4, 'gamma': 6.598104478086988e-05, 'subsample': 0.6560661693677347, 'colsample_bytree': 0.19755032564907063}. Best is trial 26 with value: 17.45093702778111.\u001b[0m\n"
     ]
    },
    {
     "name": "stdout",
     "output_type": "stream",
     "text": [
      "MAPE:  0.12500054555910672\n",
      "MAE:  2.8063196245297215\n"
     ]
    },
    {
     "name": "stderr",
     "output_type": "stream",
     "text": [
      "\u001b[32m[I 2023-04-08 16:44:05,998]\u001b[0m Trial 86 finished with value: 18.700454540542776 and parameters: {'max_depth': 7, 'learning_rate': 0.02782472395450055, 'n_estimators': 84, 'min_child_weight': 4, 'gamma': 3.664019294650234e-05, 'subsample': 0.6442513384999817, 'colsample_bytree': 0.20574629393786245}. Best is trial 26 with value: 17.45093702778111.\u001b[0m\n"
     ]
    },
    {
     "name": "stdout",
     "output_type": "stream",
     "text": [
      "MAPE:  0.13195417556815642\n",
      "MAE:  2.9172456172968118\n"
     ]
    },
    {
     "name": "stderr",
     "output_type": "stream",
     "text": [
      "\u001b[32m[I 2023-04-08 16:44:26,358]\u001b[0m Trial 87 finished with value: 17.24188319369797 and parameters: {'max_depth': 7, 'learning_rate': 0.03791686660199435, 'n_estimators': 85, 'min_child_weight': 5, 'gamma': 1.535018222573934e-05, 'subsample': 0.5704128580973561, 'colsample_bytree': 0.14485442169772406}. Best is trial 87 with value: 17.24188319369797.\u001b[0m\n"
     ]
    },
    {
     "name": "stdout",
     "output_type": "stream",
     "text": [
      "MAPE:  0.1223104636139194\n",
      "MAE:  2.720849678534247\n"
     ]
    },
    {
     "name": "stderr",
     "output_type": "stream",
     "text": [
      "\u001b[32m[I 2023-04-08 16:44:42,870]\u001b[0m Trial 88 finished with value: 17.11639048991694 and parameters: {'max_depth': 7, 'learning_rate': 0.041139232006696794, 'n_estimators': 71, 'min_child_weight': 6, 'gamma': 2.684888210674986e-05, 'subsample': 0.567081236485871, 'colsample_bytree': 0.14401154430654206}. Best is trial 88 with value: 17.11639048991694.\u001b[0m\n"
     ]
    },
    {
     "name": "stdout",
     "output_type": "stream",
     "text": [
      "MAPE:  0.12156681780197985\n",
      "MAE:  2.690293487370684\n"
     ]
    },
    {
     "name": "stderr",
     "output_type": "stream",
     "text": [
      "\u001b[32m[I 2023-04-08 16:44:54,610]\u001b[0m Trial 89 finished with value: 17.566266666407692 and parameters: {'max_depth': 7, 'learning_rate': 0.05336544084108522, 'n_estimators': 48, 'min_child_weight': 6, 'gamma': 1.5024299102185997e-05, 'subsample': 0.5588066306660573, 'colsample_bytree': 0.14456720213543647}. Best is trial 88 with value: 17.11639048991694.\u001b[0m\n"
     ]
    },
    {
     "name": "stdout",
     "output_type": "stream",
     "text": [
      "MAPE:  0.12620285118093497\n",
      "MAE:  2.750058538383908\n"
     ]
    },
    {
     "name": "stderr",
     "output_type": "stream",
     "text": [
      "\u001b[32m[I 2023-04-08 16:45:01,937]\u001b[0m Trial 90 finished with value: 35.948374213505794 and parameters: {'max_depth': 7, 'learning_rate': 0.040690422669086304, 'n_estimators': 45, 'min_child_weight': 6, 'gamma': 1.6155550423442675e-05, 'subsample': 0.08448364425231436, 'colsample_bytree': 0.14040568078229565}. Best is trial 88 with value: 17.11639048991694.\u001b[0m\n"
     ]
    },
    {
     "name": "stdout",
     "output_type": "stream",
     "text": [
      "MAPE:  0.18007149579060758\n",
      "MAE:  3.928006949291545\n"
     ]
    },
    {
     "name": "stderr",
     "output_type": "stream",
     "text": [
      "\u001b[32m[I 2023-04-08 16:45:15,742]\u001b[0m Trial 91 finished with value: 17.52449322416302 and parameters: {'max_depth': 8, 'learning_rate': 0.04781689924874828, 'n_estimators': 52, 'min_child_weight': 6, 'gamma': 2.5375942576294977e-05, 'subsample': 0.5537724536908492, 'colsample_bytree': 0.16717144918790808}. Best is trial 88 with value: 17.11639048991694.\u001b[0m\n"
     ]
    },
    {
     "name": "stdout",
     "output_type": "stream",
     "text": [
      "MAPE:  0.12616523944105695\n",
      "MAE:  2.784595414121797\n"
     ]
    },
    {
     "name": "stderr",
     "output_type": "stream",
     "text": [
      "\u001b[32m[I 2023-04-08 16:45:26,290]\u001b[0m Trial 92 finished with value: 16.98144161507129 and parameters: {'max_depth': 7, 'learning_rate': 0.04953698103851422, 'n_estimators': 52, 'min_child_weight': 6, 'gamma': 2.159190421853048e-05, 'subsample': 0.48553350906668136, 'colsample_bytree': 0.1185932496828639}. Best is trial 92 with value: 16.98144161507129.\u001b[0m\n"
     ]
    },
    {
     "name": "stdout",
     "output_type": "stream",
     "text": [
      "MAPE:  0.12342029050391012\n",
      "MAE:  2.673198649852761\n"
     ]
    },
    {
     "name": "stderr",
     "output_type": "stream",
     "text": [
      "\u001b[32m[I 2023-04-08 16:45:36,805]\u001b[0m Trial 93 finished with value: 17.020663072838712 and parameters: {'max_depth': 7, 'learning_rate': 0.049115204598252235, 'n_estimators': 51, 'min_child_weight': 6, 'gamma': 2.295615567581673e-05, 'subsample': 0.4730472189560135, 'colsample_bytree': 0.11814284705285305}. Best is trial 92 with value: 16.98144161507129.\u001b[0m\n"
     ]
    },
    {
     "name": "stdout",
     "output_type": "stream",
     "text": [
      "MAPE:  0.12451936824981599\n",
      "MAE:  2.689623553040769\n"
     ]
    },
    {
     "name": "stderr",
     "output_type": "stream",
     "text": [
      "\u001b[32m[I 2023-04-08 16:45:47,798]\u001b[0m Trial 94 finished with value: 25.507209239190317 and parameters: {'max_depth': 7, 'learning_rate': 0.09025614926722828, 'n_estimators': 54, 'min_child_weight': 6, 'gamma': 1.3694896681864986e-05, 'subsample': 0.2334761736752698, 'colsample_bytree': 0.10127386634187824}. Best is trial 92 with value: 16.98144161507129.\u001b[0m\n"
     ]
    },
    {
     "name": "stdout",
     "output_type": "stream",
     "text": [
      "MAPE:  0.14927203650187104\n",
      "MAE:  3.6061342878362512\n"
     ]
    },
    {
     "name": "stderr",
     "output_type": "stream",
     "text": [
      "\u001b[32m[I 2023-04-08 16:45:54,633]\u001b[0m Trial 95 finished with value: 36.935089492603936 and parameters: {'max_depth': 7, 'learning_rate': 0.04917775403960872, 'n_estimators': 33, 'min_child_weight': 7, 'gamma': 2.237509380048029e-05, 'subsample': 0.4313321699140321, 'colsample_bytree': 0.11696422535939179}. Best is trial 92 with value: 16.98144161507129.\u001b[0m\n"
     ]
    },
    {
     "name": "stdout",
     "output_type": "stream",
     "text": [
      "MAPE:  0.22033258568790892\n",
      "MAE:  4.351255149393344\n"
     ]
    },
    {
     "name": "stderr",
     "output_type": "stream",
     "text": [
      "\u001b[32m[I 2023-04-08 16:46:06,141]\u001b[0m Trial 96 finished with value: 17.29830733687917 and parameters: {'max_depth': 7, 'learning_rate': 0.0457801810514654, 'n_estimators': 52, 'min_child_weight': 7, 'gamma': 5.585457737834266e-05, 'subsample': 0.34971121594591814, 'colsample_bytree': 0.14544941613205103}. Best is trial 92 with value: 16.98144161507129.\u001b[0m\n"
     ]
    },
    {
     "name": "stdout",
     "output_type": "stream",
     "text": [
      "MAPE:  0.12780803947987404\n",
      "MAE:  2.773807946792554\n"
     ]
    },
    {
     "name": "stderr",
     "output_type": "stream",
     "text": [
      "\u001b[32m[I 2023-04-08 16:46:10,988]\u001b[0m Trial 97 finished with value: 40.25449984636823 and parameters: {'max_depth': 7, 'learning_rate': 0.06947034388244493, 'n_estimators': 22, 'min_child_weight': 7, 'gamma': 1.003824926201162e-05, 'subsample': 0.36601672167060617, 'colsample_bytree': 0.12486003499823117}. Best is trial 92 with value: 16.98144161507129.\u001b[0m\n"
     ]
    },
    {
     "name": "stdout",
     "output_type": "stream",
     "text": [
      "MAPE:  0.22630969173495283\n",
      "MAE:  4.534630082315124\n"
     ]
    },
    {
     "name": "stderr",
     "output_type": "stream",
     "text": [
      "\u001b[32m[I 2023-04-08 16:46:21,191]\u001b[0m Trial 98 finished with value: 17.759006748635944 and parameters: {'max_depth': 7, 'learning_rate': 0.05666988381639304, 'n_estimators': 48, 'min_child_weight': 6, 'gamma': 1.9272197436713403e-05, 'subsample': 0.286934025797607, 'colsample_bytree': 0.14649078617142328}. Best is trial 92 with value: 16.98144161507129.\u001b[0m\n"
     ]
    },
    {
     "name": "stdout",
     "output_type": "stream",
     "text": [
      "MAPE:  0.12526095752894134\n",
      "MAE:  2.7703845053725176\n"
     ]
    },
    {
     "name": "stderr",
     "output_type": "stream",
     "text": [
      "\u001b[32m[I 2023-04-08 16:46:31,182]\u001b[0m Trial 99 finished with value: 23.884540754666734 and parameters: {'max_depth': 3, 'learning_rate': 0.06258599190808524, 'n_estimators': 69, 'min_child_weight': 7, 'gamma': 4.715310538548398e-05, 'subsample': 0.4510411782082597, 'colsample_bytree': 0.10256746599773371}. Best is trial 92 with value: 16.98144161507129.\u001b[0m\n"
     ]
    },
    {
     "name": "stdout",
     "output_type": "stream",
     "text": [
      "MAPE:  0.14501902188658777\n",
      "MAE:  3.41334038969134\n"
     ]
    }
   ],
   "source": [
    "horizon = [0.25]\n",
    "resample = [5]\n",
    "previous = [2]\n",
    "\n",
    "# Start resampling\n",
    "\n",
    "for resample_item in resample:\n",
    "\n",
    "    df_train = datos.copy()\n",
    "\n",
    "    df_train.drop(['ANHO', 'DIA', 'MES', 'HORA', 'MINUTO', 'DIA_TRAF_COD', 'TRAFICO_COD', 'TIPO_COD',\n",
    "                'MEDICION_DIA', 'MP1_ANTERIOR', 'MP2_5_ANTERIOR', 'MP10_ANTERIOR',\n",
    "                'TEMPERATURA_PRONOSTICO', 'HUMEDAD_PRONOSTICO', 'PRESION_PRONOSTICO'], axis = 1, inplace = True)\n",
    "\n",
    "    df_train = df_train.set_index('FECHAHORA', drop = True)\n",
    "\n",
    "    lista_resample = []\n",
    "\n",
    "    if resample_item != 5: \n",
    "\n",
    "        r_i = str(resample_item) + 'T'\n",
    "\n",
    "        for station in range(1,11):\n",
    "            df_aux = df_train[df_train['ESTACION'] == station]\n",
    "\n",
    "            df_aux = df_aux.resample(r_i).mean()\n",
    "            lista_resample.append(df_aux)\n",
    "\n",
    "        df_train = pd.concat(lista_resample)\n",
    "\n",
    "    df_train['ANHO'] = df_train.index.year\n",
    "    df_train['MES'] = df_train.index.month\n",
    "    df_train['HORA'] = df_train.index.hour\n",
    "    df_train['MINUTO'] = df_train.index.minute\n",
    "    df_train['DIA'] = df_train.index.day\n",
    "    df_train['FECHAHORA'] = df_train.index\n",
    "    df_train.reset_index(inplace = True, drop = True)\n",
    "\n",
    "    #df_train.to_csv('datos/experimento_full/train_resample_'+str(resample_item)+'_minutes.csv')\n",
    "\n",
    "    # OPTUNA\n",
    "\n",
    "    for previous_item in previous:\n",
    "        for horizon_item in horizon:\n",
    "            \n",
    "            estacion = 4\n",
    "\n",
    "            variables = ['MP1', 'MP2_5', 'AQI_MP10', 'AQI_MP2_5']\n",
    "\n",
    "            dependent = ['AQI_MP2_5']\n",
    "\n",
    "            number_of_features = len(variables)\n",
    "\n",
    "            training_days = previous_item\n",
    "            forecast_days = horizon_item\n",
    "\n",
    "            if resample_item == 5:\n",
    "                samples_per_day = 288\n",
    "            elif resample_item == 30:\n",
    "                samples_per_day = 48\n",
    "            elif resample_item == 60:\n",
    "                samples_per_day = 24\n",
    "\n",
    "            step = forecast_days*samples_per_day\n",
    "\n",
    "            train_months = relativedelta(months = 12)\n",
    "\n",
    "            input_samples = int(samples_per_day * training_days) # cantidad de muestras en 7 dias\n",
    "            output_samples = int(samples_per_day * forecast_days) # cantidad de muestras en 1 dia\n",
    "            train_test_samples = int(input_samples + output_samples) # cantidad de datos para el train_test\n",
    "\n",
    "            X_train, y_train, X_test, y_test = utils_xgboost.get_everything(df_train, \n",
    "                                                                estacion,\n",
    "                                                                train_months, \n",
    "                                                                variables, \n",
    "                                                                dependent, \n",
    "                                                                train_test_samples, \n",
    "                                                                input_samples, \n",
    "                                                                output_samples, \n",
    "                                                                number_of_features,\n",
    "                                                                step)\n",
    "\n",
    "\n",
    "            def objective(trial):\n",
    "    \n",
    "                params = {\n",
    "                    'max_depth': trial.suggest_int('max_depth', 1, 9),\n",
    "                    'learning_rate': trial.suggest_loguniform('learning_rate', 0.01, 1.0),\n",
    "                    'n_estimators': trial.suggest_int('n_estimators', 10, 300),\n",
    "                    'min_child_weight': trial.suggest_int('min_child_weight', 1, 10),\n",
    "                    'gamma': trial.suggest_loguniform('gamma', 1e-5, 1.0),\n",
    "                    'subsample': trial.suggest_loguniform('subsample', 0.01, 1.0),\n",
    "                    'colsample_bytree': trial.suggest_loguniform('colsample_bytree', 0.01, 1.0),\n",
    "                }\n",
    "                \n",
    "                optuna_xgb_model = xgb.XGBRegressor(** params)\n",
    "                \n",
    "                trained_xgb_model = MultiOutputRegressor(optuna_xgb_model).fit(X_train , y_train)\n",
    "\n",
    "                prediction = trained_xgb_model.predict(X_test)\n",
    "\n",
    "                MAPE = mean_absolute_percentage_error(prediction, y_test)\n",
    "                print('MAPE: ', MAPE)\n",
    "                MAE = np.mean(np.abs(prediction - y_test))\n",
    "                print('MAE: ', MAE)\n",
    "\n",
    "                MSE = mean_squared_error(prediction, y_test)\n",
    "                \n",
    "                return MSE\n",
    "\n",
    "            study = optuna.create_study(direction='minimize')\n",
    "\n",
    "            study.optimize(objective, n_trials = 100 )\n",
    "\n",
    "            trial = study.best_trial\n",
    "\n",
    "            joblib.dump(study, \"optuna_studies/XGBOOST/experimento_full/NORMALIZADO_study_XGBOOST_mejoresparam40_resample_\"+str(resample_item)+\"_horizon_\"+str(horizon_item)+\"_previous_\"+str(previous_item)+\".pkl\")\n",
    "\n",
    "            # VALIDATION\n",
    "\n",
    "            params = study.best_params\n",
    "\n",
    "            # study = joblib.load(\"optuna_studies/XGBOOST/experimento_full/study_XGBOOST_resample_\"+str(resample_item)+\"_horizon_\"+str(horizon_item)+\"_previous_\"+str(previous_item)+\".pkl\")\n",
    "\n",
    "            xgb_model = xgb.XGBRegressor(** params)\n",
    "\n",
    "            trained_xgb_model = MultiOutputRegressor(xgb_model).fit(X_train , y_train)\n",
    "            \n",
    "            prediction = trained_xgb_model.predict(X_test)\n",
    "            \n",
    "            predicciones = {}\n",
    "            metricas = {}\n",
    "            # guardamos los valores predecidos vs reales en un diccionario\n",
    "            \n",
    "            predicciones[4] = {'real' : y_test, 'prediccion': prediction}\n",
    "\n",
    "\n",
    "            mean_real = y_test.mean()\n",
    "            mean_prediction = prediction.mean()\n",
    "\n",
    "            MAPE = mean_absolute_percentage_error(prediction, y_test) * 100\n",
    "            MAE = mean_absolute_error(prediction, y_test)\n",
    "            RMSE = mean_squared_error(prediction, y_test, squared = False)\n",
    "            \n",
    "            # guardamos las metricas en un diccionario\n",
    "            \n",
    "            metricas[4] = {'MAE': MAE, \"MAPE\": MAPE, 'RMSE': RMSE, 'Media real' : mean_real, 'Media predecida': mean_prediction}\n",
    "\n",
    "            df_metricas = pd.DataFrame.from_dict(metricas)\n",
    "\n",
    "            df_metricas.to_csv('metrics/XGBOOST/experimento_full/NORMALIZADO_testing_xgboost_MEJORESPARAM_40_experimento_full_resample_'+str(resample_item)+'_horizon_'+str(horizon_item)+'_previous_'+str(previous_item)+'.csv')\n",
    "\n",
    "            list_dfs = []\n",
    "\n",
    "\n",
    "            d = {'TARGET': predicciones[4]['real'].flatten(), 'FORECAST': predicciones[4]['prediccion'].flatten()}\n",
    "            df_predicciones = pd.DataFrame(data = d)\n",
    "            df_predicciones['ESTACION'] = 4\n",
    "\n",
    "            df_predicciones.to_csv('datos/experimento_full/NORMALIZADO_predicciones_estacion4_MEJORESPARAM_40_resample_'+str(resample_item)+'_horizon_'+str(horizon_item)+'_previous_'+str(previous_item)+'.csv')"
   ]
  }
 ],
 "metadata": {
  "kernelspec": {
   "display_name": "base",
   "language": "python",
   "name": "python3"
  },
  "language_info": {
   "codemirror_mode": {
    "name": "ipython",
    "version": 3
   },
   "file_extension": ".py",
   "mimetype": "text/x-python",
   "name": "python",
   "nbconvert_exporter": "python",
   "pygments_lexer": "ipython3",
   "version": "3.8.5"
  },
  "orig_nbformat": 4,
  "vscode": {
   "interpreter": {
    "hash": "4e1faa792bacbae67199267b84e0032a5847eec8c781d8c9e3816631a80410b3"
   }
  }
 },
 "nbformat": 4,
 "nbformat_minor": 2
}
