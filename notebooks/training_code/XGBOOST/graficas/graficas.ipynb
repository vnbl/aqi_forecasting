{
 "cells": [
  {
   "cell_type": "code",
   "execution_count": 2,
   "metadata": {},
   "outputs": [],
   "source": [
    "# Directories\n",
    "import os\n",
    "\n",
    "new_directory = r'c://Users//Fer//TESIS_ARCHIVOS//TESIS_AIRE//MP_Forecasting//aqi_forecasting//notebooks'\n",
    "os.chdir(new_directory)\n",
    "\n",
    "# Data Manipulation\n",
    "import pandas as pd # for data manipulation\n",
    "import numpy as np # for data manipulation\n",
    "\n",
    "# Optuna\n",
    "import optuna\n",
    "import pickle\n",
    "\n",
    "# Tiempo\n",
    "import datetime as dt\n",
    "from dateutil.relativedelta import relativedelta, MO\n",
    "\n",
    "\n",
    "# Metricas\n",
    "from sklearn.metrics import mean_absolute_error #MAE\n",
    "from sklearn.metrics import mean_absolute_percentage_error #MAPE\n",
    "from sklearn.metrics import mean_squared_error #MSE, para RMSE: squared = False\n",
    "\n",
    "# Visualizations\n",
    "import plotly.graph_objects as go # for data visualization\n",
    "import plotly.express as px # for data visualization\n",
    "import matplotlib.pyplot as plt\n",
    "import seaborn as sn\n",
    "\n",
    "# Advertencias\n",
    "import warnings\n",
    "warnings.filterwarnings(\"ignore\")"
   ]
  },
  {
   "cell_type": "code",
   "execution_count": 3,
   "metadata": {},
   "outputs": [],
   "source": [
    "datos = pd.read_csv('datos/230313_test_resampled_con_predicciones_6_12_y_24.csv', parse_dates = ['FECHAHORA'])"
   ]
  },
  {
   "cell_type": "code",
   "execution_count": 6,
   "metadata": {},
   "outputs": [],
   "source": [
    "for i in range(1,11):\n",
    "\n",
    "    fig_val = go.Figure()\n",
    "\n",
    "    df_grafica = datos[datos['ESTACION'] == i]\n",
    "\n",
    "    fig_val.add_trace(\n",
    "        go.Scatter( y = list(df_grafica.AQI_MP2_5), x = list(df_grafica.FECHAHORA), name = 'AQI Real'))\n",
    "    fig_val.add_trace(\n",
    "        go.Scatter( y = list(df_grafica.FORECAST_24), x = list(df_grafica.FECHAHORA), name = 'Predicción 24hs'))\n",
    "\n",
    "    fig_val.add_trace(\n",
    "        go.Scatter( y = list(df_grafica.FORECAST_12), x = list(df_grafica.FECHAHORA), name = 'Predicción 12hs'))\n",
    "\n",
    "    fig_val.add_trace(\n",
    "        go.Scatter( y = list(df_grafica.FORECAST_6), x = list(df_grafica.FECHAHORA), name = 'Predicción 6hs'))\n",
    "\n",
    "    layout = go.Layout(\n",
    "        title=\"Title\",\n",
    "        xaxis=dict(\n",
    "            title=\"X Label\"\n",
    "        ),\n",
    "        yaxis=dict(\n",
    "            title=\"Y label\"\n",
    "        ) ) \n",
    "\n",
    "    fig_val.update_layout( \n",
    "                            title={\n",
    "                                'text': \"Estación \" + str(i) + \". AQI real vs Predicciones\",\n",
    "                                'y':0.9,\n",
    "                                'x':0.5,\n",
    "                                'xanchor': 'center',\n",
    "                                'yanchor': 'top'}, \n",
    "                        yaxis_title = 'AQI MP2.5', \n",
    "                        xaxis_title = 'Fecha',\n",
    "                        legend_title = 'Referencias',\n",
    "                            font=dict(\n",
    "                                    size=16,\n",
    "                                        ),\n",
    "                        )\n",
    "\n",
    "    fig_val.write_html('graphs/XGBOOST/RESAMPLED/XGBOOST_resampled_grafica_completa_estacion_'+str(i)+'_targets_vs_forecasts.html')"
   ]
  }
 ],
 "metadata": {
  "kernelspec": {
   "display_name": "base",
   "language": "python",
   "name": "python3"
  },
  "language_info": {
   "codemirror_mode": {
    "name": "ipython",
    "version": 3
   },
   "file_extension": ".py",
   "mimetype": "text/x-python",
   "name": "python",
   "nbconvert_exporter": "python",
   "pygments_lexer": "ipython3",
   "version": "3.8.5"
  },
  "orig_nbformat": 4
 },
 "nbformat": 4,
 "nbformat_minor": 2
}
