{
 "cells": [
  {
   "cell_type": "code",
   "execution_count": null,
   "id": "0c86f635",
   "metadata": {},
   "outputs": [],
   "source": [
    "# Data Manipulation\n",
    "import pandas as pd # for data manipulation\n",
    "import numpy as np # for data manipulation\n",
    "\n",
    "# Tiempo\n",
    "import datetime as dt\n",
    "from dateutil.relativedelta import relativedelta, MO\n",
    "\n",
    "# Visualizations\n",
    "import plotly.graph_objects as go # for data visualization\n",
    "import plotly.express as px # for data visualization\n",
    "import matplotlib.pyplot as plt\n",
    "\n",
    "# Advertencias\n",
    "import warnings\n",
    "warnings.filterwarnings(\"ignore\")"
   ]
  },
  {
   "cell_type": "markdown",
   "id": "86dc6337",
   "metadata": {},
   "source": [
    "# Cargamos los datos"
   ]
  },
  {
   "cell_type": "code",
   "execution_count": null,
   "id": "8d284c47",
   "metadata": {},
   "outputs": [],
   "source": [
    "datos = pd.read_csv('datos/230209_ESTACIONES.csv', parse_dates = ['FECHAHORA'])\n",
    "\n",
    "datos.head()"
   ]
  },
  {
   "cell_type": "code",
   "execution_count": null,
   "id": "40d161e8",
   "metadata": {},
   "outputs": [],
   "source": [
    "df = datos.copy()\n",
    "df.drop(['Unnamed: 0'], axis = 1, inplace = True)\n",
    "df.set_index(['FECHAHORA'], inplace = True)\n",
    "\n",
    "df.head()"
   ]
  },
  {
   "cell_type": "code",
   "execution_count": null,
   "id": "44b3be4a",
   "metadata": {},
   "outputs": [],
   "source": [
    "%matplotlib inline\n",
    "plt.style.use('seaborn')\n",
    "\n",
    "\n",
    "df_estacion = df[df['ESTACION'] == 3]\n",
    "df_estacion[['MP2_5', 'AQI_MP2_5']].resample('M').sum().plot();"
   ]
  },
  {
   "cell_type": "code",
   "execution_count": null,
   "id": "9690ca82",
   "metadata": {},
   "outputs": [],
   "source": [
    "fig = go.Figure()\n",
    "\n",
    "periodo = 'M'\n",
    "\n",
    "for i in range(1,11):\n",
    "    df_estacion = df[df['ESTACION'] == i]\n",
    "    f_max = df_estacion.index.max()\n",
    "    f_min = df_estacion.index.min()\n",
    "    \n",
    "    fechas = pd.date_range(f_min, f_max, freq = periodo)\n",
    "    fig.add_trace(\n",
    "        go.Scatter( x = fechas, y = list(df_estacion['AQI_MP2_5'].resample(periodo).mean()), name = 'Estacion ' + str(i)))\n",
    "\n",
    "fig.update_layout(title_text = \"Tendencias - AQI - media mensual\")"
   ]
  },
  {
   "cell_type": "markdown",
   "id": "15032188",
   "metadata": {},
   "source": [
    "# Análisis de varianza"
   ]
  },
  {
   "cell_type": "code",
   "execution_count": null,
   "id": "d874c88b",
   "metadata": {},
   "outputs": [],
   "source": [
    "fig1 = go.Figure()\n",
    "\n",
    "periodo = '3M'\n",
    "\n",
    "for i in range(1,11):\n",
    "    df_estacion = df[df['ESTACION'] == i]\n",
    "    f_max = df_estacion.index.max()\n",
    "    f_min = df_estacion.index.min()\n",
    "    \n",
    "    fechas = pd.date_range(f_min, f_max, freq = periodo)\n",
    "    fig1.add_trace(\n",
    "        go.Scatter( x = fechas, y = list(df_estacion['AQI_MP2_5'].resample(periodo).var()), name = 'Estacion ' + str(i)))\n",
    "\n",
    "fig1.update_layout(title_text = \"Tendencias - AQI - varianza mensual\")"
   ]
  },
  {
   "cell_type": "code",
   "execution_count": null,
   "id": "0f1960c3",
   "metadata": {},
   "outputs": [],
   "source": [
    "fig2 = go.Figure()\n",
    "\n",
    "for i in range(1,11):\n",
    "    df_estacion = df[df['ESTACION'] == i]\n",
    "    \n",
    "    fig2.add_trace(\n",
    "        go.Scatter( x = df_estacion.index, y = list(df_estacion['AQI_MP2_5']), name = 'Estacion ' + str(i)))\n",
    "\n",
    "fig2.update_layout(title_text = \"Graficas AQI\")"
   ]
  }
 ],
 "metadata": {
  "kernelspec": {
   "display_name": "Python 3 (ipykernel)",
   "language": "python",
   "name": "python3"
  },
  "language_info": {
   "codemirror_mode": {
    "name": "ipython",
    "version": 3
   },
   "file_extension": ".py",
   "mimetype": "text/x-python",
   "name": "python",
   "nbconvert_exporter": "python",
   "pygments_lexer": "ipython3",
   "version": "3.8.5"
  }
 },
 "nbformat": 4,
 "nbformat_minor": 5
}
